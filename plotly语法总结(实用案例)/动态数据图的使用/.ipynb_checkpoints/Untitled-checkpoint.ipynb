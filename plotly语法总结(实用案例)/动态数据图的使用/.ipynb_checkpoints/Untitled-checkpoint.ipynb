{
 "cells": [
  {
   "cell_type": "code",
   "execution_count": 2,
   "metadata": {},
   "outputs": [],
   "source": [
    "import pandas as pd\n",
    "from raceplotly.plots import barplot"
   ]
  },
  {
   "cell_type": "code",
   "execution_count": 4,
   "metadata": {},
   "outputs": [
    {
     "data": {
      "application/vnd.plotly.v1+json": {
       "config": {
        "plotlyServerURL": "https://plotly.com"
       },
       "data": [
        {
         "cliponaxis": false,
         "hoverinfo": "all",
         "marker": {
          "color": [
           "rgb(191, 94, 110)",
           "rgb(107, 27, 235)",
           "rgb(12, 46, 186)",
           "rgb(222, 180, 201)",
           "rgb(133, 10, 182)",
           "rgb(142, 153, 131)",
           "rgb(165, 95, 93)",
           "rgb(87, 228, 34)",
           "rgb(141, 125, 232)",
           "rgb(174, 70, 226)"
          ]
         },
         "orientation": "h",
         "textangle": 0,
         "textposition": "outside",
         "texttemplate": "%{y}<br>%{x:.4s}",
         "type": "bar",
         "x": [
          71259839,
          72411104,
          98192635,
          143836304,
          160501987,
          205027583,
          215646633,
          222357231,
          270552196,
          447977522
         ],
         "y": [
          "Cassava",
          "Barley",
          "Sweet potatoes",
          "Rice, paddy (rice milled equivalent)",
          "Sugar beet",
          "Maize",
          "Rice, paddy",
          "Wheat",
          "Potatoes",
          "Sugar cane"
         ]
        }
       ],
       "frames": [
        {
         "data": [
          {
           "cliponaxis": false,
           "hoverinfo": "all",
           "hovertemplate": "<extra></extra>",
           "marker": {
            "color": [
             "rgb(191, 94, 110)",
             "rgb(107, 27, 235)",
             "rgb(12, 46, 186)",
             "rgb(222, 180, 201)",
             "rgb(133, 10, 182)",
             "rgb(142, 153, 131)",
             "rgb(165, 95, 93)",
             "rgb(87, 228, 34)",
             "rgb(141, 125, 232)",
             "rgb(174, 70, 226)"
            ]
           },
           "orientation": "h",
           "textangle": 0,
           "textposition": "outside",
           "texttemplate": "%{y}<br>%{x:.4s}",
           "type": "bar",
           "x": [
            71259839,
            72411104,
            98192635,
            143836304,
            160501987,
            205027583,
            215646633,
            222357231,
            270552196,
            447977522
           ],
           "y": [
            "Cassava",
            "Barley",
            "Sweet potatoes",
            "Rice, paddy (rice milled equivalent)",
            "Sugar beet",
            "Maize",
            "Rice, paddy",
            "Wheat",
            "Potatoes",
            "Sugar cane"
           ]
          }
         ],
         "layout": {
          "bargap": 0.15,
          "font": {
           "size": 14
          },
          "plot_bgcolor": "#FFFFFF",
          "xaxis": {
           "range": [
            0,
            1907024730
           ],
           "showline": true,
           "visible": true
          },
          "yaxis": {
           "showline": false,
           "visible": true
          }
         },
         "name": "1961"
        },
        {
         "data": [
          {
           "cliponaxis": false,
           "hoverinfo": "all",
           "hovertemplate": "<extra></extra>",
           "marker": {
            "color": [
             "rgb(191, 94, 110)",
             "rgb(107, 27, 235)",
             "rgb(12, 46, 186)",
             "rgb(133, 10, 182)",
             "rgb(222, 180, 201)",
             "rgb(142, 153, 131)",
             "rgb(165, 95, 93)",
             "rgb(87, 228, 34)",
             "rgb(141, 125, 232)",
             "rgb(174, 70, 226)"
            ]
           },
           "orientation": "h",
           "textangle": 0,
           "textposition": "outside",
           "texttemplate": "%{y}<br>%{x:.4s}",
           "type": "bar",
           "x": [
            74636680,
            88396959,
            105291106,
            149172711,
            151046350,
            204876937,
            226456297,
            250319146,
            252987460,
            436872640
           ],
           "y": [
            "Cassava",
            "Barley",
            "Sweet potatoes",
            "Sugar beet",
            "Rice, paddy (rice milled equivalent)",
            "Maize",
            "Rice, paddy",
            "Wheat",
            "Potatoes",
            "Sugar cane"
           ]
          }
         ],
         "layout": {
          "bargap": 0.15,
          "font": {
           "size": 14
          },
          "plot_bgcolor": "#FFFFFF",
          "xaxis": {
           "range": [
            0,
            1907024730
           ],
           "showline": true,
           "visible": true
          },
          "yaxis": {
           "showline": false,
           "visible": true
          }
         },
         "name": "1962"
        },
        {
         "data": [
          {
           "cliponaxis": false,
           "hoverinfo": "all",
           "hovertemplate": "<extra></extra>",
           "marker": {
            "color": [
             "rgb(191, 94, 110)",
             "rgb(107, 27, 235)",
             "rgb(12, 46, 186)",
             "rgb(222, 180, 201)",
             "rgb(133, 10, 182)",
             "rgb(142, 153, 131)",
             "rgb(87, 228, 34)",
             "rgb(165, 95, 93)",
             "rgb(141, 125, 232)",
             "rgb(174, 70, 226)"
            ]
           },
           "orientation": "h",
           "textangle": 0,
           "textposition": "outside",
           "texttemplate": "%{y}<br>%{x:.4s}",
           "type": "bar",
           "x": [
            77975688,
            90385850,
            98009159,
            164828514,
            164975629,
            220228333,
            233339473,
            247119211,
            269982498,
            439927902
           ],
           "y": [
            "Cassava",
            "Barley",
            "Sweet potatoes",
            "Rice, paddy (rice milled equivalent)",
            "Sugar beet",
            "Maize",
            "Wheat",
            "Rice, paddy",
            "Potatoes",
            "Sugar cane"
           ]
          }
         ],
         "layout": {
          "bargap": 0.15,
          "font": {
           "size": 14
          },
          "plot_bgcolor": "#FFFFFF",
          "xaxis": {
           "range": [
            0,
            1907024730
           ],
           "showline": true,
           "visible": true
          },
          "yaxis": {
           "showline": false,
           "visible": true
          }
         },
         "name": "1963"
        },
        {
         "data": [
          {
           "cliponaxis": false,
           "hoverinfo": "all",
           "hovertemplate": "<extra></extra>",
           "marker": {
            "color": [
             "rgb(191, 94, 110)",
             "rgb(12, 46, 186)",
             "rgb(107, 27, 235)",
             "rgb(222, 180, 201)",
             "rgb(142, 153, 131)",
             "rgb(133, 10, 182)",
             "rgb(165, 95, 93)",
             "rgb(87, 228, 34)",
             "rgb(141, 125, 232)",
             "rgb(174, 70, 226)"
            ]
           },
           "orientation": "h",
           "textangle": 0,
           "textposition": "outside",
           "texttemplate": "%{y}<br>%{x:.4s}",
           "type": "bar",
           "x": [
            82429399,
            93377412,
            95524923,
            175373614,
            215172627,
            216206931,
            262928956,
            268791657,
            284678614,
            480849768
           ],
           "y": [
            "Cassava",
            "Sweet potatoes",
            "Barley",
            "Rice, paddy (rice milled equivalent)",
            "Maize",
            "Sugar beet",
            "Rice, paddy",
            "Wheat",
            "Potatoes",
            "Sugar cane"
           ]
          }
         ],
         "layout": {
          "bargap": 0.15,
          "font": {
           "size": 14
          },
          "plot_bgcolor": "#FFFFFF",
          "xaxis": {
           "range": [
            0,
            1907024730
           ],
           "showline": true,
           "visible": true
          },
          "yaxis": {
           "showline": false,
           "visible": true
          }
         },
         "name": "1964"
        },
        {
         "data": [
          {
           "cliponaxis": false,
           "hoverinfo": "all",
           "hovertemplate": "<extra></extra>",
           "marker": {
            "color": [
             "rgb(191, 94, 110)",
             "rgb(107, 27, 235)",
             "rgb(12, 46, 186)",
             "rgb(222, 180, 201)",
             "rgb(133, 10, 182)",
             "rgb(142, 153, 131)",
             "rgb(165, 95, 93)",
             "rgb(87, 228, 34)",
             "rgb(141, 125, 232)",
             "rgb(174, 70, 226)"
            ]
           },
           "orientation": "h",
           "textangle": 0,
           "textposition": "outside",
           "texttemplate": "%{y}<br>%{x:.4s}",
           "type": "bar",
           "x": [
            85582843,
            92617012,
            108377879,
            169457796,
            197376224,
            226544256,
            254059664,
            263645963,
            270913502,
            531297486
           ],
           "y": [
            "Cassava",
            "Barley",
            "Sweet potatoes",
            "Rice, paddy (rice milled equivalent)",
            "Sugar beet",
            "Maize",
            "Rice, paddy",
            "Wheat",
            "Potatoes",
            "Sugar cane"
           ]
          }
         ],
         "layout": {
          "bargap": 0.15,
          "font": {
           "size": 14
          },
          "plot_bgcolor": "#FFFFFF",
          "xaxis": {
           "range": [
            0,
            1907024730
           ],
           "showline": true,
           "visible": true
          },
          "yaxis": {
           "showline": false,
           "visible": true
          }
         },
         "name": "1965"
        },
        {
         "data": [
          {
           "cliponaxis": false,
           "hoverinfo": "all",
           "hovertemplate": "<extra></extra>",
           "marker": {
            "color": [
             "rgb(191, 94, 110)",
             "rgb(107, 27, 235)",
             "rgb(12, 46, 186)",
             "rgb(222, 180, 201)",
             "rgb(133, 10, 182)",
             "rgb(142, 153, 131)",
             "rgb(165, 95, 93)",
             "rgb(141, 125, 232)",
             "rgb(87, 228, 34)",
             "rgb(174, 70, 226)"
            ]
           },
           "orientation": "h",
           "textangle": 0,
           "textposition": "outside",
           "texttemplate": "%{y}<br>%{x:.4s}",
           "type": "bar",
           "x": [
            84718809,
            100425696,
            119686566,
            174207899,
            212270253,
            245599160,
            261181258,
            281964109,
            303785460,
            531492823
           ],
           "y": [
            "Cassava",
            "Barley",
            "Sweet potatoes",
            "Rice, paddy (rice milled equivalent)",
            "Sugar beet",
            "Maize",
            "Rice, paddy",
            "Potatoes",
            "Wheat",
            "Sugar cane"
           ]
          }
         ],
         "layout": {
          "bargap": 0.15,
          "font": {
           "size": 14
          },
          "plot_bgcolor": "#FFFFFF",
          "xaxis": {
           "range": [
            0,
            1907024730
           ],
           "showline": true,
           "visible": true
          },
          "yaxis": {
           "showline": false,
           "visible": true
          }
         },
         "name": "1966"
        },
        {
         "data": [
          {
           "cliponaxis": false,
           "hoverinfo": "all",
           "hovertemplate": "<extra></extra>",
           "marker": {
            "color": [
             "rgb(191, 94, 110)",
             "rgb(107, 27, 235)",
             "rgb(12, 46, 186)",
             "rgb(222, 180, 201)",
             "rgb(133, 10, 182)",
             "rgb(142, 153, 131)",
             "rgb(165, 95, 93)",
             "rgb(87, 228, 34)",
             "rgb(141, 125, 232)",
             "rgb(174, 70, 226)"
            ]
           },
           "orientation": "h",
           "textangle": 0,
           "textposition": "outside",
           "texttemplate": "%{y}<br>%{x:.4s}",
           "type": "bar",
           "x": [
            88630176,
            103177495,
            118614438,
            185016704,
            233455177,
            272548473,
            277386363,
            294295876,
            296220305,
            518890895
           ],
           "y": [
            "Cassava",
            "Barley",
            "Sweet potatoes",
            "Rice, paddy (rice milled equivalent)",
            "Sugar beet",
            "Maize",
            "Rice, paddy",
            "Wheat",
            "Potatoes",
            "Sugar cane"
           ]
          }
         ],
         "layout": {
          "bargap": 0.15,
          "font": {
           "size": 14
          },
          "plot_bgcolor": "#FFFFFF",
          "xaxis": {
           "range": [
            0,
            1907024730
           ],
           "showline": true,
           "visible": true
          },
          "yaxis": {
           "showline": false,
           "visible": true
          }
         },
         "name": "1967"
        },
        {
         "data": [
          {
           "cliponaxis": false,
           "hoverinfo": "all",
           "hovertemplate": "<extra></extra>",
           "marker": {
            "color": [
             "rgb(191, 94, 110)",
             "rgb(107, 27, 235)",
             "rgb(12, 46, 186)",
             "rgb(222, 180, 201)",
             "rgb(133, 10, 182)",
             "rgb(142, 153, 131)",
             "rgb(165, 95, 93)",
             "rgb(141, 125, 232)",
             "rgb(87, 228, 34)",
             "rgb(174, 70, 226)"
            ]
           },
           "orientation": "h",
           "textangle": 0,
           "textposition": "outside",
           "texttemplate": "%{y}<br>%{x:.4s}",
           "type": "bar",
           "x": [
            93090059,
            113504505,
            118097469,
            192512413,
            248856658,
            255670551,
            288624308,
            303709120,
            326843941,
            506091880
           ],
           "y": [
            "Cassava",
            "Barley",
            "Sweet potatoes",
            "Rice, paddy (rice milled equivalent)",
            "Sugar beet",
            "Maize",
            "Rice, paddy",
            "Potatoes",
            "Wheat",
            "Sugar cane"
           ]
          }
         ],
         "layout": {
          "bargap": 0.15,
          "font": {
           "size": 14
          },
          "plot_bgcolor": "#FFFFFF",
          "xaxis": {
           "range": [
            0,
            1907024730
           ],
           "showline": true,
           "visible": true
          },
          "yaxis": {
           "showline": false,
           "visible": true
          }
         },
         "name": "1968"
        },
        {
         "data": [
          {
           "cliponaxis": false,
           "hoverinfo": "all",
           "hovertemplate": "<extra></extra>",
           "marker": {
            "color": [
             "rgb(191, 94, 110)",
             "rgb(107, 27, 235)",
             "rgb(12, 46, 186)",
             "rgb(222, 180, 201)",
             "rgb(133, 10, 182)",
             "rgb(142, 153, 131)",
             "rgb(141, 125, 232)",
             "rgb(165, 95, 93)",
             "rgb(87, 228, 34)",
             "rgb(174, 70, 226)"
            ]
           },
           "orientation": "h",
           "textangle": 0,
           "textposition": "outside",
           "texttemplate": "%{y}<br>%{x:.4s}",
           "type": "bar",
           "x": [
            95325330,
            118006371,
            126160704,
            197154789,
            216920772,
            269506068,
            278475710,
            295584391,
            308640283,
            538255737
           ],
           "y": [
            "Cassava",
            "Barley",
            "Sweet potatoes",
            "Rice, paddy (rice milled equivalent)",
            "Sugar beet",
            "Maize",
            "Potatoes",
            "Rice, paddy",
            "Wheat",
            "Sugar cane"
           ]
          }
         ],
         "layout": {
          "bargap": 0.15,
          "font": {
           "size": 14
          },
          "plot_bgcolor": "#FFFFFF",
          "xaxis": {
           "range": [
            0,
            1907024730
           ],
           "showline": true,
           "visible": true
          },
          "yaxis": {
           "showline": false,
           "visible": true
          }
         },
         "name": "1969"
        },
        {
         "data": [
          {
           "cliponaxis": false,
           "hoverinfo": "all",
           "hovertemplate": "<extra></extra>",
           "marker": {
            "color": [
             "rgb(191, 94, 110)",
             "rgb(107, 27, 235)",
             "rgb(12, 46, 186)",
             "rgb(222, 180, 201)",
             "rgb(133, 10, 182)",
             "rgb(142, 153, 131)",
             "rgb(141, 125, 232)",
             "rgb(87, 228, 34)",
             "rgb(165, 95, 93)",
             "rgb(174, 70, 226)"
            ]
           },
           "orientation": "h",
           "textangle": 0,
           "textposition": "outside",
           "texttemplate": "%{y}<br>%{x:.4s}",
           "type": "bar",
           "x": [
            98589699,
            119378695,
            136507488,
            211002584,
            224251952,
            265831145,
            298048017,
            310740954,
            316345703,
            608616105
           ],
           "y": [
            "Cassava",
            "Barley",
            "Sweet potatoes",
            "Rice, paddy (rice milled equivalent)",
            "Sugar beet",
            "Maize",
            "Potatoes",
            "Wheat",
            "Rice, paddy",
            "Sugar cane"
           ]
          }
         ],
         "layout": {
          "bargap": 0.15,
          "font": {
           "size": 14
          },
          "plot_bgcolor": "#FFFFFF",
          "xaxis": {
           "range": [
            0,
            1907024730
           ],
           "showline": true,
           "visible": true
          },
          "yaxis": {
           "showline": false,
           "visible": true
          }
         },
         "name": "1970"
        },
        {
         "data": [
          {
           "cliponaxis": false,
           "hoverinfo": "all",
           "hovertemplate": "<extra></extra>",
           "marker": {
            "color": [
             "rgb(191, 94, 110)",
             "rgb(12, 46, 186)",
             "rgb(107, 27, 235)",
             "rgb(222, 180, 201)",
             "rgb(133, 10, 182)",
             "rgb(141, 125, 232)",
             "rgb(142, 153, 131)",
             "rgb(165, 95, 93)",
             "rgb(87, 228, 34)",
             "rgb(174, 70, 226)"
            ]
           },
           "orientation": "h",
           "textangle": 0,
           "textposition": "outside",
           "texttemplate": "%{y}<br>%{x:.4s}",
           "type": "bar",
           "x": [
            98756434,
            127252781,
            131237044,
            211914188,
            227540795,
            279490572,
            313622622,
            317712426,
            347525581,
            582105426
           ],
           "y": [
            "Cassava",
            "Sweet potatoes",
            "Barley",
            "Rice, paddy (rice milled equivalent)",
            "Sugar beet",
            "Potatoes",
            "Maize",
            "Rice, paddy",
            "Wheat",
            "Sugar cane"
           ]
          }
         ],
         "layout": {
          "bargap": 0.15,
          "font": {
           "size": 14
          },
          "plot_bgcolor": "#FFFFFF",
          "xaxis": {
           "range": [
            0,
            1907024730
           ],
           "showline": true,
           "visible": true
          },
          "yaxis": {
           "showline": false,
           "visible": true
          }
         },
         "name": "1971"
        },
        {
         "data": [
          {
           "cliponaxis": false,
           "hoverinfo": "all",
           "hovertemplate": "<extra></extra>",
           "marker": {
            "color": [
             "rgb(191, 94, 110)",
             "rgb(12, 46, 186)",
             "rgb(107, 27, 235)",
             "rgb(222, 180, 201)",
             "rgb(133, 10, 182)",
             "rgb(141, 125, 232)",
             "rgb(165, 95, 93)",
             "rgb(142, 153, 131)",
             "rgb(87, 228, 34)",
             "rgb(174, 70, 226)"
            ]
           },
           "orientation": "h",
           "textangle": 0,
           "textposition": "outside",
           "texttemplate": "%{y}<br>%{x:.4s}",
           "type": "bar",
           "x": [
            101261515,
            121467494,
            132963909,
            204962388,
            240336963,
            272144812,
            307289937,
            308826290,
            343001429,
            569105570
           ],
           "y": [
            "Cassava",
            "Sweet potatoes",
            "Barley",
            "Rice, paddy (rice milled equivalent)",
            "Sugar beet",
            "Potatoes",
            "Rice, paddy",
            "Maize",
            "Wheat",
            "Sugar cane"
           ]
          }
         ],
         "layout": {
          "bargap": 0.15,
          "font": {
           "size": 14
          },
          "plot_bgcolor": "#FFFFFF",
          "xaxis": {
           "range": [
            0,
            1907024730
           ],
           "showline": true,
           "visible": true
          },
          "yaxis": {
           "showline": false,
           "visible": true
          }
         },
         "name": "1972"
        },
        {
         "data": [
          {
           "cliponaxis": false,
           "hoverinfo": "all",
           "hovertemplate": "<extra></extra>",
           "marker": {
            "color": [
             "rgb(191, 94, 110)",
             "rgb(107, 27, 235)",
             "rgb(12, 46, 186)",
             "rgb(222, 180, 201)",
             "rgb(133, 10, 182)",
             "rgb(141, 125, 232)",
             "rgb(142, 153, 131)",
             "rgb(165, 95, 93)",
             "rgb(87, 228, 34)",
             "rgb(174, 70, 226)"
            ]
           },
           "orientation": "h",
           "textangle": 0,
           "textposition": "outside",
           "texttemplate": "%{y}<br>%{x:.4s}",
           "type": "bar",
           "x": [
            101734795,
            146966081,
            152865329,
            223397535,
            250104320,
            307160130,
            318290469,
            334928838,
            369334126,
            600227145
           ],
           "y": [
            "Cassava",
            "Barley",
            "Sweet potatoes",
            "Rice, paddy (rice milled equivalent)",
            "Sugar beet",
            "Potatoes",
            "Maize",
            "Rice, paddy",
            "Wheat",
            "Sugar cane"
           ]
          }
         ],
         "layout": {
          "bargap": 0.15,
          "font": {
           "size": 14
          },
          "plot_bgcolor": "#FFFFFF",
          "xaxis": {
           "range": [
            0,
            1907024730
           ],
           "showline": true,
           "visible": true
          },
          "yaxis": {
           "showline": false,
           "visible": true
          }
         },
         "name": "1973"
        },
        {
         "data": [
          {
           "cliponaxis": false,
           "hoverinfo": "all",
           "hovertemplate": "<extra></extra>",
           "marker": {
            "color": [
             "rgb(191, 94, 110)",
             "rgb(12, 46, 186)",
             "rgb(107, 27, 235)",
             "rgb(222, 180, 201)",
             "rgb(133, 10, 182)",
             "rgb(141, 125, 232)",
             "rgb(142, 153, 131)",
             "rgb(165, 95, 93)",
             "rgb(87, 228, 34)",
             "rgb(174, 70, 226)"
            ]
           },
           "orientation": "h",
           "textangle": 0,
           "textposition": "outside",
           "texttemplate": "%{y}<br>%{x:.4s}",
           "type": "bar",
           "x": [
            104370567,
            137264243,
            148818870,
            221424400,
            234922029,
            284781339,
            306427347,
            331970614,
            358825442,
            648516497
           ],
           "y": [
            "Cassava",
            "Sweet potatoes",
            "Barley",
            "Rice, paddy (rice milled equivalent)",
            "Sugar beet",
            "Potatoes",
            "Maize",
            "Rice, paddy",
            "Wheat",
            "Sugar cane"
           ]
          }
         ],
         "layout": {
          "bargap": 0.15,
          "font": {
           "size": 14
          },
          "plot_bgcolor": "#FFFFFF",
          "xaxis": {
           "range": [
            0,
            1907024730
           ],
           "showline": true,
           "visible": true
          },
          "yaxis": {
           "showline": false,
           "visible": true
          }
         },
         "name": "1974"
        },
        {
         "data": [
          {
           "cliponaxis": false,
           "hoverinfo": "all",
           "hovertemplate": "<extra></extra>",
           "marker": {
            "color": [
             "rgb(191, 94, 110)",
             "rgb(107, 27, 235)",
             "rgb(12, 46, 186)",
             "rgb(222, 180, 201)",
             "rgb(133, 10, 182)",
             "rgb(141, 125, 232)",
             "rgb(142, 153, 131)",
             "rgb(87, 228, 34)",
             "rgb(165, 95, 93)",
             "rgb(174, 70, 226)"
            ]
           },
           "orientation": "h",
           "textangle": 0,
           "textposition": "outside",
           "texttemplate": "%{y}<br>%{x:.4s}",
           "type": "bar",
           "x": [
            110398445,
            135491720,
            141314403,
            238094381,
            251310276,
            270384075,
            341751971,
            355806146,
            356963090,
            655815792
           ],
           "y": [
            "Cassava",
            "Barley",
            "Sweet potatoes",
            "Rice, paddy (rice milled equivalent)",
            "Sugar beet",
            "Potatoes",
            "Maize",
            "Wheat",
            "Rice, paddy",
            "Sugar cane"
           ]
          }
         ],
         "layout": {
          "bargap": 0.15,
          "font": {
           "size": 14
          },
          "plot_bgcolor": "#FFFFFF",
          "xaxis": {
           "range": [
            0,
            1907024730
           ],
           "showline": true,
           "visible": true
          },
          "yaxis": {
           "showline": false,
           "visible": true
          }
         },
         "name": "1975"
        },
        {
         "data": [
          {
           "cliponaxis": false,
           "hoverinfo": "all",
           "hovertemplate": "<extra></extra>",
           "marker": {
            "color": [
             "rgb(191, 94, 110)",
             "rgb(12, 46, 186)",
             "rgb(107, 27, 235)",
             "rgb(222, 180, 201)",
             "rgb(141, 125, 232)",
             "rgb(133, 10, 182)",
             "rgb(165, 95, 93)",
             "rgb(142, 153, 131)",
             "rgb(87, 228, 34)",
             "rgb(174, 70, 226)"
            ]
           },
           "orientation": "h",
           "textangle": 0,
           "textposition": "outside",
           "texttemplate": "%{y}<br>%{x:.4s}",
           "type": "bar",
           "x": [
            113892497,
            133322031,
            166595806,
            231906870,
            272745276,
            296408369,
            347686462,
            352395866,
            419868031,
            687207538
           ],
           "y": [
            "Cassava",
            "Sweet potatoes",
            "Barley",
            "Rice, paddy (rice milled equivalent)",
            "Potatoes",
            "Sugar beet",
            "Rice, paddy",
            "Maize",
            "Wheat",
            "Sugar cane"
           ]
          }
         ],
         "layout": {
          "bargap": 0.15,
          "font": {
           "size": 14
          },
          "plot_bgcolor": "#FFFFFF",
          "xaxis": {
           "range": [
            0,
            1907024730
           ],
           "showline": true,
           "visible": true
          },
          "yaxis": {
           "showline": false,
           "visible": true
          }
         },
         "name": "1976"
        },
        {
         "data": [
          {
           "cliponaxis": false,
           "hoverinfo": "all",
           "hovertemplate": "<extra></extra>",
           "marker": {
            "color": [
             "rgb(191, 94, 110)",
             "rgb(12, 46, 186)",
             "rgb(107, 27, 235)",
             "rgb(222, 180, 201)",
             "rgb(141, 125, 232)",
             "rgb(133, 10, 182)",
             "rgb(165, 95, 93)",
             "rgb(142, 153, 131)",
             "rgb(87, 228, 34)",
             "rgb(174, 70, 226)"
            ]
           },
           "orientation": "h",
           "textangle": 0,
           "textposition": "outside",
           "texttemplate": "%{y}<br>%{x:.4s}",
           "type": "bar",
           "x": [
            118605256,
            143107584,
            156386493,
            246443929,
            279667694,
            288582476,
            369481153,
            371593355,
            382276677,
            734858286
           ],
           "y": [
            "Cassava",
            "Sweet potatoes",
            "Barley",
            "Rice, paddy (rice milled equivalent)",
            "Potatoes",
            "Sugar beet",
            "Rice, paddy",
            "Maize",
            "Wheat",
            "Sugar cane"
           ]
          }
         ],
         "layout": {
          "bargap": 0.15,
          "font": {
           "size": 14
          },
          "plot_bgcolor": "#FFFFFF",
          "xaxis": {
           "range": [
            0,
            1907024730
           ],
           "showline": true,
           "visible": true
          },
          "yaxis": {
           "showline": false,
           "visible": true
          }
         },
         "name": "1977"
        },
        {
         "data": [
          {
           "cliponaxis": false,
           "hoverinfo": "all",
           "hovertemplate": "<extra></extra>",
           "marker": {
            "color": [
             "rgb(191, 94, 110)",
             "rgb(12, 46, 186)",
             "rgb(107, 27, 235)",
             "rgb(222, 180, 201)",
             "rgb(133, 10, 182)",
             "rgb(141, 125, 232)",
             "rgb(165, 95, 93)",
             "rgb(142, 153, 131)",
             "rgb(87, 228, 34)",
             "rgb(174, 70, 226)"
            ]
           },
           "orientation": "h",
           "textangle": 0,
           "textposition": "outside",
           "texttemplate": "%{y}<br>%{x:.4s}",
           "type": "bar",
           "x": [
            123308473,
            151857764,
            174929309,
            256934233,
            282834069,
            291161652,
            385208745,
            393600091,
            443844880,
            774416858
           ],
           "y": [
            "Cassava",
            "Sweet potatoes",
            "Barley",
            "Rice, paddy (rice milled equivalent)",
            "Sugar beet",
            "Potatoes",
            "Rice, paddy",
            "Maize",
            "Wheat",
            "Sugar cane"
           ]
          }
         ],
         "layout": {
          "bargap": 0.15,
          "font": {
           "size": 14
          },
          "plot_bgcolor": "#FFFFFF",
          "xaxis": {
           "range": [
            0,
            1907024730
           ],
           "showline": true,
           "visible": true
          },
          "yaxis": {
           "showline": false,
           "visible": true
          }
         },
         "name": "1978"
        },
        {
         "data": [
          {
           "cliponaxis": false,
           "hoverinfo": "all",
           "hovertemplate": "<extra></extra>",
           "marker": {
            "color": [
             "rgb(191, 94, 110)",
             "rgb(12, 46, 186)",
             "rgb(107, 27, 235)",
             "rgb(222, 180, 201)",
             "rgb(133, 10, 182)",
             "rgb(141, 125, 232)",
             "rgb(165, 95, 93)",
             "rgb(142, 153, 131)",
             "rgb(87, 228, 34)",
             "rgb(174, 70, 226)"
            ]
           },
           "orientation": "h",
           "textangle": 0,
           "textposition": "outside",
           "texttemplate": "%{y}<br>%{x:.4s}",
           "type": "bar",
           "x": [
            119745423,
            137935647,
            154989948,
            250292923,
            262752809,
            297921605,
            375251758,
            418622993,
            422999301,
            770245178
           ],
           "y": [
            "Cassava",
            "Sweet potatoes",
            "Barley",
            "Rice, paddy (rice milled equivalent)",
            "Sugar beet",
            "Potatoes",
            "Rice, paddy",
            "Maize",
            "Wheat",
            "Sugar cane"
           ]
          }
         ],
         "layout": {
          "bargap": 0.15,
          "font": {
           "size": 14
          },
          "plot_bgcolor": "#FFFFFF",
          "xaxis": {
           "range": [
            0,
            1907024730
           ],
           "showline": true,
           "visible": true
          },
          "yaxis": {
           "showline": false,
           "visible": true
          }
         },
         "name": "1979"
        },
        {
         "data": [
          {
           "cliponaxis": false,
           "hoverinfo": "all",
           "hovertemplate": "<extra></extra>",
           "marker": {
            "color": [
             "rgb(191, 94, 110)",
             "rgb(12, 46, 186)",
             "rgb(107, 27, 235)",
             "rgb(141, 125, 232)",
             "rgb(222, 180, 201)",
             "rgb(133, 10, 182)",
             "rgb(142, 153, 131)",
             "rgb(165, 95, 93)",
             "rgb(87, 228, 34)",
             "rgb(174, 70, 226)"
            ]
           },
           "orientation": "h",
           "textangle": 0,
           "textposition": "outside",
           "texttemplate": "%{y}<br>%{x:.4s}",
           "type": "bar",
           "x": [
            124135066,
            137869239,
            156702822,
            240495788,
            264713164,
            267856451,
            396623388,
            396871310,
            440187901,
            734489200
           ],
           "y": [
            "Cassava",
            "Sweet potatoes",
            "Barley",
            "Potatoes",
            "Rice, paddy (rice milled equivalent)",
            "Sugar beet",
            "Maize",
            "Rice, paddy",
            "Wheat",
            "Sugar cane"
           ]
          }
         ],
         "layout": {
          "bargap": 0.15,
          "font": {
           "size": 14
          },
          "plot_bgcolor": "#FFFFFF",
          "xaxis": {
           "range": [
            0,
            1907024730
           ],
           "showline": true,
           "visible": true
          },
          "yaxis": {
           "showline": false,
           "visible": true
          }
         },
         "name": "1980"
        },
        {
         "data": [
          {
           "cliponaxis": false,
           "hoverinfo": "all",
           "hovertemplate": "<extra></extra>",
           "marker": {
            "color": [
             "rgb(12, 46, 186)",
             "rgb(191, 94, 110)",
             "rgb(107, 27, 235)",
             "rgb(141, 125, 232)",
             "rgb(222, 180, 201)",
             "rgb(133, 10, 182)",
             "rgb(165, 95, 93)",
             "rgb(142, 153, 131)",
             "rgb(87, 228, 34)",
             "rgb(174, 70, 226)"
            ]
           },
           "orientation": "h",
           "textangle": 0,
           "textposition": "outside",
           "texttemplate": "%{y}<br>%{x:.4s}",
           "type": "bar",
           "x": [
            125543727,
            127513877,
            149602582,
            267781520,
            273520179,
            287840286,
            410075231,
            446772517,
            449633986,
            799604214
           ],
           "y": [
            "Sweet potatoes",
            "Cassava",
            "Barley",
            "Potatoes",
            "Rice, paddy (rice milled equivalent)",
            "Sugar beet",
            "Rice, paddy",
            "Maize",
            "Wheat",
            "Sugar cane"
           ]
          }
         ],
         "layout": {
          "bargap": 0.15,
          "font": {
           "size": 14
          },
          "plot_bgcolor": "#FFFFFF",
          "xaxis": {
           "range": [
            0,
            1907024730
           ],
           "showline": true,
           "visible": true
          },
          "yaxis": {
           "showline": false,
           "visible": true
          }
         },
         "name": "1981"
        },
        {
         "data": [
          {
           "cliponaxis": false,
           "hoverinfo": "all",
           "hovertemplate": "<extra></extra>",
           "marker": {
            "color": [
             "rgb(191, 94, 110)",
             "rgb(12, 46, 186)",
             "rgb(107, 27, 235)",
             "rgb(141, 125, 232)",
             "rgb(222, 180, 201)",
             "rgb(133, 10, 182)",
             "rgb(165, 95, 93)",
             "rgb(142, 153, 131)",
             "rgb(87, 228, 34)",
             "rgb(174, 70, 226)"
            ]
           },
           "orientation": "h",
           "textangle": 0,
           "textposition": "outside",
           "texttemplate": "%{y}<br>%{x:.4s}",
           "type": "bar",
           "x": [
            128849568,
            129433910,
            161352537,
            265142602,
            281440016,
            291773194,
            421949049,
            448932280,
            476768609,
            907067880
           ],
           "y": [
            "Cassava",
            "Sweet potatoes",
            "Barley",
            "Potatoes",
            "Rice, paddy (rice milled equivalent)",
            "Sugar beet",
            "Rice, paddy",
            "Maize",
            "Wheat",
            "Sugar cane"
           ]
          }
         ],
         "layout": {
          "bargap": 0.15,
          "font": {
           "size": 14
          },
          "plot_bgcolor": "#FFFFFF",
          "xaxis": {
           "range": [
            0,
            1907024730
           ],
           "showline": true,
           "visible": true
          },
          "yaxis": {
           "showline": false,
           "visible": true
          }
         },
         "name": "1982"
        },
        {
         "data": [
          {
           "cliponaxis": false,
           "hoverinfo": "all",
           "hovertemplate": "<extra></extra>",
           "marker": {
            "color": [
             "rgb(191, 94, 110)",
             "rgb(12, 46, 186)",
             "rgb(107, 27, 235)",
             "rgb(141, 125, 232)",
             "rgb(133, 10, 182)",
             "rgb(222, 180, 201)",
             "rgb(142, 153, 131)",
             "rgb(165, 95, 93)",
             "rgb(87, 228, 34)",
             "rgb(174, 70, 226)"
            ]
           },
           "orientation": "h",
           "textangle": 0,
           "textposition": "outside",
           "texttemplate": "%{y}<br>%{x:.4s}",
           "type": "bar",
           "x": [
            126886287,
            137945719,
            159470171,
            264471009,
            274395485,
            298826869,
            347082034,
            448016295,
            489555281,
            903684353
           ],
           "y": [
            "Cassava",
            "Sweet potatoes",
            "Barley",
            "Potatoes",
            "Sugar beet",
            "Rice, paddy (rice milled equivalent)",
            "Maize",
            "Rice, paddy",
            "Wheat",
            "Sugar cane"
           ]
          }
         ],
         "layout": {
          "bargap": 0.15,
          "font": {
           "size": 14
          },
          "plot_bgcolor": "#FFFFFF",
          "xaxis": {
           "range": [
            0,
            1907024730
           ],
           "showline": true,
           "visible": true
          },
          "yaxis": {
           "showline": false,
           "visible": true
          }
         },
         "name": "1983"
        },
        {
         "data": [
          {
           "cliponaxis": false,
           "hoverinfo": "all",
           "hovertemplate": "<extra></extra>",
           "marker": {
            "color": [
             "rgb(12, 46, 186)",
             "rgb(191, 94, 110)",
             "rgb(107, 27, 235)",
             "rgb(141, 125, 232)",
             "rgb(133, 10, 182)",
             "rgb(222, 180, 201)",
             "rgb(142, 153, 131)",
             "rgb(165, 95, 93)",
             "rgb(87, 228, 34)",
             "rgb(174, 70, 226)"
            ]
           },
           "orientation": "h",
           "textangle": 0,
           "textposition": "outside",
           "texttemplate": "%{y}<br>%{x:.4s}",
           "type": "bar",
           "x": [
            133036563,
            133239818,
            169433845,
            290945972,
            296351939,
            310383713,
            450449992,
            465342898,
            512330225,
            929768246
           ],
           "y": [
            "Sweet potatoes",
            "Cassava",
            "Barley",
            "Potatoes",
            "Sugar beet",
            "Rice, paddy (rice milled equivalent)",
            "Maize",
            "Rice, paddy",
            "Wheat",
            "Sugar cane"
           ]
          }
         ],
         "layout": {
          "bargap": 0.15,
          "font": {
           "size": 14
          },
          "plot_bgcolor": "#FFFFFF",
          "xaxis": {
           "range": [
            0,
            1907024730
           ],
           "showline": true,
           "visible": true
          },
          "yaxis": {
           "showline": false,
           "visible": true
          }
         },
         "name": "1984"
        },
        {
         "data": [
          {
           "cliponaxis": false,
           "hoverinfo": "all",
           "hovertemplate": "<extra></extra>",
           "marker": {
            "color": [
             "rgb(12, 46, 186)",
             "rgb(191, 94, 110)",
             "rgb(107, 27, 235)",
             "rgb(141, 125, 232)",
             "rgb(133, 10, 182)",
             "rgb(222, 180, 201)",
             "rgb(165, 95, 93)",
             "rgb(142, 153, 131)",
             "rgb(87, 228, 34)",
             "rgb(174, 70, 226)"
            ]
           },
           "orientation": "h",
           "textangle": 0,
           "textposition": "outside",
           "texttemplate": "%{y}<br>%{x:.4s}",
           "type": "bar",
           "x": [
            122997023,
            135852865,
            172618338,
            281603760,
            284155160,
            312265770,
            468164572,
            485527301,
            499527392,
            933213589
           ],
           "y": [
            "Sweet potatoes",
            "Cassava",
            "Barley",
            "Potatoes",
            "Sugar beet",
            "Rice, paddy (rice milled equivalent)",
            "Rice, paddy",
            "Maize",
            "Wheat",
            "Sugar cane"
           ]
          }
         ],
         "layout": {
          "bargap": 0.15,
          "font": {
           "size": 14
          },
          "plot_bgcolor": "#FFFFFF",
          "xaxis": {
           "range": [
            0,
            1907024730
           ],
           "showline": true,
           "visible": true
          },
          "yaxis": {
           "showline": false,
           "visible": true
          }
         },
         "name": "1985"
        },
        {
         "data": [
          {
           "cliponaxis": false,
           "hoverinfo": "all",
           "hovertemplate": "<extra></extra>",
           "marker": {
            "color": [
             "rgb(169, 215, 204)",
             "rgb(191, 94, 110)",
             "rgb(107, 27, 235)",
             "rgb(133, 10, 182)",
             "rgb(141, 125, 232)",
             "rgb(222, 180, 201)",
             "rgb(165, 95, 93)",
             "rgb(142, 153, 131)",
             "rgb(87, 228, 34)",
             "rgb(174, 70, 226)"
            ]
           },
           "orientation": "h",
           "textangle": 0,
           "textposition": "outside",
           "texttemplate": "%{y}<br>%{x:.4s}",
           "type": "bar",
           "x": [
            129814219,
            134228164,
            177169275,
            286334048,
            286610518,
            312606386,
            468675242,
            478176622,
            528685222,
            934719186
           ],
           "y": [
            "Vegetables, fresh nes",
            "Cassava",
            "Barley",
            "Sugar beet",
            "Potatoes",
            "Rice, paddy (rice milled equivalent)",
            "Rice, paddy",
            "Maize",
            "Wheat",
            "Sugar cane"
           ]
          }
         ],
         "layout": {
          "bargap": 0.15,
          "font": {
           "size": 14
          },
          "plot_bgcolor": "#FFFFFF",
          "xaxis": {
           "range": [
            0,
            1907024730
           ],
           "showline": true,
           "visible": true
          },
          "yaxis": {
           "showline": false,
           "visible": true
          }
         },
         "name": "1986"
        },
        {
         "data": [
          {
           "cliponaxis": false,
           "hoverinfo": "all",
           "hovertemplate": "<extra></extra>",
           "marker": {
            "color": [
             "rgb(12, 46, 186)",
             "rgb(191, 94, 110)",
             "rgb(107, 27, 235)",
             "rgb(141, 125, 232)",
             "rgb(133, 10, 182)",
             "rgb(222, 180, 201)",
             "rgb(142, 153, 131)",
             "rgb(165, 95, 93)",
             "rgb(87, 228, 34)",
             "rgb(174, 70, 226)"
            ]
           },
           "orientation": "h",
           "textangle": 0,
           "textposition": "outside",
           "texttemplate": "%{y}<br>%{x:.4s}",
           "type": "bar",
           "x": [
            133652442,
            138134704,
            175288684,
            279415351,
            299751636,
            307780419,
            453115794,
            461439908,
            505075847,
            990319251
           ],
           "y": [
            "Sweet potatoes",
            "Cassava",
            "Barley",
            "Potatoes",
            "Sugar beet",
            "Rice, paddy (rice milled equivalent)",
            "Maize",
            "Rice, paddy",
            "Wheat",
            "Sugar cane"
           ]
          }
         ],
         "layout": {
          "bargap": 0.15,
          "font": {
           "size": 14
          },
          "plot_bgcolor": "#FFFFFF",
          "xaxis": {
           "range": [
            0,
            1907024730
           ],
           "showline": true,
           "visible": true
          },
          "yaxis": {
           "showline": false,
           "visible": true
          }
         },
         "name": "1987"
        },
        {
         "data": [
          {
           "cliponaxis": false,
           "hoverinfo": "all",
           "hovertemplate": "<extra></extra>",
           "marker": {
            "color": [
             "rgb(169, 215, 204)",
             "rgb(191, 94, 110)",
             "rgb(107, 27, 235)",
             "rgb(141, 125, 232)",
             "rgb(133, 10, 182)",
             "rgb(222, 180, 201)",
             "rgb(142, 153, 131)",
             "rgb(165, 95, 93)",
             "rgb(87, 228, 34)",
             "rgb(174, 70, 226)"
            ]
           },
           "orientation": "h",
           "textangle": 0,
           "textposition": "outside",
           "texttemplate": "%{y}<br>%{x:.4s}",
           "type": "bar",
           "x": [
            137997867,
            144878275,
            163396406,
            268603004,
            293570876,
            325134421,
            403050234,
            487457902,
            500656538,
            992982513
           ],
           "y": [
            "Vegetables, fresh nes",
            "Cassava",
            "Barley",
            "Potatoes",
            "Sugar beet",
            "Rice, paddy (rice milled equivalent)",
            "Maize",
            "Rice, paddy",
            "Wheat",
            "Sugar cane"
           ]
          }
         ],
         "layout": {
          "bargap": 0.15,
          "font": {
           "size": 14
          },
          "plot_bgcolor": "#FFFFFF",
          "xaxis": {
           "range": [
            0,
            1907024730
           ],
           "showline": true,
           "visible": true
          },
          "yaxis": {
           "showline": false,
           "visible": true
          }
         },
         "name": "1988"
        },
        {
         "data": [
          {
           "cliponaxis": false,
           "hoverinfo": "all",
           "hovertemplate": "<extra></extra>",
           "marker": {
            "color": [
             "rgb(169, 215, 204)",
             "rgb(191, 94, 110)",
             "rgb(107, 27, 235)",
             "rgb(141, 125, 232)",
             "rgb(133, 10, 182)",
             "rgb(222, 180, 201)",
             "rgb(142, 153, 131)",
             "rgb(165, 95, 93)",
             "rgb(87, 228, 34)",
             "rgb(174, 70, 226)"
            ]
           },
           "orientation": "h",
           "textangle": 0,
           "textposition": "outside",
           "texttemplate": "%{y}<br>%{x:.4s}",
           "type": "bar",
           "x": [
            138710355,
            152885746,
            164166455,
            276583863,
            314402899,
            343119234,
            476874503,
            514421640,
            538206114,
            1017998783
           ],
           "y": [
            "Vegetables, fresh nes",
            "Cassava",
            "Barley",
            "Potatoes",
            "Sugar beet",
            "Rice, paddy (rice milled equivalent)",
            "Maize",
            "Rice, paddy",
            "Wheat",
            "Sugar cane"
           ]
          }
         ],
         "layout": {
          "bargap": 0.15,
          "font": {
           "size": 14
          },
          "plot_bgcolor": "#FFFFFF",
          "xaxis": {
           "range": [
            0,
            1907024730
           ],
           "showline": true,
           "visible": true
          },
          "yaxis": {
           "showline": false,
           "visible": true
          }
         },
         "name": "1989"
        },
        {
         "data": [
          {
           "cliponaxis": false,
           "hoverinfo": "all",
           "hovertemplate": "<extra></extra>",
           "marker": {
            "color": [
             "rgb(169, 215, 204)",
             "rgb(191, 94, 110)",
             "rgb(107, 27, 235)",
             "rgb(141, 125, 232)",
             "rgb(133, 10, 182)",
             "rgb(222, 180, 201)",
             "rgb(142, 153, 131)",
             "rgb(165, 95, 93)",
             "rgb(87, 228, 34)",
             "rgb(174, 70, 226)"
            ]
           },
           "orientation": "h",
           "textangle": 0,
           "textposition": "outside",
           "texttemplate": "%{y}<br>%{x:.4s}",
           "type": "bar",
           "x": [
            140314879,
            152378682,
            178074020,
            266825273,
            309186724,
            345885292,
            483620724,
            518568653,
            591330111,
            1052997497
           ],
           "y": [
            "Vegetables, fresh nes",
            "Cassava",
            "Barley",
            "Potatoes",
            "Sugar beet",
            "Rice, paddy (rice milled equivalent)",
            "Maize",
            "Rice, paddy",
            "Wheat",
            "Sugar cane"
           ]
          }
         ],
         "layout": {
          "bargap": 0.15,
          "font": {
           "size": 14
          },
          "plot_bgcolor": "#FFFFFF",
          "xaxis": {
           "range": [
            0,
            1907024730
           ],
           "showline": true,
           "visible": true
          },
          "yaxis": {
           "showline": false,
           "visible": true
          }
         },
         "name": "1990"
        },
        {
         "data": [
          {
           "cliponaxis": false,
           "hoverinfo": "all",
           "hovertemplate": "<extra></extra>",
           "marker": {
            "color": [
             "rgb(169, 215, 204)",
             "rgb(191, 94, 110)",
             "rgb(107, 27, 235)",
             "rgb(141, 125, 232)",
             "rgb(133, 10, 182)",
             "rgb(222, 180, 201)",
             "rgb(142, 153, 131)",
             "rgb(165, 95, 93)",
             "rgb(87, 228, 34)",
             "rgb(174, 70, 226)"
            ]
           },
           "orientation": "h",
           "textangle": 0,
           "textposition": "outside",
           "texttemplate": "%{y}<br>%{x:.4s}",
           "type": "bar",
           "x": [
            135062201,
            160406516,
            169582274,
            256993281,
            285129013,
            345847886,
            494407622,
            518512573,
            547820731,
            1086955621
           ],
           "y": [
            "Vegetables, fresh nes",
            "Cassava",
            "Barley",
            "Potatoes",
            "Sugar beet",
            "Rice, paddy (rice milled equivalent)",
            "Maize",
            "Rice, paddy",
            "Wheat",
            "Sugar cane"
           ]
          }
         ],
         "layout": {
          "bargap": 0.15,
          "font": {
           "size": 14
          },
          "plot_bgcolor": "#FFFFFF",
          "xaxis": {
           "range": [
            0,
            1907024730
           ],
           "showline": true,
           "visible": true
          },
          "yaxis": {
           "showline": false,
           "visible": true
          }
         },
         "name": "1991"
        },
        {
         "data": [
          {
           "cliponaxis": false,
           "hoverinfo": "all",
           "hovertemplate": "<extra></extra>",
           "marker": {
            "color": [
             "rgb(169, 215, 204)",
             "rgb(191, 94, 110)",
             "rgb(107, 27, 235)",
             "rgb(141, 125, 232)",
             "rgb(133, 10, 182)",
             "rgb(222, 180, 201)",
             "rgb(165, 95, 93)",
             "rgb(142, 153, 131)",
             "rgb(87, 228, 34)",
             "rgb(174, 70, 226)"
            ]
           },
           "orientation": "h",
           "textangle": 0,
           "textposition": "outside",
           "texttemplate": "%{y}<br>%{x:.4s}",
           "type": "bar",
           "x": [
            144904166,
            162004349,
            165533308,
            278980652,
            281711850,
            352094665,
            527878059,
            533789336,
            565111947,
            1107576853
           ],
           "y": [
            "Vegetables, fresh nes",
            "Cassava",
            "Barley",
            "Potatoes",
            "Sugar beet",
            "Rice, paddy (rice milled equivalent)",
            "Rice, paddy",
            "Maize",
            "Wheat",
            "Sugar cane"
           ]
          }
         ],
         "layout": {
          "bargap": 0.15,
          "font": {
           "size": 14
          },
          "plot_bgcolor": "#FFFFFF",
          "xaxis": {
           "range": [
            0,
            1907024730
           ],
           "showline": true,
           "visible": true
          },
          "yaxis": {
           "showline": false,
           "visible": true
          }
         },
         "name": "1992"
        },
        {
         "data": [
          {
           "cliponaxis": false,
           "hoverinfo": "all",
           "hovertemplate": "<extra></extra>",
           "marker": {
            "color": [
             "rgb(169, 215, 204)",
             "rgb(191, 94, 110)",
             "rgb(107, 27, 235)",
             "rgb(133, 10, 182)",
             "rgb(141, 125, 232)",
             "rgb(222, 180, 201)",
             "rgb(142, 153, 131)",
             "rgb(165, 95, 93)",
             "rgb(87, 228, 34)",
             "rgb(174, 70, 226)"
            ]
           },
           "orientation": "h",
           "textangle": 0,
           "textposition": "outside",
           "texttemplate": "%{y}<br>%{x:.4s}",
           "type": "bar",
           "x": [
            155428142,
            163185199,
            169542965,
            282190576,
            304619922,
            353242902,
            477221153,
            529599553,
            564739765,
            1020881319
           ],
           "y": [
            "Vegetables, fresh nes",
            "Cassava",
            "Barley",
            "Sugar beet",
            "Potatoes",
            "Rice, paddy (rice milled equivalent)",
            "Maize",
            "Rice, paddy",
            "Wheat",
            "Sugar cane"
           ]
          }
         ],
         "layout": {
          "bargap": 0.15,
          "font": {
           "size": 14
          },
          "plot_bgcolor": "#FFFFFF",
          "xaxis": {
           "range": [
            0,
            1907024730
           ],
           "showline": true,
           "visible": true
          },
          "yaxis": {
           "showline": false,
           "visible": true
          }
         },
         "name": "1993"
        },
        {
         "data": [
          {
           "cliponaxis": false,
           "hoverinfo": "all",
           "hovertemplate": "<extra></extra>",
           "marker": {
            "color": [
             "rgb(107, 27, 235)",
             "rgb(169, 215, 204)",
             "rgb(191, 94, 110)",
             "rgb(133, 10, 182)",
             "rgb(141, 125, 232)",
             "rgb(222, 180, 201)",
             "rgb(87, 228, 34)",
             "rgb(165, 95, 93)",
             "rgb(142, 153, 131)",
             "rgb(174, 70, 226)"
            ]
           },
           "orientation": "h",
           "textangle": 0,
           "textposition": "outside",
           "texttemplate": "%{y}<br>%{x:.4s}",
           "type": "bar",
           "x": [
            161019263,
            161088312,
            164501121,
            254453796,
            270203771,
            359240229,
            525435323,
            538591048,
            568663564,
            1084097363
           ],
           "y": [
            "Barley",
            "Vegetables, fresh nes",
            "Cassava",
            "Sugar beet",
            "Potatoes",
            "Rice, paddy (rice milled equivalent)",
            "Wheat",
            "Rice, paddy",
            "Maize",
            "Sugar cane"
           ]
          }
         ],
         "layout": {
          "bargap": 0.15,
          "font": {
           "size": 14
          },
          "plot_bgcolor": "#FFFFFF",
          "xaxis": {
           "range": [
            0,
            1907024730
           ],
           "showline": true,
           "visible": true
          },
          "yaxis": {
           "showline": false,
           "visible": true
          }
         },
         "name": "1994"
        },
        {
         "data": [
          {
           "cliponaxis": false,
           "hoverinfo": "all",
           "hovertemplate": "<extra></extra>",
           "marker": {
            "color": [
             "rgb(107, 27, 235)",
             "rgb(191, 94, 110)",
             "rgb(169, 215, 204)",
             "rgb(133, 10, 182)",
             "rgb(141, 125, 232)",
             "rgb(222, 180, 201)",
             "rgb(142, 153, 131)",
             "rgb(87, 228, 34)",
             "rgb(165, 95, 93)",
             "rgb(174, 70, 226)"
            ]
           },
           "orientation": "h",
           "textangle": 0,
           "textposition": "outside",
           "texttemplate": "%{y}<br>%{x:.4s}",
           "type": "bar",
           "x": [
            140724630,
            161787472,
            165885731,
            264504934,
            285333037,
            364957060,
            517299059,
            544357532,
            547162009,
            1163366858
           ],
           "y": [
            "Barley",
            "Cassava",
            "Vegetables, fresh nes",
            "Sugar beet",
            "Potatoes",
            "Rice, paddy (rice milled equivalent)",
            "Maize",
            "Wheat",
            "Rice, paddy",
            "Sugar cane"
           ]
          }
         ],
         "layout": {
          "bargap": 0.15,
          "font": {
           "size": 14
          },
          "plot_bgcolor": "#FFFFFF",
          "xaxis": {
           "range": [
            0,
            1907024730
           ],
           "showline": true,
           "visible": true
          },
          "yaxis": {
           "showline": false,
           "visible": true
          }
         },
         "name": "1995"
        },
        {
         "data": [
          {
           "cliponaxis": false,
           "hoverinfo": "all",
           "hovertemplate": "<extra></extra>",
           "marker": {
            "color": [
             "rgb(107, 27, 235)",
             "rgb(191, 94, 110)",
             "rgb(169, 215, 204)",
             "rgb(133, 10, 182)",
             "rgb(141, 125, 232)",
             "rgb(222, 180, 201)",
             "rgb(165, 95, 93)",
             "rgb(87, 228, 34)",
             "rgb(142, 153, 131)",
             "rgb(174, 70, 226)"
            ]
           },
           "orientation": "h",
           "textangle": 0,
           "textposition": "outside",
           "texttemplate": "%{y}<br>%{x:.4s}",
           "type": "bar",
           "x": [
            155017318,
            158373490,
            171922447,
            264461343,
            310493658,
            379294907,
            568658031,
            578616933,
            586146163,
            1218890125
           ],
           "y": [
            "Barley",
            "Cassava",
            "Vegetables, fresh nes",
            "Sugar beet",
            "Potatoes",
            "Rice, paddy (rice milled equivalent)",
            "Rice, paddy",
            "Wheat",
            "Maize",
            "Sugar cane"
           ]
          }
         ],
         "layout": {
          "bargap": 0.15,
          "font": {
           "size": 14
          },
          "plot_bgcolor": "#FFFFFF",
          "xaxis": {
           "range": [
            0,
            1907024730
           ],
           "showline": true,
           "visible": true
          },
          "yaxis": {
           "showline": false,
           "visible": true
          }
         },
         "name": "1996"
        },
        {
         "data": [
          {
           "cliponaxis": false,
           "hoverinfo": "all",
           "hovertemplate": "<extra></extra>",
           "marker": {
            "color": [
             "rgb(107, 27, 235)",
             "rgb(191, 94, 110)",
             "rgb(169, 215, 204)",
             "rgb(133, 10, 182)",
             "rgb(141, 125, 232)",
             "rgb(222, 180, 201)",
             "rgb(165, 95, 93)",
             "rgb(142, 153, 131)",
             "rgb(87, 228, 34)",
             "rgb(174, 70, 226)"
            ]
           },
           "orientation": "h",
           "textangle": 0,
           "textposition": "outside",
           "texttemplate": "%{y}<br>%{x:.4s}",
           "type": "bar",
           "x": [
            154359212,
            161747290,
            175581351,
            267973956,
            301079129,
            384950308,
            577136893,
            584411894,
            614651780,
            1246425310
           ],
           "y": [
            "Barley",
            "Cassava",
            "Vegetables, fresh nes",
            "Sugar beet",
            "Potatoes",
            "Rice, paddy (rice milled equivalent)",
            "Rice, paddy",
            "Maize",
            "Wheat",
            "Sugar cane"
           ]
          }
         ],
         "layout": {
          "bargap": 0.15,
          "font": {
           "size": 14
          },
          "plot_bgcolor": "#FFFFFF",
          "xaxis": {
           "range": [
            0,
            1907024730
           ],
           "showline": true,
           "visible": true
          },
          "yaxis": {
           "showline": false,
           "visible": true
          }
         },
         "name": "1997"
        },
        {
         "data": [
          {
           "cliponaxis": false,
           "hoverinfo": "all",
           "hovertemplate": "<extra></extra>",
           "marker": {
            "color": [
             "rgb(19, 82, 17)",
             "rgb(191, 94, 110)",
             "rgb(169, 215, 204)",
             "rgb(133, 10, 182)",
             "rgb(141, 125, 232)",
             "rgb(222, 180, 201)",
             "rgb(165, 95, 93)",
             "rgb(87, 228, 34)",
             "rgb(142, 153, 131)",
             "rgb(174, 70, 226)"
            ]
           },
           "orientation": "h",
           "textangle": 0,
           "textposition": "outside",
           "texttemplate": "%{y}<br>%{x:.4s}",
           "type": "bar",
           "x": [
            160128822,
            162613417,
            178523814,
            263032522,
            297834904,
            386068923,
            578813977,
            596175815,
            615081853,
            1263674263
           ],
           "y": [
            "Soybeans",
            "Cassava",
            "Vegetables, fresh nes",
            "Sugar beet",
            "Potatoes",
            "Rice, paddy (rice milled equivalent)",
            "Rice, paddy",
            "Wheat",
            "Maize",
            "Sugar cane"
           ]
          }
         ],
         "layout": {
          "bargap": 0.15,
          "font": {
           "size": 14
          },
          "plot_bgcolor": "#FFFFFF",
          "xaxis": {
           "range": [
            0,
            1907024730
           ],
           "showline": true,
           "visible": true
          },
          "yaxis": {
           "showline": false,
           "visible": true
          }
         },
         "name": "1998"
        },
        {
         "data": [
          {
           "cliponaxis": false,
           "hoverinfo": "all",
           "hovertemplate": "<extra></extra>",
           "marker": {
            "color": [
             "rgb(19, 82, 17)",
             "rgb(191, 94, 110)",
             "rgb(169, 215, 204)",
             "rgb(133, 10, 182)",
             "rgb(141, 125, 232)",
             "rgb(222, 180, 201)",
             "rgb(87, 228, 34)",
             "rgb(142, 153, 131)",
             "rgb(165, 95, 93)",
             "rgb(174, 70, 226)"
            ]
           },
           "orientation": "h",
           "textangle": 0,
           "textposition": "outside",
           "texttemplate": "%{y}<br>%{x:.4s}",
           "type": "bar",
           "x": [
            157815479,
            168847321,
            188064527,
            260565420,
            296076184,
            407655445,
            584763438,
            607434709,
            611177579,
            1282128475
           ],
           "y": [
            "Soybeans",
            "Cassava",
            "Vegetables, fresh nes",
            "Sugar beet",
            "Potatoes",
            "Rice, paddy (rice milled equivalent)",
            "Wheat",
            "Maize",
            "Rice, paddy",
            "Sugar cane"
           ]
          }
         ],
         "layout": {
          "bargap": 0.15,
          "font": {
           "size": 14
          },
          "plot_bgcolor": "#FFFFFF",
          "xaxis": {
           "range": [
            0,
            1907024730
           ],
           "showline": true,
           "visible": true
          },
          "yaxis": {
           "showline": false,
           "visible": true
          }
         },
         "name": "1999"
        },
        {
         "data": [
          {
           "cliponaxis": false,
           "hoverinfo": "all",
           "hovertemplate": "<extra></extra>",
           "marker": {
            "color": [
             "rgb(19, 82, 17)",
             "rgb(191, 94, 110)",
             "rgb(169, 215, 204)",
             "rgb(133, 10, 182)",
             "rgb(141, 125, 232)",
             "rgb(222, 180, 201)",
             "rgb(87, 228, 34)",
             "rgb(142, 153, 131)",
             "rgb(165, 95, 93)",
             "rgb(174, 70, 226)"
            ]
           },
           "orientation": "h",
           "textangle": 0,
           "textposition": "outside",
           "texttemplate": "%{y}<br>%{x:.4s}",
           "type": "bar",
           "x": [
            161308383,
            175846840,
            211610549,
            250148505,
            322775223,
            399311670,
            584999160,
            592038698,
            598668171,
            1252668856
           ],
           "y": [
            "Soybeans",
            "Cassava",
            "Vegetables, fresh nes",
            "Sugar beet",
            "Potatoes",
            "Rice, paddy (rice milled equivalent)",
            "Wheat",
            "Maize",
            "Rice, paddy",
            "Sugar cane"
           ]
          }
         ],
         "layout": {
          "bargap": 0.15,
          "font": {
           "size": 14
          },
          "plot_bgcolor": "#FFFFFF",
          "xaxis": {
           "range": [
            0,
            1907024730
           ],
           "showline": true,
           "visible": true
          },
          "yaxis": {
           "showline": false,
           "visible": true
          }
         },
         "name": "2000"
        },
        {
         "data": [
          {
           "cliponaxis": false,
           "hoverinfo": "all",
           "hovertemplate": "<extra></extra>",
           "marker": {
            "color": [
             "rgb(19, 82, 17)",
             "rgb(191, 94, 110)",
             "rgb(169, 215, 204)",
             "rgb(133, 10, 182)",
             "rgb(141, 125, 232)",
             "rgb(222, 180, 201)",
             "rgb(87, 228, 34)",
             "rgb(165, 95, 93)",
             "rgb(142, 153, 131)",
             "rgb(174, 70, 226)"
            ]
           },
           "orientation": "h",
           "textangle": 0,
           "textposition": "outside",
           "texttemplate": "%{y}<br>%{x:.4s}",
           "type": "bar",
           "x": [
            177020743,
            181687057,
            227180655,
            230314950,
            305492291,
            400364493,
            588243664,
            600246617,
            615152413,
            1257665353
           ],
           "y": [
            "Soybeans",
            "Cassava",
            "Vegetables, fresh nes",
            "Sugar beet",
            "Potatoes",
            "Rice, paddy (rice milled equivalent)",
            "Wheat",
            "Rice, paddy",
            "Maize",
            "Sugar cane"
           ]
          }
         ],
         "layout": {
          "bargap": 0.15,
          "font": {
           "size": 14
          },
          "plot_bgcolor": "#FFFFFF",
          "xaxis": {
           "range": [
            0,
            1907024730
           ],
           "showline": true,
           "visible": true
          },
          "yaxis": {
           "showline": false,
           "visible": true
          }
         },
         "name": "2001"
        },
        {
         "data": [
          {
           "cliponaxis": false,
           "hoverinfo": "all",
           "hovertemplate": "<extra></extra>",
           "marker": {
            "color": [
             "rgb(19, 82, 17)",
             "rgb(191, 94, 110)",
             "rgb(169, 215, 204)",
             "rgb(133, 10, 182)",
             "rgb(141, 125, 232)",
             "rgb(222, 180, 201)",
             "rgb(165, 95, 93)",
             "rgb(87, 228, 34)",
             "rgb(142, 153, 131)",
             "rgb(174, 70, 226)"
            ]
           },
           "orientation": "h",
           "textangle": 0,
           "textposition": "outside",
           "texttemplate": "%{y}<br>%{x:.4s}",
           "type": "bar",
           "x": [
            180950733,
            182642727,
            226692031,
            259606962,
            309800226,
            380891169,
            571051228,
            592045286,
            603551954,
            1326773955
           ],
           "y": [
            "Soybeans",
            "Cassava",
            "Vegetables, fresh nes",
            "Sugar beet",
            "Potatoes",
            "Rice, paddy (rice milled equivalent)",
            "Rice, paddy",
            "Wheat",
            "Maize",
            "Sugar cane"
           ]
          }
         ],
         "layout": {
          "bargap": 0.15,
          "font": {
           "size": 14
          },
          "plot_bgcolor": "#FFFFFF",
          "xaxis": {
           "range": [
            0,
            1907024730
           ],
           "showline": true,
           "visible": true
          },
          "yaxis": {
           "showline": false,
           "visible": true
          }
         },
         "name": "2002"
        },
        {
         "data": [
          {
           "cliponaxis": false,
           "hoverinfo": "all",
           "hovertemplate": "<extra></extra>",
           "marker": {
            "color": [
             "rgb(19, 82, 17)",
             "rgb(191, 94, 110)",
             "rgb(133, 10, 182)",
             "rgb(169, 215, 204)",
             "rgb(141, 125, 232)",
             "rgb(222, 180, 201)",
             "rgb(87, 228, 34)",
             "rgb(165, 95, 93)",
             "rgb(142, 153, 131)",
             "rgb(174, 70, 226)"
            ]
           },
           "orientation": "h",
           "textangle": 0,
           "textposition": "outside",
           "texttemplate": "%{y}<br>%{x:.4s}",
           "type": "bar",
           "x": [
            190573528,
            192215569,
            232734248,
            237183104,
            307591201,
            391483259,
            549974473,
            586931423,
            645055272,
            1371880978
           ],
           "y": [
            "Soybeans",
            "Cassava",
            "Sugar beet",
            "Vegetables, fresh nes",
            "Potatoes",
            "Rice, paddy (rice milled equivalent)",
            "Wheat",
            "Rice, paddy",
            "Maize",
            "Sugar cane"
           ]
          }
         ],
         "layout": {
          "bargap": 0.15,
          "font": {
           "size": 14
          },
          "plot_bgcolor": "#FFFFFF",
          "xaxis": {
           "range": [
            0,
            1907024730
           ],
           "showline": true,
           "visible": true
          },
          "yaxis": {
           "showline": false,
           "visible": true
          }
         },
         "name": "2003"
        },
        {
         "data": [
          {
           "cliponaxis": false,
           "hoverinfo": "all",
           "hovertemplate": "<extra></extra>",
           "marker": {
            "color": [
             "rgb(191, 94, 110)",
             "rgb(19, 82, 17)",
             "rgb(169, 215, 204)",
             "rgb(133, 10, 182)",
             "rgb(141, 125, 232)",
             "rgb(222, 180, 201)",
             "rgb(165, 95, 93)",
             "rgb(87, 228, 34)",
             "rgb(142, 153, 131)",
             "rgb(174, 70, 226)"
            ]
           },
           "orientation": "h",
           "textangle": 0,
           "textposition": "outside",
           "texttemplate": "%{y}<br>%{x:.4s}",
           "type": "bar",
           "x": [
            203831956,
            205548134,
            224325418,
            251589379,
            328165612,
            405101582,
            607348698,
            634666010,
            729517951,
            1333138427
           ],
           "y": [
            "Cassava",
            "Soybeans",
            "Vegetables, fresh nes",
            "Sugar beet",
            "Potatoes",
            "Rice, paddy (rice milled equivalent)",
            "Rice, paddy",
            "Wheat",
            "Maize",
            "Sugar cane"
           ]
          }
         ],
         "layout": {
          "bargap": 0.15,
          "font": {
           "size": 14
          },
          "plot_bgcolor": "#FFFFFF",
          "xaxis": {
           "range": [
            0,
            1907024730
           ],
           "showline": true,
           "visible": true
          },
          "yaxis": {
           "showline": false,
           "visible": true
          }
         },
         "name": "2004"
        },
        {
         "data": [
          {
           "cliponaxis": false,
           "hoverinfo": "all",
           "hovertemplate": "<extra></extra>",
           "marker": {
            "color": [
             "rgb(191, 94, 110)",
             "rgb(19, 82, 17)",
             "rgb(169, 215, 204)",
             "rgb(133, 10, 182)",
             "rgb(141, 125, 232)",
             "rgb(222, 180, 201)",
             "rgb(87, 228, 34)",
             "rgb(165, 95, 93)",
             "rgb(142, 153, 131)",
             "rgb(174, 70, 226)"
            ]
           },
           "orientation": "h",
           "textangle": 0,
           "textposition": "outside",
           "texttemplate": "%{y}<br>%{x:.4s}",
           "type": "bar",
           "x": [
            206533771,
            214542761,
            231771630,
            253737449,
            317675179,
            423028136,
            627020836,
            634225091,
            714191174,
            1306307695
           ],
           "y": [
            "Cassava",
            "Soybeans",
            "Vegetables, fresh nes",
            "Sugar beet",
            "Potatoes",
            "Rice, paddy (rice milled equivalent)",
            "Wheat",
            "Rice, paddy",
            "Maize",
            "Sugar cane"
           ]
          }
         ],
         "layout": {
          "bargap": 0.15,
          "font": {
           "size": 14
          },
          "plot_bgcolor": "#FFFFFF",
          "xaxis": {
           "range": [
            0,
            1907024730
           ],
           "showline": true,
           "visible": true
          },
          "yaxis": {
           "showline": false,
           "visible": true
          }
         },
         "name": "2005"
        },
        {
         "data": [
          {
           "cliponaxis": false,
           "hoverinfo": "all",
           "hovertemplate": "<extra></extra>",
           "marker": {
            "color": [
             "rgb(19, 82, 17)",
             "rgb(191, 94, 110)",
             "rgb(169, 215, 204)",
             "rgb(133, 10, 182)",
             "rgb(141, 125, 232)",
             "rgb(222, 180, 201)",
             "rgb(87, 228, 34)",
             "rgb(165, 95, 93)",
             "rgb(142, 153, 131)",
             "rgb(174, 70, 226)"
            ]
           },
           "orientation": "h",
           "textangle": 0,
           "textposition": "outside",
           "texttemplate": "%{y}<br>%{x:.4s}",
           "type": "bar",
           "x": [
            221558922,
            223636615,
            241884277,
            254025175,
            307572166,
            427350243,
            614381123,
            640705012,
            707937211,
            1417376025
           ],
           "y": [
            "Soybeans",
            "Cassava",
            "Vegetables, fresh nes",
            "Sugar beet",
            "Potatoes",
            "Rice, paddy (rice milled equivalent)",
            "Wheat",
            "Rice, paddy",
            "Maize",
            "Sugar cane"
           ]
          }
         ],
         "layout": {
          "bargap": 0.15,
          "font": {
           "size": 14
          },
          "plot_bgcolor": "#FFFFFF",
          "xaxis": {
           "range": [
            0,
            1907024730
           ],
           "showline": true,
           "visible": true
          },
          "yaxis": {
           "showline": false,
           "visible": true
          }
         },
         "name": "2006"
        },
        {
         "data": [
          {
           "cliponaxis": false,
           "hoverinfo": "all",
           "hovertemplate": "<extra></extra>",
           "marker": {
            "color": [
             "rgb(19, 82, 17)",
             "rgb(191, 94, 110)",
             "rgb(169, 215, 204)",
             "rgb(133, 10, 182)",
             "rgb(141, 125, 232)",
             "rgb(222, 180, 201)",
             "rgb(87, 228, 34)",
             "rgb(165, 95, 93)",
             "rgb(142, 153, 131)",
             "rgb(174, 70, 226)"
            ]
           },
           "orientation": "h",
           "textangle": 0,
           "textposition": "outside",
           "texttemplate": "%{y}<br>%{x:.4s}",
           "type": "bar",
           "x": [
            219793075,
            226974274,
            244610984,
            246945604,
            313191368,
            437923034,
            606595140,
            656556273,
            792732888,
            1605136205
           ],
           "y": [
            "Soybeans",
            "Cassava",
            "Vegetables, fresh nes",
            "Sugar beet",
            "Potatoes",
            "Rice, paddy (rice milled equivalent)",
            "Wheat",
            "Rice, paddy",
            "Maize",
            "Sugar cane"
           ]
          }
         ],
         "layout": {
          "bargap": 0.15,
          "font": {
           "size": 14
          },
          "plot_bgcolor": "#FFFFFF",
          "xaxis": {
           "range": [
            0,
            1907024730
           ],
           "showline": true,
           "visible": true
          },
          "yaxis": {
           "showline": false,
           "visible": true
          }
         },
         "name": "2007"
        },
        {
         "data": [
          {
           "cliponaxis": false,
           "hoverinfo": "all",
           "hovertemplate": "<extra></extra>",
           "marker": {
            "color": [
             "rgb(133, 10, 182)",
             "rgb(191, 94, 110)",
             "rgb(19, 82, 17)",
             "rgb(169, 215, 204)",
             "rgb(141, 125, 232)",
             "rgb(222, 180, 201)",
             "rgb(87, 228, 34)",
             "rgb(165, 95, 93)",
             "rgb(142, 153, 131)",
             "rgb(174, 70, 226)"
            ]
           },
           "orientation": "h",
           "textangle": 0,
           "textposition": "outside",
           "texttemplate": "%{y}<br>%{x:.4s}",
           "type": "bar",
           "x": [
            221199239,
            230081674,
            231223485,
            249305237,
            327188473,
            458262606,
            680294443,
            687050383,
            829240208,
            1721251508
           ],
           "y": [
            "Sugar beet",
            "Cassava",
            "Soybeans",
            "Vegetables, fresh nes",
            "Potatoes",
            "Rice, paddy (rice milled equivalent)",
            "Wheat",
            "Rice, paddy",
            "Maize",
            "Sugar cane"
           ]
          }
         ],
         "layout": {
          "bargap": 0.15,
          "font": {
           "size": 14
          },
          "plot_bgcolor": "#FFFFFF",
          "xaxis": {
           "range": [
            0,
            1907024730
           ],
           "showline": true,
           "visible": true
          },
          "yaxis": {
           "showline": false,
           "visible": true
          }
         },
         "name": "2008"
        },
        {
         "data": [
          {
           "cliponaxis": false,
           "hoverinfo": "all",
           "hovertemplate": "<extra></extra>",
           "marker": {
            "color": [
             "rgb(19, 82, 17)",
             "rgb(133, 10, 182)",
             "rgb(191, 94, 110)",
             "rgb(169, 215, 204)",
             "rgb(141, 125, 232)",
             "rgb(222, 180, 201)",
             "rgb(87, 228, 34)",
             "rgb(165, 95, 93)",
             "rgb(142, 153, 131)",
             "rgb(174, 70, 226)"
            ]
           },
           "orientation": "h",
           "textangle": 0,
           "textposition": "outside",
           "texttemplate": "%{y}<br>%{x:.4s}",
           "type": "bar",
           "x": [
            223380802,
            227985771,
            233794346,
            248581509,
            330740148,
            457333039,
            683639171,
            685656731,
            820072448,
            1677610596
           ],
           "y": [
            "Soybeans",
            "Sugar beet",
            "Cassava",
            "Vegetables, fresh nes",
            "Potatoes",
            "Rice, paddy (rice milled equivalent)",
            "Wheat",
            "Rice, paddy",
            "Maize",
            "Sugar cane"
           ]
          }
         ],
         "layout": {
          "bargap": 0.15,
          "font": {
           "size": 14
          },
          "plot_bgcolor": "#FFFFFF",
          "xaxis": {
           "range": [
            0,
            1907024730
           ],
           "showline": true,
           "visible": true
          },
          "yaxis": {
           "showline": false,
           "visible": true
          }
         },
         "name": "2009"
        },
        {
         "data": [
          {
           "cliponaxis": false,
           "hoverinfo": "all",
           "hovertemplate": "<extra></extra>",
           "marker": {
            "color": [
             "rgb(133, 10, 182)",
             "rgb(191, 94, 110)",
             "rgb(169, 215, 204)",
             "rgb(19, 82, 17)",
             "rgb(141, 125, 232)",
             "rgb(222, 180, 201)",
             "rgb(87, 228, 34)",
             "rgb(165, 95, 93)",
             "rgb(142, 153, 131)",
             "rgb(174, 70, 226)"
            ]
           },
           "orientation": "h",
           "textangle": 0,
           "textposition": "outside",
           "texttemplate": "%{y}<br>%{x:.4s}",
           "type": "bar",
           "x": [
            228408922,
            239296357,
            259746276,
            265088429,
            328616920,
            467659411,
            640802665,
            701138548,
            851679519,
            1682839957
           ],
           "y": [
            "Sugar beet",
            "Cassava",
            "Vegetables, fresh nes",
            "Soybeans",
            "Potatoes",
            "Rice, paddy (rice milled equivalent)",
            "Wheat",
            "Rice, paddy",
            "Maize",
            "Sugar cane"
           ]
          }
         ],
         "layout": {
          "bargap": 0.15,
          "font": {
           "size": 14
          },
          "plot_bgcolor": "#FFFFFF",
          "xaxis": {
           "range": [
            0,
            1907024730
           ],
           "showline": true,
           "visible": true
          },
          "yaxis": {
           "showline": false,
           "visible": true
          }
         },
         "name": "2010"
        },
        {
         "data": [
          {
           "cliponaxis": false,
           "hoverinfo": "all",
           "hovertemplate": "<extra></extra>",
           "marker": {
            "color": [
             "rgb(191, 94, 110)",
             "rgb(169, 215, 204)",
             "rgb(19, 82, 17)",
             "rgb(133, 10, 182)",
             "rgb(141, 125, 232)",
             "rgb(222, 180, 201)",
             "rgb(87, 228, 34)",
             "rgb(165, 95, 93)",
             "rgb(142, 153, 131)",
             "rgb(174, 70, 226)"
            ]
           },
           "orientation": "h",
           "textangle": 0,
           "textposition": "outside",
           "texttemplate": "%{y}<br>%{x:.4s}",
           "type": "bar",
           "x": [
            251822205,
            260842101,
            261601653,
            278833260,
            367889898,
            484492968,
            696898368,
            726376264,
            886680581,
            1794120501
           ],
           "y": [
            "Cassava",
            "Vegetables, fresh nes",
            "Soybeans",
            "Sugar beet",
            "Potatoes",
            "Rice, paddy (rice milled equivalent)",
            "Wheat",
            "Rice, paddy",
            "Maize",
            "Sugar cane"
           ]
          }
         ],
         "layout": {
          "bargap": 0.15,
          "font": {
           "size": 14
          },
          "plot_bgcolor": "#FFFFFF",
          "xaxis": {
           "range": [
            0,
            1907024730
           ],
           "showline": true,
           "visible": true
          },
          "yaxis": {
           "showline": false,
           "visible": true
          }
         },
         "name": "2011"
        },
        {
         "data": [
          {
           "cliponaxis": false,
           "hoverinfo": "all",
           "hovertemplate": "<extra></extra>",
           "marker": {
            "color": [
             "rgb(115, 187, 126)",
             "rgb(133, 10, 182)",
             "rgb(169, 215, 204)",
             "rgb(191, 94, 110)",
             "rgb(141, 125, 232)",
             "rgb(222, 180, 201)",
             "rgb(87, 228, 34)",
             "rgb(165, 95, 93)",
             "rgb(142, 153, 131)",
             "rgb(174, 70, 226)"
            ]
           },
           "orientation": "h",
           "textangle": 0,
           "textposition": "outside",
           "texttemplate": "%{y}<br>%{x:.4s}",
           "type": "bar",
           "x": [
            256568919,
            269637113,
            272044780,
            277683210,
            361003266,
            491310036,
            673728907,
            736596755,
            875039160,
            1831008220
           ],
           "y": [
            "Oil palm fruit",
            "Sugar beet",
            "Vegetables, fresh nes",
            "Cassava",
            "Potatoes",
            "Rice, paddy (rice milled equivalent)",
            "Wheat",
            "Rice, paddy",
            "Maize",
            "Sugar cane"
           ]
          }
         ],
         "layout": {
          "bargap": 0.15,
          "font": {
           "size": 14
          },
          "plot_bgcolor": "#FFFFFF",
          "xaxis": {
           "range": [
            0,
            1907024730
           ],
           "showline": true,
           "visible": true
          },
          "yaxis": {
           "showline": false,
           "visible": true
          }
         },
         "name": "2012"
        },
        {
         "data": [
          {
           "cliponaxis": false,
           "hoverinfo": "all",
           "hovertemplate": "<extra></extra>",
           "marker": {
            "color": [
             "rgb(115, 187, 126)",
             "rgb(19, 82, 17)",
             "rgb(169, 215, 204)",
             "rgb(191, 94, 110)",
             "rgb(141, 125, 232)",
             "rgb(222, 180, 201)",
             "rgb(87, 228, 34)",
             "rgb(165, 95, 93)",
             "rgb(142, 153, 131)",
             "rgb(174, 70, 226)"
            ]
           },
           "orientation": "h",
           "textangle": 0,
           "textposition": "outside",
           "texttemplate": "%{y}<br>%{x:.4s}",
           "type": "bar",
           "x": [
            265060825,
            277672608,
            277982471,
            278454322,
            365087514,
            495250794,
            710397103,
            742504938,
            1016207182,
            1901868866
           ],
           "y": [
            "Oil palm fruit",
            "Soybeans",
            "Vegetables, fresh nes",
            "Cassava",
            "Potatoes",
            "Rice, paddy (rice milled equivalent)",
            "Wheat",
            "Rice, paddy",
            "Maize",
            "Sugar cane"
           ]
          }
         ],
         "layout": {
          "bargap": 0.15,
          "font": {
           "size": 14
          },
          "plot_bgcolor": "#FFFFFF",
          "xaxis": {
           "range": [
            0,
            1907024730
           ],
           "showline": true,
           "visible": true
          },
          "yaxis": {
           "showline": false,
           "visible": true
          }
         },
         "name": "2013"
        },
        {
         "data": [
          {
           "cliponaxis": false,
           "hoverinfo": "all",
           "hovertemplate": "<extra></extra>",
           "marker": {
            "color": [
             "rgb(169, 215, 204)",
             "rgb(115, 187, 126)",
             "rgb(191, 94, 110)",
             "rgb(19, 82, 17)",
             "rgb(141, 125, 232)",
             "rgb(222, 180, 201)",
             "rgb(87, 228, 34)",
             "rgb(165, 95, 93)",
             "rgb(142, 153, 131)",
             "rgb(174, 70, 226)"
            ]
           },
           "orientation": "h",
           "textangle": 0,
           "textposition": "outside",
           "texttemplate": "%{y}<br>%{x:.4s}",
           "type": "bar",
           "x": [
            285693443,
            285916764,
            290942989,
            306348530,
            369966532,
            495216917,
            728730126,
            742454148,
            1039226655,
            1885955643
           ],
           "y": [
            "Vegetables, fresh nes",
            "Oil palm fruit",
            "Cassava",
            "Soybeans",
            "Potatoes",
            "Rice, paddy (rice milled equivalent)",
            "Wheat",
            "Rice, paddy",
            "Maize",
            "Sugar cane"
           ]
          }
         ],
         "layout": {
          "bargap": 0.15,
          "font": {
           "size": 14
          },
          "plot_bgcolor": "#FFFFFF",
          "xaxis": {
           "range": [
            0,
            1907024730
           ],
           "showline": true,
           "visible": true
          },
          "yaxis": {
           "showline": false,
           "visible": true
          }
         },
         "name": "2014"
        },
        {
         "data": [
          {
           "cliponaxis": false,
           "hoverinfo": "all",
           "hovertemplate": "<extra></extra>",
           "marker": {
            "color": [
             "rgb(169, 215, 204)",
             "rgb(191, 94, 110)",
             "rgb(115, 187, 126)",
             "rgb(19, 82, 17)",
             "rgb(141, 125, 232)",
             "rgb(222, 180, 201)",
             "rgb(87, 228, 34)",
             "rgb(165, 95, 93)",
             "rgb(142, 153, 131)",
             "rgb(174, 70, 226)"
            ]
           },
           "orientation": "h",
           "textangle": 0,
           "textposition": "outside",
           "texttemplate": "%{y}<br>%{x:.4s}",
           "type": "bar",
           "x": [
            288931169,
            293010305,
            300284643,
            323306702,
            365748227,
            497518927,
            741643258,
            745905437,
            1052127378,
            1875060932
           ],
           "y": [
            "Vegetables, fresh nes",
            "Cassava",
            "Oil palm fruit",
            "Soybeans",
            "Potatoes",
            "Rice, paddy (rice milled equivalent)",
            "Wheat",
            "Rice, paddy",
            "Maize",
            "Sugar cane"
           ]
          }
         ],
         "layout": {
          "bargap": 0.15,
          "font": {
           "size": 14
          },
          "plot_bgcolor": "#FFFFFF",
          "xaxis": {
           "range": [
            0,
            1907024730
           ],
           "showline": true,
           "visible": true
          },
          "yaxis": {
           "showline": false,
           "visible": true
          }
         },
         "name": "2015"
        },
        {
         "data": [
          {
           "cliponaxis": false,
           "hoverinfo": "all",
           "hovertemplate": "<extra></extra>",
           "marker": {
            "color": [
             "rgb(133, 10, 182)",
             "rgb(191, 94, 110)",
             "rgb(169, 215, 204)",
             "rgb(19, 82, 17)",
             "rgb(141, 125, 232)",
             "rgb(222, 180, 201)",
             "rgb(87, 228, 34)",
             "rgb(165, 95, 93)",
             "rgb(142, 153, 131)",
             "rgb(174, 70, 226)"
            ]
           },
           "orientation": "h",
           "textangle": 0,
           "textposition": "outside",
           "texttemplate": "%{y}<br>%{x:.4s}",
           "type": "bar",
           "x": [
            278702349,
            288497460,
            292920885,
            335613801,
            356952488,
            501507373,
            748392150,
            751885117,
            1126990585,
            1874611396
           ],
           "y": [
            "Sugar beet",
            "Cassava",
            "Vegetables, fresh nes",
            "Soybeans",
            "Potatoes",
            "Rice, paddy (rice milled equivalent)",
            "Wheat",
            "Rice, paddy",
            "Maize",
            "Sugar cane"
           ]
          }
         ],
         "layout": {
          "bargap": 0.15,
          "font": {
           "size": 14
          },
          "plot_bgcolor": "#FFFFFF",
          "xaxis": {
           "range": [
            0,
            1907024730
           ],
           "showline": true,
           "visible": true
          },
          "yaxis": {
           "showline": false,
           "visible": true
          }
         },
         "name": "2016"
        },
        {
         "data": [
          {
           "cliponaxis": false,
           "hoverinfo": "all",
           "hovertemplate": "<extra></extra>",
           "marker": {
            "color": [
             "rgb(191, 94, 110)",
             "rgb(169, 215, 204)",
             "rgb(133, 10, 182)",
             "rgb(19, 82, 17)",
             "rgb(141, 125, 232)",
             "rgb(222, 180, 201)",
             "rgb(165, 95, 93)",
             "rgb(87, 228, 34)",
             "rgb(142, 153, 131)",
             "rgb(174, 70, 226)"
            ]
           },
           "orientation": "h",
           "textangle": 0,
           "textposition": "outside",
           "texttemplate": "%{y}<br>%{x:.4s}",
           "type": "bar",
           "x": [
            279304523,
            294934038,
            310374816,
            353026796,
            373774234,
            513476024,
            769829121,
            773476524,
            1164400832,
            1851333716
           ],
           "y": [
            "Cassava",
            "Vegetables, fresh nes",
            "Sugar beet",
            "Soybeans",
            "Potatoes",
            "Rice, paddy (rice milled equivalent)",
            "Rice, paddy",
            "Wheat",
            "Maize",
            "Sugar cane"
           ]
          }
         ],
         "layout": {
          "bargap": 0.15,
          "font": {
           "size": 14
          },
          "plot_bgcolor": "#FFFFFF",
          "xaxis": {
           "range": [
            0,
            1907024730
           ],
           "showline": true,
           "visible": true
          },
          "yaxis": {
           "showline": false,
           "visible": true
          }
         },
         "name": "2017"
        },
        {
         "data": [
          {
           "cliponaxis": false,
           "hoverinfo": "all",
           "hovertemplate": "<extra></extra>",
           "marker": {
            "color": [
             "rgb(133, 10, 182)",
             "rgb(191, 94, 110)",
             "rgb(169, 215, 204)",
             "rgb(19, 82, 17)",
             "rgb(141, 125, 232)",
             "rgb(222, 180, 201)",
             "rgb(87, 228, 34)",
             "rgb(165, 95, 93)",
             "rgb(142, 153, 131)",
             "rgb(174, 70, 226)"
            ]
           },
           "orientation": "h",
           "textangle": 0,
           "textposition": "outside",
           "texttemplate": "%{y}<br>%{x:.4s}",
           "type": "bar",
           "x": [
            274886306,
            277808759,
            297596674,
            348712311,
            368168914,
            521594098,
            734045174,
            782000147,
            1147621938,
            1907024730
           ],
           "y": [
            "Sugar beet",
            "Cassava",
            "Vegetables, fresh nes",
            "Soybeans",
            "Potatoes",
            "Rice, paddy (rice milled equivalent)",
            "Wheat",
            "Rice, paddy",
            "Maize",
            "Sugar cane"
           ]
          }
         ],
         "layout": {
          "bargap": 0.15,
          "font": {
           "size": 14
          },
          "plot_bgcolor": "#FFFFFF",
          "xaxis": {
           "range": [
            0,
            1907024730
           ],
           "showline": true,
           "visible": true
          },
          "yaxis": {
           "showline": false,
           "visible": true
          }
         },
         "name": "2018"
        }
       ],
       "layout": {
        "bargap": 0.15,
        "font": {
         "size": 14
        },
        "plot_bgcolor": "#FFFFFF",
        "sliders": [
         {
          "active": 0,
          "currentvalue": {
           "font": {
            "size": 20
           },
           "prefix": "Year: ",
           "visible": true,
           "xanchor": "right"
          },
          "len": 0.9,
          "pad": {
           "b": 10,
           "t": 50
          },
          "steps": [
           {
            "args": [
             [
              "1961"
             ],
             {
              "frame": {
               "duration": 300,
               "redraw": false
              },
              "mode": "immediate",
              "transition": {
               "duration": 300
              }
             }
            ],
            "label": "1961",
            "method": "animate"
           },
           {
            "args": [
             [
              "1962"
             ],
             {
              "frame": {
               "duration": 300,
               "redraw": false
              },
              "mode": "immediate",
              "transition": {
               "duration": 300
              }
             }
            ],
            "label": "1962",
            "method": "animate"
           },
           {
            "args": [
             [
              "1963"
             ],
             {
              "frame": {
               "duration": 300,
               "redraw": false
              },
              "mode": "immediate",
              "transition": {
               "duration": 300
              }
             }
            ],
            "label": "1963",
            "method": "animate"
           },
           {
            "args": [
             [
              "1964"
             ],
             {
              "frame": {
               "duration": 300,
               "redraw": false
              },
              "mode": "immediate",
              "transition": {
               "duration": 300
              }
             }
            ],
            "label": "1964",
            "method": "animate"
           },
           {
            "args": [
             [
              "1965"
             ],
             {
              "frame": {
               "duration": 300,
               "redraw": false
              },
              "mode": "immediate",
              "transition": {
               "duration": 300
              }
             }
            ],
            "label": "1965",
            "method": "animate"
           },
           {
            "args": [
             [
              "1966"
             ],
             {
              "frame": {
               "duration": 300,
               "redraw": false
              },
              "mode": "immediate",
              "transition": {
               "duration": 300
              }
             }
            ],
            "label": "1966",
            "method": "animate"
           },
           {
            "args": [
             [
              "1967"
             ],
             {
              "frame": {
               "duration": 300,
               "redraw": false
              },
              "mode": "immediate",
              "transition": {
               "duration": 300
              }
             }
            ],
            "label": "1967",
            "method": "animate"
           },
           {
            "args": [
             [
              "1968"
             ],
             {
              "frame": {
               "duration": 300,
               "redraw": false
              },
              "mode": "immediate",
              "transition": {
               "duration": 300
              }
             }
            ],
            "label": "1968",
            "method": "animate"
           },
           {
            "args": [
             [
              "1969"
             ],
             {
              "frame": {
               "duration": 300,
               "redraw": false
              },
              "mode": "immediate",
              "transition": {
               "duration": 300
              }
             }
            ],
            "label": "1969",
            "method": "animate"
           },
           {
            "args": [
             [
              "1970"
             ],
             {
              "frame": {
               "duration": 300,
               "redraw": false
              },
              "mode": "immediate",
              "transition": {
               "duration": 300
              }
             }
            ],
            "label": "1970",
            "method": "animate"
           },
           {
            "args": [
             [
              "1971"
             ],
             {
              "frame": {
               "duration": 300,
               "redraw": false
              },
              "mode": "immediate",
              "transition": {
               "duration": 300
              }
             }
            ],
            "label": "1971",
            "method": "animate"
           },
           {
            "args": [
             [
              "1972"
             ],
             {
              "frame": {
               "duration": 300,
               "redraw": false
              },
              "mode": "immediate",
              "transition": {
               "duration": 300
              }
             }
            ],
            "label": "1972",
            "method": "animate"
           },
           {
            "args": [
             [
              "1973"
             ],
             {
              "frame": {
               "duration": 300,
               "redraw": false
              },
              "mode": "immediate",
              "transition": {
               "duration": 300
              }
             }
            ],
            "label": "1973",
            "method": "animate"
           },
           {
            "args": [
             [
              "1974"
             ],
             {
              "frame": {
               "duration": 300,
               "redraw": false
              },
              "mode": "immediate",
              "transition": {
               "duration": 300
              }
             }
            ],
            "label": "1974",
            "method": "animate"
           },
           {
            "args": [
             [
              "1975"
             ],
             {
              "frame": {
               "duration": 300,
               "redraw": false
              },
              "mode": "immediate",
              "transition": {
               "duration": 300
              }
             }
            ],
            "label": "1975",
            "method": "animate"
           },
           {
            "args": [
             [
              "1976"
             ],
             {
              "frame": {
               "duration": 300,
               "redraw": false
              },
              "mode": "immediate",
              "transition": {
               "duration": 300
              }
             }
            ],
            "label": "1976",
            "method": "animate"
           },
           {
            "args": [
             [
              "1977"
             ],
             {
              "frame": {
               "duration": 300,
               "redraw": false
              },
              "mode": "immediate",
              "transition": {
               "duration": 300
              }
             }
            ],
            "label": "1977",
            "method": "animate"
           },
           {
            "args": [
             [
              "1978"
             ],
             {
              "frame": {
               "duration": 300,
               "redraw": false
              },
              "mode": "immediate",
              "transition": {
               "duration": 300
              }
             }
            ],
            "label": "1978",
            "method": "animate"
           },
           {
            "args": [
             [
              "1979"
             ],
             {
              "frame": {
               "duration": 300,
               "redraw": false
              },
              "mode": "immediate",
              "transition": {
               "duration": 300
              }
             }
            ],
            "label": "1979",
            "method": "animate"
           },
           {
            "args": [
             [
              "1980"
             ],
             {
              "frame": {
               "duration": 300,
               "redraw": false
              },
              "mode": "immediate",
              "transition": {
               "duration": 300
              }
             }
            ],
            "label": "1980",
            "method": "animate"
           },
           {
            "args": [
             [
              "1981"
             ],
             {
              "frame": {
               "duration": 300,
               "redraw": false
              },
              "mode": "immediate",
              "transition": {
               "duration": 300
              }
             }
            ],
            "label": "1981",
            "method": "animate"
           },
           {
            "args": [
             [
              "1982"
             ],
             {
              "frame": {
               "duration": 300,
               "redraw": false
              },
              "mode": "immediate",
              "transition": {
               "duration": 300
              }
             }
            ],
            "label": "1982",
            "method": "animate"
           },
           {
            "args": [
             [
              "1983"
             ],
             {
              "frame": {
               "duration": 300,
               "redraw": false
              },
              "mode": "immediate",
              "transition": {
               "duration": 300
              }
             }
            ],
            "label": "1983",
            "method": "animate"
           },
           {
            "args": [
             [
              "1984"
             ],
             {
              "frame": {
               "duration": 300,
               "redraw": false
              },
              "mode": "immediate",
              "transition": {
               "duration": 300
              }
             }
            ],
            "label": "1984",
            "method": "animate"
           },
           {
            "args": [
             [
              "1985"
             ],
             {
              "frame": {
               "duration": 300,
               "redraw": false
              },
              "mode": "immediate",
              "transition": {
               "duration": 300
              }
             }
            ],
            "label": "1985",
            "method": "animate"
           },
           {
            "args": [
             [
              "1986"
             ],
             {
              "frame": {
               "duration": 300,
               "redraw": false
              },
              "mode": "immediate",
              "transition": {
               "duration": 300
              }
             }
            ],
            "label": "1986",
            "method": "animate"
           },
           {
            "args": [
             [
              "1987"
             ],
             {
              "frame": {
               "duration": 300,
               "redraw": false
              },
              "mode": "immediate",
              "transition": {
               "duration": 300
              }
             }
            ],
            "label": "1987",
            "method": "animate"
           },
           {
            "args": [
             [
              "1988"
             ],
             {
              "frame": {
               "duration": 300,
               "redraw": false
              },
              "mode": "immediate",
              "transition": {
               "duration": 300
              }
             }
            ],
            "label": "1988",
            "method": "animate"
           },
           {
            "args": [
             [
              "1989"
             ],
             {
              "frame": {
               "duration": 300,
               "redraw": false
              },
              "mode": "immediate",
              "transition": {
               "duration": 300
              }
             }
            ],
            "label": "1989",
            "method": "animate"
           },
           {
            "args": [
             [
              "1990"
             ],
             {
              "frame": {
               "duration": 300,
               "redraw": false
              },
              "mode": "immediate",
              "transition": {
               "duration": 300
              }
             }
            ],
            "label": "1990",
            "method": "animate"
           },
           {
            "args": [
             [
              "1991"
             ],
             {
              "frame": {
               "duration": 300,
               "redraw": false
              },
              "mode": "immediate",
              "transition": {
               "duration": 300
              }
             }
            ],
            "label": "1991",
            "method": "animate"
           },
           {
            "args": [
             [
              "1992"
             ],
             {
              "frame": {
               "duration": 300,
               "redraw": false
              },
              "mode": "immediate",
              "transition": {
               "duration": 300
              }
             }
            ],
            "label": "1992",
            "method": "animate"
           },
           {
            "args": [
             [
              "1993"
             ],
             {
              "frame": {
               "duration": 300,
               "redraw": false
              },
              "mode": "immediate",
              "transition": {
               "duration": 300
              }
             }
            ],
            "label": "1993",
            "method": "animate"
           },
           {
            "args": [
             [
              "1994"
             ],
             {
              "frame": {
               "duration": 300,
               "redraw": false
              },
              "mode": "immediate",
              "transition": {
               "duration": 300
              }
             }
            ],
            "label": "1994",
            "method": "animate"
           },
           {
            "args": [
             [
              "1995"
             ],
             {
              "frame": {
               "duration": 300,
               "redraw": false
              },
              "mode": "immediate",
              "transition": {
               "duration": 300
              }
             }
            ],
            "label": "1995",
            "method": "animate"
           },
           {
            "args": [
             [
              "1996"
             ],
             {
              "frame": {
               "duration": 300,
               "redraw": false
              },
              "mode": "immediate",
              "transition": {
               "duration": 300
              }
             }
            ],
            "label": "1996",
            "method": "animate"
           },
           {
            "args": [
             [
              "1997"
             ],
             {
              "frame": {
               "duration": 300,
               "redraw": false
              },
              "mode": "immediate",
              "transition": {
               "duration": 300
              }
             }
            ],
            "label": "1997",
            "method": "animate"
           },
           {
            "args": [
             [
              "1998"
             ],
             {
              "frame": {
               "duration": 300,
               "redraw": false
              },
              "mode": "immediate",
              "transition": {
               "duration": 300
              }
             }
            ],
            "label": "1998",
            "method": "animate"
           },
           {
            "args": [
             [
              "1999"
             ],
             {
              "frame": {
               "duration": 300,
               "redraw": false
              },
              "mode": "immediate",
              "transition": {
               "duration": 300
              }
             }
            ],
            "label": "1999",
            "method": "animate"
           },
           {
            "args": [
             [
              "2000"
             ],
             {
              "frame": {
               "duration": 300,
               "redraw": false
              },
              "mode": "immediate",
              "transition": {
               "duration": 300
              }
             }
            ],
            "label": "2000",
            "method": "animate"
           },
           {
            "args": [
             [
              "2001"
             ],
             {
              "frame": {
               "duration": 300,
               "redraw": false
              },
              "mode": "immediate",
              "transition": {
               "duration": 300
              }
             }
            ],
            "label": "2001",
            "method": "animate"
           },
           {
            "args": [
             [
              "2002"
             ],
             {
              "frame": {
               "duration": 300,
               "redraw": false
              },
              "mode": "immediate",
              "transition": {
               "duration": 300
              }
             }
            ],
            "label": "2002",
            "method": "animate"
           },
           {
            "args": [
             [
              "2003"
             ],
             {
              "frame": {
               "duration": 300,
               "redraw": false
              },
              "mode": "immediate",
              "transition": {
               "duration": 300
              }
             }
            ],
            "label": "2003",
            "method": "animate"
           },
           {
            "args": [
             [
              "2004"
             ],
             {
              "frame": {
               "duration": 300,
               "redraw": false
              },
              "mode": "immediate",
              "transition": {
               "duration": 300
              }
             }
            ],
            "label": "2004",
            "method": "animate"
           },
           {
            "args": [
             [
              "2005"
             ],
             {
              "frame": {
               "duration": 300,
               "redraw": false
              },
              "mode": "immediate",
              "transition": {
               "duration": 300
              }
             }
            ],
            "label": "2005",
            "method": "animate"
           },
           {
            "args": [
             [
              "2006"
             ],
             {
              "frame": {
               "duration": 300,
               "redraw": false
              },
              "mode": "immediate",
              "transition": {
               "duration": 300
              }
             }
            ],
            "label": "2006",
            "method": "animate"
           },
           {
            "args": [
             [
              "2007"
             ],
             {
              "frame": {
               "duration": 300,
               "redraw": false
              },
              "mode": "immediate",
              "transition": {
               "duration": 300
              }
             }
            ],
            "label": "2007",
            "method": "animate"
           },
           {
            "args": [
             [
              "2008"
             ],
             {
              "frame": {
               "duration": 300,
               "redraw": false
              },
              "mode": "immediate",
              "transition": {
               "duration": 300
              }
             }
            ],
            "label": "2008",
            "method": "animate"
           },
           {
            "args": [
             [
              "2009"
             ],
             {
              "frame": {
               "duration": 300,
               "redraw": false
              },
              "mode": "immediate",
              "transition": {
               "duration": 300
              }
             }
            ],
            "label": "2009",
            "method": "animate"
           },
           {
            "args": [
             [
              "2010"
             ],
             {
              "frame": {
               "duration": 300,
               "redraw": false
              },
              "mode": "immediate",
              "transition": {
               "duration": 300
              }
             }
            ],
            "label": "2010",
            "method": "animate"
           },
           {
            "args": [
             [
              "2011"
             ],
             {
              "frame": {
               "duration": 300,
               "redraw": false
              },
              "mode": "immediate",
              "transition": {
               "duration": 300
              }
             }
            ],
            "label": "2011",
            "method": "animate"
           },
           {
            "args": [
             [
              "2012"
             ],
             {
              "frame": {
               "duration": 300,
               "redraw": false
              },
              "mode": "immediate",
              "transition": {
               "duration": 300
              }
             }
            ],
            "label": "2012",
            "method": "animate"
           },
           {
            "args": [
             [
              "2013"
             ],
             {
              "frame": {
               "duration": 300,
               "redraw": false
              },
              "mode": "immediate",
              "transition": {
               "duration": 300
              }
             }
            ],
            "label": "2013",
            "method": "animate"
           },
           {
            "args": [
             [
              "2014"
             ],
             {
              "frame": {
               "duration": 300,
               "redraw": false
              },
              "mode": "immediate",
              "transition": {
               "duration": 300
              }
             }
            ],
            "label": "2014",
            "method": "animate"
           },
           {
            "args": [
             [
              "2015"
             ],
             {
              "frame": {
               "duration": 300,
               "redraw": false
              },
              "mode": "immediate",
              "transition": {
               "duration": 300
              }
             }
            ],
            "label": "2015",
            "method": "animate"
           },
           {
            "args": [
             [
              "2016"
             ],
             {
              "frame": {
               "duration": 300,
               "redraw": false
              },
              "mode": "immediate",
              "transition": {
               "duration": 300
              }
             }
            ],
            "label": "2016",
            "method": "animate"
           },
           {
            "args": [
             [
              "2017"
             ],
             {
              "frame": {
               "duration": 300,
               "redraw": false
              },
              "mode": "immediate",
              "transition": {
               "duration": 300
              }
             }
            ],
            "label": "2017",
            "method": "animate"
           },
           {
            "args": [
             [
              "2018"
             ],
             {
              "frame": {
               "duration": 300,
               "redraw": false
              },
              "mode": "immediate",
              "transition": {
               "duration": 300
              }
             }
            ],
            "label": "2018",
            "method": "animate"
           }
          ],
          "transition": {
           "duration": 300,
           "easing": "cubic-in-out"
          },
          "x": 0.1,
          "xanchor": "left",
          "y": 0,
          "yanchor": "top"
         }
        ],
        "template": {
         "data": {
          "bar": [
           {
            "error_x": {
             "color": "#2a3f5f"
            },
            "error_y": {
             "color": "#2a3f5f"
            },
            "marker": {
             "line": {
              "color": "#E5ECF6",
              "width": 0.5
             }
            },
            "type": "bar"
           }
          ],
          "barpolar": [
           {
            "marker": {
             "line": {
              "color": "#E5ECF6",
              "width": 0.5
             }
            },
            "type": "barpolar"
           }
          ],
          "carpet": [
           {
            "aaxis": {
             "endlinecolor": "#2a3f5f",
             "gridcolor": "white",
             "linecolor": "white",
             "minorgridcolor": "white",
             "startlinecolor": "#2a3f5f"
            },
            "baxis": {
             "endlinecolor": "#2a3f5f",
             "gridcolor": "white",
             "linecolor": "white",
             "minorgridcolor": "white",
             "startlinecolor": "#2a3f5f"
            },
            "type": "carpet"
           }
          ],
          "choropleth": [
           {
            "colorbar": {
             "outlinewidth": 0,
             "ticks": ""
            },
            "type": "choropleth"
           }
          ],
          "contour": [
           {
            "colorbar": {
             "outlinewidth": 0,
             "ticks": ""
            },
            "colorscale": [
             [
              0,
              "#0d0887"
             ],
             [
              0.1111111111111111,
              "#46039f"
             ],
             [
              0.2222222222222222,
              "#7201a8"
             ],
             [
              0.3333333333333333,
              "#9c179e"
             ],
             [
              0.4444444444444444,
              "#bd3786"
             ],
             [
              0.5555555555555556,
              "#d8576b"
             ],
             [
              0.6666666666666666,
              "#ed7953"
             ],
             [
              0.7777777777777778,
              "#fb9f3a"
             ],
             [
              0.8888888888888888,
              "#fdca26"
             ],
             [
              1,
              "#f0f921"
             ]
            ],
            "type": "contour"
           }
          ],
          "contourcarpet": [
           {
            "colorbar": {
             "outlinewidth": 0,
             "ticks": ""
            },
            "type": "contourcarpet"
           }
          ],
          "heatmap": [
           {
            "colorbar": {
             "outlinewidth": 0,
             "ticks": ""
            },
            "colorscale": [
             [
              0,
              "#0d0887"
             ],
             [
              0.1111111111111111,
              "#46039f"
             ],
             [
              0.2222222222222222,
              "#7201a8"
             ],
             [
              0.3333333333333333,
              "#9c179e"
             ],
             [
              0.4444444444444444,
              "#bd3786"
             ],
             [
              0.5555555555555556,
              "#d8576b"
             ],
             [
              0.6666666666666666,
              "#ed7953"
             ],
             [
              0.7777777777777778,
              "#fb9f3a"
             ],
             [
              0.8888888888888888,
              "#fdca26"
             ],
             [
              1,
              "#f0f921"
             ]
            ],
            "type": "heatmap"
           }
          ],
          "heatmapgl": [
           {
            "colorbar": {
             "outlinewidth": 0,
             "ticks": ""
            },
            "colorscale": [
             [
              0,
              "#0d0887"
             ],
             [
              0.1111111111111111,
              "#46039f"
             ],
             [
              0.2222222222222222,
              "#7201a8"
             ],
             [
              0.3333333333333333,
              "#9c179e"
             ],
             [
              0.4444444444444444,
              "#bd3786"
             ],
             [
              0.5555555555555556,
              "#d8576b"
             ],
             [
              0.6666666666666666,
              "#ed7953"
             ],
             [
              0.7777777777777778,
              "#fb9f3a"
             ],
             [
              0.8888888888888888,
              "#fdca26"
             ],
             [
              1,
              "#f0f921"
             ]
            ],
            "type": "heatmapgl"
           }
          ],
          "histogram": [
           {
            "marker": {
             "colorbar": {
              "outlinewidth": 0,
              "ticks": ""
             }
            },
            "type": "histogram"
           }
          ],
          "histogram2d": [
           {
            "colorbar": {
             "outlinewidth": 0,
             "ticks": ""
            },
            "colorscale": [
             [
              0,
              "#0d0887"
             ],
             [
              0.1111111111111111,
              "#46039f"
             ],
             [
              0.2222222222222222,
              "#7201a8"
             ],
             [
              0.3333333333333333,
              "#9c179e"
             ],
             [
              0.4444444444444444,
              "#bd3786"
             ],
             [
              0.5555555555555556,
              "#d8576b"
             ],
             [
              0.6666666666666666,
              "#ed7953"
             ],
             [
              0.7777777777777778,
              "#fb9f3a"
             ],
             [
              0.8888888888888888,
              "#fdca26"
             ],
             [
              1,
              "#f0f921"
             ]
            ],
            "type": "histogram2d"
           }
          ],
          "histogram2dcontour": [
           {
            "colorbar": {
             "outlinewidth": 0,
             "ticks": ""
            },
            "colorscale": [
             [
              0,
              "#0d0887"
             ],
             [
              0.1111111111111111,
              "#46039f"
             ],
             [
              0.2222222222222222,
              "#7201a8"
             ],
             [
              0.3333333333333333,
              "#9c179e"
             ],
             [
              0.4444444444444444,
              "#bd3786"
             ],
             [
              0.5555555555555556,
              "#d8576b"
             ],
             [
              0.6666666666666666,
              "#ed7953"
             ],
             [
              0.7777777777777778,
              "#fb9f3a"
             ],
             [
              0.8888888888888888,
              "#fdca26"
             ],
             [
              1,
              "#f0f921"
             ]
            ],
            "type": "histogram2dcontour"
           }
          ],
          "mesh3d": [
           {
            "colorbar": {
             "outlinewidth": 0,
             "ticks": ""
            },
            "type": "mesh3d"
           }
          ],
          "parcoords": [
           {
            "line": {
             "colorbar": {
              "outlinewidth": 0,
              "ticks": ""
             }
            },
            "type": "parcoords"
           }
          ],
          "pie": [
           {
            "automargin": true,
            "type": "pie"
           }
          ],
          "scatter": [
           {
            "marker": {
             "colorbar": {
              "outlinewidth": 0,
              "ticks": ""
             }
            },
            "type": "scatter"
           }
          ],
          "scatter3d": [
           {
            "line": {
             "colorbar": {
              "outlinewidth": 0,
              "ticks": ""
             }
            },
            "marker": {
             "colorbar": {
              "outlinewidth": 0,
              "ticks": ""
             }
            },
            "type": "scatter3d"
           }
          ],
          "scattercarpet": [
           {
            "marker": {
             "colorbar": {
              "outlinewidth": 0,
              "ticks": ""
             }
            },
            "type": "scattercarpet"
           }
          ],
          "scattergeo": [
           {
            "marker": {
             "colorbar": {
              "outlinewidth": 0,
              "ticks": ""
             }
            },
            "type": "scattergeo"
           }
          ],
          "scattergl": [
           {
            "marker": {
             "colorbar": {
              "outlinewidth": 0,
              "ticks": ""
             }
            },
            "type": "scattergl"
           }
          ],
          "scattermapbox": [
           {
            "marker": {
             "colorbar": {
              "outlinewidth": 0,
              "ticks": ""
             }
            },
            "type": "scattermapbox"
           }
          ],
          "scatterpolar": [
           {
            "marker": {
             "colorbar": {
              "outlinewidth": 0,
              "ticks": ""
             }
            },
            "type": "scatterpolar"
           }
          ],
          "scatterpolargl": [
           {
            "marker": {
             "colorbar": {
              "outlinewidth": 0,
              "ticks": ""
             }
            },
            "type": "scatterpolargl"
           }
          ],
          "scatterternary": [
           {
            "marker": {
             "colorbar": {
              "outlinewidth": 0,
              "ticks": ""
             }
            },
            "type": "scatterternary"
           }
          ],
          "surface": [
           {
            "colorbar": {
             "outlinewidth": 0,
             "ticks": ""
            },
            "colorscale": [
             [
              0,
              "#0d0887"
             ],
             [
              0.1111111111111111,
              "#46039f"
             ],
             [
              0.2222222222222222,
              "#7201a8"
             ],
             [
              0.3333333333333333,
              "#9c179e"
             ],
             [
              0.4444444444444444,
              "#bd3786"
             ],
             [
              0.5555555555555556,
              "#d8576b"
             ],
             [
              0.6666666666666666,
              "#ed7953"
             ],
             [
              0.7777777777777778,
              "#fb9f3a"
             ],
             [
              0.8888888888888888,
              "#fdca26"
             ],
             [
              1,
              "#f0f921"
             ]
            ],
            "type": "surface"
           }
          ],
          "table": [
           {
            "cells": {
             "fill": {
              "color": "#EBF0F8"
             },
             "line": {
              "color": "white"
             }
            },
            "header": {
             "fill": {
              "color": "#C8D4E3"
             },
             "line": {
              "color": "white"
             }
            },
            "type": "table"
           }
          ]
         },
         "layout": {
          "annotationdefaults": {
           "arrowcolor": "#2a3f5f",
           "arrowhead": 0,
           "arrowwidth": 1
          },
          "coloraxis": {
           "colorbar": {
            "outlinewidth": 0,
            "ticks": ""
           }
          },
          "colorscale": {
           "diverging": [
            [
             0,
             "#8e0152"
            ],
            [
             0.1,
             "#c51b7d"
            ],
            [
             0.2,
             "#de77ae"
            ],
            [
             0.3,
             "#f1b6da"
            ],
            [
             0.4,
             "#fde0ef"
            ],
            [
             0.5,
             "#f7f7f7"
            ],
            [
             0.6,
             "#e6f5d0"
            ],
            [
             0.7,
             "#b8e186"
            ],
            [
             0.8,
             "#7fbc41"
            ],
            [
             0.9,
             "#4d9221"
            ],
            [
             1,
             "#276419"
            ]
           ],
           "sequential": [
            [
             0,
             "#0d0887"
            ],
            [
             0.1111111111111111,
             "#46039f"
            ],
            [
             0.2222222222222222,
             "#7201a8"
            ],
            [
             0.3333333333333333,
             "#9c179e"
            ],
            [
             0.4444444444444444,
             "#bd3786"
            ],
            [
             0.5555555555555556,
             "#d8576b"
            ],
            [
             0.6666666666666666,
             "#ed7953"
            ],
            [
             0.7777777777777778,
             "#fb9f3a"
            ],
            [
             0.8888888888888888,
             "#fdca26"
            ],
            [
             1,
             "#f0f921"
            ]
           ],
           "sequentialminus": [
            [
             0,
             "#0d0887"
            ],
            [
             0.1111111111111111,
             "#46039f"
            ],
            [
             0.2222222222222222,
             "#7201a8"
            ],
            [
             0.3333333333333333,
             "#9c179e"
            ],
            [
             0.4444444444444444,
             "#bd3786"
            ],
            [
             0.5555555555555556,
             "#d8576b"
            ],
            [
             0.6666666666666666,
             "#ed7953"
            ],
            [
             0.7777777777777778,
             "#fb9f3a"
            ],
            [
             0.8888888888888888,
             "#fdca26"
            ],
            [
             1,
             "#f0f921"
            ]
           ]
          },
          "colorway": [
           "#636efa",
           "#EF553B",
           "#00cc96",
           "#ab63fa",
           "#FFA15A",
           "#19d3f3",
           "#FF6692",
           "#B6E880",
           "#FF97FF",
           "#FECB52"
          ],
          "font": {
           "color": "#2a3f5f"
          },
          "geo": {
           "bgcolor": "white",
           "lakecolor": "white",
           "landcolor": "#E5ECF6",
           "showlakes": true,
           "showland": true,
           "subunitcolor": "white"
          },
          "hoverlabel": {
           "align": "left"
          },
          "hovermode": "closest",
          "mapbox": {
           "style": "light"
          },
          "paper_bgcolor": "white",
          "plot_bgcolor": "#E5ECF6",
          "polar": {
           "angularaxis": {
            "gridcolor": "white",
            "linecolor": "white",
            "ticks": ""
           },
           "bgcolor": "#E5ECF6",
           "radialaxis": {
            "gridcolor": "white",
            "linecolor": "white",
            "ticks": ""
           }
          },
          "scene": {
           "xaxis": {
            "backgroundcolor": "#E5ECF6",
            "gridcolor": "white",
            "gridwidth": 2,
            "linecolor": "white",
            "showbackground": true,
            "ticks": "",
            "zerolinecolor": "white"
           },
           "yaxis": {
            "backgroundcolor": "#E5ECF6",
            "gridcolor": "white",
            "gridwidth": 2,
            "linecolor": "white",
            "showbackground": true,
            "ticks": "",
            "zerolinecolor": "white"
           },
           "zaxis": {
            "backgroundcolor": "#E5ECF6",
            "gridcolor": "white",
            "gridwidth": 2,
            "linecolor": "white",
            "showbackground": true,
            "ticks": "",
            "zerolinecolor": "white"
           }
          },
          "shapedefaults": {
           "line": {
            "color": "#2a3f5f"
           }
          },
          "ternary": {
           "aaxis": {
            "gridcolor": "white",
            "linecolor": "white",
            "ticks": ""
           },
           "baxis": {
            "gridcolor": "white",
            "linecolor": "white",
            "ticks": ""
           },
           "bgcolor": "#E5ECF6",
           "caxis": {
            "gridcolor": "white",
            "linecolor": "white",
            "ticks": ""
           }
          },
          "title": {
           "x": 0.05
          },
          "xaxis": {
           "automargin": true,
           "gridcolor": "white",
           "linecolor": "white",
           "ticks": "",
           "title": {
            "standoff": 15
           },
           "zerolinecolor": "white",
           "zerolinewidth": 2
          },
          "yaxis": {
           "automargin": true,
           "gridcolor": "white",
           "linecolor": "white",
           "ticks": "",
           "title": {
            "standoff": 15
           },
           "zerolinecolor": "white",
           "zerolinewidth": 2
          }
         }
        },
        "updatemenus": [
         {
          "buttons": [
           {
            "args": [
             null,
             {
              "frame": {
               "duration": 300,
               "redraw": false
              },
              "fromcurrent": true,
              "transition": {
               "duration": 300,
               "easing": "quadratic-in-out"
              }
             }
            ],
            "label": "Play",
            "method": "animate"
           },
           {
            "args": [
             [
              null
             ],
             {
              "frame": {
               "duration": 0,
               "redraw": false
              },
              "mode": "immediate",
              "transition": {
               "duration": 0
              }
             }
            ],
            "label": "Pause",
            "method": "animate"
           }
          ],
          "direction": "left",
          "pad": {
           "r": 10,
           "t": 87
          },
          "showactive": true,
          "type": "buttons",
          "x": 0.1,
          "xanchor": "right",
          "y": 0,
          "yanchor": "top"
         }
        ],
        "xaxis": {
         "range": [
          0,
          1907024730
         ],
         "showline": true,
         "showticklabels": true,
         "title": {
          "text": "Production quantity (tonnes)"
         },
         "visible": true
        },
        "yaxis": {
         "showline": false,
         "showticklabels": false,
         "title": {
          "text": "Top 10 crops"
         },
         "visible": true
        }
       }
      },
      "text/html": [
       "<div>                            <div id=\"06f2eb1f-6015-4c77-9bd3-b3c0150f6728\" class=\"plotly-graph-div\" style=\"height:525px; width:100%;\"></div>            <script type=\"text/javascript\">                require([\"plotly\"], function(Plotly) {                    window.PLOTLYENV=window.PLOTLYENV || {};                                    if (document.getElementById(\"06f2eb1f-6015-4c77-9bd3-b3c0150f6728\")) {                    Plotly.newPlot(                        \"06f2eb1f-6015-4c77-9bd3-b3c0150f6728\",                        [{\"cliponaxis\": false, \"hoverinfo\": \"all\", \"marker\": {\"color\": [\"rgb(191, 94, 110)\", \"rgb(107, 27, 235)\", \"rgb(12, 46, 186)\", \"rgb(222, 180, 201)\", \"rgb(133, 10, 182)\", \"rgb(142, 153, 131)\", \"rgb(165, 95, 93)\", \"rgb(87, 228, 34)\", \"rgb(141, 125, 232)\", \"rgb(174, 70, 226)\"]}, \"orientation\": \"h\", \"textangle\": 0, \"textposition\": \"outside\", \"texttemplate\": \"%{y}<br>%{x:.4s}\", \"type\": \"bar\", \"x\": [71259839.0, 72411104.0, 98192635.0, 143836304.0, 160501987.0, 205027583.0, 215646633.0, 222357231.0, 270552196.0, 447977522.0], \"y\": [\"Cassava\", \"Barley\", \"Sweet potatoes\", \"Rice, paddy (rice milled equivalent)\", \"Sugar beet\", \"Maize\", \"Rice, paddy\", \"Wheat\", \"Potatoes\", \"Sugar cane\"]}],                        {\"bargap\": 0.15, \"font\": {\"size\": 14}, \"plot_bgcolor\": \"#FFFFFF\", \"sliders\": [{\"active\": 0, \"currentvalue\": {\"font\": {\"size\": 20}, \"prefix\": \"Year: \", \"visible\": true, \"xanchor\": \"right\"}, \"len\": 0.9, \"pad\": {\"b\": 10, \"t\": 50}, \"steps\": [{\"args\": [[\"1961\"], {\"frame\": {\"duration\": 300, \"redraw\": false}, \"mode\": \"immediate\", \"transition\": {\"duration\": 300}}], \"label\": \"1961\", \"method\": \"animate\"}, {\"args\": [[\"1962\"], {\"frame\": {\"duration\": 300, \"redraw\": false}, \"mode\": \"immediate\", \"transition\": {\"duration\": 300}}], \"label\": \"1962\", \"method\": \"animate\"}, {\"args\": [[\"1963\"], {\"frame\": {\"duration\": 300, \"redraw\": false}, \"mode\": \"immediate\", \"transition\": {\"duration\": 300}}], \"label\": \"1963\", \"method\": \"animate\"}, {\"args\": [[\"1964\"], {\"frame\": {\"duration\": 300, \"redraw\": false}, \"mode\": \"immediate\", \"transition\": {\"duration\": 300}}], \"label\": \"1964\", \"method\": \"animate\"}, {\"args\": [[\"1965\"], {\"frame\": {\"duration\": 300, \"redraw\": false}, \"mode\": \"immediate\", \"transition\": {\"duration\": 300}}], \"label\": \"1965\", \"method\": \"animate\"}, {\"args\": [[\"1966\"], {\"frame\": {\"duration\": 300, \"redraw\": false}, \"mode\": \"immediate\", \"transition\": {\"duration\": 300}}], \"label\": \"1966\", \"method\": \"animate\"}, {\"args\": [[\"1967\"], {\"frame\": {\"duration\": 300, \"redraw\": false}, \"mode\": \"immediate\", \"transition\": {\"duration\": 300}}], \"label\": \"1967\", \"method\": \"animate\"}, {\"args\": [[\"1968\"], {\"frame\": {\"duration\": 300, \"redraw\": false}, \"mode\": \"immediate\", \"transition\": {\"duration\": 300}}], \"label\": \"1968\", \"method\": \"animate\"}, {\"args\": [[\"1969\"], {\"frame\": {\"duration\": 300, \"redraw\": false}, \"mode\": \"immediate\", \"transition\": {\"duration\": 300}}], \"label\": \"1969\", \"method\": \"animate\"}, {\"args\": [[\"1970\"], {\"frame\": {\"duration\": 300, \"redraw\": false}, \"mode\": \"immediate\", \"transition\": {\"duration\": 300}}], \"label\": \"1970\", \"method\": \"animate\"}, {\"args\": [[\"1971\"], {\"frame\": {\"duration\": 300, \"redraw\": false}, \"mode\": \"immediate\", \"transition\": {\"duration\": 300}}], \"label\": \"1971\", \"method\": \"animate\"}, {\"args\": [[\"1972\"], {\"frame\": {\"duration\": 300, \"redraw\": false}, \"mode\": \"immediate\", \"transition\": {\"duration\": 300}}], \"label\": \"1972\", \"method\": \"animate\"}, {\"args\": [[\"1973\"], {\"frame\": {\"duration\": 300, \"redraw\": false}, \"mode\": \"immediate\", \"transition\": {\"duration\": 300}}], \"label\": \"1973\", \"method\": \"animate\"}, {\"args\": [[\"1974\"], {\"frame\": {\"duration\": 300, \"redraw\": false}, \"mode\": \"immediate\", \"transition\": {\"duration\": 300}}], \"label\": \"1974\", \"method\": \"animate\"}, {\"args\": [[\"1975\"], {\"frame\": {\"duration\": 300, \"redraw\": false}, \"mode\": \"immediate\", \"transition\": {\"duration\": 300}}], \"label\": \"1975\", \"method\": \"animate\"}, {\"args\": [[\"1976\"], {\"frame\": {\"duration\": 300, \"redraw\": false}, \"mode\": \"immediate\", \"transition\": {\"duration\": 300}}], \"label\": \"1976\", \"method\": \"animate\"}, {\"args\": [[\"1977\"], {\"frame\": {\"duration\": 300, \"redraw\": false}, \"mode\": \"immediate\", \"transition\": {\"duration\": 300}}], \"label\": \"1977\", \"method\": \"animate\"}, {\"args\": [[\"1978\"], {\"frame\": {\"duration\": 300, \"redraw\": false}, \"mode\": \"immediate\", \"transition\": {\"duration\": 300}}], \"label\": \"1978\", \"method\": \"animate\"}, {\"args\": [[\"1979\"], {\"frame\": {\"duration\": 300, \"redraw\": false}, \"mode\": \"immediate\", \"transition\": {\"duration\": 300}}], \"label\": \"1979\", \"method\": \"animate\"}, {\"args\": [[\"1980\"], {\"frame\": {\"duration\": 300, \"redraw\": false}, \"mode\": \"immediate\", \"transition\": {\"duration\": 300}}], \"label\": \"1980\", \"method\": \"animate\"}, {\"args\": [[\"1981\"], {\"frame\": {\"duration\": 300, \"redraw\": false}, \"mode\": \"immediate\", \"transition\": {\"duration\": 300}}], \"label\": \"1981\", \"method\": \"animate\"}, {\"args\": [[\"1982\"], {\"frame\": {\"duration\": 300, \"redraw\": false}, \"mode\": \"immediate\", \"transition\": {\"duration\": 300}}], \"label\": \"1982\", \"method\": \"animate\"}, {\"args\": [[\"1983\"], {\"frame\": {\"duration\": 300, \"redraw\": false}, \"mode\": \"immediate\", \"transition\": {\"duration\": 300}}], \"label\": \"1983\", \"method\": \"animate\"}, {\"args\": [[\"1984\"], {\"frame\": {\"duration\": 300, \"redraw\": false}, \"mode\": \"immediate\", \"transition\": {\"duration\": 300}}], \"label\": \"1984\", \"method\": \"animate\"}, {\"args\": [[\"1985\"], {\"frame\": {\"duration\": 300, \"redraw\": false}, \"mode\": \"immediate\", \"transition\": {\"duration\": 300}}], \"label\": \"1985\", \"method\": \"animate\"}, {\"args\": [[\"1986\"], {\"frame\": {\"duration\": 300, \"redraw\": false}, \"mode\": \"immediate\", \"transition\": {\"duration\": 300}}], \"label\": \"1986\", \"method\": \"animate\"}, {\"args\": [[\"1987\"], {\"frame\": {\"duration\": 300, \"redraw\": false}, \"mode\": \"immediate\", \"transition\": {\"duration\": 300}}], \"label\": \"1987\", \"method\": \"animate\"}, {\"args\": [[\"1988\"], {\"frame\": {\"duration\": 300, \"redraw\": false}, \"mode\": \"immediate\", \"transition\": {\"duration\": 300}}], \"label\": \"1988\", \"method\": \"animate\"}, {\"args\": [[\"1989\"], {\"frame\": {\"duration\": 300, \"redraw\": false}, \"mode\": \"immediate\", \"transition\": {\"duration\": 300}}], \"label\": \"1989\", \"method\": \"animate\"}, {\"args\": [[\"1990\"], {\"frame\": {\"duration\": 300, \"redraw\": false}, \"mode\": \"immediate\", \"transition\": {\"duration\": 300}}], \"label\": \"1990\", \"method\": \"animate\"}, {\"args\": [[\"1991\"], {\"frame\": {\"duration\": 300, \"redraw\": false}, \"mode\": \"immediate\", \"transition\": {\"duration\": 300}}], \"label\": \"1991\", \"method\": \"animate\"}, {\"args\": [[\"1992\"], {\"frame\": {\"duration\": 300, \"redraw\": false}, \"mode\": \"immediate\", \"transition\": {\"duration\": 300}}], \"label\": \"1992\", \"method\": \"animate\"}, {\"args\": [[\"1993\"], {\"frame\": {\"duration\": 300, \"redraw\": false}, \"mode\": \"immediate\", \"transition\": {\"duration\": 300}}], \"label\": \"1993\", \"method\": \"animate\"}, {\"args\": [[\"1994\"], {\"frame\": {\"duration\": 300, \"redraw\": false}, \"mode\": \"immediate\", \"transition\": {\"duration\": 300}}], \"label\": \"1994\", \"method\": \"animate\"}, {\"args\": [[\"1995\"], {\"frame\": {\"duration\": 300, \"redraw\": false}, \"mode\": \"immediate\", \"transition\": {\"duration\": 300}}], \"label\": \"1995\", \"method\": \"animate\"}, {\"args\": [[\"1996\"], {\"frame\": {\"duration\": 300, \"redraw\": false}, \"mode\": \"immediate\", \"transition\": {\"duration\": 300}}], \"label\": \"1996\", \"method\": \"animate\"}, {\"args\": [[\"1997\"], {\"frame\": {\"duration\": 300, \"redraw\": false}, \"mode\": \"immediate\", \"transition\": {\"duration\": 300}}], \"label\": \"1997\", \"method\": \"animate\"}, {\"args\": [[\"1998\"], {\"frame\": {\"duration\": 300, \"redraw\": false}, \"mode\": \"immediate\", \"transition\": {\"duration\": 300}}], \"label\": \"1998\", \"method\": \"animate\"}, {\"args\": [[\"1999\"], {\"frame\": {\"duration\": 300, \"redraw\": false}, \"mode\": \"immediate\", \"transition\": {\"duration\": 300}}], \"label\": \"1999\", \"method\": \"animate\"}, {\"args\": [[\"2000\"], {\"frame\": {\"duration\": 300, \"redraw\": false}, \"mode\": \"immediate\", \"transition\": {\"duration\": 300}}], \"label\": \"2000\", \"method\": \"animate\"}, {\"args\": [[\"2001\"], {\"frame\": {\"duration\": 300, \"redraw\": false}, \"mode\": \"immediate\", \"transition\": {\"duration\": 300}}], \"label\": \"2001\", \"method\": \"animate\"}, {\"args\": [[\"2002\"], {\"frame\": {\"duration\": 300, \"redraw\": false}, \"mode\": \"immediate\", \"transition\": {\"duration\": 300}}], \"label\": \"2002\", \"method\": \"animate\"}, {\"args\": [[\"2003\"], {\"frame\": {\"duration\": 300, \"redraw\": false}, \"mode\": \"immediate\", \"transition\": {\"duration\": 300}}], \"label\": \"2003\", \"method\": \"animate\"}, {\"args\": [[\"2004\"], {\"frame\": {\"duration\": 300, \"redraw\": false}, \"mode\": \"immediate\", \"transition\": {\"duration\": 300}}], \"label\": \"2004\", \"method\": \"animate\"}, {\"args\": [[\"2005\"], {\"frame\": {\"duration\": 300, \"redraw\": false}, \"mode\": \"immediate\", \"transition\": {\"duration\": 300}}], \"label\": \"2005\", \"method\": \"animate\"}, {\"args\": [[\"2006\"], {\"frame\": {\"duration\": 300, \"redraw\": false}, \"mode\": \"immediate\", \"transition\": {\"duration\": 300}}], \"label\": \"2006\", \"method\": \"animate\"}, {\"args\": [[\"2007\"], {\"frame\": {\"duration\": 300, \"redraw\": false}, \"mode\": \"immediate\", \"transition\": {\"duration\": 300}}], \"label\": \"2007\", \"method\": \"animate\"}, {\"args\": [[\"2008\"], {\"frame\": {\"duration\": 300, \"redraw\": false}, \"mode\": \"immediate\", \"transition\": {\"duration\": 300}}], \"label\": \"2008\", \"method\": \"animate\"}, {\"args\": [[\"2009\"], {\"frame\": {\"duration\": 300, \"redraw\": false}, \"mode\": \"immediate\", \"transition\": {\"duration\": 300}}], \"label\": \"2009\", \"method\": \"animate\"}, {\"args\": [[\"2010\"], {\"frame\": {\"duration\": 300, \"redraw\": false}, \"mode\": \"immediate\", \"transition\": {\"duration\": 300}}], \"label\": \"2010\", \"method\": \"animate\"}, {\"args\": [[\"2011\"], {\"frame\": {\"duration\": 300, \"redraw\": false}, \"mode\": \"immediate\", \"transition\": {\"duration\": 300}}], \"label\": \"2011\", \"method\": \"animate\"}, {\"args\": [[\"2012\"], {\"frame\": {\"duration\": 300, \"redraw\": false}, \"mode\": \"immediate\", \"transition\": {\"duration\": 300}}], \"label\": \"2012\", \"method\": \"animate\"}, {\"args\": [[\"2013\"], {\"frame\": {\"duration\": 300, \"redraw\": false}, \"mode\": \"immediate\", \"transition\": {\"duration\": 300}}], \"label\": \"2013\", \"method\": \"animate\"}, {\"args\": [[\"2014\"], {\"frame\": {\"duration\": 300, \"redraw\": false}, \"mode\": \"immediate\", \"transition\": {\"duration\": 300}}], \"label\": \"2014\", \"method\": \"animate\"}, {\"args\": [[\"2015\"], {\"frame\": {\"duration\": 300, \"redraw\": false}, \"mode\": \"immediate\", \"transition\": {\"duration\": 300}}], \"label\": \"2015\", \"method\": \"animate\"}, {\"args\": [[\"2016\"], {\"frame\": {\"duration\": 300, \"redraw\": false}, \"mode\": \"immediate\", \"transition\": {\"duration\": 300}}], \"label\": \"2016\", \"method\": \"animate\"}, {\"args\": [[\"2017\"], {\"frame\": {\"duration\": 300, \"redraw\": false}, \"mode\": \"immediate\", \"transition\": {\"duration\": 300}}], \"label\": \"2017\", \"method\": \"animate\"}, {\"args\": [[\"2018\"], {\"frame\": {\"duration\": 300, \"redraw\": false}, \"mode\": \"immediate\", \"transition\": {\"duration\": 300}}], \"label\": \"2018\", \"method\": \"animate\"}], \"transition\": {\"duration\": 300, \"easing\": \"cubic-in-out\"}, \"x\": 0.1, \"xanchor\": \"left\", \"y\": 0, \"yanchor\": \"top\"}], \"template\": {\"data\": {\"bar\": [{\"error_x\": {\"color\": \"#2a3f5f\"}, \"error_y\": {\"color\": \"#2a3f5f\"}, \"marker\": {\"line\": {\"color\": \"#E5ECF6\", \"width\": 0.5}}, \"type\": \"bar\"}], \"barpolar\": [{\"marker\": {\"line\": {\"color\": \"#E5ECF6\", \"width\": 0.5}}, \"type\": \"barpolar\"}], \"carpet\": [{\"aaxis\": {\"endlinecolor\": \"#2a3f5f\", \"gridcolor\": \"white\", \"linecolor\": \"white\", \"minorgridcolor\": \"white\", \"startlinecolor\": \"#2a3f5f\"}, \"baxis\": {\"endlinecolor\": \"#2a3f5f\", \"gridcolor\": \"white\", \"linecolor\": \"white\", \"minorgridcolor\": \"white\", \"startlinecolor\": \"#2a3f5f\"}, \"type\": \"carpet\"}], \"choropleth\": [{\"colorbar\": {\"outlinewidth\": 0, \"ticks\": \"\"}, \"type\": \"choropleth\"}], \"contour\": [{\"colorbar\": {\"outlinewidth\": 0, \"ticks\": \"\"}, \"colorscale\": [[0.0, \"#0d0887\"], [0.1111111111111111, \"#46039f\"], [0.2222222222222222, \"#7201a8\"], [0.3333333333333333, \"#9c179e\"], [0.4444444444444444, \"#bd3786\"], [0.5555555555555556, \"#d8576b\"], [0.6666666666666666, \"#ed7953\"], [0.7777777777777778, \"#fb9f3a\"], [0.8888888888888888, \"#fdca26\"], [1.0, \"#f0f921\"]], \"type\": \"contour\"}], \"contourcarpet\": [{\"colorbar\": {\"outlinewidth\": 0, \"ticks\": \"\"}, \"type\": \"contourcarpet\"}], \"heatmap\": [{\"colorbar\": {\"outlinewidth\": 0, \"ticks\": \"\"}, \"colorscale\": [[0.0, \"#0d0887\"], [0.1111111111111111, \"#46039f\"], [0.2222222222222222, \"#7201a8\"], [0.3333333333333333, \"#9c179e\"], [0.4444444444444444, \"#bd3786\"], [0.5555555555555556, \"#d8576b\"], [0.6666666666666666, \"#ed7953\"], [0.7777777777777778, \"#fb9f3a\"], [0.8888888888888888, \"#fdca26\"], [1.0, \"#f0f921\"]], \"type\": \"heatmap\"}], \"heatmapgl\": [{\"colorbar\": {\"outlinewidth\": 0, \"ticks\": \"\"}, \"colorscale\": [[0.0, \"#0d0887\"], [0.1111111111111111, \"#46039f\"], [0.2222222222222222, \"#7201a8\"], [0.3333333333333333, \"#9c179e\"], [0.4444444444444444, \"#bd3786\"], [0.5555555555555556, \"#d8576b\"], [0.6666666666666666, \"#ed7953\"], [0.7777777777777778, \"#fb9f3a\"], [0.8888888888888888, \"#fdca26\"], [1.0, \"#f0f921\"]], \"type\": \"heatmapgl\"}], \"histogram\": [{\"marker\": {\"colorbar\": {\"outlinewidth\": 0, \"ticks\": \"\"}}, \"type\": \"histogram\"}], \"histogram2d\": [{\"colorbar\": {\"outlinewidth\": 0, \"ticks\": \"\"}, \"colorscale\": [[0.0, \"#0d0887\"], [0.1111111111111111, \"#46039f\"], [0.2222222222222222, \"#7201a8\"], [0.3333333333333333, \"#9c179e\"], [0.4444444444444444, \"#bd3786\"], [0.5555555555555556, \"#d8576b\"], [0.6666666666666666, \"#ed7953\"], [0.7777777777777778, \"#fb9f3a\"], [0.8888888888888888, \"#fdca26\"], [1.0, \"#f0f921\"]], \"type\": \"histogram2d\"}], \"histogram2dcontour\": [{\"colorbar\": {\"outlinewidth\": 0, \"ticks\": \"\"}, \"colorscale\": [[0.0, \"#0d0887\"], [0.1111111111111111, \"#46039f\"], [0.2222222222222222, \"#7201a8\"], [0.3333333333333333, \"#9c179e\"], [0.4444444444444444, \"#bd3786\"], [0.5555555555555556, \"#d8576b\"], [0.6666666666666666, \"#ed7953\"], [0.7777777777777778, \"#fb9f3a\"], [0.8888888888888888, \"#fdca26\"], [1.0, \"#f0f921\"]], \"type\": \"histogram2dcontour\"}], \"mesh3d\": [{\"colorbar\": {\"outlinewidth\": 0, \"ticks\": \"\"}, \"type\": \"mesh3d\"}], \"parcoords\": [{\"line\": {\"colorbar\": {\"outlinewidth\": 0, \"ticks\": \"\"}}, \"type\": \"parcoords\"}], \"pie\": [{\"automargin\": true, \"type\": \"pie\"}], \"scatter\": [{\"marker\": {\"colorbar\": {\"outlinewidth\": 0, \"ticks\": \"\"}}, \"type\": \"scatter\"}], \"scatter3d\": [{\"line\": {\"colorbar\": {\"outlinewidth\": 0, \"ticks\": \"\"}}, \"marker\": {\"colorbar\": {\"outlinewidth\": 0, \"ticks\": \"\"}}, \"type\": \"scatter3d\"}], \"scattercarpet\": [{\"marker\": {\"colorbar\": {\"outlinewidth\": 0, \"ticks\": \"\"}}, \"type\": \"scattercarpet\"}], \"scattergeo\": [{\"marker\": {\"colorbar\": {\"outlinewidth\": 0, \"ticks\": \"\"}}, \"type\": \"scattergeo\"}], \"scattergl\": [{\"marker\": {\"colorbar\": {\"outlinewidth\": 0, \"ticks\": \"\"}}, \"type\": \"scattergl\"}], \"scattermapbox\": [{\"marker\": {\"colorbar\": {\"outlinewidth\": 0, \"ticks\": \"\"}}, \"type\": \"scattermapbox\"}], \"scatterpolar\": [{\"marker\": {\"colorbar\": {\"outlinewidth\": 0, \"ticks\": \"\"}}, \"type\": \"scatterpolar\"}], \"scatterpolargl\": [{\"marker\": {\"colorbar\": {\"outlinewidth\": 0, \"ticks\": \"\"}}, \"type\": \"scatterpolargl\"}], \"scatterternary\": [{\"marker\": {\"colorbar\": {\"outlinewidth\": 0, \"ticks\": \"\"}}, \"type\": \"scatterternary\"}], \"surface\": [{\"colorbar\": {\"outlinewidth\": 0, \"ticks\": \"\"}, \"colorscale\": [[0.0, \"#0d0887\"], [0.1111111111111111, \"#46039f\"], [0.2222222222222222, \"#7201a8\"], [0.3333333333333333, \"#9c179e\"], [0.4444444444444444, \"#bd3786\"], [0.5555555555555556, \"#d8576b\"], [0.6666666666666666, \"#ed7953\"], [0.7777777777777778, \"#fb9f3a\"], [0.8888888888888888, \"#fdca26\"], [1.0, \"#f0f921\"]], \"type\": \"surface\"}], \"table\": [{\"cells\": {\"fill\": {\"color\": \"#EBF0F8\"}, \"line\": {\"color\": \"white\"}}, \"header\": {\"fill\": {\"color\": \"#C8D4E3\"}, \"line\": {\"color\": \"white\"}}, \"type\": \"table\"}]}, \"layout\": {\"annotationdefaults\": {\"arrowcolor\": \"#2a3f5f\", \"arrowhead\": 0, \"arrowwidth\": 1}, \"coloraxis\": {\"colorbar\": {\"outlinewidth\": 0, \"ticks\": \"\"}}, \"colorscale\": {\"diverging\": [[0, \"#8e0152\"], [0.1, \"#c51b7d\"], [0.2, \"#de77ae\"], [0.3, \"#f1b6da\"], [0.4, \"#fde0ef\"], [0.5, \"#f7f7f7\"], [0.6, \"#e6f5d0\"], [0.7, \"#b8e186\"], [0.8, \"#7fbc41\"], [0.9, \"#4d9221\"], [1, \"#276419\"]], \"sequential\": [[0.0, \"#0d0887\"], [0.1111111111111111, \"#46039f\"], [0.2222222222222222, \"#7201a8\"], [0.3333333333333333, \"#9c179e\"], [0.4444444444444444, \"#bd3786\"], [0.5555555555555556, \"#d8576b\"], [0.6666666666666666, \"#ed7953\"], [0.7777777777777778, \"#fb9f3a\"], [0.8888888888888888, \"#fdca26\"], [1.0, \"#f0f921\"]], \"sequentialminus\": [[0.0, \"#0d0887\"], [0.1111111111111111, \"#46039f\"], [0.2222222222222222, \"#7201a8\"], [0.3333333333333333, \"#9c179e\"], [0.4444444444444444, \"#bd3786\"], [0.5555555555555556, \"#d8576b\"], [0.6666666666666666, \"#ed7953\"], [0.7777777777777778, \"#fb9f3a\"], [0.8888888888888888, \"#fdca26\"], [1.0, \"#f0f921\"]]}, \"colorway\": [\"#636efa\", \"#EF553B\", \"#00cc96\", \"#ab63fa\", \"#FFA15A\", \"#19d3f3\", \"#FF6692\", \"#B6E880\", \"#FF97FF\", \"#FECB52\"], \"font\": {\"color\": \"#2a3f5f\"}, \"geo\": {\"bgcolor\": \"white\", \"lakecolor\": \"white\", \"landcolor\": \"#E5ECF6\", \"showlakes\": true, \"showland\": true, \"subunitcolor\": \"white\"}, \"hoverlabel\": {\"align\": \"left\"}, \"hovermode\": \"closest\", \"mapbox\": {\"style\": \"light\"}, \"paper_bgcolor\": \"white\", \"plot_bgcolor\": \"#E5ECF6\", \"polar\": {\"angularaxis\": {\"gridcolor\": \"white\", \"linecolor\": \"white\", \"ticks\": \"\"}, \"bgcolor\": \"#E5ECF6\", \"radialaxis\": {\"gridcolor\": \"white\", \"linecolor\": \"white\", \"ticks\": \"\"}}, \"scene\": {\"xaxis\": {\"backgroundcolor\": \"#E5ECF6\", \"gridcolor\": \"white\", \"gridwidth\": 2, \"linecolor\": \"white\", \"showbackground\": true, \"ticks\": \"\", \"zerolinecolor\": \"white\"}, \"yaxis\": {\"backgroundcolor\": \"#E5ECF6\", \"gridcolor\": \"white\", \"gridwidth\": 2, \"linecolor\": \"white\", \"showbackground\": true, \"ticks\": \"\", \"zerolinecolor\": \"white\"}, \"zaxis\": {\"backgroundcolor\": \"#E5ECF6\", \"gridcolor\": \"white\", \"gridwidth\": 2, \"linecolor\": \"white\", \"showbackground\": true, \"ticks\": \"\", \"zerolinecolor\": \"white\"}}, \"shapedefaults\": {\"line\": {\"color\": \"#2a3f5f\"}}, \"ternary\": {\"aaxis\": {\"gridcolor\": \"white\", \"linecolor\": \"white\", \"ticks\": \"\"}, \"baxis\": {\"gridcolor\": \"white\", \"linecolor\": \"white\", \"ticks\": \"\"}, \"bgcolor\": \"#E5ECF6\", \"caxis\": {\"gridcolor\": \"white\", \"linecolor\": \"white\", \"ticks\": \"\"}}, \"title\": {\"x\": 0.05}, \"xaxis\": {\"automargin\": true, \"gridcolor\": \"white\", \"linecolor\": \"white\", \"ticks\": \"\", \"title\": {\"standoff\": 15}, \"zerolinecolor\": \"white\", \"zerolinewidth\": 2}, \"yaxis\": {\"automargin\": true, \"gridcolor\": \"white\", \"linecolor\": \"white\", \"ticks\": \"\", \"title\": {\"standoff\": 15}, \"zerolinecolor\": \"white\", \"zerolinewidth\": 2}}}, \"updatemenus\": [{\"buttons\": [{\"args\": [null, {\"frame\": {\"duration\": 300, \"redraw\": false}, \"fromcurrent\": true, \"transition\": {\"duration\": 300, \"easing\": \"quadratic-in-out\"}}], \"label\": \"Play\", \"method\": \"animate\"}, {\"args\": [[null], {\"frame\": {\"duration\": 0, \"redraw\": false}, \"mode\": \"immediate\", \"transition\": {\"duration\": 0}}], \"label\": \"Pause\", \"method\": \"animate\"}], \"direction\": \"left\", \"pad\": {\"r\": 10, \"t\": 87}, \"showactive\": true, \"type\": \"buttons\", \"x\": 0.1, \"xanchor\": \"right\", \"y\": 0, \"yanchor\": \"top\"}], \"xaxis\": {\"range\": [0, 1907024730.0], \"showline\": true, \"showticklabels\": true, \"title\": {\"text\": \"Production quantity (tonnes)\"}, \"visible\": true}, \"yaxis\": {\"showline\": false, \"showticklabels\": false, \"title\": {\"text\": \"Top 10 crops\"}, \"visible\": true}},                        {\"responsive\": true}                    ).then(function(){\n",
       "                            Plotly.addFrames('06f2eb1f-6015-4c77-9bd3-b3c0150f6728', [{\"data\": [{\"cliponaxis\": false, \"hoverinfo\": \"all\", \"hovertemplate\": \"<extra></extra>\", \"marker\": {\"color\": [\"rgb(191, 94, 110)\", \"rgb(107, 27, 235)\", \"rgb(12, 46, 186)\", \"rgb(222, 180, 201)\", \"rgb(133, 10, 182)\", \"rgb(142, 153, 131)\", \"rgb(165, 95, 93)\", \"rgb(87, 228, 34)\", \"rgb(141, 125, 232)\", \"rgb(174, 70, 226)\"]}, \"orientation\": \"h\", \"textangle\": 0, \"textposition\": \"outside\", \"texttemplate\": \"%{y}<br>%{x:.4s}\", \"x\": [71259839.0, 72411104.0, 98192635.0, 143836304.0, 160501987.0, 205027583.0, 215646633.0, 222357231.0, 270552196.0, 447977522.0], \"y\": [\"Cassava\", \"Barley\", \"Sweet potatoes\", \"Rice, paddy (rice milled equivalent)\", \"Sugar beet\", \"Maize\", \"Rice, paddy\", \"Wheat\", \"Potatoes\", \"Sugar cane\"], \"type\": \"bar\"}], \"layout\": {\"bargap\": 0.15, \"font\": {\"size\": 14}, \"plot_bgcolor\": \"#FFFFFF\", \"xaxis\": {\"range\": [0, 1907024730.0], \"showline\": true, \"visible\": true}, \"yaxis\": {\"showline\": false, \"visible\": true}}, \"name\": \"1961\"}, {\"data\": [{\"cliponaxis\": false, \"hoverinfo\": \"all\", \"hovertemplate\": \"<extra></extra>\", \"marker\": {\"color\": [\"rgb(191, 94, 110)\", \"rgb(107, 27, 235)\", \"rgb(12, 46, 186)\", \"rgb(133, 10, 182)\", \"rgb(222, 180, 201)\", \"rgb(142, 153, 131)\", \"rgb(165, 95, 93)\", \"rgb(87, 228, 34)\", \"rgb(141, 125, 232)\", \"rgb(174, 70, 226)\"]}, \"orientation\": \"h\", \"textangle\": 0, \"textposition\": \"outside\", \"texttemplate\": \"%{y}<br>%{x:.4s}\", \"x\": [74636680.0, 88396959.0, 105291106.0, 149172711.0, 151046350.0, 204876937.0, 226456297.0, 250319146.0, 252987460.0, 436872640.0], \"y\": [\"Cassava\", \"Barley\", \"Sweet potatoes\", \"Sugar beet\", \"Rice, paddy (rice milled equivalent)\", \"Maize\", \"Rice, paddy\", \"Wheat\", \"Potatoes\", \"Sugar cane\"], \"type\": \"bar\"}], \"layout\": {\"bargap\": 0.15, \"font\": {\"size\": 14}, \"plot_bgcolor\": \"#FFFFFF\", \"xaxis\": {\"range\": [0, 1907024730.0], \"showline\": true, \"visible\": true}, \"yaxis\": {\"showline\": false, \"visible\": true}}, \"name\": \"1962\"}, {\"data\": [{\"cliponaxis\": false, \"hoverinfo\": \"all\", \"hovertemplate\": \"<extra></extra>\", \"marker\": {\"color\": [\"rgb(191, 94, 110)\", \"rgb(107, 27, 235)\", \"rgb(12, 46, 186)\", \"rgb(222, 180, 201)\", \"rgb(133, 10, 182)\", \"rgb(142, 153, 131)\", \"rgb(87, 228, 34)\", \"rgb(165, 95, 93)\", \"rgb(141, 125, 232)\", \"rgb(174, 70, 226)\"]}, \"orientation\": \"h\", \"textangle\": 0, \"textposition\": \"outside\", \"texttemplate\": \"%{y}<br>%{x:.4s}\", \"x\": [77975688.0, 90385850.0, 98009159.0, 164828514.0, 164975629.0, 220228333.0, 233339473.0, 247119211.0, 269982498.0, 439927902.0], \"y\": [\"Cassava\", \"Barley\", \"Sweet potatoes\", \"Rice, paddy (rice milled equivalent)\", \"Sugar beet\", \"Maize\", \"Wheat\", \"Rice, paddy\", \"Potatoes\", \"Sugar cane\"], \"type\": \"bar\"}], \"layout\": {\"bargap\": 0.15, \"font\": {\"size\": 14}, \"plot_bgcolor\": \"#FFFFFF\", \"xaxis\": {\"range\": [0, 1907024730.0], \"showline\": true, \"visible\": true}, \"yaxis\": {\"showline\": false, \"visible\": true}}, \"name\": \"1963\"}, {\"data\": [{\"cliponaxis\": false, \"hoverinfo\": \"all\", \"hovertemplate\": \"<extra></extra>\", \"marker\": {\"color\": [\"rgb(191, 94, 110)\", \"rgb(12, 46, 186)\", \"rgb(107, 27, 235)\", \"rgb(222, 180, 201)\", \"rgb(142, 153, 131)\", \"rgb(133, 10, 182)\", \"rgb(165, 95, 93)\", \"rgb(87, 228, 34)\", \"rgb(141, 125, 232)\", \"rgb(174, 70, 226)\"]}, \"orientation\": \"h\", \"textangle\": 0, \"textposition\": \"outside\", \"texttemplate\": \"%{y}<br>%{x:.4s}\", \"x\": [82429399.0, 93377412.0, 95524923.0, 175373614.0, 215172627.0, 216206931.0, 262928956.0, 268791657.0, 284678614.0, 480849768.0], \"y\": [\"Cassava\", \"Sweet potatoes\", \"Barley\", \"Rice, paddy (rice milled equivalent)\", \"Maize\", \"Sugar beet\", \"Rice, paddy\", \"Wheat\", \"Potatoes\", \"Sugar cane\"], \"type\": \"bar\"}], \"layout\": {\"bargap\": 0.15, \"font\": {\"size\": 14}, \"plot_bgcolor\": \"#FFFFFF\", \"xaxis\": {\"range\": [0, 1907024730.0], \"showline\": true, \"visible\": true}, \"yaxis\": {\"showline\": false, \"visible\": true}}, \"name\": \"1964\"}, {\"data\": [{\"cliponaxis\": false, \"hoverinfo\": \"all\", \"hovertemplate\": \"<extra></extra>\", \"marker\": {\"color\": [\"rgb(191, 94, 110)\", \"rgb(107, 27, 235)\", \"rgb(12, 46, 186)\", \"rgb(222, 180, 201)\", \"rgb(133, 10, 182)\", \"rgb(142, 153, 131)\", \"rgb(165, 95, 93)\", \"rgb(87, 228, 34)\", \"rgb(141, 125, 232)\", \"rgb(174, 70, 226)\"]}, \"orientation\": \"h\", \"textangle\": 0, \"textposition\": \"outside\", \"texttemplate\": \"%{y}<br>%{x:.4s}\", \"x\": [85582843.0, 92617012.0, 108377879.0, 169457796.0, 197376224.0, 226544256.0, 254059664.0, 263645963.0, 270913502.0, 531297486.0], \"y\": [\"Cassava\", \"Barley\", \"Sweet potatoes\", \"Rice, paddy (rice milled equivalent)\", \"Sugar beet\", \"Maize\", \"Rice, paddy\", \"Wheat\", \"Potatoes\", \"Sugar cane\"], \"type\": \"bar\"}], \"layout\": {\"bargap\": 0.15, \"font\": {\"size\": 14}, \"plot_bgcolor\": \"#FFFFFF\", \"xaxis\": {\"range\": [0, 1907024730.0], \"showline\": true, \"visible\": true}, \"yaxis\": {\"showline\": false, \"visible\": true}}, \"name\": \"1965\"}, {\"data\": [{\"cliponaxis\": false, \"hoverinfo\": \"all\", \"hovertemplate\": \"<extra></extra>\", \"marker\": {\"color\": [\"rgb(191, 94, 110)\", \"rgb(107, 27, 235)\", \"rgb(12, 46, 186)\", \"rgb(222, 180, 201)\", \"rgb(133, 10, 182)\", \"rgb(142, 153, 131)\", \"rgb(165, 95, 93)\", \"rgb(141, 125, 232)\", \"rgb(87, 228, 34)\", \"rgb(174, 70, 226)\"]}, \"orientation\": \"h\", \"textangle\": 0, \"textposition\": \"outside\", \"texttemplate\": \"%{y}<br>%{x:.4s}\", \"x\": [84718809.0, 100425696.0, 119686566.0, 174207899.0, 212270253.0, 245599160.0, 261181258.0, 281964109.0, 303785460.0, 531492823.0], \"y\": [\"Cassava\", \"Barley\", \"Sweet potatoes\", \"Rice, paddy (rice milled equivalent)\", \"Sugar beet\", \"Maize\", \"Rice, paddy\", \"Potatoes\", \"Wheat\", \"Sugar cane\"], \"type\": \"bar\"}], \"layout\": {\"bargap\": 0.15, \"font\": {\"size\": 14}, \"plot_bgcolor\": \"#FFFFFF\", \"xaxis\": {\"range\": [0, 1907024730.0], \"showline\": true, \"visible\": true}, \"yaxis\": {\"showline\": false, \"visible\": true}}, \"name\": \"1966\"}, {\"data\": [{\"cliponaxis\": false, \"hoverinfo\": \"all\", \"hovertemplate\": \"<extra></extra>\", \"marker\": {\"color\": [\"rgb(191, 94, 110)\", \"rgb(107, 27, 235)\", \"rgb(12, 46, 186)\", \"rgb(222, 180, 201)\", \"rgb(133, 10, 182)\", \"rgb(142, 153, 131)\", \"rgb(165, 95, 93)\", \"rgb(87, 228, 34)\", \"rgb(141, 125, 232)\", \"rgb(174, 70, 226)\"]}, \"orientation\": \"h\", \"textangle\": 0, \"textposition\": \"outside\", \"texttemplate\": \"%{y}<br>%{x:.4s}\", \"x\": [88630176.0, 103177495.0, 118614438.0, 185016704.0, 233455177.0, 272548473.0, 277386363.0, 294295876.0, 296220305.0, 518890895.0], \"y\": [\"Cassava\", \"Barley\", \"Sweet potatoes\", \"Rice, paddy (rice milled equivalent)\", \"Sugar beet\", \"Maize\", \"Rice, paddy\", \"Wheat\", \"Potatoes\", \"Sugar cane\"], \"type\": \"bar\"}], \"layout\": {\"bargap\": 0.15, \"font\": {\"size\": 14}, \"plot_bgcolor\": \"#FFFFFF\", \"xaxis\": {\"range\": [0, 1907024730.0], \"showline\": true, \"visible\": true}, \"yaxis\": {\"showline\": false, \"visible\": true}}, \"name\": \"1967\"}, {\"data\": [{\"cliponaxis\": false, \"hoverinfo\": \"all\", \"hovertemplate\": \"<extra></extra>\", \"marker\": {\"color\": [\"rgb(191, 94, 110)\", \"rgb(107, 27, 235)\", \"rgb(12, 46, 186)\", \"rgb(222, 180, 201)\", \"rgb(133, 10, 182)\", \"rgb(142, 153, 131)\", \"rgb(165, 95, 93)\", \"rgb(141, 125, 232)\", \"rgb(87, 228, 34)\", \"rgb(174, 70, 226)\"]}, \"orientation\": \"h\", \"textangle\": 0, \"textposition\": \"outside\", \"texttemplate\": \"%{y}<br>%{x:.4s}\", \"x\": [93090059.0, 113504505.0, 118097469.0, 192512413.0, 248856658.0, 255670551.0, 288624308.0, 303709120.0, 326843941.0, 506091880.0], \"y\": [\"Cassava\", \"Barley\", \"Sweet potatoes\", \"Rice, paddy (rice milled equivalent)\", \"Sugar beet\", \"Maize\", \"Rice, paddy\", \"Potatoes\", \"Wheat\", \"Sugar cane\"], \"type\": \"bar\"}], \"layout\": {\"bargap\": 0.15, \"font\": {\"size\": 14}, \"plot_bgcolor\": \"#FFFFFF\", \"xaxis\": {\"range\": [0, 1907024730.0], \"showline\": true, \"visible\": true}, \"yaxis\": {\"showline\": false, \"visible\": true}}, \"name\": \"1968\"}, {\"data\": [{\"cliponaxis\": false, \"hoverinfo\": \"all\", \"hovertemplate\": \"<extra></extra>\", \"marker\": {\"color\": [\"rgb(191, 94, 110)\", \"rgb(107, 27, 235)\", \"rgb(12, 46, 186)\", \"rgb(222, 180, 201)\", \"rgb(133, 10, 182)\", \"rgb(142, 153, 131)\", \"rgb(141, 125, 232)\", \"rgb(165, 95, 93)\", \"rgb(87, 228, 34)\", \"rgb(174, 70, 226)\"]}, \"orientation\": \"h\", \"textangle\": 0, \"textposition\": \"outside\", \"texttemplate\": \"%{y}<br>%{x:.4s}\", \"x\": [95325330.0, 118006371.0, 126160704.0, 197154789.0, 216920772.0, 269506068.0, 278475710.0, 295584391.0, 308640283.0, 538255737.0], \"y\": [\"Cassava\", \"Barley\", \"Sweet potatoes\", \"Rice, paddy (rice milled equivalent)\", \"Sugar beet\", \"Maize\", \"Potatoes\", \"Rice, paddy\", \"Wheat\", \"Sugar cane\"], \"type\": \"bar\"}], \"layout\": {\"bargap\": 0.15, \"font\": {\"size\": 14}, \"plot_bgcolor\": \"#FFFFFF\", \"xaxis\": {\"range\": [0, 1907024730.0], \"showline\": true, \"visible\": true}, \"yaxis\": {\"showline\": false, \"visible\": true}}, \"name\": \"1969\"}, {\"data\": [{\"cliponaxis\": false, \"hoverinfo\": \"all\", \"hovertemplate\": \"<extra></extra>\", \"marker\": {\"color\": [\"rgb(191, 94, 110)\", \"rgb(107, 27, 235)\", \"rgb(12, 46, 186)\", \"rgb(222, 180, 201)\", \"rgb(133, 10, 182)\", \"rgb(142, 153, 131)\", \"rgb(141, 125, 232)\", \"rgb(87, 228, 34)\", \"rgb(165, 95, 93)\", \"rgb(174, 70, 226)\"]}, \"orientation\": \"h\", \"textangle\": 0, \"textposition\": \"outside\", \"texttemplate\": \"%{y}<br>%{x:.4s}\", \"x\": [98589699.0, 119378695.0, 136507488.0, 211002584.0, 224251952.0, 265831145.0, 298048017.0, 310740954.0, 316345703.0, 608616105.0], \"y\": [\"Cassava\", \"Barley\", \"Sweet potatoes\", \"Rice, paddy (rice milled equivalent)\", \"Sugar beet\", \"Maize\", \"Potatoes\", \"Wheat\", \"Rice, paddy\", \"Sugar cane\"], \"type\": \"bar\"}], \"layout\": {\"bargap\": 0.15, \"font\": {\"size\": 14}, \"plot_bgcolor\": \"#FFFFFF\", \"xaxis\": {\"range\": [0, 1907024730.0], \"showline\": true, \"visible\": true}, \"yaxis\": {\"showline\": false, \"visible\": true}}, \"name\": \"1970\"}, {\"data\": [{\"cliponaxis\": false, \"hoverinfo\": \"all\", \"hovertemplate\": \"<extra></extra>\", \"marker\": {\"color\": [\"rgb(191, 94, 110)\", \"rgb(12, 46, 186)\", \"rgb(107, 27, 235)\", \"rgb(222, 180, 201)\", \"rgb(133, 10, 182)\", \"rgb(141, 125, 232)\", \"rgb(142, 153, 131)\", \"rgb(165, 95, 93)\", \"rgb(87, 228, 34)\", \"rgb(174, 70, 226)\"]}, \"orientation\": \"h\", \"textangle\": 0, \"textposition\": \"outside\", \"texttemplate\": \"%{y}<br>%{x:.4s}\", \"x\": [98756434.0, 127252781.0, 131237044.0, 211914188.0, 227540795.0, 279490572.0, 313622622.0, 317712426.0, 347525581.0, 582105426.0], \"y\": [\"Cassava\", \"Sweet potatoes\", \"Barley\", \"Rice, paddy (rice milled equivalent)\", \"Sugar beet\", \"Potatoes\", \"Maize\", \"Rice, paddy\", \"Wheat\", \"Sugar cane\"], \"type\": \"bar\"}], \"layout\": {\"bargap\": 0.15, \"font\": {\"size\": 14}, \"plot_bgcolor\": \"#FFFFFF\", \"xaxis\": {\"range\": [0, 1907024730.0], \"showline\": true, \"visible\": true}, \"yaxis\": {\"showline\": false, \"visible\": true}}, \"name\": \"1971\"}, {\"data\": [{\"cliponaxis\": false, \"hoverinfo\": \"all\", \"hovertemplate\": \"<extra></extra>\", \"marker\": {\"color\": [\"rgb(191, 94, 110)\", \"rgb(12, 46, 186)\", \"rgb(107, 27, 235)\", \"rgb(222, 180, 201)\", \"rgb(133, 10, 182)\", \"rgb(141, 125, 232)\", \"rgb(165, 95, 93)\", \"rgb(142, 153, 131)\", \"rgb(87, 228, 34)\", \"rgb(174, 70, 226)\"]}, \"orientation\": \"h\", \"textangle\": 0, \"textposition\": \"outside\", \"texttemplate\": \"%{y}<br>%{x:.4s}\", \"x\": [101261515.0, 121467494.0, 132963909.0, 204962388.0, 240336963.0, 272144812.0, 307289937.0, 308826290.0, 343001429.0, 569105570.0], \"y\": [\"Cassava\", \"Sweet potatoes\", \"Barley\", \"Rice, paddy (rice milled equivalent)\", \"Sugar beet\", \"Potatoes\", \"Rice, paddy\", \"Maize\", \"Wheat\", \"Sugar cane\"], \"type\": \"bar\"}], \"layout\": {\"bargap\": 0.15, \"font\": {\"size\": 14}, \"plot_bgcolor\": \"#FFFFFF\", \"xaxis\": {\"range\": [0, 1907024730.0], \"showline\": true, \"visible\": true}, \"yaxis\": {\"showline\": false, \"visible\": true}}, \"name\": \"1972\"}, {\"data\": [{\"cliponaxis\": false, \"hoverinfo\": \"all\", \"hovertemplate\": \"<extra></extra>\", \"marker\": {\"color\": [\"rgb(191, 94, 110)\", \"rgb(107, 27, 235)\", \"rgb(12, 46, 186)\", \"rgb(222, 180, 201)\", \"rgb(133, 10, 182)\", \"rgb(141, 125, 232)\", \"rgb(142, 153, 131)\", \"rgb(165, 95, 93)\", \"rgb(87, 228, 34)\", \"rgb(174, 70, 226)\"]}, \"orientation\": \"h\", \"textangle\": 0, \"textposition\": \"outside\", \"texttemplate\": \"%{y}<br>%{x:.4s}\", \"x\": [101734795.0, 146966081.0, 152865329.0, 223397535.0, 250104320.0, 307160130.0, 318290469.0, 334928838.0, 369334126.0, 600227145.0], \"y\": [\"Cassava\", \"Barley\", \"Sweet potatoes\", \"Rice, paddy (rice milled equivalent)\", \"Sugar beet\", \"Potatoes\", \"Maize\", \"Rice, paddy\", \"Wheat\", \"Sugar cane\"], \"type\": \"bar\"}], \"layout\": {\"bargap\": 0.15, \"font\": {\"size\": 14}, \"plot_bgcolor\": \"#FFFFFF\", \"xaxis\": {\"range\": [0, 1907024730.0], \"showline\": true, \"visible\": true}, \"yaxis\": {\"showline\": false, \"visible\": true}}, \"name\": \"1973\"}, {\"data\": [{\"cliponaxis\": false, \"hoverinfo\": \"all\", \"hovertemplate\": \"<extra></extra>\", \"marker\": {\"color\": [\"rgb(191, 94, 110)\", \"rgb(12, 46, 186)\", \"rgb(107, 27, 235)\", \"rgb(222, 180, 201)\", \"rgb(133, 10, 182)\", \"rgb(141, 125, 232)\", \"rgb(142, 153, 131)\", \"rgb(165, 95, 93)\", \"rgb(87, 228, 34)\", \"rgb(174, 70, 226)\"]}, \"orientation\": \"h\", \"textangle\": 0, \"textposition\": \"outside\", \"texttemplate\": \"%{y}<br>%{x:.4s}\", \"x\": [104370567.0, 137264243.0, 148818870.0, 221424400.0, 234922029.0, 284781339.0, 306427347.0, 331970614.0, 358825442.0, 648516497.0], \"y\": [\"Cassava\", \"Sweet potatoes\", \"Barley\", \"Rice, paddy (rice milled equivalent)\", \"Sugar beet\", \"Potatoes\", \"Maize\", \"Rice, paddy\", \"Wheat\", \"Sugar cane\"], \"type\": \"bar\"}], \"layout\": {\"bargap\": 0.15, \"font\": {\"size\": 14}, \"plot_bgcolor\": \"#FFFFFF\", \"xaxis\": {\"range\": [0, 1907024730.0], \"showline\": true, \"visible\": true}, \"yaxis\": {\"showline\": false, \"visible\": true}}, \"name\": \"1974\"}, {\"data\": [{\"cliponaxis\": false, \"hoverinfo\": \"all\", \"hovertemplate\": \"<extra></extra>\", \"marker\": {\"color\": [\"rgb(191, 94, 110)\", \"rgb(107, 27, 235)\", \"rgb(12, 46, 186)\", \"rgb(222, 180, 201)\", \"rgb(133, 10, 182)\", \"rgb(141, 125, 232)\", \"rgb(142, 153, 131)\", \"rgb(87, 228, 34)\", \"rgb(165, 95, 93)\", \"rgb(174, 70, 226)\"]}, \"orientation\": \"h\", \"textangle\": 0, \"textposition\": \"outside\", \"texttemplate\": \"%{y}<br>%{x:.4s}\", \"x\": [110398445.0, 135491720.0, 141314403.0, 238094381.0, 251310276.0, 270384075.0, 341751971.0, 355806146.0, 356963090.0, 655815792.0], \"y\": [\"Cassava\", \"Barley\", \"Sweet potatoes\", \"Rice, paddy (rice milled equivalent)\", \"Sugar beet\", \"Potatoes\", \"Maize\", \"Wheat\", \"Rice, paddy\", \"Sugar cane\"], \"type\": \"bar\"}], \"layout\": {\"bargap\": 0.15, \"font\": {\"size\": 14}, \"plot_bgcolor\": \"#FFFFFF\", \"xaxis\": {\"range\": [0, 1907024730.0], \"showline\": true, \"visible\": true}, \"yaxis\": {\"showline\": false, \"visible\": true}}, \"name\": \"1975\"}, {\"data\": [{\"cliponaxis\": false, \"hoverinfo\": \"all\", \"hovertemplate\": \"<extra></extra>\", \"marker\": {\"color\": [\"rgb(191, 94, 110)\", \"rgb(12, 46, 186)\", \"rgb(107, 27, 235)\", \"rgb(222, 180, 201)\", \"rgb(141, 125, 232)\", \"rgb(133, 10, 182)\", \"rgb(165, 95, 93)\", \"rgb(142, 153, 131)\", \"rgb(87, 228, 34)\", \"rgb(174, 70, 226)\"]}, \"orientation\": \"h\", \"textangle\": 0, \"textposition\": \"outside\", \"texttemplate\": \"%{y}<br>%{x:.4s}\", \"x\": [113892497.0, 133322031.0, 166595806.0, 231906870.0, 272745276.0, 296408369.0, 347686462.0, 352395866.0, 419868031.0, 687207538.0], \"y\": [\"Cassava\", \"Sweet potatoes\", \"Barley\", \"Rice, paddy (rice milled equivalent)\", \"Potatoes\", \"Sugar beet\", \"Rice, paddy\", \"Maize\", \"Wheat\", \"Sugar cane\"], \"type\": \"bar\"}], \"layout\": {\"bargap\": 0.15, \"font\": {\"size\": 14}, \"plot_bgcolor\": \"#FFFFFF\", \"xaxis\": {\"range\": [0, 1907024730.0], \"showline\": true, \"visible\": true}, \"yaxis\": {\"showline\": false, \"visible\": true}}, \"name\": \"1976\"}, {\"data\": [{\"cliponaxis\": false, \"hoverinfo\": \"all\", \"hovertemplate\": \"<extra></extra>\", \"marker\": {\"color\": [\"rgb(191, 94, 110)\", \"rgb(12, 46, 186)\", \"rgb(107, 27, 235)\", \"rgb(222, 180, 201)\", \"rgb(141, 125, 232)\", \"rgb(133, 10, 182)\", \"rgb(165, 95, 93)\", \"rgb(142, 153, 131)\", \"rgb(87, 228, 34)\", \"rgb(174, 70, 226)\"]}, \"orientation\": \"h\", \"textangle\": 0, \"textposition\": \"outside\", \"texttemplate\": \"%{y}<br>%{x:.4s}\", \"x\": [118605256.0, 143107584.0, 156386493.0, 246443929.0, 279667694.0, 288582476.0, 369481153.0, 371593355.0, 382276677.0, 734858286.0], \"y\": [\"Cassava\", \"Sweet potatoes\", \"Barley\", \"Rice, paddy (rice milled equivalent)\", \"Potatoes\", \"Sugar beet\", \"Rice, paddy\", \"Maize\", \"Wheat\", \"Sugar cane\"], \"type\": \"bar\"}], \"layout\": {\"bargap\": 0.15, \"font\": {\"size\": 14}, \"plot_bgcolor\": \"#FFFFFF\", \"xaxis\": {\"range\": [0, 1907024730.0], \"showline\": true, \"visible\": true}, \"yaxis\": {\"showline\": false, \"visible\": true}}, \"name\": \"1977\"}, {\"data\": [{\"cliponaxis\": false, \"hoverinfo\": \"all\", \"hovertemplate\": \"<extra></extra>\", \"marker\": {\"color\": [\"rgb(191, 94, 110)\", \"rgb(12, 46, 186)\", \"rgb(107, 27, 235)\", \"rgb(222, 180, 201)\", \"rgb(133, 10, 182)\", \"rgb(141, 125, 232)\", \"rgb(165, 95, 93)\", \"rgb(142, 153, 131)\", \"rgb(87, 228, 34)\", \"rgb(174, 70, 226)\"]}, \"orientation\": \"h\", \"textangle\": 0, \"textposition\": \"outside\", \"texttemplate\": \"%{y}<br>%{x:.4s}\", \"x\": [123308473.0, 151857764.0, 174929309.0, 256934233.0, 282834069.0, 291161652.0, 385208745.0, 393600091.0, 443844880.0, 774416858.0], \"y\": [\"Cassava\", \"Sweet potatoes\", \"Barley\", \"Rice, paddy (rice milled equivalent)\", \"Sugar beet\", \"Potatoes\", \"Rice, paddy\", \"Maize\", \"Wheat\", \"Sugar cane\"], \"type\": \"bar\"}], \"layout\": {\"bargap\": 0.15, \"font\": {\"size\": 14}, \"plot_bgcolor\": \"#FFFFFF\", \"xaxis\": {\"range\": [0, 1907024730.0], \"showline\": true, \"visible\": true}, \"yaxis\": {\"showline\": false, \"visible\": true}}, \"name\": \"1978\"}, {\"data\": [{\"cliponaxis\": false, \"hoverinfo\": \"all\", \"hovertemplate\": \"<extra></extra>\", \"marker\": {\"color\": [\"rgb(191, 94, 110)\", \"rgb(12, 46, 186)\", \"rgb(107, 27, 235)\", \"rgb(222, 180, 201)\", \"rgb(133, 10, 182)\", \"rgb(141, 125, 232)\", \"rgb(165, 95, 93)\", \"rgb(142, 153, 131)\", \"rgb(87, 228, 34)\", \"rgb(174, 70, 226)\"]}, \"orientation\": \"h\", \"textangle\": 0, \"textposition\": \"outside\", \"texttemplate\": \"%{y}<br>%{x:.4s}\", \"x\": [119745423.0, 137935647.0, 154989948.0, 250292923.0, 262752809.0, 297921605.0, 375251758.0, 418622993.0, 422999301.0, 770245178.0], \"y\": [\"Cassava\", \"Sweet potatoes\", \"Barley\", \"Rice, paddy (rice milled equivalent)\", \"Sugar beet\", \"Potatoes\", \"Rice, paddy\", \"Maize\", \"Wheat\", \"Sugar cane\"], \"type\": \"bar\"}], \"layout\": {\"bargap\": 0.15, \"font\": {\"size\": 14}, \"plot_bgcolor\": \"#FFFFFF\", \"xaxis\": {\"range\": [0, 1907024730.0], \"showline\": true, \"visible\": true}, \"yaxis\": {\"showline\": false, \"visible\": true}}, \"name\": \"1979\"}, {\"data\": [{\"cliponaxis\": false, \"hoverinfo\": \"all\", \"hovertemplate\": \"<extra></extra>\", \"marker\": {\"color\": [\"rgb(191, 94, 110)\", \"rgb(12, 46, 186)\", \"rgb(107, 27, 235)\", \"rgb(141, 125, 232)\", \"rgb(222, 180, 201)\", \"rgb(133, 10, 182)\", \"rgb(142, 153, 131)\", \"rgb(165, 95, 93)\", \"rgb(87, 228, 34)\", \"rgb(174, 70, 226)\"]}, \"orientation\": \"h\", \"textangle\": 0, \"textposition\": \"outside\", \"texttemplate\": \"%{y}<br>%{x:.4s}\", \"x\": [124135066.0, 137869239.0, 156702822.0, 240495788.0, 264713164.0, 267856451.0, 396623388.0, 396871310.0, 440187901.0, 734489200.0], \"y\": [\"Cassava\", \"Sweet potatoes\", \"Barley\", \"Potatoes\", \"Rice, paddy (rice milled equivalent)\", \"Sugar beet\", \"Maize\", \"Rice, paddy\", \"Wheat\", \"Sugar cane\"], \"type\": \"bar\"}], \"layout\": {\"bargap\": 0.15, \"font\": {\"size\": 14}, \"plot_bgcolor\": \"#FFFFFF\", \"xaxis\": {\"range\": [0, 1907024730.0], \"showline\": true, \"visible\": true}, \"yaxis\": {\"showline\": false, \"visible\": true}}, \"name\": \"1980\"}, {\"data\": [{\"cliponaxis\": false, \"hoverinfo\": \"all\", \"hovertemplate\": \"<extra></extra>\", \"marker\": {\"color\": [\"rgb(12, 46, 186)\", \"rgb(191, 94, 110)\", \"rgb(107, 27, 235)\", \"rgb(141, 125, 232)\", \"rgb(222, 180, 201)\", \"rgb(133, 10, 182)\", \"rgb(165, 95, 93)\", \"rgb(142, 153, 131)\", \"rgb(87, 228, 34)\", \"rgb(174, 70, 226)\"]}, \"orientation\": \"h\", \"textangle\": 0, \"textposition\": \"outside\", \"texttemplate\": \"%{y}<br>%{x:.4s}\", \"x\": [125543727.0, 127513877.0, 149602582.0, 267781520.0, 273520179.0, 287840286.0, 410075231.0, 446772517.0, 449633986.0, 799604214.0], \"y\": [\"Sweet potatoes\", \"Cassava\", \"Barley\", \"Potatoes\", \"Rice, paddy (rice milled equivalent)\", \"Sugar beet\", \"Rice, paddy\", \"Maize\", \"Wheat\", \"Sugar cane\"], \"type\": \"bar\"}], \"layout\": {\"bargap\": 0.15, \"font\": {\"size\": 14}, \"plot_bgcolor\": \"#FFFFFF\", \"xaxis\": {\"range\": [0, 1907024730.0], \"showline\": true, \"visible\": true}, \"yaxis\": {\"showline\": false, \"visible\": true}}, \"name\": \"1981\"}, {\"data\": [{\"cliponaxis\": false, \"hoverinfo\": \"all\", \"hovertemplate\": \"<extra></extra>\", \"marker\": {\"color\": [\"rgb(191, 94, 110)\", \"rgb(12, 46, 186)\", \"rgb(107, 27, 235)\", \"rgb(141, 125, 232)\", \"rgb(222, 180, 201)\", \"rgb(133, 10, 182)\", \"rgb(165, 95, 93)\", \"rgb(142, 153, 131)\", \"rgb(87, 228, 34)\", \"rgb(174, 70, 226)\"]}, \"orientation\": \"h\", \"textangle\": 0, \"textposition\": \"outside\", \"texttemplate\": \"%{y}<br>%{x:.4s}\", \"x\": [128849568.0, 129433910.0, 161352537.0, 265142602.0, 281440016.0, 291773194.0, 421949049.0, 448932280.0, 476768609.0, 907067880.0], \"y\": [\"Cassava\", \"Sweet potatoes\", \"Barley\", \"Potatoes\", \"Rice, paddy (rice milled equivalent)\", \"Sugar beet\", \"Rice, paddy\", \"Maize\", \"Wheat\", \"Sugar cane\"], \"type\": \"bar\"}], \"layout\": {\"bargap\": 0.15, \"font\": {\"size\": 14}, \"plot_bgcolor\": \"#FFFFFF\", \"xaxis\": {\"range\": [0, 1907024730.0], \"showline\": true, \"visible\": true}, \"yaxis\": {\"showline\": false, \"visible\": true}}, \"name\": \"1982\"}, {\"data\": [{\"cliponaxis\": false, \"hoverinfo\": \"all\", \"hovertemplate\": \"<extra></extra>\", \"marker\": {\"color\": [\"rgb(191, 94, 110)\", \"rgb(12, 46, 186)\", \"rgb(107, 27, 235)\", \"rgb(141, 125, 232)\", \"rgb(133, 10, 182)\", \"rgb(222, 180, 201)\", \"rgb(142, 153, 131)\", \"rgb(165, 95, 93)\", \"rgb(87, 228, 34)\", \"rgb(174, 70, 226)\"]}, \"orientation\": \"h\", \"textangle\": 0, \"textposition\": \"outside\", \"texttemplate\": \"%{y}<br>%{x:.4s}\", \"x\": [126886287.0, 137945719.0, 159470171.0, 264471009.0, 274395485.0, 298826869.0, 347082034.0, 448016295.0, 489555281.0, 903684353.0], \"y\": [\"Cassava\", \"Sweet potatoes\", \"Barley\", \"Potatoes\", \"Sugar beet\", \"Rice, paddy (rice milled equivalent)\", \"Maize\", \"Rice, paddy\", \"Wheat\", \"Sugar cane\"], \"type\": \"bar\"}], \"layout\": {\"bargap\": 0.15, \"font\": {\"size\": 14}, \"plot_bgcolor\": \"#FFFFFF\", \"xaxis\": {\"range\": [0, 1907024730.0], \"showline\": true, \"visible\": true}, \"yaxis\": {\"showline\": false, \"visible\": true}}, \"name\": \"1983\"}, {\"data\": [{\"cliponaxis\": false, \"hoverinfo\": \"all\", \"hovertemplate\": \"<extra></extra>\", \"marker\": {\"color\": [\"rgb(12, 46, 186)\", \"rgb(191, 94, 110)\", \"rgb(107, 27, 235)\", \"rgb(141, 125, 232)\", \"rgb(133, 10, 182)\", \"rgb(222, 180, 201)\", \"rgb(142, 153, 131)\", \"rgb(165, 95, 93)\", \"rgb(87, 228, 34)\", \"rgb(174, 70, 226)\"]}, \"orientation\": \"h\", \"textangle\": 0, \"textposition\": \"outside\", \"texttemplate\": \"%{y}<br>%{x:.4s}\", \"x\": [133036563.0, 133239818.0, 169433845.0, 290945972.0, 296351939.0, 310383713.0, 450449992.0, 465342898.0, 512330225.0, 929768246.0], \"y\": [\"Sweet potatoes\", \"Cassava\", \"Barley\", \"Potatoes\", \"Sugar beet\", \"Rice, paddy (rice milled equivalent)\", \"Maize\", \"Rice, paddy\", \"Wheat\", \"Sugar cane\"], \"type\": \"bar\"}], \"layout\": {\"bargap\": 0.15, \"font\": {\"size\": 14}, \"plot_bgcolor\": \"#FFFFFF\", \"xaxis\": {\"range\": [0, 1907024730.0], \"showline\": true, \"visible\": true}, \"yaxis\": {\"showline\": false, \"visible\": true}}, \"name\": \"1984\"}, {\"data\": [{\"cliponaxis\": false, \"hoverinfo\": \"all\", \"hovertemplate\": \"<extra></extra>\", \"marker\": {\"color\": [\"rgb(12, 46, 186)\", \"rgb(191, 94, 110)\", \"rgb(107, 27, 235)\", \"rgb(141, 125, 232)\", \"rgb(133, 10, 182)\", \"rgb(222, 180, 201)\", \"rgb(165, 95, 93)\", \"rgb(142, 153, 131)\", \"rgb(87, 228, 34)\", \"rgb(174, 70, 226)\"]}, \"orientation\": \"h\", \"textangle\": 0, \"textposition\": \"outside\", \"texttemplate\": \"%{y}<br>%{x:.4s}\", \"x\": [122997023.0, 135852865.0, 172618338.0, 281603760.0, 284155160.0, 312265770.0, 468164572.0, 485527301.0, 499527392.0, 933213589.0], \"y\": [\"Sweet potatoes\", \"Cassava\", \"Barley\", \"Potatoes\", \"Sugar beet\", \"Rice, paddy (rice milled equivalent)\", \"Rice, paddy\", \"Maize\", \"Wheat\", \"Sugar cane\"], \"type\": \"bar\"}], \"layout\": {\"bargap\": 0.15, \"font\": {\"size\": 14}, \"plot_bgcolor\": \"#FFFFFF\", \"xaxis\": {\"range\": [0, 1907024730.0], \"showline\": true, \"visible\": true}, \"yaxis\": {\"showline\": false, \"visible\": true}}, \"name\": \"1985\"}, {\"data\": [{\"cliponaxis\": false, \"hoverinfo\": \"all\", \"hovertemplate\": \"<extra></extra>\", \"marker\": {\"color\": [\"rgb(169, 215, 204)\", \"rgb(191, 94, 110)\", \"rgb(107, 27, 235)\", \"rgb(133, 10, 182)\", \"rgb(141, 125, 232)\", \"rgb(222, 180, 201)\", \"rgb(165, 95, 93)\", \"rgb(142, 153, 131)\", \"rgb(87, 228, 34)\", \"rgb(174, 70, 226)\"]}, \"orientation\": \"h\", \"textangle\": 0, \"textposition\": \"outside\", \"texttemplate\": \"%{y}<br>%{x:.4s}\", \"x\": [129814219.0, 134228164.0, 177169275.0, 286334048.0, 286610518.0, 312606386.0, 468675242.0, 478176622.0, 528685222.0, 934719186.0], \"y\": [\"Vegetables, fresh nes\", \"Cassava\", \"Barley\", \"Sugar beet\", \"Potatoes\", \"Rice, paddy (rice milled equivalent)\", \"Rice, paddy\", \"Maize\", \"Wheat\", \"Sugar cane\"], \"type\": \"bar\"}], \"layout\": {\"bargap\": 0.15, \"font\": {\"size\": 14}, \"plot_bgcolor\": \"#FFFFFF\", \"xaxis\": {\"range\": [0, 1907024730.0], \"showline\": true, \"visible\": true}, \"yaxis\": {\"showline\": false, \"visible\": true}}, \"name\": \"1986\"}, {\"data\": [{\"cliponaxis\": false, \"hoverinfo\": \"all\", \"hovertemplate\": \"<extra></extra>\", \"marker\": {\"color\": [\"rgb(12, 46, 186)\", \"rgb(191, 94, 110)\", \"rgb(107, 27, 235)\", \"rgb(141, 125, 232)\", \"rgb(133, 10, 182)\", \"rgb(222, 180, 201)\", \"rgb(142, 153, 131)\", \"rgb(165, 95, 93)\", \"rgb(87, 228, 34)\", \"rgb(174, 70, 226)\"]}, \"orientation\": \"h\", \"textangle\": 0, \"textposition\": \"outside\", \"texttemplate\": \"%{y}<br>%{x:.4s}\", \"x\": [133652442.0, 138134704.0, 175288684.0, 279415351.0, 299751636.0, 307780419.0, 453115794.0, 461439908.0, 505075847.0, 990319251.0], \"y\": [\"Sweet potatoes\", \"Cassava\", \"Barley\", \"Potatoes\", \"Sugar beet\", \"Rice, paddy (rice milled equivalent)\", \"Maize\", \"Rice, paddy\", \"Wheat\", \"Sugar cane\"], \"type\": \"bar\"}], \"layout\": {\"bargap\": 0.15, \"font\": {\"size\": 14}, \"plot_bgcolor\": \"#FFFFFF\", \"xaxis\": {\"range\": [0, 1907024730.0], \"showline\": true, \"visible\": true}, \"yaxis\": {\"showline\": false, \"visible\": true}}, \"name\": \"1987\"}, {\"data\": [{\"cliponaxis\": false, \"hoverinfo\": \"all\", \"hovertemplate\": \"<extra></extra>\", \"marker\": {\"color\": [\"rgb(169, 215, 204)\", \"rgb(191, 94, 110)\", \"rgb(107, 27, 235)\", \"rgb(141, 125, 232)\", \"rgb(133, 10, 182)\", \"rgb(222, 180, 201)\", \"rgb(142, 153, 131)\", \"rgb(165, 95, 93)\", \"rgb(87, 228, 34)\", \"rgb(174, 70, 226)\"]}, \"orientation\": \"h\", \"textangle\": 0, \"textposition\": \"outside\", \"texttemplate\": \"%{y}<br>%{x:.4s}\", \"x\": [137997867.0, 144878275.0, 163396406.0, 268603004.0, 293570876.0, 325134421.0, 403050234.0, 487457902.0, 500656538.0, 992982513.0], \"y\": [\"Vegetables, fresh nes\", \"Cassava\", \"Barley\", \"Potatoes\", \"Sugar beet\", \"Rice, paddy (rice milled equivalent)\", \"Maize\", \"Rice, paddy\", \"Wheat\", \"Sugar cane\"], \"type\": \"bar\"}], \"layout\": {\"bargap\": 0.15, \"font\": {\"size\": 14}, \"plot_bgcolor\": \"#FFFFFF\", \"xaxis\": {\"range\": [0, 1907024730.0], \"showline\": true, \"visible\": true}, \"yaxis\": {\"showline\": false, \"visible\": true}}, \"name\": \"1988\"}, {\"data\": [{\"cliponaxis\": false, \"hoverinfo\": \"all\", \"hovertemplate\": \"<extra></extra>\", \"marker\": {\"color\": [\"rgb(169, 215, 204)\", \"rgb(191, 94, 110)\", \"rgb(107, 27, 235)\", \"rgb(141, 125, 232)\", \"rgb(133, 10, 182)\", \"rgb(222, 180, 201)\", \"rgb(142, 153, 131)\", \"rgb(165, 95, 93)\", \"rgb(87, 228, 34)\", \"rgb(174, 70, 226)\"]}, \"orientation\": \"h\", \"textangle\": 0, \"textposition\": \"outside\", \"texttemplate\": \"%{y}<br>%{x:.4s}\", \"x\": [138710355.0, 152885746.0, 164166455.0, 276583863.0, 314402899.0, 343119234.0, 476874503.0, 514421640.0, 538206114.0, 1017998783.0], \"y\": [\"Vegetables, fresh nes\", \"Cassava\", \"Barley\", \"Potatoes\", \"Sugar beet\", \"Rice, paddy (rice milled equivalent)\", \"Maize\", \"Rice, paddy\", \"Wheat\", \"Sugar cane\"], \"type\": \"bar\"}], \"layout\": {\"bargap\": 0.15, \"font\": {\"size\": 14}, \"plot_bgcolor\": \"#FFFFFF\", \"xaxis\": {\"range\": [0, 1907024730.0], \"showline\": true, \"visible\": true}, \"yaxis\": {\"showline\": false, \"visible\": true}}, \"name\": \"1989\"}, {\"data\": [{\"cliponaxis\": false, \"hoverinfo\": \"all\", \"hovertemplate\": \"<extra></extra>\", \"marker\": {\"color\": [\"rgb(169, 215, 204)\", \"rgb(191, 94, 110)\", \"rgb(107, 27, 235)\", \"rgb(141, 125, 232)\", \"rgb(133, 10, 182)\", \"rgb(222, 180, 201)\", \"rgb(142, 153, 131)\", \"rgb(165, 95, 93)\", \"rgb(87, 228, 34)\", \"rgb(174, 70, 226)\"]}, \"orientation\": \"h\", \"textangle\": 0, \"textposition\": \"outside\", \"texttemplate\": \"%{y}<br>%{x:.4s}\", \"x\": [140314879.0, 152378682.0, 178074020.0, 266825273.0, 309186724.0, 345885292.0, 483620724.0, 518568653.0, 591330111.0, 1052997497.0], \"y\": [\"Vegetables, fresh nes\", \"Cassava\", \"Barley\", \"Potatoes\", \"Sugar beet\", \"Rice, paddy (rice milled equivalent)\", \"Maize\", \"Rice, paddy\", \"Wheat\", \"Sugar cane\"], \"type\": \"bar\"}], \"layout\": {\"bargap\": 0.15, \"font\": {\"size\": 14}, \"plot_bgcolor\": \"#FFFFFF\", \"xaxis\": {\"range\": [0, 1907024730.0], \"showline\": true, \"visible\": true}, \"yaxis\": {\"showline\": false, \"visible\": true}}, \"name\": \"1990\"}, {\"data\": [{\"cliponaxis\": false, \"hoverinfo\": \"all\", \"hovertemplate\": \"<extra></extra>\", \"marker\": {\"color\": [\"rgb(169, 215, 204)\", \"rgb(191, 94, 110)\", \"rgb(107, 27, 235)\", \"rgb(141, 125, 232)\", \"rgb(133, 10, 182)\", \"rgb(222, 180, 201)\", \"rgb(142, 153, 131)\", \"rgb(165, 95, 93)\", \"rgb(87, 228, 34)\", \"rgb(174, 70, 226)\"]}, \"orientation\": \"h\", \"textangle\": 0, \"textposition\": \"outside\", \"texttemplate\": \"%{y}<br>%{x:.4s}\", \"x\": [135062201.0, 160406516.0, 169582274.0, 256993281.0, 285129013.0, 345847886.0, 494407622.0, 518512573.0, 547820731.0, 1086955621.0], \"y\": [\"Vegetables, fresh nes\", \"Cassava\", \"Barley\", \"Potatoes\", \"Sugar beet\", \"Rice, paddy (rice milled equivalent)\", \"Maize\", \"Rice, paddy\", \"Wheat\", \"Sugar cane\"], \"type\": \"bar\"}], \"layout\": {\"bargap\": 0.15, \"font\": {\"size\": 14}, \"plot_bgcolor\": \"#FFFFFF\", \"xaxis\": {\"range\": [0, 1907024730.0], \"showline\": true, \"visible\": true}, \"yaxis\": {\"showline\": false, \"visible\": true}}, \"name\": \"1991\"}, {\"data\": [{\"cliponaxis\": false, \"hoverinfo\": \"all\", \"hovertemplate\": \"<extra></extra>\", \"marker\": {\"color\": [\"rgb(169, 215, 204)\", \"rgb(191, 94, 110)\", \"rgb(107, 27, 235)\", \"rgb(141, 125, 232)\", \"rgb(133, 10, 182)\", \"rgb(222, 180, 201)\", \"rgb(165, 95, 93)\", \"rgb(142, 153, 131)\", \"rgb(87, 228, 34)\", \"rgb(174, 70, 226)\"]}, \"orientation\": \"h\", \"textangle\": 0, \"textposition\": \"outside\", \"texttemplate\": \"%{y}<br>%{x:.4s}\", \"x\": [144904166.0, 162004349.0, 165533308.0, 278980652.0, 281711850.0, 352094665.0, 527878059.0, 533789336.0, 565111947.0, 1107576853.0], \"y\": [\"Vegetables, fresh nes\", \"Cassava\", \"Barley\", \"Potatoes\", \"Sugar beet\", \"Rice, paddy (rice milled equivalent)\", \"Rice, paddy\", \"Maize\", \"Wheat\", \"Sugar cane\"], \"type\": \"bar\"}], \"layout\": {\"bargap\": 0.15, \"font\": {\"size\": 14}, \"plot_bgcolor\": \"#FFFFFF\", \"xaxis\": {\"range\": [0, 1907024730.0], \"showline\": true, \"visible\": true}, \"yaxis\": {\"showline\": false, \"visible\": true}}, \"name\": \"1992\"}, {\"data\": [{\"cliponaxis\": false, \"hoverinfo\": \"all\", \"hovertemplate\": \"<extra></extra>\", \"marker\": {\"color\": [\"rgb(169, 215, 204)\", \"rgb(191, 94, 110)\", \"rgb(107, 27, 235)\", \"rgb(133, 10, 182)\", \"rgb(141, 125, 232)\", \"rgb(222, 180, 201)\", \"rgb(142, 153, 131)\", \"rgb(165, 95, 93)\", \"rgb(87, 228, 34)\", \"rgb(174, 70, 226)\"]}, \"orientation\": \"h\", \"textangle\": 0, \"textposition\": \"outside\", \"texttemplate\": \"%{y}<br>%{x:.4s}\", \"x\": [155428142.0, 163185199.0, 169542965.0, 282190576.0, 304619922.0, 353242902.0, 477221153.0, 529599553.0, 564739765.0, 1020881319.0], \"y\": [\"Vegetables, fresh nes\", \"Cassava\", \"Barley\", \"Sugar beet\", \"Potatoes\", \"Rice, paddy (rice milled equivalent)\", \"Maize\", \"Rice, paddy\", \"Wheat\", \"Sugar cane\"], \"type\": \"bar\"}], \"layout\": {\"bargap\": 0.15, \"font\": {\"size\": 14}, \"plot_bgcolor\": \"#FFFFFF\", \"xaxis\": {\"range\": [0, 1907024730.0], \"showline\": true, \"visible\": true}, \"yaxis\": {\"showline\": false, \"visible\": true}}, \"name\": \"1993\"}, {\"data\": [{\"cliponaxis\": false, \"hoverinfo\": \"all\", \"hovertemplate\": \"<extra></extra>\", \"marker\": {\"color\": [\"rgb(107, 27, 235)\", \"rgb(169, 215, 204)\", \"rgb(191, 94, 110)\", \"rgb(133, 10, 182)\", \"rgb(141, 125, 232)\", \"rgb(222, 180, 201)\", \"rgb(87, 228, 34)\", \"rgb(165, 95, 93)\", \"rgb(142, 153, 131)\", \"rgb(174, 70, 226)\"]}, \"orientation\": \"h\", \"textangle\": 0, \"textposition\": \"outside\", \"texttemplate\": \"%{y}<br>%{x:.4s}\", \"x\": [161019263.0, 161088312.0, 164501121.0, 254453796.0, 270203771.0, 359240229.0, 525435323.0, 538591048.0, 568663564.0, 1084097363.0], \"y\": [\"Barley\", \"Vegetables, fresh nes\", \"Cassava\", \"Sugar beet\", \"Potatoes\", \"Rice, paddy (rice milled equivalent)\", \"Wheat\", \"Rice, paddy\", \"Maize\", \"Sugar cane\"], \"type\": \"bar\"}], \"layout\": {\"bargap\": 0.15, \"font\": {\"size\": 14}, \"plot_bgcolor\": \"#FFFFFF\", \"xaxis\": {\"range\": [0, 1907024730.0], \"showline\": true, \"visible\": true}, \"yaxis\": {\"showline\": false, \"visible\": true}}, \"name\": \"1994\"}, {\"data\": [{\"cliponaxis\": false, \"hoverinfo\": \"all\", \"hovertemplate\": \"<extra></extra>\", \"marker\": {\"color\": [\"rgb(107, 27, 235)\", \"rgb(191, 94, 110)\", \"rgb(169, 215, 204)\", \"rgb(133, 10, 182)\", \"rgb(141, 125, 232)\", \"rgb(222, 180, 201)\", \"rgb(142, 153, 131)\", \"rgb(87, 228, 34)\", \"rgb(165, 95, 93)\", \"rgb(174, 70, 226)\"]}, \"orientation\": \"h\", \"textangle\": 0, \"textposition\": \"outside\", \"texttemplate\": \"%{y}<br>%{x:.4s}\", \"x\": [140724630.0, 161787472.0, 165885731.0, 264504934.0, 285333037.0, 364957060.0, 517299059.0, 544357532.0, 547162009.0, 1163366858.0], \"y\": [\"Barley\", \"Cassava\", \"Vegetables, fresh nes\", \"Sugar beet\", \"Potatoes\", \"Rice, paddy (rice milled equivalent)\", \"Maize\", \"Wheat\", \"Rice, paddy\", \"Sugar cane\"], \"type\": \"bar\"}], \"layout\": {\"bargap\": 0.15, \"font\": {\"size\": 14}, \"plot_bgcolor\": \"#FFFFFF\", \"xaxis\": {\"range\": [0, 1907024730.0], \"showline\": true, \"visible\": true}, \"yaxis\": {\"showline\": false, \"visible\": true}}, \"name\": \"1995\"}, {\"data\": [{\"cliponaxis\": false, \"hoverinfo\": \"all\", \"hovertemplate\": \"<extra></extra>\", \"marker\": {\"color\": [\"rgb(107, 27, 235)\", \"rgb(191, 94, 110)\", \"rgb(169, 215, 204)\", \"rgb(133, 10, 182)\", \"rgb(141, 125, 232)\", \"rgb(222, 180, 201)\", \"rgb(165, 95, 93)\", \"rgb(87, 228, 34)\", \"rgb(142, 153, 131)\", \"rgb(174, 70, 226)\"]}, \"orientation\": \"h\", \"textangle\": 0, \"textposition\": \"outside\", \"texttemplate\": \"%{y}<br>%{x:.4s}\", \"x\": [155017318.0, 158373490.0, 171922447.0, 264461343.0, 310493658.0, 379294907.0, 568658031.0, 578616933.0, 586146163.0, 1218890125.0], \"y\": [\"Barley\", \"Cassava\", \"Vegetables, fresh nes\", \"Sugar beet\", \"Potatoes\", \"Rice, paddy (rice milled equivalent)\", \"Rice, paddy\", \"Wheat\", \"Maize\", \"Sugar cane\"], \"type\": \"bar\"}], \"layout\": {\"bargap\": 0.15, \"font\": {\"size\": 14}, \"plot_bgcolor\": \"#FFFFFF\", \"xaxis\": {\"range\": [0, 1907024730.0], \"showline\": true, \"visible\": true}, \"yaxis\": {\"showline\": false, \"visible\": true}}, \"name\": \"1996\"}, {\"data\": [{\"cliponaxis\": false, \"hoverinfo\": \"all\", \"hovertemplate\": \"<extra></extra>\", \"marker\": {\"color\": [\"rgb(107, 27, 235)\", \"rgb(191, 94, 110)\", \"rgb(169, 215, 204)\", \"rgb(133, 10, 182)\", \"rgb(141, 125, 232)\", \"rgb(222, 180, 201)\", \"rgb(165, 95, 93)\", \"rgb(142, 153, 131)\", \"rgb(87, 228, 34)\", \"rgb(174, 70, 226)\"]}, \"orientation\": \"h\", \"textangle\": 0, \"textposition\": \"outside\", \"texttemplate\": \"%{y}<br>%{x:.4s}\", \"x\": [154359212.0, 161747290.0, 175581351.0, 267973956.0, 301079129.0, 384950308.0, 577136893.0, 584411894.0, 614651780.0, 1246425310.0], \"y\": [\"Barley\", \"Cassava\", \"Vegetables, fresh nes\", \"Sugar beet\", \"Potatoes\", \"Rice, paddy (rice milled equivalent)\", \"Rice, paddy\", \"Maize\", \"Wheat\", \"Sugar cane\"], \"type\": \"bar\"}], \"layout\": {\"bargap\": 0.15, \"font\": {\"size\": 14}, \"plot_bgcolor\": \"#FFFFFF\", \"xaxis\": {\"range\": [0, 1907024730.0], \"showline\": true, \"visible\": true}, \"yaxis\": {\"showline\": false, \"visible\": true}}, \"name\": \"1997\"}, {\"data\": [{\"cliponaxis\": false, \"hoverinfo\": \"all\", \"hovertemplate\": \"<extra></extra>\", \"marker\": {\"color\": [\"rgb(19, 82, 17)\", \"rgb(191, 94, 110)\", \"rgb(169, 215, 204)\", \"rgb(133, 10, 182)\", \"rgb(141, 125, 232)\", \"rgb(222, 180, 201)\", \"rgb(165, 95, 93)\", \"rgb(87, 228, 34)\", \"rgb(142, 153, 131)\", \"rgb(174, 70, 226)\"]}, \"orientation\": \"h\", \"textangle\": 0, \"textposition\": \"outside\", \"texttemplate\": \"%{y}<br>%{x:.4s}\", \"x\": [160128822.0, 162613417.0, 178523814.0, 263032522.0, 297834904.0, 386068923.0, 578813977.0, 596175815.0, 615081853.0, 1263674263.0], \"y\": [\"Soybeans\", \"Cassava\", \"Vegetables, fresh nes\", \"Sugar beet\", \"Potatoes\", \"Rice, paddy (rice milled equivalent)\", \"Rice, paddy\", \"Wheat\", \"Maize\", \"Sugar cane\"], \"type\": \"bar\"}], \"layout\": {\"bargap\": 0.15, \"font\": {\"size\": 14}, \"plot_bgcolor\": \"#FFFFFF\", \"xaxis\": {\"range\": [0, 1907024730.0], \"showline\": true, \"visible\": true}, \"yaxis\": {\"showline\": false, \"visible\": true}}, \"name\": \"1998\"}, {\"data\": [{\"cliponaxis\": false, \"hoverinfo\": \"all\", \"hovertemplate\": \"<extra></extra>\", \"marker\": {\"color\": [\"rgb(19, 82, 17)\", \"rgb(191, 94, 110)\", \"rgb(169, 215, 204)\", \"rgb(133, 10, 182)\", \"rgb(141, 125, 232)\", \"rgb(222, 180, 201)\", \"rgb(87, 228, 34)\", \"rgb(142, 153, 131)\", \"rgb(165, 95, 93)\", \"rgb(174, 70, 226)\"]}, \"orientation\": \"h\", \"textangle\": 0, \"textposition\": \"outside\", \"texttemplate\": \"%{y}<br>%{x:.4s}\", \"x\": [157815479.0, 168847321.0, 188064527.0, 260565420.0, 296076184.0, 407655445.0, 584763438.0, 607434709.0, 611177579.0, 1282128475.0], \"y\": [\"Soybeans\", \"Cassava\", \"Vegetables, fresh nes\", \"Sugar beet\", \"Potatoes\", \"Rice, paddy (rice milled equivalent)\", \"Wheat\", \"Maize\", \"Rice, paddy\", \"Sugar cane\"], \"type\": \"bar\"}], \"layout\": {\"bargap\": 0.15, \"font\": {\"size\": 14}, \"plot_bgcolor\": \"#FFFFFF\", \"xaxis\": {\"range\": [0, 1907024730.0], \"showline\": true, \"visible\": true}, \"yaxis\": {\"showline\": false, \"visible\": true}}, \"name\": \"1999\"}, {\"data\": [{\"cliponaxis\": false, \"hoverinfo\": \"all\", \"hovertemplate\": \"<extra></extra>\", \"marker\": {\"color\": [\"rgb(19, 82, 17)\", \"rgb(191, 94, 110)\", \"rgb(169, 215, 204)\", \"rgb(133, 10, 182)\", \"rgb(141, 125, 232)\", \"rgb(222, 180, 201)\", \"rgb(87, 228, 34)\", \"rgb(142, 153, 131)\", \"rgb(165, 95, 93)\", \"rgb(174, 70, 226)\"]}, \"orientation\": \"h\", \"textangle\": 0, \"textposition\": \"outside\", \"texttemplate\": \"%{y}<br>%{x:.4s}\", \"x\": [161308383.0, 175846840.0, 211610549.0, 250148505.0, 322775223.0, 399311670.0, 584999160.0, 592038698.0, 598668171.0, 1252668856.0], \"y\": [\"Soybeans\", \"Cassava\", \"Vegetables, fresh nes\", \"Sugar beet\", \"Potatoes\", \"Rice, paddy (rice milled equivalent)\", \"Wheat\", \"Maize\", \"Rice, paddy\", \"Sugar cane\"], \"type\": \"bar\"}], \"layout\": {\"bargap\": 0.15, \"font\": {\"size\": 14}, \"plot_bgcolor\": \"#FFFFFF\", \"xaxis\": {\"range\": [0, 1907024730.0], \"showline\": true, \"visible\": true}, \"yaxis\": {\"showline\": false, \"visible\": true}}, \"name\": \"2000\"}, {\"data\": [{\"cliponaxis\": false, \"hoverinfo\": \"all\", \"hovertemplate\": \"<extra></extra>\", \"marker\": {\"color\": [\"rgb(19, 82, 17)\", \"rgb(191, 94, 110)\", \"rgb(169, 215, 204)\", \"rgb(133, 10, 182)\", \"rgb(141, 125, 232)\", \"rgb(222, 180, 201)\", \"rgb(87, 228, 34)\", \"rgb(165, 95, 93)\", \"rgb(142, 153, 131)\", \"rgb(174, 70, 226)\"]}, \"orientation\": \"h\", \"textangle\": 0, \"textposition\": \"outside\", \"texttemplate\": \"%{y}<br>%{x:.4s}\", \"x\": [177020743.0, 181687057.0, 227180655.0, 230314950.0, 305492291.0, 400364493.0, 588243664.0, 600246617.0, 615152413.0, 1257665353.0], \"y\": [\"Soybeans\", \"Cassava\", \"Vegetables, fresh nes\", \"Sugar beet\", \"Potatoes\", \"Rice, paddy (rice milled equivalent)\", \"Wheat\", \"Rice, paddy\", \"Maize\", \"Sugar cane\"], \"type\": \"bar\"}], \"layout\": {\"bargap\": 0.15, \"font\": {\"size\": 14}, \"plot_bgcolor\": \"#FFFFFF\", \"xaxis\": {\"range\": [0, 1907024730.0], \"showline\": true, \"visible\": true}, \"yaxis\": {\"showline\": false, \"visible\": true}}, \"name\": \"2001\"}, {\"data\": [{\"cliponaxis\": false, \"hoverinfo\": \"all\", \"hovertemplate\": \"<extra></extra>\", \"marker\": {\"color\": [\"rgb(19, 82, 17)\", \"rgb(191, 94, 110)\", \"rgb(169, 215, 204)\", \"rgb(133, 10, 182)\", \"rgb(141, 125, 232)\", \"rgb(222, 180, 201)\", \"rgb(165, 95, 93)\", \"rgb(87, 228, 34)\", \"rgb(142, 153, 131)\", \"rgb(174, 70, 226)\"]}, \"orientation\": \"h\", \"textangle\": 0, \"textposition\": \"outside\", \"texttemplate\": \"%{y}<br>%{x:.4s}\", \"x\": [180950733.0, 182642727.0, 226692031.0, 259606962.0, 309800226.0, 380891169.0, 571051228.0, 592045286.0, 603551954.0, 1326773955.0], \"y\": [\"Soybeans\", \"Cassava\", \"Vegetables, fresh nes\", \"Sugar beet\", \"Potatoes\", \"Rice, paddy (rice milled equivalent)\", \"Rice, paddy\", \"Wheat\", \"Maize\", \"Sugar cane\"], \"type\": \"bar\"}], \"layout\": {\"bargap\": 0.15, \"font\": {\"size\": 14}, \"plot_bgcolor\": \"#FFFFFF\", \"xaxis\": {\"range\": [0, 1907024730.0], \"showline\": true, \"visible\": true}, \"yaxis\": {\"showline\": false, \"visible\": true}}, \"name\": \"2002\"}, {\"data\": [{\"cliponaxis\": false, \"hoverinfo\": \"all\", \"hovertemplate\": \"<extra></extra>\", \"marker\": {\"color\": [\"rgb(19, 82, 17)\", \"rgb(191, 94, 110)\", \"rgb(133, 10, 182)\", \"rgb(169, 215, 204)\", \"rgb(141, 125, 232)\", \"rgb(222, 180, 201)\", \"rgb(87, 228, 34)\", \"rgb(165, 95, 93)\", \"rgb(142, 153, 131)\", \"rgb(174, 70, 226)\"]}, \"orientation\": \"h\", \"textangle\": 0, \"textposition\": \"outside\", \"texttemplate\": \"%{y}<br>%{x:.4s}\", \"x\": [190573528.0, 192215569.0, 232734248.0, 237183104.0, 307591201.0, 391483259.0, 549974473.0, 586931423.0, 645055272.0, 1371880978.0], \"y\": [\"Soybeans\", \"Cassava\", \"Sugar beet\", \"Vegetables, fresh nes\", \"Potatoes\", \"Rice, paddy (rice milled equivalent)\", \"Wheat\", \"Rice, paddy\", \"Maize\", \"Sugar cane\"], \"type\": \"bar\"}], \"layout\": {\"bargap\": 0.15, \"font\": {\"size\": 14}, \"plot_bgcolor\": \"#FFFFFF\", \"xaxis\": {\"range\": [0, 1907024730.0], \"showline\": true, \"visible\": true}, \"yaxis\": {\"showline\": false, \"visible\": true}}, \"name\": \"2003\"}, {\"data\": [{\"cliponaxis\": false, \"hoverinfo\": \"all\", \"hovertemplate\": \"<extra></extra>\", \"marker\": {\"color\": [\"rgb(191, 94, 110)\", \"rgb(19, 82, 17)\", \"rgb(169, 215, 204)\", \"rgb(133, 10, 182)\", \"rgb(141, 125, 232)\", \"rgb(222, 180, 201)\", \"rgb(165, 95, 93)\", \"rgb(87, 228, 34)\", \"rgb(142, 153, 131)\", \"rgb(174, 70, 226)\"]}, \"orientation\": \"h\", \"textangle\": 0, \"textposition\": \"outside\", \"texttemplate\": \"%{y}<br>%{x:.4s}\", \"x\": [203831956.0, 205548134.0, 224325418.0, 251589379.0, 328165612.0, 405101582.0, 607348698.0, 634666010.0, 729517951.0, 1333138427.0], \"y\": [\"Cassava\", \"Soybeans\", \"Vegetables, fresh nes\", \"Sugar beet\", \"Potatoes\", \"Rice, paddy (rice milled equivalent)\", \"Rice, paddy\", \"Wheat\", \"Maize\", \"Sugar cane\"], \"type\": \"bar\"}], \"layout\": {\"bargap\": 0.15, \"font\": {\"size\": 14}, \"plot_bgcolor\": \"#FFFFFF\", \"xaxis\": {\"range\": [0, 1907024730.0], \"showline\": true, \"visible\": true}, \"yaxis\": {\"showline\": false, \"visible\": true}}, \"name\": \"2004\"}, {\"data\": [{\"cliponaxis\": false, \"hoverinfo\": \"all\", \"hovertemplate\": \"<extra></extra>\", \"marker\": {\"color\": [\"rgb(191, 94, 110)\", \"rgb(19, 82, 17)\", \"rgb(169, 215, 204)\", \"rgb(133, 10, 182)\", \"rgb(141, 125, 232)\", \"rgb(222, 180, 201)\", \"rgb(87, 228, 34)\", \"rgb(165, 95, 93)\", \"rgb(142, 153, 131)\", \"rgb(174, 70, 226)\"]}, \"orientation\": \"h\", \"textangle\": 0, \"textposition\": \"outside\", \"texttemplate\": \"%{y}<br>%{x:.4s}\", \"x\": [206533771.0, 214542761.0, 231771630.0, 253737449.0, 317675179.0, 423028136.0, 627020836.0, 634225091.0, 714191174.0, 1306307695.0], \"y\": [\"Cassava\", \"Soybeans\", \"Vegetables, fresh nes\", \"Sugar beet\", \"Potatoes\", \"Rice, paddy (rice milled equivalent)\", \"Wheat\", \"Rice, paddy\", \"Maize\", \"Sugar cane\"], \"type\": \"bar\"}], \"layout\": {\"bargap\": 0.15, \"font\": {\"size\": 14}, \"plot_bgcolor\": \"#FFFFFF\", \"xaxis\": {\"range\": [0, 1907024730.0], \"showline\": true, \"visible\": true}, \"yaxis\": {\"showline\": false, \"visible\": true}}, \"name\": \"2005\"}, {\"data\": [{\"cliponaxis\": false, \"hoverinfo\": \"all\", \"hovertemplate\": \"<extra></extra>\", \"marker\": {\"color\": [\"rgb(19, 82, 17)\", \"rgb(191, 94, 110)\", \"rgb(169, 215, 204)\", \"rgb(133, 10, 182)\", \"rgb(141, 125, 232)\", \"rgb(222, 180, 201)\", \"rgb(87, 228, 34)\", \"rgb(165, 95, 93)\", \"rgb(142, 153, 131)\", \"rgb(174, 70, 226)\"]}, \"orientation\": \"h\", \"textangle\": 0, \"textposition\": \"outside\", \"texttemplate\": \"%{y}<br>%{x:.4s}\", \"x\": [221558922.0, 223636615.0, 241884277.0, 254025175.0, 307572166.0, 427350243.0, 614381123.0, 640705012.0, 707937211.0, 1417376025.0], \"y\": [\"Soybeans\", \"Cassava\", \"Vegetables, fresh nes\", \"Sugar beet\", \"Potatoes\", \"Rice, paddy (rice milled equivalent)\", \"Wheat\", \"Rice, paddy\", \"Maize\", \"Sugar cane\"], \"type\": \"bar\"}], \"layout\": {\"bargap\": 0.15, \"font\": {\"size\": 14}, \"plot_bgcolor\": \"#FFFFFF\", \"xaxis\": {\"range\": [0, 1907024730.0], \"showline\": true, \"visible\": true}, \"yaxis\": {\"showline\": false, \"visible\": true}}, \"name\": \"2006\"}, {\"data\": [{\"cliponaxis\": false, \"hoverinfo\": \"all\", \"hovertemplate\": \"<extra></extra>\", \"marker\": {\"color\": [\"rgb(19, 82, 17)\", \"rgb(191, 94, 110)\", \"rgb(169, 215, 204)\", \"rgb(133, 10, 182)\", \"rgb(141, 125, 232)\", \"rgb(222, 180, 201)\", \"rgb(87, 228, 34)\", \"rgb(165, 95, 93)\", \"rgb(142, 153, 131)\", \"rgb(174, 70, 226)\"]}, \"orientation\": \"h\", \"textangle\": 0, \"textposition\": \"outside\", \"texttemplate\": \"%{y}<br>%{x:.4s}\", \"x\": [219793075.0, 226974274.0, 244610984.0, 246945604.0, 313191368.0, 437923034.0, 606595140.0, 656556273.0, 792732888.0, 1605136205.0], \"y\": [\"Soybeans\", \"Cassava\", \"Vegetables, fresh nes\", \"Sugar beet\", \"Potatoes\", \"Rice, paddy (rice milled equivalent)\", \"Wheat\", \"Rice, paddy\", \"Maize\", \"Sugar cane\"], \"type\": \"bar\"}], \"layout\": {\"bargap\": 0.15, \"font\": {\"size\": 14}, \"plot_bgcolor\": \"#FFFFFF\", \"xaxis\": {\"range\": [0, 1907024730.0], \"showline\": true, \"visible\": true}, \"yaxis\": {\"showline\": false, \"visible\": true}}, \"name\": \"2007\"}, {\"data\": [{\"cliponaxis\": false, \"hoverinfo\": \"all\", \"hovertemplate\": \"<extra></extra>\", \"marker\": {\"color\": [\"rgb(133, 10, 182)\", \"rgb(191, 94, 110)\", \"rgb(19, 82, 17)\", \"rgb(169, 215, 204)\", \"rgb(141, 125, 232)\", \"rgb(222, 180, 201)\", \"rgb(87, 228, 34)\", \"rgb(165, 95, 93)\", \"rgb(142, 153, 131)\", \"rgb(174, 70, 226)\"]}, \"orientation\": \"h\", \"textangle\": 0, \"textposition\": \"outside\", \"texttemplate\": \"%{y}<br>%{x:.4s}\", \"x\": [221199239.0, 230081674.0, 231223485.0, 249305237.0, 327188473.0, 458262606.0, 680294443.0, 687050383.0, 829240208.0, 1721251508.0], \"y\": [\"Sugar beet\", \"Cassava\", \"Soybeans\", \"Vegetables, fresh nes\", \"Potatoes\", \"Rice, paddy (rice milled equivalent)\", \"Wheat\", \"Rice, paddy\", \"Maize\", \"Sugar cane\"], \"type\": \"bar\"}], \"layout\": {\"bargap\": 0.15, \"font\": {\"size\": 14}, \"plot_bgcolor\": \"#FFFFFF\", \"xaxis\": {\"range\": [0, 1907024730.0], \"showline\": true, \"visible\": true}, \"yaxis\": {\"showline\": false, \"visible\": true}}, \"name\": \"2008\"}, {\"data\": [{\"cliponaxis\": false, \"hoverinfo\": \"all\", \"hovertemplate\": \"<extra></extra>\", \"marker\": {\"color\": [\"rgb(19, 82, 17)\", \"rgb(133, 10, 182)\", \"rgb(191, 94, 110)\", \"rgb(169, 215, 204)\", \"rgb(141, 125, 232)\", \"rgb(222, 180, 201)\", \"rgb(87, 228, 34)\", \"rgb(165, 95, 93)\", \"rgb(142, 153, 131)\", \"rgb(174, 70, 226)\"]}, \"orientation\": \"h\", \"textangle\": 0, \"textposition\": \"outside\", \"texttemplate\": \"%{y}<br>%{x:.4s}\", \"x\": [223380802.0, 227985771.0, 233794346.0, 248581509.0, 330740148.0, 457333039.0, 683639171.0, 685656731.0, 820072448.0, 1677610596.0], \"y\": [\"Soybeans\", \"Sugar beet\", \"Cassava\", \"Vegetables, fresh nes\", \"Potatoes\", \"Rice, paddy (rice milled equivalent)\", \"Wheat\", \"Rice, paddy\", \"Maize\", \"Sugar cane\"], \"type\": \"bar\"}], \"layout\": {\"bargap\": 0.15, \"font\": {\"size\": 14}, \"plot_bgcolor\": \"#FFFFFF\", \"xaxis\": {\"range\": [0, 1907024730.0], \"showline\": true, \"visible\": true}, \"yaxis\": {\"showline\": false, \"visible\": true}}, \"name\": \"2009\"}, {\"data\": [{\"cliponaxis\": false, \"hoverinfo\": \"all\", \"hovertemplate\": \"<extra></extra>\", \"marker\": {\"color\": [\"rgb(133, 10, 182)\", \"rgb(191, 94, 110)\", \"rgb(169, 215, 204)\", \"rgb(19, 82, 17)\", \"rgb(141, 125, 232)\", \"rgb(222, 180, 201)\", \"rgb(87, 228, 34)\", \"rgb(165, 95, 93)\", \"rgb(142, 153, 131)\", \"rgb(174, 70, 226)\"]}, \"orientation\": \"h\", \"textangle\": 0, \"textposition\": \"outside\", \"texttemplate\": \"%{y}<br>%{x:.4s}\", \"x\": [228408922.0, 239296357.0, 259746276.0, 265088429.0, 328616920.0, 467659411.0, 640802665.0, 701138548.0, 851679519.0, 1682839957.0], \"y\": [\"Sugar beet\", \"Cassava\", \"Vegetables, fresh nes\", \"Soybeans\", \"Potatoes\", \"Rice, paddy (rice milled equivalent)\", \"Wheat\", \"Rice, paddy\", \"Maize\", \"Sugar cane\"], \"type\": \"bar\"}], \"layout\": {\"bargap\": 0.15, \"font\": {\"size\": 14}, \"plot_bgcolor\": \"#FFFFFF\", \"xaxis\": {\"range\": [0, 1907024730.0], \"showline\": true, \"visible\": true}, \"yaxis\": {\"showline\": false, \"visible\": true}}, \"name\": \"2010\"}, {\"data\": [{\"cliponaxis\": false, \"hoverinfo\": \"all\", \"hovertemplate\": \"<extra></extra>\", \"marker\": {\"color\": [\"rgb(191, 94, 110)\", \"rgb(169, 215, 204)\", \"rgb(19, 82, 17)\", \"rgb(133, 10, 182)\", \"rgb(141, 125, 232)\", \"rgb(222, 180, 201)\", \"rgb(87, 228, 34)\", \"rgb(165, 95, 93)\", \"rgb(142, 153, 131)\", \"rgb(174, 70, 226)\"]}, \"orientation\": \"h\", \"textangle\": 0, \"textposition\": \"outside\", \"texttemplate\": \"%{y}<br>%{x:.4s}\", \"x\": [251822205.0, 260842101.0, 261601653.0, 278833260.0, 367889898.0, 484492968.0, 696898368.0, 726376264.0, 886680581.0, 1794120501.0], \"y\": [\"Cassava\", \"Vegetables, fresh nes\", \"Soybeans\", \"Sugar beet\", \"Potatoes\", \"Rice, paddy (rice milled equivalent)\", \"Wheat\", \"Rice, paddy\", \"Maize\", \"Sugar cane\"], \"type\": \"bar\"}], \"layout\": {\"bargap\": 0.15, \"font\": {\"size\": 14}, \"plot_bgcolor\": \"#FFFFFF\", \"xaxis\": {\"range\": [0, 1907024730.0], \"showline\": true, \"visible\": true}, \"yaxis\": {\"showline\": false, \"visible\": true}}, \"name\": \"2011\"}, {\"data\": [{\"cliponaxis\": false, \"hoverinfo\": \"all\", \"hovertemplate\": \"<extra></extra>\", \"marker\": {\"color\": [\"rgb(115, 187, 126)\", \"rgb(133, 10, 182)\", \"rgb(169, 215, 204)\", \"rgb(191, 94, 110)\", \"rgb(141, 125, 232)\", \"rgb(222, 180, 201)\", \"rgb(87, 228, 34)\", \"rgb(165, 95, 93)\", \"rgb(142, 153, 131)\", \"rgb(174, 70, 226)\"]}, \"orientation\": \"h\", \"textangle\": 0, \"textposition\": \"outside\", \"texttemplate\": \"%{y}<br>%{x:.4s}\", \"x\": [256568919.0, 269637113.0, 272044780.0, 277683210.0, 361003266.0, 491310036.0, 673728907.0, 736596755.0, 875039160.0, 1831008220.0], \"y\": [\"Oil palm fruit\", \"Sugar beet\", \"Vegetables, fresh nes\", \"Cassava\", \"Potatoes\", \"Rice, paddy (rice milled equivalent)\", \"Wheat\", \"Rice, paddy\", \"Maize\", \"Sugar cane\"], \"type\": \"bar\"}], \"layout\": {\"bargap\": 0.15, \"font\": {\"size\": 14}, \"plot_bgcolor\": \"#FFFFFF\", \"xaxis\": {\"range\": [0, 1907024730.0], \"showline\": true, \"visible\": true}, \"yaxis\": {\"showline\": false, \"visible\": true}}, \"name\": \"2012\"}, {\"data\": [{\"cliponaxis\": false, \"hoverinfo\": \"all\", \"hovertemplate\": \"<extra></extra>\", \"marker\": {\"color\": [\"rgb(115, 187, 126)\", \"rgb(19, 82, 17)\", \"rgb(169, 215, 204)\", \"rgb(191, 94, 110)\", \"rgb(141, 125, 232)\", \"rgb(222, 180, 201)\", \"rgb(87, 228, 34)\", \"rgb(165, 95, 93)\", \"rgb(142, 153, 131)\", \"rgb(174, 70, 226)\"]}, \"orientation\": \"h\", \"textangle\": 0, \"textposition\": \"outside\", \"texttemplate\": \"%{y}<br>%{x:.4s}\", \"x\": [265060825.0, 277672608.0, 277982471.0, 278454322.0, 365087514.0, 495250794.0, 710397103.0, 742504938.0, 1016207182.0, 1901868866.0], \"y\": [\"Oil palm fruit\", \"Soybeans\", \"Vegetables, fresh nes\", \"Cassava\", \"Potatoes\", \"Rice, paddy (rice milled equivalent)\", \"Wheat\", \"Rice, paddy\", \"Maize\", \"Sugar cane\"], \"type\": \"bar\"}], \"layout\": {\"bargap\": 0.15, \"font\": {\"size\": 14}, \"plot_bgcolor\": \"#FFFFFF\", \"xaxis\": {\"range\": [0, 1907024730.0], \"showline\": true, \"visible\": true}, \"yaxis\": {\"showline\": false, \"visible\": true}}, \"name\": \"2013\"}, {\"data\": [{\"cliponaxis\": false, \"hoverinfo\": \"all\", \"hovertemplate\": \"<extra></extra>\", \"marker\": {\"color\": [\"rgb(169, 215, 204)\", \"rgb(115, 187, 126)\", \"rgb(191, 94, 110)\", \"rgb(19, 82, 17)\", \"rgb(141, 125, 232)\", \"rgb(222, 180, 201)\", \"rgb(87, 228, 34)\", \"rgb(165, 95, 93)\", \"rgb(142, 153, 131)\", \"rgb(174, 70, 226)\"]}, \"orientation\": \"h\", \"textangle\": 0, \"textposition\": \"outside\", \"texttemplate\": \"%{y}<br>%{x:.4s}\", \"x\": [285693443.0, 285916764.0, 290942989.0, 306348530.0, 369966532.0, 495216917.0, 728730126.0, 742454148.0, 1039226655.0, 1885955643.0], \"y\": [\"Vegetables, fresh nes\", \"Oil palm fruit\", \"Cassava\", \"Soybeans\", \"Potatoes\", \"Rice, paddy (rice milled equivalent)\", \"Wheat\", \"Rice, paddy\", \"Maize\", \"Sugar cane\"], \"type\": \"bar\"}], \"layout\": {\"bargap\": 0.15, \"font\": {\"size\": 14}, \"plot_bgcolor\": \"#FFFFFF\", \"xaxis\": {\"range\": [0, 1907024730.0], \"showline\": true, \"visible\": true}, \"yaxis\": {\"showline\": false, \"visible\": true}}, \"name\": \"2014\"}, {\"data\": [{\"cliponaxis\": false, \"hoverinfo\": \"all\", \"hovertemplate\": \"<extra></extra>\", \"marker\": {\"color\": [\"rgb(169, 215, 204)\", \"rgb(191, 94, 110)\", \"rgb(115, 187, 126)\", \"rgb(19, 82, 17)\", \"rgb(141, 125, 232)\", \"rgb(222, 180, 201)\", \"rgb(87, 228, 34)\", \"rgb(165, 95, 93)\", \"rgb(142, 153, 131)\", \"rgb(174, 70, 226)\"]}, \"orientation\": \"h\", \"textangle\": 0, \"textposition\": \"outside\", \"texttemplate\": \"%{y}<br>%{x:.4s}\", \"x\": [288931169.0, 293010305.0, 300284643.0, 323306702.0, 365748227.0, 497518927.0, 741643258.0, 745905437.0, 1052127378.0, 1875060932.0], \"y\": [\"Vegetables, fresh nes\", \"Cassava\", \"Oil palm fruit\", \"Soybeans\", \"Potatoes\", \"Rice, paddy (rice milled equivalent)\", \"Wheat\", \"Rice, paddy\", \"Maize\", \"Sugar cane\"], \"type\": \"bar\"}], \"layout\": {\"bargap\": 0.15, \"font\": {\"size\": 14}, \"plot_bgcolor\": \"#FFFFFF\", \"xaxis\": {\"range\": [0, 1907024730.0], \"showline\": true, \"visible\": true}, \"yaxis\": {\"showline\": false, \"visible\": true}}, \"name\": \"2015\"}, {\"data\": [{\"cliponaxis\": false, \"hoverinfo\": \"all\", \"hovertemplate\": \"<extra></extra>\", \"marker\": {\"color\": [\"rgb(133, 10, 182)\", \"rgb(191, 94, 110)\", \"rgb(169, 215, 204)\", \"rgb(19, 82, 17)\", \"rgb(141, 125, 232)\", \"rgb(222, 180, 201)\", \"rgb(87, 228, 34)\", \"rgb(165, 95, 93)\", \"rgb(142, 153, 131)\", \"rgb(174, 70, 226)\"]}, \"orientation\": \"h\", \"textangle\": 0, \"textposition\": \"outside\", \"texttemplate\": \"%{y}<br>%{x:.4s}\", \"x\": [278702349.0, 288497460.0, 292920885.0, 335613801.0, 356952488.0, 501507373.0, 748392150.0, 751885117.0, 1126990585.0, 1874611396.0], \"y\": [\"Sugar beet\", \"Cassava\", \"Vegetables, fresh nes\", \"Soybeans\", \"Potatoes\", \"Rice, paddy (rice milled equivalent)\", \"Wheat\", \"Rice, paddy\", \"Maize\", \"Sugar cane\"], \"type\": \"bar\"}], \"layout\": {\"bargap\": 0.15, \"font\": {\"size\": 14}, \"plot_bgcolor\": \"#FFFFFF\", \"xaxis\": {\"range\": [0, 1907024730.0], \"showline\": true, \"visible\": true}, \"yaxis\": {\"showline\": false, \"visible\": true}}, \"name\": \"2016\"}, {\"data\": [{\"cliponaxis\": false, \"hoverinfo\": \"all\", \"hovertemplate\": \"<extra></extra>\", \"marker\": {\"color\": [\"rgb(191, 94, 110)\", \"rgb(169, 215, 204)\", \"rgb(133, 10, 182)\", \"rgb(19, 82, 17)\", \"rgb(141, 125, 232)\", \"rgb(222, 180, 201)\", \"rgb(165, 95, 93)\", \"rgb(87, 228, 34)\", \"rgb(142, 153, 131)\", \"rgb(174, 70, 226)\"]}, \"orientation\": \"h\", \"textangle\": 0, \"textposition\": \"outside\", \"texttemplate\": \"%{y}<br>%{x:.4s}\", \"x\": [279304523.0, 294934038.0, 310374816.0, 353026796.0, 373774234.0, 513476024.0, 769829121.0, 773476524.0, 1164400832.0, 1851333716.0], \"y\": [\"Cassava\", \"Vegetables, fresh nes\", \"Sugar beet\", \"Soybeans\", \"Potatoes\", \"Rice, paddy (rice milled equivalent)\", \"Rice, paddy\", \"Wheat\", \"Maize\", \"Sugar cane\"], \"type\": \"bar\"}], \"layout\": {\"bargap\": 0.15, \"font\": {\"size\": 14}, \"plot_bgcolor\": \"#FFFFFF\", \"xaxis\": {\"range\": [0, 1907024730.0], \"showline\": true, \"visible\": true}, \"yaxis\": {\"showline\": false, \"visible\": true}}, \"name\": \"2017\"}, {\"data\": [{\"cliponaxis\": false, \"hoverinfo\": \"all\", \"hovertemplate\": \"<extra></extra>\", \"marker\": {\"color\": [\"rgb(133, 10, 182)\", \"rgb(191, 94, 110)\", \"rgb(169, 215, 204)\", \"rgb(19, 82, 17)\", \"rgb(141, 125, 232)\", \"rgb(222, 180, 201)\", \"rgb(87, 228, 34)\", \"rgb(165, 95, 93)\", \"rgb(142, 153, 131)\", \"rgb(174, 70, 226)\"]}, \"orientation\": \"h\", \"textangle\": 0, \"textposition\": \"outside\", \"texttemplate\": \"%{y}<br>%{x:.4s}\", \"x\": [274886306.0, 277808759.0, 297596674.0, 348712311.0, 368168914.0, 521594098.0, 734045174.0, 782000147.0, 1147621938.0, 1907024730.0], \"y\": [\"Sugar beet\", \"Cassava\", \"Vegetables, fresh nes\", \"Soybeans\", \"Potatoes\", \"Rice, paddy (rice milled equivalent)\", \"Wheat\", \"Rice, paddy\", \"Maize\", \"Sugar cane\"], \"type\": \"bar\"}], \"layout\": {\"bargap\": 0.15, \"font\": {\"size\": 14}, \"plot_bgcolor\": \"#FFFFFF\", \"xaxis\": {\"range\": [0, 1907024730.0], \"showline\": true, \"visible\": true}, \"yaxis\": {\"showline\": false, \"visible\": true}}, \"name\": \"2018\"}]);\n",
       "                        }).then(function(){\n",
       "                            \n",
       "var gd = document.getElementById('06f2eb1f-6015-4c77-9bd3-b3c0150f6728');\n",
       "var x = new MutationObserver(function (mutations, observer) {{\n",
       "        var display = window.getComputedStyle(gd).display;\n",
       "        if (!display || display === 'none') {{\n",
       "            console.log([gd, 'removed!']);\n",
       "            Plotly.purge(gd);\n",
       "            observer.disconnect();\n",
       "        }}\n",
       "}});\n",
       "\n",
       "// Listen for the removal of the full notebook cells\n",
       "var notebookContainer = gd.closest('#notebook-container');\n",
       "if (notebookContainer) {{\n",
       "    x.observe(notebookContainer, {childList: true});\n",
       "}}\n",
       "\n",
       "// Listen for the clearing of the current output cell\n",
       "var outputEl = gd.closest('.output');\n",
       "if (outputEl) {{\n",
       "    x.observe(outputEl, {childList: true});\n",
       "}}\n",
       "\n",
       "                        })                };                });            </script>        </div>"
      ]
     },
     "metadata": {},
     "output_type": "display_data"
    }
   ],
   "source": [
    "data = pd.read_csv('https://raw.githubusercontent.com/lc5415/raceplotly/main/example/FAOSTAT_data.csv')\n",
    "\n",
    "my_raceplot = barplot(data,  item_column='Item', value_column='Value', time_column='Year')\n",
    "\n",
    "my_raceplot.plot(item_label = 'Top 10 crops',\n",
    "                 value_label = 'Production quantity (tonnes)',\n",
    "                 time_label = 'Year: ', ## overwrites default `Date: `\n",
    "                 frame_duration = 300)"
   ]
  },
  {
   "cell_type": "code",
   "execution_count": 7,
   "metadata": {},
   "outputs": [],
   "source": [
    "df = pd.read_csv('25_noms_padro_any_sexe_1996_2019.csv')\n",
    "\n"
   ]
  },
  {
   "cell_type": "code",
   "execution_count": 8,
   "metadata": {},
   "outputs": [
    {
     "data": {
      "text/html": [
       "<div>\n",
       "<style scoped>\n",
       "    .dataframe tbody tr th:only-of-type {\n",
       "        vertical-align: middle;\n",
       "    }\n",
       "\n",
       "    .dataframe tbody tr th {\n",
       "        vertical-align: top;\n",
       "    }\n",
       "\n",
       "    .dataframe thead th {\n",
       "        text-align: right;\n",
       "    }\n",
       "</style>\n",
       "<table border=\"1\" class=\"dataframe\">\n",
       "  <thead>\n",
       "    <tr style=\"text-align: right;\">\n",
       "      <th></th>\n",
       "      <th>Ordre</th>\n",
       "      <th>Nom</th>\n",
       "      <th>Sexe</th>\n",
       "      <th>Any</th>\n",
       "      <th>Nombre</th>\n",
       "    </tr>\n",
       "  </thead>\n",
       "  <tbody>\n",
       "    <tr>\n",
       "      <th>0</th>\n",
       "      <td>1</td>\n",
       "      <td>LAURA</td>\n",
       "      <td>Dona</td>\n",
       "      <td>1996</td>\n",
       "      <td>237</td>\n",
       "    </tr>\n",
       "    <tr>\n",
       "      <th>1</th>\n",
       "      <td>2</td>\n",
       "      <td>MARIA</td>\n",
       "      <td>Dona</td>\n",
       "      <td>1996</td>\n",
       "      <td>219</td>\n",
       "    </tr>\n",
       "    <tr>\n",
       "      <th>2</th>\n",
       "      <td>3</td>\n",
       "      <td>MARTA</td>\n",
       "      <td>Dona</td>\n",
       "      <td>1996</td>\n",
       "      <td>206</td>\n",
       "    </tr>\n",
       "    <tr>\n",
       "      <th>3</th>\n",
       "      <td>4</td>\n",
       "      <td>ANDREA</td>\n",
       "      <td>Dona</td>\n",
       "      <td>1996</td>\n",
       "      <td>199</td>\n",
       "    </tr>\n",
       "    <tr>\n",
       "      <th>4</th>\n",
       "      <td>5</td>\n",
       "      <td>ANNA</td>\n",
       "      <td>Dona</td>\n",
       "      <td>1996</td>\n",
       "      <td>195</td>\n",
       "    </tr>\n",
       "  </tbody>\n",
       "</table>\n",
       "</div>"
      ],
      "text/plain": [
       "   Ordre     Nom  Sexe   Any  Nombre\n",
       "0      1   LAURA  Dona  1996     237\n",
       "1      2   MARIA  Dona  1996     219\n",
       "2      3   MARTA  Dona  1996     206\n",
       "3      4  ANDREA  Dona  1996     199\n",
       "4      5    ANNA  Dona  1996     195"
      ]
     },
     "execution_count": 8,
     "metadata": {},
     "output_type": "execute_result"
    }
   ],
   "source": [
    "df.head()"
   ]
  },
  {
   "cell_type": "code",
   "execution_count": 9,
   "metadata": {},
   "outputs": [
    {
     "name": "stdout",
     "output_type": "stream",
     "text": [
      "<class 'pandas.core.frame.DataFrame'>\n",
      "RangeIndex: 1200 entries, 0 to 1199\n",
      "Data columns (total 5 columns):\n",
      " #   Column  Non-Null Count  Dtype \n",
      "---  ------  --------------  ----- \n",
      " 0   Ordre   1200 non-null   int64 \n",
      " 1   Nom     1200 non-null   object\n",
      " 2   Sexe    1200 non-null   object\n",
      " 3   Any     1200 non-null   int64 \n",
      " 4   Nombre  1200 non-null   int64 \n",
      "dtypes: int64(3), object(2)\n",
      "memory usage: 47.0+ KB\n"
     ]
    }
   ],
   "source": [
    "df.info()"
   ]
  },
  {
   "cell_type": "code",
   "execution_count": 10,
   "metadata": {},
   "outputs": [],
   "source": [
    "\n",
    "cat_to_eng = {'Ordre': 'Order', 'Nom': 'Name', 'Sexe': 'Sex', 'Any': 'Year', 'Nombre': 'Number'}\n",
    "\n",
    "\n",
    "df.rename(columns=cat_to_eng, inplace=True)"
   ]
  },
  {
   "cell_type": "code",
   "execution_count": 11,
   "metadata": {},
   "outputs": [
    {
     "data": {
      "text/plain": [
       "array(['Dona', 'Home'], dtype=object)"
      ]
     },
     "execution_count": 11,
     "metadata": {},
     "output_type": "execute_result"
    }
   ],
   "source": [
    "df.Sex.unique()"
   ]
  },
  {
   "cell_type": "code",
   "execution_count": 12,
   "metadata": {},
   "outputs": [
    {
     "data": {
      "text/html": [
       "<div>\n",
       "<style scoped>\n",
       "    .dataframe tbody tr th:only-of-type {\n",
       "        vertical-align: middle;\n",
       "    }\n",
       "\n",
       "    .dataframe tbody tr th {\n",
       "        vertical-align: top;\n",
       "    }\n",
       "\n",
       "    .dataframe thead th {\n",
       "        text-align: right;\n",
       "    }\n",
       "</style>\n",
       "<table border=\"1\" class=\"dataframe\">\n",
       "  <thead>\n",
       "    <tr style=\"text-align: right;\">\n",
       "      <th></th>\n",
       "      <th>Order</th>\n",
       "      <th>Name</th>\n",
       "      <th>Sex</th>\n",
       "      <th>Year</th>\n",
       "      <th>Number</th>\n",
       "    </tr>\n",
       "  </thead>\n",
       "  <tbody>\n",
       "    <tr>\n",
       "      <th>0</th>\n",
       "      <td>1</td>\n",
       "      <td>LAURA</td>\n",
       "      <td>Woman</td>\n",
       "      <td>1996</td>\n",
       "      <td>237</td>\n",
       "    </tr>\n",
       "    <tr>\n",
       "      <th>1</th>\n",
       "      <td>2</td>\n",
       "      <td>MARIA</td>\n",
       "      <td>Woman</td>\n",
       "      <td>1996</td>\n",
       "      <td>219</td>\n",
       "    </tr>\n",
       "    <tr>\n",
       "      <th>2</th>\n",
       "      <td>3</td>\n",
       "      <td>MARTA</td>\n",
       "      <td>Woman</td>\n",
       "      <td>1996</td>\n",
       "      <td>206</td>\n",
       "    </tr>\n",
       "    <tr>\n",
       "      <th>3</th>\n",
       "      <td>4</td>\n",
       "      <td>ANDREA</td>\n",
       "      <td>Woman</td>\n",
       "      <td>1996</td>\n",
       "      <td>199</td>\n",
       "    </tr>\n",
       "    <tr>\n",
       "      <th>4</th>\n",
       "      <td>5</td>\n",
       "      <td>ANNA</td>\n",
       "      <td>Woman</td>\n",
       "      <td>1996</td>\n",
       "      <td>195</td>\n",
       "    </tr>\n",
       "  </tbody>\n",
       "</table>\n",
       "</div>"
      ],
      "text/plain": [
       "   Order    Name    Sex  Year  Number\n",
       "0      1   LAURA  Woman  1996     237\n",
       "1      2   MARIA  Woman  1996     219\n",
       "2      3   MARTA  Woman  1996     206\n",
       "3      4  ANDREA  Woman  1996     199\n",
       "4      5    ANNA  Woman  1996     195"
      ]
     },
     "execution_count": 12,
     "metadata": {},
     "output_type": "execute_result"
    }
   ],
   "source": [
    "\n",
    "\n",
    "\n",
    "\n",
    "df.replace({'Dona': 'Woman', 'Home': 'Man'}, inplace=True)\n",
    "\n",
    "df.head()"
   ]
  },
  {
   "cell_type": "code",
   "execution_count": 13,
   "metadata": {},
   "outputs": [
    {
     "data": {
      "text/plain": [
       "array(['LAURA', 'MARIA', 'MARTA', 'ANDREA', 'ANNA', 'PAULA', 'ALBA',\n",
       "       'SARA', 'LAIA', 'CLAUDIA', 'JULIA', 'CARLA', 'MIREIA', 'MARINA',\n",
       "       'CRISTINA', 'CLARA', 'JUDITH', 'ARIADNA', 'NURIA', 'PATRICIA',\n",
       "       'RAQUEL', 'ANA', 'IRENE', 'JUDIT', 'SANDRA', 'BERTA', 'MAR',\n",
       "       'AINA', 'HELENA', 'NATALIA', 'CARLOTA', 'EMMA', 'NEREA', 'LUCIA',\n",
       "       'MARTINA', 'AINHOA', 'SOFIA', 'NOA', 'JANA', 'ABRIL', 'DANIELA',\n",
       "       'INES', 'ONA', 'NORA', 'OLIVIA', 'VALENTINA', 'ARLET', 'MIA',\n",
       "       'CHLOE', 'VALERIA', 'GALA', 'BRUNA', 'LIA', 'MARC', 'DAVID',\n",
       "       'DANIEL', 'ALBERT', 'VICTOR', 'JORDI', 'SERGI', 'ALEJANDRO', 'POL',\n",
       "       'ALEX', 'PAU', 'GUILLEM', 'CARLOS', 'ORIOL', 'ADRIA', 'ROGER',\n",
       "       'OSCAR', 'JAVIER', 'GERARD', 'ARNAU', 'IVAN', 'XAVIER', 'JOAN',\n",
       "       'ERIC', 'PABLO', 'ADRIAN', 'SERGIO', 'JOEL', 'MARTI', 'RAUL',\n",
       "       'JAN', 'ALVARO', 'HUGO', 'IKER', 'BIEL', 'NICOLAS', 'BRUNO',\n",
       "       'LUCAS', 'MAX', 'NIL', 'ALEIX', 'LEO', 'MATEO', 'MARIO', 'ROC',\n",
       "       'GAEL', 'GABRIEL', 'TEO', 'LUCA', 'MARTIN', 'LIAM', 'ARAN', 'ENZO'],\n",
       "      dtype=object)"
      ]
     },
     "execution_count": 13,
     "metadata": {},
     "output_type": "execute_result"
    }
   ],
   "source": [
    "df.Name.unique()"
   ]
  },
  {
   "cell_type": "code",
   "execution_count": 14,
   "metadata": {},
   "outputs": [
    {
     "data": {
      "text/plain": [
       "106"
      ]
     },
     "execution_count": 14,
     "metadata": {},
     "output_type": "execute_result"
    }
   ],
   "source": [
    "df.Name.nunique()"
   ]
  },
  {
   "cell_type": "code",
   "execution_count": 15,
   "metadata": {},
   "outputs": [],
   "source": [
    "df['Name'] = df['Name'].apply(lambda x: x.strip())"
   ]
  },
  {
   "cell_type": "code",
   "execution_count": 16,
   "metadata": {},
   "outputs": [
    {
     "data": {
      "text/plain": [
       "106"
      ]
     },
     "execution_count": 16,
     "metadata": {},
     "output_type": "execute_result"
    }
   ],
   "source": [
    "df.Name.nunique()"
   ]
  },
  {
   "cell_type": "code",
   "execution_count": 21,
   "metadata": {},
   "outputs": [
    {
     "data": {
      "text/plain": [
       "Order     1200\n",
       "Name      1200\n",
       "Sex       1200\n",
       "Year      1200\n",
       "Number    1200\n",
       "dtype: int64"
      ]
     },
     "execution_count": 21,
     "metadata": {},
     "output_type": "execute_result"
    }
   ],
   "source": [
    "df.count()"
   ]
  },
  {
   "cell_type": "code",
   "execution_count": 20,
   "metadata": {},
   "outputs": [
    {
     "data": {
      "text/plain": [
       "Order     240\n",
       "Name      240\n",
       "Sex       240\n",
       "Year      240\n",
       "Number    240\n",
       "dtype: int64"
      ]
     },
     "execution_count": 20,
     "metadata": {},
     "output_type": "execute_result"
    }
   ],
   "source": [
    "df_woman = df[(df['Order'] <= 10) & (df['Sex'] == 'Woman')]\n",
    "\n",
    "df_woman.count()"
   ]
  },
  {
   "cell_type": "code",
   "execution_count": 23,
   "metadata": {},
   "outputs": [
    {
     "data": {
      "text/plain": [
       "array([ 1,  2,  3,  4,  5,  6,  7,  8,  9, 10, 11, 12, 13, 14, 15, 16, 17,\n",
       "       18, 19, 20, 21, 22, 23, 24, 25], dtype=int64)"
      ]
     },
     "execution_count": 23,
     "metadata": {},
     "output_type": "execute_result"
    }
   ],
   "source": [
    "df.Order.unique()"
   ]
  },
  {
   "cell_type": "code",
   "execution_count": 24,
   "metadata": {},
   "outputs": [
    {
     "data": {
      "text/html": [
       "<div>\n",
       "<style scoped>\n",
       "    .dataframe tbody tr th:only-of-type {\n",
       "        vertical-align: middle;\n",
       "    }\n",
       "\n",
       "    .dataframe tbody tr th {\n",
       "        vertical-align: top;\n",
       "    }\n",
       "\n",
       "    .dataframe thead th {\n",
       "        text-align: right;\n",
       "    }\n",
       "</style>\n",
       "<table border=\"1\" class=\"dataframe\">\n",
       "  <thead>\n",
       "    <tr style=\"text-align: right;\">\n",
       "      <th></th>\n",
       "      <th>Order</th>\n",
       "      <th>Name</th>\n",
       "      <th>Sex</th>\n",
       "      <th>Year</th>\n",
       "      <th>Number</th>\n",
       "    </tr>\n",
       "  </thead>\n",
       "  <tbody>\n",
       "    <tr>\n",
       "      <th>600</th>\n",
       "      <td>1</td>\n",
       "      <td>MARC</td>\n",
       "      <td>Man</td>\n",
       "      <td>1996</td>\n",
       "      <td>295</td>\n",
       "    </tr>\n",
       "    <tr>\n",
       "      <th>601</th>\n",
       "      <td>2</td>\n",
       "      <td>DAVID</td>\n",
       "      <td>Man</td>\n",
       "      <td>1996</td>\n",
       "      <td>198</td>\n",
       "    </tr>\n",
       "    <tr>\n",
       "      <th>602</th>\n",
       "      <td>3</td>\n",
       "      <td>DANIEL</td>\n",
       "      <td>Man</td>\n",
       "      <td>1996</td>\n",
       "      <td>174</td>\n",
       "    </tr>\n",
       "    <tr>\n",
       "      <th>603</th>\n",
       "      <td>4</td>\n",
       "      <td>ALBERT</td>\n",
       "      <td>Man</td>\n",
       "      <td>1996</td>\n",
       "      <td>151</td>\n",
       "    </tr>\n",
       "    <tr>\n",
       "      <th>604</th>\n",
       "      <td>5</td>\n",
       "      <td>VICTOR</td>\n",
       "      <td>Man</td>\n",
       "      <td>1996</td>\n",
       "      <td>145</td>\n",
       "    </tr>\n",
       "  </tbody>\n",
       "</table>\n",
       "</div>"
      ],
      "text/plain": [
       "     Order    Name  Sex  Year  Number\n",
       "600      1    MARC  Man  1996     295\n",
       "601      2   DAVID  Man  1996     198\n",
       "602      3  DANIEL  Man  1996     174\n",
       "603      4  ALBERT  Man  1996     151\n",
       "604      5  VICTOR  Man  1996     145"
      ]
     },
     "execution_count": 24,
     "metadata": {},
     "output_type": "execute_result"
    }
   ],
   "source": [
    "df_man = df[(df['Order'] <= 10) & (df['Sex'] == 'Man')]\n",
    "\n",
    "df_man.head()"
   ]
  },
  {
   "cell_type": "code",
   "execution_count": 25,
   "metadata": {},
   "outputs": [],
   "source": [
    "import random\n",
    "\n",
    "def name_to_color(names, r_min=0, r_max=255, g_min=0, g_max=255, b_min=0, b_max=255):\n",
    "    \"\"\"Mapping of names to random rgb colors.\n",
    "    Parameters:\n",
    "    df (Series): Pandas Series containing names.\n",
    "    r_min (int): Mininum intensity of the red channel (default 0).\n",
    "    r_max (int): Maximum intensity of the red channel (default 255).\n",
    "    g_min (int): Mininum intensity of the green channel (default 0).\n",
    "    g_max (int): Maximum intensity of the green channel (default 255).\n",
    "    b_min (int): Mininum intensity of the blue channel (default 0).\n",
    "    b_max (int): Maximum intensity of the blue channel (default 255).\n",
    "\n",
    "    Returns:\n",
    "    dictionary: Mapping of names (keys) to random rgb colors (values)\n",
    "\n",
    "    \"\"\"\n",
    "    mapping_colors = dict()\n",
    "    \n",
    "    for name in names.unique():\n",
    "        red = random.randint(r_min, r_max)\n",
    "        green = random.randint(g_min, g_max)\n",
    "        blue = random.randint(b_min, b_max)\n",
    "        rgb_string = 'rgb({}, {}, {})'.format(red, green, blue)\n",
    "    \n",
    "        mapping_colors[name] = rgb_string\n",
    "    \n",
    "    return mapping_colors"
   ]
  },
  {
   "cell_type": "code",
   "execution_count": 26,
   "metadata": {},
   "outputs": [
    {
     "name": "stdout",
     "output_type": "stream",
     "text": [
      "{'LAURA': 'rgb(223, 4, 38)', 'MARIA': 'rgb(177, 34, 36)', 'MARTA': 'rgb(132, 136, 19)', 'ANDREA': 'rgb(205, 40, 126)', 'ANNA': 'rgb(152, 133, 135)', 'PAULA': 'rgb(133, 75, 35)', 'ALBA': 'rgb(217, 141, 4)', 'SARA': 'rgb(158, 151, 172)', 'LAIA': 'rgb(165, 10, 135)', 'CLAUDIA': 'rgb(247, 126, 0)', 'JULIA': 'rgb(235, 1, 55)', 'CARLA': 'rgb(238, 131, 95)', 'MARINA': 'rgb(253, 99, 98)', 'LUCIA': 'rgb(145, 34, 77)', 'MARTINA': 'rgb(181, 133, 117)', 'JANA': 'rgb(236, 45, 102)', 'AINA': 'rgb(161, 131, 14)', 'SOFIA': 'rgb(182, 156, 178)', 'NOA': 'rgb(229, 93, 148)', 'EMMA': 'rgb(138, 28, 180)', 'VALENTINA': 'rgb(190, 32, 109)', 'CHLOE': 'rgb(239, 180, 145)', 'ONA': 'rgb(234, 161, 43)', 'MIA': 'rgb(125, 57, 145)', 'OLIVIA': 'rgb(175, 131, 105)'}\n"
     ]
    }
   ],
   "source": [
    "# dictionary for female names\n",
    "mapping_colors_woman = name_to_color(df_woman.Name, 125, 255, 0, 185, 0, 185)\n",
    "\n",
    "# show the mapping\n",
    "print(mapping_colors_woman)"
   ]
  },
  {
   "cell_type": "code",
   "execution_count": 27,
   "metadata": {},
   "outputs": [
    {
     "name": "stdout",
     "output_type": "stream",
     "text": [
      "{'MARC': 'rgb(80, 7, 230)', 'DAVID': 'rgb(163, 37, 158)', 'DANIEL': 'rgb(28, 95, 195)', 'ALBERT': 'rgb(135, 100, 197)', 'VICTOR': 'rgb(121, 182, 151)', 'JORDI': 'rgb(104, 159, 125)', 'SERGI': 'rgb(168, 109, 230)', 'ALEJANDRO': 'rgb(71, 100, 182)', 'POL': 'rgb(101, 48, 131)', 'ALEX': 'rgb(125, 55, 229)', 'PAU': 'rgb(149, 97, 174)', 'ARNAU': 'rgb(165, 83, 178)', 'GERARD': 'rgb(73, 170, 221)', 'JOAN': 'rgb(31, 50, 161)', 'PABLO': 'rgb(82, 140, 155)', 'JAN': 'rgb(169, 40, 253)', 'MARTI': 'rgb(73, 64, 185)', 'ERIC': 'rgb(71, 113, 158)', 'HUGO': 'rgb(9, 174, 250)', 'BIEL': 'rgb(81, 69, 154)', 'NIL': 'rgb(46, 116, 136)', 'BRUNO': 'rgb(63, 74, 158)', 'LUCAS': 'rgb(71, 16, 248)', 'LEO': 'rgb(4, 105, 181)'}\n"
     ]
    }
   ],
   "source": [
    "# dictionary for males names\n",
    "mapping_colors_man = name_to_color(df_man.Name, 0, 185, 0, 185, 125, 255)\n",
    "# show the mapping\n",
    "print(mapping_colors_man)"
   ]
  },
  {
   "cell_type": "code",
   "execution_count": 28,
   "metadata": {},
   "outputs": [
    {
     "name": "stderr",
     "output_type": "stream",
     "text": [
      "c:\\users\\eric\\anaconda3\\envs\\pytorch\\lib\\site-packages\\ipykernel_launcher.py:2: SettingWithCopyWarning:\n",
      "\n",
      "\n",
      "A value is trying to be set on a copy of a slice from a DataFrame.\n",
      "Try using .loc[row_indexer,col_indexer] = value instead\n",
      "\n",
      "See the caveats in the documentation: https://pandas.pydata.org/pandas-docs/stable/user_guide/indexing.html#returning-a-view-versus-a-copy\n",
      "\n",
      "c:\\users\\eric\\anaconda3\\envs\\pytorch\\lib\\site-packages\\ipykernel_launcher.py:5: SettingWithCopyWarning:\n",
      "\n",
      "\n",
      "A value is trying to be set on a copy of a slice from a DataFrame.\n",
      "Try using .loc[row_indexer,col_indexer] = value instead\n",
      "\n",
      "See the caveats in the documentation: https://pandas.pydata.org/pandas-docs/stable/user_guide/indexing.html#returning-a-view-versus-a-copy\n",
      "\n"
     ]
    },
    {
     "data": {
      "text/html": [
       "<div>\n",
       "<style scoped>\n",
       "    .dataframe tbody tr th:only-of-type {\n",
       "        vertical-align: middle;\n",
       "    }\n",
       "\n",
       "    .dataframe tbody tr th {\n",
       "        vertical-align: top;\n",
       "    }\n",
       "\n",
       "    .dataframe thead th {\n",
       "        text-align: right;\n",
       "    }\n",
       "</style>\n",
       "<table border=\"1\" class=\"dataframe\">\n",
       "  <thead>\n",
       "    <tr style=\"text-align: right;\">\n",
       "      <th></th>\n",
       "      <th>Order</th>\n",
       "      <th>Name</th>\n",
       "      <th>Sex</th>\n",
       "      <th>Year</th>\n",
       "      <th>Number</th>\n",
       "      <th>Color</th>\n",
       "    </tr>\n",
       "  </thead>\n",
       "  <tbody>\n",
       "    <tr>\n",
       "      <th>600</th>\n",
       "      <td>1</td>\n",
       "      <td>MARC</td>\n",
       "      <td>Man</td>\n",
       "      <td>1996</td>\n",
       "      <td>295</td>\n",
       "      <td>rgb(80, 7, 230)</td>\n",
       "    </tr>\n",
       "    <tr>\n",
       "      <th>601</th>\n",
       "      <td>2</td>\n",
       "      <td>DAVID</td>\n",
       "      <td>Man</td>\n",
       "      <td>1996</td>\n",
       "      <td>198</td>\n",
       "      <td>rgb(163, 37, 158)</td>\n",
       "    </tr>\n",
       "    <tr>\n",
       "      <th>602</th>\n",
       "      <td>3</td>\n",
       "      <td>DANIEL</td>\n",
       "      <td>Man</td>\n",
       "      <td>1996</td>\n",
       "      <td>174</td>\n",
       "      <td>rgb(28, 95, 195)</td>\n",
       "    </tr>\n",
       "    <tr>\n",
       "      <th>603</th>\n",
       "      <td>4</td>\n",
       "      <td>ALBERT</td>\n",
       "      <td>Man</td>\n",
       "      <td>1996</td>\n",
       "      <td>151</td>\n",
       "      <td>rgb(135, 100, 197)</td>\n",
       "    </tr>\n",
       "    <tr>\n",
       "      <th>604</th>\n",
       "      <td>5</td>\n",
       "      <td>VICTOR</td>\n",
       "      <td>Man</td>\n",
       "      <td>1996</td>\n",
       "      <td>145</td>\n",
       "      <td>rgb(121, 182, 151)</td>\n",
       "    </tr>\n",
       "  </tbody>\n",
       "</table>\n",
       "</div>"
      ],
      "text/plain": [
       "     Order    Name  Sex  Year  Number               Color\n",
       "600      1    MARC  Man  1996     295     rgb(80, 7, 230)\n",
       "601      2   DAVID  Man  1996     198   rgb(163, 37, 158)\n",
       "602      3  DANIEL  Man  1996     174    rgb(28, 95, 195)\n",
       "603      4  ALBERT  Man  1996     151  rgb(135, 100, 197)\n",
       "604      5  VICTOR  Man  1996     145  rgb(121, 182, 151)"
      ]
     },
     "execution_count": 28,
     "metadata": {},
     "output_type": "execute_result"
    }
   ],
   "source": [
    "# create a column Color - matching colors with names (according to the mapping_colors_woman dictionary)\n",
    "df_woman['Color'] = df_woman['Name'].map(mapping_colors_woman)\n",
    "\n",
    "# create a column Color - matching colors with names (according to the mapping_colors_man dictionary)\n",
    "df_man['Color'] = df_man['Name'].map(mapping_colors_man)\n",
    "\n",
    "# first five rows of the df_man data frame\n",
    "df_man.head()"
   ]
  },
  {
   "cell_type": "code",
   "execution_count": 29,
   "metadata": {},
   "outputs": [],
   "source": [
    "import plotly.graph_objects as go\n",
    "\n",
    "\n",
    "def frames_animation(df, title):\n",
    "    \"\"\"Creation of a sequence of frames.\n",
    "    Parameters:\n",
    "    df (DataFrame): Pandas data frame containing the categorical variable ['Name'],\n",
    "    the count ['Number'], the year ['Year'], and the color['Color'] (separated columns).\n",
    "    title (string): Title of each frame.\n",
    "    Returns:\n",
    "    list_of_frames (list): List of frames. Each frame contains a bar plot of a year.\n",
    "    \"\"\"\n",
    "    \n",
    "    list_of_frames = []\n",
    "    initial_year = df['Year'].min()\n",
    "    final_year = df['Year'].max()\n",
    "\n",
    "    for year in range(initial_year, final_year):\n",
    "            fdata = df[df['Year'] == year]\n",
    "            list_of_frames.append(go.Frame(data=[go.Bar(x=fdata['Name'], y=fdata['Number'],\n",
    "                                                        marker_color=fdata['Color'], hoverinfo='none',\n",
    "                                                        textposition='outside', texttemplate='%{x}<br>%{y}',\n",
    "                                                        cliponaxis=False)],\n",
    "                                           layout=go.Layout(font={'size': 14},\n",
    "                                                            plot_bgcolor = '#FFFFFF',\n",
    "                                                            xaxis={'showline': False, 'visible': False},\n",
    "                                                            yaxis={'showline': False, 'visible': False},\n",
    "                                                            bargap=0.15,\n",
    "                                                            title=title + str(year))))\n",
    "    return list_of_frames "
   ]
  },
  {
   "cell_type": "code",
   "execution_count": 30,
   "metadata": {},
   "outputs": [],
   "source": [
    "def bar_race_plot (df, title, list_of_frames):\n",
    "    \"\"\"Creation of the bar chart race figure.\n",
    "    Parameters:\n",
    "    df (DataFrame): Pandas data frame containing the categorical variable ['Name'],\n",
    "    the count ['Number'], the year ['Year'], and the color ['Color'] (separated columns).\n",
    "    title (string): Title of the initial bar plot.\n",
    "    list_of_frames (list): List of frames. Each frame contains a bar plot of a year.\n",
    "    Returns:\n",
    "    fig (figure instance): Bar chart race\n",
    "    \"\"\"\n",
    "    \n",
    "    # initial year - names (categorical variable), number of babies (numerical variable), and color\n",
    "    initial_year = df['Year'].min()\n",
    "    initial_names = df[df['Year'] == initial_year].Name\n",
    "    initial_numbers = df[df['Year'] == initial_year].Number\n",
    "    initial_color = df[df['Year'] == initial_year].Color\n",
    "    range_max = df['Number'].max()\n",
    "    \n",
    "    fig = go.Figure(\n",
    "        data=[go.Bar(x=initial_names, y=initial_numbers,\n",
    "                       marker_color=initial_color, hoverinfo='none',\n",
    "                       textposition='outside', texttemplate='%{x}<br>%{y}',\n",
    "                       cliponaxis=False)],\n",
    "        layout=go.Layout(font={'size': 14}, plot_bgcolor = '#FFFFFF',\n",
    "                         xaxis={'showline': False, 'visible': False},\n",
    "                         yaxis={'showline': False, 'visible': False, 'range': (0, range_max)},\n",
    "                         bargap=0.15, title=title + str(initial_year),\n",
    "                         updatemenus=[dict(type=\"buttons\",\n",
    "                                           buttons=[dict(label=\"Play\",\n",
    "                                                         method=\"animate\",\n",
    "                                                         args=[None,{\"frame\": {\"duration\": 2000, \"redraw\": True}, \"fromcurrent\": True}]),\n",
    "                                                    dict(label=\"Stop\",\n",
    "                                                         method=\"animate\",\n",
    "                                                         args=[[None],{\"frame\": {\"duration\": 0, \"redraw\": False}, \"mode\": \"immediate\",\"transition\": {\"duration\": 0}}])])]),\n",
    "        frames=list(list_of_frames))\n",
    "    \n",
    "    return fig"
   ]
  },
  {
   "cell_type": "code",
   "execution_count": 31,
   "metadata": {},
   "outputs": [
    {
     "data": {
      "application/vnd.plotly.v1+json": {
       "config": {
        "plotlyServerURL": "https://plotly.com"
       },
       "data": [
        {
         "cliponaxis": false,
         "hoverinfo": "none",
         "marker": {
          "color": [
           "rgb(223, 4, 38)",
           "rgb(177, 34, 36)",
           "rgb(132, 136, 19)",
           "rgb(205, 40, 126)",
           "rgb(152, 133, 135)",
           "rgb(133, 75, 35)",
           "rgb(217, 141, 4)",
           "rgb(158, 151, 172)",
           "rgb(165, 10, 135)",
           "rgb(247, 126, 0)"
          ]
         },
         "textposition": "outside",
         "texttemplate": "%{x}<br>%{y}",
         "type": "bar",
         "x": [
          "LAURA",
          "MARIA",
          "MARTA",
          "ANDREA",
          "ANNA",
          "PAULA",
          "ALBA",
          "SARA",
          "LAIA",
          "CLAUDIA"
         ],
         "y": [
          237,
          219,
          206,
          199,
          195,
          186,
          142,
          125,
          123,
          122
         ]
        }
       ],
       "frames": [
        {
         "data": [
          {
           "cliponaxis": false,
           "hoverinfo": "none",
           "marker": {
            "color": [
             "rgb(223, 4, 38)",
             "rgb(177, 34, 36)",
             "rgb(132, 136, 19)",
             "rgb(205, 40, 126)",
             "rgb(152, 133, 135)",
             "rgb(133, 75, 35)",
             "rgb(217, 141, 4)",
             "rgb(158, 151, 172)",
             "rgb(165, 10, 135)",
             "rgb(247, 126, 0)"
            ]
           },
           "textposition": "outside",
           "texttemplate": "%{x}<br>%{y}",
           "type": "bar",
           "x": [
            "LAURA",
            "MARIA",
            "MARTA",
            "ANDREA",
            "ANNA",
            "PAULA",
            "ALBA",
            "SARA",
            "LAIA",
            "CLAUDIA"
           ],
           "y": [
            237,
            219,
            206,
            199,
            195,
            186,
            142,
            125,
            123,
            122
           ]
          }
         ],
         "layout": {
          "bargap": 0.15,
          "font": {
           "size": 14
          },
          "plot_bgcolor": "#FFFFFF",
          "title": {
           "text": "Most popular baby names of 1996"
          },
          "xaxis": {
           "showline": false,
           "visible": false
          },
          "yaxis": {
           "showline": false,
           "visible": false
          }
         }
        },
        {
         "data": [
          {
           "cliponaxis": false,
           "hoverinfo": "none",
           "marker": {
            "color": [
             "rgb(177, 34, 36)",
             "rgb(223, 4, 38)",
             "rgb(132, 136, 19)",
             "rgb(205, 40, 126)",
             "rgb(133, 75, 35)",
             "rgb(165, 10, 135)",
             "rgb(152, 133, 135)",
             "rgb(217, 141, 4)",
             "rgb(235, 1, 55)",
             "rgb(238, 131, 95)"
            ]
           },
           "textposition": "outside",
           "texttemplate": "%{x}<br>%{y}",
           "type": "bar",
           "x": [
            "MARIA",
            "LAURA",
            "MARTA",
            "ANDREA",
            "PAULA",
            "LAIA",
            "ANNA",
            "ALBA",
            "JULIA",
            "CARLA"
           ],
           "y": [
            241,
            229,
            211,
            209,
            205,
            158,
            146,
            134,
            132,
            118
           ]
          }
         ],
         "layout": {
          "bargap": 0.15,
          "font": {
           "size": 14
          },
          "plot_bgcolor": "#FFFFFF",
          "title": {
           "text": "Most popular baby names of 1997"
          },
          "xaxis": {
           "showline": false,
           "visible": false
          },
          "yaxis": {
           "showline": false,
           "visible": false
          }
         }
        },
        {
         "data": [
          {
           "cliponaxis": false,
           "hoverinfo": "none",
           "marker": {
            "color": [
             "rgb(177, 34, 36)",
             "rgb(223, 4, 38)",
             "rgb(133, 75, 35)",
             "rgb(132, 136, 19)",
             "rgb(205, 40, 126)",
             "rgb(152, 133, 135)",
             "rgb(165, 10, 135)",
             "rgb(235, 1, 55)",
             "rgb(238, 131, 95)",
             "rgb(247, 126, 0)"
            ]
           },
           "textposition": "outside",
           "texttemplate": "%{x}<br>%{y}",
           "type": "bar",
           "x": [
            "MARIA",
            "LAURA",
            "PAULA",
            "MARTA",
            "ANDREA",
            "ANNA",
            "LAIA",
            "JULIA",
            "CARLA",
            "CLAUDIA"
           ],
           "y": [
            265,
            202,
            175,
            166,
            161,
            149,
            148,
            124,
            119,
            110
           ]
          }
         ],
         "layout": {
          "bargap": 0.15,
          "font": {
           "size": 14
          },
          "plot_bgcolor": "#FFFFFF",
          "title": {
           "text": "Most popular baby names of 1998"
          },
          "xaxis": {
           "showline": false,
           "visible": false
          },
          "yaxis": {
           "showline": false,
           "visible": false
          }
         }
        },
        {
         "data": [
          {
           "cliponaxis": false,
           "hoverinfo": "none",
           "marker": {
            "color": [
             "rgb(177, 34, 36)",
             "rgb(223, 4, 38)",
             "rgb(133, 75, 35)",
             "rgb(205, 40, 126)",
             "rgb(132, 136, 19)",
             "rgb(152, 133, 135)",
             "rgb(165, 10, 135)",
             "rgb(238, 131, 95)",
             "rgb(235, 1, 55)",
             "rgb(253, 99, 98)"
            ]
           },
           "textposition": "outside",
           "texttemplate": "%{x}<br>%{y}",
           "type": "bar",
           "x": [
            "MARIA",
            "LAURA",
            "PAULA",
            "ANDREA",
            "MARTA",
            "ANNA",
            "LAIA",
            "CARLA",
            "JULIA",
            "MARINA"
           ],
           "y": [
            299,
            209,
            207,
            187,
            182,
            141,
            132,
            128,
            120,
            116
           ]
          }
         ],
         "layout": {
          "bargap": 0.15,
          "font": {
           "size": 14
          },
          "plot_bgcolor": "#FFFFFF",
          "title": {
           "text": "Most popular baby names of 1999"
          },
          "xaxis": {
           "showline": false,
           "visible": false
          },
          "yaxis": {
           "showline": false,
           "visible": false
          }
         }
        },
        {
         "data": [
          {
           "cliponaxis": false,
           "hoverinfo": "none",
           "marker": {
            "color": [
             "rgb(177, 34, 36)",
             "rgb(223, 4, 38)",
             "rgb(133, 75, 35)",
             "rgb(152, 133, 135)",
             "rgb(205, 40, 126)",
             "rgb(132, 136, 19)",
             "rgb(235, 1, 55)",
             "rgb(217, 141, 4)",
             "rgb(238, 131, 95)",
             "rgb(165, 10, 135)"
            ]
           },
           "textposition": "outside",
           "texttemplate": "%{x}<br>%{y}",
           "type": "bar",
           "x": [
            "MARIA",
            "LAURA",
            "PAULA",
            "ANNA",
            "ANDREA",
            "MARTA",
            "JULIA",
            "ALBA",
            "CARLA",
            "LAIA"
           ],
           "y": [
            268,
            222,
            221,
            180,
            162,
            157,
            144,
            137,
            137,
            132
           ]
          }
         ],
         "layout": {
          "bargap": 0.15,
          "font": {
           "size": 14
          },
          "plot_bgcolor": "#FFFFFF",
          "title": {
           "text": "Most popular baby names of 2000"
          },
          "xaxis": {
           "showline": false,
           "visible": false
          },
          "yaxis": {
           "showline": false,
           "visible": false
          }
         }
        },
        {
         "data": [
          {
           "cliponaxis": false,
           "hoverinfo": "none",
           "marker": {
            "color": [
             "rgb(177, 34, 36)",
             "rgb(133, 75, 35)",
             "rgb(223, 4, 38)",
             "rgb(132, 136, 19)",
             "rgb(238, 131, 95)",
             "rgb(152, 133, 135)",
             "rgb(165, 10, 135)",
             "rgb(235, 1, 55)",
             "rgb(217, 141, 4)",
             "rgb(205, 40, 126)"
            ]
           },
           "textposition": "outside",
           "texttemplate": "%{x}<br>%{y}",
           "type": "bar",
           "x": [
            "MARIA",
            "PAULA",
            "LAURA",
            "MARTA",
            "CARLA",
            "ANNA",
            "LAIA",
            "JULIA",
            "ALBA",
            "ANDREA"
           ],
           "y": [
            243,
            187,
            175,
            157,
            153,
            152,
            143,
            138,
            131,
            129
           ]
          }
         ],
         "layout": {
          "bargap": 0.15,
          "font": {
           "size": 14
          },
          "plot_bgcolor": "#FFFFFF",
          "title": {
           "text": "Most popular baby names of 2001"
          },
          "xaxis": {
           "showline": false,
           "visible": false
          },
          "yaxis": {
           "showline": false,
           "visible": false
          }
         }
        },
        {
         "data": [
          {
           "cliponaxis": false,
           "hoverinfo": "none",
           "marker": {
            "color": [
             "rgb(177, 34, 36)",
             "rgb(133, 75, 35)",
             "rgb(132, 136, 19)",
             "rgb(223, 4, 38)",
             "rgb(217, 141, 4)",
             "rgb(238, 131, 95)",
             "rgb(165, 10, 135)",
             "rgb(235, 1, 55)",
             "rgb(152, 133, 135)",
             "rgb(247, 126, 0)"
            ]
           },
           "textposition": "outside",
           "texttemplate": "%{x}<br>%{y}",
           "type": "bar",
           "x": [
            "MARIA",
            "PAULA",
            "MARTA",
            "LAURA",
            "ALBA",
            "CARLA",
            "LAIA",
            "JULIA",
            "ANNA",
            "CLAUDIA"
           ],
           "y": [
            243,
            197,
            162,
            161,
            147,
            142,
            137,
            134,
            132,
            124
           ]
          }
         ],
         "layout": {
          "bargap": 0.15,
          "font": {
           "size": 14
          },
          "plot_bgcolor": "#FFFFFF",
          "title": {
           "text": "Most popular baby names of 2002"
          },
          "xaxis": {
           "showline": false,
           "visible": false
          },
          "yaxis": {
           "showline": false,
           "visible": false
          }
         }
        },
        {
         "data": [
          {
           "cliponaxis": false,
           "hoverinfo": "none",
           "marker": {
            "color": [
             "rgb(177, 34, 36)",
             "rgb(133, 75, 35)",
             "rgb(238, 131, 95)",
             "rgb(165, 10, 135)",
             "rgb(223, 4, 38)",
             "rgb(217, 141, 4)",
             "rgb(152, 133, 135)",
             "rgb(132, 136, 19)",
             "rgb(235, 1, 55)",
             "rgb(205, 40, 126)"
            ]
           },
           "textposition": "outside",
           "texttemplate": "%{x}<br>%{y}",
           "type": "bar",
           "x": [
            "MARIA",
            "PAULA",
            "CARLA",
            "LAIA",
            "LAURA",
            "ALBA",
            "ANNA",
            "MARTA",
            "JULIA",
            "ANDREA"
           ],
           "y": [
            196,
            192,
            165,
            158,
            148,
            135,
            135,
            131,
            128,
            126
           ]
          }
         ],
         "layout": {
          "bargap": 0.15,
          "font": {
           "size": 14
          },
          "plot_bgcolor": "#FFFFFF",
          "title": {
           "text": "Most popular baby names of 2003"
          },
          "xaxis": {
           "showline": false,
           "visible": false
          },
          "yaxis": {
           "showline": false,
           "visible": false
          }
         }
        },
        {
         "data": [
          {
           "cliponaxis": false,
           "hoverinfo": "none",
           "marker": {
            "color": [
             "rgb(177, 34, 36)",
             "rgb(133, 75, 35)",
             "rgb(165, 10, 135)",
             "rgb(235, 1, 55)",
             "rgb(145, 34, 77)",
             "rgb(238, 131, 95)",
             "rgb(223, 4, 38)",
             "rgb(247, 126, 0)",
             "rgb(217, 141, 4)",
             "rgb(152, 133, 135)"
            ]
           },
           "textposition": "outside",
           "texttemplate": "%{x}<br>%{y}",
           "type": "bar",
           "x": [
            "MARIA",
            "PAULA",
            "LAIA",
            "JULIA",
            "LUCIA",
            "CARLA",
            "LAURA",
            "CLAUDIA",
            "ALBA",
            "ANNA"
           ],
           "y": [
            200,
            190,
            184,
            171,
            171,
            164,
            146,
            127,
            122,
            111
           ]
          }
         ],
         "layout": {
          "bargap": 0.15,
          "font": {
           "size": 14
          },
          "plot_bgcolor": "#FFFFFF",
          "title": {
           "text": "Most popular baby names of 2004"
          },
          "xaxis": {
           "showline": false,
           "visible": false
          },
          "yaxis": {
           "showline": false,
           "visible": false
          }
         }
        },
        {
         "data": [
          {
           "cliponaxis": false,
           "hoverinfo": "none",
           "marker": {
            "color": [
             "rgb(165, 10, 135)",
             "rgb(177, 34, 36)",
             "rgb(235, 1, 55)",
             "rgb(238, 131, 95)",
             "rgb(145, 34, 77)",
             "rgb(133, 75, 35)",
             "rgb(181, 133, 117)",
             "rgb(223, 4, 38)",
             "rgb(132, 136, 19)",
             "rgb(217, 141, 4)"
            ]
           },
           "textposition": "outside",
           "texttemplate": "%{x}<br>%{y}",
           "type": "bar",
           "x": [
            "LAIA",
            "MARIA",
            "JULIA",
            "CARLA",
            "LUCIA",
            "PAULA",
            "MARTINA",
            "LAURA",
            "MARTA",
            "ALBA"
           ],
           "y": [
            200,
            183,
            182,
            171,
            165,
            157,
            144,
            124,
            122,
            117
           ]
          }
         ],
         "layout": {
          "bargap": 0.15,
          "font": {
           "size": 14
          },
          "plot_bgcolor": "#FFFFFF",
          "title": {
           "text": "Most popular baby names of 2005"
          },
          "xaxis": {
           "showline": false,
           "visible": false
          },
          "yaxis": {
           "showline": false,
           "visible": false
          }
         }
        },
        {
         "data": [
          {
           "cliponaxis": false,
           "hoverinfo": "none",
           "marker": {
            "color": [
             "rgb(177, 34, 36)",
             "rgb(165, 10, 135)",
             "rgb(145, 34, 77)",
             "rgb(235, 1, 55)",
             "rgb(238, 131, 95)",
             "rgb(181, 133, 117)",
             "rgb(247, 126, 0)",
             "rgb(133, 75, 35)",
             "rgb(223, 4, 38)",
             "rgb(217, 141, 4)"
            ]
           },
           "textposition": "outside",
           "texttemplate": "%{x}<br>%{y}",
           "type": "bar",
           "x": [
            "MARIA",
            "LAIA",
            "LUCIA",
            "JULIA",
            "CARLA",
            "MARTINA",
            "CLAUDIA",
            "PAULA",
            "LAURA",
            "ALBA"
           ],
           "y": [
            196,
            180,
            170,
            160,
            145,
            129,
            126,
            122,
            111,
            101
           ]
          }
         ],
         "layout": {
          "bargap": 0.15,
          "font": {
           "size": 14
          },
          "plot_bgcolor": "#FFFFFF",
          "title": {
           "text": "Most popular baby names of 2006"
          },
          "xaxis": {
           "showline": false,
           "visible": false
          },
          "yaxis": {
           "showline": false,
           "visible": false
          }
         }
        },
        {
         "data": [
          {
           "cliponaxis": false,
           "hoverinfo": "none",
           "marker": {
            "color": [
             "rgb(145, 34, 77)",
             "rgb(177, 34, 36)",
             "rgb(181, 133, 117)",
             "rgb(165, 10, 135)",
             "rgb(235, 1, 55)",
             "rgb(238, 131, 95)",
             "rgb(133, 75, 35)",
             "rgb(247, 126, 0)",
             "rgb(158, 151, 172)",
             "rgb(236, 45, 102)"
            ]
           },
           "textposition": "outside",
           "texttemplate": "%{x}<br>%{y}",
           "type": "bar",
           "x": [
            "LUCIA",
            "MARIA",
            "MARTINA",
            "LAIA",
            "JULIA",
            "CARLA",
            "PAULA",
            "CLAUDIA",
            "SARA",
            "JANA"
           ],
           "y": [
            159,
            155,
            152,
            138,
            130,
            125,
            124,
            114,
            100,
            93
           ]
          }
         ],
         "layout": {
          "bargap": 0.15,
          "font": {
           "size": 14
          },
          "plot_bgcolor": "#FFFFFF",
          "title": {
           "text": "Most popular baby names of 2007"
          },
          "xaxis": {
           "showline": false,
           "visible": false
          },
          "yaxis": {
           "showline": false,
           "visible": false
          }
         }
        },
        {
         "data": [
          {
           "cliponaxis": false,
           "hoverinfo": "none",
           "marker": {
            "color": [
             "rgb(181, 133, 117)",
             "rgb(235, 1, 55)",
             "rgb(177, 34, 36)",
             "rgb(165, 10, 135)",
             "rgb(145, 34, 77)",
             "rgb(238, 131, 95)",
             "rgb(133, 75, 35)",
             "rgb(247, 126, 0)",
             "rgb(158, 151, 172)",
             "rgb(236, 45, 102)"
            ]
           },
           "textposition": "outside",
           "texttemplate": "%{x}<br>%{y}",
           "type": "bar",
           "x": [
            "MARTINA",
            "JULIA",
            "MARIA",
            "LAIA",
            "LUCIA",
            "CARLA",
            "PAULA",
            "CLAUDIA",
            "SARA",
            "JANA"
           ],
           "y": [
            169,
            162,
            158,
            156,
            146,
            139,
            136,
            113,
            102,
            92
           ]
          }
         ],
         "layout": {
          "bargap": 0.15,
          "font": {
           "size": 14
          },
          "plot_bgcolor": "#FFFFFF",
          "title": {
           "text": "Most popular baby names of 2008"
          },
          "xaxis": {
           "showline": false,
           "visible": false
          },
          "yaxis": {
           "showline": false,
           "visible": false
          }
         }
        },
        {
         "data": [
          {
           "cliponaxis": false,
           "hoverinfo": "none",
           "marker": {
            "color": [
             "rgb(181, 133, 117)",
             "rgb(165, 10, 135)",
             "rgb(177, 34, 36)",
             "rgb(133, 75, 35)",
             "rgb(145, 34, 77)",
             "rgb(235, 1, 55)",
             "rgb(238, 131, 95)",
             "rgb(247, 126, 0)",
             "rgb(161, 131, 14)",
             "rgb(182, 156, 178)"
            ]
           },
           "textposition": "outside",
           "texttemplate": "%{x}<br>%{y}",
           "type": "bar",
           "x": [
            "MARTINA",
            "LAIA",
            "MARIA",
            "PAULA",
            "LUCIA",
            "JULIA",
            "CARLA",
            "CLAUDIA",
            "AINA",
            "SOFIA"
           ],
           "y": [
            167,
            159,
            154,
            143,
            138,
            128,
            118,
            112,
            88,
            87
           ]
          }
         ],
         "layout": {
          "bargap": 0.15,
          "font": {
           "size": 14
          },
          "plot_bgcolor": "#FFFFFF",
          "title": {
           "text": "Most popular baby names of 2009"
          },
          "xaxis": {
           "showline": false,
           "visible": false
          },
          "yaxis": {
           "showline": false,
           "visible": false
          }
         }
        },
        {
         "data": [
          {
           "cliponaxis": false,
           "hoverinfo": "none",
           "marker": {
            "color": [
             "rgb(181, 133, 117)",
             "rgb(235, 1, 55)",
             "rgb(177, 34, 36)",
             "rgb(145, 34, 77)",
             "rgb(133, 75, 35)",
             "rgb(165, 10, 135)",
             "rgb(238, 131, 95)",
             "rgb(161, 131, 14)",
             "rgb(158, 151, 172)",
             "rgb(247, 126, 0)"
            ]
           },
           "textposition": "outside",
           "texttemplate": "%{x}<br>%{y}",
           "type": "bar",
           "x": [
            "MARTINA",
            "JULIA",
            "MARIA",
            "LUCIA",
            "PAULA",
            "LAIA",
            "CARLA",
            "AINA",
            "SARA",
            "CLAUDIA"
           ],
           "y": [
            194,
            173,
            147,
            139,
            135,
            128,
            120,
            109,
            102,
            101
           ]
          }
         ],
         "layout": {
          "bargap": 0.15,
          "font": {
           "size": 14
          },
          "plot_bgcolor": "#FFFFFF",
          "title": {
           "text": "Most popular baby names of 2010"
          },
          "xaxis": {
           "showline": false,
           "visible": false
          },
          "yaxis": {
           "showline": false,
           "visible": false
          }
         }
        },
        {
         "data": [
          {
           "cliponaxis": false,
           "hoverinfo": "none",
           "marker": {
            "color": [
             "rgb(181, 133, 117)",
             "rgb(235, 1, 55)",
             "rgb(165, 10, 135)",
             "rgb(177, 34, 36)",
             "rgb(145, 34, 77)",
             "rgb(133, 75, 35)",
             "rgb(182, 156, 178)",
             "rgb(238, 131, 95)",
             "rgb(229, 93, 148)",
             "rgb(247, 126, 0)"
            ]
           },
           "textposition": "outside",
           "texttemplate": "%{x}<br>%{y}",
           "type": "bar",
           "x": [
            "MARTINA",
            "JULIA",
            "LAIA",
            "MARIA",
            "LUCIA",
            "PAULA",
            "SOFIA",
            "CARLA",
            "NOA",
            "CLAUDIA"
           ],
           "y": [
            157,
            154,
            146,
            124,
            123,
            113,
            109,
            105,
            104,
            95
           ]
          }
         ],
         "layout": {
          "bargap": 0.15,
          "font": {
           "size": 14
          },
          "plot_bgcolor": "#FFFFFF",
          "title": {
           "text": "Most popular baby names of 2011"
          },
          "xaxis": {
           "showline": false,
           "visible": false
          },
          "yaxis": {
           "showline": false,
           "visible": false
          }
         }
        },
        {
         "data": [
          {
           "cliponaxis": false,
           "hoverinfo": "none",
           "marker": {
            "color": [
             "rgb(235, 1, 55)",
             "rgb(165, 10, 135)",
             "rgb(181, 133, 117)",
             "rgb(238, 131, 95)",
             "rgb(177, 34, 36)",
             "rgb(145, 34, 77)",
             "rgb(182, 156, 178)",
             "rgb(133, 75, 35)",
             "rgb(161, 131, 14)",
             "rgb(138, 28, 180)"
            ]
           },
           "textposition": "outside",
           "texttemplate": "%{x}<br>%{y}",
           "type": "bar",
           "x": [
            "JULIA",
            "LAIA",
            "MARTINA",
            "CARLA",
            "MARIA",
            "LUCIA",
            "SOFIA",
            "PAULA",
            "AINA",
            "EMMA"
           ],
           "y": [
            158,
            156,
            152,
            122,
            121,
            119,
            100,
            96,
            94,
            93
           ]
          }
         ],
         "layout": {
          "bargap": 0.15,
          "font": {
           "size": 14
          },
          "plot_bgcolor": "#FFFFFF",
          "title": {
           "text": "Most popular baby names of 2012"
          },
          "xaxis": {
           "showline": false,
           "visible": false
          },
          "yaxis": {
           "showline": false,
           "visible": false
          }
         }
        },
        {
         "data": [
          {
           "cliponaxis": false,
           "hoverinfo": "none",
           "marker": {
            "color": [
             "rgb(235, 1, 55)",
             "rgb(181, 133, 117)",
             "rgb(165, 10, 135)",
             "rgb(177, 34, 36)",
             "rgb(145, 34, 77)",
             "rgb(133, 75, 35)",
             "rgb(138, 28, 180)",
             "rgb(182, 156, 178)",
             "rgb(229, 93, 148)",
             "rgb(161, 131, 14)"
            ]
           },
           "textposition": "outside",
           "texttemplate": "%{x}<br>%{y}",
           "type": "bar",
           "x": [
            "JULIA",
            "MARTINA",
            "LAIA",
            "MARIA",
            "LUCIA",
            "PAULA",
            "EMMA",
            "SOFIA",
            "NOA",
            "AINA"
           ],
           "y": [
            143,
            137,
            131,
            117,
            116,
            111,
            105,
            102,
            88,
            87
           ]
          }
         ],
         "layout": {
          "bargap": 0.15,
          "font": {
           "size": 14
          },
          "plot_bgcolor": "#FFFFFF",
          "title": {
           "text": "Most popular baby names of 2013"
          },
          "xaxis": {
           "showline": false,
           "visible": false
          },
          "yaxis": {
           "showline": false,
           "visible": false
          }
         }
        },
        {
         "data": [
          {
           "cliponaxis": false,
           "hoverinfo": "none",
           "marker": {
            "color": [
             "rgb(165, 10, 135)",
             "rgb(181, 133, 117)",
             "rgb(235, 1, 55)",
             "rgb(138, 28, 180)",
             "rgb(229, 93, 148)",
             "rgb(182, 156, 178)",
             "rgb(177, 34, 36)",
             "rgb(190, 32, 109)",
             "rgb(238, 131, 95)",
             "rgb(145, 34, 77)"
            ]
           },
           "textposition": "outside",
           "texttemplate": "%{x}<br>%{y}",
           "type": "bar",
           "x": [
            "LAIA",
            "MARTINA",
            "JULIA",
            "EMMA",
            "NOA",
            "SOFIA",
            "MARIA",
            "VALENTINA",
            "CARLA",
            "LUCIA"
           ],
           "y": [
            153,
            134,
            120,
            117,
            107,
            106,
            105,
            99,
            91,
            89
           ]
          }
         ],
         "layout": {
          "bargap": 0.15,
          "font": {
           "size": 14
          },
          "plot_bgcolor": "#FFFFFF",
          "title": {
           "text": "Most popular baby names of 2014"
          },
          "xaxis": {
           "showline": false,
           "visible": false
          },
          "yaxis": {
           "showline": false,
           "visible": false
          }
         }
        },
        {
         "data": [
          {
           "cliponaxis": false,
           "hoverinfo": "none",
           "marker": {
            "color": [
             "rgb(138, 28, 180)",
             "rgb(235, 1, 55)",
             "rgb(145, 34, 77)",
             "rgb(181, 133, 117)",
             "rgb(177, 34, 36)",
             "rgb(182, 156, 178)",
             "rgb(165, 10, 135)",
             "rgb(229, 93, 148)",
             "rgb(161, 131, 14)",
             "rgb(133, 75, 35)"
            ]
           },
           "textposition": "outside",
           "texttemplate": "%{x}<br>%{y}",
           "type": "bar",
           "x": [
            "EMMA",
            "JULIA",
            "LUCIA",
            "MARTINA",
            "MARIA",
            "SOFIA",
            "LAIA",
            "NOA",
            "AINA",
            "PAULA"
           ],
           "y": [
            145,
            123,
            120,
            116,
            106,
            104,
            103,
            98,
            92,
            91
           ]
          }
         ],
         "layout": {
          "bargap": 0.15,
          "font": {
           "size": 14
          },
          "plot_bgcolor": "#FFFFFF",
          "title": {
           "text": "Most popular baby names of 2015"
          },
          "xaxis": {
           "showline": false,
           "visible": false
          },
          "yaxis": {
           "showline": false,
           "visible": false
          }
         }
        },
        {
         "data": [
          {
           "cliponaxis": false,
           "hoverinfo": "none",
           "marker": {
            "color": [
             "rgb(235, 1, 55)",
             "rgb(165, 10, 135)",
             "rgb(145, 34, 77)",
             "rgb(182, 156, 178)",
             "rgb(138, 28, 180)",
             "rgb(177, 34, 36)",
             "rgb(181, 133, 117)",
             "rgb(229, 93, 148)",
             "rgb(133, 75, 35)",
             "rgb(238, 131, 95)"
            ]
           },
           "textposition": "outside",
           "texttemplate": "%{x}<br>%{y}",
           "type": "bar",
           "x": [
            "JULIA",
            "LAIA",
            "LUCIA",
            "SOFIA",
            "EMMA",
            "MARIA",
            "MARTINA",
            "NOA",
            "PAULA",
            "CARLA"
           ],
           "y": [
            137,
            129,
            122,
            122,
            119,
            103,
            103,
            102,
            94,
            81
           ]
          }
         ],
         "layout": {
          "bargap": 0.15,
          "font": {
           "size": 14
          },
          "plot_bgcolor": "#FFFFFF",
          "title": {
           "text": "Most popular baby names of 2016"
          },
          "xaxis": {
           "showline": false,
           "visible": false
          },
          "yaxis": {
           "showline": false,
           "visible": false
          }
         }
        },
        {
         "data": [
          {
           "cliponaxis": false,
           "hoverinfo": "none",
           "marker": {
            "color": [
             "rgb(235, 1, 55)",
             "rgb(138, 28, 180)",
             "rgb(182, 156, 178)",
             "rgb(181, 133, 117)",
             "rgb(177, 34, 36)",
             "rgb(145, 34, 77)",
             "rgb(165, 10, 135)",
             "rgb(133, 75, 35)",
             "rgb(239, 180, 145)",
             "rgb(234, 161, 43)"
            ]
           },
           "textposition": "outside",
           "texttemplate": "%{x}<br>%{y}",
           "type": "bar",
           "x": [
            "JULIA",
            "EMMA",
            "SOFIA",
            "MARTINA",
            "MARIA",
            "LUCIA",
            "LAIA",
            "PAULA",
            "CHLOE",
            "ONA"
           ],
           "y": [
            123,
            122,
            119,
            117,
            106,
            104,
            93,
            83,
            81,
            78
           ]
          }
         ],
         "layout": {
          "bargap": 0.15,
          "font": {
           "size": 14
          },
          "plot_bgcolor": "#FFFFFF",
          "title": {
           "text": "Most popular baby names of 2017"
          },
          "xaxis": {
           "showline": false,
           "visible": false
          },
          "yaxis": {
           "showline": false,
           "visible": false
          }
         }
        },
        {
         "data": [
          {
           "cliponaxis": false,
           "hoverinfo": "none",
           "marker": {
            "color": [
             "rgb(138, 28, 180)",
             "rgb(235, 1, 55)",
             "rgb(182, 156, 178)",
             "rgb(145, 34, 77)",
             "rgb(181, 133, 117)",
             "rgb(133, 75, 35)",
             "rgb(177, 34, 36)",
             "rgb(165, 10, 135)",
             "rgb(125, 57, 145)",
             "rgb(175, 131, 105)"
            ]
           },
           "textposition": "outside",
           "texttemplate": "%{x}<br>%{y}",
           "type": "bar",
           "x": [
            "EMMA",
            "JULIA",
            "SOFIA",
            "LUCIA",
            "MARTINA",
            "PAULA",
            "MARIA",
            "LAIA",
            "MIA",
            "OLIVIA"
           ],
           "y": [
            146,
            118,
            108,
            92,
            89,
            89,
            88,
            78,
            72,
            68
           ]
          }
         ],
         "layout": {
          "bargap": 0.15,
          "font": {
           "size": 14
          },
          "plot_bgcolor": "#FFFFFF",
          "title": {
           "text": "Most popular baby names of 2018"
          },
          "xaxis": {
           "showline": false,
           "visible": false
          },
          "yaxis": {
           "showline": false,
           "visible": false
          }
         }
        }
       ],
       "layout": {
        "bargap": 0.15,
        "font": {
         "size": 14
        },
        "plot_bgcolor": "#FFFFFF",
        "template": {
         "data": {
          "bar": [
           {
            "error_x": {
             "color": "#2a3f5f"
            },
            "error_y": {
             "color": "#2a3f5f"
            },
            "marker": {
             "line": {
              "color": "#E5ECF6",
              "width": 0.5
             }
            },
            "type": "bar"
           }
          ],
          "barpolar": [
           {
            "marker": {
             "line": {
              "color": "#E5ECF6",
              "width": 0.5
             }
            },
            "type": "barpolar"
           }
          ],
          "carpet": [
           {
            "aaxis": {
             "endlinecolor": "#2a3f5f",
             "gridcolor": "white",
             "linecolor": "white",
             "minorgridcolor": "white",
             "startlinecolor": "#2a3f5f"
            },
            "baxis": {
             "endlinecolor": "#2a3f5f",
             "gridcolor": "white",
             "linecolor": "white",
             "minorgridcolor": "white",
             "startlinecolor": "#2a3f5f"
            },
            "type": "carpet"
           }
          ],
          "choropleth": [
           {
            "colorbar": {
             "outlinewidth": 0,
             "ticks": ""
            },
            "type": "choropleth"
           }
          ],
          "contour": [
           {
            "colorbar": {
             "outlinewidth": 0,
             "ticks": ""
            },
            "colorscale": [
             [
              0,
              "#0d0887"
             ],
             [
              0.1111111111111111,
              "#46039f"
             ],
             [
              0.2222222222222222,
              "#7201a8"
             ],
             [
              0.3333333333333333,
              "#9c179e"
             ],
             [
              0.4444444444444444,
              "#bd3786"
             ],
             [
              0.5555555555555556,
              "#d8576b"
             ],
             [
              0.6666666666666666,
              "#ed7953"
             ],
             [
              0.7777777777777778,
              "#fb9f3a"
             ],
             [
              0.8888888888888888,
              "#fdca26"
             ],
             [
              1,
              "#f0f921"
             ]
            ],
            "type": "contour"
           }
          ],
          "contourcarpet": [
           {
            "colorbar": {
             "outlinewidth": 0,
             "ticks": ""
            },
            "type": "contourcarpet"
           }
          ],
          "heatmap": [
           {
            "colorbar": {
             "outlinewidth": 0,
             "ticks": ""
            },
            "colorscale": [
             [
              0,
              "#0d0887"
             ],
             [
              0.1111111111111111,
              "#46039f"
             ],
             [
              0.2222222222222222,
              "#7201a8"
             ],
             [
              0.3333333333333333,
              "#9c179e"
             ],
             [
              0.4444444444444444,
              "#bd3786"
             ],
             [
              0.5555555555555556,
              "#d8576b"
             ],
             [
              0.6666666666666666,
              "#ed7953"
             ],
             [
              0.7777777777777778,
              "#fb9f3a"
             ],
             [
              0.8888888888888888,
              "#fdca26"
             ],
             [
              1,
              "#f0f921"
             ]
            ],
            "type": "heatmap"
           }
          ],
          "heatmapgl": [
           {
            "colorbar": {
             "outlinewidth": 0,
             "ticks": ""
            },
            "colorscale": [
             [
              0,
              "#0d0887"
             ],
             [
              0.1111111111111111,
              "#46039f"
             ],
             [
              0.2222222222222222,
              "#7201a8"
             ],
             [
              0.3333333333333333,
              "#9c179e"
             ],
             [
              0.4444444444444444,
              "#bd3786"
             ],
             [
              0.5555555555555556,
              "#d8576b"
             ],
             [
              0.6666666666666666,
              "#ed7953"
             ],
             [
              0.7777777777777778,
              "#fb9f3a"
             ],
             [
              0.8888888888888888,
              "#fdca26"
             ],
             [
              1,
              "#f0f921"
             ]
            ],
            "type": "heatmapgl"
           }
          ],
          "histogram": [
           {
            "marker": {
             "colorbar": {
              "outlinewidth": 0,
              "ticks": ""
             }
            },
            "type": "histogram"
           }
          ],
          "histogram2d": [
           {
            "colorbar": {
             "outlinewidth": 0,
             "ticks": ""
            },
            "colorscale": [
             [
              0,
              "#0d0887"
             ],
             [
              0.1111111111111111,
              "#46039f"
             ],
             [
              0.2222222222222222,
              "#7201a8"
             ],
             [
              0.3333333333333333,
              "#9c179e"
             ],
             [
              0.4444444444444444,
              "#bd3786"
             ],
             [
              0.5555555555555556,
              "#d8576b"
             ],
             [
              0.6666666666666666,
              "#ed7953"
             ],
             [
              0.7777777777777778,
              "#fb9f3a"
             ],
             [
              0.8888888888888888,
              "#fdca26"
             ],
             [
              1,
              "#f0f921"
             ]
            ],
            "type": "histogram2d"
           }
          ],
          "histogram2dcontour": [
           {
            "colorbar": {
             "outlinewidth": 0,
             "ticks": ""
            },
            "colorscale": [
             [
              0,
              "#0d0887"
             ],
             [
              0.1111111111111111,
              "#46039f"
             ],
             [
              0.2222222222222222,
              "#7201a8"
             ],
             [
              0.3333333333333333,
              "#9c179e"
             ],
             [
              0.4444444444444444,
              "#bd3786"
             ],
             [
              0.5555555555555556,
              "#d8576b"
             ],
             [
              0.6666666666666666,
              "#ed7953"
             ],
             [
              0.7777777777777778,
              "#fb9f3a"
             ],
             [
              0.8888888888888888,
              "#fdca26"
             ],
             [
              1,
              "#f0f921"
             ]
            ],
            "type": "histogram2dcontour"
           }
          ],
          "mesh3d": [
           {
            "colorbar": {
             "outlinewidth": 0,
             "ticks": ""
            },
            "type": "mesh3d"
           }
          ],
          "parcoords": [
           {
            "line": {
             "colorbar": {
              "outlinewidth": 0,
              "ticks": ""
             }
            },
            "type": "parcoords"
           }
          ],
          "pie": [
           {
            "automargin": true,
            "type": "pie"
           }
          ],
          "scatter": [
           {
            "marker": {
             "colorbar": {
              "outlinewidth": 0,
              "ticks": ""
             }
            },
            "type": "scatter"
           }
          ],
          "scatter3d": [
           {
            "line": {
             "colorbar": {
              "outlinewidth": 0,
              "ticks": ""
             }
            },
            "marker": {
             "colorbar": {
              "outlinewidth": 0,
              "ticks": ""
             }
            },
            "type": "scatter3d"
           }
          ],
          "scattercarpet": [
           {
            "marker": {
             "colorbar": {
              "outlinewidth": 0,
              "ticks": ""
             }
            },
            "type": "scattercarpet"
           }
          ],
          "scattergeo": [
           {
            "marker": {
             "colorbar": {
              "outlinewidth": 0,
              "ticks": ""
             }
            },
            "type": "scattergeo"
           }
          ],
          "scattergl": [
           {
            "marker": {
             "colorbar": {
              "outlinewidth": 0,
              "ticks": ""
             }
            },
            "type": "scattergl"
           }
          ],
          "scattermapbox": [
           {
            "marker": {
             "colorbar": {
              "outlinewidth": 0,
              "ticks": ""
             }
            },
            "type": "scattermapbox"
           }
          ],
          "scatterpolar": [
           {
            "marker": {
             "colorbar": {
              "outlinewidth": 0,
              "ticks": ""
             }
            },
            "type": "scatterpolar"
           }
          ],
          "scatterpolargl": [
           {
            "marker": {
             "colorbar": {
              "outlinewidth": 0,
              "ticks": ""
             }
            },
            "type": "scatterpolargl"
           }
          ],
          "scatterternary": [
           {
            "marker": {
             "colorbar": {
              "outlinewidth": 0,
              "ticks": ""
             }
            },
            "type": "scatterternary"
           }
          ],
          "surface": [
           {
            "colorbar": {
             "outlinewidth": 0,
             "ticks": ""
            },
            "colorscale": [
             [
              0,
              "#0d0887"
             ],
             [
              0.1111111111111111,
              "#46039f"
             ],
             [
              0.2222222222222222,
              "#7201a8"
             ],
             [
              0.3333333333333333,
              "#9c179e"
             ],
             [
              0.4444444444444444,
              "#bd3786"
             ],
             [
              0.5555555555555556,
              "#d8576b"
             ],
             [
              0.6666666666666666,
              "#ed7953"
             ],
             [
              0.7777777777777778,
              "#fb9f3a"
             ],
             [
              0.8888888888888888,
              "#fdca26"
             ],
             [
              1,
              "#f0f921"
             ]
            ],
            "type": "surface"
           }
          ],
          "table": [
           {
            "cells": {
             "fill": {
              "color": "#EBF0F8"
             },
             "line": {
              "color": "white"
             }
            },
            "header": {
             "fill": {
              "color": "#C8D4E3"
             },
             "line": {
              "color": "white"
             }
            },
            "type": "table"
           }
          ]
         },
         "layout": {
          "annotationdefaults": {
           "arrowcolor": "#2a3f5f",
           "arrowhead": 0,
           "arrowwidth": 1
          },
          "coloraxis": {
           "colorbar": {
            "outlinewidth": 0,
            "ticks": ""
           }
          },
          "colorscale": {
           "diverging": [
            [
             0,
             "#8e0152"
            ],
            [
             0.1,
             "#c51b7d"
            ],
            [
             0.2,
             "#de77ae"
            ],
            [
             0.3,
             "#f1b6da"
            ],
            [
             0.4,
             "#fde0ef"
            ],
            [
             0.5,
             "#f7f7f7"
            ],
            [
             0.6,
             "#e6f5d0"
            ],
            [
             0.7,
             "#b8e186"
            ],
            [
             0.8,
             "#7fbc41"
            ],
            [
             0.9,
             "#4d9221"
            ],
            [
             1,
             "#276419"
            ]
           ],
           "sequential": [
            [
             0,
             "#0d0887"
            ],
            [
             0.1111111111111111,
             "#46039f"
            ],
            [
             0.2222222222222222,
             "#7201a8"
            ],
            [
             0.3333333333333333,
             "#9c179e"
            ],
            [
             0.4444444444444444,
             "#bd3786"
            ],
            [
             0.5555555555555556,
             "#d8576b"
            ],
            [
             0.6666666666666666,
             "#ed7953"
            ],
            [
             0.7777777777777778,
             "#fb9f3a"
            ],
            [
             0.8888888888888888,
             "#fdca26"
            ],
            [
             1,
             "#f0f921"
            ]
           ],
           "sequentialminus": [
            [
             0,
             "#0d0887"
            ],
            [
             0.1111111111111111,
             "#46039f"
            ],
            [
             0.2222222222222222,
             "#7201a8"
            ],
            [
             0.3333333333333333,
             "#9c179e"
            ],
            [
             0.4444444444444444,
             "#bd3786"
            ],
            [
             0.5555555555555556,
             "#d8576b"
            ],
            [
             0.6666666666666666,
             "#ed7953"
            ],
            [
             0.7777777777777778,
             "#fb9f3a"
            ],
            [
             0.8888888888888888,
             "#fdca26"
            ],
            [
             1,
             "#f0f921"
            ]
           ]
          },
          "colorway": [
           "#636efa",
           "#EF553B",
           "#00cc96",
           "#ab63fa",
           "#FFA15A",
           "#19d3f3",
           "#FF6692",
           "#B6E880",
           "#FF97FF",
           "#FECB52"
          ],
          "font": {
           "color": "#2a3f5f"
          },
          "geo": {
           "bgcolor": "white",
           "lakecolor": "white",
           "landcolor": "#E5ECF6",
           "showlakes": true,
           "showland": true,
           "subunitcolor": "white"
          },
          "hoverlabel": {
           "align": "left"
          },
          "hovermode": "closest",
          "mapbox": {
           "style": "light"
          },
          "paper_bgcolor": "white",
          "plot_bgcolor": "#E5ECF6",
          "polar": {
           "angularaxis": {
            "gridcolor": "white",
            "linecolor": "white",
            "ticks": ""
           },
           "bgcolor": "#E5ECF6",
           "radialaxis": {
            "gridcolor": "white",
            "linecolor": "white",
            "ticks": ""
           }
          },
          "scene": {
           "xaxis": {
            "backgroundcolor": "#E5ECF6",
            "gridcolor": "white",
            "gridwidth": 2,
            "linecolor": "white",
            "showbackground": true,
            "ticks": "",
            "zerolinecolor": "white"
           },
           "yaxis": {
            "backgroundcolor": "#E5ECF6",
            "gridcolor": "white",
            "gridwidth": 2,
            "linecolor": "white",
            "showbackground": true,
            "ticks": "",
            "zerolinecolor": "white"
           },
           "zaxis": {
            "backgroundcolor": "#E5ECF6",
            "gridcolor": "white",
            "gridwidth": 2,
            "linecolor": "white",
            "showbackground": true,
            "ticks": "",
            "zerolinecolor": "white"
           }
          },
          "shapedefaults": {
           "line": {
            "color": "#2a3f5f"
           }
          },
          "ternary": {
           "aaxis": {
            "gridcolor": "white",
            "linecolor": "white",
            "ticks": ""
           },
           "baxis": {
            "gridcolor": "white",
            "linecolor": "white",
            "ticks": ""
           },
           "bgcolor": "#E5ECF6",
           "caxis": {
            "gridcolor": "white",
            "linecolor": "white",
            "ticks": ""
           }
          },
          "title": {
           "x": 0.05
          },
          "xaxis": {
           "automargin": true,
           "gridcolor": "white",
           "linecolor": "white",
           "ticks": "",
           "title": {
            "standoff": 15
           },
           "zerolinecolor": "white",
           "zerolinewidth": 2
          },
          "yaxis": {
           "automargin": true,
           "gridcolor": "white",
           "linecolor": "white",
           "ticks": "",
           "title": {
            "standoff": 15
           },
           "zerolinecolor": "white",
           "zerolinewidth": 2
          }
         }
        },
        "title": {
         "text": "Most popular baby names of 1996"
        },
        "updatemenus": [
         {
          "buttons": [
           {
            "args": [
             null,
             {
              "frame": {
               "duration": 2000,
               "redraw": true
              },
              "fromcurrent": true
             }
            ],
            "label": "Play",
            "method": "animate"
           },
           {
            "args": [
             [
              null
             ],
             {
              "frame": {
               "duration": 0,
               "redraw": false
              },
              "mode": "immediate",
              "transition": {
               "duration": 0
              }
             }
            ],
            "label": "Stop",
            "method": "animate"
           }
          ],
          "type": "buttons"
         }
        ],
        "xaxis": {
         "showline": false,
         "visible": false
        },
        "yaxis": {
         "range": [
          0,
          299
         ],
         "showline": false,
         "visible": false
        }
       }
      },
      "text/html": [
       "<div>                            <div id=\"7008aee2-407e-4fbc-b8cd-daa5bc8dce25\" class=\"plotly-graph-div\" style=\"height:525px; width:100%;\"></div>            <script type=\"text/javascript\">                require([\"plotly\"], function(Plotly) {                    window.PLOTLYENV=window.PLOTLYENV || {};                                    if (document.getElementById(\"7008aee2-407e-4fbc-b8cd-daa5bc8dce25\")) {                    Plotly.newPlot(                        \"7008aee2-407e-4fbc-b8cd-daa5bc8dce25\",                        [{\"cliponaxis\": false, \"hoverinfo\": \"none\", \"marker\": {\"color\": [\"rgb(223, 4, 38)\", \"rgb(177, 34, 36)\", \"rgb(132, 136, 19)\", \"rgb(205, 40, 126)\", \"rgb(152, 133, 135)\", \"rgb(133, 75, 35)\", \"rgb(217, 141, 4)\", \"rgb(158, 151, 172)\", \"rgb(165, 10, 135)\", \"rgb(247, 126, 0)\"]}, \"textposition\": \"outside\", \"texttemplate\": \"%{x}<br>%{y}\", \"type\": \"bar\", \"x\": [\"LAURA\", \"MARIA\", \"MARTA\", \"ANDREA\", \"ANNA\", \"PAULA\", \"ALBA\", \"SARA\", \"LAIA\", \"CLAUDIA\"], \"y\": [237, 219, 206, 199, 195, 186, 142, 125, 123, 122]}],                        {\"bargap\": 0.15, \"font\": {\"size\": 14}, \"plot_bgcolor\": \"#FFFFFF\", \"template\": {\"data\": {\"bar\": [{\"error_x\": {\"color\": \"#2a3f5f\"}, \"error_y\": {\"color\": \"#2a3f5f\"}, \"marker\": {\"line\": {\"color\": \"#E5ECF6\", \"width\": 0.5}}, \"type\": \"bar\"}], \"barpolar\": [{\"marker\": {\"line\": {\"color\": \"#E5ECF6\", \"width\": 0.5}}, \"type\": \"barpolar\"}], \"carpet\": [{\"aaxis\": {\"endlinecolor\": \"#2a3f5f\", \"gridcolor\": \"white\", \"linecolor\": \"white\", \"minorgridcolor\": \"white\", \"startlinecolor\": \"#2a3f5f\"}, \"baxis\": {\"endlinecolor\": \"#2a3f5f\", \"gridcolor\": \"white\", \"linecolor\": \"white\", \"minorgridcolor\": \"white\", \"startlinecolor\": \"#2a3f5f\"}, \"type\": \"carpet\"}], \"choropleth\": [{\"colorbar\": {\"outlinewidth\": 0, \"ticks\": \"\"}, \"type\": \"choropleth\"}], \"contour\": [{\"colorbar\": {\"outlinewidth\": 0, \"ticks\": \"\"}, \"colorscale\": [[0.0, \"#0d0887\"], [0.1111111111111111, \"#46039f\"], [0.2222222222222222, \"#7201a8\"], [0.3333333333333333, \"#9c179e\"], [0.4444444444444444, \"#bd3786\"], [0.5555555555555556, \"#d8576b\"], [0.6666666666666666, \"#ed7953\"], [0.7777777777777778, \"#fb9f3a\"], [0.8888888888888888, \"#fdca26\"], [1.0, \"#f0f921\"]], \"type\": \"contour\"}], \"contourcarpet\": [{\"colorbar\": {\"outlinewidth\": 0, \"ticks\": \"\"}, \"type\": \"contourcarpet\"}], \"heatmap\": [{\"colorbar\": {\"outlinewidth\": 0, \"ticks\": \"\"}, \"colorscale\": [[0.0, \"#0d0887\"], [0.1111111111111111, \"#46039f\"], [0.2222222222222222, \"#7201a8\"], [0.3333333333333333, \"#9c179e\"], [0.4444444444444444, \"#bd3786\"], [0.5555555555555556, \"#d8576b\"], [0.6666666666666666, \"#ed7953\"], [0.7777777777777778, \"#fb9f3a\"], [0.8888888888888888, \"#fdca26\"], [1.0, \"#f0f921\"]], \"type\": \"heatmap\"}], \"heatmapgl\": [{\"colorbar\": {\"outlinewidth\": 0, \"ticks\": \"\"}, \"colorscale\": [[0.0, \"#0d0887\"], [0.1111111111111111, \"#46039f\"], [0.2222222222222222, \"#7201a8\"], [0.3333333333333333, \"#9c179e\"], [0.4444444444444444, \"#bd3786\"], [0.5555555555555556, \"#d8576b\"], [0.6666666666666666, \"#ed7953\"], [0.7777777777777778, \"#fb9f3a\"], [0.8888888888888888, \"#fdca26\"], [1.0, \"#f0f921\"]], \"type\": \"heatmapgl\"}], \"histogram\": [{\"marker\": {\"colorbar\": {\"outlinewidth\": 0, \"ticks\": \"\"}}, \"type\": \"histogram\"}], \"histogram2d\": [{\"colorbar\": {\"outlinewidth\": 0, \"ticks\": \"\"}, \"colorscale\": [[0.0, \"#0d0887\"], [0.1111111111111111, \"#46039f\"], [0.2222222222222222, \"#7201a8\"], [0.3333333333333333, \"#9c179e\"], [0.4444444444444444, \"#bd3786\"], [0.5555555555555556, \"#d8576b\"], [0.6666666666666666, \"#ed7953\"], [0.7777777777777778, \"#fb9f3a\"], [0.8888888888888888, \"#fdca26\"], [1.0, \"#f0f921\"]], \"type\": \"histogram2d\"}], \"histogram2dcontour\": [{\"colorbar\": {\"outlinewidth\": 0, \"ticks\": \"\"}, \"colorscale\": [[0.0, \"#0d0887\"], [0.1111111111111111, \"#46039f\"], [0.2222222222222222, \"#7201a8\"], [0.3333333333333333, \"#9c179e\"], [0.4444444444444444, \"#bd3786\"], [0.5555555555555556, \"#d8576b\"], [0.6666666666666666, \"#ed7953\"], [0.7777777777777778, \"#fb9f3a\"], [0.8888888888888888, \"#fdca26\"], [1.0, \"#f0f921\"]], \"type\": \"histogram2dcontour\"}], \"mesh3d\": [{\"colorbar\": {\"outlinewidth\": 0, \"ticks\": \"\"}, \"type\": \"mesh3d\"}], \"parcoords\": [{\"line\": {\"colorbar\": {\"outlinewidth\": 0, \"ticks\": \"\"}}, \"type\": \"parcoords\"}], \"pie\": [{\"automargin\": true, \"type\": \"pie\"}], \"scatter\": [{\"marker\": {\"colorbar\": {\"outlinewidth\": 0, \"ticks\": \"\"}}, \"type\": \"scatter\"}], \"scatter3d\": [{\"line\": {\"colorbar\": {\"outlinewidth\": 0, \"ticks\": \"\"}}, \"marker\": {\"colorbar\": {\"outlinewidth\": 0, \"ticks\": \"\"}}, \"type\": \"scatter3d\"}], \"scattercarpet\": [{\"marker\": {\"colorbar\": {\"outlinewidth\": 0, \"ticks\": \"\"}}, \"type\": \"scattercarpet\"}], \"scattergeo\": [{\"marker\": {\"colorbar\": {\"outlinewidth\": 0, \"ticks\": \"\"}}, \"type\": \"scattergeo\"}], \"scattergl\": [{\"marker\": {\"colorbar\": {\"outlinewidth\": 0, \"ticks\": \"\"}}, \"type\": \"scattergl\"}], \"scattermapbox\": [{\"marker\": {\"colorbar\": {\"outlinewidth\": 0, \"ticks\": \"\"}}, \"type\": \"scattermapbox\"}], \"scatterpolar\": [{\"marker\": {\"colorbar\": {\"outlinewidth\": 0, \"ticks\": \"\"}}, \"type\": \"scatterpolar\"}], \"scatterpolargl\": [{\"marker\": {\"colorbar\": {\"outlinewidth\": 0, \"ticks\": \"\"}}, \"type\": \"scatterpolargl\"}], \"scatterternary\": [{\"marker\": {\"colorbar\": {\"outlinewidth\": 0, \"ticks\": \"\"}}, \"type\": \"scatterternary\"}], \"surface\": [{\"colorbar\": {\"outlinewidth\": 0, \"ticks\": \"\"}, \"colorscale\": [[0.0, \"#0d0887\"], [0.1111111111111111, \"#46039f\"], [0.2222222222222222, \"#7201a8\"], [0.3333333333333333, \"#9c179e\"], [0.4444444444444444, \"#bd3786\"], [0.5555555555555556, \"#d8576b\"], [0.6666666666666666, \"#ed7953\"], [0.7777777777777778, \"#fb9f3a\"], [0.8888888888888888, \"#fdca26\"], [1.0, \"#f0f921\"]], \"type\": \"surface\"}], \"table\": [{\"cells\": {\"fill\": {\"color\": \"#EBF0F8\"}, \"line\": {\"color\": \"white\"}}, \"header\": {\"fill\": {\"color\": \"#C8D4E3\"}, \"line\": {\"color\": \"white\"}}, \"type\": \"table\"}]}, \"layout\": {\"annotationdefaults\": {\"arrowcolor\": \"#2a3f5f\", \"arrowhead\": 0, \"arrowwidth\": 1}, \"coloraxis\": {\"colorbar\": {\"outlinewidth\": 0, \"ticks\": \"\"}}, \"colorscale\": {\"diverging\": [[0, \"#8e0152\"], [0.1, \"#c51b7d\"], [0.2, \"#de77ae\"], [0.3, \"#f1b6da\"], [0.4, \"#fde0ef\"], [0.5, \"#f7f7f7\"], [0.6, \"#e6f5d0\"], [0.7, \"#b8e186\"], [0.8, \"#7fbc41\"], [0.9, \"#4d9221\"], [1, \"#276419\"]], \"sequential\": [[0.0, \"#0d0887\"], [0.1111111111111111, \"#46039f\"], [0.2222222222222222, \"#7201a8\"], [0.3333333333333333, \"#9c179e\"], [0.4444444444444444, \"#bd3786\"], [0.5555555555555556, \"#d8576b\"], [0.6666666666666666, \"#ed7953\"], [0.7777777777777778, \"#fb9f3a\"], [0.8888888888888888, \"#fdca26\"], [1.0, \"#f0f921\"]], \"sequentialminus\": [[0.0, \"#0d0887\"], [0.1111111111111111, \"#46039f\"], [0.2222222222222222, \"#7201a8\"], [0.3333333333333333, \"#9c179e\"], [0.4444444444444444, \"#bd3786\"], [0.5555555555555556, \"#d8576b\"], [0.6666666666666666, \"#ed7953\"], [0.7777777777777778, \"#fb9f3a\"], [0.8888888888888888, \"#fdca26\"], [1.0, \"#f0f921\"]]}, \"colorway\": [\"#636efa\", \"#EF553B\", \"#00cc96\", \"#ab63fa\", \"#FFA15A\", \"#19d3f3\", \"#FF6692\", \"#B6E880\", \"#FF97FF\", \"#FECB52\"], \"font\": {\"color\": \"#2a3f5f\"}, \"geo\": {\"bgcolor\": \"white\", \"lakecolor\": \"white\", \"landcolor\": \"#E5ECF6\", \"showlakes\": true, \"showland\": true, \"subunitcolor\": \"white\"}, \"hoverlabel\": {\"align\": \"left\"}, \"hovermode\": \"closest\", \"mapbox\": {\"style\": \"light\"}, \"paper_bgcolor\": \"white\", \"plot_bgcolor\": \"#E5ECF6\", \"polar\": {\"angularaxis\": {\"gridcolor\": \"white\", \"linecolor\": \"white\", \"ticks\": \"\"}, \"bgcolor\": \"#E5ECF6\", \"radialaxis\": {\"gridcolor\": \"white\", \"linecolor\": \"white\", \"ticks\": \"\"}}, \"scene\": {\"xaxis\": {\"backgroundcolor\": \"#E5ECF6\", \"gridcolor\": \"white\", \"gridwidth\": 2, \"linecolor\": \"white\", \"showbackground\": true, \"ticks\": \"\", \"zerolinecolor\": \"white\"}, \"yaxis\": {\"backgroundcolor\": \"#E5ECF6\", \"gridcolor\": \"white\", \"gridwidth\": 2, \"linecolor\": \"white\", \"showbackground\": true, \"ticks\": \"\", \"zerolinecolor\": \"white\"}, \"zaxis\": {\"backgroundcolor\": \"#E5ECF6\", \"gridcolor\": \"white\", \"gridwidth\": 2, \"linecolor\": \"white\", \"showbackground\": true, \"ticks\": \"\", \"zerolinecolor\": \"white\"}}, \"shapedefaults\": {\"line\": {\"color\": \"#2a3f5f\"}}, \"ternary\": {\"aaxis\": {\"gridcolor\": \"white\", \"linecolor\": \"white\", \"ticks\": \"\"}, \"baxis\": {\"gridcolor\": \"white\", \"linecolor\": \"white\", \"ticks\": \"\"}, \"bgcolor\": \"#E5ECF6\", \"caxis\": {\"gridcolor\": \"white\", \"linecolor\": \"white\", \"ticks\": \"\"}}, \"title\": {\"x\": 0.05}, \"xaxis\": {\"automargin\": true, \"gridcolor\": \"white\", \"linecolor\": \"white\", \"ticks\": \"\", \"title\": {\"standoff\": 15}, \"zerolinecolor\": \"white\", \"zerolinewidth\": 2}, \"yaxis\": {\"automargin\": true, \"gridcolor\": \"white\", \"linecolor\": \"white\", \"ticks\": \"\", \"title\": {\"standoff\": 15}, \"zerolinecolor\": \"white\", \"zerolinewidth\": 2}}}, \"title\": {\"text\": \"Most popular baby names of 1996\"}, \"updatemenus\": [{\"buttons\": [{\"args\": [null, {\"frame\": {\"duration\": 2000, \"redraw\": true}, \"fromcurrent\": true}], \"label\": \"Play\", \"method\": \"animate\"}, {\"args\": [[null], {\"frame\": {\"duration\": 0, \"redraw\": false}, \"mode\": \"immediate\", \"transition\": {\"duration\": 0}}], \"label\": \"Stop\", \"method\": \"animate\"}], \"type\": \"buttons\"}], \"xaxis\": {\"showline\": false, \"visible\": false}, \"yaxis\": {\"range\": [0, 299], \"showline\": false, \"visible\": false}},                        {\"responsive\": true}                    ).then(function(){\n",
       "                            Plotly.addFrames('7008aee2-407e-4fbc-b8cd-daa5bc8dce25', [{\"data\": [{\"cliponaxis\": false, \"hoverinfo\": \"none\", \"marker\": {\"color\": [\"rgb(223, 4, 38)\", \"rgb(177, 34, 36)\", \"rgb(132, 136, 19)\", \"rgb(205, 40, 126)\", \"rgb(152, 133, 135)\", \"rgb(133, 75, 35)\", \"rgb(217, 141, 4)\", \"rgb(158, 151, 172)\", \"rgb(165, 10, 135)\", \"rgb(247, 126, 0)\"]}, \"textposition\": \"outside\", \"texttemplate\": \"%{x}<br>%{y}\", \"x\": [\"LAURA\", \"MARIA\", \"MARTA\", \"ANDREA\", \"ANNA\", \"PAULA\", \"ALBA\", \"SARA\", \"LAIA\", \"CLAUDIA\"], \"y\": [237, 219, 206, 199, 195, 186, 142, 125, 123, 122], \"type\": \"bar\"}], \"layout\": {\"bargap\": 0.15, \"font\": {\"size\": 14}, \"plot_bgcolor\": \"#FFFFFF\", \"title\": {\"text\": \"Most popular baby names of 1996\"}, \"xaxis\": {\"showline\": false, \"visible\": false}, \"yaxis\": {\"showline\": false, \"visible\": false}}}, {\"data\": [{\"cliponaxis\": false, \"hoverinfo\": \"none\", \"marker\": {\"color\": [\"rgb(177, 34, 36)\", \"rgb(223, 4, 38)\", \"rgb(132, 136, 19)\", \"rgb(205, 40, 126)\", \"rgb(133, 75, 35)\", \"rgb(165, 10, 135)\", \"rgb(152, 133, 135)\", \"rgb(217, 141, 4)\", \"rgb(235, 1, 55)\", \"rgb(238, 131, 95)\"]}, \"textposition\": \"outside\", \"texttemplate\": \"%{x}<br>%{y}\", \"x\": [\"MARIA\", \"LAURA\", \"MARTA\", \"ANDREA\", \"PAULA\", \"LAIA\", \"ANNA\", \"ALBA\", \"JULIA\", \"CARLA\"], \"y\": [241, 229, 211, 209, 205, 158, 146, 134, 132, 118], \"type\": \"bar\"}], \"layout\": {\"bargap\": 0.15, \"font\": {\"size\": 14}, \"plot_bgcolor\": \"#FFFFFF\", \"title\": {\"text\": \"Most popular baby names of 1997\"}, \"xaxis\": {\"showline\": false, \"visible\": false}, \"yaxis\": {\"showline\": false, \"visible\": false}}}, {\"data\": [{\"cliponaxis\": false, \"hoverinfo\": \"none\", \"marker\": {\"color\": [\"rgb(177, 34, 36)\", \"rgb(223, 4, 38)\", \"rgb(133, 75, 35)\", \"rgb(132, 136, 19)\", \"rgb(205, 40, 126)\", \"rgb(152, 133, 135)\", \"rgb(165, 10, 135)\", \"rgb(235, 1, 55)\", \"rgb(238, 131, 95)\", \"rgb(247, 126, 0)\"]}, \"textposition\": \"outside\", \"texttemplate\": \"%{x}<br>%{y}\", \"x\": [\"MARIA\", \"LAURA\", \"PAULA\", \"MARTA\", \"ANDREA\", \"ANNA\", \"LAIA\", \"JULIA\", \"CARLA\", \"CLAUDIA\"], \"y\": [265, 202, 175, 166, 161, 149, 148, 124, 119, 110], \"type\": \"bar\"}], \"layout\": {\"bargap\": 0.15, \"font\": {\"size\": 14}, \"plot_bgcolor\": \"#FFFFFF\", \"title\": {\"text\": \"Most popular baby names of 1998\"}, \"xaxis\": {\"showline\": false, \"visible\": false}, \"yaxis\": {\"showline\": false, \"visible\": false}}}, {\"data\": [{\"cliponaxis\": false, \"hoverinfo\": \"none\", \"marker\": {\"color\": [\"rgb(177, 34, 36)\", \"rgb(223, 4, 38)\", \"rgb(133, 75, 35)\", \"rgb(205, 40, 126)\", \"rgb(132, 136, 19)\", \"rgb(152, 133, 135)\", \"rgb(165, 10, 135)\", \"rgb(238, 131, 95)\", \"rgb(235, 1, 55)\", \"rgb(253, 99, 98)\"]}, \"textposition\": \"outside\", \"texttemplate\": \"%{x}<br>%{y}\", \"x\": [\"MARIA\", \"LAURA\", \"PAULA\", \"ANDREA\", \"MARTA\", \"ANNA\", \"LAIA\", \"CARLA\", \"JULIA\", \"MARINA\"], \"y\": [299, 209, 207, 187, 182, 141, 132, 128, 120, 116], \"type\": \"bar\"}], \"layout\": {\"bargap\": 0.15, \"font\": {\"size\": 14}, \"plot_bgcolor\": \"#FFFFFF\", \"title\": {\"text\": \"Most popular baby names of 1999\"}, \"xaxis\": {\"showline\": false, \"visible\": false}, \"yaxis\": {\"showline\": false, \"visible\": false}}}, {\"data\": [{\"cliponaxis\": false, \"hoverinfo\": \"none\", \"marker\": {\"color\": [\"rgb(177, 34, 36)\", \"rgb(223, 4, 38)\", \"rgb(133, 75, 35)\", \"rgb(152, 133, 135)\", \"rgb(205, 40, 126)\", \"rgb(132, 136, 19)\", \"rgb(235, 1, 55)\", \"rgb(217, 141, 4)\", \"rgb(238, 131, 95)\", \"rgb(165, 10, 135)\"]}, \"textposition\": \"outside\", \"texttemplate\": \"%{x}<br>%{y}\", \"x\": [\"MARIA\", \"LAURA\", \"PAULA\", \"ANNA\", \"ANDREA\", \"MARTA\", \"JULIA\", \"ALBA\", \"CARLA\", \"LAIA\"], \"y\": [268, 222, 221, 180, 162, 157, 144, 137, 137, 132], \"type\": \"bar\"}], \"layout\": {\"bargap\": 0.15, \"font\": {\"size\": 14}, \"plot_bgcolor\": \"#FFFFFF\", \"title\": {\"text\": \"Most popular baby names of 2000\"}, \"xaxis\": {\"showline\": false, \"visible\": false}, \"yaxis\": {\"showline\": false, \"visible\": false}}}, {\"data\": [{\"cliponaxis\": false, \"hoverinfo\": \"none\", \"marker\": {\"color\": [\"rgb(177, 34, 36)\", \"rgb(133, 75, 35)\", \"rgb(223, 4, 38)\", \"rgb(132, 136, 19)\", \"rgb(238, 131, 95)\", \"rgb(152, 133, 135)\", \"rgb(165, 10, 135)\", \"rgb(235, 1, 55)\", \"rgb(217, 141, 4)\", \"rgb(205, 40, 126)\"]}, \"textposition\": \"outside\", \"texttemplate\": \"%{x}<br>%{y}\", \"x\": [\"MARIA\", \"PAULA\", \"LAURA\", \"MARTA\", \"CARLA\", \"ANNA\", \"LAIA\", \"JULIA\", \"ALBA\", \"ANDREA\"], \"y\": [243, 187, 175, 157, 153, 152, 143, 138, 131, 129], \"type\": \"bar\"}], \"layout\": {\"bargap\": 0.15, \"font\": {\"size\": 14}, \"plot_bgcolor\": \"#FFFFFF\", \"title\": {\"text\": \"Most popular baby names of 2001\"}, \"xaxis\": {\"showline\": false, \"visible\": false}, \"yaxis\": {\"showline\": false, \"visible\": false}}}, {\"data\": [{\"cliponaxis\": false, \"hoverinfo\": \"none\", \"marker\": {\"color\": [\"rgb(177, 34, 36)\", \"rgb(133, 75, 35)\", \"rgb(132, 136, 19)\", \"rgb(223, 4, 38)\", \"rgb(217, 141, 4)\", \"rgb(238, 131, 95)\", \"rgb(165, 10, 135)\", \"rgb(235, 1, 55)\", \"rgb(152, 133, 135)\", \"rgb(247, 126, 0)\"]}, \"textposition\": \"outside\", \"texttemplate\": \"%{x}<br>%{y}\", \"x\": [\"MARIA\", \"PAULA\", \"MARTA\", \"LAURA\", \"ALBA\", \"CARLA\", \"LAIA\", \"JULIA\", \"ANNA\", \"CLAUDIA\"], \"y\": [243, 197, 162, 161, 147, 142, 137, 134, 132, 124], \"type\": \"bar\"}], \"layout\": {\"bargap\": 0.15, \"font\": {\"size\": 14}, \"plot_bgcolor\": \"#FFFFFF\", \"title\": {\"text\": \"Most popular baby names of 2002\"}, \"xaxis\": {\"showline\": false, \"visible\": false}, \"yaxis\": {\"showline\": false, \"visible\": false}}}, {\"data\": [{\"cliponaxis\": false, \"hoverinfo\": \"none\", \"marker\": {\"color\": [\"rgb(177, 34, 36)\", \"rgb(133, 75, 35)\", \"rgb(238, 131, 95)\", \"rgb(165, 10, 135)\", \"rgb(223, 4, 38)\", \"rgb(217, 141, 4)\", \"rgb(152, 133, 135)\", \"rgb(132, 136, 19)\", \"rgb(235, 1, 55)\", \"rgb(205, 40, 126)\"]}, \"textposition\": \"outside\", \"texttemplate\": \"%{x}<br>%{y}\", \"x\": [\"MARIA\", \"PAULA\", \"CARLA\", \"LAIA\", \"LAURA\", \"ALBA\", \"ANNA\", \"MARTA\", \"JULIA\", \"ANDREA\"], \"y\": [196, 192, 165, 158, 148, 135, 135, 131, 128, 126], \"type\": \"bar\"}], \"layout\": {\"bargap\": 0.15, \"font\": {\"size\": 14}, \"plot_bgcolor\": \"#FFFFFF\", \"title\": {\"text\": \"Most popular baby names of 2003\"}, \"xaxis\": {\"showline\": false, \"visible\": false}, \"yaxis\": {\"showline\": false, \"visible\": false}}}, {\"data\": [{\"cliponaxis\": false, \"hoverinfo\": \"none\", \"marker\": {\"color\": [\"rgb(177, 34, 36)\", \"rgb(133, 75, 35)\", \"rgb(165, 10, 135)\", \"rgb(235, 1, 55)\", \"rgb(145, 34, 77)\", \"rgb(238, 131, 95)\", \"rgb(223, 4, 38)\", \"rgb(247, 126, 0)\", \"rgb(217, 141, 4)\", \"rgb(152, 133, 135)\"]}, \"textposition\": \"outside\", \"texttemplate\": \"%{x}<br>%{y}\", \"x\": [\"MARIA\", \"PAULA\", \"LAIA\", \"JULIA\", \"LUCIA\", \"CARLA\", \"LAURA\", \"CLAUDIA\", \"ALBA\", \"ANNA\"], \"y\": [200, 190, 184, 171, 171, 164, 146, 127, 122, 111], \"type\": \"bar\"}], \"layout\": {\"bargap\": 0.15, \"font\": {\"size\": 14}, \"plot_bgcolor\": \"#FFFFFF\", \"title\": {\"text\": \"Most popular baby names of 2004\"}, \"xaxis\": {\"showline\": false, \"visible\": false}, \"yaxis\": {\"showline\": false, \"visible\": false}}}, {\"data\": [{\"cliponaxis\": false, \"hoverinfo\": \"none\", \"marker\": {\"color\": [\"rgb(165, 10, 135)\", \"rgb(177, 34, 36)\", \"rgb(235, 1, 55)\", \"rgb(238, 131, 95)\", \"rgb(145, 34, 77)\", \"rgb(133, 75, 35)\", \"rgb(181, 133, 117)\", \"rgb(223, 4, 38)\", \"rgb(132, 136, 19)\", \"rgb(217, 141, 4)\"]}, \"textposition\": \"outside\", \"texttemplate\": \"%{x}<br>%{y}\", \"x\": [\"LAIA\", \"MARIA\", \"JULIA\", \"CARLA\", \"LUCIA\", \"PAULA\", \"MARTINA\", \"LAURA\", \"MARTA\", \"ALBA\"], \"y\": [200, 183, 182, 171, 165, 157, 144, 124, 122, 117], \"type\": \"bar\"}], \"layout\": {\"bargap\": 0.15, \"font\": {\"size\": 14}, \"plot_bgcolor\": \"#FFFFFF\", \"title\": {\"text\": \"Most popular baby names of 2005\"}, \"xaxis\": {\"showline\": false, \"visible\": false}, \"yaxis\": {\"showline\": false, \"visible\": false}}}, {\"data\": [{\"cliponaxis\": false, \"hoverinfo\": \"none\", \"marker\": {\"color\": [\"rgb(177, 34, 36)\", \"rgb(165, 10, 135)\", \"rgb(145, 34, 77)\", \"rgb(235, 1, 55)\", \"rgb(238, 131, 95)\", \"rgb(181, 133, 117)\", \"rgb(247, 126, 0)\", \"rgb(133, 75, 35)\", \"rgb(223, 4, 38)\", \"rgb(217, 141, 4)\"]}, \"textposition\": \"outside\", \"texttemplate\": \"%{x}<br>%{y}\", \"x\": [\"MARIA\", \"LAIA\", \"LUCIA\", \"JULIA\", \"CARLA\", \"MARTINA\", \"CLAUDIA\", \"PAULA\", \"LAURA\", \"ALBA\"], \"y\": [196, 180, 170, 160, 145, 129, 126, 122, 111, 101], \"type\": \"bar\"}], \"layout\": {\"bargap\": 0.15, \"font\": {\"size\": 14}, \"plot_bgcolor\": \"#FFFFFF\", \"title\": {\"text\": \"Most popular baby names of 2006\"}, \"xaxis\": {\"showline\": false, \"visible\": false}, \"yaxis\": {\"showline\": false, \"visible\": false}}}, {\"data\": [{\"cliponaxis\": false, \"hoverinfo\": \"none\", \"marker\": {\"color\": [\"rgb(145, 34, 77)\", \"rgb(177, 34, 36)\", \"rgb(181, 133, 117)\", \"rgb(165, 10, 135)\", \"rgb(235, 1, 55)\", \"rgb(238, 131, 95)\", \"rgb(133, 75, 35)\", \"rgb(247, 126, 0)\", \"rgb(158, 151, 172)\", \"rgb(236, 45, 102)\"]}, \"textposition\": \"outside\", \"texttemplate\": \"%{x}<br>%{y}\", \"x\": [\"LUCIA\", \"MARIA\", \"MARTINA\", \"LAIA\", \"JULIA\", \"CARLA\", \"PAULA\", \"CLAUDIA\", \"SARA\", \"JANA\"], \"y\": [159, 155, 152, 138, 130, 125, 124, 114, 100, 93], \"type\": \"bar\"}], \"layout\": {\"bargap\": 0.15, \"font\": {\"size\": 14}, \"plot_bgcolor\": \"#FFFFFF\", \"title\": {\"text\": \"Most popular baby names of 2007\"}, \"xaxis\": {\"showline\": false, \"visible\": false}, \"yaxis\": {\"showline\": false, \"visible\": false}}}, {\"data\": [{\"cliponaxis\": false, \"hoverinfo\": \"none\", \"marker\": {\"color\": [\"rgb(181, 133, 117)\", \"rgb(235, 1, 55)\", \"rgb(177, 34, 36)\", \"rgb(165, 10, 135)\", \"rgb(145, 34, 77)\", \"rgb(238, 131, 95)\", \"rgb(133, 75, 35)\", \"rgb(247, 126, 0)\", \"rgb(158, 151, 172)\", \"rgb(236, 45, 102)\"]}, \"textposition\": \"outside\", \"texttemplate\": \"%{x}<br>%{y}\", \"x\": [\"MARTINA\", \"JULIA\", \"MARIA\", \"LAIA\", \"LUCIA\", \"CARLA\", \"PAULA\", \"CLAUDIA\", \"SARA\", \"JANA\"], \"y\": [169, 162, 158, 156, 146, 139, 136, 113, 102, 92], \"type\": \"bar\"}], \"layout\": {\"bargap\": 0.15, \"font\": {\"size\": 14}, \"plot_bgcolor\": \"#FFFFFF\", \"title\": {\"text\": \"Most popular baby names of 2008\"}, \"xaxis\": {\"showline\": false, \"visible\": false}, \"yaxis\": {\"showline\": false, \"visible\": false}}}, {\"data\": [{\"cliponaxis\": false, \"hoverinfo\": \"none\", \"marker\": {\"color\": [\"rgb(181, 133, 117)\", \"rgb(165, 10, 135)\", \"rgb(177, 34, 36)\", \"rgb(133, 75, 35)\", \"rgb(145, 34, 77)\", \"rgb(235, 1, 55)\", \"rgb(238, 131, 95)\", \"rgb(247, 126, 0)\", \"rgb(161, 131, 14)\", \"rgb(182, 156, 178)\"]}, \"textposition\": \"outside\", \"texttemplate\": \"%{x}<br>%{y}\", \"x\": [\"MARTINA\", \"LAIA\", \"MARIA\", \"PAULA\", \"LUCIA\", \"JULIA\", \"CARLA\", \"CLAUDIA\", \"AINA\", \"SOFIA\"], \"y\": [167, 159, 154, 143, 138, 128, 118, 112, 88, 87], \"type\": \"bar\"}], \"layout\": {\"bargap\": 0.15, \"font\": {\"size\": 14}, \"plot_bgcolor\": \"#FFFFFF\", \"title\": {\"text\": \"Most popular baby names of 2009\"}, \"xaxis\": {\"showline\": false, \"visible\": false}, \"yaxis\": {\"showline\": false, \"visible\": false}}}, {\"data\": [{\"cliponaxis\": false, \"hoverinfo\": \"none\", \"marker\": {\"color\": [\"rgb(181, 133, 117)\", \"rgb(235, 1, 55)\", \"rgb(177, 34, 36)\", \"rgb(145, 34, 77)\", \"rgb(133, 75, 35)\", \"rgb(165, 10, 135)\", \"rgb(238, 131, 95)\", \"rgb(161, 131, 14)\", \"rgb(158, 151, 172)\", \"rgb(247, 126, 0)\"]}, \"textposition\": \"outside\", \"texttemplate\": \"%{x}<br>%{y}\", \"x\": [\"MARTINA\", \"JULIA\", \"MARIA\", \"LUCIA\", \"PAULA\", \"LAIA\", \"CARLA\", \"AINA\", \"SARA\", \"CLAUDIA\"], \"y\": [194, 173, 147, 139, 135, 128, 120, 109, 102, 101], \"type\": \"bar\"}], \"layout\": {\"bargap\": 0.15, \"font\": {\"size\": 14}, \"plot_bgcolor\": \"#FFFFFF\", \"title\": {\"text\": \"Most popular baby names of 2010\"}, \"xaxis\": {\"showline\": false, \"visible\": false}, \"yaxis\": {\"showline\": false, \"visible\": false}}}, {\"data\": [{\"cliponaxis\": false, \"hoverinfo\": \"none\", \"marker\": {\"color\": [\"rgb(181, 133, 117)\", \"rgb(235, 1, 55)\", \"rgb(165, 10, 135)\", \"rgb(177, 34, 36)\", \"rgb(145, 34, 77)\", \"rgb(133, 75, 35)\", \"rgb(182, 156, 178)\", \"rgb(238, 131, 95)\", \"rgb(229, 93, 148)\", \"rgb(247, 126, 0)\"]}, \"textposition\": \"outside\", \"texttemplate\": \"%{x}<br>%{y}\", \"x\": [\"MARTINA\", \"JULIA\", \"LAIA\", \"MARIA\", \"LUCIA\", \"PAULA\", \"SOFIA\", \"CARLA\", \"NOA\", \"CLAUDIA\"], \"y\": [157, 154, 146, 124, 123, 113, 109, 105, 104, 95], \"type\": \"bar\"}], \"layout\": {\"bargap\": 0.15, \"font\": {\"size\": 14}, \"plot_bgcolor\": \"#FFFFFF\", \"title\": {\"text\": \"Most popular baby names of 2011\"}, \"xaxis\": {\"showline\": false, \"visible\": false}, \"yaxis\": {\"showline\": false, \"visible\": false}}}, {\"data\": [{\"cliponaxis\": false, \"hoverinfo\": \"none\", \"marker\": {\"color\": [\"rgb(235, 1, 55)\", \"rgb(165, 10, 135)\", \"rgb(181, 133, 117)\", \"rgb(238, 131, 95)\", \"rgb(177, 34, 36)\", \"rgb(145, 34, 77)\", \"rgb(182, 156, 178)\", \"rgb(133, 75, 35)\", \"rgb(161, 131, 14)\", \"rgb(138, 28, 180)\"]}, \"textposition\": \"outside\", \"texttemplate\": \"%{x}<br>%{y}\", \"x\": [\"JULIA\", \"LAIA\", \"MARTINA\", \"CARLA\", \"MARIA\", \"LUCIA\", \"SOFIA\", \"PAULA\", \"AINA\", \"EMMA\"], \"y\": [158, 156, 152, 122, 121, 119, 100, 96, 94, 93], \"type\": \"bar\"}], \"layout\": {\"bargap\": 0.15, \"font\": {\"size\": 14}, \"plot_bgcolor\": \"#FFFFFF\", \"title\": {\"text\": \"Most popular baby names of 2012\"}, \"xaxis\": {\"showline\": false, \"visible\": false}, \"yaxis\": {\"showline\": false, \"visible\": false}}}, {\"data\": [{\"cliponaxis\": false, \"hoverinfo\": \"none\", \"marker\": {\"color\": [\"rgb(235, 1, 55)\", \"rgb(181, 133, 117)\", \"rgb(165, 10, 135)\", \"rgb(177, 34, 36)\", \"rgb(145, 34, 77)\", \"rgb(133, 75, 35)\", \"rgb(138, 28, 180)\", \"rgb(182, 156, 178)\", \"rgb(229, 93, 148)\", \"rgb(161, 131, 14)\"]}, \"textposition\": \"outside\", \"texttemplate\": \"%{x}<br>%{y}\", \"x\": [\"JULIA\", \"MARTINA\", \"LAIA\", \"MARIA\", \"LUCIA\", \"PAULA\", \"EMMA\", \"SOFIA\", \"NOA\", \"AINA\"], \"y\": [143, 137, 131, 117, 116, 111, 105, 102, 88, 87], \"type\": \"bar\"}], \"layout\": {\"bargap\": 0.15, \"font\": {\"size\": 14}, \"plot_bgcolor\": \"#FFFFFF\", \"title\": {\"text\": \"Most popular baby names of 2013\"}, \"xaxis\": {\"showline\": false, \"visible\": false}, \"yaxis\": {\"showline\": false, \"visible\": false}}}, {\"data\": [{\"cliponaxis\": false, \"hoverinfo\": \"none\", \"marker\": {\"color\": [\"rgb(165, 10, 135)\", \"rgb(181, 133, 117)\", \"rgb(235, 1, 55)\", \"rgb(138, 28, 180)\", \"rgb(229, 93, 148)\", \"rgb(182, 156, 178)\", \"rgb(177, 34, 36)\", \"rgb(190, 32, 109)\", \"rgb(238, 131, 95)\", \"rgb(145, 34, 77)\"]}, \"textposition\": \"outside\", \"texttemplate\": \"%{x}<br>%{y}\", \"x\": [\"LAIA\", \"MARTINA\", \"JULIA\", \"EMMA\", \"NOA\", \"SOFIA\", \"MARIA\", \"VALENTINA\", \"CARLA\", \"LUCIA\"], \"y\": [153, 134, 120, 117, 107, 106, 105, 99, 91, 89], \"type\": \"bar\"}], \"layout\": {\"bargap\": 0.15, \"font\": {\"size\": 14}, \"plot_bgcolor\": \"#FFFFFF\", \"title\": {\"text\": \"Most popular baby names of 2014\"}, \"xaxis\": {\"showline\": false, \"visible\": false}, \"yaxis\": {\"showline\": false, \"visible\": false}}}, {\"data\": [{\"cliponaxis\": false, \"hoverinfo\": \"none\", \"marker\": {\"color\": [\"rgb(138, 28, 180)\", \"rgb(235, 1, 55)\", \"rgb(145, 34, 77)\", \"rgb(181, 133, 117)\", \"rgb(177, 34, 36)\", \"rgb(182, 156, 178)\", \"rgb(165, 10, 135)\", \"rgb(229, 93, 148)\", \"rgb(161, 131, 14)\", \"rgb(133, 75, 35)\"]}, \"textposition\": \"outside\", \"texttemplate\": \"%{x}<br>%{y}\", \"x\": [\"EMMA\", \"JULIA\", \"LUCIA\", \"MARTINA\", \"MARIA\", \"SOFIA\", \"LAIA\", \"NOA\", \"AINA\", \"PAULA\"], \"y\": [145, 123, 120, 116, 106, 104, 103, 98, 92, 91], \"type\": \"bar\"}], \"layout\": {\"bargap\": 0.15, \"font\": {\"size\": 14}, \"plot_bgcolor\": \"#FFFFFF\", \"title\": {\"text\": \"Most popular baby names of 2015\"}, \"xaxis\": {\"showline\": false, \"visible\": false}, \"yaxis\": {\"showline\": false, \"visible\": false}}}, {\"data\": [{\"cliponaxis\": false, \"hoverinfo\": \"none\", \"marker\": {\"color\": [\"rgb(235, 1, 55)\", \"rgb(165, 10, 135)\", \"rgb(145, 34, 77)\", \"rgb(182, 156, 178)\", \"rgb(138, 28, 180)\", \"rgb(177, 34, 36)\", \"rgb(181, 133, 117)\", \"rgb(229, 93, 148)\", \"rgb(133, 75, 35)\", \"rgb(238, 131, 95)\"]}, \"textposition\": \"outside\", \"texttemplate\": \"%{x}<br>%{y}\", \"x\": [\"JULIA\", \"LAIA\", \"LUCIA\", \"SOFIA\", \"EMMA\", \"MARIA\", \"MARTINA\", \"NOA\", \"PAULA\", \"CARLA\"], \"y\": [137, 129, 122, 122, 119, 103, 103, 102, 94, 81], \"type\": \"bar\"}], \"layout\": {\"bargap\": 0.15, \"font\": {\"size\": 14}, \"plot_bgcolor\": \"#FFFFFF\", \"title\": {\"text\": \"Most popular baby names of 2016\"}, \"xaxis\": {\"showline\": false, \"visible\": false}, \"yaxis\": {\"showline\": false, \"visible\": false}}}, {\"data\": [{\"cliponaxis\": false, \"hoverinfo\": \"none\", \"marker\": {\"color\": [\"rgb(235, 1, 55)\", \"rgb(138, 28, 180)\", \"rgb(182, 156, 178)\", \"rgb(181, 133, 117)\", \"rgb(177, 34, 36)\", \"rgb(145, 34, 77)\", \"rgb(165, 10, 135)\", \"rgb(133, 75, 35)\", \"rgb(239, 180, 145)\", \"rgb(234, 161, 43)\"]}, \"textposition\": \"outside\", \"texttemplate\": \"%{x}<br>%{y}\", \"x\": [\"JULIA\", \"EMMA\", \"SOFIA\", \"MARTINA\", \"MARIA\", \"LUCIA\", \"LAIA\", \"PAULA\", \"CHLOE\", \"ONA\"], \"y\": [123, 122, 119, 117, 106, 104, 93, 83, 81, 78], \"type\": \"bar\"}], \"layout\": {\"bargap\": 0.15, \"font\": {\"size\": 14}, \"plot_bgcolor\": \"#FFFFFF\", \"title\": {\"text\": \"Most popular baby names of 2017\"}, \"xaxis\": {\"showline\": false, \"visible\": false}, \"yaxis\": {\"showline\": false, \"visible\": false}}}, {\"data\": [{\"cliponaxis\": false, \"hoverinfo\": \"none\", \"marker\": {\"color\": [\"rgb(138, 28, 180)\", \"rgb(235, 1, 55)\", \"rgb(182, 156, 178)\", \"rgb(145, 34, 77)\", \"rgb(181, 133, 117)\", \"rgb(133, 75, 35)\", \"rgb(177, 34, 36)\", \"rgb(165, 10, 135)\", \"rgb(125, 57, 145)\", \"rgb(175, 131, 105)\"]}, \"textposition\": \"outside\", \"texttemplate\": \"%{x}<br>%{y}\", \"x\": [\"EMMA\", \"JULIA\", \"SOFIA\", \"LUCIA\", \"MARTINA\", \"PAULA\", \"MARIA\", \"LAIA\", \"MIA\", \"OLIVIA\"], \"y\": [146, 118, 108, 92, 89, 89, 88, 78, 72, 68], \"type\": \"bar\"}], \"layout\": {\"bargap\": 0.15, \"font\": {\"size\": 14}, \"plot_bgcolor\": \"#FFFFFF\", \"title\": {\"text\": \"Most popular baby names of 2018\"}, \"xaxis\": {\"showline\": false, \"visible\": false}, \"yaxis\": {\"showline\": false, \"visible\": false}}}]);\n",
       "                        }).then(function(){\n",
       "                            \n",
       "var gd = document.getElementById('7008aee2-407e-4fbc-b8cd-daa5bc8dce25');\n",
       "var x = new MutationObserver(function (mutations, observer) {{\n",
       "        var display = window.getComputedStyle(gd).display;\n",
       "        if (!display || display === 'none') {{\n",
       "            console.log([gd, 'removed!']);\n",
       "            Plotly.purge(gd);\n",
       "            observer.disconnect();\n",
       "        }}\n",
       "}});\n",
       "\n",
       "// Listen for the removal of the full notebook cells\n",
       "var notebookContainer = gd.closest('#notebook-container');\n",
       "if (notebookContainer) {{\n",
       "    x.observe(notebookContainer, {childList: true});\n",
       "}}\n",
       "\n",
       "// Listen for the clearing of the current output cell\n",
       "var outputEl = gd.closest('.output');\n",
       "if (outputEl) {{\n",
       "    x.observe(outputEl, {childList: true});\n",
       "}}\n",
       "\n",
       "                        })                };                });            </script>        </div>"
      ]
     },
     "metadata": {},
     "output_type": "display_data"
    }
   ],
   "source": [
    "title = 'Most popular baby names of '\n",
    "list_of_frames = frames_animation(df_woman, title)\n",
    "fig = bar_race_plot(df_woman, title, list_of_frames)\n",
    "fig.show()"
   ]
  },
  {
   "cell_type": "code",
   "execution_count": 32,
   "metadata": {},
   "outputs": [
    {
     "data": {
      "application/vnd.plotly.v1+json": {
       "config": {
        "plotlyServerURL": "https://plotly.com"
       },
       "data": [
        {
         "cliponaxis": false,
         "hoverinfo": "none",
         "marker": {
          "color": [
           "rgb(80, 7, 230)",
           "rgb(163, 37, 158)",
           "rgb(28, 95, 195)",
           "rgb(135, 100, 197)",
           "rgb(121, 182, 151)",
           "rgb(104, 159, 125)",
           "rgb(168, 109, 230)",
           "rgb(71, 100, 182)",
           "rgb(101, 48, 131)",
           "rgb(125, 55, 229)"
          ]
         },
         "textposition": "outside",
         "texttemplate": "%{x}<br>%{y}",
         "type": "bar",
         "x": [
          "MARC",
          "DAVID",
          "DANIEL",
          "ALBERT",
          "VICTOR",
          "JORDI",
          "SERGI",
          "ALEJANDRO",
          "POL",
          "ALEX"
         ],
         "y": [
          295,
          198,
          174,
          151,
          145,
          143,
          137,
          132,
          123,
          113
         ]
        }
       ],
       "frames": [
        {
         "data": [
          {
           "cliponaxis": false,
           "hoverinfo": "none",
           "marker": {
            "color": [
             "rgb(80, 7, 230)",
             "rgb(163, 37, 158)",
             "rgb(28, 95, 195)",
             "rgb(135, 100, 197)",
             "rgb(121, 182, 151)",
             "rgb(104, 159, 125)",
             "rgb(168, 109, 230)",
             "rgb(71, 100, 182)",
             "rgb(101, 48, 131)",
             "rgb(125, 55, 229)"
            ]
           },
           "textposition": "outside",
           "texttemplate": "%{x}<br>%{y}",
           "type": "bar",
           "x": [
            "MARC",
            "DAVID",
            "DANIEL",
            "ALBERT",
            "VICTOR",
            "JORDI",
            "SERGI",
            "ALEJANDRO",
            "POL",
            "ALEX"
           ],
           "y": [
            295,
            198,
            174,
            151,
            145,
            143,
            137,
            132,
            123,
            113
           ]
          }
         ],
         "layout": {
          "bargap": 0.15,
          "font": {
           "size": 14
          },
          "plot_bgcolor": "#FFFFFF",
          "title": {
           "text": "Most popular baby names of 1996"
          },
          "xaxis": {
           "showline": false,
           "visible": false
          },
          "yaxis": {
           "showline": false,
           "visible": false
          }
         }
        },
        {
         "data": [
          {
           "cliponaxis": false,
           "hoverinfo": "none",
           "marker": {
            "color": [
             "rgb(80, 7, 230)",
             "rgb(163, 37, 158)",
             "rgb(28, 95, 195)",
             "rgb(121, 182, 151)",
             "rgb(125, 55, 229)",
             "rgb(101, 48, 131)",
             "rgb(71, 100, 182)",
             "rgb(135, 100, 197)",
             "rgb(149, 97, 174)",
             "rgb(168, 109, 230)"
            ]
           },
           "textposition": "outside",
           "texttemplate": "%{x}<br>%{y}",
           "type": "bar",
           "x": [
            "MARC",
            "DAVID",
            "DANIEL",
            "VICTOR",
            "ALEX",
            "POL",
            "ALEJANDRO",
            "ALBERT",
            "PAU",
            "SERGI"
           ],
           "y": [
            348,
            183,
            163,
            150,
            148,
            143,
            128,
            126,
            125,
            120
           ]
          }
         ],
         "layout": {
          "bargap": 0.15,
          "font": {
           "size": 14
          },
          "plot_bgcolor": "#FFFFFF",
          "title": {
           "text": "Most popular baby names of 1997"
          },
          "xaxis": {
           "showline": false,
           "visible": false
          },
          "yaxis": {
           "showline": false,
           "visible": false
          }
         }
        },
        {
         "data": [
          {
           "cliponaxis": false,
           "hoverinfo": "none",
           "marker": {
            "color": [
             "rgb(80, 7, 230)",
             "rgb(163, 37, 158)",
             "rgb(125, 55, 229)",
             "rgb(28, 95, 195)",
             "rgb(101, 48, 131)",
             "rgb(121, 182, 151)",
             "rgb(135, 100, 197)",
             "rgb(168, 109, 230)",
             "rgb(149, 97, 174)",
             "rgb(71, 100, 182)"
            ]
           },
           "textposition": "outside",
           "texttemplate": "%{x}<br>%{y}",
           "type": "bar",
           "x": [
            "MARC",
            "DAVID",
            "ALEX",
            "DANIEL",
            "POL",
            "VICTOR",
            "ALBERT",
            "SERGI",
            "PAU",
            "ALEJANDRO"
           ],
           "y": [
            330,
            184,
            174,
            159,
            144,
            139,
            135,
            130,
            122,
            117
           ]
          }
         ],
         "layout": {
          "bargap": 0.15,
          "font": {
           "size": 14
          },
          "plot_bgcolor": "#FFFFFF",
          "title": {
           "text": "Most popular baby names of 1998"
          },
          "xaxis": {
           "showline": false,
           "visible": false
          },
          "yaxis": {
           "showline": false,
           "visible": false
          }
         }
        },
        {
         "data": [
          {
           "cliponaxis": false,
           "hoverinfo": "none",
           "marker": {
            "color": [
             "rgb(80, 7, 230)",
             "rgb(125, 55, 229)",
             "rgb(28, 95, 195)",
             "rgb(163, 37, 158)",
             "rgb(121, 182, 151)",
             "rgb(101, 48, 131)",
             "rgb(149, 97, 174)",
             "rgb(135, 100, 197)",
             "rgb(71, 100, 182)",
             "rgb(104, 159, 125)"
            ]
           },
           "textposition": "outside",
           "texttemplate": "%{x}<br>%{y}",
           "type": "bar",
           "x": [
            "MARC",
            "ALEX",
            "DANIEL",
            "DAVID",
            "VICTOR",
            "POL",
            "PAU",
            "ALBERT",
            "ALEJANDRO",
            "JORDI"
           ],
           "y": [
            291,
            169,
            166,
            159,
            157,
            155,
            133,
            122,
            118,
            115
           ]
          }
         ],
         "layout": {
          "bargap": 0.15,
          "font": {
           "size": 14
          },
          "plot_bgcolor": "#FFFFFF",
          "title": {
           "text": "Most popular baby names of 1999"
          },
          "xaxis": {
           "showline": false,
           "visible": false
          },
          "yaxis": {
           "showline": false,
           "visible": false
          }
         }
        },
        {
         "data": [
          {
           "cliponaxis": false,
           "hoverinfo": "none",
           "marker": {
            "color": [
             "rgb(80, 7, 230)",
             "rgb(125, 55, 229)",
             "rgb(101, 48, 131)",
             "rgb(163, 37, 158)",
             "rgb(28, 95, 195)",
             "rgb(121, 182, 151)",
             "rgb(149, 97, 174)",
             "rgb(135, 100, 197)",
             "rgb(165, 83, 178)",
             "rgb(71, 100, 182)"
            ]
           },
           "textposition": "outside",
           "texttemplate": "%{x}<br>%{y}",
           "type": "bar",
           "x": [
            "MARC",
            "ALEX",
            "POL",
            "DAVID",
            "DANIEL",
            "VICTOR",
            "PAU",
            "ALBERT",
            "ARNAU",
            "ALEJANDRO"
           ],
           "y": [
            290,
            201,
            189,
            187,
            176,
            150,
            134,
            125,
            120,
            117
           ]
          }
         ],
         "layout": {
          "bargap": 0.15,
          "font": {
           "size": 14
          },
          "plot_bgcolor": "#FFFFFF",
          "title": {
           "text": "Most popular baby names of 2000"
          },
          "xaxis": {
           "showline": false,
           "visible": false
          },
          "yaxis": {
           "showline": false,
           "visible": false
          }
         }
        },
        {
         "data": [
          {
           "cliponaxis": false,
           "hoverinfo": "none",
           "marker": {
            "color": [
             "rgb(80, 7, 230)",
             "rgb(125, 55, 229)",
             "rgb(101, 48, 131)",
             "rgb(163, 37, 158)",
             "rgb(149, 97, 174)",
             "rgb(28, 95, 195)",
             "rgb(71, 100, 182)",
             "rgb(121, 182, 151)",
             "rgb(73, 170, 221)",
             "rgb(165, 83, 178)"
            ]
           },
           "textposition": "outside",
           "texttemplate": "%{x}<br>%{y}",
           "type": "bar",
           "x": [
            "MARC",
            "ALEX",
            "POL",
            "DAVID",
            "PAU",
            "DANIEL",
            "ALEJANDRO",
            "VICTOR",
            "GERARD",
            "ARNAU"
           ],
           "y": [
            234,
            164,
            159,
            154,
            151,
            143,
            132,
            126,
            125,
            108
           ]
          }
         ],
         "layout": {
          "bargap": 0.15,
          "font": {
           "size": 14
          },
          "plot_bgcolor": "#FFFFFF",
          "title": {
           "text": "Most popular baby names of 2001"
          },
          "xaxis": {
           "showline": false,
           "visible": false
          },
          "yaxis": {
           "showline": false,
           "visible": false
          }
         }
        },
        {
         "data": [
          {
           "cliponaxis": false,
           "hoverinfo": "none",
           "marker": {
            "color": [
             "rgb(80, 7, 230)",
             "rgb(101, 48, 131)",
             "rgb(163, 37, 158)",
             "rgb(149, 97, 174)",
             "rgb(125, 55, 229)",
             "rgb(28, 95, 195)",
             "rgb(71, 100, 182)",
             "rgb(121, 182, 151)",
             "rgb(165, 83, 178)",
             "rgb(73, 170, 221)"
            ]
           },
           "textposition": "outside",
           "texttemplate": "%{x}<br>%{y}",
           "type": "bar",
           "x": [
            "MARC",
            "POL",
            "DAVID",
            "PAU",
            "ALEX",
            "DANIEL",
            "ALEJANDRO",
            "VICTOR",
            "ARNAU",
            "GERARD"
           ],
           "y": [
            267,
            175,
            150,
            149,
            148,
            128,
            124,
            120,
            115,
            106
           ]
          }
         ],
         "layout": {
          "bargap": 0.15,
          "font": {
           "size": 14
          },
          "plot_bgcolor": "#FFFFFF",
          "title": {
           "text": "Most popular baby names of 2002"
          },
          "xaxis": {
           "showline": false,
           "visible": false
          },
          "yaxis": {
           "showline": false,
           "visible": false
          }
         }
        },
        {
         "data": [
          {
           "cliponaxis": false,
           "hoverinfo": "none",
           "marker": {
            "color": [
             "rgb(80, 7, 230)",
             "rgb(125, 55, 229)",
             "rgb(149, 97, 174)",
             "rgb(101, 48, 131)",
             "rgb(163, 37, 158)",
             "rgb(28, 95, 195)",
             "rgb(31, 50, 161)",
             "rgb(165, 83, 178)",
             "rgb(121, 182, 151)",
             "rgb(71, 100, 182)"
            ]
           },
           "textposition": "outside",
           "texttemplate": "%{x}<br>%{y}",
           "type": "bar",
           "x": [
            "MARC",
            "ALEX",
            "PAU",
            "POL",
            "DAVID",
            "DANIEL",
            "JOAN",
            "ARNAU",
            "VICTOR",
            "ALEJANDRO"
           ],
           "y": [
            287,
            205,
            202,
            184,
            173,
            156,
            119,
            109,
            107,
            105
           ]
          }
         ],
         "layout": {
          "bargap": 0.15,
          "font": {
           "size": 14
          },
          "plot_bgcolor": "#FFFFFF",
          "title": {
           "text": "Most popular baby names of 2003"
          },
          "xaxis": {
           "showline": false,
           "visible": false
          },
          "yaxis": {
           "showline": false,
           "visible": false
          }
         }
        },
        {
         "data": [
          {
           "cliponaxis": false,
           "hoverinfo": "none",
           "marker": {
            "color": [
             "rgb(80, 7, 230)",
             "rgb(125, 55, 229)",
             "rgb(101, 48, 131)",
             "rgb(149, 97, 174)",
             "rgb(163, 37, 158)",
             "rgb(28, 95, 195)",
             "rgb(165, 83, 178)",
             "rgb(121, 182, 151)",
             "rgb(71, 100, 182)",
             "rgb(82, 140, 155)"
            ]
           },
           "textposition": "outside",
           "texttemplate": "%{x}<br>%{y}",
           "type": "bar",
           "x": [
            "MARC",
            "ALEX",
            "POL",
            "PAU",
            "DAVID",
            "DANIEL",
            "ARNAU",
            "VICTOR",
            "ALEJANDRO",
            "PABLO"
           ],
           "y": [
            259,
            185,
            181,
            173,
            129,
            128,
            125,
            116,
            107,
            107
           ]
          }
         ],
         "layout": {
          "bargap": 0.15,
          "font": {
           "size": 14
          },
          "plot_bgcolor": "#FFFFFF",
          "title": {
           "text": "Most popular baby names of 2004"
          },
          "xaxis": {
           "showline": false,
           "visible": false
          },
          "yaxis": {
           "showline": false,
           "visible": false
          }
         }
        },
        {
         "data": [
          {
           "cliponaxis": false,
           "hoverinfo": "none",
           "marker": {
            "color": [
             "rgb(80, 7, 230)",
             "rgb(149, 97, 174)",
             "rgb(101, 48, 131)",
             "rgb(125, 55, 229)",
             "rgb(163, 37, 158)",
             "rgb(28, 95, 195)",
             "rgb(169, 40, 253)",
             "rgb(165, 83, 178)",
             "rgb(73, 64, 185)",
             "rgb(82, 140, 155)"
            ]
           },
           "textposition": "outside",
           "texttemplate": "%{x}<br>%{y}",
           "type": "bar",
           "x": [
            "MARC",
            "PAU",
            "POL",
            "ALEX",
            "DAVID",
            "DANIEL",
            "JAN",
            "ARNAU",
            "MARTI",
            "PABLO"
           ],
           "y": [
            277,
            187,
            176,
            167,
            157,
            151,
            122,
            115,
            111,
            106
           ]
          }
         ],
         "layout": {
          "bargap": 0.15,
          "font": {
           "size": 14
          },
          "plot_bgcolor": "#FFFFFF",
          "title": {
           "text": "Most popular baby names of 2005"
          },
          "xaxis": {
           "showline": false,
           "visible": false
          },
          "yaxis": {
           "showline": false,
           "visible": false
          }
         }
        },
        {
         "data": [
          {
           "cliponaxis": false,
           "hoverinfo": "none",
           "marker": {
            "color": [
             "rgb(80, 7, 230)",
             "rgb(101, 48, 131)",
             "rgb(125, 55, 229)",
             "rgb(149, 97, 174)",
             "rgb(28, 95, 195)",
             "rgb(165, 83, 178)",
             "rgb(163, 37, 158)",
             "rgb(121, 182, 151)",
             "rgb(73, 64, 185)",
             "rgb(71, 100, 182)"
            ]
           },
           "textposition": "outside",
           "texttemplate": "%{x}<br>%{y}",
           "type": "bar",
           "x": [
            "MARC",
            "POL",
            "ALEX",
            "PAU",
            "DANIEL",
            "ARNAU",
            "DAVID",
            "VICTOR",
            "MARTI",
            "ALEJANDRO"
           ],
           "y": [
            229,
            173,
            168,
            163,
            141,
            117,
            116,
            111,
            98,
            95
           ]
          }
         ],
         "layout": {
          "bargap": 0.15,
          "font": {
           "size": 14
          },
          "plot_bgcolor": "#FFFFFF",
          "title": {
           "text": "Most popular baby names of 2006"
          },
          "xaxis": {
           "showline": false,
           "visible": false
          },
          "yaxis": {
           "showline": false,
           "visible": false
          }
         }
        },
        {
         "data": [
          {
           "cliponaxis": false,
           "hoverinfo": "none",
           "marker": {
            "color": [
             "rgb(80, 7, 230)",
             "rgb(125, 55, 229)",
             "rgb(149, 97, 174)",
             "rgb(101, 48, 131)",
             "rgb(28, 95, 195)",
             "rgb(163, 37, 158)",
             "rgb(71, 113, 158)",
             "rgb(73, 64, 185)",
             "rgb(165, 83, 178)",
             "rgb(121, 182, 151)"
            ]
           },
           "textposition": "outside",
           "texttemplate": "%{x}<br>%{y}",
           "type": "bar",
           "x": [
            "MARC",
            "ALEX",
            "PAU",
            "POL",
            "DANIEL",
            "DAVID",
            "ERIC",
            "MARTI",
            "ARNAU",
            "VICTOR"
           ],
           "y": [
            237,
            163,
            148,
            140,
            132,
            127,
            126,
            126,
            115,
            98
           ]
          }
         ],
         "layout": {
          "bargap": 0.15,
          "font": {
           "size": 14
          },
          "plot_bgcolor": "#FFFFFF",
          "title": {
           "text": "Most popular baby names of 2007"
          },
          "xaxis": {
           "showline": false,
           "visible": false
          },
          "yaxis": {
           "showline": false,
           "visible": false
          }
         }
        },
        {
         "data": [
          {
           "cliponaxis": false,
           "hoverinfo": "none",
           "marker": {
            "color": [
             "rgb(80, 7, 230)",
             "rgb(101, 48, 131)",
             "rgb(125, 55, 229)",
             "rgb(149, 97, 174)",
             "rgb(28, 95, 195)",
             "rgb(163, 37, 158)",
             "rgb(169, 40, 253)",
             "rgb(71, 113, 158)",
             "rgb(165, 83, 178)",
             "rgb(73, 64, 185)"
            ]
           },
           "textposition": "outside",
           "texttemplate": "%{x}<br>%{y}",
           "type": "bar",
           "x": [
            "MARC",
            "POL",
            "ALEX",
            "PAU",
            "DANIEL",
            "DAVID",
            "JAN",
            "ERIC",
            "ARNAU",
            "MARTI"
           ],
           "y": [
            244,
            172,
            156,
            144,
            121,
            109,
            106,
            100,
            98,
            98
           ]
          }
         ],
         "layout": {
          "bargap": 0.15,
          "font": {
           "size": 14
          },
          "plot_bgcolor": "#FFFFFF",
          "title": {
           "text": "Most popular baby names of 2008"
          },
          "xaxis": {
           "showline": false,
           "visible": false
          },
          "yaxis": {
           "showline": false,
           "visible": false
          }
         }
        },
        {
         "data": [
          {
           "cliponaxis": false,
           "hoverinfo": "none",
           "marker": {
            "color": [
             "rgb(80, 7, 230)",
             "rgb(149, 97, 174)",
             "rgb(125, 55, 229)",
             "rgb(101, 48, 131)",
             "rgb(71, 113, 158)",
             "rgb(73, 64, 185)",
             "rgb(165, 83, 178)",
             "rgb(169, 40, 253)",
             "rgb(28, 95, 195)",
             "rgb(9, 174, 250)"
            ]
           },
           "textposition": "outside",
           "texttemplate": "%{x}<br>%{y}",
           "type": "bar",
           "x": [
            "MARC",
            "PAU",
            "ALEX",
            "POL",
            "ERIC",
            "MARTI",
            "ARNAU",
            "JAN",
            "DANIEL",
            "HUGO"
           ],
           "y": [
            194,
            165,
            150,
            146,
            130,
            116,
            106,
            100,
            98,
            89
           ]
          }
         ],
         "layout": {
          "bargap": 0.15,
          "font": {
           "size": 14
          },
          "plot_bgcolor": "#FFFFFF",
          "title": {
           "text": "Most popular baby names of 2009"
          },
          "xaxis": {
           "showline": false,
           "visible": false
          },
          "yaxis": {
           "showline": false,
           "visible": false
          }
         }
        },
        {
         "data": [
          {
           "cliponaxis": false,
           "hoverinfo": "none",
           "marker": {
            "color": [
             "rgb(80, 7, 230)",
             "rgb(101, 48, 131)",
             "rgb(125, 55, 229)",
             "rgb(149, 97, 174)",
             "rgb(73, 64, 185)",
             "rgb(71, 113, 158)",
             "rgb(165, 83, 178)",
             "rgb(28, 95, 195)",
             "rgb(73, 170, 221)",
             "rgb(169, 40, 253)"
            ]
           },
           "textposition": "outside",
           "texttemplate": "%{x}<br>%{y}",
           "type": "bar",
           "x": [
            "MARC",
            "POL",
            "ALEX",
            "PAU",
            "MARTI",
            "ERIC",
            "ARNAU",
            "DANIEL",
            "GERARD",
            "JAN"
           ],
           "y": [
            195,
            148,
            143,
            134,
            124,
            117,
            110,
            103,
            100,
            98
           ]
          }
         ],
         "layout": {
          "bargap": 0.15,
          "font": {
           "size": 14
          },
          "plot_bgcolor": "#FFFFFF",
          "title": {
           "text": "Most popular baby names of 2010"
          },
          "xaxis": {
           "showline": false,
           "visible": false
          },
          "yaxis": {
           "showline": false,
           "visible": false
          }
         }
        },
        {
         "data": [
          {
           "cliponaxis": false,
           "hoverinfo": "none",
           "marker": {
            "color": [
             "rgb(80, 7, 230)",
             "rgb(125, 55, 229)",
             "rgb(101, 48, 131)",
             "rgb(149, 97, 174)",
             "rgb(71, 113, 158)",
             "rgb(73, 64, 185)",
             "rgb(73, 170, 221)",
             "rgb(165, 83, 178)",
             "rgb(81, 69, 154)",
             "rgb(163, 37, 158)"
            ]
           },
           "textposition": "outside",
           "texttemplate": "%{x}<br>%{y}",
           "type": "bar",
           "x": [
            "MARC",
            "ALEX",
            "POL",
            "PAU",
            "ERIC",
            "MARTI",
            "GERARD",
            "ARNAU",
            "BIEL",
            "DAVID"
           ],
           "y": [
            209,
            142,
            124,
            118,
            113,
            103,
            99,
            95,
            87,
            85
           ]
          }
         ],
         "layout": {
          "bargap": 0.15,
          "font": {
           "size": 14
          },
          "plot_bgcolor": "#FFFFFF",
          "title": {
           "text": "Most popular baby names of 2011"
          },
          "xaxis": {
           "showline": false,
           "visible": false
          },
          "yaxis": {
           "showline": false,
           "visible": false
          }
         }
        },
        {
         "data": [
          {
           "cliponaxis": false,
           "hoverinfo": "none",
           "marker": {
            "color": [
             "rgb(80, 7, 230)",
             "rgb(101, 48, 131)",
             "rgb(71, 113, 158)",
             "rgb(125, 55, 229)",
             "rgb(149, 97, 174)",
             "rgb(165, 83, 178)",
             "rgb(73, 64, 185)",
             "rgb(73, 170, 221)",
             "rgb(169, 40, 253)",
             "rgb(81, 69, 154)"
            ]
           },
           "textposition": "outside",
           "texttemplate": "%{x}<br>%{y}",
           "type": "bar",
           "x": [
            "MARC",
            "POL",
            "ERIC",
            "ALEX",
            "PAU",
            "ARNAU",
            "MARTI",
            "GERARD",
            "JAN",
            "BIEL"
           ],
           "y": [
            206,
            138,
            125,
            120,
            110,
            101,
            99,
            98,
            98,
            95
           ]
          }
         ],
         "layout": {
          "bargap": 0.15,
          "font": {
           "size": 14
          },
          "plot_bgcolor": "#FFFFFF",
          "title": {
           "text": "Most popular baby names of 2012"
          },
          "xaxis": {
           "showline": false,
           "visible": false
          },
          "yaxis": {
           "showline": false,
           "visible": false
          }
         }
        },
        {
         "data": [
          {
           "cliponaxis": false,
           "hoverinfo": "none",
           "marker": {
            "color": [
             "rgb(80, 7, 230)",
             "rgb(149, 97, 174)",
             "rgb(101, 48, 131)",
             "rgb(125, 55, 229)",
             "rgb(71, 113, 158)",
             "rgb(165, 83, 178)",
             "rgb(81, 69, 154)",
             "rgb(73, 64, 185)",
             "rgb(169, 40, 253)",
             "rgb(9, 174, 250)"
            ]
           },
           "textposition": "outside",
           "texttemplate": "%{x}<br>%{y}",
           "type": "bar",
           "x": [
            "MARC",
            "PAU",
            "POL",
            "ALEX",
            "ERIC",
            "ARNAU",
            "BIEL",
            "MARTI",
            "JAN",
            "HUGO"
           ],
           "y": [
            175,
            129,
            126,
            122,
            122,
            100,
            95,
            95,
            92,
            89
           ]
          }
         ],
         "layout": {
          "bargap": 0.15,
          "font": {
           "size": 14
          },
          "plot_bgcolor": "#FFFFFF",
          "title": {
           "text": "Most popular baby names of 2013"
          },
          "xaxis": {
           "showline": false,
           "visible": false
          },
          "yaxis": {
           "showline": false,
           "visible": false
          }
         }
        },
        {
         "data": [
          {
           "cliponaxis": false,
           "hoverinfo": "none",
           "marker": {
            "color": [
             "rgb(80, 7, 230)",
             "rgb(101, 48, 131)",
             "rgb(125, 55, 229)",
             "rgb(71, 113, 158)",
             "rgb(73, 64, 185)",
             "rgb(149, 97, 174)",
             "rgb(81, 69, 154)",
             "rgb(28, 95, 195)",
             "rgb(169, 40, 253)",
             "rgb(9, 174, 250)"
            ]
           },
           "textposition": "outside",
           "texttemplate": "%{x}<br>%{y}",
           "type": "bar",
           "x": [
            "MARC",
            "POL",
            "ALEX",
            "ERIC",
            "MARTI",
            "PAU",
            "BIEL",
            "DANIEL",
            "JAN",
            "HUGO"
           ],
           "y": [
            192,
            137,
            135,
            123,
            116,
            104,
            90,
            89,
            89,
            82
           ]
          }
         ],
         "layout": {
          "bargap": 0.15,
          "font": {
           "size": 14
          },
          "plot_bgcolor": "#FFFFFF",
          "title": {
           "text": "Most popular baby names of 2014"
          },
          "xaxis": {
           "showline": false,
           "visible": false
          },
          "yaxis": {
           "showline": false,
           "visible": false
          }
         }
        },
        {
         "data": [
          {
           "cliponaxis": false,
           "hoverinfo": "none",
           "marker": {
            "color": [
             "rgb(80, 7, 230)",
             "rgb(73, 64, 185)",
             "rgb(125, 55, 229)",
             "rgb(71, 113, 158)",
             "rgb(149, 97, 174)",
             "rgb(9, 174, 250)",
             "rgb(81, 69, 154)",
             "rgb(165, 83, 178)",
             "rgb(169, 40, 253)",
             "rgb(46, 116, 136)"
            ]
           },
           "textposition": "outside",
           "texttemplate": "%{x}<br>%{y}",
           "type": "bar",
           "x": [
            "MARC",
            "MARTI",
            "ALEX",
            "ERIC",
            "PAU",
            "HUGO",
            "BIEL",
            "ARNAU",
            "JAN",
            "NIL"
           ],
           "y": [
            172,
            133,
            110,
            109,
            108,
            107,
            99,
            93,
            88,
            88
           ]
          }
         ],
         "layout": {
          "bargap": 0.15,
          "font": {
           "size": 14
          },
          "plot_bgcolor": "#FFFFFF",
          "title": {
           "text": "Most popular baby names of 2015"
          },
          "xaxis": {
           "showline": false,
           "visible": false
          },
          "yaxis": {
           "showline": false,
           "visible": false
          }
         }
        },
        {
         "data": [
          {
           "cliponaxis": false,
           "hoverinfo": "none",
           "marker": {
            "color": [
             "rgb(80, 7, 230)",
             "rgb(125, 55, 229)",
             "rgb(101, 48, 131)",
             "rgb(71, 113, 158)",
             "rgb(149, 97, 174)",
             "rgb(73, 64, 185)",
             "rgb(81, 69, 154)",
             "rgb(63, 74, 158)",
             "rgb(71, 16, 248)",
             "rgb(169, 40, 253)"
            ]
           },
           "textposition": "outside",
           "texttemplate": "%{x}<br>%{y}",
           "type": "bar",
           "x": [
            "MARC",
            "ALEX",
            "POL",
            "ERIC",
            "PAU",
            "MARTI",
            "BIEL",
            "BRUNO",
            "LUCAS",
            "JAN"
           ],
           "y": [
            148,
            140,
            110,
            109,
            107,
            104,
            99,
            93,
            93,
            91
           ]
          }
         ],
         "layout": {
          "bargap": 0.15,
          "font": {
           "size": 14
          },
          "plot_bgcolor": "#FFFFFF",
          "title": {
           "text": "Most popular baby names of 2016"
          },
          "xaxis": {
           "showline": false,
           "visible": false
          },
          "yaxis": {
           "showline": false,
           "visible": false
          }
         }
        },
        {
         "data": [
          {
           "cliponaxis": false,
           "hoverinfo": "none",
           "marker": {
            "color": [
             "rgb(101, 48, 131)",
             "rgb(80, 7, 230)",
             "rgb(125, 55, 229)",
             "rgb(71, 16, 248)",
             "rgb(71, 113, 158)",
             "rgb(149, 97, 174)",
             "rgb(63, 74, 158)",
             "rgb(169, 40, 253)",
             "rgb(4, 105, 181)",
             "rgb(165, 83, 178)"
            ]
           },
           "textposition": "outside",
           "texttemplate": "%{x}<br>%{y}",
           "type": "bar",
           "x": [
            "POL",
            "MARC",
            "ALEX",
            "LUCAS",
            "ERIC",
            "PAU",
            "BRUNO",
            "JAN",
            "LEO",
            "ARNAU"
           ],
           "y": [
            139,
            133,
            125,
            104,
            99,
            86,
            85,
            85,
            81,
            79
           ]
          }
         ],
         "layout": {
          "bargap": 0.15,
          "font": {
           "size": 14
          },
          "plot_bgcolor": "#FFFFFF",
          "title": {
           "text": "Most popular baby names of 2017"
          },
          "xaxis": {
           "showline": false,
           "visible": false
          },
          "yaxis": {
           "showline": false,
           "visible": false
          }
         }
        },
        {
         "data": [
          {
           "cliponaxis": false,
           "hoverinfo": "none",
           "marker": {
            "color": [
             "rgb(80, 7, 230)",
             "rgb(101, 48, 131)",
             "rgb(125, 55, 229)",
             "rgb(71, 16, 248)",
             "rgb(149, 97, 174)",
             "rgb(71, 113, 158)",
             "rgb(63, 74, 158)",
             "rgb(4, 105, 181)",
             "rgb(169, 40, 253)",
             "rgb(73, 64, 185)"
            ]
           },
           "textposition": "outside",
           "texttemplate": "%{x}<br>%{y}",
           "type": "bar",
           "x": [
            "MARC",
            "POL",
            "ALEX",
            "LUCAS",
            "PAU",
            "ERIC",
            "BRUNO",
            "LEO",
            "JAN",
            "MARTI"
           ],
           "y": [
            121,
            112,
            100,
            99,
            91,
            89,
            88,
            86,
            79,
            79
           ]
          }
         ],
         "layout": {
          "bargap": 0.15,
          "font": {
           "size": 14
          },
          "plot_bgcolor": "#FFFFFF",
          "title": {
           "text": "Most popular baby names of 2018"
          },
          "xaxis": {
           "showline": false,
           "visible": false
          },
          "yaxis": {
           "showline": false,
           "visible": false
          }
         }
        }
       ],
       "layout": {
        "bargap": 0.15,
        "font": {
         "size": 14
        },
        "plot_bgcolor": "#FFFFFF",
        "template": {
         "data": {
          "bar": [
           {
            "error_x": {
             "color": "#2a3f5f"
            },
            "error_y": {
             "color": "#2a3f5f"
            },
            "marker": {
             "line": {
              "color": "#E5ECF6",
              "width": 0.5
             }
            },
            "type": "bar"
           }
          ],
          "barpolar": [
           {
            "marker": {
             "line": {
              "color": "#E5ECF6",
              "width": 0.5
             }
            },
            "type": "barpolar"
           }
          ],
          "carpet": [
           {
            "aaxis": {
             "endlinecolor": "#2a3f5f",
             "gridcolor": "white",
             "linecolor": "white",
             "minorgridcolor": "white",
             "startlinecolor": "#2a3f5f"
            },
            "baxis": {
             "endlinecolor": "#2a3f5f",
             "gridcolor": "white",
             "linecolor": "white",
             "minorgridcolor": "white",
             "startlinecolor": "#2a3f5f"
            },
            "type": "carpet"
           }
          ],
          "choropleth": [
           {
            "colorbar": {
             "outlinewidth": 0,
             "ticks": ""
            },
            "type": "choropleth"
           }
          ],
          "contour": [
           {
            "colorbar": {
             "outlinewidth": 0,
             "ticks": ""
            },
            "colorscale": [
             [
              0,
              "#0d0887"
             ],
             [
              0.1111111111111111,
              "#46039f"
             ],
             [
              0.2222222222222222,
              "#7201a8"
             ],
             [
              0.3333333333333333,
              "#9c179e"
             ],
             [
              0.4444444444444444,
              "#bd3786"
             ],
             [
              0.5555555555555556,
              "#d8576b"
             ],
             [
              0.6666666666666666,
              "#ed7953"
             ],
             [
              0.7777777777777778,
              "#fb9f3a"
             ],
             [
              0.8888888888888888,
              "#fdca26"
             ],
             [
              1,
              "#f0f921"
             ]
            ],
            "type": "contour"
           }
          ],
          "contourcarpet": [
           {
            "colorbar": {
             "outlinewidth": 0,
             "ticks": ""
            },
            "type": "contourcarpet"
           }
          ],
          "heatmap": [
           {
            "colorbar": {
             "outlinewidth": 0,
             "ticks": ""
            },
            "colorscale": [
             [
              0,
              "#0d0887"
             ],
             [
              0.1111111111111111,
              "#46039f"
             ],
             [
              0.2222222222222222,
              "#7201a8"
             ],
             [
              0.3333333333333333,
              "#9c179e"
             ],
             [
              0.4444444444444444,
              "#bd3786"
             ],
             [
              0.5555555555555556,
              "#d8576b"
             ],
             [
              0.6666666666666666,
              "#ed7953"
             ],
             [
              0.7777777777777778,
              "#fb9f3a"
             ],
             [
              0.8888888888888888,
              "#fdca26"
             ],
             [
              1,
              "#f0f921"
             ]
            ],
            "type": "heatmap"
           }
          ],
          "heatmapgl": [
           {
            "colorbar": {
             "outlinewidth": 0,
             "ticks": ""
            },
            "colorscale": [
             [
              0,
              "#0d0887"
             ],
             [
              0.1111111111111111,
              "#46039f"
             ],
             [
              0.2222222222222222,
              "#7201a8"
             ],
             [
              0.3333333333333333,
              "#9c179e"
             ],
             [
              0.4444444444444444,
              "#bd3786"
             ],
             [
              0.5555555555555556,
              "#d8576b"
             ],
             [
              0.6666666666666666,
              "#ed7953"
             ],
             [
              0.7777777777777778,
              "#fb9f3a"
             ],
             [
              0.8888888888888888,
              "#fdca26"
             ],
             [
              1,
              "#f0f921"
             ]
            ],
            "type": "heatmapgl"
           }
          ],
          "histogram": [
           {
            "marker": {
             "colorbar": {
              "outlinewidth": 0,
              "ticks": ""
             }
            },
            "type": "histogram"
           }
          ],
          "histogram2d": [
           {
            "colorbar": {
             "outlinewidth": 0,
             "ticks": ""
            },
            "colorscale": [
             [
              0,
              "#0d0887"
             ],
             [
              0.1111111111111111,
              "#46039f"
             ],
             [
              0.2222222222222222,
              "#7201a8"
             ],
             [
              0.3333333333333333,
              "#9c179e"
             ],
             [
              0.4444444444444444,
              "#bd3786"
             ],
             [
              0.5555555555555556,
              "#d8576b"
             ],
             [
              0.6666666666666666,
              "#ed7953"
             ],
             [
              0.7777777777777778,
              "#fb9f3a"
             ],
             [
              0.8888888888888888,
              "#fdca26"
             ],
             [
              1,
              "#f0f921"
             ]
            ],
            "type": "histogram2d"
           }
          ],
          "histogram2dcontour": [
           {
            "colorbar": {
             "outlinewidth": 0,
             "ticks": ""
            },
            "colorscale": [
             [
              0,
              "#0d0887"
             ],
             [
              0.1111111111111111,
              "#46039f"
             ],
             [
              0.2222222222222222,
              "#7201a8"
             ],
             [
              0.3333333333333333,
              "#9c179e"
             ],
             [
              0.4444444444444444,
              "#bd3786"
             ],
             [
              0.5555555555555556,
              "#d8576b"
             ],
             [
              0.6666666666666666,
              "#ed7953"
             ],
             [
              0.7777777777777778,
              "#fb9f3a"
             ],
             [
              0.8888888888888888,
              "#fdca26"
             ],
             [
              1,
              "#f0f921"
             ]
            ],
            "type": "histogram2dcontour"
           }
          ],
          "mesh3d": [
           {
            "colorbar": {
             "outlinewidth": 0,
             "ticks": ""
            },
            "type": "mesh3d"
           }
          ],
          "parcoords": [
           {
            "line": {
             "colorbar": {
              "outlinewidth": 0,
              "ticks": ""
             }
            },
            "type": "parcoords"
           }
          ],
          "pie": [
           {
            "automargin": true,
            "type": "pie"
           }
          ],
          "scatter": [
           {
            "marker": {
             "colorbar": {
              "outlinewidth": 0,
              "ticks": ""
             }
            },
            "type": "scatter"
           }
          ],
          "scatter3d": [
           {
            "line": {
             "colorbar": {
              "outlinewidth": 0,
              "ticks": ""
             }
            },
            "marker": {
             "colorbar": {
              "outlinewidth": 0,
              "ticks": ""
             }
            },
            "type": "scatter3d"
           }
          ],
          "scattercarpet": [
           {
            "marker": {
             "colorbar": {
              "outlinewidth": 0,
              "ticks": ""
             }
            },
            "type": "scattercarpet"
           }
          ],
          "scattergeo": [
           {
            "marker": {
             "colorbar": {
              "outlinewidth": 0,
              "ticks": ""
             }
            },
            "type": "scattergeo"
           }
          ],
          "scattergl": [
           {
            "marker": {
             "colorbar": {
              "outlinewidth": 0,
              "ticks": ""
             }
            },
            "type": "scattergl"
           }
          ],
          "scattermapbox": [
           {
            "marker": {
             "colorbar": {
              "outlinewidth": 0,
              "ticks": ""
             }
            },
            "type": "scattermapbox"
           }
          ],
          "scatterpolar": [
           {
            "marker": {
             "colorbar": {
              "outlinewidth": 0,
              "ticks": ""
             }
            },
            "type": "scatterpolar"
           }
          ],
          "scatterpolargl": [
           {
            "marker": {
             "colorbar": {
              "outlinewidth": 0,
              "ticks": ""
             }
            },
            "type": "scatterpolargl"
           }
          ],
          "scatterternary": [
           {
            "marker": {
             "colorbar": {
              "outlinewidth": 0,
              "ticks": ""
             }
            },
            "type": "scatterternary"
           }
          ],
          "surface": [
           {
            "colorbar": {
             "outlinewidth": 0,
             "ticks": ""
            },
            "colorscale": [
             [
              0,
              "#0d0887"
             ],
             [
              0.1111111111111111,
              "#46039f"
             ],
             [
              0.2222222222222222,
              "#7201a8"
             ],
             [
              0.3333333333333333,
              "#9c179e"
             ],
             [
              0.4444444444444444,
              "#bd3786"
             ],
             [
              0.5555555555555556,
              "#d8576b"
             ],
             [
              0.6666666666666666,
              "#ed7953"
             ],
             [
              0.7777777777777778,
              "#fb9f3a"
             ],
             [
              0.8888888888888888,
              "#fdca26"
             ],
             [
              1,
              "#f0f921"
             ]
            ],
            "type": "surface"
           }
          ],
          "table": [
           {
            "cells": {
             "fill": {
              "color": "#EBF0F8"
             },
             "line": {
              "color": "white"
             }
            },
            "header": {
             "fill": {
              "color": "#C8D4E3"
             },
             "line": {
              "color": "white"
             }
            },
            "type": "table"
           }
          ]
         },
         "layout": {
          "annotationdefaults": {
           "arrowcolor": "#2a3f5f",
           "arrowhead": 0,
           "arrowwidth": 1
          },
          "coloraxis": {
           "colorbar": {
            "outlinewidth": 0,
            "ticks": ""
           }
          },
          "colorscale": {
           "diverging": [
            [
             0,
             "#8e0152"
            ],
            [
             0.1,
             "#c51b7d"
            ],
            [
             0.2,
             "#de77ae"
            ],
            [
             0.3,
             "#f1b6da"
            ],
            [
             0.4,
             "#fde0ef"
            ],
            [
             0.5,
             "#f7f7f7"
            ],
            [
             0.6,
             "#e6f5d0"
            ],
            [
             0.7,
             "#b8e186"
            ],
            [
             0.8,
             "#7fbc41"
            ],
            [
             0.9,
             "#4d9221"
            ],
            [
             1,
             "#276419"
            ]
           ],
           "sequential": [
            [
             0,
             "#0d0887"
            ],
            [
             0.1111111111111111,
             "#46039f"
            ],
            [
             0.2222222222222222,
             "#7201a8"
            ],
            [
             0.3333333333333333,
             "#9c179e"
            ],
            [
             0.4444444444444444,
             "#bd3786"
            ],
            [
             0.5555555555555556,
             "#d8576b"
            ],
            [
             0.6666666666666666,
             "#ed7953"
            ],
            [
             0.7777777777777778,
             "#fb9f3a"
            ],
            [
             0.8888888888888888,
             "#fdca26"
            ],
            [
             1,
             "#f0f921"
            ]
           ],
           "sequentialminus": [
            [
             0,
             "#0d0887"
            ],
            [
             0.1111111111111111,
             "#46039f"
            ],
            [
             0.2222222222222222,
             "#7201a8"
            ],
            [
             0.3333333333333333,
             "#9c179e"
            ],
            [
             0.4444444444444444,
             "#bd3786"
            ],
            [
             0.5555555555555556,
             "#d8576b"
            ],
            [
             0.6666666666666666,
             "#ed7953"
            ],
            [
             0.7777777777777778,
             "#fb9f3a"
            ],
            [
             0.8888888888888888,
             "#fdca26"
            ],
            [
             1,
             "#f0f921"
            ]
           ]
          },
          "colorway": [
           "#636efa",
           "#EF553B",
           "#00cc96",
           "#ab63fa",
           "#FFA15A",
           "#19d3f3",
           "#FF6692",
           "#B6E880",
           "#FF97FF",
           "#FECB52"
          ],
          "font": {
           "color": "#2a3f5f"
          },
          "geo": {
           "bgcolor": "white",
           "lakecolor": "white",
           "landcolor": "#E5ECF6",
           "showlakes": true,
           "showland": true,
           "subunitcolor": "white"
          },
          "hoverlabel": {
           "align": "left"
          },
          "hovermode": "closest",
          "mapbox": {
           "style": "light"
          },
          "paper_bgcolor": "white",
          "plot_bgcolor": "#E5ECF6",
          "polar": {
           "angularaxis": {
            "gridcolor": "white",
            "linecolor": "white",
            "ticks": ""
           },
           "bgcolor": "#E5ECF6",
           "radialaxis": {
            "gridcolor": "white",
            "linecolor": "white",
            "ticks": ""
           }
          },
          "scene": {
           "xaxis": {
            "backgroundcolor": "#E5ECF6",
            "gridcolor": "white",
            "gridwidth": 2,
            "linecolor": "white",
            "showbackground": true,
            "ticks": "",
            "zerolinecolor": "white"
           },
           "yaxis": {
            "backgroundcolor": "#E5ECF6",
            "gridcolor": "white",
            "gridwidth": 2,
            "linecolor": "white",
            "showbackground": true,
            "ticks": "",
            "zerolinecolor": "white"
           },
           "zaxis": {
            "backgroundcolor": "#E5ECF6",
            "gridcolor": "white",
            "gridwidth": 2,
            "linecolor": "white",
            "showbackground": true,
            "ticks": "",
            "zerolinecolor": "white"
           }
          },
          "shapedefaults": {
           "line": {
            "color": "#2a3f5f"
           }
          },
          "ternary": {
           "aaxis": {
            "gridcolor": "white",
            "linecolor": "white",
            "ticks": ""
           },
           "baxis": {
            "gridcolor": "white",
            "linecolor": "white",
            "ticks": ""
           },
           "bgcolor": "#E5ECF6",
           "caxis": {
            "gridcolor": "white",
            "linecolor": "white",
            "ticks": ""
           }
          },
          "title": {
           "x": 0.05
          },
          "xaxis": {
           "automargin": true,
           "gridcolor": "white",
           "linecolor": "white",
           "ticks": "",
           "title": {
            "standoff": 15
           },
           "zerolinecolor": "white",
           "zerolinewidth": 2
          },
          "yaxis": {
           "automargin": true,
           "gridcolor": "white",
           "linecolor": "white",
           "ticks": "",
           "title": {
            "standoff": 15
           },
           "zerolinecolor": "white",
           "zerolinewidth": 2
          }
         }
        },
        "title": {
         "text": "Most popular baby names of 1996"
        },
        "updatemenus": [
         {
          "buttons": [
           {
            "args": [
             null,
             {
              "frame": {
               "duration": 2000,
               "redraw": true
              },
              "fromcurrent": true
             }
            ],
            "label": "Play",
            "method": "animate"
           },
           {
            "args": [
             [
              null
             ],
             {
              "frame": {
               "duration": 0,
               "redraw": false
              },
              "mode": "immediate",
              "transition": {
               "duration": 0
              }
             }
            ],
            "label": "Stop",
            "method": "animate"
           }
          ],
          "type": "buttons"
         }
        ],
        "xaxis": {
         "showline": false,
         "visible": false
        },
        "yaxis": {
         "range": [
          0,
          348
         ],
         "showline": false,
         "visible": false
        }
       }
      },
      "text/html": [
       "<div>                            <div id=\"07a35e18-dc68-4630-a354-c5302af0a265\" class=\"plotly-graph-div\" style=\"height:525px; width:100%;\"></div>            <script type=\"text/javascript\">                require([\"plotly\"], function(Plotly) {                    window.PLOTLYENV=window.PLOTLYENV || {};                                    if (document.getElementById(\"07a35e18-dc68-4630-a354-c5302af0a265\")) {                    Plotly.newPlot(                        \"07a35e18-dc68-4630-a354-c5302af0a265\",                        [{\"cliponaxis\": false, \"hoverinfo\": \"none\", \"marker\": {\"color\": [\"rgb(80, 7, 230)\", \"rgb(163, 37, 158)\", \"rgb(28, 95, 195)\", \"rgb(135, 100, 197)\", \"rgb(121, 182, 151)\", \"rgb(104, 159, 125)\", \"rgb(168, 109, 230)\", \"rgb(71, 100, 182)\", \"rgb(101, 48, 131)\", \"rgb(125, 55, 229)\"]}, \"textposition\": \"outside\", \"texttemplate\": \"%{x}<br>%{y}\", \"type\": \"bar\", \"x\": [\"MARC\", \"DAVID\", \"DANIEL\", \"ALBERT\", \"VICTOR\", \"JORDI\", \"SERGI\", \"ALEJANDRO\", \"POL\", \"ALEX\"], \"y\": [295, 198, 174, 151, 145, 143, 137, 132, 123, 113]}],                        {\"bargap\": 0.15, \"font\": {\"size\": 14}, \"plot_bgcolor\": \"#FFFFFF\", \"template\": {\"data\": {\"bar\": [{\"error_x\": {\"color\": \"#2a3f5f\"}, \"error_y\": {\"color\": \"#2a3f5f\"}, \"marker\": {\"line\": {\"color\": \"#E5ECF6\", \"width\": 0.5}}, \"type\": \"bar\"}], \"barpolar\": [{\"marker\": {\"line\": {\"color\": \"#E5ECF6\", \"width\": 0.5}}, \"type\": \"barpolar\"}], \"carpet\": [{\"aaxis\": {\"endlinecolor\": \"#2a3f5f\", \"gridcolor\": \"white\", \"linecolor\": \"white\", \"minorgridcolor\": \"white\", \"startlinecolor\": \"#2a3f5f\"}, \"baxis\": {\"endlinecolor\": \"#2a3f5f\", \"gridcolor\": \"white\", \"linecolor\": \"white\", \"minorgridcolor\": \"white\", \"startlinecolor\": \"#2a3f5f\"}, \"type\": \"carpet\"}], \"choropleth\": [{\"colorbar\": {\"outlinewidth\": 0, \"ticks\": \"\"}, \"type\": \"choropleth\"}], \"contour\": [{\"colorbar\": {\"outlinewidth\": 0, \"ticks\": \"\"}, \"colorscale\": [[0.0, \"#0d0887\"], [0.1111111111111111, \"#46039f\"], [0.2222222222222222, \"#7201a8\"], [0.3333333333333333, \"#9c179e\"], [0.4444444444444444, \"#bd3786\"], [0.5555555555555556, \"#d8576b\"], [0.6666666666666666, \"#ed7953\"], [0.7777777777777778, \"#fb9f3a\"], [0.8888888888888888, \"#fdca26\"], [1.0, \"#f0f921\"]], \"type\": \"contour\"}], \"contourcarpet\": [{\"colorbar\": {\"outlinewidth\": 0, \"ticks\": \"\"}, \"type\": \"contourcarpet\"}], \"heatmap\": [{\"colorbar\": {\"outlinewidth\": 0, \"ticks\": \"\"}, \"colorscale\": [[0.0, \"#0d0887\"], [0.1111111111111111, \"#46039f\"], [0.2222222222222222, \"#7201a8\"], [0.3333333333333333, \"#9c179e\"], [0.4444444444444444, \"#bd3786\"], [0.5555555555555556, \"#d8576b\"], [0.6666666666666666, \"#ed7953\"], [0.7777777777777778, \"#fb9f3a\"], [0.8888888888888888, \"#fdca26\"], [1.0, \"#f0f921\"]], \"type\": \"heatmap\"}], \"heatmapgl\": [{\"colorbar\": {\"outlinewidth\": 0, \"ticks\": \"\"}, \"colorscale\": [[0.0, \"#0d0887\"], [0.1111111111111111, \"#46039f\"], [0.2222222222222222, \"#7201a8\"], [0.3333333333333333, \"#9c179e\"], [0.4444444444444444, \"#bd3786\"], [0.5555555555555556, \"#d8576b\"], [0.6666666666666666, \"#ed7953\"], [0.7777777777777778, \"#fb9f3a\"], [0.8888888888888888, \"#fdca26\"], [1.0, \"#f0f921\"]], \"type\": \"heatmapgl\"}], \"histogram\": [{\"marker\": {\"colorbar\": {\"outlinewidth\": 0, \"ticks\": \"\"}}, \"type\": \"histogram\"}], \"histogram2d\": [{\"colorbar\": {\"outlinewidth\": 0, \"ticks\": \"\"}, \"colorscale\": [[0.0, \"#0d0887\"], [0.1111111111111111, \"#46039f\"], [0.2222222222222222, \"#7201a8\"], [0.3333333333333333, \"#9c179e\"], [0.4444444444444444, \"#bd3786\"], [0.5555555555555556, \"#d8576b\"], [0.6666666666666666, \"#ed7953\"], [0.7777777777777778, \"#fb9f3a\"], [0.8888888888888888, \"#fdca26\"], [1.0, \"#f0f921\"]], \"type\": \"histogram2d\"}], \"histogram2dcontour\": [{\"colorbar\": {\"outlinewidth\": 0, \"ticks\": \"\"}, \"colorscale\": [[0.0, \"#0d0887\"], [0.1111111111111111, \"#46039f\"], [0.2222222222222222, \"#7201a8\"], [0.3333333333333333, \"#9c179e\"], [0.4444444444444444, \"#bd3786\"], [0.5555555555555556, \"#d8576b\"], [0.6666666666666666, \"#ed7953\"], [0.7777777777777778, \"#fb9f3a\"], [0.8888888888888888, \"#fdca26\"], [1.0, \"#f0f921\"]], \"type\": \"histogram2dcontour\"}], \"mesh3d\": [{\"colorbar\": {\"outlinewidth\": 0, \"ticks\": \"\"}, \"type\": \"mesh3d\"}], \"parcoords\": [{\"line\": {\"colorbar\": {\"outlinewidth\": 0, \"ticks\": \"\"}}, \"type\": \"parcoords\"}], \"pie\": [{\"automargin\": true, \"type\": \"pie\"}], \"scatter\": [{\"marker\": {\"colorbar\": {\"outlinewidth\": 0, \"ticks\": \"\"}}, \"type\": \"scatter\"}], \"scatter3d\": [{\"line\": {\"colorbar\": {\"outlinewidth\": 0, \"ticks\": \"\"}}, \"marker\": {\"colorbar\": {\"outlinewidth\": 0, \"ticks\": \"\"}}, \"type\": \"scatter3d\"}], \"scattercarpet\": [{\"marker\": {\"colorbar\": {\"outlinewidth\": 0, \"ticks\": \"\"}}, \"type\": \"scattercarpet\"}], \"scattergeo\": [{\"marker\": {\"colorbar\": {\"outlinewidth\": 0, \"ticks\": \"\"}}, \"type\": \"scattergeo\"}], \"scattergl\": [{\"marker\": {\"colorbar\": {\"outlinewidth\": 0, \"ticks\": \"\"}}, \"type\": \"scattergl\"}], \"scattermapbox\": [{\"marker\": {\"colorbar\": {\"outlinewidth\": 0, \"ticks\": \"\"}}, \"type\": \"scattermapbox\"}], \"scatterpolar\": [{\"marker\": {\"colorbar\": {\"outlinewidth\": 0, \"ticks\": \"\"}}, \"type\": \"scatterpolar\"}], \"scatterpolargl\": [{\"marker\": {\"colorbar\": {\"outlinewidth\": 0, \"ticks\": \"\"}}, \"type\": \"scatterpolargl\"}], \"scatterternary\": [{\"marker\": {\"colorbar\": {\"outlinewidth\": 0, \"ticks\": \"\"}}, \"type\": \"scatterternary\"}], \"surface\": [{\"colorbar\": {\"outlinewidth\": 0, \"ticks\": \"\"}, \"colorscale\": [[0.0, \"#0d0887\"], [0.1111111111111111, \"#46039f\"], [0.2222222222222222, \"#7201a8\"], [0.3333333333333333, \"#9c179e\"], [0.4444444444444444, \"#bd3786\"], [0.5555555555555556, \"#d8576b\"], [0.6666666666666666, \"#ed7953\"], [0.7777777777777778, \"#fb9f3a\"], [0.8888888888888888, \"#fdca26\"], [1.0, \"#f0f921\"]], \"type\": \"surface\"}], \"table\": [{\"cells\": {\"fill\": {\"color\": \"#EBF0F8\"}, \"line\": {\"color\": \"white\"}}, \"header\": {\"fill\": {\"color\": \"#C8D4E3\"}, \"line\": {\"color\": \"white\"}}, \"type\": \"table\"}]}, \"layout\": {\"annotationdefaults\": {\"arrowcolor\": \"#2a3f5f\", \"arrowhead\": 0, \"arrowwidth\": 1}, \"coloraxis\": {\"colorbar\": {\"outlinewidth\": 0, \"ticks\": \"\"}}, \"colorscale\": {\"diverging\": [[0, \"#8e0152\"], [0.1, \"#c51b7d\"], [0.2, \"#de77ae\"], [0.3, \"#f1b6da\"], [0.4, \"#fde0ef\"], [0.5, \"#f7f7f7\"], [0.6, \"#e6f5d0\"], [0.7, \"#b8e186\"], [0.8, \"#7fbc41\"], [0.9, \"#4d9221\"], [1, \"#276419\"]], \"sequential\": [[0.0, \"#0d0887\"], [0.1111111111111111, \"#46039f\"], [0.2222222222222222, \"#7201a8\"], [0.3333333333333333, \"#9c179e\"], [0.4444444444444444, \"#bd3786\"], [0.5555555555555556, \"#d8576b\"], [0.6666666666666666, \"#ed7953\"], [0.7777777777777778, \"#fb9f3a\"], [0.8888888888888888, \"#fdca26\"], [1.0, \"#f0f921\"]], \"sequentialminus\": [[0.0, \"#0d0887\"], [0.1111111111111111, \"#46039f\"], [0.2222222222222222, \"#7201a8\"], [0.3333333333333333, \"#9c179e\"], [0.4444444444444444, \"#bd3786\"], [0.5555555555555556, \"#d8576b\"], [0.6666666666666666, \"#ed7953\"], [0.7777777777777778, \"#fb9f3a\"], [0.8888888888888888, \"#fdca26\"], [1.0, \"#f0f921\"]]}, \"colorway\": [\"#636efa\", \"#EF553B\", \"#00cc96\", \"#ab63fa\", \"#FFA15A\", \"#19d3f3\", \"#FF6692\", \"#B6E880\", \"#FF97FF\", \"#FECB52\"], \"font\": {\"color\": \"#2a3f5f\"}, \"geo\": {\"bgcolor\": \"white\", \"lakecolor\": \"white\", \"landcolor\": \"#E5ECF6\", \"showlakes\": true, \"showland\": true, \"subunitcolor\": \"white\"}, \"hoverlabel\": {\"align\": \"left\"}, \"hovermode\": \"closest\", \"mapbox\": {\"style\": \"light\"}, \"paper_bgcolor\": \"white\", \"plot_bgcolor\": \"#E5ECF6\", \"polar\": {\"angularaxis\": {\"gridcolor\": \"white\", \"linecolor\": \"white\", \"ticks\": \"\"}, \"bgcolor\": \"#E5ECF6\", \"radialaxis\": {\"gridcolor\": \"white\", \"linecolor\": \"white\", \"ticks\": \"\"}}, \"scene\": {\"xaxis\": {\"backgroundcolor\": \"#E5ECF6\", \"gridcolor\": \"white\", \"gridwidth\": 2, \"linecolor\": \"white\", \"showbackground\": true, \"ticks\": \"\", \"zerolinecolor\": \"white\"}, \"yaxis\": {\"backgroundcolor\": \"#E5ECF6\", \"gridcolor\": \"white\", \"gridwidth\": 2, \"linecolor\": \"white\", \"showbackground\": true, \"ticks\": \"\", \"zerolinecolor\": \"white\"}, \"zaxis\": {\"backgroundcolor\": \"#E5ECF6\", \"gridcolor\": \"white\", \"gridwidth\": 2, \"linecolor\": \"white\", \"showbackground\": true, \"ticks\": \"\", \"zerolinecolor\": \"white\"}}, \"shapedefaults\": {\"line\": {\"color\": \"#2a3f5f\"}}, \"ternary\": {\"aaxis\": {\"gridcolor\": \"white\", \"linecolor\": \"white\", \"ticks\": \"\"}, \"baxis\": {\"gridcolor\": \"white\", \"linecolor\": \"white\", \"ticks\": \"\"}, \"bgcolor\": \"#E5ECF6\", \"caxis\": {\"gridcolor\": \"white\", \"linecolor\": \"white\", \"ticks\": \"\"}}, \"title\": {\"x\": 0.05}, \"xaxis\": {\"automargin\": true, \"gridcolor\": \"white\", \"linecolor\": \"white\", \"ticks\": \"\", \"title\": {\"standoff\": 15}, \"zerolinecolor\": \"white\", \"zerolinewidth\": 2}, \"yaxis\": {\"automargin\": true, \"gridcolor\": \"white\", \"linecolor\": \"white\", \"ticks\": \"\", \"title\": {\"standoff\": 15}, \"zerolinecolor\": \"white\", \"zerolinewidth\": 2}}}, \"title\": {\"text\": \"Most popular baby names of 1996\"}, \"updatemenus\": [{\"buttons\": [{\"args\": [null, {\"frame\": {\"duration\": 2000, \"redraw\": true}, \"fromcurrent\": true}], \"label\": \"Play\", \"method\": \"animate\"}, {\"args\": [[null], {\"frame\": {\"duration\": 0, \"redraw\": false}, \"mode\": \"immediate\", \"transition\": {\"duration\": 0}}], \"label\": \"Stop\", \"method\": \"animate\"}], \"type\": \"buttons\"}], \"xaxis\": {\"showline\": false, \"visible\": false}, \"yaxis\": {\"range\": [0, 348], \"showline\": false, \"visible\": false}},                        {\"responsive\": true}                    ).then(function(){\n",
       "                            Plotly.addFrames('07a35e18-dc68-4630-a354-c5302af0a265', [{\"data\": [{\"cliponaxis\": false, \"hoverinfo\": \"none\", \"marker\": {\"color\": [\"rgb(80, 7, 230)\", \"rgb(163, 37, 158)\", \"rgb(28, 95, 195)\", \"rgb(135, 100, 197)\", \"rgb(121, 182, 151)\", \"rgb(104, 159, 125)\", \"rgb(168, 109, 230)\", \"rgb(71, 100, 182)\", \"rgb(101, 48, 131)\", \"rgb(125, 55, 229)\"]}, \"textposition\": \"outside\", \"texttemplate\": \"%{x}<br>%{y}\", \"x\": [\"MARC\", \"DAVID\", \"DANIEL\", \"ALBERT\", \"VICTOR\", \"JORDI\", \"SERGI\", \"ALEJANDRO\", \"POL\", \"ALEX\"], \"y\": [295, 198, 174, 151, 145, 143, 137, 132, 123, 113], \"type\": \"bar\"}], \"layout\": {\"bargap\": 0.15, \"font\": {\"size\": 14}, \"plot_bgcolor\": \"#FFFFFF\", \"title\": {\"text\": \"Most popular baby names of 1996\"}, \"xaxis\": {\"showline\": false, \"visible\": false}, \"yaxis\": {\"showline\": false, \"visible\": false}}}, {\"data\": [{\"cliponaxis\": false, \"hoverinfo\": \"none\", \"marker\": {\"color\": [\"rgb(80, 7, 230)\", \"rgb(163, 37, 158)\", \"rgb(28, 95, 195)\", \"rgb(121, 182, 151)\", \"rgb(125, 55, 229)\", \"rgb(101, 48, 131)\", \"rgb(71, 100, 182)\", \"rgb(135, 100, 197)\", \"rgb(149, 97, 174)\", \"rgb(168, 109, 230)\"]}, \"textposition\": \"outside\", \"texttemplate\": \"%{x}<br>%{y}\", \"x\": [\"MARC\", \"DAVID\", \"DANIEL\", \"VICTOR\", \"ALEX\", \"POL\", \"ALEJANDRO\", \"ALBERT\", \"PAU\", \"SERGI\"], \"y\": [348, 183, 163, 150, 148, 143, 128, 126, 125, 120], \"type\": \"bar\"}], \"layout\": {\"bargap\": 0.15, \"font\": {\"size\": 14}, \"plot_bgcolor\": \"#FFFFFF\", \"title\": {\"text\": \"Most popular baby names of 1997\"}, \"xaxis\": {\"showline\": false, \"visible\": false}, \"yaxis\": {\"showline\": false, \"visible\": false}}}, {\"data\": [{\"cliponaxis\": false, \"hoverinfo\": \"none\", \"marker\": {\"color\": [\"rgb(80, 7, 230)\", \"rgb(163, 37, 158)\", \"rgb(125, 55, 229)\", \"rgb(28, 95, 195)\", \"rgb(101, 48, 131)\", \"rgb(121, 182, 151)\", \"rgb(135, 100, 197)\", \"rgb(168, 109, 230)\", \"rgb(149, 97, 174)\", \"rgb(71, 100, 182)\"]}, \"textposition\": \"outside\", \"texttemplate\": \"%{x}<br>%{y}\", \"x\": [\"MARC\", \"DAVID\", \"ALEX\", \"DANIEL\", \"POL\", \"VICTOR\", \"ALBERT\", \"SERGI\", \"PAU\", \"ALEJANDRO\"], \"y\": [330, 184, 174, 159, 144, 139, 135, 130, 122, 117], \"type\": \"bar\"}], \"layout\": {\"bargap\": 0.15, \"font\": {\"size\": 14}, \"plot_bgcolor\": \"#FFFFFF\", \"title\": {\"text\": \"Most popular baby names of 1998\"}, \"xaxis\": {\"showline\": false, \"visible\": false}, \"yaxis\": {\"showline\": false, \"visible\": false}}}, {\"data\": [{\"cliponaxis\": false, \"hoverinfo\": \"none\", \"marker\": {\"color\": [\"rgb(80, 7, 230)\", \"rgb(125, 55, 229)\", \"rgb(28, 95, 195)\", \"rgb(163, 37, 158)\", \"rgb(121, 182, 151)\", \"rgb(101, 48, 131)\", \"rgb(149, 97, 174)\", \"rgb(135, 100, 197)\", \"rgb(71, 100, 182)\", \"rgb(104, 159, 125)\"]}, \"textposition\": \"outside\", \"texttemplate\": \"%{x}<br>%{y}\", \"x\": [\"MARC\", \"ALEX\", \"DANIEL\", \"DAVID\", \"VICTOR\", \"POL\", \"PAU\", \"ALBERT\", \"ALEJANDRO\", \"JORDI\"], \"y\": [291, 169, 166, 159, 157, 155, 133, 122, 118, 115], \"type\": \"bar\"}], \"layout\": {\"bargap\": 0.15, \"font\": {\"size\": 14}, \"plot_bgcolor\": \"#FFFFFF\", \"title\": {\"text\": \"Most popular baby names of 1999\"}, \"xaxis\": {\"showline\": false, \"visible\": false}, \"yaxis\": {\"showline\": false, \"visible\": false}}}, {\"data\": [{\"cliponaxis\": false, \"hoverinfo\": \"none\", \"marker\": {\"color\": [\"rgb(80, 7, 230)\", \"rgb(125, 55, 229)\", \"rgb(101, 48, 131)\", \"rgb(163, 37, 158)\", \"rgb(28, 95, 195)\", \"rgb(121, 182, 151)\", \"rgb(149, 97, 174)\", \"rgb(135, 100, 197)\", \"rgb(165, 83, 178)\", \"rgb(71, 100, 182)\"]}, \"textposition\": \"outside\", \"texttemplate\": \"%{x}<br>%{y}\", \"x\": [\"MARC\", \"ALEX\", \"POL\", \"DAVID\", \"DANIEL\", \"VICTOR\", \"PAU\", \"ALBERT\", \"ARNAU\", \"ALEJANDRO\"], \"y\": [290, 201, 189, 187, 176, 150, 134, 125, 120, 117], \"type\": \"bar\"}], \"layout\": {\"bargap\": 0.15, \"font\": {\"size\": 14}, \"plot_bgcolor\": \"#FFFFFF\", \"title\": {\"text\": \"Most popular baby names of 2000\"}, \"xaxis\": {\"showline\": false, \"visible\": false}, \"yaxis\": {\"showline\": false, \"visible\": false}}}, {\"data\": [{\"cliponaxis\": false, \"hoverinfo\": \"none\", \"marker\": {\"color\": [\"rgb(80, 7, 230)\", \"rgb(125, 55, 229)\", \"rgb(101, 48, 131)\", \"rgb(163, 37, 158)\", \"rgb(149, 97, 174)\", \"rgb(28, 95, 195)\", \"rgb(71, 100, 182)\", \"rgb(121, 182, 151)\", \"rgb(73, 170, 221)\", \"rgb(165, 83, 178)\"]}, \"textposition\": \"outside\", \"texttemplate\": \"%{x}<br>%{y}\", \"x\": [\"MARC\", \"ALEX\", \"POL\", \"DAVID\", \"PAU\", \"DANIEL\", \"ALEJANDRO\", \"VICTOR\", \"GERARD\", \"ARNAU\"], \"y\": [234, 164, 159, 154, 151, 143, 132, 126, 125, 108], \"type\": \"bar\"}], \"layout\": {\"bargap\": 0.15, \"font\": {\"size\": 14}, \"plot_bgcolor\": \"#FFFFFF\", \"title\": {\"text\": \"Most popular baby names of 2001\"}, \"xaxis\": {\"showline\": false, \"visible\": false}, \"yaxis\": {\"showline\": false, \"visible\": false}}}, {\"data\": [{\"cliponaxis\": false, \"hoverinfo\": \"none\", \"marker\": {\"color\": [\"rgb(80, 7, 230)\", \"rgb(101, 48, 131)\", \"rgb(163, 37, 158)\", \"rgb(149, 97, 174)\", \"rgb(125, 55, 229)\", \"rgb(28, 95, 195)\", \"rgb(71, 100, 182)\", \"rgb(121, 182, 151)\", \"rgb(165, 83, 178)\", \"rgb(73, 170, 221)\"]}, \"textposition\": \"outside\", \"texttemplate\": \"%{x}<br>%{y}\", \"x\": [\"MARC\", \"POL\", \"DAVID\", \"PAU\", \"ALEX\", \"DANIEL\", \"ALEJANDRO\", \"VICTOR\", \"ARNAU\", \"GERARD\"], \"y\": [267, 175, 150, 149, 148, 128, 124, 120, 115, 106], \"type\": \"bar\"}], \"layout\": {\"bargap\": 0.15, \"font\": {\"size\": 14}, \"plot_bgcolor\": \"#FFFFFF\", \"title\": {\"text\": \"Most popular baby names of 2002\"}, \"xaxis\": {\"showline\": false, \"visible\": false}, \"yaxis\": {\"showline\": false, \"visible\": false}}}, {\"data\": [{\"cliponaxis\": false, \"hoverinfo\": \"none\", \"marker\": {\"color\": [\"rgb(80, 7, 230)\", \"rgb(125, 55, 229)\", \"rgb(149, 97, 174)\", \"rgb(101, 48, 131)\", \"rgb(163, 37, 158)\", \"rgb(28, 95, 195)\", \"rgb(31, 50, 161)\", \"rgb(165, 83, 178)\", \"rgb(121, 182, 151)\", \"rgb(71, 100, 182)\"]}, \"textposition\": \"outside\", \"texttemplate\": \"%{x}<br>%{y}\", \"x\": [\"MARC\", \"ALEX\", \"PAU\", \"POL\", \"DAVID\", \"DANIEL\", \"JOAN\", \"ARNAU\", \"VICTOR\", \"ALEJANDRO\"], \"y\": [287, 205, 202, 184, 173, 156, 119, 109, 107, 105], \"type\": \"bar\"}], \"layout\": {\"bargap\": 0.15, \"font\": {\"size\": 14}, \"plot_bgcolor\": \"#FFFFFF\", \"title\": {\"text\": \"Most popular baby names of 2003\"}, \"xaxis\": {\"showline\": false, \"visible\": false}, \"yaxis\": {\"showline\": false, \"visible\": false}}}, {\"data\": [{\"cliponaxis\": false, \"hoverinfo\": \"none\", \"marker\": {\"color\": [\"rgb(80, 7, 230)\", \"rgb(125, 55, 229)\", \"rgb(101, 48, 131)\", \"rgb(149, 97, 174)\", \"rgb(163, 37, 158)\", \"rgb(28, 95, 195)\", \"rgb(165, 83, 178)\", \"rgb(121, 182, 151)\", \"rgb(71, 100, 182)\", \"rgb(82, 140, 155)\"]}, \"textposition\": \"outside\", \"texttemplate\": \"%{x}<br>%{y}\", \"x\": [\"MARC\", \"ALEX\", \"POL\", \"PAU\", \"DAVID\", \"DANIEL\", \"ARNAU\", \"VICTOR\", \"ALEJANDRO\", \"PABLO\"], \"y\": [259, 185, 181, 173, 129, 128, 125, 116, 107, 107], \"type\": \"bar\"}], \"layout\": {\"bargap\": 0.15, \"font\": {\"size\": 14}, \"plot_bgcolor\": \"#FFFFFF\", \"title\": {\"text\": \"Most popular baby names of 2004\"}, \"xaxis\": {\"showline\": false, \"visible\": false}, \"yaxis\": {\"showline\": false, \"visible\": false}}}, {\"data\": [{\"cliponaxis\": false, \"hoverinfo\": \"none\", \"marker\": {\"color\": [\"rgb(80, 7, 230)\", \"rgb(149, 97, 174)\", \"rgb(101, 48, 131)\", \"rgb(125, 55, 229)\", \"rgb(163, 37, 158)\", \"rgb(28, 95, 195)\", \"rgb(169, 40, 253)\", \"rgb(165, 83, 178)\", \"rgb(73, 64, 185)\", \"rgb(82, 140, 155)\"]}, \"textposition\": \"outside\", \"texttemplate\": \"%{x}<br>%{y}\", \"x\": [\"MARC\", \"PAU\", \"POL\", \"ALEX\", \"DAVID\", \"DANIEL\", \"JAN\", \"ARNAU\", \"MARTI\", \"PABLO\"], \"y\": [277, 187, 176, 167, 157, 151, 122, 115, 111, 106], \"type\": \"bar\"}], \"layout\": {\"bargap\": 0.15, \"font\": {\"size\": 14}, \"plot_bgcolor\": \"#FFFFFF\", \"title\": {\"text\": \"Most popular baby names of 2005\"}, \"xaxis\": {\"showline\": false, \"visible\": false}, \"yaxis\": {\"showline\": false, \"visible\": false}}}, {\"data\": [{\"cliponaxis\": false, \"hoverinfo\": \"none\", \"marker\": {\"color\": [\"rgb(80, 7, 230)\", \"rgb(101, 48, 131)\", \"rgb(125, 55, 229)\", \"rgb(149, 97, 174)\", \"rgb(28, 95, 195)\", \"rgb(165, 83, 178)\", \"rgb(163, 37, 158)\", \"rgb(121, 182, 151)\", \"rgb(73, 64, 185)\", \"rgb(71, 100, 182)\"]}, \"textposition\": \"outside\", \"texttemplate\": \"%{x}<br>%{y}\", \"x\": [\"MARC\", \"POL\", \"ALEX\", \"PAU\", \"DANIEL\", \"ARNAU\", \"DAVID\", \"VICTOR\", \"MARTI\", \"ALEJANDRO\"], \"y\": [229, 173, 168, 163, 141, 117, 116, 111, 98, 95], \"type\": \"bar\"}], \"layout\": {\"bargap\": 0.15, \"font\": {\"size\": 14}, \"plot_bgcolor\": \"#FFFFFF\", \"title\": {\"text\": \"Most popular baby names of 2006\"}, \"xaxis\": {\"showline\": false, \"visible\": false}, \"yaxis\": {\"showline\": false, \"visible\": false}}}, {\"data\": [{\"cliponaxis\": false, \"hoverinfo\": \"none\", \"marker\": {\"color\": [\"rgb(80, 7, 230)\", \"rgb(125, 55, 229)\", \"rgb(149, 97, 174)\", \"rgb(101, 48, 131)\", \"rgb(28, 95, 195)\", \"rgb(163, 37, 158)\", \"rgb(71, 113, 158)\", \"rgb(73, 64, 185)\", \"rgb(165, 83, 178)\", \"rgb(121, 182, 151)\"]}, \"textposition\": \"outside\", \"texttemplate\": \"%{x}<br>%{y}\", \"x\": [\"MARC\", \"ALEX\", \"PAU\", \"POL\", \"DANIEL\", \"DAVID\", \"ERIC\", \"MARTI\", \"ARNAU\", \"VICTOR\"], \"y\": [237, 163, 148, 140, 132, 127, 126, 126, 115, 98], \"type\": \"bar\"}], \"layout\": {\"bargap\": 0.15, \"font\": {\"size\": 14}, \"plot_bgcolor\": \"#FFFFFF\", \"title\": {\"text\": \"Most popular baby names of 2007\"}, \"xaxis\": {\"showline\": false, \"visible\": false}, \"yaxis\": {\"showline\": false, \"visible\": false}}}, {\"data\": [{\"cliponaxis\": false, \"hoverinfo\": \"none\", \"marker\": {\"color\": [\"rgb(80, 7, 230)\", \"rgb(101, 48, 131)\", \"rgb(125, 55, 229)\", \"rgb(149, 97, 174)\", \"rgb(28, 95, 195)\", \"rgb(163, 37, 158)\", \"rgb(169, 40, 253)\", \"rgb(71, 113, 158)\", \"rgb(165, 83, 178)\", \"rgb(73, 64, 185)\"]}, \"textposition\": \"outside\", \"texttemplate\": \"%{x}<br>%{y}\", \"x\": [\"MARC\", \"POL\", \"ALEX\", \"PAU\", \"DANIEL\", \"DAVID\", \"JAN\", \"ERIC\", \"ARNAU\", \"MARTI\"], \"y\": [244, 172, 156, 144, 121, 109, 106, 100, 98, 98], \"type\": \"bar\"}], \"layout\": {\"bargap\": 0.15, \"font\": {\"size\": 14}, \"plot_bgcolor\": \"#FFFFFF\", \"title\": {\"text\": \"Most popular baby names of 2008\"}, \"xaxis\": {\"showline\": false, \"visible\": false}, \"yaxis\": {\"showline\": false, \"visible\": false}}}, {\"data\": [{\"cliponaxis\": false, \"hoverinfo\": \"none\", \"marker\": {\"color\": [\"rgb(80, 7, 230)\", \"rgb(149, 97, 174)\", \"rgb(125, 55, 229)\", \"rgb(101, 48, 131)\", \"rgb(71, 113, 158)\", \"rgb(73, 64, 185)\", \"rgb(165, 83, 178)\", \"rgb(169, 40, 253)\", \"rgb(28, 95, 195)\", \"rgb(9, 174, 250)\"]}, \"textposition\": \"outside\", \"texttemplate\": \"%{x}<br>%{y}\", \"x\": [\"MARC\", \"PAU\", \"ALEX\", \"POL\", \"ERIC\", \"MARTI\", \"ARNAU\", \"JAN\", \"DANIEL\", \"HUGO\"], \"y\": [194, 165, 150, 146, 130, 116, 106, 100, 98, 89], \"type\": \"bar\"}], \"layout\": {\"bargap\": 0.15, \"font\": {\"size\": 14}, \"plot_bgcolor\": \"#FFFFFF\", \"title\": {\"text\": \"Most popular baby names of 2009\"}, \"xaxis\": {\"showline\": false, \"visible\": false}, \"yaxis\": {\"showline\": false, \"visible\": false}}}, {\"data\": [{\"cliponaxis\": false, \"hoverinfo\": \"none\", \"marker\": {\"color\": [\"rgb(80, 7, 230)\", \"rgb(101, 48, 131)\", \"rgb(125, 55, 229)\", \"rgb(149, 97, 174)\", \"rgb(73, 64, 185)\", \"rgb(71, 113, 158)\", \"rgb(165, 83, 178)\", \"rgb(28, 95, 195)\", \"rgb(73, 170, 221)\", \"rgb(169, 40, 253)\"]}, \"textposition\": \"outside\", \"texttemplate\": \"%{x}<br>%{y}\", \"x\": [\"MARC\", \"POL\", \"ALEX\", \"PAU\", \"MARTI\", \"ERIC\", \"ARNAU\", \"DANIEL\", \"GERARD\", \"JAN\"], \"y\": [195, 148, 143, 134, 124, 117, 110, 103, 100, 98], \"type\": \"bar\"}], \"layout\": {\"bargap\": 0.15, \"font\": {\"size\": 14}, \"plot_bgcolor\": \"#FFFFFF\", \"title\": {\"text\": \"Most popular baby names of 2010\"}, \"xaxis\": {\"showline\": false, \"visible\": false}, \"yaxis\": {\"showline\": false, \"visible\": false}}}, {\"data\": [{\"cliponaxis\": false, \"hoverinfo\": \"none\", \"marker\": {\"color\": [\"rgb(80, 7, 230)\", \"rgb(125, 55, 229)\", \"rgb(101, 48, 131)\", \"rgb(149, 97, 174)\", \"rgb(71, 113, 158)\", \"rgb(73, 64, 185)\", \"rgb(73, 170, 221)\", \"rgb(165, 83, 178)\", \"rgb(81, 69, 154)\", \"rgb(163, 37, 158)\"]}, \"textposition\": \"outside\", \"texttemplate\": \"%{x}<br>%{y}\", \"x\": [\"MARC\", \"ALEX\", \"POL\", \"PAU\", \"ERIC\", \"MARTI\", \"GERARD\", \"ARNAU\", \"BIEL\", \"DAVID\"], \"y\": [209, 142, 124, 118, 113, 103, 99, 95, 87, 85], \"type\": \"bar\"}], \"layout\": {\"bargap\": 0.15, \"font\": {\"size\": 14}, \"plot_bgcolor\": \"#FFFFFF\", \"title\": {\"text\": \"Most popular baby names of 2011\"}, \"xaxis\": {\"showline\": false, \"visible\": false}, \"yaxis\": {\"showline\": false, \"visible\": false}}}, {\"data\": [{\"cliponaxis\": false, \"hoverinfo\": \"none\", \"marker\": {\"color\": [\"rgb(80, 7, 230)\", \"rgb(101, 48, 131)\", \"rgb(71, 113, 158)\", \"rgb(125, 55, 229)\", \"rgb(149, 97, 174)\", \"rgb(165, 83, 178)\", \"rgb(73, 64, 185)\", \"rgb(73, 170, 221)\", \"rgb(169, 40, 253)\", \"rgb(81, 69, 154)\"]}, \"textposition\": \"outside\", \"texttemplate\": \"%{x}<br>%{y}\", \"x\": [\"MARC\", \"POL\", \"ERIC\", \"ALEX\", \"PAU\", \"ARNAU\", \"MARTI\", \"GERARD\", \"JAN\", \"BIEL\"], \"y\": [206, 138, 125, 120, 110, 101, 99, 98, 98, 95], \"type\": \"bar\"}], \"layout\": {\"bargap\": 0.15, \"font\": {\"size\": 14}, \"plot_bgcolor\": \"#FFFFFF\", \"title\": {\"text\": \"Most popular baby names of 2012\"}, \"xaxis\": {\"showline\": false, \"visible\": false}, \"yaxis\": {\"showline\": false, \"visible\": false}}}, {\"data\": [{\"cliponaxis\": false, \"hoverinfo\": \"none\", \"marker\": {\"color\": [\"rgb(80, 7, 230)\", \"rgb(149, 97, 174)\", \"rgb(101, 48, 131)\", \"rgb(125, 55, 229)\", \"rgb(71, 113, 158)\", \"rgb(165, 83, 178)\", \"rgb(81, 69, 154)\", \"rgb(73, 64, 185)\", \"rgb(169, 40, 253)\", \"rgb(9, 174, 250)\"]}, \"textposition\": \"outside\", \"texttemplate\": \"%{x}<br>%{y}\", \"x\": [\"MARC\", \"PAU\", \"POL\", \"ALEX\", \"ERIC\", \"ARNAU\", \"BIEL\", \"MARTI\", \"JAN\", \"HUGO\"], \"y\": [175, 129, 126, 122, 122, 100, 95, 95, 92, 89], \"type\": \"bar\"}], \"layout\": {\"bargap\": 0.15, \"font\": {\"size\": 14}, \"plot_bgcolor\": \"#FFFFFF\", \"title\": {\"text\": \"Most popular baby names of 2013\"}, \"xaxis\": {\"showline\": false, \"visible\": false}, \"yaxis\": {\"showline\": false, \"visible\": false}}}, {\"data\": [{\"cliponaxis\": false, \"hoverinfo\": \"none\", \"marker\": {\"color\": [\"rgb(80, 7, 230)\", \"rgb(101, 48, 131)\", \"rgb(125, 55, 229)\", \"rgb(71, 113, 158)\", \"rgb(73, 64, 185)\", \"rgb(149, 97, 174)\", \"rgb(81, 69, 154)\", \"rgb(28, 95, 195)\", \"rgb(169, 40, 253)\", \"rgb(9, 174, 250)\"]}, \"textposition\": \"outside\", \"texttemplate\": \"%{x}<br>%{y}\", \"x\": [\"MARC\", \"POL\", \"ALEX\", \"ERIC\", \"MARTI\", \"PAU\", \"BIEL\", \"DANIEL\", \"JAN\", \"HUGO\"], \"y\": [192, 137, 135, 123, 116, 104, 90, 89, 89, 82], \"type\": \"bar\"}], \"layout\": {\"bargap\": 0.15, \"font\": {\"size\": 14}, \"plot_bgcolor\": \"#FFFFFF\", \"title\": {\"text\": \"Most popular baby names of 2014\"}, \"xaxis\": {\"showline\": false, \"visible\": false}, \"yaxis\": {\"showline\": false, \"visible\": false}}}, {\"data\": [{\"cliponaxis\": false, \"hoverinfo\": \"none\", \"marker\": {\"color\": [\"rgb(80, 7, 230)\", \"rgb(73, 64, 185)\", \"rgb(125, 55, 229)\", \"rgb(71, 113, 158)\", \"rgb(149, 97, 174)\", \"rgb(9, 174, 250)\", \"rgb(81, 69, 154)\", \"rgb(165, 83, 178)\", \"rgb(169, 40, 253)\", \"rgb(46, 116, 136)\"]}, \"textposition\": \"outside\", \"texttemplate\": \"%{x}<br>%{y}\", \"x\": [\"MARC\", \"MARTI\", \"ALEX\", \"ERIC\", \"PAU\", \"HUGO\", \"BIEL\", \"ARNAU\", \"JAN\", \"NIL\"], \"y\": [172, 133, 110, 109, 108, 107, 99, 93, 88, 88], \"type\": \"bar\"}], \"layout\": {\"bargap\": 0.15, \"font\": {\"size\": 14}, \"plot_bgcolor\": \"#FFFFFF\", \"title\": {\"text\": \"Most popular baby names of 2015\"}, \"xaxis\": {\"showline\": false, \"visible\": false}, \"yaxis\": {\"showline\": false, \"visible\": false}}}, {\"data\": [{\"cliponaxis\": false, \"hoverinfo\": \"none\", \"marker\": {\"color\": [\"rgb(80, 7, 230)\", \"rgb(125, 55, 229)\", \"rgb(101, 48, 131)\", \"rgb(71, 113, 158)\", \"rgb(149, 97, 174)\", \"rgb(73, 64, 185)\", \"rgb(81, 69, 154)\", \"rgb(63, 74, 158)\", \"rgb(71, 16, 248)\", \"rgb(169, 40, 253)\"]}, \"textposition\": \"outside\", \"texttemplate\": \"%{x}<br>%{y}\", \"x\": [\"MARC\", \"ALEX\", \"POL\", \"ERIC\", \"PAU\", \"MARTI\", \"BIEL\", \"BRUNO\", \"LUCAS\", \"JAN\"], \"y\": [148, 140, 110, 109, 107, 104, 99, 93, 93, 91], \"type\": \"bar\"}], \"layout\": {\"bargap\": 0.15, \"font\": {\"size\": 14}, \"plot_bgcolor\": \"#FFFFFF\", \"title\": {\"text\": \"Most popular baby names of 2016\"}, \"xaxis\": {\"showline\": false, \"visible\": false}, \"yaxis\": {\"showline\": false, \"visible\": false}}}, {\"data\": [{\"cliponaxis\": false, \"hoverinfo\": \"none\", \"marker\": {\"color\": [\"rgb(101, 48, 131)\", \"rgb(80, 7, 230)\", \"rgb(125, 55, 229)\", \"rgb(71, 16, 248)\", \"rgb(71, 113, 158)\", \"rgb(149, 97, 174)\", \"rgb(63, 74, 158)\", \"rgb(169, 40, 253)\", \"rgb(4, 105, 181)\", \"rgb(165, 83, 178)\"]}, \"textposition\": \"outside\", \"texttemplate\": \"%{x}<br>%{y}\", \"x\": [\"POL\", \"MARC\", \"ALEX\", \"LUCAS\", \"ERIC\", \"PAU\", \"BRUNO\", \"JAN\", \"LEO\", \"ARNAU\"], \"y\": [139, 133, 125, 104, 99, 86, 85, 85, 81, 79], \"type\": \"bar\"}], \"layout\": {\"bargap\": 0.15, \"font\": {\"size\": 14}, \"plot_bgcolor\": \"#FFFFFF\", \"title\": {\"text\": \"Most popular baby names of 2017\"}, \"xaxis\": {\"showline\": false, \"visible\": false}, \"yaxis\": {\"showline\": false, \"visible\": false}}}, {\"data\": [{\"cliponaxis\": false, \"hoverinfo\": \"none\", \"marker\": {\"color\": [\"rgb(80, 7, 230)\", \"rgb(101, 48, 131)\", \"rgb(125, 55, 229)\", \"rgb(71, 16, 248)\", \"rgb(149, 97, 174)\", \"rgb(71, 113, 158)\", \"rgb(63, 74, 158)\", \"rgb(4, 105, 181)\", \"rgb(169, 40, 253)\", \"rgb(73, 64, 185)\"]}, \"textposition\": \"outside\", \"texttemplate\": \"%{x}<br>%{y}\", \"x\": [\"MARC\", \"POL\", \"ALEX\", \"LUCAS\", \"PAU\", \"ERIC\", \"BRUNO\", \"LEO\", \"JAN\", \"MARTI\"], \"y\": [121, 112, 100, 99, 91, 89, 88, 86, 79, 79], \"type\": \"bar\"}], \"layout\": {\"bargap\": 0.15, \"font\": {\"size\": 14}, \"plot_bgcolor\": \"#FFFFFF\", \"title\": {\"text\": \"Most popular baby names of 2018\"}, \"xaxis\": {\"showline\": false, \"visible\": false}, \"yaxis\": {\"showline\": false, \"visible\": false}}}]);\n",
       "                        }).then(function(){\n",
       "                            \n",
       "var gd = document.getElementById('07a35e18-dc68-4630-a354-c5302af0a265');\n",
       "var x = new MutationObserver(function (mutations, observer) {{\n",
       "        var display = window.getComputedStyle(gd).display;\n",
       "        if (!display || display === 'none') {{\n",
       "            console.log([gd, 'removed!']);\n",
       "            Plotly.purge(gd);\n",
       "            observer.disconnect();\n",
       "        }}\n",
       "}});\n",
       "\n",
       "// Listen for the removal of the full notebook cells\n",
       "var notebookContainer = gd.closest('#notebook-container');\n",
       "if (notebookContainer) {{\n",
       "    x.observe(notebookContainer, {childList: true});\n",
       "}}\n",
       "\n",
       "// Listen for the clearing of the current output cell\n",
       "var outputEl = gd.closest('.output');\n",
       "if (outputEl) {{\n",
       "    x.observe(outputEl, {childList: true});\n",
       "}}\n",
       "\n",
       "                        })                };                });            </script>        </div>"
      ]
     },
     "metadata": {},
     "output_type": "display_data"
    }
   ],
   "source": [
    "title = 'Most popular baby names of '\n",
    "list_of_frames = frames_animation(df_man, title)\n",
    "fig = bar_race_plot(df_man, title, list_of_frames)\n",
    "fig.show()"
   ]
  },
  {
   "cell_type": "code",
   "execution_count": 33,
   "metadata": {},
   "outputs": [
    {
     "data": {
      "text/html": [
       "<div>\n",
       "<style scoped>\n",
       "    .dataframe tbody tr th:only-of-type {\n",
       "        vertical-align: middle;\n",
       "    }\n",
       "\n",
       "    .dataframe tbody tr th {\n",
       "        vertical-align: top;\n",
       "    }\n",
       "\n",
       "    .dataframe thead th {\n",
       "        text-align: right;\n",
       "    }\n",
       "</style>\n",
       "<table border=\"1\" class=\"dataframe\">\n",
       "  <thead>\n",
       "    <tr style=\"text-align: right;\">\n",
       "      <th></th>\n",
       "      <th>Order</th>\n",
       "      <th>Name</th>\n",
       "      <th>Sex</th>\n",
       "      <th>Year</th>\n",
       "      <th>Number</th>\n",
       "      <th>Color</th>\n",
       "    </tr>\n",
       "  </thead>\n",
       "  <tbody>\n",
       "    <tr>\n",
       "      <th>600</th>\n",
       "      <td>1</td>\n",
       "      <td>MARC</td>\n",
       "      <td>Man</td>\n",
       "      <td>1996</td>\n",
       "      <td>295</td>\n",
       "      <td>rgb(80, 7, 230)</td>\n",
       "    </tr>\n",
       "    <tr>\n",
       "      <th>601</th>\n",
       "      <td>2</td>\n",
       "      <td>DAVID</td>\n",
       "      <td>Man</td>\n",
       "      <td>1996</td>\n",
       "      <td>198</td>\n",
       "      <td>rgb(163, 37, 158)</td>\n",
       "    </tr>\n",
       "    <tr>\n",
       "      <th>602</th>\n",
       "      <td>3</td>\n",
       "      <td>DANIEL</td>\n",
       "      <td>Man</td>\n",
       "      <td>1996</td>\n",
       "      <td>174</td>\n",
       "      <td>rgb(28, 95, 195)</td>\n",
       "    </tr>\n",
       "    <tr>\n",
       "      <th>603</th>\n",
       "      <td>4</td>\n",
       "      <td>ALBERT</td>\n",
       "      <td>Man</td>\n",
       "      <td>1996</td>\n",
       "      <td>151</td>\n",
       "      <td>rgb(135, 100, 197)</td>\n",
       "    </tr>\n",
       "    <tr>\n",
       "      <th>604</th>\n",
       "      <td>5</td>\n",
       "      <td>VICTOR</td>\n",
       "      <td>Man</td>\n",
       "      <td>1996</td>\n",
       "      <td>145</td>\n",
       "      <td>rgb(121, 182, 151)</td>\n",
       "    </tr>\n",
       "    <tr>\n",
       "      <th>...</th>\n",
       "      <td>...</td>\n",
       "      <td>...</td>\n",
       "      <td>...</td>\n",
       "      <td>...</td>\n",
       "      <td>...</td>\n",
       "      <td>...</td>\n",
       "    </tr>\n",
       "    <tr>\n",
       "      <th>1180</th>\n",
       "      <td>6</td>\n",
       "      <td>POL</td>\n",
       "      <td>Man</td>\n",
       "      <td>2019</td>\n",
       "      <td>81</td>\n",
       "      <td>rgb(101, 48, 131)</td>\n",
       "    </tr>\n",
       "    <tr>\n",
       "      <th>1181</th>\n",
       "      <td>7</td>\n",
       "      <td>ERIC</td>\n",
       "      <td>Man</td>\n",
       "      <td>2019</td>\n",
       "      <td>79</td>\n",
       "      <td>rgb(71, 113, 158)</td>\n",
       "    </tr>\n",
       "    <tr>\n",
       "      <th>1182</th>\n",
       "      <td>8</td>\n",
       "      <td>NIL</td>\n",
       "      <td>Man</td>\n",
       "      <td>2019</td>\n",
       "      <td>77</td>\n",
       "      <td>rgb(46, 116, 136)</td>\n",
       "    </tr>\n",
       "    <tr>\n",
       "      <th>1183</th>\n",
       "      <td>9</td>\n",
       "      <td>PAU</td>\n",
       "      <td>Man</td>\n",
       "      <td>2019</td>\n",
       "      <td>77</td>\n",
       "      <td>rgb(149, 97, 174)</td>\n",
       "    </tr>\n",
       "    <tr>\n",
       "      <th>1184</th>\n",
       "      <td>10</td>\n",
       "      <td>BRUNO</td>\n",
       "      <td>Man</td>\n",
       "      <td>2019</td>\n",
       "      <td>76</td>\n",
       "      <td>rgb(63, 74, 158)</td>\n",
       "    </tr>\n",
       "  </tbody>\n",
       "</table>\n",
       "<p>240 rows × 6 columns</p>\n",
       "</div>"
      ],
      "text/plain": [
       "      Order    Name  Sex  Year  Number               Color\n",
       "600       1    MARC  Man  1996     295     rgb(80, 7, 230)\n",
       "601       2   DAVID  Man  1996     198   rgb(163, 37, 158)\n",
       "602       3  DANIEL  Man  1996     174    rgb(28, 95, 195)\n",
       "603       4  ALBERT  Man  1996     151  rgb(135, 100, 197)\n",
       "604       5  VICTOR  Man  1996     145  rgb(121, 182, 151)\n",
       "...     ...     ...  ...   ...     ...                 ...\n",
       "1180      6     POL  Man  2019      81   rgb(101, 48, 131)\n",
       "1181      7    ERIC  Man  2019      79   rgb(71, 113, 158)\n",
       "1182      8     NIL  Man  2019      77   rgb(46, 116, 136)\n",
       "1183      9     PAU  Man  2019      77   rgb(149, 97, 174)\n",
       "1184     10   BRUNO  Man  2019      76    rgb(63, 74, 158)\n",
       "\n",
       "[240 rows x 6 columns]"
      ]
     },
     "execution_count": 33,
     "metadata": {},
     "output_type": "execute_result"
    }
   ],
   "source": [
    "df_man"
   ]
  },
  {
   "cell_type": "code",
   "execution_count": 34,
   "metadata": {},
   "outputs": [
    {
     "name": "stderr",
     "output_type": "stream",
     "text": [
      "c:\\users\\eric\\anaconda3\\envs\\pytorch\\lib\\site-packages\\raceplotly\\plots.py:293: SettingWithCopyWarning:\n",
      "\n",
      "\n",
      "A value is trying to be set on a copy of a slice from a DataFrame.\n",
      "Try using .loc[row_indexer,col_indexer] = value instead\n",
      "\n",
      "See the caveats in the documentation: https://pandas.pydata.org/pandas-docs/stable/user_guide/indexing.html#returning-a-view-versus-a-copy\n",
      "\n"
     ]
    },
    {
     "data": {
      "application/vnd.plotly.v1+json": {
       "config": {
        "plotlyServerURL": "https://plotly.com"
       },
       "data": [
        {
         "cliponaxis": false,
         "hoverinfo": "all",
         "marker": {
          "color": [
           "rgb(58, 167, 131)",
           "rgb(156, 131, 31)",
           "rgb(170, 213, 223)",
           "rgb(215, 10, 41)",
           "rgb(98, 173, 18)",
           "rgb(12, 77, 49)",
           "rgb(254, 188, 214)",
           "rgb(142, 170, 163)",
           "rgb(225, 154, 193)",
           "rgb(28, 123, 223)"
          ]
         },
         "orientation": "h",
         "textangle": 0,
         "textposition": "outside",
         "texttemplate": "%{y}<br>%{x:.4s}",
         "type": "bar",
         "x": [
          113,
          123,
          132,
          137,
          143,
          145,
          151,
          174,
          198,
          295
         ],
         "y": [
          "ALEX",
          "POL",
          "ALEJANDRO",
          "SERGI",
          "JORDI",
          "VICTOR",
          "ALBERT",
          "DANIEL",
          "DAVID",
          "MARC"
         ]
        }
       ],
       "frames": [
        {
         "data": [
          {
           "cliponaxis": false,
           "hoverinfo": "all",
           "hovertemplate": "<extra></extra>",
           "marker": {
            "color": [
             "rgb(58, 167, 131)",
             "rgb(156, 131, 31)",
             "rgb(170, 213, 223)",
             "rgb(215, 10, 41)",
             "rgb(98, 173, 18)",
             "rgb(12, 77, 49)",
             "rgb(254, 188, 214)",
             "rgb(142, 170, 163)",
             "rgb(225, 154, 193)",
             "rgb(28, 123, 223)"
            ]
           },
           "orientation": "h",
           "textangle": 0,
           "textposition": "outside",
           "texttemplate": "%{y}<br>%{x:.4s}",
           "type": "bar",
           "x": [
            113,
            123,
            132,
            137,
            143,
            145,
            151,
            174,
            198,
            295
           ],
           "y": [
            "ALEX",
            "POL",
            "ALEJANDRO",
            "SERGI",
            "JORDI",
            "VICTOR",
            "ALBERT",
            "DANIEL",
            "DAVID",
            "MARC"
           ]
          }
         ],
         "layout": {
          "bargap": 0.15,
          "font": {
           "size": 14
          },
          "plot_bgcolor": "#FFFFFF",
          "xaxis": {
           "range": [
            0,
            348
           ],
           "showline": true,
           "visible": true
          },
          "yaxis": {
           "showline": false,
           "visible": true
          }
         },
         "name": "1996"
        },
        {
         "data": [
          {
           "cliponaxis": false,
           "hoverinfo": "all",
           "hovertemplate": "<extra></extra>",
           "marker": {
            "color": [
             "rgb(215, 10, 41)",
             "rgb(77, 41, 224)",
             "rgb(254, 188, 214)",
             "rgb(170, 213, 223)",
             "rgb(156, 131, 31)",
             "rgb(58, 167, 131)",
             "rgb(12, 77, 49)",
             "rgb(142, 170, 163)",
             "rgb(225, 154, 193)",
             "rgb(28, 123, 223)"
            ]
           },
           "orientation": "h",
           "textangle": 0,
           "textposition": "outside",
           "texttemplate": "%{y}<br>%{x:.4s}",
           "type": "bar",
           "x": [
            120,
            125,
            126,
            128,
            143,
            148,
            150,
            163,
            183,
            348
           ],
           "y": [
            "SERGI",
            "PAU",
            "ALBERT",
            "ALEJANDRO",
            "POL",
            "ALEX",
            "VICTOR",
            "DANIEL",
            "DAVID",
            "MARC"
           ]
          }
         ],
         "layout": {
          "bargap": 0.15,
          "font": {
           "size": 14
          },
          "plot_bgcolor": "#FFFFFF",
          "xaxis": {
           "range": [
            0,
            348
           ],
           "showline": true,
           "visible": true
          },
          "yaxis": {
           "showline": false,
           "visible": true
          }
         },
         "name": "1997"
        },
        {
         "data": [
          {
           "cliponaxis": false,
           "hoverinfo": "all",
           "hovertemplate": "<extra></extra>",
           "marker": {
            "color": [
             "rgb(170, 213, 223)",
             "rgb(77, 41, 224)",
             "rgb(215, 10, 41)",
             "rgb(254, 188, 214)",
             "rgb(12, 77, 49)",
             "rgb(156, 131, 31)",
             "rgb(142, 170, 163)",
             "rgb(58, 167, 131)",
             "rgb(225, 154, 193)",
             "rgb(28, 123, 223)"
            ]
           },
           "orientation": "h",
           "textangle": 0,
           "textposition": "outside",
           "texttemplate": "%{y}<br>%{x:.4s}",
           "type": "bar",
           "x": [
            117,
            122,
            130,
            135,
            139,
            144,
            159,
            174,
            184,
            330
           ],
           "y": [
            "ALEJANDRO",
            "PAU",
            "SERGI",
            "ALBERT",
            "VICTOR",
            "POL",
            "DANIEL",
            "ALEX",
            "DAVID",
            "MARC"
           ]
          }
         ],
         "layout": {
          "bargap": 0.15,
          "font": {
           "size": 14
          },
          "plot_bgcolor": "#FFFFFF",
          "xaxis": {
           "range": [
            0,
            348
           ],
           "showline": true,
           "visible": true
          },
          "yaxis": {
           "showline": false,
           "visible": true
          }
         },
         "name": "1998"
        },
        {
         "data": [
          {
           "cliponaxis": false,
           "hoverinfo": "all",
           "hovertemplate": "<extra></extra>",
           "marker": {
            "color": [
             "rgb(98, 173, 18)",
             "rgb(170, 213, 223)",
             "rgb(254, 188, 214)",
             "rgb(77, 41, 224)",
             "rgb(156, 131, 31)",
             "rgb(12, 77, 49)",
             "rgb(225, 154, 193)",
             "rgb(142, 170, 163)",
             "rgb(58, 167, 131)",
             "rgb(28, 123, 223)"
            ]
           },
           "orientation": "h",
           "textangle": 0,
           "textposition": "outside",
           "texttemplate": "%{y}<br>%{x:.4s}",
           "type": "bar",
           "x": [
            115,
            118,
            122,
            133,
            155,
            157,
            159,
            166,
            169,
            291
           ],
           "y": [
            "JORDI",
            "ALEJANDRO",
            "ALBERT",
            "PAU",
            "POL",
            "VICTOR",
            "DAVID",
            "DANIEL",
            "ALEX",
            "MARC"
           ]
          }
         ],
         "layout": {
          "bargap": 0.15,
          "font": {
           "size": 14
          },
          "plot_bgcolor": "#FFFFFF",
          "xaxis": {
           "range": [
            0,
            348
           ],
           "showline": true,
           "visible": true
          },
          "yaxis": {
           "showline": false,
           "visible": true
          }
         },
         "name": "1999"
        },
        {
         "data": [
          {
           "cliponaxis": false,
           "hoverinfo": "all",
           "hovertemplate": "<extra></extra>",
           "marker": {
            "color": [
             "rgb(170, 213, 223)",
             "rgb(183, 234, 16)",
             "rgb(254, 188, 214)",
             "rgb(77, 41, 224)",
             "rgb(12, 77, 49)",
             "rgb(142, 170, 163)",
             "rgb(225, 154, 193)",
             "rgb(156, 131, 31)",
             "rgb(58, 167, 131)",
             "rgb(28, 123, 223)"
            ]
           },
           "orientation": "h",
           "textangle": 0,
           "textposition": "outside",
           "texttemplate": "%{y}<br>%{x:.4s}",
           "type": "bar",
           "x": [
            117,
            120,
            125,
            134,
            150,
            176,
            187,
            189,
            201,
            290
           ],
           "y": [
            "ALEJANDRO",
            "ARNAU",
            "ALBERT",
            "PAU",
            "VICTOR",
            "DANIEL",
            "DAVID",
            "POL",
            "ALEX",
            "MARC"
           ]
          }
         ],
         "layout": {
          "bargap": 0.15,
          "font": {
           "size": 14
          },
          "plot_bgcolor": "#FFFFFF",
          "xaxis": {
           "range": [
            0,
            348
           ],
           "showline": true,
           "visible": true
          },
          "yaxis": {
           "showline": false,
           "visible": true
          }
         },
         "name": "2000"
        },
        {
         "data": [
          {
           "cliponaxis": false,
           "hoverinfo": "all",
           "hovertemplate": "<extra></extra>",
           "marker": {
            "color": [
             "rgb(183, 234, 16)",
             "rgb(133, 60, 252)",
             "rgb(12, 77, 49)",
             "rgb(170, 213, 223)",
             "rgb(142, 170, 163)",
             "rgb(77, 41, 224)",
             "rgb(225, 154, 193)",
             "rgb(156, 131, 31)",
             "rgb(58, 167, 131)",
             "rgb(28, 123, 223)"
            ]
           },
           "orientation": "h",
           "textangle": 0,
           "textposition": "outside",
           "texttemplate": "%{y}<br>%{x:.4s}",
           "type": "bar",
           "x": [
            108,
            125,
            126,
            132,
            143,
            151,
            154,
            159,
            164,
            234
           ],
           "y": [
            "ARNAU",
            "GERARD",
            "VICTOR",
            "ALEJANDRO",
            "DANIEL",
            "PAU",
            "DAVID",
            "POL",
            "ALEX",
            "MARC"
           ]
          }
         ],
         "layout": {
          "bargap": 0.15,
          "font": {
           "size": 14
          },
          "plot_bgcolor": "#FFFFFF",
          "xaxis": {
           "range": [
            0,
            348
           ],
           "showline": true,
           "visible": true
          },
          "yaxis": {
           "showline": false,
           "visible": true
          }
         },
         "name": "2001"
        },
        {
         "data": [
          {
           "cliponaxis": false,
           "hoverinfo": "all",
           "hovertemplate": "<extra></extra>",
           "marker": {
            "color": [
             "rgb(133, 60, 252)",
             "rgb(183, 234, 16)",
             "rgb(12, 77, 49)",
             "rgb(170, 213, 223)",
             "rgb(142, 170, 163)",
             "rgb(58, 167, 131)",
             "rgb(77, 41, 224)",
             "rgb(225, 154, 193)",
             "rgb(156, 131, 31)",
             "rgb(28, 123, 223)"
            ]
           },
           "orientation": "h",
           "textangle": 0,
           "textposition": "outside",
           "texttemplate": "%{y}<br>%{x:.4s}",
           "type": "bar",
           "x": [
            106,
            115,
            120,
            124,
            128,
            148,
            149,
            150,
            175,
            267
           ],
           "y": [
            "GERARD",
            "ARNAU",
            "VICTOR",
            "ALEJANDRO",
            "DANIEL",
            "ALEX",
            "PAU",
            "DAVID",
            "POL",
            "MARC"
           ]
          }
         ],
         "layout": {
          "bargap": 0.15,
          "font": {
           "size": 14
          },
          "plot_bgcolor": "#FFFFFF",
          "xaxis": {
           "range": [
            0,
            348
           ],
           "showline": true,
           "visible": true
          },
          "yaxis": {
           "showline": false,
           "visible": true
          }
         },
         "name": "2002"
        },
        {
         "data": [
          {
           "cliponaxis": false,
           "hoverinfo": "all",
           "hovertemplate": "<extra></extra>",
           "marker": {
            "color": [
             "rgb(170, 213, 223)",
             "rgb(12, 77, 49)",
             "rgb(183, 234, 16)",
             "rgb(214, 203, 59)",
             "rgb(142, 170, 163)",
             "rgb(225, 154, 193)",
             "rgb(156, 131, 31)",
             "rgb(77, 41, 224)",
             "rgb(58, 167, 131)",
             "rgb(28, 123, 223)"
            ]
           },
           "orientation": "h",
           "textangle": 0,
           "textposition": "outside",
           "texttemplate": "%{y}<br>%{x:.4s}",
           "type": "bar",
           "x": [
            105,
            107,
            109,
            119,
            156,
            173,
            184,
            202,
            205,
            287
           ],
           "y": [
            "ALEJANDRO",
            "VICTOR",
            "ARNAU",
            "JOAN",
            "DANIEL",
            "DAVID",
            "POL",
            "PAU",
            "ALEX",
            "MARC"
           ]
          }
         ],
         "layout": {
          "bargap": 0.15,
          "font": {
           "size": 14
          },
          "plot_bgcolor": "#FFFFFF",
          "xaxis": {
           "range": [
            0,
            348
           ],
           "showline": true,
           "visible": true
          },
          "yaxis": {
           "showline": false,
           "visible": true
          }
         },
         "name": "2003"
        },
        {
         "data": [
          {
           "cliponaxis": false,
           "hoverinfo": "all",
           "hovertemplate": "<extra></extra>",
           "marker": {
            "color": [
             "rgb(170, 213, 223)",
             "rgb(3, 139, 20)",
             "rgb(12, 77, 49)",
             "rgb(183, 234, 16)",
             "rgb(142, 170, 163)",
             "rgb(225, 154, 193)",
             "rgb(77, 41, 224)",
             "rgb(156, 131, 31)",
             "rgb(58, 167, 131)",
             "rgb(28, 123, 223)"
            ]
           },
           "orientation": "h",
           "textangle": 0,
           "textposition": "outside",
           "texttemplate": "%{y}<br>%{x:.4s}",
           "type": "bar",
           "x": [
            107,
            107,
            116,
            125,
            128,
            129,
            173,
            181,
            185,
            259
           ],
           "y": [
            "ALEJANDRO",
            "PABLO",
            "VICTOR",
            "ARNAU",
            "DANIEL",
            "DAVID",
            "PAU",
            "POL",
            "ALEX",
            "MARC"
           ]
          }
         ],
         "layout": {
          "bargap": 0.15,
          "font": {
           "size": 14
          },
          "plot_bgcolor": "#FFFFFF",
          "xaxis": {
           "range": [
            0,
            348
           ],
           "showline": true,
           "visible": true
          },
          "yaxis": {
           "showline": false,
           "visible": true
          }
         },
         "name": "2004"
        },
        {
         "data": [
          {
           "cliponaxis": false,
           "hoverinfo": "all",
           "hovertemplate": "<extra></extra>",
           "marker": {
            "color": [
             "rgb(3, 139, 20)",
             "rgb(153, 75, 214)",
             "rgb(183, 234, 16)",
             "rgb(65, 58, 238)",
             "rgb(142, 170, 163)",
             "rgb(225, 154, 193)",
             "rgb(58, 167, 131)",
             "rgb(156, 131, 31)",
             "rgb(77, 41, 224)",
             "rgb(28, 123, 223)"
            ]
           },
           "orientation": "h",
           "textangle": 0,
           "textposition": "outside",
           "texttemplate": "%{y}<br>%{x:.4s}",
           "type": "bar",
           "x": [
            106,
            111,
            115,
            122,
            151,
            157,
            167,
            176,
            187,
            277
           ],
           "y": [
            "PABLO",
            "MARTI",
            "ARNAU",
            "JAN",
            "DANIEL",
            "DAVID",
            "ALEX",
            "POL",
            "PAU",
            "MARC"
           ]
          }
         ],
         "layout": {
          "bargap": 0.15,
          "font": {
           "size": 14
          },
          "plot_bgcolor": "#FFFFFF",
          "xaxis": {
           "range": [
            0,
            348
           ],
           "showline": true,
           "visible": true
          },
          "yaxis": {
           "showline": false,
           "visible": true
          }
         },
         "name": "2005"
        },
        {
         "data": [
          {
           "cliponaxis": false,
           "hoverinfo": "all",
           "hovertemplate": "<extra></extra>",
           "marker": {
            "color": [
             "rgb(170, 213, 223)",
             "rgb(153, 75, 214)",
             "rgb(12, 77, 49)",
             "rgb(225, 154, 193)",
             "rgb(183, 234, 16)",
             "rgb(142, 170, 163)",
             "rgb(77, 41, 224)",
             "rgb(58, 167, 131)",
             "rgb(156, 131, 31)",
             "rgb(28, 123, 223)"
            ]
           },
           "orientation": "h",
           "textangle": 0,
           "textposition": "outside",
           "texttemplate": "%{y}<br>%{x:.4s}",
           "type": "bar",
           "x": [
            95,
            98,
            111,
            116,
            117,
            141,
            163,
            168,
            173,
            229
           ],
           "y": [
            "ALEJANDRO",
            "MARTI",
            "VICTOR",
            "DAVID",
            "ARNAU",
            "DANIEL",
            "PAU",
            "ALEX",
            "POL",
            "MARC"
           ]
          }
         ],
         "layout": {
          "bargap": 0.15,
          "font": {
           "size": 14
          },
          "plot_bgcolor": "#FFFFFF",
          "xaxis": {
           "range": [
            0,
            348
           ],
           "showline": true,
           "visible": true
          },
          "yaxis": {
           "showline": false,
           "visible": true
          }
         },
         "name": "2006"
        },
        {
         "data": [
          {
           "cliponaxis": false,
           "hoverinfo": "all",
           "hovertemplate": "<extra></extra>",
           "marker": {
            "color": [
             "rgb(12, 77, 49)",
             "rgb(183, 234, 16)",
             "rgb(10, 91, 117)",
             "rgb(153, 75, 214)",
             "rgb(225, 154, 193)",
             "rgb(142, 170, 163)",
             "rgb(156, 131, 31)",
             "rgb(77, 41, 224)",
             "rgb(58, 167, 131)",
             "rgb(28, 123, 223)"
            ]
           },
           "orientation": "h",
           "textangle": 0,
           "textposition": "outside",
           "texttemplate": "%{y}<br>%{x:.4s}",
           "type": "bar",
           "x": [
            98,
            115,
            126,
            126,
            127,
            132,
            140,
            148,
            163,
            237
           ],
           "y": [
            "VICTOR",
            "ARNAU",
            "ERIC",
            "MARTI",
            "DAVID",
            "DANIEL",
            "POL",
            "PAU",
            "ALEX",
            "MARC"
           ]
          }
         ],
         "layout": {
          "bargap": 0.15,
          "font": {
           "size": 14
          },
          "plot_bgcolor": "#FFFFFF",
          "xaxis": {
           "range": [
            0,
            348
           ],
           "showline": true,
           "visible": true
          },
          "yaxis": {
           "showline": false,
           "visible": true
          }
         },
         "name": "2007"
        },
        {
         "data": [
          {
           "cliponaxis": false,
           "hoverinfo": "all",
           "hovertemplate": "<extra></extra>",
           "marker": {
            "color": [
             "rgb(183, 234, 16)",
             "rgb(153, 75, 214)",
             "rgb(10, 91, 117)",
             "rgb(65, 58, 238)",
             "rgb(225, 154, 193)",
             "rgb(142, 170, 163)",
             "rgb(77, 41, 224)",
             "rgb(58, 167, 131)",
             "rgb(156, 131, 31)",
             "rgb(28, 123, 223)"
            ]
           },
           "orientation": "h",
           "textangle": 0,
           "textposition": "outside",
           "texttemplate": "%{y}<br>%{x:.4s}",
           "type": "bar",
           "x": [
            98,
            98,
            100,
            106,
            109,
            121,
            144,
            156,
            172,
            244
           ],
           "y": [
            "ARNAU",
            "MARTI",
            "ERIC",
            "JAN",
            "DAVID",
            "DANIEL",
            "PAU",
            "ALEX",
            "POL",
            "MARC"
           ]
          }
         ],
         "layout": {
          "bargap": 0.15,
          "font": {
           "size": 14
          },
          "plot_bgcolor": "#FFFFFF",
          "xaxis": {
           "range": [
            0,
            348
           ],
           "showline": true,
           "visible": true
          },
          "yaxis": {
           "showline": false,
           "visible": true
          }
         },
         "name": "2008"
        },
        {
         "data": [
          {
           "cliponaxis": false,
           "hoverinfo": "all",
           "hovertemplate": "<extra></extra>",
           "marker": {
            "color": [
             "rgb(8, 183, 180)",
             "rgb(142, 170, 163)",
             "rgb(65, 58, 238)",
             "rgb(183, 234, 16)",
             "rgb(153, 75, 214)",
             "rgb(10, 91, 117)",
             "rgb(156, 131, 31)",
             "rgb(58, 167, 131)",
             "rgb(77, 41, 224)",
             "rgb(28, 123, 223)"
            ]
           },
           "orientation": "h",
           "textangle": 0,
           "textposition": "outside",
           "texttemplate": "%{y}<br>%{x:.4s}",
           "type": "bar",
           "x": [
            89,
            98,
            100,
            106,
            116,
            130,
            146,
            150,
            165,
            194
           ],
           "y": [
            "HUGO",
            "DANIEL",
            "JAN",
            "ARNAU",
            "MARTI",
            "ERIC",
            "POL",
            "ALEX",
            "PAU",
            "MARC"
           ]
          }
         ],
         "layout": {
          "bargap": 0.15,
          "font": {
           "size": 14
          },
          "plot_bgcolor": "#FFFFFF",
          "xaxis": {
           "range": [
            0,
            348
           ],
           "showline": true,
           "visible": true
          },
          "yaxis": {
           "showline": false,
           "visible": true
          }
         },
         "name": "2009"
        },
        {
         "data": [
          {
           "cliponaxis": false,
           "hoverinfo": "all",
           "hovertemplate": "<extra></extra>",
           "marker": {
            "color": [
             "rgb(65, 58, 238)",
             "rgb(133, 60, 252)",
             "rgb(142, 170, 163)",
             "rgb(183, 234, 16)",
             "rgb(10, 91, 117)",
             "rgb(153, 75, 214)",
             "rgb(77, 41, 224)",
             "rgb(58, 167, 131)",
             "rgb(156, 131, 31)",
             "rgb(28, 123, 223)"
            ]
           },
           "orientation": "h",
           "textangle": 0,
           "textposition": "outside",
           "texttemplate": "%{y}<br>%{x:.4s}",
           "type": "bar",
           "x": [
            98,
            100,
            103,
            110,
            117,
            124,
            134,
            143,
            148,
            195
           ],
           "y": [
            "JAN",
            "GERARD",
            "DANIEL",
            "ARNAU",
            "ERIC",
            "MARTI",
            "PAU",
            "ALEX",
            "POL",
            "MARC"
           ]
          }
         ],
         "layout": {
          "bargap": 0.15,
          "font": {
           "size": 14
          },
          "plot_bgcolor": "#FFFFFF",
          "xaxis": {
           "range": [
            0,
            348
           ],
           "showline": true,
           "visible": true
          },
          "yaxis": {
           "showline": false,
           "visible": true
          }
         },
         "name": "2010"
        },
        {
         "data": [
          {
           "cliponaxis": false,
           "hoverinfo": "all",
           "hovertemplate": "<extra></extra>",
           "marker": {
            "color": [
             "rgb(225, 154, 193)",
             "rgb(224, 140, 63)",
             "rgb(183, 234, 16)",
             "rgb(133, 60, 252)",
             "rgb(153, 75, 214)",
             "rgb(10, 91, 117)",
             "rgb(77, 41, 224)",
             "rgb(156, 131, 31)",
             "rgb(58, 167, 131)",
             "rgb(28, 123, 223)"
            ]
           },
           "orientation": "h",
           "textangle": 0,
           "textposition": "outside",
           "texttemplate": "%{y}<br>%{x:.4s}",
           "type": "bar",
           "x": [
            85,
            87,
            95,
            99,
            103,
            113,
            118,
            124,
            142,
            209
           ],
           "y": [
            "DAVID",
            "BIEL",
            "ARNAU",
            "GERARD",
            "MARTI",
            "ERIC",
            "PAU",
            "POL",
            "ALEX",
            "MARC"
           ]
          }
         ],
         "layout": {
          "bargap": 0.15,
          "font": {
           "size": 14
          },
          "plot_bgcolor": "#FFFFFF",
          "xaxis": {
           "range": [
            0,
            348
           ],
           "showline": true,
           "visible": true
          },
          "yaxis": {
           "showline": false,
           "visible": true
          }
         },
         "name": "2011"
        },
        {
         "data": [
          {
           "cliponaxis": false,
           "hoverinfo": "all",
           "hovertemplate": "<extra></extra>",
           "marker": {
            "color": [
             "rgb(224, 140, 63)",
             "rgb(133, 60, 252)",
             "rgb(65, 58, 238)",
             "rgb(153, 75, 214)",
             "rgb(183, 234, 16)",
             "rgb(77, 41, 224)",
             "rgb(58, 167, 131)",
             "rgb(10, 91, 117)",
             "rgb(156, 131, 31)",
             "rgb(28, 123, 223)"
            ]
           },
           "orientation": "h",
           "textangle": 0,
           "textposition": "outside",
           "texttemplate": "%{y}<br>%{x:.4s}",
           "type": "bar",
           "x": [
            95,
            98,
            98,
            99,
            101,
            110,
            120,
            125,
            138,
            206
           ],
           "y": [
            "BIEL",
            "GERARD",
            "JAN",
            "MARTI",
            "ARNAU",
            "PAU",
            "ALEX",
            "ERIC",
            "POL",
            "MARC"
           ]
          }
         ],
         "layout": {
          "bargap": 0.15,
          "font": {
           "size": 14
          },
          "plot_bgcolor": "#FFFFFF",
          "xaxis": {
           "range": [
            0,
            348
           ],
           "showline": true,
           "visible": true
          },
          "yaxis": {
           "showline": false,
           "visible": true
          }
         },
         "name": "2012"
        },
        {
         "data": [
          {
           "cliponaxis": false,
           "hoverinfo": "all",
           "hovertemplate": "<extra></extra>",
           "marker": {
            "color": [
             "rgb(8, 183, 180)",
             "rgb(65, 58, 238)",
             "rgb(224, 140, 63)",
             "rgb(153, 75, 214)",
             "rgb(183, 234, 16)",
             "rgb(58, 167, 131)",
             "rgb(10, 91, 117)",
             "rgb(156, 131, 31)",
             "rgb(77, 41, 224)",
             "rgb(28, 123, 223)"
            ]
           },
           "orientation": "h",
           "textangle": 0,
           "textposition": "outside",
           "texttemplate": "%{y}<br>%{x:.4s}",
           "type": "bar",
           "x": [
            89,
            92,
            95,
            95,
            100,
            122,
            122,
            126,
            129,
            175
           ],
           "y": [
            "HUGO",
            "JAN",
            "BIEL",
            "MARTI",
            "ARNAU",
            "ALEX",
            "ERIC",
            "POL",
            "PAU",
            "MARC"
           ]
          }
         ],
         "layout": {
          "bargap": 0.15,
          "font": {
           "size": 14
          },
          "plot_bgcolor": "#FFFFFF",
          "xaxis": {
           "range": [
            0,
            348
           ],
           "showline": true,
           "visible": true
          },
          "yaxis": {
           "showline": false,
           "visible": true
          }
         },
         "name": "2013"
        },
        {
         "data": [
          {
           "cliponaxis": false,
           "hoverinfo": "all",
           "hovertemplate": "<extra></extra>",
           "marker": {
            "color": [
             "rgb(8, 183, 180)",
             "rgb(142, 170, 163)",
             "rgb(65, 58, 238)",
             "rgb(224, 140, 63)",
             "rgb(77, 41, 224)",
             "rgb(153, 75, 214)",
             "rgb(10, 91, 117)",
             "rgb(58, 167, 131)",
             "rgb(156, 131, 31)",
             "rgb(28, 123, 223)"
            ]
           },
           "orientation": "h",
           "textangle": 0,
           "textposition": "outside",
           "texttemplate": "%{y}<br>%{x:.4s}",
           "type": "bar",
           "x": [
            82,
            89,
            89,
            90,
            104,
            116,
            123,
            135,
            137,
            192
           ],
           "y": [
            "HUGO",
            "DANIEL",
            "JAN",
            "BIEL",
            "PAU",
            "MARTI",
            "ERIC",
            "ALEX",
            "POL",
            "MARC"
           ]
          }
         ],
         "layout": {
          "bargap": 0.15,
          "font": {
           "size": 14
          },
          "plot_bgcolor": "#FFFFFF",
          "xaxis": {
           "range": [
            0,
            348
           ],
           "showline": true,
           "visible": true
          },
          "yaxis": {
           "showline": false,
           "visible": true
          }
         },
         "name": "2014"
        },
        {
         "data": [
          {
           "cliponaxis": false,
           "hoverinfo": "all",
           "hovertemplate": "<extra></extra>",
           "marker": {
            "color": [
             "rgb(65, 58, 238)",
             "rgb(131, 199, 178)",
             "rgb(183, 234, 16)",
             "rgb(224, 140, 63)",
             "rgb(8, 183, 180)",
             "rgb(77, 41, 224)",
             "rgb(10, 91, 117)",
             "rgb(58, 167, 131)",
             "rgb(153, 75, 214)",
             "rgb(28, 123, 223)"
            ]
           },
           "orientation": "h",
           "textangle": 0,
           "textposition": "outside",
           "texttemplate": "%{y}<br>%{x:.4s}",
           "type": "bar",
           "x": [
            88,
            88,
            93,
            99,
            107,
            108,
            109,
            110,
            133,
            172
           ],
           "y": [
            "JAN",
            "NIL",
            "ARNAU",
            "BIEL",
            "HUGO",
            "PAU",
            "ERIC",
            "ALEX",
            "MARTI",
            "MARC"
           ]
          }
         ],
         "layout": {
          "bargap": 0.15,
          "font": {
           "size": 14
          },
          "plot_bgcolor": "#FFFFFF",
          "xaxis": {
           "range": [
            0,
            348
           ],
           "showline": true,
           "visible": true
          },
          "yaxis": {
           "showline": false,
           "visible": true
          }
         },
         "name": "2015"
        },
        {
         "data": [
          {
           "cliponaxis": false,
           "hoverinfo": "all",
           "hovertemplate": "<extra></extra>",
           "marker": {
            "color": [
             "rgb(65, 58, 238)",
             "rgb(146, 47, 229)",
             "rgb(204, 237, 7)",
             "rgb(224, 140, 63)",
             "rgb(153, 75, 214)",
             "rgb(77, 41, 224)",
             "rgb(10, 91, 117)",
             "rgb(156, 131, 31)",
             "rgb(58, 167, 131)",
             "rgb(28, 123, 223)"
            ]
           },
           "orientation": "h",
           "textangle": 0,
           "textposition": "outside",
           "texttemplate": "%{y}<br>%{x:.4s}",
           "type": "bar",
           "x": [
            91,
            93,
            93,
            99,
            104,
            107,
            109,
            110,
            140,
            148
           ],
           "y": [
            "JAN",
            "BRUNO",
            "LUCAS",
            "BIEL",
            "MARTI",
            "PAU",
            "ERIC",
            "POL",
            "ALEX",
            "MARC"
           ]
          }
         ],
         "layout": {
          "bargap": 0.15,
          "font": {
           "size": 14
          },
          "plot_bgcolor": "#FFFFFF",
          "xaxis": {
           "range": [
            0,
            348
           ],
           "showline": true,
           "visible": true
          },
          "yaxis": {
           "showline": false,
           "visible": true
          }
         },
         "name": "2016"
        },
        {
         "data": [
          {
           "cliponaxis": false,
           "hoverinfo": "all",
           "hovertemplate": "<extra></extra>",
           "marker": {
            "color": [
             "rgb(183, 234, 16)",
             "rgb(184, 212, 37)",
             "rgb(146, 47, 229)",
             "rgb(65, 58, 238)",
             "rgb(77, 41, 224)",
             "rgb(10, 91, 117)",
             "rgb(204, 237, 7)",
             "rgb(58, 167, 131)",
             "rgb(28, 123, 223)",
             "rgb(156, 131, 31)"
            ]
           },
           "orientation": "h",
           "textangle": 0,
           "textposition": "outside",
           "texttemplate": "%{y}<br>%{x:.4s}",
           "type": "bar",
           "x": [
            79,
            81,
            85,
            85,
            86,
            99,
            104,
            125,
            133,
            139
           ],
           "y": [
            "ARNAU",
            "LEO",
            "BRUNO",
            "JAN",
            "PAU",
            "ERIC",
            "LUCAS",
            "ALEX",
            "MARC",
            "POL"
           ]
          }
         ],
         "layout": {
          "bargap": 0.15,
          "font": {
           "size": 14
          },
          "plot_bgcolor": "#FFFFFF",
          "xaxis": {
           "range": [
            0,
            348
           ],
           "showline": true,
           "visible": true
          },
          "yaxis": {
           "showline": false,
           "visible": true
          }
         },
         "name": "2017"
        },
        {
         "data": [
          {
           "cliponaxis": false,
           "hoverinfo": "all",
           "hovertemplate": "<extra></extra>",
           "marker": {
            "color": [
             "rgb(65, 58, 238)",
             "rgb(153, 75, 214)",
             "rgb(184, 212, 37)",
             "rgb(146, 47, 229)",
             "rgb(10, 91, 117)",
             "rgb(77, 41, 224)",
             "rgb(204, 237, 7)",
             "rgb(58, 167, 131)",
             "rgb(156, 131, 31)",
             "rgb(28, 123, 223)"
            ]
           },
           "orientation": "h",
           "textangle": 0,
           "textposition": "outside",
           "texttemplate": "%{y}<br>%{x:.4s}",
           "type": "bar",
           "x": [
            79,
            79,
            86,
            88,
            89,
            91,
            99,
            100,
            112,
            121
           ],
           "y": [
            "JAN",
            "MARTI",
            "LEO",
            "BRUNO",
            "ERIC",
            "PAU",
            "LUCAS",
            "ALEX",
            "POL",
            "MARC"
           ]
          }
         ],
         "layout": {
          "bargap": 0.15,
          "font": {
           "size": 14
          },
          "plot_bgcolor": "#FFFFFF",
          "xaxis": {
           "range": [
            0,
            348
           ],
           "showline": true,
           "visible": true
          },
          "yaxis": {
           "showline": false,
           "visible": true
          }
         },
         "name": "2018"
        },
        {
         "data": [
          {
           "cliponaxis": false,
           "hoverinfo": "all",
           "hovertemplate": "<extra></extra>",
           "marker": {
            "color": [
             "rgb(146, 47, 229)",
             "rgb(131, 199, 178)",
             "rgb(77, 41, 224)",
             "rgb(10, 91, 117)",
             "rgb(156, 131, 31)",
             "rgb(204, 237, 7)",
             "rgb(58, 167, 131)",
             "rgb(184, 212, 37)",
             "rgb(65, 58, 238)",
             "rgb(28, 123, 223)"
            ]
           },
           "orientation": "h",
           "textangle": 0,
           "textposition": "outside",
           "texttemplate": "%{y}<br>%{x:.4s}",
           "type": "bar",
           "x": [
            76,
            77,
            77,
            79,
            81,
            82,
            93,
            93,
            100,
            127
           ],
           "y": [
            "BRUNO",
            "NIL",
            "PAU",
            "ERIC",
            "POL",
            "LUCAS",
            "ALEX",
            "LEO",
            "JAN",
            "MARC"
           ]
          }
         ],
         "layout": {
          "bargap": 0.15,
          "font": {
           "size": 14
          },
          "plot_bgcolor": "#FFFFFF",
          "xaxis": {
           "range": [
            0,
            348
           ],
           "showline": true,
           "visible": true
          },
          "yaxis": {
           "showline": false,
           "visible": true
          }
         },
         "name": "2019"
        }
       ],
       "layout": {
        "bargap": 0.15,
        "font": {
         "size": 14
        },
        "plot_bgcolor": "#FFFFFF",
        "sliders": [
         {
          "active": 0,
          "currentvalue": {
           "font": {
            "size": 20
           },
           "prefix": "Year: ",
           "visible": true,
           "xanchor": "right"
          },
          "len": 0.9,
          "pad": {
           "b": 10,
           "t": 50
          },
          "steps": [
           {
            "args": [
             [
              "1996"
             ],
             {
              "frame": {
               "duration": 300,
               "redraw": false
              },
              "mode": "immediate",
              "transition": {
               "duration": 300
              }
             }
            ],
            "label": "1996",
            "method": "animate"
           },
           {
            "args": [
             [
              "1997"
             ],
             {
              "frame": {
               "duration": 300,
               "redraw": false
              },
              "mode": "immediate",
              "transition": {
               "duration": 300
              }
             }
            ],
            "label": "1997",
            "method": "animate"
           },
           {
            "args": [
             [
              "1998"
             ],
             {
              "frame": {
               "duration": 300,
               "redraw": false
              },
              "mode": "immediate",
              "transition": {
               "duration": 300
              }
             }
            ],
            "label": "1998",
            "method": "animate"
           },
           {
            "args": [
             [
              "1999"
             ],
             {
              "frame": {
               "duration": 300,
               "redraw": false
              },
              "mode": "immediate",
              "transition": {
               "duration": 300
              }
             }
            ],
            "label": "1999",
            "method": "animate"
           },
           {
            "args": [
             [
              "2000"
             ],
             {
              "frame": {
               "duration": 300,
               "redraw": false
              },
              "mode": "immediate",
              "transition": {
               "duration": 300
              }
             }
            ],
            "label": "2000",
            "method": "animate"
           },
           {
            "args": [
             [
              "2001"
             ],
             {
              "frame": {
               "duration": 300,
               "redraw": false
              },
              "mode": "immediate",
              "transition": {
               "duration": 300
              }
             }
            ],
            "label": "2001",
            "method": "animate"
           },
           {
            "args": [
             [
              "2002"
             ],
             {
              "frame": {
               "duration": 300,
               "redraw": false
              },
              "mode": "immediate",
              "transition": {
               "duration": 300
              }
             }
            ],
            "label": "2002",
            "method": "animate"
           },
           {
            "args": [
             [
              "2003"
             ],
             {
              "frame": {
               "duration": 300,
               "redraw": false
              },
              "mode": "immediate",
              "transition": {
               "duration": 300
              }
             }
            ],
            "label": "2003",
            "method": "animate"
           },
           {
            "args": [
             [
              "2004"
             ],
             {
              "frame": {
               "duration": 300,
               "redraw": false
              },
              "mode": "immediate",
              "transition": {
               "duration": 300
              }
             }
            ],
            "label": "2004",
            "method": "animate"
           },
           {
            "args": [
             [
              "2005"
             ],
             {
              "frame": {
               "duration": 300,
               "redraw": false
              },
              "mode": "immediate",
              "transition": {
               "duration": 300
              }
             }
            ],
            "label": "2005",
            "method": "animate"
           },
           {
            "args": [
             [
              "2006"
             ],
             {
              "frame": {
               "duration": 300,
               "redraw": false
              },
              "mode": "immediate",
              "transition": {
               "duration": 300
              }
             }
            ],
            "label": "2006",
            "method": "animate"
           },
           {
            "args": [
             [
              "2007"
             ],
             {
              "frame": {
               "duration": 300,
               "redraw": false
              },
              "mode": "immediate",
              "transition": {
               "duration": 300
              }
             }
            ],
            "label": "2007",
            "method": "animate"
           },
           {
            "args": [
             [
              "2008"
             ],
             {
              "frame": {
               "duration": 300,
               "redraw": false
              },
              "mode": "immediate",
              "transition": {
               "duration": 300
              }
             }
            ],
            "label": "2008",
            "method": "animate"
           },
           {
            "args": [
             [
              "2009"
             ],
             {
              "frame": {
               "duration": 300,
               "redraw": false
              },
              "mode": "immediate",
              "transition": {
               "duration": 300
              }
             }
            ],
            "label": "2009",
            "method": "animate"
           },
           {
            "args": [
             [
              "2010"
             ],
             {
              "frame": {
               "duration": 300,
               "redraw": false
              },
              "mode": "immediate",
              "transition": {
               "duration": 300
              }
             }
            ],
            "label": "2010",
            "method": "animate"
           },
           {
            "args": [
             [
              "2011"
             ],
             {
              "frame": {
               "duration": 300,
               "redraw": false
              },
              "mode": "immediate",
              "transition": {
               "duration": 300
              }
             }
            ],
            "label": "2011",
            "method": "animate"
           },
           {
            "args": [
             [
              "2012"
             ],
             {
              "frame": {
               "duration": 300,
               "redraw": false
              },
              "mode": "immediate",
              "transition": {
               "duration": 300
              }
             }
            ],
            "label": "2012",
            "method": "animate"
           },
           {
            "args": [
             [
              "2013"
             ],
             {
              "frame": {
               "duration": 300,
               "redraw": false
              },
              "mode": "immediate",
              "transition": {
               "duration": 300
              }
             }
            ],
            "label": "2013",
            "method": "animate"
           },
           {
            "args": [
             [
              "2014"
             ],
             {
              "frame": {
               "duration": 300,
               "redraw": false
              },
              "mode": "immediate",
              "transition": {
               "duration": 300
              }
             }
            ],
            "label": "2014",
            "method": "animate"
           },
           {
            "args": [
             [
              "2015"
             ],
             {
              "frame": {
               "duration": 300,
               "redraw": false
              },
              "mode": "immediate",
              "transition": {
               "duration": 300
              }
             }
            ],
            "label": "2015",
            "method": "animate"
           },
           {
            "args": [
             [
              "2016"
             ],
             {
              "frame": {
               "duration": 300,
               "redraw": false
              },
              "mode": "immediate",
              "transition": {
               "duration": 300
              }
             }
            ],
            "label": "2016",
            "method": "animate"
           },
           {
            "args": [
             [
              "2017"
             ],
             {
              "frame": {
               "duration": 300,
               "redraw": false
              },
              "mode": "immediate",
              "transition": {
               "duration": 300
              }
             }
            ],
            "label": "2017",
            "method": "animate"
           },
           {
            "args": [
             [
              "2018"
             ],
             {
              "frame": {
               "duration": 300,
               "redraw": false
              },
              "mode": "immediate",
              "transition": {
               "duration": 300
              }
             }
            ],
            "label": "2018",
            "method": "animate"
           },
           {
            "args": [
             [
              "2019"
             ],
             {
              "frame": {
               "duration": 300,
               "redraw": false
              },
              "mode": "immediate",
              "transition": {
               "duration": 300
              }
             }
            ],
            "label": "2019",
            "method": "animate"
           }
          ],
          "transition": {
           "duration": 300,
           "easing": "cubic-in-out"
          },
          "x": 0.1,
          "xanchor": "left",
          "y": 0,
          "yanchor": "top"
         }
        ],
        "template": {
         "data": {
          "bar": [
           {
            "error_x": {
             "color": "#2a3f5f"
            },
            "error_y": {
             "color": "#2a3f5f"
            },
            "marker": {
             "line": {
              "color": "#E5ECF6",
              "width": 0.5
             }
            },
            "type": "bar"
           }
          ],
          "barpolar": [
           {
            "marker": {
             "line": {
              "color": "#E5ECF6",
              "width": 0.5
             }
            },
            "type": "barpolar"
           }
          ],
          "carpet": [
           {
            "aaxis": {
             "endlinecolor": "#2a3f5f",
             "gridcolor": "white",
             "linecolor": "white",
             "minorgridcolor": "white",
             "startlinecolor": "#2a3f5f"
            },
            "baxis": {
             "endlinecolor": "#2a3f5f",
             "gridcolor": "white",
             "linecolor": "white",
             "minorgridcolor": "white",
             "startlinecolor": "#2a3f5f"
            },
            "type": "carpet"
           }
          ],
          "choropleth": [
           {
            "colorbar": {
             "outlinewidth": 0,
             "ticks": ""
            },
            "type": "choropleth"
           }
          ],
          "contour": [
           {
            "colorbar": {
             "outlinewidth": 0,
             "ticks": ""
            },
            "colorscale": [
             [
              0,
              "#0d0887"
             ],
             [
              0.1111111111111111,
              "#46039f"
             ],
             [
              0.2222222222222222,
              "#7201a8"
             ],
             [
              0.3333333333333333,
              "#9c179e"
             ],
             [
              0.4444444444444444,
              "#bd3786"
             ],
             [
              0.5555555555555556,
              "#d8576b"
             ],
             [
              0.6666666666666666,
              "#ed7953"
             ],
             [
              0.7777777777777778,
              "#fb9f3a"
             ],
             [
              0.8888888888888888,
              "#fdca26"
             ],
             [
              1,
              "#f0f921"
             ]
            ],
            "type": "contour"
           }
          ],
          "contourcarpet": [
           {
            "colorbar": {
             "outlinewidth": 0,
             "ticks": ""
            },
            "type": "contourcarpet"
           }
          ],
          "heatmap": [
           {
            "colorbar": {
             "outlinewidth": 0,
             "ticks": ""
            },
            "colorscale": [
             [
              0,
              "#0d0887"
             ],
             [
              0.1111111111111111,
              "#46039f"
             ],
             [
              0.2222222222222222,
              "#7201a8"
             ],
             [
              0.3333333333333333,
              "#9c179e"
             ],
             [
              0.4444444444444444,
              "#bd3786"
             ],
             [
              0.5555555555555556,
              "#d8576b"
             ],
             [
              0.6666666666666666,
              "#ed7953"
             ],
             [
              0.7777777777777778,
              "#fb9f3a"
             ],
             [
              0.8888888888888888,
              "#fdca26"
             ],
             [
              1,
              "#f0f921"
             ]
            ],
            "type": "heatmap"
           }
          ],
          "heatmapgl": [
           {
            "colorbar": {
             "outlinewidth": 0,
             "ticks": ""
            },
            "colorscale": [
             [
              0,
              "#0d0887"
             ],
             [
              0.1111111111111111,
              "#46039f"
             ],
             [
              0.2222222222222222,
              "#7201a8"
             ],
             [
              0.3333333333333333,
              "#9c179e"
             ],
             [
              0.4444444444444444,
              "#bd3786"
             ],
             [
              0.5555555555555556,
              "#d8576b"
             ],
             [
              0.6666666666666666,
              "#ed7953"
             ],
             [
              0.7777777777777778,
              "#fb9f3a"
             ],
             [
              0.8888888888888888,
              "#fdca26"
             ],
             [
              1,
              "#f0f921"
             ]
            ],
            "type": "heatmapgl"
           }
          ],
          "histogram": [
           {
            "marker": {
             "colorbar": {
              "outlinewidth": 0,
              "ticks": ""
             }
            },
            "type": "histogram"
           }
          ],
          "histogram2d": [
           {
            "colorbar": {
             "outlinewidth": 0,
             "ticks": ""
            },
            "colorscale": [
             [
              0,
              "#0d0887"
             ],
             [
              0.1111111111111111,
              "#46039f"
             ],
             [
              0.2222222222222222,
              "#7201a8"
             ],
             [
              0.3333333333333333,
              "#9c179e"
             ],
             [
              0.4444444444444444,
              "#bd3786"
             ],
             [
              0.5555555555555556,
              "#d8576b"
             ],
             [
              0.6666666666666666,
              "#ed7953"
             ],
             [
              0.7777777777777778,
              "#fb9f3a"
             ],
             [
              0.8888888888888888,
              "#fdca26"
             ],
             [
              1,
              "#f0f921"
             ]
            ],
            "type": "histogram2d"
           }
          ],
          "histogram2dcontour": [
           {
            "colorbar": {
             "outlinewidth": 0,
             "ticks": ""
            },
            "colorscale": [
             [
              0,
              "#0d0887"
             ],
             [
              0.1111111111111111,
              "#46039f"
             ],
             [
              0.2222222222222222,
              "#7201a8"
             ],
             [
              0.3333333333333333,
              "#9c179e"
             ],
             [
              0.4444444444444444,
              "#bd3786"
             ],
             [
              0.5555555555555556,
              "#d8576b"
             ],
             [
              0.6666666666666666,
              "#ed7953"
             ],
             [
              0.7777777777777778,
              "#fb9f3a"
             ],
             [
              0.8888888888888888,
              "#fdca26"
             ],
             [
              1,
              "#f0f921"
             ]
            ],
            "type": "histogram2dcontour"
           }
          ],
          "mesh3d": [
           {
            "colorbar": {
             "outlinewidth": 0,
             "ticks": ""
            },
            "type": "mesh3d"
           }
          ],
          "parcoords": [
           {
            "line": {
             "colorbar": {
              "outlinewidth": 0,
              "ticks": ""
             }
            },
            "type": "parcoords"
           }
          ],
          "pie": [
           {
            "automargin": true,
            "type": "pie"
           }
          ],
          "scatter": [
           {
            "marker": {
             "colorbar": {
              "outlinewidth": 0,
              "ticks": ""
             }
            },
            "type": "scatter"
           }
          ],
          "scatter3d": [
           {
            "line": {
             "colorbar": {
              "outlinewidth": 0,
              "ticks": ""
             }
            },
            "marker": {
             "colorbar": {
              "outlinewidth": 0,
              "ticks": ""
             }
            },
            "type": "scatter3d"
           }
          ],
          "scattercarpet": [
           {
            "marker": {
             "colorbar": {
              "outlinewidth": 0,
              "ticks": ""
             }
            },
            "type": "scattercarpet"
           }
          ],
          "scattergeo": [
           {
            "marker": {
             "colorbar": {
              "outlinewidth": 0,
              "ticks": ""
             }
            },
            "type": "scattergeo"
           }
          ],
          "scattergl": [
           {
            "marker": {
             "colorbar": {
              "outlinewidth": 0,
              "ticks": ""
             }
            },
            "type": "scattergl"
           }
          ],
          "scattermapbox": [
           {
            "marker": {
             "colorbar": {
              "outlinewidth": 0,
              "ticks": ""
             }
            },
            "type": "scattermapbox"
           }
          ],
          "scatterpolar": [
           {
            "marker": {
             "colorbar": {
              "outlinewidth": 0,
              "ticks": ""
             }
            },
            "type": "scatterpolar"
           }
          ],
          "scatterpolargl": [
           {
            "marker": {
             "colorbar": {
              "outlinewidth": 0,
              "ticks": ""
             }
            },
            "type": "scatterpolargl"
           }
          ],
          "scatterternary": [
           {
            "marker": {
             "colorbar": {
              "outlinewidth": 0,
              "ticks": ""
             }
            },
            "type": "scatterternary"
           }
          ],
          "surface": [
           {
            "colorbar": {
             "outlinewidth": 0,
             "ticks": ""
            },
            "colorscale": [
             [
              0,
              "#0d0887"
             ],
             [
              0.1111111111111111,
              "#46039f"
             ],
             [
              0.2222222222222222,
              "#7201a8"
             ],
             [
              0.3333333333333333,
              "#9c179e"
             ],
             [
              0.4444444444444444,
              "#bd3786"
             ],
             [
              0.5555555555555556,
              "#d8576b"
             ],
             [
              0.6666666666666666,
              "#ed7953"
             ],
             [
              0.7777777777777778,
              "#fb9f3a"
             ],
             [
              0.8888888888888888,
              "#fdca26"
             ],
             [
              1,
              "#f0f921"
             ]
            ],
            "type": "surface"
           }
          ],
          "table": [
           {
            "cells": {
             "fill": {
              "color": "#EBF0F8"
             },
             "line": {
              "color": "white"
             }
            },
            "header": {
             "fill": {
              "color": "#C8D4E3"
             },
             "line": {
              "color": "white"
             }
            },
            "type": "table"
           }
          ]
         },
         "layout": {
          "annotationdefaults": {
           "arrowcolor": "#2a3f5f",
           "arrowhead": 0,
           "arrowwidth": 1
          },
          "coloraxis": {
           "colorbar": {
            "outlinewidth": 0,
            "ticks": ""
           }
          },
          "colorscale": {
           "diverging": [
            [
             0,
             "#8e0152"
            ],
            [
             0.1,
             "#c51b7d"
            ],
            [
             0.2,
             "#de77ae"
            ],
            [
             0.3,
             "#f1b6da"
            ],
            [
             0.4,
             "#fde0ef"
            ],
            [
             0.5,
             "#f7f7f7"
            ],
            [
             0.6,
             "#e6f5d0"
            ],
            [
             0.7,
             "#b8e186"
            ],
            [
             0.8,
             "#7fbc41"
            ],
            [
             0.9,
             "#4d9221"
            ],
            [
             1,
             "#276419"
            ]
           ],
           "sequential": [
            [
             0,
             "#0d0887"
            ],
            [
             0.1111111111111111,
             "#46039f"
            ],
            [
             0.2222222222222222,
             "#7201a8"
            ],
            [
             0.3333333333333333,
             "#9c179e"
            ],
            [
             0.4444444444444444,
             "#bd3786"
            ],
            [
             0.5555555555555556,
             "#d8576b"
            ],
            [
             0.6666666666666666,
             "#ed7953"
            ],
            [
             0.7777777777777778,
             "#fb9f3a"
            ],
            [
             0.8888888888888888,
             "#fdca26"
            ],
            [
             1,
             "#f0f921"
            ]
           ],
           "sequentialminus": [
            [
             0,
             "#0d0887"
            ],
            [
             0.1111111111111111,
             "#46039f"
            ],
            [
             0.2222222222222222,
             "#7201a8"
            ],
            [
             0.3333333333333333,
             "#9c179e"
            ],
            [
             0.4444444444444444,
             "#bd3786"
            ],
            [
             0.5555555555555556,
             "#d8576b"
            ],
            [
             0.6666666666666666,
             "#ed7953"
            ],
            [
             0.7777777777777778,
             "#fb9f3a"
            ],
            [
             0.8888888888888888,
             "#fdca26"
            ],
            [
             1,
             "#f0f921"
            ]
           ]
          },
          "colorway": [
           "#636efa",
           "#EF553B",
           "#00cc96",
           "#ab63fa",
           "#FFA15A",
           "#19d3f3",
           "#FF6692",
           "#B6E880",
           "#FF97FF",
           "#FECB52"
          ],
          "font": {
           "color": "#2a3f5f"
          },
          "geo": {
           "bgcolor": "white",
           "lakecolor": "white",
           "landcolor": "#E5ECF6",
           "showlakes": true,
           "showland": true,
           "subunitcolor": "white"
          },
          "hoverlabel": {
           "align": "left"
          },
          "hovermode": "closest",
          "mapbox": {
           "style": "light"
          },
          "paper_bgcolor": "white",
          "plot_bgcolor": "#E5ECF6",
          "polar": {
           "angularaxis": {
            "gridcolor": "white",
            "linecolor": "white",
            "ticks": ""
           },
           "bgcolor": "#E5ECF6",
           "radialaxis": {
            "gridcolor": "white",
            "linecolor": "white",
            "ticks": ""
           }
          },
          "scene": {
           "xaxis": {
            "backgroundcolor": "#E5ECF6",
            "gridcolor": "white",
            "gridwidth": 2,
            "linecolor": "white",
            "showbackground": true,
            "ticks": "",
            "zerolinecolor": "white"
           },
           "yaxis": {
            "backgroundcolor": "#E5ECF6",
            "gridcolor": "white",
            "gridwidth": 2,
            "linecolor": "white",
            "showbackground": true,
            "ticks": "",
            "zerolinecolor": "white"
           },
           "zaxis": {
            "backgroundcolor": "#E5ECF6",
            "gridcolor": "white",
            "gridwidth": 2,
            "linecolor": "white",
            "showbackground": true,
            "ticks": "",
            "zerolinecolor": "white"
           }
          },
          "shapedefaults": {
           "line": {
            "color": "#2a3f5f"
           }
          },
          "ternary": {
           "aaxis": {
            "gridcolor": "white",
            "linecolor": "white",
            "ticks": ""
           },
           "baxis": {
            "gridcolor": "white",
            "linecolor": "white",
            "ticks": ""
           },
           "bgcolor": "#E5ECF6",
           "caxis": {
            "gridcolor": "white",
            "linecolor": "white",
            "ticks": ""
           }
          },
          "title": {
           "x": 0.05
          },
          "xaxis": {
           "automargin": true,
           "gridcolor": "white",
           "linecolor": "white",
           "ticks": "",
           "title": {
            "standoff": 15
           },
           "zerolinecolor": "white",
           "zerolinewidth": 2
          },
          "yaxis": {
           "automargin": true,
           "gridcolor": "white",
           "linecolor": "white",
           "ticks": "",
           "title": {
            "standoff": 15
           },
           "zerolinecolor": "white",
           "zerolinewidth": 2
          }
         }
        },
        "updatemenus": [
         {
          "buttons": [
           {
            "args": [
             null,
             {
              "frame": {
               "duration": 300,
               "redraw": false
              },
              "fromcurrent": true,
              "transition": {
               "duration": 300,
               "easing": "quadratic-in-out"
              }
             }
            ],
            "label": "Play",
            "method": "animate"
           },
           {
            "args": [
             [
              null
             ],
             {
              "frame": {
               "duration": 0,
               "redraw": false
              },
              "mode": "immediate",
              "transition": {
               "duration": 0
              }
             }
            ],
            "label": "Pause",
            "method": "animate"
           }
          ],
          "direction": "left",
          "pad": {
           "r": 10,
           "t": 87
          },
          "showactive": true,
          "type": "buttons",
          "x": 0.1,
          "xanchor": "right",
          "y": 0,
          "yanchor": "top"
         }
        ],
        "xaxis": {
         "range": [
          0,
          348
         ],
         "showline": true,
         "showticklabels": true,
         "title": {
          "text": "Production quantity (tonnes)"
         },
         "visible": true
        },
        "yaxis": {
         "showline": false,
         "showticklabels": false,
         "title": {
          "text": "Top 10 crops"
         },
         "visible": true
        }
       }
      },
      "text/html": [
       "<div>                            <div id=\"a9500f87-4937-48cf-bf8f-35c163db1852\" class=\"plotly-graph-div\" style=\"height:525px; width:100%;\"></div>            <script type=\"text/javascript\">                require([\"plotly\"], function(Plotly) {                    window.PLOTLYENV=window.PLOTLYENV || {};                                    if (document.getElementById(\"a9500f87-4937-48cf-bf8f-35c163db1852\")) {                    Plotly.newPlot(                        \"a9500f87-4937-48cf-bf8f-35c163db1852\",                        [{\"cliponaxis\": false, \"hoverinfo\": \"all\", \"marker\": {\"color\": [\"rgb(58, 167, 131)\", \"rgb(156, 131, 31)\", \"rgb(170, 213, 223)\", \"rgb(215, 10, 41)\", \"rgb(98, 173, 18)\", \"rgb(12, 77, 49)\", \"rgb(254, 188, 214)\", \"rgb(142, 170, 163)\", \"rgb(225, 154, 193)\", \"rgb(28, 123, 223)\"]}, \"orientation\": \"h\", \"textangle\": 0, \"textposition\": \"outside\", \"texttemplate\": \"%{y}<br>%{x:.4s}\", \"type\": \"bar\", \"x\": [113, 123, 132, 137, 143, 145, 151, 174, 198, 295], \"y\": [\"ALEX\", \"POL\", \"ALEJANDRO\", \"SERGI\", \"JORDI\", \"VICTOR\", \"ALBERT\", \"DANIEL\", \"DAVID\", \"MARC\"]}],                        {\"bargap\": 0.15, \"font\": {\"size\": 14}, \"plot_bgcolor\": \"#FFFFFF\", \"sliders\": [{\"active\": 0, \"currentvalue\": {\"font\": {\"size\": 20}, \"prefix\": \"Year: \", \"visible\": true, \"xanchor\": \"right\"}, \"len\": 0.9, \"pad\": {\"b\": 10, \"t\": 50}, \"steps\": [{\"args\": [[\"1996\"], {\"frame\": {\"duration\": 300, \"redraw\": false}, \"mode\": \"immediate\", \"transition\": {\"duration\": 300}}], \"label\": \"1996\", \"method\": \"animate\"}, {\"args\": [[\"1997\"], {\"frame\": {\"duration\": 300, \"redraw\": false}, \"mode\": \"immediate\", \"transition\": {\"duration\": 300}}], \"label\": \"1997\", \"method\": \"animate\"}, {\"args\": [[\"1998\"], {\"frame\": {\"duration\": 300, \"redraw\": false}, \"mode\": \"immediate\", \"transition\": {\"duration\": 300}}], \"label\": \"1998\", \"method\": \"animate\"}, {\"args\": [[\"1999\"], {\"frame\": {\"duration\": 300, \"redraw\": false}, \"mode\": \"immediate\", \"transition\": {\"duration\": 300}}], \"label\": \"1999\", \"method\": \"animate\"}, {\"args\": [[\"2000\"], {\"frame\": {\"duration\": 300, \"redraw\": false}, \"mode\": \"immediate\", \"transition\": {\"duration\": 300}}], \"label\": \"2000\", \"method\": \"animate\"}, {\"args\": [[\"2001\"], {\"frame\": {\"duration\": 300, \"redraw\": false}, \"mode\": \"immediate\", \"transition\": {\"duration\": 300}}], \"label\": \"2001\", \"method\": \"animate\"}, {\"args\": [[\"2002\"], {\"frame\": {\"duration\": 300, \"redraw\": false}, \"mode\": \"immediate\", \"transition\": {\"duration\": 300}}], \"label\": \"2002\", \"method\": \"animate\"}, {\"args\": [[\"2003\"], {\"frame\": {\"duration\": 300, \"redraw\": false}, \"mode\": \"immediate\", \"transition\": {\"duration\": 300}}], \"label\": \"2003\", \"method\": \"animate\"}, {\"args\": [[\"2004\"], {\"frame\": {\"duration\": 300, \"redraw\": false}, \"mode\": \"immediate\", \"transition\": {\"duration\": 300}}], \"label\": \"2004\", \"method\": \"animate\"}, {\"args\": [[\"2005\"], {\"frame\": {\"duration\": 300, \"redraw\": false}, \"mode\": \"immediate\", \"transition\": {\"duration\": 300}}], \"label\": \"2005\", \"method\": \"animate\"}, {\"args\": [[\"2006\"], {\"frame\": {\"duration\": 300, \"redraw\": false}, \"mode\": \"immediate\", \"transition\": {\"duration\": 300}}], \"label\": \"2006\", \"method\": \"animate\"}, {\"args\": [[\"2007\"], {\"frame\": {\"duration\": 300, \"redraw\": false}, \"mode\": \"immediate\", \"transition\": {\"duration\": 300}}], \"label\": \"2007\", \"method\": \"animate\"}, {\"args\": [[\"2008\"], {\"frame\": {\"duration\": 300, \"redraw\": false}, \"mode\": \"immediate\", \"transition\": {\"duration\": 300}}], \"label\": \"2008\", \"method\": \"animate\"}, {\"args\": [[\"2009\"], {\"frame\": {\"duration\": 300, \"redraw\": false}, \"mode\": \"immediate\", \"transition\": {\"duration\": 300}}], \"label\": \"2009\", \"method\": \"animate\"}, {\"args\": [[\"2010\"], {\"frame\": {\"duration\": 300, \"redraw\": false}, \"mode\": \"immediate\", \"transition\": {\"duration\": 300}}], \"label\": \"2010\", \"method\": \"animate\"}, {\"args\": [[\"2011\"], {\"frame\": {\"duration\": 300, \"redraw\": false}, \"mode\": \"immediate\", \"transition\": {\"duration\": 300}}], \"label\": \"2011\", \"method\": \"animate\"}, {\"args\": [[\"2012\"], {\"frame\": {\"duration\": 300, \"redraw\": false}, \"mode\": \"immediate\", \"transition\": {\"duration\": 300}}], \"label\": \"2012\", \"method\": \"animate\"}, {\"args\": [[\"2013\"], {\"frame\": {\"duration\": 300, \"redraw\": false}, \"mode\": \"immediate\", \"transition\": {\"duration\": 300}}], \"label\": \"2013\", \"method\": \"animate\"}, {\"args\": [[\"2014\"], {\"frame\": {\"duration\": 300, \"redraw\": false}, \"mode\": \"immediate\", \"transition\": {\"duration\": 300}}], \"label\": \"2014\", \"method\": \"animate\"}, {\"args\": [[\"2015\"], {\"frame\": {\"duration\": 300, \"redraw\": false}, \"mode\": \"immediate\", \"transition\": {\"duration\": 300}}], \"label\": \"2015\", \"method\": \"animate\"}, {\"args\": [[\"2016\"], {\"frame\": {\"duration\": 300, \"redraw\": false}, \"mode\": \"immediate\", \"transition\": {\"duration\": 300}}], \"label\": \"2016\", \"method\": \"animate\"}, {\"args\": [[\"2017\"], {\"frame\": {\"duration\": 300, \"redraw\": false}, \"mode\": \"immediate\", \"transition\": {\"duration\": 300}}], \"label\": \"2017\", \"method\": \"animate\"}, {\"args\": [[\"2018\"], {\"frame\": {\"duration\": 300, \"redraw\": false}, \"mode\": \"immediate\", \"transition\": {\"duration\": 300}}], \"label\": \"2018\", \"method\": \"animate\"}, {\"args\": [[\"2019\"], {\"frame\": {\"duration\": 300, \"redraw\": false}, \"mode\": \"immediate\", \"transition\": {\"duration\": 300}}], \"label\": \"2019\", \"method\": \"animate\"}], \"transition\": {\"duration\": 300, \"easing\": \"cubic-in-out\"}, \"x\": 0.1, \"xanchor\": \"left\", \"y\": 0, \"yanchor\": \"top\"}], \"template\": {\"data\": {\"bar\": [{\"error_x\": {\"color\": \"#2a3f5f\"}, \"error_y\": {\"color\": \"#2a3f5f\"}, \"marker\": {\"line\": {\"color\": \"#E5ECF6\", \"width\": 0.5}}, \"type\": \"bar\"}], \"barpolar\": [{\"marker\": {\"line\": {\"color\": \"#E5ECF6\", \"width\": 0.5}}, \"type\": \"barpolar\"}], \"carpet\": [{\"aaxis\": {\"endlinecolor\": \"#2a3f5f\", \"gridcolor\": \"white\", \"linecolor\": \"white\", \"minorgridcolor\": \"white\", \"startlinecolor\": \"#2a3f5f\"}, \"baxis\": {\"endlinecolor\": \"#2a3f5f\", \"gridcolor\": \"white\", \"linecolor\": \"white\", \"minorgridcolor\": \"white\", \"startlinecolor\": \"#2a3f5f\"}, \"type\": \"carpet\"}], \"choropleth\": [{\"colorbar\": {\"outlinewidth\": 0, \"ticks\": \"\"}, \"type\": \"choropleth\"}], \"contour\": [{\"colorbar\": {\"outlinewidth\": 0, \"ticks\": \"\"}, \"colorscale\": [[0.0, \"#0d0887\"], [0.1111111111111111, \"#46039f\"], [0.2222222222222222, \"#7201a8\"], [0.3333333333333333, \"#9c179e\"], [0.4444444444444444, \"#bd3786\"], [0.5555555555555556, \"#d8576b\"], [0.6666666666666666, \"#ed7953\"], [0.7777777777777778, \"#fb9f3a\"], [0.8888888888888888, \"#fdca26\"], [1.0, \"#f0f921\"]], \"type\": \"contour\"}], \"contourcarpet\": [{\"colorbar\": {\"outlinewidth\": 0, \"ticks\": \"\"}, \"type\": \"contourcarpet\"}], \"heatmap\": [{\"colorbar\": {\"outlinewidth\": 0, \"ticks\": \"\"}, \"colorscale\": [[0.0, \"#0d0887\"], [0.1111111111111111, \"#46039f\"], [0.2222222222222222, \"#7201a8\"], [0.3333333333333333, \"#9c179e\"], [0.4444444444444444, \"#bd3786\"], [0.5555555555555556, \"#d8576b\"], [0.6666666666666666, \"#ed7953\"], [0.7777777777777778, \"#fb9f3a\"], [0.8888888888888888, \"#fdca26\"], [1.0, \"#f0f921\"]], \"type\": \"heatmap\"}], \"heatmapgl\": [{\"colorbar\": {\"outlinewidth\": 0, \"ticks\": \"\"}, \"colorscale\": [[0.0, \"#0d0887\"], [0.1111111111111111, \"#46039f\"], [0.2222222222222222, \"#7201a8\"], [0.3333333333333333, \"#9c179e\"], [0.4444444444444444, \"#bd3786\"], [0.5555555555555556, \"#d8576b\"], [0.6666666666666666, \"#ed7953\"], [0.7777777777777778, \"#fb9f3a\"], [0.8888888888888888, \"#fdca26\"], [1.0, \"#f0f921\"]], \"type\": \"heatmapgl\"}], \"histogram\": [{\"marker\": {\"colorbar\": {\"outlinewidth\": 0, \"ticks\": \"\"}}, \"type\": \"histogram\"}], \"histogram2d\": [{\"colorbar\": {\"outlinewidth\": 0, \"ticks\": \"\"}, \"colorscale\": [[0.0, \"#0d0887\"], [0.1111111111111111, \"#46039f\"], [0.2222222222222222, \"#7201a8\"], [0.3333333333333333, \"#9c179e\"], [0.4444444444444444, \"#bd3786\"], [0.5555555555555556, \"#d8576b\"], [0.6666666666666666, \"#ed7953\"], [0.7777777777777778, \"#fb9f3a\"], [0.8888888888888888, \"#fdca26\"], [1.0, \"#f0f921\"]], \"type\": \"histogram2d\"}], \"histogram2dcontour\": [{\"colorbar\": {\"outlinewidth\": 0, \"ticks\": \"\"}, \"colorscale\": [[0.0, \"#0d0887\"], [0.1111111111111111, \"#46039f\"], [0.2222222222222222, \"#7201a8\"], [0.3333333333333333, \"#9c179e\"], [0.4444444444444444, \"#bd3786\"], [0.5555555555555556, \"#d8576b\"], [0.6666666666666666, \"#ed7953\"], [0.7777777777777778, \"#fb9f3a\"], [0.8888888888888888, \"#fdca26\"], [1.0, \"#f0f921\"]], \"type\": \"histogram2dcontour\"}], \"mesh3d\": [{\"colorbar\": {\"outlinewidth\": 0, \"ticks\": \"\"}, \"type\": \"mesh3d\"}], \"parcoords\": [{\"line\": {\"colorbar\": {\"outlinewidth\": 0, \"ticks\": \"\"}}, \"type\": \"parcoords\"}], \"pie\": [{\"automargin\": true, \"type\": \"pie\"}], \"scatter\": [{\"marker\": {\"colorbar\": {\"outlinewidth\": 0, \"ticks\": \"\"}}, \"type\": \"scatter\"}], \"scatter3d\": [{\"line\": {\"colorbar\": {\"outlinewidth\": 0, \"ticks\": \"\"}}, \"marker\": {\"colorbar\": {\"outlinewidth\": 0, \"ticks\": \"\"}}, \"type\": \"scatter3d\"}], \"scattercarpet\": [{\"marker\": {\"colorbar\": {\"outlinewidth\": 0, \"ticks\": \"\"}}, \"type\": \"scattercarpet\"}], \"scattergeo\": [{\"marker\": {\"colorbar\": {\"outlinewidth\": 0, \"ticks\": \"\"}}, \"type\": \"scattergeo\"}], \"scattergl\": [{\"marker\": {\"colorbar\": {\"outlinewidth\": 0, \"ticks\": \"\"}}, \"type\": \"scattergl\"}], \"scattermapbox\": [{\"marker\": {\"colorbar\": {\"outlinewidth\": 0, \"ticks\": \"\"}}, \"type\": \"scattermapbox\"}], \"scatterpolar\": [{\"marker\": {\"colorbar\": {\"outlinewidth\": 0, \"ticks\": \"\"}}, \"type\": \"scatterpolar\"}], \"scatterpolargl\": [{\"marker\": {\"colorbar\": {\"outlinewidth\": 0, \"ticks\": \"\"}}, \"type\": \"scatterpolargl\"}], \"scatterternary\": [{\"marker\": {\"colorbar\": {\"outlinewidth\": 0, \"ticks\": \"\"}}, \"type\": \"scatterternary\"}], \"surface\": [{\"colorbar\": {\"outlinewidth\": 0, \"ticks\": \"\"}, \"colorscale\": [[0.0, \"#0d0887\"], [0.1111111111111111, \"#46039f\"], [0.2222222222222222, \"#7201a8\"], [0.3333333333333333, \"#9c179e\"], [0.4444444444444444, \"#bd3786\"], [0.5555555555555556, \"#d8576b\"], [0.6666666666666666, \"#ed7953\"], [0.7777777777777778, \"#fb9f3a\"], [0.8888888888888888, \"#fdca26\"], [1.0, \"#f0f921\"]], \"type\": \"surface\"}], \"table\": [{\"cells\": {\"fill\": {\"color\": \"#EBF0F8\"}, \"line\": {\"color\": \"white\"}}, \"header\": {\"fill\": {\"color\": \"#C8D4E3\"}, \"line\": {\"color\": \"white\"}}, \"type\": \"table\"}]}, \"layout\": {\"annotationdefaults\": {\"arrowcolor\": \"#2a3f5f\", \"arrowhead\": 0, \"arrowwidth\": 1}, \"coloraxis\": {\"colorbar\": {\"outlinewidth\": 0, \"ticks\": \"\"}}, \"colorscale\": {\"diverging\": [[0, \"#8e0152\"], [0.1, \"#c51b7d\"], [0.2, \"#de77ae\"], [0.3, \"#f1b6da\"], [0.4, \"#fde0ef\"], [0.5, \"#f7f7f7\"], [0.6, \"#e6f5d0\"], [0.7, \"#b8e186\"], [0.8, \"#7fbc41\"], [0.9, \"#4d9221\"], [1, \"#276419\"]], \"sequential\": [[0.0, \"#0d0887\"], [0.1111111111111111, \"#46039f\"], [0.2222222222222222, \"#7201a8\"], [0.3333333333333333, \"#9c179e\"], [0.4444444444444444, \"#bd3786\"], [0.5555555555555556, \"#d8576b\"], [0.6666666666666666, \"#ed7953\"], [0.7777777777777778, \"#fb9f3a\"], [0.8888888888888888, \"#fdca26\"], [1.0, \"#f0f921\"]], \"sequentialminus\": [[0.0, \"#0d0887\"], [0.1111111111111111, \"#46039f\"], [0.2222222222222222, \"#7201a8\"], [0.3333333333333333, \"#9c179e\"], [0.4444444444444444, \"#bd3786\"], [0.5555555555555556, \"#d8576b\"], [0.6666666666666666, \"#ed7953\"], [0.7777777777777778, \"#fb9f3a\"], [0.8888888888888888, \"#fdca26\"], [1.0, \"#f0f921\"]]}, \"colorway\": [\"#636efa\", \"#EF553B\", \"#00cc96\", \"#ab63fa\", \"#FFA15A\", \"#19d3f3\", \"#FF6692\", \"#B6E880\", \"#FF97FF\", \"#FECB52\"], \"font\": {\"color\": \"#2a3f5f\"}, \"geo\": {\"bgcolor\": \"white\", \"lakecolor\": \"white\", \"landcolor\": \"#E5ECF6\", \"showlakes\": true, \"showland\": true, \"subunitcolor\": \"white\"}, \"hoverlabel\": {\"align\": \"left\"}, \"hovermode\": \"closest\", \"mapbox\": {\"style\": \"light\"}, \"paper_bgcolor\": \"white\", \"plot_bgcolor\": \"#E5ECF6\", \"polar\": {\"angularaxis\": {\"gridcolor\": \"white\", \"linecolor\": \"white\", \"ticks\": \"\"}, \"bgcolor\": \"#E5ECF6\", \"radialaxis\": {\"gridcolor\": \"white\", \"linecolor\": \"white\", \"ticks\": \"\"}}, \"scene\": {\"xaxis\": {\"backgroundcolor\": \"#E5ECF6\", \"gridcolor\": \"white\", \"gridwidth\": 2, \"linecolor\": \"white\", \"showbackground\": true, \"ticks\": \"\", \"zerolinecolor\": \"white\"}, \"yaxis\": {\"backgroundcolor\": \"#E5ECF6\", \"gridcolor\": \"white\", \"gridwidth\": 2, \"linecolor\": \"white\", \"showbackground\": true, \"ticks\": \"\", \"zerolinecolor\": \"white\"}, \"zaxis\": {\"backgroundcolor\": \"#E5ECF6\", \"gridcolor\": \"white\", \"gridwidth\": 2, \"linecolor\": \"white\", \"showbackground\": true, \"ticks\": \"\", \"zerolinecolor\": \"white\"}}, \"shapedefaults\": {\"line\": {\"color\": \"#2a3f5f\"}}, \"ternary\": {\"aaxis\": {\"gridcolor\": \"white\", \"linecolor\": \"white\", \"ticks\": \"\"}, \"baxis\": {\"gridcolor\": \"white\", \"linecolor\": \"white\", \"ticks\": \"\"}, \"bgcolor\": \"#E5ECF6\", \"caxis\": {\"gridcolor\": \"white\", \"linecolor\": \"white\", \"ticks\": \"\"}}, \"title\": {\"x\": 0.05}, \"xaxis\": {\"automargin\": true, \"gridcolor\": \"white\", \"linecolor\": \"white\", \"ticks\": \"\", \"title\": {\"standoff\": 15}, \"zerolinecolor\": \"white\", \"zerolinewidth\": 2}, \"yaxis\": {\"automargin\": true, \"gridcolor\": \"white\", \"linecolor\": \"white\", \"ticks\": \"\", \"title\": {\"standoff\": 15}, \"zerolinecolor\": \"white\", \"zerolinewidth\": 2}}}, \"updatemenus\": [{\"buttons\": [{\"args\": [null, {\"frame\": {\"duration\": 300, \"redraw\": false}, \"fromcurrent\": true, \"transition\": {\"duration\": 300, \"easing\": \"quadratic-in-out\"}}], \"label\": \"Play\", \"method\": \"animate\"}, {\"args\": [[null], {\"frame\": {\"duration\": 0, \"redraw\": false}, \"mode\": \"immediate\", \"transition\": {\"duration\": 0}}], \"label\": \"Pause\", \"method\": \"animate\"}], \"direction\": \"left\", \"pad\": {\"r\": 10, \"t\": 87}, \"showactive\": true, \"type\": \"buttons\", \"x\": 0.1, \"xanchor\": \"right\", \"y\": 0, \"yanchor\": \"top\"}], \"xaxis\": {\"range\": [0, 348], \"showline\": true, \"showticklabels\": true, \"title\": {\"text\": \"Production quantity (tonnes)\"}, \"visible\": true}, \"yaxis\": {\"showline\": false, \"showticklabels\": false, \"title\": {\"text\": \"Top 10 crops\"}, \"visible\": true}},                        {\"responsive\": true}                    ).then(function(){\n",
       "                            Plotly.addFrames('a9500f87-4937-48cf-bf8f-35c163db1852', [{\"data\": [{\"cliponaxis\": false, \"hoverinfo\": \"all\", \"hovertemplate\": \"<extra></extra>\", \"marker\": {\"color\": [\"rgb(58, 167, 131)\", \"rgb(156, 131, 31)\", \"rgb(170, 213, 223)\", \"rgb(215, 10, 41)\", \"rgb(98, 173, 18)\", \"rgb(12, 77, 49)\", \"rgb(254, 188, 214)\", \"rgb(142, 170, 163)\", \"rgb(225, 154, 193)\", \"rgb(28, 123, 223)\"]}, \"orientation\": \"h\", \"textangle\": 0, \"textposition\": \"outside\", \"texttemplate\": \"%{y}<br>%{x:.4s}\", \"x\": [113, 123, 132, 137, 143, 145, 151, 174, 198, 295], \"y\": [\"ALEX\", \"POL\", \"ALEJANDRO\", \"SERGI\", \"JORDI\", \"VICTOR\", \"ALBERT\", \"DANIEL\", \"DAVID\", \"MARC\"], \"type\": \"bar\"}], \"layout\": {\"bargap\": 0.15, \"font\": {\"size\": 14}, \"plot_bgcolor\": \"#FFFFFF\", \"xaxis\": {\"range\": [0, 348], \"showline\": true, \"visible\": true}, \"yaxis\": {\"showline\": false, \"visible\": true}}, \"name\": \"1996\"}, {\"data\": [{\"cliponaxis\": false, \"hoverinfo\": \"all\", \"hovertemplate\": \"<extra></extra>\", \"marker\": {\"color\": [\"rgb(215, 10, 41)\", \"rgb(77, 41, 224)\", \"rgb(254, 188, 214)\", \"rgb(170, 213, 223)\", \"rgb(156, 131, 31)\", \"rgb(58, 167, 131)\", \"rgb(12, 77, 49)\", \"rgb(142, 170, 163)\", \"rgb(225, 154, 193)\", \"rgb(28, 123, 223)\"]}, \"orientation\": \"h\", \"textangle\": 0, \"textposition\": \"outside\", \"texttemplate\": \"%{y}<br>%{x:.4s}\", \"x\": [120, 125, 126, 128, 143, 148, 150, 163, 183, 348], \"y\": [\"SERGI\", \"PAU\", \"ALBERT\", \"ALEJANDRO\", \"POL\", \"ALEX\", \"VICTOR\", \"DANIEL\", \"DAVID\", \"MARC\"], \"type\": \"bar\"}], \"layout\": {\"bargap\": 0.15, \"font\": {\"size\": 14}, \"plot_bgcolor\": \"#FFFFFF\", \"xaxis\": {\"range\": [0, 348], \"showline\": true, \"visible\": true}, \"yaxis\": {\"showline\": false, \"visible\": true}}, \"name\": \"1997\"}, {\"data\": [{\"cliponaxis\": false, \"hoverinfo\": \"all\", \"hovertemplate\": \"<extra></extra>\", \"marker\": {\"color\": [\"rgb(170, 213, 223)\", \"rgb(77, 41, 224)\", \"rgb(215, 10, 41)\", \"rgb(254, 188, 214)\", \"rgb(12, 77, 49)\", \"rgb(156, 131, 31)\", \"rgb(142, 170, 163)\", \"rgb(58, 167, 131)\", \"rgb(225, 154, 193)\", \"rgb(28, 123, 223)\"]}, \"orientation\": \"h\", \"textangle\": 0, \"textposition\": \"outside\", \"texttemplate\": \"%{y}<br>%{x:.4s}\", \"x\": [117, 122, 130, 135, 139, 144, 159, 174, 184, 330], \"y\": [\"ALEJANDRO\", \"PAU\", \"SERGI\", \"ALBERT\", \"VICTOR\", \"POL\", \"DANIEL\", \"ALEX\", \"DAVID\", \"MARC\"], \"type\": \"bar\"}], \"layout\": {\"bargap\": 0.15, \"font\": {\"size\": 14}, \"plot_bgcolor\": \"#FFFFFF\", \"xaxis\": {\"range\": [0, 348], \"showline\": true, \"visible\": true}, \"yaxis\": {\"showline\": false, \"visible\": true}}, \"name\": \"1998\"}, {\"data\": [{\"cliponaxis\": false, \"hoverinfo\": \"all\", \"hovertemplate\": \"<extra></extra>\", \"marker\": {\"color\": [\"rgb(98, 173, 18)\", \"rgb(170, 213, 223)\", \"rgb(254, 188, 214)\", \"rgb(77, 41, 224)\", \"rgb(156, 131, 31)\", \"rgb(12, 77, 49)\", \"rgb(225, 154, 193)\", \"rgb(142, 170, 163)\", \"rgb(58, 167, 131)\", \"rgb(28, 123, 223)\"]}, \"orientation\": \"h\", \"textangle\": 0, \"textposition\": \"outside\", \"texttemplate\": \"%{y}<br>%{x:.4s}\", \"x\": [115, 118, 122, 133, 155, 157, 159, 166, 169, 291], \"y\": [\"JORDI\", \"ALEJANDRO\", \"ALBERT\", \"PAU\", \"POL\", \"VICTOR\", \"DAVID\", \"DANIEL\", \"ALEX\", \"MARC\"], \"type\": \"bar\"}], \"layout\": {\"bargap\": 0.15, \"font\": {\"size\": 14}, \"plot_bgcolor\": \"#FFFFFF\", \"xaxis\": {\"range\": [0, 348], \"showline\": true, \"visible\": true}, \"yaxis\": {\"showline\": false, \"visible\": true}}, \"name\": \"1999\"}, {\"data\": [{\"cliponaxis\": false, \"hoverinfo\": \"all\", \"hovertemplate\": \"<extra></extra>\", \"marker\": {\"color\": [\"rgb(170, 213, 223)\", \"rgb(183, 234, 16)\", \"rgb(254, 188, 214)\", \"rgb(77, 41, 224)\", \"rgb(12, 77, 49)\", \"rgb(142, 170, 163)\", \"rgb(225, 154, 193)\", \"rgb(156, 131, 31)\", \"rgb(58, 167, 131)\", \"rgb(28, 123, 223)\"]}, \"orientation\": \"h\", \"textangle\": 0, \"textposition\": \"outside\", \"texttemplate\": \"%{y}<br>%{x:.4s}\", \"x\": [117, 120, 125, 134, 150, 176, 187, 189, 201, 290], \"y\": [\"ALEJANDRO\", \"ARNAU\", \"ALBERT\", \"PAU\", \"VICTOR\", \"DANIEL\", \"DAVID\", \"POL\", \"ALEX\", \"MARC\"], \"type\": \"bar\"}], \"layout\": {\"bargap\": 0.15, \"font\": {\"size\": 14}, \"plot_bgcolor\": \"#FFFFFF\", \"xaxis\": {\"range\": [0, 348], \"showline\": true, \"visible\": true}, \"yaxis\": {\"showline\": false, \"visible\": true}}, \"name\": \"2000\"}, {\"data\": [{\"cliponaxis\": false, \"hoverinfo\": \"all\", \"hovertemplate\": \"<extra></extra>\", \"marker\": {\"color\": [\"rgb(183, 234, 16)\", \"rgb(133, 60, 252)\", \"rgb(12, 77, 49)\", \"rgb(170, 213, 223)\", \"rgb(142, 170, 163)\", \"rgb(77, 41, 224)\", \"rgb(225, 154, 193)\", \"rgb(156, 131, 31)\", \"rgb(58, 167, 131)\", \"rgb(28, 123, 223)\"]}, \"orientation\": \"h\", \"textangle\": 0, \"textposition\": \"outside\", \"texttemplate\": \"%{y}<br>%{x:.4s}\", \"x\": [108, 125, 126, 132, 143, 151, 154, 159, 164, 234], \"y\": [\"ARNAU\", \"GERARD\", \"VICTOR\", \"ALEJANDRO\", \"DANIEL\", \"PAU\", \"DAVID\", \"POL\", \"ALEX\", \"MARC\"], \"type\": \"bar\"}], \"layout\": {\"bargap\": 0.15, \"font\": {\"size\": 14}, \"plot_bgcolor\": \"#FFFFFF\", \"xaxis\": {\"range\": [0, 348], \"showline\": true, \"visible\": true}, \"yaxis\": {\"showline\": false, \"visible\": true}}, \"name\": \"2001\"}, {\"data\": [{\"cliponaxis\": false, \"hoverinfo\": \"all\", \"hovertemplate\": \"<extra></extra>\", \"marker\": {\"color\": [\"rgb(133, 60, 252)\", \"rgb(183, 234, 16)\", \"rgb(12, 77, 49)\", \"rgb(170, 213, 223)\", \"rgb(142, 170, 163)\", \"rgb(58, 167, 131)\", \"rgb(77, 41, 224)\", \"rgb(225, 154, 193)\", \"rgb(156, 131, 31)\", \"rgb(28, 123, 223)\"]}, \"orientation\": \"h\", \"textangle\": 0, \"textposition\": \"outside\", \"texttemplate\": \"%{y}<br>%{x:.4s}\", \"x\": [106, 115, 120, 124, 128, 148, 149, 150, 175, 267], \"y\": [\"GERARD\", \"ARNAU\", \"VICTOR\", \"ALEJANDRO\", \"DANIEL\", \"ALEX\", \"PAU\", \"DAVID\", \"POL\", \"MARC\"], \"type\": \"bar\"}], \"layout\": {\"bargap\": 0.15, \"font\": {\"size\": 14}, \"plot_bgcolor\": \"#FFFFFF\", \"xaxis\": {\"range\": [0, 348], \"showline\": true, \"visible\": true}, \"yaxis\": {\"showline\": false, \"visible\": true}}, \"name\": \"2002\"}, {\"data\": [{\"cliponaxis\": false, \"hoverinfo\": \"all\", \"hovertemplate\": \"<extra></extra>\", \"marker\": {\"color\": [\"rgb(170, 213, 223)\", \"rgb(12, 77, 49)\", \"rgb(183, 234, 16)\", \"rgb(214, 203, 59)\", \"rgb(142, 170, 163)\", \"rgb(225, 154, 193)\", \"rgb(156, 131, 31)\", \"rgb(77, 41, 224)\", \"rgb(58, 167, 131)\", \"rgb(28, 123, 223)\"]}, \"orientation\": \"h\", \"textangle\": 0, \"textposition\": \"outside\", \"texttemplate\": \"%{y}<br>%{x:.4s}\", \"x\": [105, 107, 109, 119, 156, 173, 184, 202, 205, 287], \"y\": [\"ALEJANDRO\", \"VICTOR\", \"ARNAU\", \"JOAN\", \"DANIEL\", \"DAVID\", \"POL\", \"PAU\", \"ALEX\", \"MARC\"], \"type\": \"bar\"}], \"layout\": {\"bargap\": 0.15, \"font\": {\"size\": 14}, \"plot_bgcolor\": \"#FFFFFF\", \"xaxis\": {\"range\": [0, 348], \"showline\": true, \"visible\": true}, \"yaxis\": {\"showline\": false, \"visible\": true}}, \"name\": \"2003\"}, {\"data\": [{\"cliponaxis\": false, \"hoverinfo\": \"all\", \"hovertemplate\": \"<extra></extra>\", \"marker\": {\"color\": [\"rgb(170, 213, 223)\", \"rgb(3, 139, 20)\", \"rgb(12, 77, 49)\", \"rgb(183, 234, 16)\", \"rgb(142, 170, 163)\", \"rgb(225, 154, 193)\", \"rgb(77, 41, 224)\", \"rgb(156, 131, 31)\", \"rgb(58, 167, 131)\", \"rgb(28, 123, 223)\"]}, \"orientation\": \"h\", \"textangle\": 0, \"textposition\": \"outside\", \"texttemplate\": \"%{y}<br>%{x:.4s}\", \"x\": [107, 107, 116, 125, 128, 129, 173, 181, 185, 259], \"y\": [\"ALEJANDRO\", \"PABLO\", \"VICTOR\", \"ARNAU\", \"DANIEL\", \"DAVID\", \"PAU\", \"POL\", \"ALEX\", \"MARC\"], \"type\": \"bar\"}], \"layout\": {\"bargap\": 0.15, \"font\": {\"size\": 14}, \"plot_bgcolor\": \"#FFFFFF\", \"xaxis\": {\"range\": [0, 348], \"showline\": true, \"visible\": true}, \"yaxis\": {\"showline\": false, \"visible\": true}}, \"name\": \"2004\"}, {\"data\": [{\"cliponaxis\": false, \"hoverinfo\": \"all\", \"hovertemplate\": \"<extra></extra>\", \"marker\": {\"color\": [\"rgb(3, 139, 20)\", \"rgb(153, 75, 214)\", \"rgb(183, 234, 16)\", \"rgb(65, 58, 238)\", \"rgb(142, 170, 163)\", \"rgb(225, 154, 193)\", \"rgb(58, 167, 131)\", \"rgb(156, 131, 31)\", \"rgb(77, 41, 224)\", \"rgb(28, 123, 223)\"]}, \"orientation\": \"h\", \"textangle\": 0, \"textposition\": \"outside\", \"texttemplate\": \"%{y}<br>%{x:.4s}\", \"x\": [106, 111, 115, 122, 151, 157, 167, 176, 187, 277], \"y\": [\"PABLO\", \"MARTI\", \"ARNAU\", \"JAN\", \"DANIEL\", \"DAVID\", \"ALEX\", \"POL\", \"PAU\", \"MARC\"], \"type\": \"bar\"}], \"layout\": {\"bargap\": 0.15, \"font\": {\"size\": 14}, \"plot_bgcolor\": \"#FFFFFF\", \"xaxis\": {\"range\": [0, 348], \"showline\": true, \"visible\": true}, \"yaxis\": {\"showline\": false, \"visible\": true}}, \"name\": \"2005\"}, {\"data\": [{\"cliponaxis\": false, \"hoverinfo\": \"all\", \"hovertemplate\": \"<extra></extra>\", \"marker\": {\"color\": [\"rgb(170, 213, 223)\", \"rgb(153, 75, 214)\", \"rgb(12, 77, 49)\", \"rgb(225, 154, 193)\", \"rgb(183, 234, 16)\", \"rgb(142, 170, 163)\", \"rgb(77, 41, 224)\", \"rgb(58, 167, 131)\", \"rgb(156, 131, 31)\", \"rgb(28, 123, 223)\"]}, \"orientation\": \"h\", \"textangle\": 0, \"textposition\": \"outside\", \"texttemplate\": \"%{y}<br>%{x:.4s}\", \"x\": [95, 98, 111, 116, 117, 141, 163, 168, 173, 229], \"y\": [\"ALEJANDRO\", \"MARTI\", \"VICTOR\", \"DAVID\", \"ARNAU\", \"DANIEL\", \"PAU\", \"ALEX\", \"POL\", \"MARC\"], \"type\": \"bar\"}], \"layout\": {\"bargap\": 0.15, \"font\": {\"size\": 14}, \"plot_bgcolor\": \"#FFFFFF\", \"xaxis\": {\"range\": [0, 348], \"showline\": true, \"visible\": true}, \"yaxis\": {\"showline\": false, \"visible\": true}}, \"name\": \"2006\"}, {\"data\": [{\"cliponaxis\": false, \"hoverinfo\": \"all\", \"hovertemplate\": \"<extra></extra>\", \"marker\": {\"color\": [\"rgb(12, 77, 49)\", \"rgb(183, 234, 16)\", \"rgb(10, 91, 117)\", \"rgb(153, 75, 214)\", \"rgb(225, 154, 193)\", \"rgb(142, 170, 163)\", \"rgb(156, 131, 31)\", \"rgb(77, 41, 224)\", \"rgb(58, 167, 131)\", \"rgb(28, 123, 223)\"]}, \"orientation\": \"h\", \"textangle\": 0, \"textposition\": \"outside\", \"texttemplate\": \"%{y}<br>%{x:.4s}\", \"x\": [98, 115, 126, 126, 127, 132, 140, 148, 163, 237], \"y\": [\"VICTOR\", \"ARNAU\", \"ERIC\", \"MARTI\", \"DAVID\", \"DANIEL\", \"POL\", \"PAU\", \"ALEX\", \"MARC\"], \"type\": \"bar\"}], \"layout\": {\"bargap\": 0.15, \"font\": {\"size\": 14}, \"plot_bgcolor\": \"#FFFFFF\", \"xaxis\": {\"range\": [0, 348], \"showline\": true, \"visible\": true}, \"yaxis\": {\"showline\": false, \"visible\": true}}, \"name\": \"2007\"}, {\"data\": [{\"cliponaxis\": false, \"hoverinfo\": \"all\", \"hovertemplate\": \"<extra></extra>\", \"marker\": {\"color\": [\"rgb(183, 234, 16)\", \"rgb(153, 75, 214)\", \"rgb(10, 91, 117)\", \"rgb(65, 58, 238)\", \"rgb(225, 154, 193)\", \"rgb(142, 170, 163)\", \"rgb(77, 41, 224)\", \"rgb(58, 167, 131)\", \"rgb(156, 131, 31)\", \"rgb(28, 123, 223)\"]}, \"orientation\": \"h\", \"textangle\": 0, \"textposition\": \"outside\", \"texttemplate\": \"%{y}<br>%{x:.4s}\", \"x\": [98, 98, 100, 106, 109, 121, 144, 156, 172, 244], \"y\": [\"ARNAU\", \"MARTI\", \"ERIC\", \"JAN\", \"DAVID\", \"DANIEL\", \"PAU\", \"ALEX\", \"POL\", \"MARC\"], \"type\": \"bar\"}], \"layout\": {\"bargap\": 0.15, \"font\": {\"size\": 14}, \"plot_bgcolor\": \"#FFFFFF\", \"xaxis\": {\"range\": [0, 348], \"showline\": true, \"visible\": true}, \"yaxis\": {\"showline\": false, \"visible\": true}}, \"name\": \"2008\"}, {\"data\": [{\"cliponaxis\": false, \"hoverinfo\": \"all\", \"hovertemplate\": \"<extra></extra>\", \"marker\": {\"color\": [\"rgb(8, 183, 180)\", \"rgb(142, 170, 163)\", \"rgb(65, 58, 238)\", \"rgb(183, 234, 16)\", \"rgb(153, 75, 214)\", \"rgb(10, 91, 117)\", \"rgb(156, 131, 31)\", \"rgb(58, 167, 131)\", \"rgb(77, 41, 224)\", \"rgb(28, 123, 223)\"]}, \"orientation\": \"h\", \"textangle\": 0, \"textposition\": \"outside\", \"texttemplate\": \"%{y}<br>%{x:.4s}\", \"x\": [89, 98, 100, 106, 116, 130, 146, 150, 165, 194], \"y\": [\"HUGO\", \"DANIEL\", \"JAN\", \"ARNAU\", \"MARTI\", \"ERIC\", \"POL\", \"ALEX\", \"PAU\", \"MARC\"], \"type\": \"bar\"}], \"layout\": {\"bargap\": 0.15, \"font\": {\"size\": 14}, \"plot_bgcolor\": \"#FFFFFF\", \"xaxis\": {\"range\": [0, 348], \"showline\": true, \"visible\": true}, \"yaxis\": {\"showline\": false, \"visible\": true}}, \"name\": \"2009\"}, {\"data\": [{\"cliponaxis\": false, \"hoverinfo\": \"all\", \"hovertemplate\": \"<extra></extra>\", \"marker\": {\"color\": [\"rgb(65, 58, 238)\", \"rgb(133, 60, 252)\", \"rgb(142, 170, 163)\", \"rgb(183, 234, 16)\", \"rgb(10, 91, 117)\", \"rgb(153, 75, 214)\", \"rgb(77, 41, 224)\", \"rgb(58, 167, 131)\", \"rgb(156, 131, 31)\", \"rgb(28, 123, 223)\"]}, \"orientation\": \"h\", \"textangle\": 0, \"textposition\": \"outside\", \"texttemplate\": \"%{y}<br>%{x:.4s}\", \"x\": [98, 100, 103, 110, 117, 124, 134, 143, 148, 195], \"y\": [\"JAN\", \"GERARD\", \"DANIEL\", \"ARNAU\", \"ERIC\", \"MARTI\", \"PAU\", \"ALEX\", \"POL\", \"MARC\"], \"type\": \"bar\"}], \"layout\": {\"bargap\": 0.15, \"font\": {\"size\": 14}, \"plot_bgcolor\": \"#FFFFFF\", \"xaxis\": {\"range\": [0, 348], \"showline\": true, \"visible\": true}, \"yaxis\": {\"showline\": false, \"visible\": true}}, \"name\": \"2010\"}, {\"data\": [{\"cliponaxis\": false, \"hoverinfo\": \"all\", \"hovertemplate\": \"<extra></extra>\", \"marker\": {\"color\": [\"rgb(225, 154, 193)\", \"rgb(224, 140, 63)\", \"rgb(183, 234, 16)\", \"rgb(133, 60, 252)\", \"rgb(153, 75, 214)\", \"rgb(10, 91, 117)\", \"rgb(77, 41, 224)\", \"rgb(156, 131, 31)\", \"rgb(58, 167, 131)\", \"rgb(28, 123, 223)\"]}, \"orientation\": \"h\", \"textangle\": 0, \"textposition\": \"outside\", \"texttemplate\": \"%{y}<br>%{x:.4s}\", \"x\": [85, 87, 95, 99, 103, 113, 118, 124, 142, 209], \"y\": [\"DAVID\", \"BIEL\", \"ARNAU\", \"GERARD\", \"MARTI\", \"ERIC\", \"PAU\", \"POL\", \"ALEX\", \"MARC\"], \"type\": \"bar\"}], \"layout\": {\"bargap\": 0.15, \"font\": {\"size\": 14}, \"plot_bgcolor\": \"#FFFFFF\", \"xaxis\": {\"range\": [0, 348], \"showline\": true, \"visible\": true}, \"yaxis\": {\"showline\": false, \"visible\": true}}, \"name\": \"2011\"}, {\"data\": [{\"cliponaxis\": false, \"hoverinfo\": \"all\", \"hovertemplate\": \"<extra></extra>\", \"marker\": {\"color\": [\"rgb(224, 140, 63)\", \"rgb(133, 60, 252)\", \"rgb(65, 58, 238)\", \"rgb(153, 75, 214)\", \"rgb(183, 234, 16)\", \"rgb(77, 41, 224)\", \"rgb(58, 167, 131)\", \"rgb(10, 91, 117)\", \"rgb(156, 131, 31)\", \"rgb(28, 123, 223)\"]}, \"orientation\": \"h\", \"textangle\": 0, \"textposition\": \"outside\", \"texttemplate\": \"%{y}<br>%{x:.4s}\", \"x\": [95, 98, 98, 99, 101, 110, 120, 125, 138, 206], \"y\": [\"BIEL\", \"GERARD\", \"JAN\", \"MARTI\", \"ARNAU\", \"PAU\", \"ALEX\", \"ERIC\", \"POL\", \"MARC\"], \"type\": \"bar\"}], \"layout\": {\"bargap\": 0.15, \"font\": {\"size\": 14}, \"plot_bgcolor\": \"#FFFFFF\", \"xaxis\": {\"range\": [0, 348], \"showline\": true, \"visible\": true}, \"yaxis\": {\"showline\": false, \"visible\": true}}, \"name\": \"2012\"}, {\"data\": [{\"cliponaxis\": false, \"hoverinfo\": \"all\", \"hovertemplate\": \"<extra></extra>\", \"marker\": {\"color\": [\"rgb(8, 183, 180)\", \"rgb(65, 58, 238)\", \"rgb(224, 140, 63)\", \"rgb(153, 75, 214)\", \"rgb(183, 234, 16)\", \"rgb(58, 167, 131)\", \"rgb(10, 91, 117)\", \"rgb(156, 131, 31)\", \"rgb(77, 41, 224)\", \"rgb(28, 123, 223)\"]}, \"orientation\": \"h\", \"textangle\": 0, \"textposition\": \"outside\", \"texttemplate\": \"%{y}<br>%{x:.4s}\", \"x\": [89, 92, 95, 95, 100, 122, 122, 126, 129, 175], \"y\": [\"HUGO\", \"JAN\", \"BIEL\", \"MARTI\", \"ARNAU\", \"ALEX\", \"ERIC\", \"POL\", \"PAU\", \"MARC\"], \"type\": \"bar\"}], \"layout\": {\"bargap\": 0.15, \"font\": {\"size\": 14}, \"plot_bgcolor\": \"#FFFFFF\", \"xaxis\": {\"range\": [0, 348], \"showline\": true, \"visible\": true}, \"yaxis\": {\"showline\": false, \"visible\": true}}, \"name\": \"2013\"}, {\"data\": [{\"cliponaxis\": false, \"hoverinfo\": \"all\", \"hovertemplate\": \"<extra></extra>\", \"marker\": {\"color\": [\"rgb(8, 183, 180)\", \"rgb(142, 170, 163)\", \"rgb(65, 58, 238)\", \"rgb(224, 140, 63)\", \"rgb(77, 41, 224)\", \"rgb(153, 75, 214)\", \"rgb(10, 91, 117)\", \"rgb(58, 167, 131)\", \"rgb(156, 131, 31)\", \"rgb(28, 123, 223)\"]}, \"orientation\": \"h\", \"textangle\": 0, \"textposition\": \"outside\", \"texttemplate\": \"%{y}<br>%{x:.4s}\", \"x\": [82, 89, 89, 90, 104, 116, 123, 135, 137, 192], \"y\": [\"HUGO\", \"DANIEL\", \"JAN\", \"BIEL\", \"PAU\", \"MARTI\", \"ERIC\", \"ALEX\", \"POL\", \"MARC\"], \"type\": \"bar\"}], \"layout\": {\"bargap\": 0.15, \"font\": {\"size\": 14}, \"plot_bgcolor\": \"#FFFFFF\", \"xaxis\": {\"range\": [0, 348], \"showline\": true, \"visible\": true}, \"yaxis\": {\"showline\": false, \"visible\": true}}, \"name\": \"2014\"}, {\"data\": [{\"cliponaxis\": false, \"hoverinfo\": \"all\", \"hovertemplate\": \"<extra></extra>\", \"marker\": {\"color\": [\"rgb(65, 58, 238)\", \"rgb(131, 199, 178)\", \"rgb(183, 234, 16)\", \"rgb(224, 140, 63)\", \"rgb(8, 183, 180)\", \"rgb(77, 41, 224)\", \"rgb(10, 91, 117)\", \"rgb(58, 167, 131)\", \"rgb(153, 75, 214)\", \"rgb(28, 123, 223)\"]}, \"orientation\": \"h\", \"textangle\": 0, \"textposition\": \"outside\", \"texttemplate\": \"%{y}<br>%{x:.4s}\", \"x\": [88, 88, 93, 99, 107, 108, 109, 110, 133, 172], \"y\": [\"JAN\", \"NIL\", \"ARNAU\", \"BIEL\", \"HUGO\", \"PAU\", \"ERIC\", \"ALEX\", \"MARTI\", \"MARC\"], \"type\": \"bar\"}], \"layout\": {\"bargap\": 0.15, \"font\": {\"size\": 14}, \"plot_bgcolor\": \"#FFFFFF\", \"xaxis\": {\"range\": [0, 348], \"showline\": true, \"visible\": true}, \"yaxis\": {\"showline\": false, \"visible\": true}}, \"name\": \"2015\"}, {\"data\": [{\"cliponaxis\": false, \"hoverinfo\": \"all\", \"hovertemplate\": \"<extra></extra>\", \"marker\": {\"color\": [\"rgb(65, 58, 238)\", \"rgb(146, 47, 229)\", \"rgb(204, 237, 7)\", \"rgb(224, 140, 63)\", \"rgb(153, 75, 214)\", \"rgb(77, 41, 224)\", \"rgb(10, 91, 117)\", \"rgb(156, 131, 31)\", \"rgb(58, 167, 131)\", \"rgb(28, 123, 223)\"]}, \"orientation\": \"h\", \"textangle\": 0, \"textposition\": \"outside\", \"texttemplate\": \"%{y}<br>%{x:.4s}\", \"x\": [91, 93, 93, 99, 104, 107, 109, 110, 140, 148], \"y\": [\"JAN\", \"BRUNO\", \"LUCAS\", \"BIEL\", \"MARTI\", \"PAU\", \"ERIC\", \"POL\", \"ALEX\", \"MARC\"], \"type\": \"bar\"}], \"layout\": {\"bargap\": 0.15, \"font\": {\"size\": 14}, \"plot_bgcolor\": \"#FFFFFF\", \"xaxis\": {\"range\": [0, 348], \"showline\": true, \"visible\": true}, \"yaxis\": {\"showline\": false, \"visible\": true}}, \"name\": \"2016\"}, {\"data\": [{\"cliponaxis\": false, \"hoverinfo\": \"all\", \"hovertemplate\": \"<extra></extra>\", \"marker\": {\"color\": [\"rgb(183, 234, 16)\", \"rgb(184, 212, 37)\", \"rgb(146, 47, 229)\", \"rgb(65, 58, 238)\", \"rgb(77, 41, 224)\", \"rgb(10, 91, 117)\", \"rgb(204, 237, 7)\", \"rgb(58, 167, 131)\", \"rgb(28, 123, 223)\", \"rgb(156, 131, 31)\"]}, \"orientation\": \"h\", \"textangle\": 0, \"textposition\": \"outside\", \"texttemplate\": \"%{y}<br>%{x:.4s}\", \"x\": [79, 81, 85, 85, 86, 99, 104, 125, 133, 139], \"y\": [\"ARNAU\", \"LEO\", \"BRUNO\", \"JAN\", \"PAU\", \"ERIC\", \"LUCAS\", \"ALEX\", \"MARC\", \"POL\"], \"type\": \"bar\"}], \"layout\": {\"bargap\": 0.15, \"font\": {\"size\": 14}, \"plot_bgcolor\": \"#FFFFFF\", \"xaxis\": {\"range\": [0, 348], \"showline\": true, \"visible\": true}, \"yaxis\": {\"showline\": false, \"visible\": true}}, \"name\": \"2017\"}, {\"data\": [{\"cliponaxis\": false, \"hoverinfo\": \"all\", \"hovertemplate\": \"<extra></extra>\", \"marker\": {\"color\": [\"rgb(65, 58, 238)\", \"rgb(153, 75, 214)\", \"rgb(184, 212, 37)\", \"rgb(146, 47, 229)\", \"rgb(10, 91, 117)\", \"rgb(77, 41, 224)\", \"rgb(204, 237, 7)\", \"rgb(58, 167, 131)\", \"rgb(156, 131, 31)\", \"rgb(28, 123, 223)\"]}, \"orientation\": \"h\", \"textangle\": 0, \"textposition\": \"outside\", \"texttemplate\": \"%{y}<br>%{x:.4s}\", \"x\": [79, 79, 86, 88, 89, 91, 99, 100, 112, 121], \"y\": [\"JAN\", \"MARTI\", \"LEO\", \"BRUNO\", \"ERIC\", \"PAU\", \"LUCAS\", \"ALEX\", \"POL\", \"MARC\"], \"type\": \"bar\"}], \"layout\": {\"bargap\": 0.15, \"font\": {\"size\": 14}, \"plot_bgcolor\": \"#FFFFFF\", \"xaxis\": {\"range\": [0, 348], \"showline\": true, \"visible\": true}, \"yaxis\": {\"showline\": false, \"visible\": true}}, \"name\": \"2018\"}, {\"data\": [{\"cliponaxis\": false, \"hoverinfo\": \"all\", \"hovertemplate\": \"<extra></extra>\", \"marker\": {\"color\": [\"rgb(146, 47, 229)\", \"rgb(131, 199, 178)\", \"rgb(77, 41, 224)\", \"rgb(10, 91, 117)\", \"rgb(156, 131, 31)\", \"rgb(204, 237, 7)\", \"rgb(58, 167, 131)\", \"rgb(184, 212, 37)\", \"rgb(65, 58, 238)\", \"rgb(28, 123, 223)\"]}, \"orientation\": \"h\", \"textangle\": 0, \"textposition\": \"outside\", \"texttemplate\": \"%{y}<br>%{x:.4s}\", \"x\": [76, 77, 77, 79, 81, 82, 93, 93, 100, 127], \"y\": [\"BRUNO\", \"NIL\", \"PAU\", \"ERIC\", \"POL\", \"LUCAS\", \"ALEX\", \"LEO\", \"JAN\", \"MARC\"], \"type\": \"bar\"}], \"layout\": {\"bargap\": 0.15, \"font\": {\"size\": 14}, \"plot_bgcolor\": \"#FFFFFF\", \"xaxis\": {\"range\": [0, 348], \"showline\": true, \"visible\": true}, \"yaxis\": {\"showline\": false, \"visible\": true}}, \"name\": \"2019\"}]);\n",
       "                        }).then(function(){\n",
       "                            \n",
       "var gd = document.getElementById('a9500f87-4937-48cf-bf8f-35c163db1852');\n",
       "var x = new MutationObserver(function (mutations, observer) {{\n",
       "        var display = window.getComputedStyle(gd).display;\n",
       "        if (!display || display === 'none') {{\n",
       "            console.log([gd, 'removed!']);\n",
       "            Plotly.purge(gd);\n",
       "            observer.disconnect();\n",
       "        }}\n",
       "}});\n",
       "\n",
       "// Listen for the removal of the full notebook cells\n",
       "var notebookContainer = gd.closest('#notebook-container');\n",
       "if (notebookContainer) {{\n",
       "    x.observe(notebookContainer, {childList: true});\n",
       "}}\n",
       "\n",
       "// Listen for the clearing of the current output cell\n",
       "var outputEl = gd.closest('.output');\n",
       "if (outputEl) {{\n",
       "    x.observe(outputEl, {childList: true});\n",
       "}}\n",
       "\n",
       "                        })                };                });            </script>        </div>"
      ]
     },
     "metadata": {},
     "output_type": "display_data"
    }
   ],
   "source": [
    "my_raceplot = barplot(df_man,  item_column='Name', value_column='Number', time_column='Year')\n",
    "\n",
    "my_raceplot.plot(item_label = 'Top 10 crops',\n",
    "                 value_label = 'Production quantity (tonnes)',\n",
    "                 time_label = 'Year: ', ## overwrites default `Date: `\n",
    "                 frame_duration = 300)"
   ]
  },
  {
   "cell_type": "code",
   "execution_count": 35,
   "metadata": {},
   "outputs": [],
   "source": [
    "import pandas as pd\n",
    "import numpy as np\n",
    "import chart_studio.plotly as py\n",
    "import cufflinks as cf\n",
    "import seaborn as sns\n",
    "import plotly.express as px"
   ]
  },
  {
   "cell_type": "code",
   "execution_count": 36,
   "metadata": {},
   "outputs": [
    {
     "data": {
      "text/html": [
       "        <script type=\"text/javascript\">\n",
       "        window.PlotlyConfig = {MathJaxConfig: 'local'};\n",
       "        if (window.MathJax) {MathJax.Hub.Config({SVG: {font: \"STIX-Web\"}});}\n",
       "        if (typeof require !== 'undefined') {\n",
       "        require.undef(\"plotly\");\n",
       "        requirejs.config({\n",
       "            paths: {\n",
       "                'plotly': ['https://cdn.plot.ly/plotly-latest.min']\n",
       "            }\n",
       "        });\n",
       "        require(['plotly'], function(Plotly) {\n",
       "            window._Plotly = Plotly;\n",
       "        });\n",
       "        }\n",
       "        </script>\n",
       "        "
      ]
     },
     "metadata": {},
     "output_type": "display_data"
    },
    {
     "data": {
      "text/html": [
       "        <script type=\"text/javascript\">\n",
       "        window.PlotlyConfig = {MathJaxConfig: 'local'};\n",
       "        if (window.MathJax) {MathJax.Hub.Config({SVG: {font: \"STIX-Web\"}});}\n",
       "        if (typeof require !== 'undefined') {\n",
       "        require.undef(\"plotly\");\n",
       "        requirejs.config({\n",
       "            paths: {\n",
       "                'plotly': ['https://cdn.plot.ly/plotly-latest.min']\n",
       "            }\n",
       "        });\n",
       "        require(['plotly'], function(Plotly) {\n",
       "            window._Plotly = Plotly;\n",
       "        });\n",
       "        }\n",
       "        </script>\n",
       "        "
      ]
     },
     "metadata": {},
     "output_type": "display_data"
    }
   ],
   "source": [
    "from plotly.offline import download_plotlyjs, init_notebook_mode, plot, iplot\n",
    "init_notebook_mode(connected=True)\n",
    "# Use Plotly locally\n",
    "cf.go_offline()"
   ]
  },
  {
   "cell_type": "code",
   "execution_count": 40,
   "metadata": {},
   "outputs": [
    {
     "data": {
      "application/vnd.plotly.v1+json": {
       "config": {
        "plotlyServerURL": "https://plotly.com"
       },
       "data": [
        {
         "alignmentgroup": "True",
         "hovertemplate": "Name=%{x}<br>Year=1996<br>Number=%{y}<extra></extra>",
         "legendgroup": "MARC",
         "marker": {
          "color": "#636efa"
         },
         "name": "MARC",
         "offsetgroup": "MARC",
         "orientation": "v",
         "showlegend": true,
         "textposition": "auto",
         "type": "bar",
         "x": [
          "MARC"
         ],
         "xaxis": "x",
         "y": [
          295
         ],
         "yaxis": "y"
        },
        {
         "alignmentgroup": "True",
         "hovertemplate": "Name=%{x}<br>Year=1996<br>Number=%{y}<extra></extra>",
         "legendgroup": "DAVID",
         "marker": {
          "color": "#EF553B"
         },
         "name": "DAVID",
         "offsetgroup": "DAVID",
         "orientation": "v",
         "showlegend": true,
         "textposition": "auto",
         "type": "bar",
         "x": [
          "DAVID"
         ],
         "xaxis": "x",
         "y": [
          198
         ],
         "yaxis": "y"
        },
        {
         "alignmentgroup": "True",
         "hovertemplate": "Name=%{x}<br>Year=1996<br>Number=%{y}<extra></extra>",
         "legendgroup": "DANIEL",
         "marker": {
          "color": "#00cc96"
         },
         "name": "DANIEL",
         "offsetgroup": "DANIEL",
         "orientation": "v",
         "showlegend": true,
         "textposition": "auto",
         "type": "bar",
         "x": [
          "DANIEL"
         ],
         "xaxis": "x",
         "y": [
          174
         ],
         "yaxis": "y"
        },
        {
         "alignmentgroup": "True",
         "hovertemplate": "Name=%{x}<br>Year=1996<br>Number=%{y}<extra></extra>",
         "legendgroup": "ALBERT",
         "marker": {
          "color": "#ab63fa"
         },
         "name": "ALBERT",
         "offsetgroup": "ALBERT",
         "orientation": "v",
         "showlegend": true,
         "textposition": "auto",
         "type": "bar",
         "x": [
          "ALBERT"
         ],
         "xaxis": "x",
         "y": [
          151
         ],
         "yaxis": "y"
        },
        {
         "alignmentgroup": "True",
         "hovertemplate": "Name=%{x}<br>Year=1996<br>Number=%{y}<extra></extra>",
         "legendgroup": "VICTOR",
         "marker": {
          "color": "#FFA15A"
         },
         "name": "VICTOR",
         "offsetgroup": "VICTOR",
         "orientation": "v",
         "showlegend": true,
         "textposition": "auto",
         "type": "bar",
         "x": [
          "VICTOR"
         ],
         "xaxis": "x",
         "y": [
          145
         ],
         "yaxis": "y"
        },
        {
         "alignmentgroup": "True",
         "hovertemplate": "Name=%{x}<br>Year=1996<br>Number=%{y}<extra></extra>",
         "legendgroup": "JORDI",
         "marker": {
          "color": "#19d3f3"
         },
         "name": "JORDI",
         "offsetgroup": "JORDI",
         "orientation": "v",
         "showlegend": true,
         "textposition": "auto",
         "type": "bar",
         "x": [
          "JORDI"
         ],
         "xaxis": "x",
         "y": [
          143
         ],
         "yaxis": "y"
        },
        {
         "alignmentgroup": "True",
         "hovertemplate": "Name=%{x}<br>Year=1996<br>Number=%{y}<extra></extra>",
         "legendgroup": "SERGI",
         "marker": {
          "color": "#FF6692"
         },
         "name": "SERGI",
         "offsetgroup": "SERGI",
         "orientation": "v",
         "showlegend": true,
         "textposition": "auto",
         "type": "bar",
         "x": [
          "SERGI"
         ],
         "xaxis": "x",
         "y": [
          137
         ],
         "yaxis": "y"
        },
        {
         "alignmentgroup": "True",
         "hovertemplate": "Name=%{x}<br>Year=1996<br>Number=%{y}<extra></extra>",
         "legendgroup": "ALEJANDRO",
         "marker": {
          "color": "#B6E880"
         },
         "name": "ALEJANDRO",
         "offsetgroup": "ALEJANDRO",
         "orientation": "v",
         "showlegend": true,
         "textposition": "auto",
         "type": "bar",
         "x": [
          "ALEJANDRO"
         ],
         "xaxis": "x",
         "y": [
          132
         ],
         "yaxis": "y"
        },
        {
         "alignmentgroup": "True",
         "hovertemplate": "Name=%{x}<br>Year=1996<br>Number=%{y}<extra></extra>",
         "legendgroup": "POL",
         "marker": {
          "color": "#FF97FF"
         },
         "name": "POL",
         "offsetgroup": "POL",
         "orientation": "v",
         "showlegend": true,
         "textposition": "auto",
         "type": "bar",
         "x": [
          "POL"
         ],
         "xaxis": "x",
         "y": [
          123
         ],
         "yaxis": "y"
        },
        {
         "alignmentgroup": "True",
         "hovertemplate": "Name=%{x}<br>Year=1996<br>Number=%{y}<extra></extra>",
         "legendgroup": "ALEX",
         "marker": {
          "color": "#FECB52"
         },
         "name": "ALEX",
         "offsetgroup": "ALEX",
         "orientation": "v",
         "showlegend": true,
         "textposition": "auto",
         "type": "bar",
         "x": [
          "ALEX"
         ],
         "xaxis": "x",
         "y": [
          113
         ],
         "yaxis": "y"
        }
       ],
       "frames": [
        {
         "data": [
          {
           "alignmentgroup": "True",
           "hovertemplate": "Name=%{x}<br>Year=1996<br>Number=%{y}<extra></extra>",
           "legendgroup": "MARC",
           "marker": {
            "color": "#636efa"
           },
           "name": "MARC",
           "offsetgroup": "MARC",
           "orientation": "v",
           "showlegend": true,
           "textposition": "auto",
           "type": "bar",
           "x": [
            "MARC"
           ],
           "xaxis": "x",
           "y": [
            295
           ],
           "yaxis": "y"
          },
          {
           "alignmentgroup": "True",
           "hovertemplate": "Name=%{x}<br>Year=1996<br>Number=%{y}<extra></extra>",
           "legendgroup": "DAVID",
           "marker": {
            "color": "#EF553B"
           },
           "name": "DAVID",
           "offsetgroup": "DAVID",
           "orientation": "v",
           "showlegend": true,
           "textposition": "auto",
           "type": "bar",
           "x": [
            "DAVID"
           ],
           "xaxis": "x",
           "y": [
            198
           ],
           "yaxis": "y"
          },
          {
           "alignmentgroup": "True",
           "hovertemplate": "Name=%{x}<br>Year=1996<br>Number=%{y}<extra></extra>",
           "legendgroup": "DANIEL",
           "marker": {
            "color": "#00cc96"
           },
           "name": "DANIEL",
           "offsetgroup": "DANIEL",
           "orientation": "v",
           "showlegend": true,
           "textposition": "auto",
           "type": "bar",
           "x": [
            "DANIEL"
           ],
           "xaxis": "x",
           "y": [
            174
           ],
           "yaxis": "y"
          },
          {
           "alignmentgroup": "True",
           "hovertemplate": "Name=%{x}<br>Year=1996<br>Number=%{y}<extra></extra>",
           "legendgroup": "ALBERT",
           "marker": {
            "color": "#ab63fa"
           },
           "name": "ALBERT",
           "offsetgroup": "ALBERT",
           "orientation": "v",
           "showlegend": true,
           "textposition": "auto",
           "type": "bar",
           "x": [
            "ALBERT"
           ],
           "xaxis": "x",
           "y": [
            151
           ],
           "yaxis": "y"
          },
          {
           "alignmentgroup": "True",
           "hovertemplate": "Name=%{x}<br>Year=1996<br>Number=%{y}<extra></extra>",
           "legendgroup": "VICTOR",
           "marker": {
            "color": "#FFA15A"
           },
           "name": "VICTOR",
           "offsetgroup": "VICTOR",
           "orientation": "v",
           "showlegend": true,
           "textposition": "auto",
           "type": "bar",
           "x": [
            "VICTOR"
           ],
           "xaxis": "x",
           "y": [
            145
           ],
           "yaxis": "y"
          },
          {
           "alignmentgroup": "True",
           "hovertemplate": "Name=%{x}<br>Year=1996<br>Number=%{y}<extra></extra>",
           "legendgroup": "JORDI",
           "marker": {
            "color": "#19d3f3"
           },
           "name": "JORDI",
           "offsetgroup": "JORDI",
           "orientation": "v",
           "showlegend": true,
           "textposition": "auto",
           "type": "bar",
           "x": [
            "JORDI"
           ],
           "xaxis": "x",
           "y": [
            143
           ],
           "yaxis": "y"
          },
          {
           "alignmentgroup": "True",
           "hovertemplate": "Name=%{x}<br>Year=1996<br>Number=%{y}<extra></extra>",
           "legendgroup": "SERGI",
           "marker": {
            "color": "#FF6692"
           },
           "name": "SERGI",
           "offsetgroup": "SERGI",
           "orientation": "v",
           "showlegend": true,
           "textposition": "auto",
           "type": "bar",
           "x": [
            "SERGI"
           ],
           "xaxis": "x",
           "y": [
            137
           ],
           "yaxis": "y"
          },
          {
           "alignmentgroup": "True",
           "hovertemplate": "Name=%{x}<br>Year=1996<br>Number=%{y}<extra></extra>",
           "legendgroup": "ALEJANDRO",
           "marker": {
            "color": "#B6E880"
           },
           "name": "ALEJANDRO",
           "offsetgroup": "ALEJANDRO",
           "orientation": "v",
           "showlegend": true,
           "textposition": "auto",
           "type": "bar",
           "x": [
            "ALEJANDRO"
           ],
           "xaxis": "x",
           "y": [
            132
           ],
           "yaxis": "y"
          },
          {
           "alignmentgroup": "True",
           "hovertemplate": "Name=%{x}<br>Year=1996<br>Number=%{y}<extra></extra>",
           "legendgroup": "POL",
           "marker": {
            "color": "#FF97FF"
           },
           "name": "POL",
           "offsetgroup": "POL",
           "orientation": "v",
           "showlegend": true,
           "textposition": "auto",
           "type": "bar",
           "x": [
            "POL"
           ],
           "xaxis": "x",
           "y": [
            123
           ],
           "yaxis": "y"
          },
          {
           "alignmentgroup": "True",
           "hovertemplate": "Name=%{x}<br>Year=1996<br>Number=%{y}<extra></extra>",
           "legendgroup": "ALEX",
           "marker": {
            "color": "#FECB52"
           },
           "name": "ALEX",
           "offsetgroup": "ALEX",
           "orientation": "v",
           "showlegend": true,
           "textposition": "auto",
           "type": "bar",
           "x": [
            "ALEX"
           ],
           "xaxis": "x",
           "y": [
            113
           ],
           "yaxis": "y"
          }
         ],
         "name": "1996"
        },
        {
         "data": [
          {
           "alignmentgroup": "True",
           "hovertemplate": "Name=%{x}<br>Year=1997<br>Number=%{y}<extra></extra>",
           "legendgroup": "MARC",
           "marker": {
            "color": "#636efa"
           },
           "name": "MARC",
           "offsetgroup": "MARC",
           "orientation": "v",
           "showlegend": true,
           "textposition": "auto",
           "type": "bar",
           "x": [
            "MARC"
           ],
           "xaxis": "x",
           "y": [
            348
           ],
           "yaxis": "y"
          },
          {
           "alignmentgroup": "True",
           "hovertemplate": "Name=%{x}<br>Year=1997<br>Number=%{y}<extra></extra>",
           "legendgroup": "DAVID",
           "marker": {
            "color": "#EF553B"
           },
           "name": "DAVID",
           "offsetgroup": "DAVID",
           "orientation": "v",
           "showlegend": true,
           "textposition": "auto",
           "type": "bar",
           "x": [
            "DAVID"
           ],
           "xaxis": "x",
           "y": [
            183
           ],
           "yaxis": "y"
          },
          {
           "alignmentgroup": "True",
           "hovertemplate": "Name=%{x}<br>Year=1997<br>Number=%{y}<extra></extra>",
           "legendgroup": "DANIEL",
           "marker": {
            "color": "#00cc96"
           },
           "name": "DANIEL",
           "offsetgroup": "DANIEL",
           "orientation": "v",
           "showlegend": true,
           "textposition": "auto",
           "type": "bar",
           "x": [
            "DANIEL"
           ],
           "xaxis": "x",
           "y": [
            163
           ],
           "yaxis": "y"
          },
          {
           "alignmentgroup": "True",
           "hovertemplate": "Name=%{x}<br>Year=1997<br>Number=%{y}<extra></extra>",
           "legendgroup": "ALBERT",
           "marker": {
            "color": "#ab63fa"
           },
           "name": "ALBERT",
           "offsetgroup": "ALBERT",
           "orientation": "v",
           "showlegend": true,
           "textposition": "auto",
           "type": "bar",
           "x": [
            "ALBERT"
           ],
           "xaxis": "x",
           "y": [
            126
           ],
           "yaxis": "y"
          },
          {
           "alignmentgroup": "True",
           "hovertemplate": "Name=%{x}<br>Year=1997<br>Number=%{y}<extra></extra>",
           "legendgroup": "VICTOR",
           "marker": {
            "color": "#FFA15A"
           },
           "name": "VICTOR",
           "offsetgroup": "VICTOR",
           "orientation": "v",
           "showlegend": true,
           "textposition": "auto",
           "type": "bar",
           "x": [
            "VICTOR"
           ],
           "xaxis": "x",
           "y": [
            150
           ],
           "yaxis": "y"
          },
          {
           "alignmentgroup": "True",
           "hovertemplate": "Name=%{x}<br>Year=1997<br>Number=%{y}<extra></extra>",
           "legendgroup": "SERGI",
           "marker": {
            "color": "#FF6692"
           },
           "name": "SERGI",
           "offsetgroup": "SERGI",
           "orientation": "v",
           "showlegend": true,
           "textposition": "auto",
           "type": "bar",
           "x": [
            "SERGI"
           ],
           "xaxis": "x",
           "y": [
            120
           ],
           "yaxis": "y"
          },
          {
           "alignmentgroup": "True",
           "hovertemplate": "Name=%{x}<br>Year=1997<br>Number=%{y}<extra></extra>",
           "legendgroup": "ALEJANDRO",
           "marker": {
            "color": "#B6E880"
           },
           "name": "ALEJANDRO",
           "offsetgroup": "ALEJANDRO",
           "orientation": "v",
           "showlegend": true,
           "textposition": "auto",
           "type": "bar",
           "x": [
            "ALEJANDRO"
           ],
           "xaxis": "x",
           "y": [
            128
           ],
           "yaxis": "y"
          },
          {
           "alignmentgroup": "True",
           "hovertemplate": "Name=%{x}<br>Year=1997<br>Number=%{y}<extra></extra>",
           "legendgroup": "POL",
           "marker": {
            "color": "#FF97FF"
           },
           "name": "POL",
           "offsetgroup": "POL",
           "orientation": "v",
           "showlegend": true,
           "textposition": "auto",
           "type": "bar",
           "x": [
            "POL"
           ],
           "xaxis": "x",
           "y": [
            143
           ],
           "yaxis": "y"
          },
          {
           "alignmentgroup": "True",
           "hovertemplate": "Name=%{x}<br>Year=1997<br>Number=%{y}<extra></extra>",
           "legendgroup": "ALEX",
           "marker": {
            "color": "#FECB52"
           },
           "name": "ALEX",
           "offsetgroup": "ALEX",
           "orientation": "v",
           "showlegend": true,
           "textposition": "auto",
           "type": "bar",
           "x": [
            "ALEX"
           ],
           "xaxis": "x",
           "y": [
            148
           ],
           "yaxis": "y"
          },
          {
           "alignmentgroup": "True",
           "hovertemplate": "Name=%{x}<br>Year=1997<br>Number=%{y}<extra></extra>",
           "legendgroup": "PAU",
           "marker": {
            "color": "#636efa"
           },
           "name": "PAU",
           "offsetgroup": "PAU",
           "orientation": "v",
           "showlegend": true,
           "textposition": "auto",
           "type": "bar",
           "x": [
            "PAU"
           ],
           "xaxis": "x",
           "y": [
            125
           ],
           "yaxis": "y"
          }
         ],
         "name": "1997"
        },
        {
         "data": [
          {
           "alignmentgroup": "True",
           "hovertemplate": "Name=%{x}<br>Year=1998<br>Number=%{y}<extra></extra>",
           "legendgroup": "MARC",
           "marker": {
            "color": "#636efa"
           },
           "name": "MARC",
           "offsetgroup": "MARC",
           "orientation": "v",
           "showlegend": true,
           "textposition": "auto",
           "type": "bar",
           "x": [
            "MARC"
           ],
           "xaxis": "x",
           "y": [
            330
           ],
           "yaxis": "y"
          },
          {
           "alignmentgroup": "True",
           "hovertemplate": "Name=%{x}<br>Year=1998<br>Number=%{y}<extra></extra>",
           "legendgroup": "DAVID",
           "marker": {
            "color": "#EF553B"
           },
           "name": "DAVID",
           "offsetgroup": "DAVID",
           "orientation": "v",
           "showlegend": true,
           "textposition": "auto",
           "type": "bar",
           "x": [
            "DAVID"
           ],
           "xaxis": "x",
           "y": [
            184
           ],
           "yaxis": "y"
          },
          {
           "alignmentgroup": "True",
           "hovertemplate": "Name=%{x}<br>Year=1998<br>Number=%{y}<extra></extra>",
           "legendgroup": "DANIEL",
           "marker": {
            "color": "#00cc96"
           },
           "name": "DANIEL",
           "offsetgroup": "DANIEL",
           "orientation": "v",
           "showlegend": true,
           "textposition": "auto",
           "type": "bar",
           "x": [
            "DANIEL"
           ],
           "xaxis": "x",
           "y": [
            159
           ],
           "yaxis": "y"
          },
          {
           "alignmentgroup": "True",
           "hovertemplate": "Name=%{x}<br>Year=1998<br>Number=%{y}<extra></extra>",
           "legendgroup": "ALBERT",
           "marker": {
            "color": "#ab63fa"
           },
           "name": "ALBERT",
           "offsetgroup": "ALBERT",
           "orientation": "v",
           "showlegend": true,
           "textposition": "auto",
           "type": "bar",
           "x": [
            "ALBERT"
           ],
           "xaxis": "x",
           "y": [
            135
           ],
           "yaxis": "y"
          },
          {
           "alignmentgroup": "True",
           "hovertemplate": "Name=%{x}<br>Year=1998<br>Number=%{y}<extra></extra>",
           "legendgroup": "VICTOR",
           "marker": {
            "color": "#FFA15A"
           },
           "name": "VICTOR",
           "offsetgroup": "VICTOR",
           "orientation": "v",
           "showlegend": true,
           "textposition": "auto",
           "type": "bar",
           "x": [
            "VICTOR"
           ],
           "xaxis": "x",
           "y": [
            139
           ],
           "yaxis": "y"
          },
          {
           "alignmentgroup": "True",
           "hovertemplate": "Name=%{x}<br>Year=1998<br>Number=%{y}<extra></extra>",
           "legendgroup": "SERGI",
           "marker": {
            "color": "#FF6692"
           },
           "name": "SERGI",
           "offsetgroup": "SERGI",
           "orientation": "v",
           "showlegend": true,
           "textposition": "auto",
           "type": "bar",
           "x": [
            "SERGI"
           ],
           "xaxis": "x",
           "y": [
            130
           ],
           "yaxis": "y"
          },
          {
           "alignmentgroup": "True",
           "hovertemplate": "Name=%{x}<br>Year=1998<br>Number=%{y}<extra></extra>",
           "legendgroup": "ALEJANDRO",
           "marker": {
            "color": "#B6E880"
           },
           "name": "ALEJANDRO",
           "offsetgroup": "ALEJANDRO",
           "orientation": "v",
           "showlegend": true,
           "textposition": "auto",
           "type": "bar",
           "x": [
            "ALEJANDRO"
           ],
           "xaxis": "x",
           "y": [
            117
           ],
           "yaxis": "y"
          },
          {
           "alignmentgroup": "True",
           "hovertemplate": "Name=%{x}<br>Year=1998<br>Number=%{y}<extra></extra>",
           "legendgroup": "POL",
           "marker": {
            "color": "#FF97FF"
           },
           "name": "POL",
           "offsetgroup": "POL",
           "orientation": "v",
           "showlegend": true,
           "textposition": "auto",
           "type": "bar",
           "x": [
            "POL"
           ],
           "xaxis": "x",
           "y": [
            144
           ],
           "yaxis": "y"
          },
          {
           "alignmentgroup": "True",
           "hovertemplate": "Name=%{x}<br>Year=1998<br>Number=%{y}<extra></extra>",
           "legendgroup": "ALEX",
           "marker": {
            "color": "#FECB52"
           },
           "name": "ALEX",
           "offsetgroup": "ALEX",
           "orientation": "v",
           "showlegend": true,
           "textposition": "auto",
           "type": "bar",
           "x": [
            "ALEX"
           ],
           "xaxis": "x",
           "y": [
            174
           ],
           "yaxis": "y"
          },
          {
           "alignmentgroup": "True",
           "hovertemplate": "Name=%{x}<br>Year=1998<br>Number=%{y}<extra></extra>",
           "legendgroup": "PAU",
           "marker": {
            "color": "#636efa"
           },
           "name": "PAU",
           "offsetgroup": "PAU",
           "orientation": "v",
           "showlegend": true,
           "textposition": "auto",
           "type": "bar",
           "x": [
            "PAU"
           ],
           "xaxis": "x",
           "y": [
            122
           ],
           "yaxis": "y"
          }
         ],
         "name": "1998"
        },
        {
         "data": [
          {
           "alignmentgroup": "True",
           "hovertemplate": "Name=%{x}<br>Year=1999<br>Number=%{y}<extra></extra>",
           "legendgroup": "MARC",
           "marker": {
            "color": "#636efa"
           },
           "name": "MARC",
           "offsetgroup": "MARC",
           "orientation": "v",
           "showlegend": true,
           "textposition": "auto",
           "type": "bar",
           "x": [
            "MARC"
           ],
           "xaxis": "x",
           "y": [
            291
           ],
           "yaxis": "y"
          },
          {
           "alignmentgroup": "True",
           "hovertemplate": "Name=%{x}<br>Year=1999<br>Number=%{y}<extra></extra>",
           "legendgroup": "DAVID",
           "marker": {
            "color": "#EF553B"
           },
           "name": "DAVID",
           "offsetgroup": "DAVID",
           "orientation": "v",
           "showlegend": true,
           "textposition": "auto",
           "type": "bar",
           "x": [
            "DAVID"
           ],
           "xaxis": "x",
           "y": [
            159
           ],
           "yaxis": "y"
          },
          {
           "alignmentgroup": "True",
           "hovertemplate": "Name=%{x}<br>Year=1999<br>Number=%{y}<extra></extra>",
           "legendgroup": "DANIEL",
           "marker": {
            "color": "#00cc96"
           },
           "name": "DANIEL",
           "offsetgroup": "DANIEL",
           "orientation": "v",
           "showlegend": true,
           "textposition": "auto",
           "type": "bar",
           "x": [
            "DANIEL"
           ],
           "xaxis": "x",
           "y": [
            166
           ],
           "yaxis": "y"
          },
          {
           "alignmentgroup": "True",
           "hovertemplate": "Name=%{x}<br>Year=1999<br>Number=%{y}<extra></extra>",
           "legendgroup": "ALBERT",
           "marker": {
            "color": "#ab63fa"
           },
           "name": "ALBERT",
           "offsetgroup": "ALBERT",
           "orientation": "v",
           "showlegend": true,
           "textposition": "auto",
           "type": "bar",
           "x": [
            "ALBERT"
           ],
           "xaxis": "x",
           "y": [
            122
           ],
           "yaxis": "y"
          },
          {
           "alignmentgroup": "True",
           "hovertemplate": "Name=%{x}<br>Year=1999<br>Number=%{y}<extra></extra>",
           "legendgroup": "VICTOR",
           "marker": {
            "color": "#FFA15A"
           },
           "name": "VICTOR",
           "offsetgroup": "VICTOR",
           "orientation": "v",
           "showlegend": true,
           "textposition": "auto",
           "type": "bar",
           "x": [
            "VICTOR"
           ],
           "xaxis": "x",
           "y": [
            157
           ],
           "yaxis": "y"
          },
          {
           "alignmentgroup": "True",
           "hovertemplate": "Name=%{x}<br>Year=1999<br>Number=%{y}<extra></extra>",
           "legendgroup": "JORDI",
           "marker": {
            "color": "#19d3f3"
           },
           "name": "JORDI",
           "offsetgroup": "JORDI",
           "orientation": "v",
           "showlegend": true,
           "textposition": "auto",
           "type": "bar",
           "x": [
            "JORDI"
           ],
           "xaxis": "x",
           "y": [
            115
           ],
           "yaxis": "y"
          },
          {
           "alignmentgroup": "True",
           "hovertemplate": "Name=%{x}<br>Year=1999<br>Number=%{y}<extra></extra>",
           "legendgroup": "ALEJANDRO",
           "marker": {
            "color": "#B6E880"
           },
           "name": "ALEJANDRO",
           "offsetgroup": "ALEJANDRO",
           "orientation": "v",
           "showlegend": true,
           "textposition": "auto",
           "type": "bar",
           "x": [
            "ALEJANDRO"
           ],
           "xaxis": "x",
           "y": [
            118
           ],
           "yaxis": "y"
          },
          {
           "alignmentgroup": "True",
           "hovertemplate": "Name=%{x}<br>Year=1999<br>Number=%{y}<extra></extra>",
           "legendgroup": "POL",
           "marker": {
            "color": "#FF97FF"
           },
           "name": "POL",
           "offsetgroup": "POL",
           "orientation": "v",
           "showlegend": true,
           "textposition": "auto",
           "type": "bar",
           "x": [
            "POL"
           ],
           "xaxis": "x",
           "y": [
            155
           ],
           "yaxis": "y"
          },
          {
           "alignmentgroup": "True",
           "hovertemplate": "Name=%{x}<br>Year=1999<br>Number=%{y}<extra></extra>",
           "legendgroup": "ALEX",
           "marker": {
            "color": "#FECB52"
           },
           "name": "ALEX",
           "offsetgroup": "ALEX",
           "orientation": "v",
           "showlegend": true,
           "textposition": "auto",
           "type": "bar",
           "x": [
            "ALEX"
           ],
           "xaxis": "x",
           "y": [
            169
           ],
           "yaxis": "y"
          },
          {
           "alignmentgroup": "True",
           "hovertemplate": "Name=%{x}<br>Year=1999<br>Number=%{y}<extra></extra>",
           "legendgroup": "PAU",
           "marker": {
            "color": "#636efa"
           },
           "name": "PAU",
           "offsetgroup": "PAU",
           "orientation": "v",
           "showlegend": true,
           "textposition": "auto",
           "type": "bar",
           "x": [
            "PAU"
           ],
           "xaxis": "x",
           "y": [
            133
           ],
           "yaxis": "y"
          }
         ],
         "name": "1999"
        },
        {
         "data": [
          {
           "alignmentgroup": "True",
           "hovertemplate": "Name=%{x}<br>Year=2000<br>Number=%{y}<extra></extra>",
           "legendgroup": "MARC",
           "marker": {
            "color": "#636efa"
           },
           "name": "MARC",
           "offsetgroup": "MARC",
           "orientation": "v",
           "showlegend": true,
           "textposition": "auto",
           "type": "bar",
           "x": [
            "MARC"
           ],
           "xaxis": "x",
           "y": [
            290
           ],
           "yaxis": "y"
          },
          {
           "alignmentgroup": "True",
           "hovertemplate": "Name=%{x}<br>Year=2000<br>Number=%{y}<extra></extra>",
           "legendgroup": "DAVID",
           "marker": {
            "color": "#EF553B"
           },
           "name": "DAVID",
           "offsetgroup": "DAVID",
           "orientation": "v",
           "showlegend": true,
           "textposition": "auto",
           "type": "bar",
           "x": [
            "DAVID"
           ],
           "xaxis": "x",
           "y": [
            187
           ],
           "yaxis": "y"
          },
          {
           "alignmentgroup": "True",
           "hovertemplate": "Name=%{x}<br>Year=2000<br>Number=%{y}<extra></extra>",
           "legendgroup": "DANIEL",
           "marker": {
            "color": "#00cc96"
           },
           "name": "DANIEL",
           "offsetgroup": "DANIEL",
           "orientation": "v",
           "showlegend": true,
           "textposition": "auto",
           "type": "bar",
           "x": [
            "DANIEL"
           ],
           "xaxis": "x",
           "y": [
            176
           ],
           "yaxis": "y"
          },
          {
           "alignmentgroup": "True",
           "hovertemplate": "Name=%{x}<br>Year=2000<br>Number=%{y}<extra></extra>",
           "legendgroup": "ALBERT",
           "marker": {
            "color": "#ab63fa"
           },
           "name": "ALBERT",
           "offsetgroup": "ALBERT",
           "orientation": "v",
           "showlegend": true,
           "textposition": "auto",
           "type": "bar",
           "x": [
            "ALBERT"
           ],
           "xaxis": "x",
           "y": [
            125
           ],
           "yaxis": "y"
          },
          {
           "alignmentgroup": "True",
           "hovertemplate": "Name=%{x}<br>Year=2000<br>Number=%{y}<extra></extra>",
           "legendgroup": "VICTOR",
           "marker": {
            "color": "#FFA15A"
           },
           "name": "VICTOR",
           "offsetgroup": "VICTOR",
           "orientation": "v",
           "showlegend": true,
           "textposition": "auto",
           "type": "bar",
           "x": [
            "VICTOR"
           ],
           "xaxis": "x",
           "y": [
            150
           ],
           "yaxis": "y"
          },
          {
           "alignmentgroup": "True",
           "hovertemplate": "Name=%{x}<br>Year=2000<br>Number=%{y}<extra></extra>",
           "legendgroup": "ALEJANDRO",
           "marker": {
            "color": "#B6E880"
           },
           "name": "ALEJANDRO",
           "offsetgroup": "ALEJANDRO",
           "orientation": "v",
           "showlegend": true,
           "textposition": "auto",
           "type": "bar",
           "x": [
            "ALEJANDRO"
           ],
           "xaxis": "x",
           "y": [
            117
           ],
           "yaxis": "y"
          },
          {
           "alignmentgroup": "True",
           "hovertemplate": "Name=%{x}<br>Year=2000<br>Number=%{y}<extra></extra>",
           "legendgroup": "POL",
           "marker": {
            "color": "#FF97FF"
           },
           "name": "POL",
           "offsetgroup": "POL",
           "orientation": "v",
           "showlegend": true,
           "textposition": "auto",
           "type": "bar",
           "x": [
            "POL"
           ],
           "xaxis": "x",
           "y": [
            189
           ],
           "yaxis": "y"
          },
          {
           "alignmentgroup": "True",
           "hovertemplate": "Name=%{x}<br>Year=2000<br>Number=%{y}<extra></extra>",
           "legendgroup": "ALEX",
           "marker": {
            "color": "#FECB52"
           },
           "name": "ALEX",
           "offsetgroup": "ALEX",
           "orientation": "v",
           "showlegend": true,
           "textposition": "auto",
           "type": "bar",
           "x": [
            "ALEX"
           ],
           "xaxis": "x",
           "y": [
            201
           ],
           "yaxis": "y"
          },
          {
           "alignmentgroup": "True",
           "hovertemplate": "Name=%{x}<br>Year=2000<br>Number=%{y}<extra></extra>",
           "legendgroup": "PAU",
           "marker": {
            "color": "#636efa"
           },
           "name": "PAU",
           "offsetgroup": "PAU",
           "orientation": "v",
           "showlegend": true,
           "textposition": "auto",
           "type": "bar",
           "x": [
            "PAU"
           ],
           "xaxis": "x",
           "y": [
            134
           ],
           "yaxis": "y"
          },
          {
           "alignmentgroup": "True",
           "hovertemplate": "Name=%{x}<br>Year=2000<br>Number=%{y}<extra></extra>",
           "legendgroup": "ARNAU",
           "marker": {
            "color": "#EF553B"
           },
           "name": "ARNAU",
           "offsetgroup": "ARNAU",
           "orientation": "v",
           "showlegend": true,
           "textposition": "auto",
           "type": "bar",
           "x": [
            "ARNAU"
           ],
           "xaxis": "x",
           "y": [
            120
           ],
           "yaxis": "y"
          }
         ],
         "name": "2000"
        },
        {
         "data": [
          {
           "alignmentgroup": "True",
           "hovertemplate": "Name=%{x}<br>Year=2001<br>Number=%{y}<extra></extra>",
           "legendgroup": "MARC",
           "marker": {
            "color": "#636efa"
           },
           "name": "MARC",
           "offsetgroup": "MARC",
           "orientation": "v",
           "showlegend": true,
           "textposition": "auto",
           "type": "bar",
           "x": [
            "MARC"
           ],
           "xaxis": "x",
           "y": [
            234
           ],
           "yaxis": "y"
          },
          {
           "alignmentgroup": "True",
           "hovertemplate": "Name=%{x}<br>Year=2001<br>Number=%{y}<extra></extra>",
           "legendgroup": "DAVID",
           "marker": {
            "color": "#EF553B"
           },
           "name": "DAVID",
           "offsetgroup": "DAVID",
           "orientation": "v",
           "showlegend": true,
           "textposition": "auto",
           "type": "bar",
           "x": [
            "DAVID"
           ],
           "xaxis": "x",
           "y": [
            154
           ],
           "yaxis": "y"
          },
          {
           "alignmentgroup": "True",
           "hovertemplate": "Name=%{x}<br>Year=2001<br>Number=%{y}<extra></extra>",
           "legendgroup": "DANIEL",
           "marker": {
            "color": "#00cc96"
           },
           "name": "DANIEL",
           "offsetgroup": "DANIEL",
           "orientation": "v",
           "showlegend": true,
           "textposition": "auto",
           "type": "bar",
           "x": [
            "DANIEL"
           ],
           "xaxis": "x",
           "y": [
            143
           ],
           "yaxis": "y"
          },
          {
           "alignmentgroup": "True",
           "hovertemplate": "Name=%{x}<br>Year=2001<br>Number=%{y}<extra></extra>",
           "legendgroup": "VICTOR",
           "marker": {
            "color": "#FFA15A"
           },
           "name": "VICTOR",
           "offsetgroup": "VICTOR",
           "orientation": "v",
           "showlegend": true,
           "textposition": "auto",
           "type": "bar",
           "x": [
            "VICTOR"
           ],
           "xaxis": "x",
           "y": [
            126
           ],
           "yaxis": "y"
          },
          {
           "alignmentgroup": "True",
           "hovertemplate": "Name=%{x}<br>Year=2001<br>Number=%{y}<extra></extra>",
           "legendgroup": "ALEJANDRO",
           "marker": {
            "color": "#B6E880"
           },
           "name": "ALEJANDRO",
           "offsetgroup": "ALEJANDRO",
           "orientation": "v",
           "showlegend": true,
           "textposition": "auto",
           "type": "bar",
           "x": [
            "ALEJANDRO"
           ],
           "xaxis": "x",
           "y": [
            132
           ],
           "yaxis": "y"
          },
          {
           "alignmentgroup": "True",
           "hovertemplate": "Name=%{x}<br>Year=2001<br>Number=%{y}<extra></extra>",
           "legendgroup": "POL",
           "marker": {
            "color": "#FF97FF"
           },
           "name": "POL",
           "offsetgroup": "POL",
           "orientation": "v",
           "showlegend": true,
           "textposition": "auto",
           "type": "bar",
           "x": [
            "POL"
           ],
           "xaxis": "x",
           "y": [
            159
           ],
           "yaxis": "y"
          },
          {
           "alignmentgroup": "True",
           "hovertemplate": "Name=%{x}<br>Year=2001<br>Number=%{y}<extra></extra>",
           "legendgroup": "ALEX",
           "marker": {
            "color": "#FECB52"
           },
           "name": "ALEX",
           "offsetgroup": "ALEX",
           "orientation": "v",
           "showlegend": true,
           "textposition": "auto",
           "type": "bar",
           "x": [
            "ALEX"
           ],
           "xaxis": "x",
           "y": [
            164
           ],
           "yaxis": "y"
          },
          {
           "alignmentgroup": "True",
           "hovertemplate": "Name=%{x}<br>Year=2001<br>Number=%{y}<extra></extra>",
           "legendgroup": "PAU",
           "marker": {
            "color": "#636efa"
           },
           "name": "PAU",
           "offsetgroup": "PAU",
           "orientation": "v",
           "showlegend": true,
           "textposition": "auto",
           "type": "bar",
           "x": [
            "PAU"
           ],
           "xaxis": "x",
           "y": [
            151
           ],
           "yaxis": "y"
          },
          {
           "alignmentgroup": "True",
           "hovertemplate": "Name=%{x}<br>Year=2001<br>Number=%{y}<extra></extra>",
           "legendgroup": "ARNAU",
           "marker": {
            "color": "#EF553B"
           },
           "name": "ARNAU",
           "offsetgroup": "ARNAU",
           "orientation": "v",
           "showlegend": true,
           "textposition": "auto",
           "type": "bar",
           "x": [
            "ARNAU"
           ],
           "xaxis": "x",
           "y": [
            108
           ],
           "yaxis": "y"
          },
          {
           "alignmentgroup": "True",
           "hovertemplate": "Name=%{x}<br>Year=2001<br>Number=%{y}<extra></extra>",
           "legendgroup": "GERARD",
           "marker": {
            "color": "#00cc96"
           },
           "name": "GERARD",
           "offsetgroup": "GERARD",
           "orientation": "v",
           "showlegend": true,
           "textposition": "auto",
           "type": "bar",
           "x": [
            "GERARD"
           ],
           "xaxis": "x",
           "y": [
            125
           ],
           "yaxis": "y"
          }
         ],
         "name": "2001"
        },
        {
         "data": [
          {
           "alignmentgroup": "True",
           "hovertemplate": "Name=%{x}<br>Year=2002<br>Number=%{y}<extra></extra>",
           "legendgroup": "MARC",
           "marker": {
            "color": "#636efa"
           },
           "name": "MARC",
           "offsetgroup": "MARC",
           "orientation": "v",
           "showlegend": true,
           "textposition": "auto",
           "type": "bar",
           "x": [
            "MARC"
           ],
           "xaxis": "x",
           "y": [
            267
           ],
           "yaxis": "y"
          },
          {
           "alignmentgroup": "True",
           "hovertemplate": "Name=%{x}<br>Year=2002<br>Number=%{y}<extra></extra>",
           "legendgroup": "DAVID",
           "marker": {
            "color": "#EF553B"
           },
           "name": "DAVID",
           "offsetgroup": "DAVID",
           "orientation": "v",
           "showlegend": true,
           "textposition": "auto",
           "type": "bar",
           "x": [
            "DAVID"
           ],
           "xaxis": "x",
           "y": [
            150
           ],
           "yaxis": "y"
          },
          {
           "alignmentgroup": "True",
           "hovertemplate": "Name=%{x}<br>Year=2002<br>Number=%{y}<extra></extra>",
           "legendgroup": "DANIEL",
           "marker": {
            "color": "#00cc96"
           },
           "name": "DANIEL",
           "offsetgroup": "DANIEL",
           "orientation": "v",
           "showlegend": true,
           "textposition": "auto",
           "type": "bar",
           "x": [
            "DANIEL"
           ],
           "xaxis": "x",
           "y": [
            128
           ],
           "yaxis": "y"
          },
          {
           "alignmentgroup": "True",
           "hovertemplate": "Name=%{x}<br>Year=2002<br>Number=%{y}<extra></extra>",
           "legendgroup": "VICTOR",
           "marker": {
            "color": "#FFA15A"
           },
           "name": "VICTOR",
           "offsetgroup": "VICTOR",
           "orientation": "v",
           "showlegend": true,
           "textposition": "auto",
           "type": "bar",
           "x": [
            "VICTOR"
           ],
           "xaxis": "x",
           "y": [
            120
           ],
           "yaxis": "y"
          },
          {
           "alignmentgroup": "True",
           "hovertemplate": "Name=%{x}<br>Year=2002<br>Number=%{y}<extra></extra>",
           "legendgroup": "ALEJANDRO",
           "marker": {
            "color": "#B6E880"
           },
           "name": "ALEJANDRO",
           "offsetgroup": "ALEJANDRO",
           "orientation": "v",
           "showlegend": true,
           "textposition": "auto",
           "type": "bar",
           "x": [
            "ALEJANDRO"
           ],
           "xaxis": "x",
           "y": [
            124
           ],
           "yaxis": "y"
          },
          {
           "alignmentgroup": "True",
           "hovertemplate": "Name=%{x}<br>Year=2002<br>Number=%{y}<extra></extra>",
           "legendgroup": "POL",
           "marker": {
            "color": "#FF97FF"
           },
           "name": "POL",
           "offsetgroup": "POL",
           "orientation": "v",
           "showlegend": true,
           "textposition": "auto",
           "type": "bar",
           "x": [
            "POL"
           ],
           "xaxis": "x",
           "y": [
            175
           ],
           "yaxis": "y"
          },
          {
           "alignmentgroup": "True",
           "hovertemplate": "Name=%{x}<br>Year=2002<br>Number=%{y}<extra></extra>",
           "legendgroup": "ALEX",
           "marker": {
            "color": "#FECB52"
           },
           "name": "ALEX",
           "offsetgroup": "ALEX",
           "orientation": "v",
           "showlegend": true,
           "textposition": "auto",
           "type": "bar",
           "x": [
            "ALEX"
           ],
           "xaxis": "x",
           "y": [
            148
           ],
           "yaxis": "y"
          },
          {
           "alignmentgroup": "True",
           "hovertemplate": "Name=%{x}<br>Year=2002<br>Number=%{y}<extra></extra>",
           "legendgroup": "PAU",
           "marker": {
            "color": "#636efa"
           },
           "name": "PAU",
           "offsetgroup": "PAU",
           "orientation": "v",
           "showlegend": true,
           "textposition": "auto",
           "type": "bar",
           "x": [
            "PAU"
           ],
           "xaxis": "x",
           "y": [
            149
           ],
           "yaxis": "y"
          },
          {
           "alignmentgroup": "True",
           "hovertemplate": "Name=%{x}<br>Year=2002<br>Number=%{y}<extra></extra>",
           "legendgroup": "ARNAU",
           "marker": {
            "color": "#EF553B"
           },
           "name": "ARNAU",
           "offsetgroup": "ARNAU",
           "orientation": "v",
           "showlegend": true,
           "textposition": "auto",
           "type": "bar",
           "x": [
            "ARNAU"
           ],
           "xaxis": "x",
           "y": [
            115
           ],
           "yaxis": "y"
          },
          {
           "alignmentgroup": "True",
           "hovertemplate": "Name=%{x}<br>Year=2002<br>Number=%{y}<extra></extra>",
           "legendgroup": "GERARD",
           "marker": {
            "color": "#00cc96"
           },
           "name": "GERARD",
           "offsetgroup": "GERARD",
           "orientation": "v",
           "showlegend": true,
           "textposition": "auto",
           "type": "bar",
           "x": [
            "GERARD"
           ],
           "xaxis": "x",
           "y": [
            106
           ],
           "yaxis": "y"
          }
         ],
         "name": "2002"
        },
        {
         "data": [
          {
           "alignmentgroup": "True",
           "hovertemplate": "Name=%{x}<br>Year=2003<br>Number=%{y}<extra></extra>",
           "legendgroup": "MARC",
           "marker": {
            "color": "#636efa"
           },
           "name": "MARC",
           "offsetgroup": "MARC",
           "orientation": "v",
           "showlegend": true,
           "textposition": "auto",
           "type": "bar",
           "x": [
            "MARC"
           ],
           "xaxis": "x",
           "y": [
            287
           ],
           "yaxis": "y"
          },
          {
           "alignmentgroup": "True",
           "hovertemplate": "Name=%{x}<br>Year=2003<br>Number=%{y}<extra></extra>",
           "legendgroup": "DAVID",
           "marker": {
            "color": "#EF553B"
           },
           "name": "DAVID",
           "offsetgroup": "DAVID",
           "orientation": "v",
           "showlegend": true,
           "textposition": "auto",
           "type": "bar",
           "x": [
            "DAVID"
           ],
           "xaxis": "x",
           "y": [
            173
           ],
           "yaxis": "y"
          },
          {
           "alignmentgroup": "True",
           "hovertemplate": "Name=%{x}<br>Year=2003<br>Number=%{y}<extra></extra>",
           "legendgroup": "DANIEL",
           "marker": {
            "color": "#00cc96"
           },
           "name": "DANIEL",
           "offsetgroup": "DANIEL",
           "orientation": "v",
           "showlegend": true,
           "textposition": "auto",
           "type": "bar",
           "x": [
            "DANIEL"
           ],
           "xaxis": "x",
           "y": [
            156
           ],
           "yaxis": "y"
          },
          {
           "alignmentgroup": "True",
           "hovertemplate": "Name=%{x}<br>Year=2003<br>Number=%{y}<extra></extra>",
           "legendgroup": "VICTOR",
           "marker": {
            "color": "#FFA15A"
           },
           "name": "VICTOR",
           "offsetgroup": "VICTOR",
           "orientation": "v",
           "showlegend": true,
           "textposition": "auto",
           "type": "bar",
           "x": [
            "VICTOR"
           ],
           "xaxis": "x",
           "y": [
            107
           ],
           "yaxis": "y"
          },
          {
           "alignmentgroup": "True",
           "hovertemplate": "Name=%{x}<br>Year=2003<br>Number=%{y}<extra></extra>",
           "legendgroup": "ALEJANDRO",
           "marker": {
            "color": "#B6E880"
           },
           "name": "ALEJANDRO",
           "offsetgroup": "ALEJANDRO",
           "orientation": "v",
           "showlegend": true,
           "textposition": "auto",
           "type": "bar",
           "x": [
            "ALEJANDRO"
           ],
           "xaxis": "x",
           "y": [
            105
           ],
           "yaxis": "y"
          },
          {
           "alignmentgroup": "True",
           "hovertemplate": "Name=%{x}<br>Year=2003<br>Number=%{y}<extra></extra>",
           "legendgroup": "POL",
           "marker": {
            "color": "#FF97FF"
           },
           "name": "POL",
           "offsetgroup": "POL",
           "orientation": "v",
           "showlegend": true,
           "textposition": "auto",
           "type": "bar",
           "x": [
            "POL"
           ],
           "xaxis": "x",
           "y": [
            184
           ],
           "yaxis": "y"
          },
          {
           "alignmentgroup": "True",
           "hovertemplate": "Name=%{x}<br>Year=2003<br>Number=%{y}<extra></extra>",
           "legendgroup": "ALEX",
           "marker": {
            "color": "#FECB52"
           },
           "name": "ALEX",
           "offsetgroup": "ALEX",
           "orientation": "v",
           "showlegend": true,
           "textposition": "auto",
           "type": "bar",
           "x": [
            "ALEX"
           ],
           "xaxis": "x",
           "y": [
            205
           ],
           "yaxis": "y"
          },
          {
           "alignmentgroup": "True",
           "hovertemplate": "Name=%{x}<br>Year=2003<br>Number=%{y}<extra></extra>",
           "legendgroup": "PAU",
           "marker": {
            "color": "#636efa"
           },
           "name": "PAU",
           "offsetgroup": "PAU",
           "orientation": "v",
           "showlegend": true,
           "textposition": "auto",
           "type": "bar",
           "x": [
            "PAU"
           ],
           "xaxis": "x",
           "y": [
            202
           ],
           "yaxis": "y"
          },
          {
           "alignmentgroup": "True",
           "hovertemplate": "Name=%{x}<br>Year=2003<br>Number=%{y}<extra></extra>",
           "legendgroup": "ARNAU",
           "marker": {
            "color": "#EF553B"
           },
           "name": "ARNAU",
           "offsetgroup": "ARNAU",
           "orientation": "v",
           "showlegend": true,
           "textposition": "auto",
           "type": "bar",
           "x": [
            "ARNAU"
           ],
           "xaxis": "x",
           "y": [
            109
           ],
           "yaxis": "y"
          },
          {
           "alignmentgroup": "True",
           "hovertemplate": "Name=%{x}<br>Year=2003<br>Number=%{y}<extra></extra>",
           "legendgroup": "JOAN",
           "marker": {
            "color": "#ab63fa"
           },
           "name": "JOAN",
           "offsetgroup": "JOAN",
           "orientation": "v",
           "showlegend": true,
           "textposition": "auto",
           "type": "bar",
           "x": [
            "JOAN"
           ],
           "xaxis": "x",
           "y": [
            119
           ],
           "yaxis": "y"
          }
         ],
         "name": "2003"
        },
        {
         "data": [
          {
           "alignmentgroup": "True",
           "hovertemplate": "Name=%{x}<br>Year=2004<br>Number=%{y}<extra></extra>",
           "legendgroup": "MARC",
           "marker": {
            "color": "#636efa"
           },
           "name": "MARC",
           "offsetgroup": "MARC",
           "orientation": "v",
           "showlegend": true,
           "textposition": "auto",
           "type": "bar",
           "x": [
            "MARC"
           ],
           "xaxis": "x",
           "y": [
            259
           ],
           "yaxis": "y"
          },
          {
           "alignmentgroup": "True",
           "hovertemplate": "Name=%{x}<br>Year=2004<br>Number=%{y}<extra></extra>",
           "legendgroup": "DAVID",
           "marker": {
            "color": "#EF553B"
           },
           "name": "DAVID",
           "offsetgroup": "DAVID",
           "orientation": "v",
           "showlegend": true,
           "textposition": "auto",
           "type": "bar",
           "x": [
            "DAVID"
           ],
           "xaxis": "x",
           "y": [
            129
           ],
           "yaxis": "y"
          },
          {
           "alignmentgroup": "True",
           "hovertemplate": "Name=%{x}<br>Year=2004<br>Number=%{y}<extra></extra>",
           "legendgroup": "DANIEL",
           "marker": {
            "color": "#00cc96"
           },
           "name": "DANIEL",
           "offsetgroup": "DANIEL",
           "orientation": "v",
           "showlegend": true,
           "textposition": "auto",
           "type": "bar",
           "x": [
            "DANIEL"
           ],
           "xaxis": "x",
           "y": [
            128
           ],
           "yaxis": "y"
          },
          {
           "alignmentgroup": "True",
           "hovertemplate": "Name=%{x}<br>Year=2004<br>Number=%{y}<extra></extra>",
           "legendgroup": "VICTOR",
           "marker": {
            "color": "#FFA15A"
           },
           "name": "VICTOR",
           "offsetgroup": "VICTOR",
           "orientation": "v",
           "showlegend": true,
           "textposition": "auto",
           "type": "bar",
           "x": [
            "VICTOR"
           ],
           "xaxis": "x",
           "y": [
            116
           ],
           "yaxis": "y"
          },
          {
           "alignmentgroup": "True",
           "hovertemplate": "Name=%{x}<br>Year=2004<br>Number=%{y}<extra></extra>",
           "legendgroup": "ALEJANDRO",
           "marker": {
            "color": "#B6E880"
           },
           "name": "ALEJANDRO",
           "offsetgroup": "ALEJANDRO",
           "orientation": "v",
           "showlegend": true,
           "textposition": "auto",
           "type": "bar",
           "x": [
            "ALEJANDRO"
           ],
           "xaxis": "x",
           "y": [
            107
           ],
           "yaxis": "y"
          },
          {
           "alignmentgroup": "True",
           "hovertemplate": "Name=%{x}<br>Year=2004<br>Number=%{y}<extra></extra>",
           "legendgroup": "POL",
           "marker": {
            "color": "#FF97FF"
           },
           "name": "POL",
           "offsetgroup": "POL",
           "orientation": "v",
           "showlegend": true,
           "textposition": "auto",
           "type": "bar",
           "x": [
            "POL"
           ],
           "xaxis": "x",
           "y": [
            181
           ],
           "yaxis": "y"
          },
          {
           "alignmentgroup": "True",
           "hovertemplate": "Name=%{x}<br>Year=2004<br>Number=%{y}<extra></extra>",
           "legendgroup": "ALEX",
           "marker": {
            "color": "#FECB52"
           },
           "name": "ALEX",
           "offsetgroup": "ALEX",
           "orientation": "v",
           "showlegend": true,
           "textposition": "auto",
           "type": "bar",
           "x": [
            "ALEX"
           ],
           "xaxis": "x",
           "y": [
            185
           ],
           "yaxis": "y"
          },
          {
           "alignmentgroup": "True",
           "hovertemplate": "Name=%{x}<br>Year=2004<br>Number=%{y}<extra></extra>",
           "legendgroup": "PAU",
           "marker": {
            "color": "#636efa"
           },
           "name": "PAU",
           "offsetgroup": "PAU",
           "orientation": "v",
           "showlegend": true,
           "textposition": "auto",
           "type": "bar",
           "x": [
            "PAU"
           ],
           "xaxis": "x",
           "y": [
            173
           ],
           "yaxis": "y"
          },
          {
           "alignmentgroup": "True",
           "hovertemplate": "Name=%{x}<br>Year=2004<br>Number=%{y}<extra></extra>",
           "legendgroup": "ARNAU",
           "marker": {
            "color": "#EF553B"
           },
           "name": "ARNAU",
           "offsetgroup": "ARNAU",
           "orientation": "v",
           "showlegend": true,
           "textposition": "auto",
           "type": "bar",
           "x": [
            "ARNAU"
           ],
           "xaxis": "x",
           "y": [
            125
           ],
           "yaxis": "y"
          },
          {
           "alignmentgroup": "True",
           "hovertemplate": "Name=%{x}<br>Year=2004<br>Number=%{y}<extra></extra>",
           "legendgroup": "PABLO",
           "marker": {
            "color": "#FFA15A"
           },
           "name": "PABLO",
           "offsetgroup": "PABLO",
           "orientation": "v",
           "showlegend": true,
           "textposition": "auto",
           "type": "bar",
           "x": [
            "PABLO"
           ],
           "xaxis": "x",
           "y": [
            107
           ],
           "yaxis": "y"
          }
         ],
         "name": "2004"
        },
        {
         "data": [
          {
           "alignmentgroup": "True",
           "hovertemplate": "Name=%{x}<br>Year=2005<br>Number=%{y}<extra></extra>",
           "legendgroup": "MARC",
           "marker": {
            "color": "#636efa"
           },
           "name": "MARC",
           "offsetgroup": "MARC",
           "orientation": "v",
           "showlegend": true,
           "textposition": "auto",
           "type": "bar",
           "x": [
            "MARC"
           ],
           "xaxis": "x",
           "y": [
            277
           ],
           "yaxis": "y"
          },
          {
           "alignmentgroup": "True",
           "hovertemplate": "Name=%{x}<br>Year=2005<br>Number=%{y}<extra></extra>",
           "legendgroup": "DAVID",
           "marker": {
            "color": "#EF553B"
           },
           "name": "DAVID",
           "offsetgroup": "DAVID",
           "orientation": "v",
           "showlegend": true,
           "textposition": "auto",
           "type": "bar",
           "x": [
            "DAVID"
           ],
           "xaxis": "x",
           "y": [
            157
           ],
           "yaxis": "y"
          },
          {
           "alignmentgroup": "True",
           "hovertemplate": "Name=%{x}<br>Year=2005<br>Number=%{y}<extra></extra>",
           "legendgroup": "DANIEL",
           "marker": {
            "color": "#00cc96"
           },
           "name": "DANIEL",
           "offsetgroup": "DANIEL",
           "orientation": "v",
           "showlegend": true,
           "textposition": "auto",
           "type": "bar",
           "x": [
            "DANIEL"
           ],
           "xaxis": "x",
           "y": [
            151
           ],
           "yaxis": "y"
          },
          {
           "alignmentgroup": "True",
           "hovertemplate": "Name=%{x}<br>Year=2005<br>Number=%{y}<extra></extra>",
           "legendgroup": "POL",
           "marker": {
            "color": "#FF97FF"
           },
           "name": "POL",
           "offsetgroup": "POL",
           "orientation": "v",
           "showlegend": true,
           "textposition": "auto",
           "type": "bar",
           "x": [
            "POL"
           ],
           "xaxis": "x",
           "y": [
            176
           ],
           "yaxis": "y"
          },
          {
           "alignmentgroup": "True",
           "hovertemplate": "Name=%{x}<br>Year=2005<br>Number=%{y}<extra></extra>",
           "legendgroup": "ALEX",
           "marker": {
            "color": "#FECB52"
           },
           "name": "ALEX",
           "offsetgroup": "ALEX",
           "orientation": "v",
           "showlegend": true,
           "textposition": "auto",
           "type": "bar",
           "x": [
            "ALEX"
           ],
           "xaxis": "x",
           "y": [
            167
           ],
           "yaxis": "y"
          },
          {
           "alignmentgroup": "True",
           "hovertemplate": "Name=%{x}<br>Year=2005<br>Number=%{y}<extra></extra>",
           "legendgroup": "PAU",
           "marker": {
            "color": "#636efa"
           },
           "name": "PAU",
           "offsetgroup": "PAU",
           "orientation": "v",
           "showlegend": true,
           "textposition": "auto",
           "type": "bar",
           "x": [
            "PAU"
           ],
           "xaxis": "x",
           "y": [
            187
           ],
           "yaxis": "y"
          },
          {
           "alignmentgroup": "True",
           "hovertemplate": "Name=%{x}<br>Year=2005<br>Number=%{y}<extra></extra>",
           "legendgroup": "ARNAU",
           "marker": {
            "color": "#EF553B"
           },
           "name": "ARNAU",
           "offsetgroup": "ARNAU",
           "orientation": "v",
           "showlegend": true,
           "textposition": "auto",
           "type": "bar",
           "x": [
            "ARNAU"
           ],
           "xaxis": "x",
           "y": [
            115
           ],
           "yaxis": "y"
          },
          {
           "alignmentgroup": "True",
           "hovertemplate": "Name=%{x}<br>Year=2005<br>Number=%{y}<extra></extra>",
           "legendgroup": "PABLO",
           "marker": {
            "color": "#FFA15A"
           },
           "name": "PABLO",
           "offsetgroup": "PABLO",
           "orientation": "v",
           "showlegend": true,
           "textposition": "auto",
           "type": "bar",
           "x": [
            "PABLO"
           ],
           "xaxis": "x",
           "y": [
            106
           ],
           "yaxis": "y"
          },
          {
           "alignmentgroup": "True",
           "hovertemplate": "Name=%{x}<br>Year=2005<br>Number=%{y}<extra></extra>",
           "legendgroup": "JAN",
           "marker": {
            "color": "#19d3f3"
           },
           "name": "JAN",
           "offsetgroup": "JAN",
           "orientation": "v",
           "showlegend": true,
           "textposition": "auto",
           "type": "bar",
           "x": [
            "JAN"
           ],
           "xaxis": "x",
           "y": [
            122
           ],
           "yaxis": "y"
          },
          {
           "alignmentgroup": "True",
           "hovertemplate": "Name=%{x}<br>Year=2005<br>Number=%{y}<extra></extra>",
           "legendgroup": "MARTI",
           "marker": {
            "color": "#FF6692"
           },
           "name": "MARTI",
           "offsetgroup": "MARTI",
           "orientation": "v",
           "showlegend": true,
           "textposition": "auto",
           "type": "bar",
           "x": [
            "MARTI"
           ],
           "xaxis": "x",
           "y": [
            111
           ],
           "yaxis": "y"
          }
         ],
         "name": "2005"
        },
        {
         "data": [
          {
           "alignmentgroup": "True",
           "hovertemplate": "Name=%{x}<br>Year=2006<br>Number=%{y}<extra></extra>",
           "legendgroup": "MARC",
           "marker": {
            "color": "#636efa"
           },
           "name": "MARC",
           "offsetgroup": "MARC",
           "orientation": "v",
           "showlegend": true,
           "textposition": "auto",
           "type": "bar",
           "x": [
            "MARC"
           ],
           "xaxis": "x",
           "y": [
            229
           ],
           "yaxis": "y"
          },
          {
           "alignmentgroup": "True",
           "hovertemplate": "Name=%{x}<br>Year=2006<br>Number=%{y}<extra></extra>",
           "legendgroup": "DAVID",
           "marker": {
            "color": "#EF553B"
           },
           "name": "DAVID",
           "offsetgroup": "DAVID",
           "orientation": "v",
           "showlegend": true,
           "textposition": "auto",
           "type": "bar",
           "x": [
            "DAVID"
           ],
           "xaxis": "x",
           "y": [
            116
           ],
           "yaxis": "y"
          },
          {
           "alignmentgroup": "True",
           "hovertemplate": "Name=%{x}<br>Year=2006<br>Number=%{y}<extra></extra>",
           "legendgroup": "DANIEL",
           "marker": {
            "color": "#00cc96"
           },
           "name": "DANIEL",
           "offsetgroup": "DANIEL",
           "orientation": "v",
           "showlegend": true,
           "textposition": "auto",
           "type": "bar",
           "x": [
            "DANIEL"
           ],
           "xaxis": "x",
           "y": [
            141
           ],
           "yaxis": "y"
          },
          {
           "alignmentgroup": "True",
           "hovertemplate": "Name=%{x}<br>Year=2006<br>Number=%{y}<extra></extra>",
           "legendgroup": "VICTOR",
           "marker": {
            "color": "#FFA15A"
           },
           "name": "VICTOR",
           "offsetgroup": "VICTOR",
           "orientation": "v",
           "showlegend": true,
           "textposition": "auto",
           "type": "bar",
           "x": [
            "VICTOR"
           ],
           "xaxis": "x",
           "y": [
            111
           ],
           "yaxis": "y"
          },
          {
           "alignmentgroup": "True",
           "hovertemplate": "Name=%{x}<br>Year=2006<br>Number=%{y}<extra></extra>",
           "legendgroup": "ALEJANDRO",
           "marker": {
            "color": "#B6E880"
           },
           "name": "ALEJANDRO",
           "offsetgroup": "ALEJANDRO",
           "orientation": "v",
           "showlegend": true,
           "textposition": "auto",
           "type": "bar",
           "x": [
            "ALEJANDRO"
           ],
           "xaxis": "x",
           "y": [
            95
           ],
           "yaxis": "y"
          },
          {
           "alignmentgroup": "True",
           "hovertemplate": "Name=%{x}<br>Year=2006<br>Number=%{y}<extra></extra>",
           "legendgroup": "POL",
           "marker": {
            "color": "#FF97FF"
           },
           "name": "POL",
           "offsetgroup": "POL",
           "orientation": "v",
           "showlegend": true,
           "textposition": "auto",
           "type": "bar",
           "x": [
            "POL"
           ],
           "xaxis": "x",
           "y": [
            173
           ],
           "yaxis": "y"
          },
          {
           "alignmentgroup": "True",
           "hovertemplate": "Name=%{x}<br>Year=2006<br>Number=%{y}<extra></extra>",
           "legendgroup": "ALEX",
           "marker": {
            "color": "#FECB52"
           },
           "name": "ALEX",
           "offsetgroup": "ALEX",
           "orientation": "v",
           "showlegend": true,
           "textposition": "auto",
           "type": "bar",
           "x": [
            "ALEX"
           ],
           "xaxis": "x",
           "y": [
            168
           ],
           "yaxis": "y"
          },
          {
           "alignmentgroup": "True",
           "hovertemplate": "Name=%{x}<br>Year=2006<br>Number=%{y}<extra></extra>",
           "legendgroup": "PAU",
           "marker": {
            "color": "#636efa"
           },
           "name": "PAU",
           "offsetgroup": "PAU",
           "orientation": "v",
           "showlegend": true,
           "textposition": "auto",
           "type": "bar",
           "x": [
            "PAU"
           ],
           "xaxis": "x",
           "y": [
            163
           ],
           "yaxis": "y"
          },
          {
           "alignmentgroup": "True",
           "hovertemplate": "Name=%{x}<br>Year=2006<br>Number=%{y}<extra></extra>",
           "legendgroup": "ARNAU",
           "marker": {
            "color": "#EF553B"
           },
           "name": "ARNAU",
           "offsetgroup": "ARNAU",
           "orientation": "v",
           "showlegend": true,
           "textposition": "auto",
           "type": "bar",
           "x": [
            "ARNAU"
           ],
           "xaxis": "x",
           "y": [
            117
           ],
           "yaxis": "y"
          },
          {
           "alignmentgroup": "True",
           "hovertemplate": "Name=%{x}<br>Year=2006<br>Number=%{y}<extra></extra>",
           "legendgroup": "MARTI",
           "marker": {
            "color": "#FF6692"
           },
           "name": "MARTI",
           "offsetgroup": "MARTI",
           "orientation": "v",
           "showlegend": true,
           "textposition": "auto",
           "type": "bar",
           "x": [
            "MARTI"
           ],
           "xaxis": "x",
           "y": [
            98
           ],
           "yaxis": "y"
          }
         ],
         "name": "2006"
        },
        {
         "data": [
          {
           "alignmentgroup": "True",
           "hovertemplate": "Name=%{x}<br>Year=2007<br>Number=%{y}<extra></extra>",
           "legendgroup": "MARC",
           "marker": {
            "color": "#636efa"
           },
           "name": "MARC",
           "offsetgroup": "MARC",
           "orientation": "v",
           "showlegend": true,
           "textposition": "auto",
           "type": "bar",
           "x": [
            "MARC"
           ],
           "xaxis": "x",
           "y": [
            237
           ],
           "yaxis": "y"
          },
          {
           "alignmentgroup": "True",
           "hovertemplate": "Name=%{x}<br>Year=2007<br>Number=%{y}<extra></extra>",
           "legendgroup": "DAVID",
           "marker": {
            "color": "#EF553B"
           },
           "name": "DAVID",
           "offsetgroup": "DAVID",
           "orientation": "v",
           "showlegend": true,
           "textposition": "auto",
           "type": "bar",
           "x": [
            "DAVID"
           ],
           "xaxis": "x",
           "y": [
            127
           ],
           "yaxis": "y"
          },
          {
           "alignmentgroup": "True",
           "hovertemplate": "Name=%{x}<br>Year=2007<br>Number=%{y}<extra></extra>",
           "legendgroup": "DANIEL",
           "marker": {
            "color": "#00cc96"
           },
           "name": "DANIEL",
           "offsetgroup": "DANIEL",
           "orientation": "v",
           "showlegend": true,
           "textposition": "auto",
           "type": "bar",
           "x": [
            "DANIEL"
           ],
           "xaxis": "x",
           "y": [
            132
           ],
           "yaxis": "y"
          },
          {
           "alignmentgroup": "True",
           "hovertemplate": "Name=%{x}<br>Year=2007<br>Number=%{y}<extra></extra>",
           "legendgroup": "VICTOR",
           "marker": {
            "color": "#FFA15A"
           },
           "name": "VICTOR",
           "offsetgroup": "VICTOR",
           "orientation": "v",
           "showlegend": true,
           "textposition": "auto",
           "type": "bar",
           "x": [
            "VICTOR"
           ],
           "xaxis": "x",
           "y": [
            98
           ],
           "yaxis": "y"
          },
          {
           "alignmentgroup": "True",
           "hovertemplate": "Name=%{x}<br>Year=2007<br>Number=%{y}<extra></extra>",
           "legendgroup": "POL",
           "marker": {
            "color": "#FF97FF"
           },
           "name": "POL",
           "offsetgroup": "POL",
           "orientation": "v",
           "showlegend": true,
           "textposition": "auto",
           "type": "bar",
           "x": [
            "POL"
           ],
           "xaxis": "x",
           "y": [
            140
           ],
           "yaxis": "y"
          },
          {
           "alignmentgroup": "True",
           "hovertemplate": "Name=%{x}<br>Year=2007<br>Number=%{y}<extra></extra>",
           "legendgroup": "ALEX",
           "marker": {
            "color": "#FECB52"
           },
           "name": "ALEX",
           "offsetgroup": "ALEX",
           "orientation": "v",
           "showlegend": true,
           "textposition": "auto",
           "type": "bar",
           "x": [
            "ALEX"
           ],
           "xaxis": "x",
           "y": [
            163
           ],
           "yaxis": "y"
          },
          {
           "alignmentgroup": "True",
           "hovertemplate": "Name=%{x}<br>Year=2007<br>Number=%{y}<extra></extra>",
           "legendgroup": "PAU",
           "marker": {
            "color": "#636efa"
           },
           "name": "PAU",
           "offsetgroup": "PAU",
           "orientation": "v",
           "showlegend": true,
           "textposition": "auto",
           "type": "bar",
           "x": [
            "PAU"
           ],
           "xaxis": "x",
           "y": [
            148
           ],
           "yaxis": "y"
          },
          {
           "alignmentgroup": "True",
           "hovertemplate": "Name=%{x}<br>Year=2007<br>Number=%{y}<extra></extra>",
           "legendgroup": "ARNAU",
           "marker": {
            "color": "#EF553B"
           },
           "name": "ARNAU",
           "offsetgroup": "ARNAU",
           "orientation": "v",
           "showlegend": true,
           "textposition": "auto",
           "type": "bar",
           "x": [
            "ARNAU"
           ],
           "xaxis": "x",
           "y": [
            115
           ],
           "yaxis": "y"
          },
          {
           "alignmentgroup": "True",
           "hovertemplate": "Name=%{x}<br>Year=2007<br>Number=%{y}<extra></extra>",
           "legendgroup": "MARTI",
           "marker": {
            "color": "#FF6692"
           },
           "name": "MARTI",
           "offsetgroup": "MARTI",
           "orientation": "v",
           "showlegend": true,
           "textposition": "auto",
           "type": "bar",
           "x": [
            "MARTI"
           ],
           "xaxis": "x",
           "y": [
            126
           ],
           "yaxis": "y"
          },
          {
           "alignmentgroup": "True",
           "hovertemplate": "Name=%{x}<br>Year=2007<br>Number=%{y}<extra></extra>",
           "legendgroup": "ERIC",
           "marker": {
            "color": "#B6E880"
           },
           "name": "ERIC",
           "offsetgroup": "ERIC",
           "orientation": "v",
           "showlegend": true,
           "textposition": "auto",
           "type": "bar",
           "x": [
            "ERIC"
           ],
           "xaxis": "x",
           "y": [
            126
           ],
           "yaxis": "y"
          }
         ],
         "name": "2007"
        },
        {
         "data": [
          {
           "alignmentgroup": "True",
           "hovertemplate": "Name=%{x}<br>Year=2008<br>Number=%{y}<extra></extra>",
           "legendgroup": "MARC",
           "marker": {
            "color": "#636efa"
           },
           "name": "MARC",
           "offsetgroup": "MARC",
           "orientation": "v",
           "showlegend": true,
           "textposition": "auto",
           "type": "bar",
           "x": [
            "MARC"
           ],
           "xaxis": "x",
           "y": [
            244
           ],
           "yaxis": "y"
          },
          {
           "alignmentgroup": "True",
           "hovertemplate": "Name=%{x}<br>Year=2008<br>Number=%{y}<extra></extra>",
           "legendgroup": "DAVID",
           "marker": {
            "color": "#EF553B"
           },
           "name": "DAVID",
           "offsetgroup": "DAVID",
           "orientation": "v",
           "showlegend": true,
           "textposition": "auto",
           "type": "bar",
           "x": [
            "DAVID"
           ],
           "xaxis": "x",
           "y": [
            109
           ],
           "yaxis": "y"
          },
          {
           "alignmentgroup": "True",
           "hovertemplate": "Name=%{x}<br>Year=2008<br>Number=%{y}<extra></extra>",
           "legendgroup": "DANIEL",
           "marker": {
            "color": "#00cc96"
           },
           "name": "DANIEL",
           "offsetgroup": "DANIEL",
           "orientation": "v",
           "showlegend": true,
           "textposition": "auto",
           "type": "bar",
           "x": [
            "DANIEL"
           ],
           "xaxis": "x",
           "y": [
            121
           ],
           "yaxis": "y"
          },
          {
           "alignmentgroup": "True",
           "hovertemplate": "Name=%{x}<br>Year=2008<br>Number=%{y}<extra></extra>",
           "legendgroup": "POL",
           "marker": {
            "color": "#FF97FF"
           },
           "name": "POL",
           "offsetgroup": "POL",
           "orientation": "v",
           "showlegend": true,
           "textposition": "auto",
           "type": "bar",
           "x": [
            "POL"
           ],
           "xaxis": "x",
           "y": [
            172
           ],
           "yaxis": "y"
          },
          {
           "alignmentgroup": "True",
           "hovertemplate": "Name=%{x}<br>Year=2008<br>Number=%{y}<extra></extra>",
           "legendgroup": "ALEX",
           "marker": {
            "color": "#FECB52"
           },
           "name": "ALEX",
           "offsetgroup": "ALEX",
           "orientation": "v",
           "showlegend": true,
           "textposition": "auto",
           "type": "bar",
           "x": [
            "ALEX"
           ],
           "xaxis": "x",
           "y": [
            156
           ],
           "yaxis": "y"
          },
          {
           "alignmentgroup": "True",
           "hovertemplate": "Name=%{x}<br>Year=2008<br>Number=%{y}<extra></extra>",
           "legendgroup": "PAU",
           "marker": {
            "color": "#636efa"
           },
           "name": "PAU",
           "offsetgroup": "PAU",
           "orientation": "v",
           "showlegend": true,
           "textposition": "auto",
           "type": "bar",
           "x": [
            "PAU"
           ],
           "xaxis": "x",
           "y": [
            144
           ],
           "yaxis": "y"
          },
          {
           "alignmentgroup": "True",
           "hovertemplate": "Name=%{x}<br>Year=2008<br>Number=%{y}<extra></extra>",
           "legendgroup": "ARNAU",
           "marker": {
            "color": "#EF553B"
           },
           "name": "ARNAU",
           "offsetgroup": "ARNAU",
           "orientation": "v",
           "showlegend": true,
           "textposition": "auto",
           "type": "bar",
           "x": [
            "ARNAU"
           ],
           "xaxis": "x",
           "y": [
            98
           ],
           "yaxis": "y"
          },
          {
           "alignmentgroup": "True",
           "hovertemplate": "Name=%{x}<br>Year=2008<br>Number=%{y}<extra></extra>",
           "legendgroup": "JAN",
           "marker": {
            "color": "#19d3f3"
           },
           "name": "JAN",
           "offsetgroup": "JAN",
           "orientation": "v",
           "showlegend": true,
           "textposition": "auto",
           "type": "bar",
           "x": [
            "JAN"
           ],
           "xaxis": "x",
           "y": [
            106
           ],
           "yaxis": "y"
          },
          {
           "alignmentgroup": "True",
           "hovertemplate": "Name=%{x}<br>Year=2008<br>Number=%{y}<extra></extra>",
           "legendgroup": "MARTI",
           "marker": {
            "color": "#FF6692"
           },
           "name": "MARTI",
           "offsetgroup": "MARTI",
           "orientation": "v",
           "showlegend": true,
           "textposition": "auto",
           "type": "bar",
           "x": [
            "MARTI"
           ],
           "xaxis": "x",
           "y": [
            98
           ],
           "yaxis": "y"
          },
          {
           "alignmentgroup": "True",
           "hovertemplate": "Name=%{x}<br>Year=2008<br>Number=%{y}<extra></extra>",
           "legendgroup": "ERIC",
           "marker": {
            "color": "#B6E880"
           },
           "name": "ERIC",
           "offsetgroup": "ERIC",
           "orientation": "v",
           "showlegend": true,
           "textposition": "auto",
           "type": "bar",
           "x": [
            "ERIC"
           ],
           "xaxis": "x",
           "y": [
            100
           ],
           "yaxis": "y"
          }
         ],
         "name": "2008"
        },
        {
         "data": [
          {
           "alignmentgroup": "True",
           "hovertemplate": "Name=%{x}<br>Year=2009<br>Number=%{y}<extra></extra>",
           "legendgroup": "MARC",
           "marker": {
            "color": "#636efa"
           },
           "name": "MARC",
           "offsetgroup": "MARC",
           "orientation": "v",
           "showlegend": true,
           "textposition": "auto",
           "type": "bar",
           "x": [
            "MARC"
           ],
           "xaxis": "x",
           "y": [
            194
           ],
           "yaxis": "y"
          },
          {
           "alignmentgroup": "True",
           "hovertemplate": "Name=%{x}<br>Year=2009<br>Number=%{y}<extra></extra>",
           "legendgroup": "DANIEL",
           "marker": {
            "color": "#00cc96"
           },
           "name": "DANIEL",
           "offsetgroup": "DANIEL",
           "orientation": "v",
           "showlegend": true,
           "textposition": "auto",
           "type": "bar",
           "x": [
            "DANIEL"
           ],
           "xaxis": "x",
           "y": [
            98
           ],
           "yaxis": "y"
          },
          {
           "alignmentgroup": "True",
           "hovertemplate": "Name=%{x}<br>Year=2009<br>Number=%{y}<extra></extra>",
           "legendgroup": "POL",
           "marker": {
            "color": "#FF97FF"
           },
           "name": "POL",
           "offsetgroup": "POL",
           "orientation": "v",
           "showlegend": true,
           "textposition": "auto",
           "type": "bar",
           "x": [
            "POL"
           ],
           "xaxis": "x",
           "y": [
            146
           ],
           "yaxis": "y"
          },
          {
           "alignmentgroup": "True",
           "hovertemplate": "Name=%{x}<br>Year=2009<br>Number=%{y}<extra></extra>",
           "legendgroup": "ALEX",
           "marker": {
            "color": "#FECB52"
           },
           "name": "ALEX",
           "offsetgroup": "ALEX",
           "orientation": "v",
           "showlegend": true,
           "textposition": "auto",
           "type": "bar",
           "x": [
            "ALEX"
           ],
           "xaxis": "x",
           "y": [
            150
           ],
           "yaxis": "y"
          },
          {
           "alignmentgroup": "True",
           "hovertemplate": "Name=%{x}<br>Year=2009<br>Number=%{y}<extra></extra>",
           "legendgroup": "PAU",
           "marker": {
            "color": "#636efa"
           },
           "name": "PAU",
           "offsetgroup": "PAU",
           "orientation": "v",
           "showlegend": true,
           "textposition": "auto",
           "type": "bar",
           "x": [
            "PAU"
           ],
           "xaxis": "x",
           "y": [
            165
           ],
           "yaxis": "y"
          },
          {
           "alignmentgroup": "True",
           "hovertemplate": "Name=%{x}<br>Year=2009<br>Number=%{y}<extra></extra>",
           "legendgroup": "ARNAU",
           "marker": {
            "color": "#EF553B"
           },
           "name": "ARNAU",
           "offsetgroup": "ARNAU",
           "orientation": "v",
           "showlegend": true,
           "textposition": "auto",
           "type": "bar",
           "x": [
            "ARNAU"
           ],
           "xaxis": "x",
           "y": [
            106
           ],
           "yaxis": "y"
          },
          {
           "alignmentgroup": "True",
           "hovertemplate": "Name=%{x}<br>Year=2009<br>Number=%{y}<extra></extra>",
           "legendgroup": "JAN",
           "marker": {
            "color": "#19d3f3"
           },
           "name": "JAN",
           "offsetgroup": "JAN",
           "orientation": "v",
           "showlegend": true,
           "textposition": "auto",
           "type": "bar",
           "x": [
            "JAN"
           ],
           "xaxis": "x",
           "y": [
            100
           ],
           "yaxis": "y"
          },
          {
           "alignmentgroup": "True",
           "hovertemplate": "Name=%{x}<br>Year=2009<br>Number=%{y}<extra></extra>",
           "legendgroup": "MARTI",
           "marker": {
            "color": "#FF6692"
           },
           "name": "MARTI",
           "offsetgroup": "MARTI",
           "orientation": "v",
           "showlegend": true,
           "textposition": "auto",
           "type": "bar",
           "x": [
            "MARTI"
           ],
           "xaxis": "x",
           "y": [
            116
           ],
           "yaxis": "y"
          },
          {
           "alignmentgroup": "True",
           "hovertemplate": "Name=%{x}<br>Year=2009<br>Number=%{y}<extra></extra>",
           "legendgroup": "ERIC",
           "marker": {
            "color": "#B6E880"
           },
           "name": "ERIC",
           "offsetgroup": "ERIC",
           "orientation": "v",
           "showlegend": true,
           "textposition": "auto",
           "type": "bar",
           "x": [
            "ERIC"
           ],
           "xaxis": "x",
           "y": [
            130
           ],
           "yaxis": "y"
          },
          {
           "alignmentgroup": "True",
           "hovertemplate": "Name=%{x}<br>Year=2009<br>Number=%{y}<extra></extra>",
           "legendgroup": "HUGO",
           "marker": {
            "color": "#FF97FF"
           },
           "name": "HUGO",
           "offsetgroup": "HUGO",
           "orientation": "v",
           "showlegend": true,
           "textposition": "auto",
           "type": "bar",
           "x": [
            "HUGO"
           ],
           "xaxis": "x",
           "y": [
            89
           ],
           "yaxis": "y"
          }
         ],
         "name": "2009"
        },
        {
         "data": [
          {
           "alignmentgroup": "True",
           "hovertemplate": "Name=%{x}<br>Year=2010<br>Number=%{y}<extra></extra>",
           "legendgroup": "MARC",
           "marker": {
            "color": "#636efa"
           },
           "name": "MARC",
           "offsetgroup": "MARC",
           "orientation": "v",
           "showlegend": true,
           "textposition": "auto",
           "type": "bar",
           "x": [
            "MARC"
           ],
           "xaxis": "x",
           "y": [
            195
           ],
           "yaxis": "y"
          },
          {
           "alignmentgroup": "True",
           "hovertemplate": "Name=%{x}<br>Year=2010<br>Number=%{y}<extra></extra>",
           "legendgroup": "DANIEL",
           "marker": {
            "color": "#00cc96"
           },
           "name": "DANIEL",
           "offsetgroup": "DANIEL",
           "orientation": "v",
           "showlegend": true,
           "textposition": "auto",
           "type": "bar",
           "x": [
            "DANIEL"
           ],
           "xaxis": "x",
           "y": [
            103
           ],
           "yaxis": "y"
          },
          {
           "alignmentgroup": "True",
           "hovertemplate": "Name=%{x}<br>Year=2010<br>Number=%{y}<extra></extra>",
           "legendgroup": "POL",
           "marker": {
            "color": "#FF97FF"
           },
           "name": "POL",
           "offsetgroup": "POL",
           "orientation": "v",
           "showlegend": true,
           "textposition": "auto",
           "type": "bar",
           "x": [
            "POL"
           ],
           "xaxis": "x",
           "y": [
            148
           ],
           "yaxis": "y"
          },
          {
           "alignmentgroup": "True",
           "hovertemplate": "Name=%{x}<br>Year=2010<br>Number=%{y}<extra></extra>",
           "legendgroup": "ALEX",
           "marker": {
            "color": "#FECB52"
           },
           "name": "ALEX",
           "offsetgroup": "ALEX",
           "orientation": "v",
           "showlegend": true,
           "textposition": "auto",
           "type": "bar",
           "x": [
            "ALEX"
           ],
           "xaxis": "x",
           "y": [
            143
           ],
           "yaxis": "y"
          },
          {
           "alignmentgroup": "True",
           "hovertemplate": "Name=%{x}<br>Year=2010<br>Number=%{y}<extra></extra>",
           "legendgroup": "PAU",
           "marker": {
            "color": "#636efa"
           },
           "name": "PAU",
           "offsetgroup": "PAU",
           "orientation": "v",
           "showlegend": true,
           "textposition": "auto",
           "type": "bar",
           "x": [
            "PAU"
           ],
           "xaxis": "x",
           "y": [
            134
           ],
           "yaxis": "y"
          },
          {
           "alignmentgroup": "True",
           "hovertemplate": "Name=%{x}<br>Year=2010<br>Number=%{y}<extra></extra>",
           "legendgroup": "ARNAU",
           "marker": {
            "color": "#EF553B"
           },
           "name": "ARNAU",
           "offsetgroup": "ARNAU",
           "orientation": "v",
           "showlegend": true,
           "textposition": "auto",
           "type": "bar",
           "x": [
            "ARNAU"
           ],
           "xaxis": "x",
           "y": [
            110
           ],
           "yaxis": "y"
          },
          {
           "alignmentgroup": "True",
           "hovertemplate": "Name=%{x}<br>Year=2010<br>Number=%{y}<extra></extra>",
           "legendgroup": "GERARD",
           "marker": {
            "color": "#00cc96"
           },
           "name": "GERARD",
           "offsetgroup": "GERARD",
           "orientation": "v",
           "showlegend": true,
           "textposition": "auto",
           "type": "bar",
           "x": [
            "GERARD"
           ],
           "xaxis": "x",
           "y": [
            100
           ],
           "yaxis": "y"
          },
          {
           "alignmentgroup": "True",
           "hovertemplate": "Name=%{x}<br>Year=2010<br>Number=%{y}<extra></extra>",
           "legendgroup": "JAN",
           "marker": {
            "color": "#19d3f3"
           },
           "name": "JAN",
           "offsetgroup": "JAN",
           "orientation": "v",
           "showlegend": true,
           "textposition": "auto",
           "type": "bar",
           "x": [
            "JAN"
           ],
           "xaxis": "x",
           "y": [
            98
           ],
           "yaxis": "y"
          },
          {
           "alignmentgroup": "True",
           "hovertemplate": "Name=%{x}<br>Year=2010<br>Number=%{y}<extra></extra>",
           "legendgroup": "MARTI",
           "marker": {
            "color": "#FF6692"
           },
           "name": "MARTI",
           "offsetgroup": "MARTI",
           "orientation": "v",
           "showlegend": true,
           "textposition": "auto",
           "type": "bar",
           "x": [
            "MARTI"
           ],
           "xaxis": "x",
           "y": [
            124
           ],
           "yaxis": "y"
          },
          {
           "alignmentgroup": "True",
           "hovertemplate": "Name=%{x}<br>Year=2010<br>Number=%{y}<extra></extra>",
           "legendgroup": "ERIC",
           "marker": {
            "color": "#B6E880"
           },
           "name": "ERIC",
           "offsetgroup": "ERIC",
           "orientation": "v",
           "showlegend": true,
           "textposition": "auto",
           "type": "bar",
           "x": [
            "ERIC"
           ],
           "xaxis": "x",
           "y": [
            117
           ],
           "yaxis": "y"
          }
         ],
         "name": "2010"
        },
        {
         "data": [
          {
           "alignmentgroup": "True",
           "hovertemplate": "Name=%{x}<br>Year=2011<br>Number=%{y}<extra></extra>",
           "legendgroup": "MARC",
           "marker": {
            "color": "#636efa"
           },
           "name": "MARC",
           "offsetgroup": "MARC",
           "orientation": "v",
           "showlegend": true,
           "textposition": "auto",
           "type": "bar",
           "x": [
            "MARC"
           ],
           "xaxis": "x",
           "y": [
            209
           ],
           "yaxis": "y"
          },
          {
           "alignmentgroup": "True",
           "hovertemplate": "Name=%{x}<br>Year=2011<br>Number=%{y}<extra></extra>",
           "legendgroup": "DAVID",
           "marker": {
            "color": "#EF553B"
           },
           "name": "DAVID",
           "offsetgroup": "DAVID",
           "orientation": "v",
           "showlegend": true,
           "textposition": "auto",
           "type": "bar",
           "x": [
            "DAVID"
           ],
           "xaxis": "x",
           "y": [
            85
           ],
           "yaxis": "y"
          },
          {
           "alignmentgroup": "True",
           "hovertemplate": "Name=%{x}<br>Year=2011<br>Number=%{y}<extra></extra>",
           "legendgroup": "POL",
           "marker": {
            "color": "#FF97FF"
           },
           "name": "POL",
           "offsetgroup": "POL",
           "orientation": "v",
           "showlegend": true,
           "textposition": "auto",
           "type": "bar",
           "x": [
            "POL"
           ],
           "xaxis": "x",
           "y": [
            124
           ],
           "yaxis": "y"
          },
          {
           "alignmentgroup": "True",
           "hovertemplate": "Name=%{x}<br>Year=2011<br>Number=%{y}<extra></extra>",
           "legendgroup": "ALEX",
           "marker": {
            "color": "#FECB52"
           },
           "name": "ALEX",
           "offsetgroup": "ALEX",
           "orientation": "v",
           "showlegend": true,
           "textposition": "auto",
           "type": "bar",
           "x": [
            "ALEX"
           ],
           "xaxis": "x",
           "y": [
            142
           ],
           "yaxis": "y"
          },
          {
           "alignmentgroup": "True",
           "hovertemplate": "Name=%{x}<br>Year=2011<br>Number=%{y}<extra></extra>",
           "legendgroup": "PAU",
           "marker": {
            "color": "#636efa"
           },
           "name": "PAU",
           "offsetgroup": "PAU",
           "orientation": "v",
           "showlegend": true,
           "textposition": "auto",
           "type": "bar",
           "x": [
            "PAU"
           ],
           "xaxis": "x",
           "y": [
            118
           ],
           "yaxis": "y"
          },
          {
           "alignmentgroup": "True",
           "hovertemplate": "Name=%{x}<br>Year=2011<br>Number=%{y}<extra></extra>",
           "legendgroup": "ARNAU",
           "marker": {
            "color": "#EF553B"
           },
           "name": "ARNAU",
           "offsetgroup": "ARNAU",
           "orientation": "v",
           "showlegend": true,
           "textposition": "auto",
           "type": "bar",
           "x": [
            "ARNAU"
           ],
           "xaxis": "x",
           "y": [
            95
           ],
           "yaxis": "y"
          },
          {
           "alignmentgroup": "True",
           "hovertemplate": "Name=%{x}<br>Year=2011<br>Number=%{y}<extra></extra>",
           "legendgroup": "GERARD",
           "marker": {
            "color": "#00cc96"
           },
           "name": "GERARD",
           "offsetgroup": "GERARD",
           "orientation": "v",
           "showlegend": true,
           "textposition": "auto",
           "type": "bar",
           "x": [
            "GERARD"
           ],
           "xaxis": "x",
           "y": [
            99
           ],
           "yaxis": "y"
          },
          {
           "alignmentgroup": "True",
           "hovertemplate": "Name=%{x}<br>Year=2011<br>Number=%{y}<extra></extra>",
           "legendgroup": "MARTI",
           "marker": {
            "color": "#FF6692"
           },
           "name": "MARTI",
           "offsetgroup": "MARTI",
           "orientation": "v",
           "showlegend": true,
           "textposition": "auto",
           "type": "bar",
           "x": [
            "MARTI"
           ],
           "xaxis": "x",
           "y": [
            103
           ],
           "yaxis": "y"
          },
          {
           "alignmentgroup": "True",
           "hovertemplate": "Name=%{x}<br>Year=2011<br>Number=%{y}<extra></extra>",
           "legendgroup": "ERIC",
           "marker": {
            "color": "#B6E880"
           },
           "name": "ERIC",
           "offsetgroup": "ERIC",
           "orientation": "v",
           "showlegend": true,
           "textposition": "auto",
           "type": "bar",
           "x": [
            "ERIC"
           ],
           "xaxis": "x",
           "y": [
            113
           ],
           "yaxis": "y"
          },
          {
           "alignmentgroup": "True",
           "hovertemplate": "Name=%{x}<br>Year=2011<br>Number=%{y}<extra></extra>",
           "legendgroup": "BIEL",
           "marker": {
            "color": "#FECB52"
           },
           "name": "BIEL",
           "offsetgroup": "BIEL",
           "orientation": "v",
           "showlegend": true,
           "textposition": "auto",
           "type": "bar",
           "x": [
            "BIEL"
           ],
           "xaxis": "x",
           "y": [
            87
           ],
           "yaxis": "y"
          }
         ],
         "name": "2011"
        },
        {
         "data": [
          {
           "alignmentgroup": "True",
           "hovertemplate": "Name=%{x}<br>Year=2012<br>Number=%{y}<extra></extra>",
           "legendgroup": "MARC",
           "marker": {
            "color": "#636efa"
           },
           "name": "MARC",
           "offsetgroup": "MARC",
           "orientation": "v",
           "showlegend": true,
           "textposition": "auto",
           "type": "bar",
           "x": [
            "MARC"
           ],
           "xaxis": "x",
           "y": [
            206
           ],
           "yaxis": "y"
          },
          {
           "alignmentgroup": "True",
           "hovertemplate": "Name=%{x}<br>Year=2012<br>Number=%{y}<extra></extra>",
           "legendgroup": "POL",
           "marker": {
            "color": "#FF97FF"
           },
           "name": "POL",
           "offsetgroup": "POL",
           "orientation": "v",
           "showlegend": true,
           "textposition": "auto",
           "type": "bar",
           "x": [
            "POL"
           ],
           "xaxis": "x",
           "y": [
            138
           ],
           "yaxis": "y"
          },
          {
           "alignmentgroup": "True",
           "hovertemplate": "Name=%{x}<br>Year=2012<br>Number=%{y}<extra></extra>",
           "legendgroup": "ALEX",
           "marker": {
            "color": "#FECB52"
           },
           "name": "ALEX",
           "offsetgroup": "ALEX",
           "orientation": "v",
           "showlegend": true,
           "textposition": "auto",
           "type": "bar",
           "x": [
            "ALEX"
           ],
           "xaxis": "x",
           "y": [
            120
           ],
           "yaxis": "y"
          },
          {
           "alignmentgroup": "True",
           "hovertemplate": "Name=%{x}<br>Year=2012<br>Number=%{y}<extra></extra>",
           "legendgroup": "PAU",
           "marker": {
            "color": "#636efa"
           },
           "name": "PAU",
           "offsetgroup": "PAU",
           "orientation": "v",
           "showlegend": true,
           "textposition": "auto",
           "type": "bar",
           "x": [
            "PAU"
           ],
           "xaxis": "x",
           "y": [
            110
           ],
           "yaxis": "y"
          },
          {
           "alignmentgroup": "True",
           "hovertemplate": "Name=%{x}<br>Year=2012<br>Number=%{y}<extra></extra>",
           "legendgroup": "ARNAU",
           "marker": {
            "color": "#EF553B"
           },
           "name": "ARNAU",
           "offsetgroup": "ARNAU",
           "orientation": "v",
           "showlegend": true,
           "textposition": "auto",
           "type": "bar",
           "x": [
            "ARNAU"
           ],
           "xaxis": "x",
           "y": [
            101
           ],
           "yaxis": "y"
          },
          {
           "alignmentgroup": "True",
           "hovertemplate": "Name=%{x}<br>Year=2012<br>Number=%{y}<extra></extra>",
           "legendgroup": "GERARD",
           "marker": {
            "color": "#00cc96"
           },
           "name": "GERARD",
           "offsetgroup": "GERARD",
           "orientation": "v",
           "showlegend": true,
           "textposition": "auto",
           "type": "bar",
           "x": [
            "GERARD"
           ],
           "xaxis": "x",
           "y": [
            98
           ],
           "yaxis": "y"
          },
          {
           "alignmentgroup": "True",
           "hovertemplate": "Name=%{x}<br>Year=2012<br>Number=%{y}<extra></extra>",
           "legendgroup": "JAN",
           "marker": {
            "color": "#19d3f3"
           },
           "name": "JAN",
           "offsetgroup": "JAN",
           "orientation": "v",
           "showlegend": true,
           "textposition": "auto",
           "type": "bar",
           "x": [
            "JAN"
           ],
           "xaxis": "x",
           "y": [
            98
           ],
           "yaxis": "y"
          },
          {
           "alignmentgroup": "True",
           "hovertemplate": "Name=%{x}<br>Year=2012<br>Number=%{y}<extra></extra>",
           "legendgroup": "MARTI",
           "marker": {
            "color": "#FF6692"
           },
           "name": "MARTI",
           "offsetgroup": "MARTI",
           "orientation": "v",
           "showlegend": true,
           "textposition": "auto",
           "type": "bar",
           "x": [
            "MARTI"
           ],
           "xaxis": "x",
           "y": [
            99
           ],
           "yaxis": "y"
          },
          {
           "alignmentgroup": "True",
           "hovertemplate": "Name=%{x}<br>Year=2012<br>Number=%{y}<extra></extra>",
           "legendgroup": "ERIC",
           "marker": {
            "color": "#B6E880"
           },
           "name": "ERIC",
           "offsetgroup": "ERIC",
           "orientation": "v",
           "showlegend": true,
           "textposition": "auto",
           "type": "bar",
           "x": [
            "ERIC"
           ],
           "xaxis": "x",
           "y": [
            125
           ],
           "yaxis": "y"
          },
          {
           "alignmentgroup": "True",
           "hovertemplate": "Name=%{x}<br>Year=2012<br>Number=%{y}<extra></extra>",
           "legendgroup": "BIEL",
           "marker": {
            "color": "#FECB52"
           },
           "name": "BIEL",
           "offsetgroup": "BIEL",
           "orientation": "v",
           "showlegend": true,
           "textposition": "auto",
           "type": "bar",
           "x": [
            "BIEL"
           ],
           "xaxis": "x",
           "y": [
            95
           ],
           "yaxis": "y"
          }
         ],
         "name": "2012"
        },
        {
         "data": [
          {
           "alignmentgroup": "True",
           "hovertemplate": "Name=%{x}<br>Year=2013<br>Number=%{y}<extra></extra>",
           "legendgroup": "MARC",
           "marker": {
            "color": "#636efa"
           },
           "name": "MARC",
           "offsetgroup": "MARC",
           "orientation": "v",
           "showlegend": true,
           "textposition": "auto",
           "type": "bar",
           "x": [
            "MARC"
           ],
           "xaxis": "x",
           "y": [
            175
           ],
           "yaxis": "y"
          },
          {
           "alignmentgroup": "True",
           "hovertemplate": "Name=%{x}<br>Year=2013<br>Number=%{y}<extra></extra>",
           "legendgroup": "POL",
           "marker": {
            "color": "#FF97FF"
           },
           "name": "POL",
           "offsetgroup": "POL",
           "orientation": "v",
           "showlegend": true,
           "textposition": "auto",
           "type": "bar",
           "x": [
            "POL"
           ],
           "xaxis": "x",
           "y": [
            126
           ],
           "yaxis": "y"
          },
          {
           "alignmentgroup": "True",
           "hovertemplate": "Name=%{x}<br>Year=2013<br>Number=%{y}<extra></extra>",
           "legendgroup": "ALEX",
           "marker": {
            "color": "#FECB52"
           },
           "name": "ALEX",
           "offsetgroup": "ALEX",
           "orientation": "v",
           "showlegend": true,
           "textposition": "auto",
           "type": "bar",
           "x": [
            "ALEX"
           ],
           "xaxis": "x",
           "y": [
            122
           ],
           "yaxis": "y"
          },
          {
           "alignmentgroup": "True",
           "hovertemplate": "Name=%{x}<br>Year=2013<br>Number=%{y}<extra></extra>",
           "legendgroup": "PAU",
           "marker": {
            "color": "#636efa"
           },
           "name": "PAU",
           "offsetgroup": "PAU",
           "orientation": "v",
           "showlegend": true,
           "textposition": "auto",
           "type": "bar",
           "x": [
            "PAU"
           ],
           "xaxis": "x",
           "y": [
            129
           ],
           "yaxis": "y"
          },
          {
           "alignmentgroup": "True",
           "hovertemplate": "Name=%{x}<br>Year=2013<br>Number=%{y}<extra></extra>",
           "legendgroup": "ARNAU",
           "marker": {
            "color": "#EF553B"
           },
           "name": "ARNAU",
           "offsetgroup": "ARNAU",
           "orientation": "v",
           "showlegend": true,
           "textposition": "auto",
           "type": "bar",
           "x": [
            "ARNAU"
           ],
           "xaxis": "x",
           "y": [
            100
           ],
           "yaxis": "y"
          },
          {
           "alignmentgroup": "True",
           "hovertemplate": "Name=%{x}<br>Year=2013<br>Number=%{y}<extra></extra>",
           "legendgroup": "JAN",
           "marker": {
            "color": "#19d3f3"
           },
           "name": "JAN",
           "offsetgroup": "JAN",
           "orientation": "v",
           "showlegend": true,
           "textposition": "auto",
           "type": "bar",
           "x": [
            "JAN"
           ],
           "xaxis": "x",
           "y": [
            92
           ],
           "yaxis": "y"
          },
          {
           "alignmentgroup": "True",
           "hovertemplate": "Name=%{x}<br>Year=2013<br>Number=%{y}<extra></extra>",
           "legendgroup": "MARTI",
           "marker": {
            "color": "#FF6692"
           },
           "name": "MARTI",
           "offsetgroup": "MARTI",
           "orientation": "v",
           "showlegend": true,
           "textposition": "auto",
           "type": "bar",
           "x": [
            "MARTI"
           ],
           "xaxis": "x",
           "y": [
            95
           ],
           "yaxis": "y"
          },
          {
           "alignmentgroup": "True",
           "hovertemplate": "Name=%{x}<br>Year=2013<br>Number=%{y}<extra></extra>",
           "legendgroup": "ERIC",
           "marker": {
            "color": "#B6E880"
           },
           "name": "ERIC",
           "offsetgroup": "ERIC",
           "orientation": "v",
           "showlegend": true,
           "textposition": "auto",
           "type": "bar",
           "x": [
            "ERIC"
           ],
           "xaxis": "x",
           "y": [
            122
           ],
           "yaxis": "y"
          },
          {
           "alignmentgroup": "True",
           "hovertemplate": "Name=%{x}<br>Year=2013<br>Number=%{y}<extra></extra>",
           "legendgroup": "HUGO",
           "marker": {
            "color": "#FF97FF"
           },
           "name": "HUGO",
           "offsetgroup": "HUGO",
           "orientation": "v",
           "showlegend": true,
           "textposition": "auto",
           "type": "bar",
           "x": [
            "HUGO"
           ],
           "xaxis": "x",
           "y": [
            89
           ],
           "yaxis": "y"
          },
          {
           "alignmentgroup": "True",
           "hovertemplate": "Name=%{x}<br>Year=2013<br>Number=%{y}<extra></extra>",
           "legendgroup": "BIEL",
           "marker": {
            "color": "#FECB52"
           },
           "name": "BIEL",
           "offsetgroup": "BIEL",
           "orientation": "v",
           "showlegend": true,
           "textposition": "auto",
           "type": "bar",
           "x": [
            "BIEL"
           ],
           "xaxis": "x",
           "y": [
            95
           ],
           "yaxis": "y"
          }
         ],
         "name": "2013"
        },
        {
         "data": [
          {
           "alignmentgroup": "True",
           "hovertemplate": "Name=%{x}<br>Year=2014<br>Number=%{y}<extra></extra>",
           "legendgroup": "MARC",
           "marker": {
            "color": "#636efa"
           },
           "name": "MARC",
           "offsetgroup": "MARC",
           "orientation": "v",
           "showlegend": true,
           "textposition": "auto",
           "type": "bar",
           "x": [
            "MARC"
           ],
           "xaxis": "x",
           "y": [
            192
           ],
           "yaxis": "y"
          },
          {
           "alignmentgroup": "True",
           "hovertemplate": "Name=%{x}<br>Year=2014<br>Number=%{y}<extra></extra>",
           "legendgroup": "DANIEL",
           "marker": {
            "color": "#00cc96"
           },
           "name": "DANIEL",
           "offsetgroup": "DANIEL",
           "orientation": "v",
           "showlegend": true,
           "textposition": "auto",
           "type": "bar",
           "x": [
            "DANIEL"
           ],
           "xaxis": "x",
           "y": [
            89
           ],
           "yaxis": "y"
          },
          {
           "alignmentgroup": "True",
           "hovertemplate": "Name=%{x}<br>Year=2014<br>Number=%{y}<extra></extra>",
           "legendgroup": "POL",
           "marker": {
            "color": "#FF97FF"
           },
           "name": "POL",
           "offsetgroup": "POL",
           "orientation": "v",
           "showlegend": true,
           "textposition": "auto",
           "type": "bar",
           "x": [
            "POL"
           ],
           "xaxis": "x",
           "y": [
            137
           ],
           "yaxis": "y"
          },
          {
           "alignmentgroup": "True",
           "hovertemplate": "Name=%{x}<br>Year=2014<br>Number=%{y}<extra></extra>",
           "legendgroup": "ALEX",
           "marker": {
            "color": "#FECB52"
           },
           "name": "ALEX",
           "offsetgroup": "ALEX",
           "orientation": "v",
           "showlegend": true,
           "textposition": "auto",
           "type": "bar",
           "x": [
            "ALEX"
           ],
           "xaxis": "x",
           "y": [
            135
           ],
           "yaxis": "y"
          },
          {
           "alignmentgroup": "True",
           "hovertemplate": "Name=%{x}<br>Year=2014<br>Number=%{y}<extra></extra>",
           "legendgroup": "PAU",
           "marker": {
            "color": "#636efa"
           },
           "name": "PAU",
           "offsetgroup": "PAU",
           "orientation": "v",
           "showlegend": true,
           "textposition": "auto",
           "type": "bar",
           "x": [
            "PAU"
           ],
           "xaxis": "x",
           "y": [
            104
           ],
           "yaxis": "y"
          },
          {
           "alignmentgroup": "True",
           "hovertemplate": "Name=%{x}<br>Year=2014<br>Number=%{y}<extra></extra>",
           "legendgroup": "JAN",
           "marker": {
            "color": "#19d3f3"
           },
           "name": "JAN",
           "offsetgroup": "JAN",
           "orientation": "v",
           "showlegend": true,
           "textposition": "auto",
           "type": "bar",
           "x": [
            "JAN"
           ],
           "xaxis": "x",
           "y": [
            89
           ],
           "yaxis": "y"
          },
          {
           "alignmentgroup": "True",
           "hovertemplate": "Name=%{x}<br>Year=2014<br>Number=%{y}<extra></extra>",
           "legendgroup": "MARTI",
           "marker": {
            "color": "#FF6692"
           },
           "name": "MARTI",
           "offsetgroup": "MARTI",
           "orientation": "v",
           "showlegend": true,
           "textposition": "auto",
           "type": "bar",
           "x": [
            "MARTI"
           ],
           "xaxis": "x",
           "y": [
            116
           ],
           "yaxis": "y"
          },
          {
           "alignmentgroup": "True",
           "hovertemplate": "Name=%{x}<br>Year=2014<br>Number=%{y}<extra></extra>",
           "legendgroup": "ERIC",
           "marker": {
            "color": "#B6E880"
           },
           "name": "ERIC",
           "offsetgroup": "ERIC",
           "orientation": "v",
           "showlegend": true,
           "textposition": "auto",
           "type": "bar",
           "x": [
            "ERIC"
           ],
           "xaxis": "x",
           "y": [
            123
           ],
           "yaxis": "y"
          },
          {
           "alignmentgroup": "True",
           "hovertemplate": "Name=%{x}<br>Year=2014<br>Number=%{y}<extra></extra>",
           "legendgroup": "HUGO",
           "marker": {
            "color": "#FF97FF"
           },
           "name": "HUGO",
           "offsetgroup": "HUGO",
           "orientation": "v",
           "showlegend": true,
           "textposition": "auto",
           "type": "bar",
           "x": [
            "HUGO"
           ],
           "xaxis": "x",
           "y": [
            82
           ],
           "yaxis": "y"
          },
          {
           "alignmentgroup": "True",
           "hovertemplate": "Name=%{x}<br>Year=2014<br>Number=%{y}<extra></extra>",
           "legendgroup": "BIEL",
           "marker": {
            "color": "#FECB52"
           },
           "name": "BIEL",
           "offsetgroup": "BIEL",
           "orientation": "v",
           "showlegend": true,
           "textposition": "auto",
           "type": "bar",
           "x": [
            "BIEL"
           ],
           "xaxis": "x",
           "y": [
            90
           ],
           "yaxis": "y"
          }
         ],
         "name": "2014"
        },
        {
         "data": [
          {
           "alignmentgroup": "True",
           "hovertemplate": "Name=%{x}<br>Year=2015<br>Number=%{y}<extra></extra>",
           "legendgroup": "MARC",
           "marker": {
            "color": "#636efa"
           },
           "name": "MARC",
           "offsetgroup": "MARC",
           "orientation": "v",
           "showlegend": true,
           "textposition": "auto",
           "type": "bar",
           "x": [
            "MARC"
           ],
           "xaxis": "x",
           "y": [
            172
           ],
           "yaxis": "y"
          },
          {
           "alignmentgroup": "True",
           "hovertemplate": "Name=%{x}<br>Year=2015<br>Number=%{y}<extra></extra>",
           "legendgroup": "ALEX",
           "marker": {
            "color": "#FECB52"
           },
           "name": "ALEX",
           "offsetgroup": "ALEX",
           "orientation": "v",
           "showlegend": true,
           "textposition": "auto",
           "type": "bar",
           "x": [
            "ALEX"
           ],
           "xaxis": "x",
           "y": [
            110
           ],
           "yaxis": "y"
          },
          {
           "alignmentgroup": "True",
           "hovertemplate": "Name=%{x}<br>Year=2015<br>Number=%{y}<extra></extra>",
           "legendgroup": "PAU",
           "marker": {
            "color": "#636efa"
           },
           "name": "PAU",
           "offsetgroup": "PAU",
           "orientation": "v",
           "showlegend": true,
           "textposition": "auto",
           "type": "bar",
           "x": [
            "PAU"
           ],
           "xaxis": "x",
           "y": [
            108
           ],
           "yaxis": "y"
          },
          {
           "alignmentgroup": "True",
           "hovertemplate": "Name=%{x}<br>Year=2015<br>Number=%{y}<extra></extra>",
           "legendgroup": "ARNAU",
           "marker": {
            "color": "#EF553B"
           },
           "name": "ARNAU",
           "offsetgroup": "ARNAU",
           "orientation": "v",
           "showlegend": true,
           "textposition": "auto",
           "type": "bar",
           "x": [
            "ARNAU"
           ],
           "xaxis": "x",
           "y": [
            93
           ],
           "yaxis": "y"
          },
          {
           "alignmentgroup": "True",
           "hovertemplate": "Name=%{x}<br>Year=2015<br>Number=%{y}<extra></extra>",
           "legendgroup": "JAN",
           "marker": {
            "color": "#19d3f3"
           },
           "name": "JAN",
           "offsetgroup": "JAN",
           "orientation": "v",
           "showlegend": true,
           "textposition": "auto",
           "type": "bar",
           "x": [
            "JAN"
           ],
           "xaxis": "x",
           "y": [
            88
           ],
           "yaxis": "y"
          },
          {
           "alignmentgroup": "True",
           "hovertemplate": "Name=%{x}<br>Year=2015<br>Number=%{y}<extra></extra>",
           "legendgroup": "MARTI",
           "marker": {
            "color": "#FF6692"
           },
           "name": "MARTI",
           "offsetgroup": "MARTI",
           "orientation": "v",
           "showlegend": true,
           "textposition": "auto",
           "type": "bar",
           "x": [
            "MARTI"
           ],
           "xaxis": "x",
           "y": [
            133
           ],
           "yaxis": "y"
          },
          {
           "alignmentgroup": "True",
           "hovertemplate": "Name=%{x}<br>Year=2015<br>Number=%{y}<extra></extra>",
           "legendgroup": "ERIC",
           "marker": {
            "color": "#B6E880"
           },
           "name": "ERIC",
           "offsetgroup": "ERIC",
           "orientation": "v",
           "showlegend": true,
           "textposition": "auto",
           "type": "bar",
           "x": [
            "ERIC"
           ],
           "xaxis": "x",
           "y": [
            109
           ],
           "yaxis": "y"
          },
          {
           "alignmentgroup": "True",
           "hovertemplate": "Name=%{x}<br>Year=2015<br>Number=%{y}<extra></extra>",
           "legendgroup": "HUGO",
           "marker": {
            "color": "#FF97FF"
           },
           "name": "HUGO",
           "offsetgroup": "HUGO",
           "orientation": "v",
           "showlegend": true,
           "textposition": "auto",
           "type": "bar",
           "x": [
            "HUGO"
           ],
           "xaxis": "x",
           "y": [
            107
           ],
           "yaxis": "y"
          },
          {
           "alignmentgroup": "True",
           "hovertemplate": "Name=%{x}<br>Year=2015<br>Number=%{y}<extra></extra>",
           "legendgroup": "BIEL",
           "marker": {
            "color": "#FECB52"
           },
           "name": "BIEL",
           "offsetgroup": "BIEL",
           "orientation": "v",
           "showlegend": true,
           "textposition": "auto",
           "type": "bar",
           "x": [
            "BIEL"
           ],
           "xaxis": "x",
           "y": [
            99
           ],
           "yaxis": "y"
          },
          {
           "alignmentgroup": "True",
           "hovertemplate": "Name=%{x}<br>Year=2015<br>Number=%{y}<extra></extra>",
           "legendgroup": "NIL",
           "marker": {
            "color": "#636efa"
           },
           "name": "NIL",
           "offsetgroup": "NIL",
           "orientation": "v",
           "showlegend": true,
           "textposition": "auto",
           "type": "bar",
           "x": [
            "NIL"
           ],
           "xaxis": "x",
           "y": [
            88
           ],
           "yaxis": "y"
          }
         ],
         "name": "2015"
        },
        {
         "data": [
          {
           "alignmentgroup": "True",
           "hovertemplate": "Name=%{x}<br>Year=2016<br>Number=%{y}<extra></extra>",
           "legendgroup": "MARC",
           "marker": {
            "color": "#636efa"
           },
           "name": "MARC",
           "offsetgroup": "MARC",
           "orientation": "v",
           "showlegend": true,
           "textposition": "auto",
           "type": "bar",
           "x": [
            "MARC"
           ],
           "xaxis": "x",
           "y": [
            148
           ],
           "yaxis": "y"
          },
          {
           "alignmentgroup": "True",
           "hovertemplate": "Name=%{x}<br>Year=2016<br>Number=%{y}<extra></extra>",
           "legendgroup": "POL",
           "marker": {
            "color": "#FF97FF"
           },
           "name": "POL",
           "offsetgroup": "POL",
           "orientation": "v",
           "showlegend": true,
           "textposition": "auto",
           "type": "bar",
           "x": [
            "POL"
           ],
           "xaxis": "x",
           "y": [
            110
           ],
           "yaxis": "y"
          },
          {
           "alignmentgroup": "True",
           "hovertemplate": "Name=%{x}<br>Year=2016<br>Number=%{y}<extra></extra>",
           "legendgroup": "ALEX",
           "marker": {
            "color": "#FECB52"
           },
           "name": "ALEX",
           "offsetgroup": "ALEX",
           "orientation": "v",
           "showlegend": true,
           "textposition": "auto",
           "type": "bar",
           "x": [
            "ALEX"
           ],
           "xaxis": "x",
           "y": [
            140
           ],
           "yaxis": "y"
          },
          {
           "alignmentgroup": "True",
           "hovertemplate": "Name=%{x}<br>Year=2016<br>Number=%{y}<extra></extra>",
           "legendgroup": "PAU",
           "marker": {
            "color": "#636efa"
           },
           "name": "PAU",
           "offsetgroup": "PAU",
           "orientation": "v",
           "showlegend": true,
           "textposition": "auto",
           "type": "bar",
           "x": [
            "PAU"
           ],
           "xaxis": "x",
           "y": [
            107
           ],
           "yaxis": "y"
          },
          {
           "alignmentgroup": "True",
           "hovertemplate": "Name=%{x}<br>Year=2016<br>Number=%{y}<extra></extra>",
           "legendgroup": "JAN",
           "marker": {
            "color": "#19d3f3"
           },
           "name": "JAN",
           "offsetgroup": "JAN",
           "orientation": "v",
           "showlegend": true,
           "textposition": "auto",
           "type": "bar",
           "x": [
            "JAN"
           ],
           "xaxis": "x",
           "y": [
            91
           ],
           "yaxis": "y"
          },
          {
           "alignmentgroup": "True",
           "hovertemplate": "Name=%{x}<br>Year=2016<br>Number=%{y}<extra></extra>",
           "legendgroup": "MARTI",
           "marker": {
            "color": "#FF6692"
           },
           "name": "MARTI",
           "offsetgroup": "MARTI",
           "orientation": "v",
           "showlegend": true,
           "textposition": "auto",
           "type": "bar",
           "x": [
            "MARTI"
           ],
           "xaxis": "x",
           "y": [
            104
           ],
           "yaxis": "y"
          },
          {
           "alignmentgroup": "True",
           "hovertemplate": "Name=%{x}<br>Year=2016<br>Number=%{y}<extra></extra>",
           "legendgroup": "ERIC",
           "marker": {
            "color": "#B6E880"
           },
           "name": "ERIC",
           "offsetgroup": "ERIC",
           "orientation": "v",
           "showlegend": true,
           "textposition": "auto",
           "type": "bar",
           "x": [
            "ERIC"
           ],
           "xaxis": "x",
           "y": [
            109
           ],
           "yaxis": "y"
          },
          {
           "alignmentgroup": "True",
           "hovertemplate": "Name=%{x}<br>Year=2016<br>Number=%{y}<extra></extra>",
           "legendgroup": "BIEL",
           "marker": {
            "color": "#FECB52"
           },
           "name": "BIEL",
           "offsetgroup": "BIEL",
           "orientation": "v",
           "showlegend": true,
           "textposition": "auto",
           "type": "bar",
           "x": [
            "BIEL"
           ],
           "xaxis": "x",
           "y": [
            99
           ],
           "yaxis": "y"
          },
          {
           "alignmentgroup": "True",
           "hovertemplate": "Name=%{x}<br>Year=2016<br>Number=%{y}<extra></extra>",
           "legendgroup": "BRUNO",
           "marker": {
            "color": "#EF553B"
           },
           "name": "BRUNO",
           "offsetgroup": "BRUNO",
           "orientation": "v",
           "showlegend": true,
           "textposition": "auto",
           "type": "bar",
           "x": [
            "BRUNO"
           ],
           "xaxis": "x",
           "y": [
            93
           ],
           "yaxis": "y"
          },
          {
           "alignmentgroup": "True",
           "hovertemplate": "Name=%{x}<br>Year=2016<br>Number=%{y}<extra></extra>",
           "legendgroup": "LUCAS",
           "marker": {
            "color": "#00cc96"
           },
           "name": "LUCAS",
           "offsetgroup": "LUCAS",
           "orientation": "v",
           "showlegend": true,
           "textposition": "auto",
           "type": "bar",
           "x": [
            "LUCAS"
           ],
           "xaxis": "x",
           "y": [
            93
           ],
           "yaxis": "y"
          }
         ],
         "name": "2016"
        },
        {
         "data": [
          {
           "alignmentgroup": "True",
           "hovertemplate": "Name=%{x}<br>Year=2017<br>Number=%{y}<extra></extra>",
           "legendgroup": "MARC",
           "marker": {
            "color": "#636efa"
           },
           "name": "MARC",
           "offsetgroup": "MARC",
           "orientation": "v",
           "showlegend": true,
           "textposition": "auto",
           "type": "bar",
           "x": [
            "MARC"
           ],
           "xaxis": "x",
           "y": [
            133
           ],
           "yaxis": "y"
          },
          {
           "alignmentgroup": "True",
           "hovertemplate": "Name=%{x}<br>Year=2017<br>Number=%{y}<extra></extra>",
           "legendgroup": "POL",
           "marker": {
            "color": "#FF97FF"
           },
           "name": "POL",
           "offsetgroup": "POL",
           "orientation": "v",
           "showlegend": true,
           "textposition": "auto",
           "type": "bar",
           "x": [
            "POL"
           ],
           "xaxis": "x",
           "y": [
            139
           ],
           "yaxis": "y"
          },
          {
           "alignmentgroup": "True",
           "hovertemplate": "Name=%{x}<br>Year=2017<br>Number=%{y}<extra></extra>",
           "legendgroup": "ALEX",
           "marker": {
            "color": "#FECB52"
           },
           "name": "ALEX",
           "offsetgroup": "ALEX",
           "orientation": "v",
           "showlegend": true,
           "textposition": "auto",
           "type": "bar",
           "x": [
            "ALEX"
           ],
           "xaxis": "x",
           "y": [
            125
           ],
           "yaxis": "y"
          },
          {
           "alignmentgroup": "True",
           "hovertemplate": "Name=%{x}<br>Year=2017<br>Number=%{y}<extra></extra>",
           "legendgroup": "PAU",
           "marker": {
            "color": "#636efa"
           },
           "name": "PAU",
           "offsetgroup": "PAU",
           "orientation": "v",
           "showlegend": true,
           "textposition": "auto",
           "type": "bar",
           "x": [
            "PAU"
           ],
           "xaxis": "x",
           "y": [
            86
           ],
           "yaxis": "y"
          },
          {
           "alignmentgroup": "True",
           "hovertemplate": "Name=%{x}<br>Year=2017<br>Number=%{y}<extra></extra>",
           "legendgroup": "ARNAU",
           "marker": {
            "color": "#EF553B"
           },
           "name": "ARNAU",
           "offsetgroup": "ARNAU",
           "orientation": "v",
           "showlegend": true,
           "textposition": "auto",
           "type": "bar",
           "x": [
            "ARNAU"
           ],
           "xaxis": "x",
           "y": [
            79
           ],
           "yaxis": "y"
          },
          {
           "alignmentgroup": "True",
           "hovertemplate": "Name=%{x}<br>Year=2017<br>Number=%{y}<extra></extra>",
           "legendgroup": "JAN",
           "marker": {
            "color": "#19d3f3"
           },
           "name": "JAN",
           "offsetgroup": "JAN",
           "orientation": "v",
           "showlegend": true,
           "textposition": "auto",
           "type": "bar",
           "x": [
            "JAN"
           ],
           "xaxis": "x",
           "y": [
            85
           ],
           "yaxis": "y"
          },
          {
           "alignmentgroup": "True",
           "hovertemplate": "Name=%{x}<br>Year=2017<br>Number=%{y}<extra></extra>",
           "legendgroup": "ERIC",
           "marker": {
            "color": "#B6E880"
           },
           "name": "ERIC",
           "offsetgroup": "ERIC",
           "orientation": "v",
           "showlegend": true,
           "textposition": "auto",
           "type": "bar",
           "x": [
            "ERIC"
           ],
           "xaxis": "x",
           "y": [
            99
           ],
           "yaxis": "y"
          },
          {
           "alignmentgroup": "True",
           "hovertemplate": "Name=%{x}<br>Year=2017<br>Number=%{y}<extra></extra>",
           "legendgroup": "BRUNO",
           "marker": {
            "color": "#EF553B"
           },
           "name": "BRUNO",
           "offsetgroup": "BRUNO",
           "orientation": "v",
           "showlegend": true,
           "textposition": "auto",
           "type": "bar",
           "x": [
            "BRUNO"
           ],
           "xaxis": "x",
           "y": [
            85
           ],
           "yaxis": "y"
          },
          {
           "alignmentgroup": "True",
           "hovertemplate": "Name=%{x}<br>Year=2017<br>Number=%{y}<extra></extra>",
           "legendgroup": "LUCAS",
           "marker": {
            "color": "#00cc96"
           },
           "name": "LUCAS",
           "offsetgroup": "LUCAS",
           "orientation": "v",
           "showlegend": true,
           "textposition": "auto",
           "type": "bar",
           "x": [
            "LUCAS"
           ],
           "xaxis": "x",
           "y": [
            104
           ],
           "yaxis": "y"
          },
          {
           "alignmentgroup": "True",
           "hovertemplate": "Name=%{x}<br>Year=2017<br>Number=%{y}<extra></extra>",
           "legendgroup": "LEO",
           "marker": {
            "color": "#ab63fa"
           },
           "name": "LEO",
           "offsetgroup": "LEO",
           "orientation": "v",
           "showlegend": true,
           "textposition": "auto",
           "type": "bar",
           "x": [
            "LEO"
           ],
           "xaxis": "x",
           "y": [
            81
           ],
           "yaxis": "y"
          }
         ],
         "name": "2017"
        },
        {
         "data": [
          {
           "alignmentgroup": "True",
           "hovertemplate": "Name=%{x}<br>Year=2018<br>Number=%{y}<extra></extra>",
           "legendgroup": "MARC",
           "marker": {
            "color": "#636efa"
           },
           "name": "MARC",
           "offsetgroup": "MARC",
           "orientation": "v",
           "showlegend": true,
           "textposition": "auto",
           "type": "bar",
           "x": [
            "MARC"
           ],
           "xaxis": "x",
           "y": [
            121
           ],
           "yaxis": "y"
          },
          {
           "alignmentgroup": "True",
           "hovertemplate": "Name=%{x}<br>Year=2018<br>Number=%{y}<extra></extra>",
           "legendgroup": "POL",
           "marker": {
            "color": "#FF97FF"
           },
           "name": "POL",
           "offsetgroup": "POL",
           "orientation": "v",
           "showlegend": true,
           "textposition": "auto",
           "type": "bar",
           "x": [
            "POL"
           ],
           "xaxis": "x",
           "y": [
            112
           ],
           "yaxis": "y"
          },
          {
           "alignmentgroup": "True",
           "hovertemplate": "Name=%{x}<br>Year=2018<br>Number=%{y}<extra></extra>",
           "legendgroup": "ALEX",
           "marker": {
            "color": "#FECB52"
           },
           "name": "ALEX",
           "offsetgroup": "ALEX",
           "orientation": "v",
           "showlegend": true,
           "textposition": "auto",
           "type": "bar",
           "x": [
            "ALEX"
           ],
           "xaxis": "x",
           "y": [
            100
           ],
           "yaxis": "y"
          },
          {
           "alignmentgroup": "True",
           "hovertemplate": "Name=%{x}<br>Year=2018<br>Number=%{y}<extra></extra>",
           "legendgroup": "PAU",
           "marker": {
            "color": "#636efa"
           },
           "name": "PAU",
           "offsetgroup": "PAU",
           "orientation": "v",
           "showlegend": true,
           "textposition": "auto",
           "type": "bar",
           "x": [
            "PAU"
           ],
           "xaxis": "x",
           "y": [
            91
           ],
           "yaxis": "y"
          },
          {
           "alignmentgroup": "True",
           "hovertemplate": "Name=%{x}<br>Year=2018<br>Number=%{y}<extra></extra>",
           "legendgroup": "JAN",
           "marker": {
            "color": "#19d3f3"
           },
           "name": "JAN",
           "offsetgroup": "JAN",
           "orientation": "v",
           "showlegend": true,
           "textposition": "auto",
           "type": "bar",
           "x": [
            "JAN"
           ],
           "xaxis": "x",
           "y": [
            79
           ],
           "yaxis": "y"
          },
          {
           "alignmentgroup": "True",
           "hovertemplate": "Name=%{x}<br>Year=2018<br>Number=%{y}<extra></extra>",
           "legendgroup": "MARTI",
           "marker": {
            "color": "#FF6692"
           },
           "name": "MARTI",
           "offsetgroup": "MARTI",
           "orientation": "v",
           "showlegend": true,
           "textposition": "auto",
           "type": "bar",
           "x": [
            "MARTI"
           ],
           "xaxis": "x",
           "y": [
            79
           ],
           "yaxis": "y"
          },
          {
           "alignmentgroup": "True",
           "hovertemplate": "Name=%{x}<br>Year=2018<br>Number=%{y}<extra></extra>",
           "legendgroup": "ERIC",
           "marker": {
            "color": "#B6E880"
           },
           "name": "ERIC",
           "offsetgroup": "ERIC",
           "orientation": "v",
           "showlegend": true,
           "textposition": "auto",
           "type": "bar",
           "x": [
            "ERIC"
           ],
           "xaxis": "x",
           "y": [
            89
           ],
           "yaxis": "y"
          },
          {
           "alignmentgroup": "True",
           "hovertemplate": "Name=%{x}<br>Year=2018<br>Number=%{y}<extra></extra>",
           "legendgroup": "BRUNO",
           "marker": {
            "color": "#EF553B"
           },
           "name": "BRUNO",
           "offsetgroup": "BRUNO",
           "orientation": "v",
           "showlegend": true,
           "textposition": "auto",
           "type": "bar",
           "x": [
            "BRUNO"
           ],
           "xaxis": "x",
           "y": [
            88
           ],
           "yaxis": "y"
          },
          {
           "alignmentgroup": "True",
           "hovertemplate": "Name=%{x}<br>Year=2018<br>Number=%{y}<extra></extra>",
           "legendgroup": "LUCAS",
           "marker": {
            "color": "#00cc96"
           },
           "name": "LUCAS",
           "offsetgroup": "LUCAS",
           "orientation": "v",
           "showlegend": true,
           "textposition": "auto",
           "type": "bar",
           "x": [
            "LUCAS"
           ],
           "xaxis": "x",
           "y": [
            99
           ],
           "yaxis": "y"
          },
          {
           "alignmentgroup": "True",
           "hovertemplate": "Name=%{x}<br>Year=2018<br>Number=%{y}<extra></extra>",
           "legendgroup": "LEO",
           "marker": {
            "color": "#ab63fa"
           },
           "name": "LEO",
           "offsetgroup": "LEO",
           "orientation": "v",
           "showlegend": true,
           "textposition": "auto",
           "type": "bar",
           "x": [
            "LEO"
           ],
           "xaxis": "x",
           "y": [
            86
           ],
           "yaxis": "y"
          }
         ],
         "name": "2018"
        },
        {
         "data": [
          {
           "alignmentgroup": "True",
           "hovertemplate": "Name=%{x}<br>Year=2019<br>Number=%{y}<extra></extra>",
           "legendgroup": "MARC",
           "marker": {
            "color": "#636efa"
           },
           "name": "MARC",
           "offsetgroup": "MARC",
           "orientation": "v",
           "showlegend": true,
           "textposition": "auto",
           "type": "bar",
           "x": [
            "MARC"
           ],
           "xaxis": "x",
           "y": [
            127
           ],
           "yaxis": "y"
          },
          {
           "alignmentgroup": "True",
           "hovertemplate": "Name=%{x}<br>Year=2019<br>Number=%{y}<extra></extra>",
           "legendgroup": "POL",
           "marker": {
            "color": "#FF97FF"
           },
           "name": "POL",
           "offsetgroup": "POL",
           "orientation": "v",
           "showlegend": true,
           "textposition": "auto",
           "type": "bar",
           "x": [
            "POL"
           ],
           "xaxis": "x",
           "y": [
            81
           ],
           "yaxis": "y"
          },
          {
           "alignmentgroup": "True",
           "hovertemplate": "Name=%{x}<br>Year=2019<br>Number=%{y}<extra></extra>",
           "legendgroup": "ALEX",
           "marker": {
            "color": "#FECB52"
           },
           "name": "ALEX",
           "offsetgroup": "ALEX",
           "orientation": "v",
           "showlegend": true,
           "textposition": "auto",
           "type": "bar",
           "x": [
            "ALEX"
           ],
           "xaxis": "x",
           "y": [
            93
           ],
           "yaxis": "y"
          },
          {
           "alignmentgroup": "True",
           "hovertemplate": "Name=%{x}<br>Year=2019<br>Number=%{y}<extra></extra>",
           "legendgroup": "PAU",
           "marker": {
            "color": "#636efa"
           },
           "name": "PAU",
           "offsetgroup": "PAU",
           "orientation": "v",
           "showlegend": true,
           "textposition": "auto",
           "type": "bar",
           "x": [
            "PAU"
           ],
           "xaxis": "x",
           "y": [
            77
           ],
           "yaxis": "y"
          },
          {
           "alignmentgroup": "True",
           "hovertemplate": "Name=%{x}<br>Year=2019<br>Number=%{y}<extra></extra>",
           "legendgroup": "JAN",
           "marker": {
            "color": "#19d3f3"
           },
           "name": "JAN",
           "offsetgroup": "JAN",
           "orientation": "v",
           "showlegend": true,
           "textposition": "auto",
           "type": "bar",
           "x": [
            "JAN"
           ],
           "xaxis": "x",
           "y": [
            100
           ],
           "yaxis": "y"
          },
          {
           "alignmentgroup": "True",
           "hovertemplate": "Name=%{x}<br>Year=2019<br>Number=%{y}<extra></extra>",
           "legendgroup": "ERIC",
           "marker": {
            "color": "#B6E880"
           },
           "name": "ERIC",
           "offsetgroup": "ERIC",
           "orientation": "v",
           "showlegend": true,
           "textposition": "auto",
           "type": "bar",
           "x": [
            "ERIC"
           ],
           "xaxis": "x",
           "y": [
            79
           ],
           "yaxis": "y"
          },
          {
           "alignmentgroup": "True",
           "hovertemplate": "Name=%{x}<br>Year=2019<br>Number=%{y}<extra></extra>",
           "legendgroup": "NIL",
           "marker": {
            "color": "#636efa"
           },
           "name": "NIL",
           "offsetgroup": "NIL",
           "orientation": "v",
           "showlegend": true,
           "textposition": "auto",
           "type": "bar",
           "x": [
            "NIL"
           ],
           "xaxis": "x",
           "y": [
            77
           ],
           "yaxis": "y"
          },
          {
           "alignmentgroup": "True",
           "hovertemplate": "Name=%{x}<br>Year=2019<br>Number=%{y}<extra></extra>",
           "legendgroup": "BRUNO",
           "marker": {
            "color": "#EF553B"
           },
           "name": "BRUNO",
           "offsetgroup": "BRUNO",
           "orientation": "v",
           "showlegend": true,
           "textposition": "auto",
           "type": "bar",
           "x": [
            "BRUNO"
           ],
           "xaxis": "x",
           "y": [
            76
           ],
           "yaxis": "y"
          },
          {
           "alignmentgroup": "True",
           "hovertemplate": "Name=%{x}<br>Year=2019<br>Number=%{y}<extra></extra>",
           "legendgroup": "LUCAS",
           "marker": {
            "color": "#00cc96"
           },
           "name": "LUCAS",
           "offsetgroup": "LUCAS",
           "orientation": "v",
           "showlegend": true,
           "textposition": "auto",
           "type": "bar",
           "x": [
            "LUCAS"
           ],
           "xaxis": "x",
           "y": [
            82
           ],
           "yaxis": "y"
          },
          {
           "alignmentgroup": "True",
           "hovertemplate": "Name=%{x}<br>Year=2019<br>Number=%{y}<extra></extra>",
           "legendgroup": "LEO",
           "marker": {
            "color": "#ab63fa"
           },
           "name": "LEO",
           "offsetgroup": "LEO",
           "orientation": "v",
           "showlegend": true,
           "textposition": "auto",
           "type": "bar",
           "x": [
            "LEO"
           ],
           "xaxis": "x",
           "y": [
            93
           ],
           "yaxis": "y"
          }
         ],
         "name": "2019"
        }
       ],
       "layout": {
        "barmode": "relative",
        "legend": {
         "title": {
          "text": "Name"
         },
         "tracegroupgap": 0
        },
        "margin": {
         "t": 60
        },
        "sliders": [
         {
          "active": 0,
          "currentvalue": {
           "prefix": "Year="
          },
          "len": 0.9,
          "pad": {
           "b": 10,
           "t": 60
          },
          "steps": [
           {
            "args": [
             [
              "1996"
             ],
             {
              "frame": {
               "duration": 0,
               "redraw": true
              },
              "fromcurrent": true,
              "mode": "immediate",
              "transition": {
               "duration": 0,
               "easing": "linear"
              }
             }
            ],
            "label": "1996",
            "method": "animate"
           },
           {
            "args": [
             [
              "1997"
             ],
             {
              "frame": {
               "duration": 0,
               "redraw": true
              },
              "fromcurrent": true,
              "mode": "immediate",
              "transition": {
               "duration": 0,
               "easing": "linear"
              }
             }
            ],
            "label": "1997",
            "method": "animate"
           },
           {
            "args": [
             [
              "1998"
             ],
             {
              "frame": {
               "duration": 0,
               "redraw": true
              },
              "fromcurrent": true,
              "mode": "immediate",
              "transition": {
               "duration": 0,
               "easing": "linear"
              }
             }
            ],
            "label": "1998",
            "method": "animate"
           },
           {
            "args": [
             [
              "1999"
             ],
             {
              "frame": {
               "duration": 0,
               "redraw": true
              },
              "fromcurrent": true,
              "mode": "immediate",
              "transition": {
               "duration": 0,
               "easing": "linear"
              }
             }
            ],
            "label": "1999",
            "method": "animate"
           },
           {
            "args": [
             [
              "2000"
             ],
             {
              "frame": {
               "duration": 0,
               "redraw": true
              },
              "fromcurrent": true,
              "mode": "immediate",
              "transition": {
               "duration": 0,
               "easing": "linear"
              }
             }
            ],
            "label": "2000",
            "method": "animate"
           },
           {
            "args": [
             [
              "2001"
             ],
             {
              "frame": {
               "duration": 0,
               "redraw": true
              },
              "fromcurrent": true,
              "mode": "immediate",
              "transition": {
               "duration": 0,
               "easing": "linear"
              }
             }
            ],
            "label": "2001",
            "method": "animate"
           },
           {
            "args": [
             [
              "2002"
             ],
             {
              "frame": {
               "duration": 0,
               "redraw": true
              },
              "fromcurrent": true,
              "mode": "immediate",
              "transition": {
               "duration": 0,
               "easing": "linear"
              }
             }
            ],
            "label": "2002",
            "method": "animate"
           },
           {
            "args": [
             [
              "2003"
             ],
             {
              "frame": {
               "duration": 0,
               "redraw": true
              },
              "fromcurrent": true,
              "mode": "immediate",
              "transition": {
               "duration": 0,
               "easing": "linear"
              }
             }
            ],
            "label": "2003",
            "method": "animate"
           },
           {
            "args": [
             [
              "2004"
             ],
             {
              "frame": {
               "duration": 0,
               "redraw": true
              },
              "fromcurrent": true,
              "mode": "immediate",
              "transition": {
               "duration": 0,
               "easing": "linear"
              }
             }
            ],
            "label": "2004",
            "method": "animate"
           },
           {
            "args": [
             [
              "2005"
             ],
             {
              "frame": {
               "duration": 0,
               "redraw": true
              },
              "fromcurrent": true,
              "mode": "immediate",
              "transition": {
               "duration": 0,
               "easing": "linear"
              }
             }
            ],
            "label": "2005",
            "method": "animate"
           },
           {
            "args": [
             [
              "2006"
             ],
             {
              "frame": {
               "duration": 0,
               "redraw": true
              },
              "fromcurrent": true,
              "mode": "immediate",
              "transition": {
               "duration": 0,
               "easing": "linear"
              }
             }
            ],
            "label": "2006",
            "method": "animate"
           },
           {
            "args": [
             [
              "2007"
             ],
             {
              "frame": {
               "duration": 0,
               "redraw": true
              },
              "fromcurrent": true,
              "mode": "immediate",
              "transition": {
               "duration": 0,
               "easing": "linear"
              }
             }
            ],
            "label": "2007",
            "method": "animate"
           },
           {
            "args": [
             [
              "2008"
             ],
             {
              "frame": {
               "duration": 0,
               "redraw": true
              },
              "fromcurrent": true,
              "mode": "immediate",
              "transition": {
               "duration": 0,
               "easing": "linear"
              }
             }
            ],
            "label": "2008",
            "method": "animate"
           },
           {
            "args": [
             [
              "2009"
             ],
             {
              "frame": {
               "duration": 0,
               "redraw": true
              },
              "fromcurrent": true,
              "mode": "immediate",
              "transition": {
               "duration": 0,
               "easing": "linear"
              }
             }
            ],
            "label": "2009",
            "method": "animate"
           },
           {
            "args": [
             [
              "2010"
             ],
             {
              "frame": {
               "duration": 0,
               "redraw": true
              },
              "fromcurrent": true,
              "mode": "immediate",
              "transition": {
               "duration": 0,
               "easing": "linear"
              }
             }
            ],
            "label": "2010",
            "method": "animate"
           },
           {
            "args": [
             [
              "2011"
             ],
             {
              "frame": {
               "duration": 0,
               "redraw": true
              },
              "fromcurrent": true,
              "mode": "immediate",
              "transition": {
               "duration": 0,
               "easing": "linear"
              }
             }
            ],
            "label": "2011",
            "method": "animate"
           },
           {
            "args": [
             [
              "2012"
             ],
             {
              "frame": {
               "duration": 0,
               "redraw": true
              },
              "fromcurrent": true,
              "mode": "immediate",
              "transition": {
               "duration": 0,
               "easing": "linear"
              }
             }
            ],
            "label": "2012",
            "method": "animate"
           },
           {
            "args": [
             [
              "2013"
             ],
             {
              "frame": {
               "duration": 0,
               "redraw": true
              },
              "fromcurrent": true,
              "mode": "immediate",
              "transition": {
               "duration": 0,
               "easing": "linear"
              }
             }
            ],
            "label": "2013",
            "method": "animate"
           },
           {
            "args": [
             [
              "2014"
             ],
             {
              "frame": {
               "duration": 0,
               "redraw": true
              },
              "fromcurrent": true,
              "mode": "immediate",
              "transition": {
               "duration": 0,
               "easing": "linear"
              }
             }
            ],
            "label": "2014",
            "method": "animate"
           },
           {
            "args": [
             [
              "2015"
             ],
             {
              "frame": {
               "duration": 0,
               "redraw": true
              },
              "fromcurrent": true,
              "mode": "immediate",
              "transition": {
               "duration": 0,
               "easing": "linear"
              }
             }
            ],
            "label": "2015",
            "method": "animate"
           },
           {
            "args": [
             [
              "2016"
             ],
             {
              "frame": {
               "duration": 0,
               "redraw": true
              },
              "fromcurrent": true,
              "mode": "immediate",
              "transition": {
               "duration": 0,
               "easing": "linear"
              }
             }
            ],
            "label": "2016",
            "method": "animate"
           },
           {
            "args": [
             [
              "2017"
             ],
             {
              "frame": {
               "duration": 0,
               "redraw": true
              },
              "fromcurrent": true,
              "mode": "immediate",
              "transition": {
               "duration": 0,
               "easing": "linear"
              }
             }
            ],
            "label": "2017",
            "method": "animate"
           },
           {
            "args": [
             [
              "2018"
             ],
             {
              "frame": {
               "duration": 0,
               "redraw": true
              },
              "fromcurrent": true,
              "mode": "immediate",
              "transition": {
               "duration": 0,
               "easing": "linear"
              }
             }
            ],
            "label": "2018",
            "method": "animate"
           },
           {
            "args": [
             [
              "2019"
             ],
             {
              "frame": {
               "duration": 0,
               "redraw": true
              },
              "fromcurrent": true,
              "mode": "immediate",
              "transition": {
               "duration": 0,
               "easing": "linear"
              }
             }
            ],
            "label": "2019",
            "method": "animate"
           }
          ],
          "x": 0.1,
          "xanchor": "left",
          "y": 0,
          "yanchor": "top"
         }
        ],
        "template": {
         "data": {
          "bar": [
           {
            "error_x": {
             "color": "#2a3f5f"
            },
            "error_y": {
             "color": "#2a3f5f"
            },
            "marker": {
             "line": {
              "color": "#E5ECF6",
              "width": 0.5
             }
            },
            "type": "bar"
           }
          ],
          "barpolar": [
           {
            "marker": {
             "line": {
              "color": "#E5ECF6",
              "width": 0.5
             }
            },
            "type": "barpolar"
           }
          ],
          "carpet": [
           {
            "aaxis": {
             "endlinecolor": "#2a3f5f",
             "gridcolor": "white",
             "linecolor": "white",
             "minorgridcolor": "white",
             "startlinecolor": "#2a3f5f"
            },
            "baxis": {
             "endlinecolor": "#2a3f5f",
             "gridcolor": "white",
             "linecolor": "white",
             "minorgridcolor": "white",
             "startlinecolor": "#2a3f5f"
            },
            "type": "carpet"
           }
          ],
          "choropleth": [
           {
            "colorbar": {
             "outlinewidth": 0,
             "ticks": ""
            },
            "type": "choropleth"
           }
          ],
          "contour": [
           {
            "colorbar": {
             "outlinewidth": 0,
             "ticks": ""
            },
            "colorscale": [
             [
              0,
              "#0d0887"
             ],
             [
              0.1111111111111111,
              "#46039f"
             ],
             [
              0.2222222222222222,
              "#7201a8"
             ],
             [
              0.3333333333333333,
              "#9c179e"
             ],
             [
              0.4444444444444444,
              "#bd3786"
             ],
             [
              0.5555555555555556,
              "#d8576b"
             ],
             [
              0.6666666666666666,
              "#ed7953"
             ],
             [
              0.7777777777777778,
              "#fb9f3a"
             ],
             [
              0.8888888888888888,
              "#fdca26"
             ],
             [
              1,
              "#f0f921"
             ]
            ],
            "type": "contour"
           }
          ],
          "contourcarpet": [
           {
            "colorbar": {
             "outlinewidth": 0,
             "ticks": ""
            },
            "type": "contourcarpet"
           }
          ],
          "heatmap": [
           {
            "colorbar": {
             "outlinewidth": 0,
             "ticks": ""
            },
            "colorscale": [
             [
              0,
              "#0d0887"
             ],
             [
              0.1111111111111111,
              "#46039f"
             ],
             [
              0.2222222222222222,
              "#7201a8"
             ],
             [
              0.3333333333333333,
              "#9c179e"
             ],
             [
              0.4444444444444444,
              "#bd3786"
             ],
             [
              0.5555555555555556,
              "#d8576b"
             ],
             [
              0.6666666666666666,
              "#ed7953"
             ],
             [
              0.7777777777777778,
              "#fb9f3a"
             ],
             [
              0.8888888888888888,
              "#fdca26"
             ],
             [
              1,
              "#f0f921"
             ]
            ],
            "type": "heatmap"
           }
          ],
          "heatmapgl": [
           {
            "colorbar": {
             "outlinewidth": 0,
             "ticks": ""
            },
            "colorscale": [
             [
              0,
              "#0d0887"
             ],
             [
              0.1111111111111111,
              "#46039f"
             ],
             [
              0.2222222222222222,
              "#7201a8"
             ],
             [
              0.3333333333333333,
              "#9c179e"
             ],
             [
              0.4444444444444444,
              "#bd3786"
             ],
             [
              0.5555555555555556,
              "#d8576b"
             ],
             [
              0.6666666666666666,
              "#ed7953"
             ],
             [
              0.7777777777777778,
              "#fb9f3a"
             ],
             [
              0.8888888888888888,
              "#fdca26"
             ],
             [
              1,
              "#f0f921"
             ]
            ],
            "type": "heatmapgl"
           }
          ],
          "histogram": [
           {
            "marker": {
             "colorbar": {
              "outlinewidth": 0,
              "ticks": ""
             }
            },
            "type": "histogram"
           }
          ],
          "histogram2d": [
           {
            "colorbar": {
             "outlinewidth": 0,
             "ticks": ""
            },
            "colorscale": [
             [
              0,
              "#0d0887"
             ],
             [
              0.1111111111111111,
              "#46039f"
             ],
             [
              0.2222222222222222,
              "#7201a8"
             ],
             [
              0.3333333333333333,
              "#9c179e"
             ],
             [
              0.4444444444444444,
              "#bd3786"
             ],
             [
              0.5555555555555556,
              "#d8576b"
             ],
             [
              0.6666666666666666,
              "#ed7953"
             ],
             [
              0.7777777777777778,
              "#fb9f3a"
             ],
             [
              0.8888888888888888,
              "#fdca26"
             ],
             [
              1,
              "#f0f921"
             ]
            ],
            "type": "histogram2d"
           }
          ],
          "histogram2dcontour": [
           {
            "colorbar": {
             "outlinewidth": 0,
             "ticks": ""
            },
            "colorscale": [
             [
              0,
              "#0d0887"
             ],
             [
              0.1111111111111111,
              "#46039f"
             ],
             [
              0.2222222222222222,
              "#7201a8"
             ],
             [
              0.3333333333333333,
              "#9c179e"
             ],
             [
              0.4444444444444444,
              "#bd3786"
             ],
             [
              0.5555555555555556,
              "#d8576b"
             ],
             [
              0.6666666666666666,
              "#ed7953"
             ],
             [
              0.7777777777777778,
              "#fb9f3a"
             ],
             [
              0.8888888888888888,
              "#fdca26"
             ],
             [
              1,
              "#f0f921"
             ]
            ],
            "type": "histogram2dcontour"
           }
          ],
          "mesh3d": [
           {
            "colorbar": {
             "outlinewidth": 0,
             "ticks": ""
            },
            "type": "mesh3d"
           }
          ],
          "parcoords": [
           {
            "line": {
             "colorbar": {
              "outlinewidth": 0,
              "ticks": ""
             }
            },
            "type": "parcoords"
           }
          ],
          "pie": [
           {
            "automargin": true,
            "type": "pie"
           }
          ],
          "scatter": [
           {
            "marker": {
             "colorbar": {
              "outlinewidth": 0,
              "ticks": ""
             }
            },
            "type": "scatter"
           }
          ],
          "scatter3d": [
           {
            "line": {
             "colorbar": {
              "outlinewidth": 0,
              "ticks": ""
             }
            },
            "marker": {
             "colorbar": {
              "outlinewidth": 0,
              "ticks": ""
             }
            },
            "type": "scatter3d"
           }
          ],
          "scattercarpet": [
           {
            "marker": {
             "colorbar": {
              "outlinewidth": 0,
              "ticks": ""
             }
            },
            "type": "scattercarpet"
           }
          ],
          "scattergeo": [
           {
            "marker": {
             "colorbar": {
              "outlinewidth": 0,
              "ticks": ""
             }
            },
            "type": "scattergeo"
           }
          ],
          "scattergl": [
           {
            "marker": {
             "colorbar": {
              "outlinewidth": 0,
              "ticks": ""
             }
            },
            "type": "scattergl"
           }
          ],
          "scattermapbox": [
           {
            "marker": {
             "colorbar": {
              "outlinewidth": 0,
              "ticks": ""
             }
            },
            "type": "scattermapbox"
           }
          ],
          "scatterpolar": [
           {
            "marker": {
             "colorbar": {
              "outlinewidth": 0,
              "ticks": ""
             }
            },
            "type": "scatterpolar"
           }
          ],
          "scatterpolargl": [
           {
            "marker": {
             "colorbar": {
              "outlinewidth": 0,
              "ticks": ""
             }
            },
            "type": "scatterpolargl"
           }
          ],
          "scatterternary": [
           {
            "marker": {
             "colorbar": {
              "outlinewidth": 0,
              "ticks": ""
             }
            },
            "type": "scatterternary"
           }
          ],
          "surface": [
           {
            "colorbar": {
             "outlinewidth": 0,
             "ticks": ""
            },
            "colorscale": [
             [
              0,
              "#0d0887"
             ],
             [
              0.1111111111111111,
              "#46039f"
             ],
             [
              0.2222222222222222,
              "#7201a8"
             ],
             [
              0.3333333333333333,
              "#9c179e"
             ],
             [
              0.4444444444444444,
              "#bd3786"
             ],
             [
              0.5555555555555556,
              "#d8576b"
             ],
             [
              0.6666666666666666,
              "#ed7953"
             ],
             [
              0.7777777777777778,
              "#fb9f3a"
             ],
             [
              0.8888888888888888,
              "#fdca26"
             ],
             [
              1,
              "#f0f921"
             ]
            ],
            "type": "surface"
           }
          ],
          "table": [
           {
            "cells": {
             "fill": {
              "color": "#EBF0F8"
             },
             "line": {
              "color": "white"
             }
            },
            "header": {
             "fill": {
              "color": "#C8D4E3"
             },
             "line": {
              "color": "white"
             }
            },
            "type": "table"
           }
          ]
         },
         "layout": {
          "annotationdefaults": {
           "arrowcolor": "#2a3f5f",
           "arrowhead": 0,
           "arrowwidth": 1
          },
          "coloraxis": {
           "colorbar": {
            "outlinewidth": 0,
            "ticks": ""
           }
          },
          "colorscale": {
           "diverging": [
            [
             0,
             "#8e0152"
            ],
            [
             0.1,
             "#c51b7d"
            ],
            [
             0.2,
             "#de77ae"
            ],
            [
             0.3,
             "#f1b6da"
            ],
            [
             0.4,
             "#fde0ef"
            ],
            [
             0.5,
             "#f7f7f7"
            ],
            [
             0.6,
             "#e6f5d0"
            ],
            [
             0.7,
             "#b8e186"
            ],
            [
             0.8,
             "#7fbc41"
            ],
            [
             0.9,
             "#4d9221"
            ],
            [
             1,
             "#276419"
            ]
           ],
           "sequential": [
            [
             0,
             "#0d0887"
            ],
            [
             0.1111111111111111,
             "#46039f"
            ],
            [
             0.2222222222222222,
             "#7201a8"
            ],
            [
             0.3333333333333333,
             "#9c179e"
            ],
            [
             0.4444444444444444,
             "#bd3786"
            ],
            [
             0.5555555555555556,
             "#d8576b"
            ],
            [
             0.6666666666666666,
             "#ed7953"
            ],
            [
             0.7777777777777778,
             "#fb9f3a"
            ],
            [
             0.8888888888888888,
             "#fdca26"
            ],
            [
             1,
             "#f0f921"
            ]
           ],
           "sequentialminus": [
            [
             0,
             "#0d0887"
            ],
            [
             0.1111111111111111,
             "#46039f"
            ],
            [
             0.2222222222222222,
             "#7201a8"
            ],
            [
             0.3333333333333333,
             "#9c179e"
            ],
            [
             0.4444444444444444,
             "#bd3786"
            ],
            [
             0.5555555555555556,
             "#d8576b"
            ],
            [
             0.6666666666666666,
             "#ed7953"
            ],
            [
             0.7777777777777778,
             "#fb9f3a"
            ],
            [
             0.8888888888888888,
             "#fdca26"
            ],
            [
             1,
             "#f0f921"
            ]
           ]
          },
          "colorway": [
           "#636efa",
           "#EF553B",
           "#00cc96",
           "#ab63fa",
           "#FFA15A",
           "#19d3f3",
           "#FF6692",
           "#B6E880",
           "#FF97FF",
           "#FECB52"
          ],
          "font": {
           "color": "#2a3f5f"
          },
          "geo": {
           "bgcolor": "white",
           "lakecolor": "white",
           "landcolor": "#E5ECF6",
           "showlakes": true,
           "showland": true,
           "subunitcolor": "white"
          },
          "hoverlabel": {
           "align": "left"
          },
          "hovermode": "closest",
          "mapbox": {
           "style": "light"
          },
          "paper_bgcolor": "white",
          "plot_bgcolor": "#E5ECF6",
          "polar": {
           "angularaxis": {
            "gridcolor": "white",
            "linecolor": "white",
            "ticks": ""
           },
           "bgcolor": "#E5ECF6",
           "radialaxis": {
            "gridcolor": "white",
            "linecolor": "white",
            "ticks": ""
           }
          },
          "scene": {
           "xaxis": {
            "backgroundcolor": "#E5ECF6",
            "gridcolor": "white",
            "gridwidth": 2,
            "linecolor": "white",
            "showbackground": true,
            "ticks": "",
            "zerolinecolor": "white"
           },
           "yaxis": {
            "backgroundcolor": "#E5ECF6",
            "gridcolor": "white",
            "gridwidth": 2,
            "linecolor": "white",
            "showbackground": true,
            "ticks": "",
            "zerolinecolor": "white"
           },
           "zaxis": {
            "backgroundcolor": "#E5ECF6",
            "gridcolor": "white",
            "gridwidth": 2,
            "linecolor": "white",
            "showbackground": true,
            "ticks": "",
            "zerolinecolor": "white"
           }
          },
          "shapedefaults": {
           "line": {
            "color": "#2a3f5f"
           }
          },
          "ternary": {
           "aaxis": {
            "gridcolor": "white",
            "linecolor": "white",
            "ticks": ""
           },
           "baxis": {
            "gridcolor": "white",
            "linecolor": "white",
            "ticks": ""
           },
           "bgcolor": "#E5ECF6",
           "caxis": {
            "gridcolor": "white",
            "linecolor": "white",
            "ticks": ""
           }
          },
          "title": {
           "x": 0.05
          },
          "xaxis": {
           "automargin": true,
           "gridcolor": "white",
           "linecolor": "white",
           "ticks": "",
           "title": {
            "standoff": 15
           },
           "zerolinecolor": "white",
           "zerolinewidth": 2
          },
          "yaxis": {
           "automargin": true,
           "gridcolor": "white",
           "linecolor": "white",
           "ticks": "",
           "title": {
            "standoff": 15
           },
           "zerolinecolor": "white",
           "zerolinewidth": 2
          }
         }
        },
        "updatemenus": [
         {
          "buttons": [
           {
            "args": [
             null,
             {
              "frame": {
               "duration": 500,
               "redraw": true
              },
              "fromcurrent": true,
              "mode": "immediate",
              "transition": {
               "duration": 500,
               "easing": "linear"
              }
             }
            ],
            "label": "&#9654;",
            "method": "animate"
           },
           {
            "args": [
             [
              null
             ],
             {
              "frame": {
               "duration": 0,
               "redraw": true
              },
              "fromcurrent": true,
              "mode": "immediate",
              "transition": {
               "duration": 0,
               "easing": "linear"
              }
             }
            ],
            "label": "&#9724;",
            "method": "animate"
           }
          ],
          "direction": "left",
          "pad": {
           "r": 10,
           "t": 70
          },
          "showactive": false,
          "type": "buttons",
          "x": 0.1,
          "xanchor": "right",
          "y": 0,
          "yanchor": "top"
         }
        ],
        "xaxis": {
         "anchor": "y",
         "categoryarray": [
          "MARC",
          "DAVID",
          "DANIEL",
          "ALBERT",
          "VICTOR",
          "JORDI",
          "SERGI",
          "ALEJANDRO",
          "POL",
          "ALEX",
          "PAU",
          "ARNAU",
          "GERARD",
          "JOAN",
          "PABLO",
          "JAN",
          "MARTI",
          "ERIC",
          "HUGO",
          "BIEL",
          "NIL",
          "BRUNO",
          "LUCAS",
          "LEO"
         ],
         "categoryorder": "array",
         "domain": [
          0,
          1
         ],
         "title": {
          "text": "Name"
         }
        },
        "yaxis": {
         "anchor": "x",
         "domain": [
          0,
          1
         ],
         "title": {
          "text": "Number"
         }
        }
       }
      },
      "text/html": [
       "<div>                            <div id=\"2a136694-7211-45ff-97a2-66a386ebdb65\" class=\"plotly-graph-div\" style=\"height:525px; width:100%;\"></div>            <script type=\"text/javascript\">                require([\"plotly\"], function(Plotly) {                    window.PLOTLYENV=window.PLOTLYENV || {};                                    if (document.getElementById(\"2a136694-7211-45ff-97a2-66a386ebdb65\")) {                    Plotly.newPlot(                        \"2a136694-7211-45ff-97a2-66a386ebdb65\",                        [{\"alignmentgroup\": \"True\", \"hovertemplate\": \"Name=%{x}<br>Year=1996<br>Number=%{y}<extra></extra>\", \"legendgroup\": \"MARC\", \"marker\": {\"color\": \"#636efa\"}, \"name\": \"MARC\", \"offsetgroup\": \"MARC\", \"orientation\": \"v\", \"showlegend\": true, \"textposition\": \"auto\", \"type\": \"bar\", \"x\": [\"MARC\"], \"xaxis\": \"x\", \"y\": [295], \"yaxis\": \"y\"}, {\"alignmentgroup\": \"True\", \"hovertemplate\": \"Name=%{x}<br>Year=1996<br>Number=%{y}<extra></extra>\", \"legendgroup\": \"DAVID\", \"marker\": {\"color\": \"#EF553B\"}, \"name\": \"DAVID\", \"offsetgroup\": \"DAVID\", \"orientation\": \"v\", \"showlegend\": true, \"textposition\": \"auto\", \"type\": \"bar\", \"x\": [\"DAVID\"], \"xaxis\": \"x\", \"y\": [198], \"yaxis\": \"y\"}, {\"alignmentgroup\": \"True\", \"hovertemplate\": \"Name=%{x}<br>Year=1996<br>Number=%{y}<extra></extra>\", \"legendgroup\": \"DANIEL\", \"marker\": {\"color\": \"#00cc96\"}, \"name\": \"DANIEL\", \"offsetgroup\": \"DANIEL\", \"orientation\": \"v\", \"showlegend\": true, \"textposition\": \"auto\", \"type\": \"bar\", \"x\": [\"DANIEL\"], \"xaxis\": \"x\", \"y\": [174], \"yaxis\": \"y\"}, {\"alignmentgroup\": \"True\", \"hovertemplate\": \"Name=%{x}<br>Year=1996<br>Number=%{y}<extra></extra>\", \"legendgroup\": \"ALBERT\", \"marker\": {\"color\": \"#ab63fa\"}, \"name\": \"ALBERT\", \"offsetgroup\": \"ALBERT\", \"orientation\": \"v\", \"showlegend\": true, \"textposition\": \"auto\", \"type\": \"bar\", \"x\": [\"ALBERT\"], \"xaxis\": \"x\", \"y\": [151], \"yaxis\": \"y\"}, {\"alignmentgroup\": \"True\", \"hovertemplate\": \"Name=%{x}<br>Year=1996<br>Number=%{y}<extra></extra>\", \"legendgroup\": \"VICTOR\", \"marker\": {\"color\": \"#FFA15A\"}, \"name\": \"VICTOR\", \"offsetgroup\": \"VICTOR\", \"orientation\": \"v\", \"showlegend\": true, \"textposition\": \"auto\", \"type\": \"bar\", \"x\": [\"VICTOR\"], \"xaxis\": \"x\", \"y\": [145], \"yaxis\": \"y\"}, {\"alignmentgroup\": \"True\", \"hovertemplate\": \"Name=%{x}<br>Year=1996<br>Number=%{y}<extra></extra>\", \"legendgroup\": \"JORDI\", \"marker\": {\"color\": \"#19d3f3\"}, \"name\": \"JORDI\", \"offsetgroup\": \"JORDI\", \"orientation\": \"v\", \"showlegend\": true, \"textposition\": \"auto\", \"type\": \"bar\", \"x\": [\"JORDI\"], \"xaxis\": \"x\", \"y\": [143], \"yaxis\": \"y\"}, {\"alignmentgroup\": \"True\", \"hovertemplate\": \"Name=%{x}<br>Year=1996<br>Number=%{y}<extra></extra>\", \"legendgroup\": \"SERGI\", \"marker\": {\"color\": \"#FF6692\"}, \"name\": \"SERGI\", \"offsetgroup\": \"SERGI\", \"orientation\": \"v\", \"showlegend\": true, \"textposition\": \"auto\", \"type\": \"bar\", \"x\": [\"SERGI\"], \"xaxis\": \"x\", \"y\": [137], \"yaxis\": \"y\"}, {\"alignmentgroup\": \"True\", \"hovertemplate\": \"Name=%{x}<br>Year=1996<br>Number=%{y}<extra></extra>\", \"legendgroup\": \"ALEJANDRO\", \"marker\": {\"color\": \"#B6E880\"}, \"name\": \"ALEJANDRO\", \"offsetgroup\": \"ALEJANDRO\", \"orientation\": \"v\", \"showlegend\": true, \"textposition\": \"auto\", \"type\": \"bar\", \"x\": [\"ALEJANDRO\"], \"xaxis\": \"x\", \"y\": [132], \"yaxis\": \"y\"}, {\"alignmentgroup\": \"True\", \"hovertemplate\": \"Name=%{x}<br>Year=1996<br>Number=%{y}<extra></extra>\", \"legendgroup\": \"POL\", \"marker\": {\"color\": \"#FF97FF\"}, \"name\": \"POL\", \"offsetgroup\": \"POL\", \"orientation\": \"v\", \"showlegend\": true, \"textposition\": \"auto\", \"type\": \"bar\", \"x\": [\"POL\"], \"xaxis\": \"x\", \"y\": [123], \"yaxis\": \"y\"}, {\"alignmentgroup\": \"True\", \"hovertemplate\": \"Name=%{x}<br>Year=1996<br>Number=%{y}<extra></extra>\", \"legendgroup\": \"ALEX\", \"marker\": {\"color\": \"#FECB52\"}, \"name\": \"ALEX\", \"offsetgroup\": \"ALEX\", \"orientation\": \"v\", \"showlegend\": true, \"textposition\": \"auto\", \"type\": \"bar\", \"x\": [\"ALEX\"], \"xaxis\": \"x\", \"y\": [113], \"yaxis\": \"y\"}],                        {\"barmode\": \"relative\", \"legend\": {\"title\": {\"text\": \"Name\"}, \"tracegroupgap\": 0}, \"margin\": {\"t\": 60}, \"sliders\": [{\"active\": 0, \"currentvalue\": {\"prefix\": \"Year=\"}, \"len\": 0.9, \"pad\": {\"b\": 10, \"t\": 60}, \"steps\": [{\"args\": [[\"1996\"], {\"frame\": {\"duration\": 0, \"redraw\": true}, \"fromcurrent\": true, \"mode\": \"immediate\", \"transition\": {\"duration\": 0, \"easing\": \"linear\"}}], \"label\": \"1996\", \"method\": \"animate\"}, {\"args\": [[\"1997\"], {\"frame\": {\"duration\": 0, \"redraw\": true}, \"fromcurrent\": true, \"mode\": \"immediate\", \"transition\": {\"duration\": 0, \"easing\": \"linear\"}}], \"label\": \"1997\", \"method\": \"animate\"}, {\"args\": [[\"1998\"], {\"frame\": {\"duration\": 0, \"redraw\": true}, \"fromcurrent\": true, \"mode\": \"immediate\", \"transition\": {\"duration\": 0, \"easing\": \"linear\"}}], \"label\": \"1998\", \"method\": \"animate\"}, {\"args\": [[\"1999\"], {\"frame\": {\"duration\": 0, \"redraw\": true}, \"fromcurrent\": true, \"mode\": \"immediate\", \"transition\": {\"duration\": 0, \"easing\": \"linear\"}}], \"label\": \"1999\", \"method\": \"animate\"}, {\"args\": [[\"2000\"], {\"frame\": {\"duration\": 0, \"redraw\": true}, \"fromcurrent\": true, \"mode\": \"immediate\", \"transition\": {\"duration\": 0, \"easing\": \"linear\"}}], \"label\": \"2000\", \"method\": \"animate\"}, {\"args\": [[\"2001\"], {\"frame\": {\"duration\": 0, \"redraw\": true}, \"fromcurrent\": true, \"mode\": \"immediate\", \"transition\": {\"duration\": 0, \"easing\": \"linear\"}}], \"label\": \"2001\", \"method\": \"animate\"}, {\"args\": [[\"2002\"], {\"frame\": {\"duration\": 0, \"redraw\": true}, \"fromcurrent\": true, \"mode\": \"immediate\", \"transition\": {\"duration\": 0, \"easing\": \"linear\"}}], \"label\": \"2002\", \"method\": \"animate\"}, {\"args\": [[\"2003\"], {\"frame\": {\"duration\": 0, \"redraw\": true}, \"fromcurrent\": true, \"mode\": \"immediate\", \"transition\": {\"duration\": 0, \"easing\": \"linear\"}}], \"label\": \"2003\", \"method\": \"animate\"}, {\"args\": [[\"2004\"], {\"frame\": {\"duration\": 0, \"redraw\": true}, \"fromcurrent\": true, \"mode\": \"immediate\", \"transition\": {\"duration\": 0, \"easing\": \"linear\"}}], \"label\": \"2004\", \"method\": \"animate\"}, {\"args\": [[\"2005\"], {\"frame\": {\"duration\": 0, \"redraw\": true}, \"fromcurrent\": true, \"mode\": \"immediate\", \"transition\": {\"duration\": 0, \"easing\": \"linear\"}}], \"label\": \"2005\", \"method\": \"animate\"}, {\"args\": [[\"2006\"], {\"frame\": {\"duration\": 0, \"redraw\": true}, \"fromcurrent\": true, \"mode\": \"immediate\", \"transition\": {\"duration\": 0, \"easing\": \"linear\"}}], \"label\": \"2006\", \"method\": \"animate\"}, {\"args\": [[\"2007\"], {\"frame\": {\"duration\": 0, \"redraw\": true}, \"fromcurrent\": true, \"mode\": \"immediate\", \"transition\": {\"duration\": 0, \"easing\": \"linear\"}}], \"label\": \"2007\", \"method\": \"animate\"}, {\"args\": [[\"2008\"], {\"frame\": {\"duration\": 0, \"redraw\": true}, \"fromcurrent\": true, \"mode\": \"immediate\", \"transition\": {\"duration\": 0, \"easing\": \"linear\"}}], \"label\": \"2008\", \"method\": \"animate\"}, {\"args\": [[\"2009\"], {\"frame\": {\"duration\": 0, \"redraw\": true}, \"fromcurrent\": true, \"mode\": \"immediate\", \"transition\": {\"duration\": 0, \"easing\": \"linear\"}}], \"label\": \"2009\", \"method\": \"animate\"}, {\"args\": [[\"2010\"], {\"frame\": {\"duration\": 0, \"redraw\": true}, \"fromcurrent\": true, \"mode\": \"immediate\", \"transition\": {\"duration\": 0, \"easing\": \"linear\"}}], \"label\": \"2010\", \"method\": \"animate\"}, {\"args\": [[\"2011\"], {\"frame\": {\"duration\": 0, \"redraw\": true}, \"fromcurrent\": true, \"mode\": \"immediate\", \"transition\": {\"duration\": 0, \"easing\": \"linear\"}}], \"label\": \"2011\", \"method\": \"animate\"}, {\"args\": [[\"2012\"], {\"frame\": {\"duration\": 0, \"redraw\": true}, \"fromcurrent\": true, \"mode\": \"immediate\", \"transition\": {\"duration\": 0, \"easing\": \"linear\"}}], \"label\": \"2012\", \"method\": \"animate\"}, {\"args\": [[\"2013\"], {\"frame\": {\"duration\": 0, \"redraw\": true}, \"fromcurrent\": true, \"mode\": \"immediate\", \"transition\": {\"duration\": 0, \"easing\": \"linear\"}}], \"label\": \"2013\", \"method\": \"animate\"}, {\"args\": [[\"2014\"], {\"frame\": {\"duration\": 0, \"redraw\": true}, \"fromcurrent\": true, \"mode\": \"immediate\", \"transition\": {\"duration\": 0, \"easing\": \"linear\"}}], \"label\": \"2014\", \"method\": \"animate\"}, {\"args\": [[\"2015\"], {\"frame\": {\"duration\": 0, \"redraw\": true}, \"fromcurrent\": true, \"mode\": \"immediate\", \"transition\": {\"duration\": 0, \"easing\": \"linear\"}}], \"label\": \"2015\", \"method\": \"animate\"}, {\"args\": [[\"2016\"], {\"frame\": {\"duration\": 0, \"redraw\": true}, \"fromcurrent\": true, \"mode\": \"immediate\", \"transition\": {\"duration\": 0, \"easing\": \"linear\"}}], \"label\": \"2016\", \"method\": \"animate\"}, {\"args\": [[\"2017\"], {\"frame\": {\"duration\": 0, \"redraw\": true}, \"fromcurrent\": true, \"mode\": \"immediate\", \"transition\": {\"duration\": 0, \"easing\": \"linear\"}}], \"label\": \"2017\", \"method\": \"animate\"}, {\"args\": [[\"2018\"], {\"frame\": {\"duration\": 0, \"redraw\": true}, \"fromcurrent\": true, \"mode\": \"immediate\", \"transition\": {\"duration\": 0, \"easing\": \"linear\"}}], \"label\": \"2018\", \"method\": \"animate\"}, {\"args\": [[\"2019\"], {\"frame\": {\"duration\": 0, \"redraw\": true}, \"fromcurrent\": true, \"mode\": \"immediate\", \"transition\": {\"duration\": 0, \"easing\": \"linear\"}}], \"label\": \"2019\", \"method\": \"animate\"}], \"x\": 0.1, \"xanchor\": \"left\", \"y\": 0, \"yanchor\": \"top\"}], \"template\": {\"data\": {\"bar\": [{\"error_x\": {\"color\": \"#2a3f5f\"}, \"error_y\": {\"color\": \"#2a3f5f\"}, \"marker\": {\"line\": {\"color\": \"#E5ECF6\", \"width\": 0.5}}, \"type\": \"bar\"}], \"barpolar\": [{\"marker\": {\"line\": {\"color\": \"#E5ECF6\", \"width\": 0.5}}, \"type\": \"barpolar\"}], \"carpet\": [{\"aaxis\": {\"endlinecolor\": \"#2a3f5f\", \"gridcolor\": \"white\", \"linecolor\": \"white\", \"minorgridcolor\": \"white\", \"startlinecolor\": \"#2a3f5f\"}, \"baxis\": {\"endlinecolor\": \"#2a3f5f\", \"gridcolor\": \"white\", \"linecolor\": \"white\", \"minorgridcolor\": \"white\", \"startlinecolor\": \"#2a3f5f\"}, \"type\": \"carpet\"}], \"choropleth\": [{\"colorbar\": {\"outlinewidth\": 0, \"ticks\": \"\"}, \"type\": \"choropleth\"}], \"contour\": [{\"colorbar\": {\"outlinewidth\": 0, \"ticks\": \"\"}, \"colorscale\": [[0.0, \"#0d0887\"], [0.1111111111111111, \"#46039f\"], [0.2222222222222222, \"#7201a8\"], [0.3333333333333333, \"#9c179e\"], [0.4444444444444444, \"#bd3786\"], [0.5555555555555556, \"#d8576b\"], [0.6666666666666666, \"#ed7953\"], [0.7777777777777778, \"#fb9f3a\"], [0.8888888888888888, \"#fdca26\"], [1.0, \"#f0f921\"]], \"type\": \"contour\"}], \"contourcarpet\": [{\"colorbar\": {\"outlinewidth\": 0, \"ticks\": \"\"}, \"type\": \"contourcarpet\"}], \"heatmap\": [{\"colorbar\": {\"outlinewidth\": 0, \"ticks\": \"\"}, \"colorscale\": [[0.0, \"#0d0887\"], [0.1111111111111111, \"#46039f\"], [0.2222222222222222, \"#7201a8\"], [0.3333333333333333, \"#9c179e\"], [0.4444444444444444, \"#bd3786\"], [0.5555555555555556, \"#d8576b\"], [0.6666666666666666, \"#ed7953\"], [0.7777777777777778, \"#fb9f3a\"], [0.8888888888888888, \"#fdca26\"], [1.0, \"#f0f921\"]], \"type\": \"heatmap\"}], \"heatmapgl\": [{\"colorbar\": {\"outlinewidth\": 0, \"ticks\": \"\"}, \"colorscale\": [[0.0, \"#0d0887\"], [0.1111111111111111, \"#46039f\"], [0.2222222222222222, \"#7201a8\"], [0.3333333333333333, \"#9c179e\"], [0.4444444444444444, \"#bd3786\"], [0.5555555555555556, \"#d8576b\"], [0.6666666666666666, \"#ed7953\"], [0.7777777777777778, \"#fb9f3a\"], [0.8888888888888888, \"#fdca26\"], [1.0, \"#f0f921\"]], \"type\": \"heatmapgl\"}], \"histogram\": [{\"marker\": {\"colorbar\": {\"outlinewidth\": 0, \"ticks\": \"\"}}, \"type\": \"histogram\"}], \"histogram2d\": [{\"colorbar\": {\"outlinewidth\": 0, \"ticks\": \"\"}, \"colorscale\": [[0.0, \"#0d0887\"], [0.1111111111111111, \"#46039f\"], [0.2222222222222222, \"#7201a8\"], [0.3333333333333333, \"#9c179e\"], [0.4444444444444444, \"#bd3786\"], [0.5555555555555556, \"#d8576b\"], [0.6666666666666666, \"#ed7953\"], [0.7777777777777778, \"#fb9f3a\"], [0.8888888888888888, \"#fdca26\"], [1.0, \"#f0f921\"]], \"type\": \"histogram2d\"}], \"histogram2dcontour\": [{\"colorbar\": {\"outlinewidth\": 0, \"ticks\": \"\"}, \"colorscale\": [[0.0, \"#0d0887\"], [0.1111111111111111, \"#46039f\"], [0.2222222222222222, \"#7201a8\"], [0.3333333333333333, \"#9c179e\"], [0.4444444444444444, \"#bd3786\"], [0.5555555555555556, \"#d8576b\"], [0.6666666666666666, \"#ed7953\"], [0.7777777777777778, \"#fb9f3a\"], [0.8888888888888888, \"#fdca26\"], [1.0, \"#f0f921\"]], \"type\": \"histogram2dcontour\"}], \"mesh3d\": [{\"colorbar\": {\"outlinewidth\": 0, \"ticks\": \"\"}, \"type\": \"mesh3d\"}], \"parcoords\": [{\"line\": {\"colorbar\": {\"outlinewidth\": 0, \"ticks\": \"\"}}, \"type\": \"parcoords\"}], \"pie\": [{\"automargin\": true, \"type\": \"pie\"}], \"scatter\": [{\"marker\": {\"colorbar\": {\"outlinewidth\": 0, \"ticks\": \"\"}}, \"type\": \"scatter\"}], \"scatter3d\": [{\"line\": {\"colorbar\": {\"outlinewidth\": 0, \"ticks\": \"\"}}, \"marker\": {\"colorbar\": {\"outlinewidth\": 0, \"ticks\": \"\"}}, \"type\": \"scatter3d\"}], \"scattercarpet\": [{\"marker\": {\"colorbar\": {\"outlinewidth\": 0, \"ticks\": \"\"}}, \"type\": \"scattercarpet\"}], \"scattergeo\": [{\"marker\": {\"colorbar\": {\"outlinewidth\": 0, \"ticks\": \"\"}}, \"type\": \"scattergeo\"}], \"scattergl\": [{\"marker\": {\"colorbar\": {\"outlinewidth\": 0, \"ticks\": \"\"}}, \"type\": \"scattergl\"}], \"scattermapbox\": [{\"marker\": {\"colorbar\": {\"outlinewidth\": 0, \"ticks\": \"\"}}, \"type\": \"scattermapbox\"}], \"scatterpolar\": [{\"marker\": {\"colorbar\": {\"outlinewidth\": 0, \"ticks\": \"\"}}, \"type\": \"scatterpolar\"}], \"scatterpolargl\": [{\"marker\": {\"colorbar\": {\"outlinewidth\": 0, \"ticks\": \"\"}}, \"type\": \"scatterpolargl\"}], \"scatterternary\": [{\"marker\": {\"colorbar\": {\"outlinewidth\": 0, \"ticks\": \"\"}}, \"type\": \"scatterternary\"}], \"surface\": [{\"colorbar\": {\"outlinewidth\": 0, \"ticks\": \"\"}, \"colorscale\": [[0.0, \"#0d0887\"], [0.1111111111111111, \"#46039f\"], [0.2222222222222222, \"#7201a8\"], [0.3333333333333333, \"#9c179e\"], [0.4444444444444444, \"#bd3786\"], [0.5555555555555556, \"#d8576b\"], [0.6666666666666666, \"#ed7953\"], [0.7777777777777778, \"#fb9f3a\"], [0.8888888888888888, \"#fdca26\"], [1.0, \"#f0f921\"]], \"type\": \"surface\"}], \"table\": [{\"cells\": {\"fill\": {\"color\": \"#EBF0F8\"}, \"line\": {\"color\": \"white\"}}, \"header\": {\"fill\": {\"color\": \"#C8D4E3\"}, \"line\": {\"color\": \"white\"}}, \"type\": \"table\"}]}, \"layout\": {\"annotationdefaults\": {\"arrowcolor\": \"#2a3f5f\", \"arrowhead\": 0, \"arrowwidth\": 1}, \"coloraxis\": {\"colorbar\": {\"outlinewidth\": 0, \"ticks\": \"\"}}, \"colorscale\": {\"diverging\": [[0, \"#8e0152\"], [0.1, \"#c51b7d\"], [0.2, \"#de77ae\"], [0.3, \"#f1b6da\"], [0.4, \"#fde0ef\"], [0.5, \"#f7f7f7\"], [0.6, \"#e6f5d0\"], [0.7, \"#b8e186\"], [0.8, \"#7fbc41\"], [0.9, \"#4d9221\"], [1, \"#276419\"]], \"sequential\": [[0.0, \"#0d0887\"], [0.1111111111111111, \"#46039f\"], [0.2222222222222222, \"#7201a8\"], [0.3333333333333333, \"#9c179e\"], [0.4444444444444444, \"#bd3786\"], [0.5555555555555556, \"#d8576b\"], [0.6666666666666666, \"#ed7953\"], [0.7777777777777778, \"#fb9f3a\"], [0.8888888888888888, \"#fdca26\"], [1.0, \"#f0f921\"]], \"sequentialminus\": [[0.0, \"#0d0887\"], [0.1111111111111111, \"#46039f\"], [0.2222222222222222, \"#7201a8\"], [0.3333333333333333, \"#9c179e\"], [0.4444444444444444, \"#bd3786\"], [0.5555555555555556, \"#d8576b\"], [0.6666666666666666, \"#ed7953\"], [0.7777777777777778, \"#fb9f3a\"], [0.8888888888888888, \"#fdca26\"], [1.0, \"#f0f921\"]]}, \"colorway\": [\"#636efa\", \"#EF553B\", \"#00cc96\", \"#ab63fa\", \"#FFA15A\", \"#19d3f3\", \"#FF6692\", \"#B6E880\", \"#FF97FF\", \"#FECB52\"], \"font\": {\"color\": \"#2a3f5f\"}, \"geo\": {\"bgcolor\": \"white\", \"lakecolor\": \"white\", \"landcolor\": \"#E5ECF6\", \"showlakes\": true, \"showland\": true, \"subunitcolor\": \"white\"}, \"hoverlabel\": {\"align\": \"left\"}, \"hovermode\": \"closest\", \"mapbox\": {\"style\": \"light\"}, \"paper_bgcolor\": \"white\", \"plot_bgcolor\": \"#E5ECF6\", \"polar\": {\"angularaxis\": {\"gridcolor\": \"white\", \"linecolor\": \"white\", \"ticks\": \"\"}, \"bgcolor\": \"#E5ECF6\", \"radialaxis\": {\"gridcolor\": \"white\", \"linecolor\": \"white\", \"ticks\": \"\"}}, \"scene\": {\"xaxis\": {\"backgroundcolor\": \"#E5ECF6\", \"gridcolor\": \"white\", \"gridwidth\": 2, \"linecolor\": \"white\", \"showbackground\": true, \"ticks\": \"\", \"zerolinecolor\": \"white\"}, \"yaxis\": {\"backgroundcolor\": \"#E5ECF6\", \"gridcolor\": \"white\", \"gridwidth\": 2, \"linecolor\": \"white\", \"showbackground\": true, \"ticks\": \"\", \"zerolinecolor\": \"white\"}, \"zaxis\": {\"backgroundcolor\": \"#E5ECF6\", \"gridcolor\": \"white\", \"gridwidth\": 2, \"linecolor\": \"white\", \"showbackground\": true, \"ticks\": \"\", \"zerolinecolor\": \"white\"}}, \"shapedefaults\": {\"line\": {\"color\": \"#2a3f5f\"}}, \"ternary\": {\"aaxis\": {\"gridcolor\": \"white\", \"linecolor\": \"white\", \"ticks\": \"\"}, \"baxis\": {\"gridcolor\": \"white\", \"linecolor\": \"white\", \"ticks\": \"\"}, \"bgcolor\": \"#E5ECF6\", \"caxis\": {\"gridcolor\": \"white\", \"linecolor\": \"white\", \"ticks\": \"\"}}, \"title\": {\"x\": 0.05}, \"xaxis\": {\"automargin\": true, \"gridcolor\": \"white\", \"linecolor\": \"white\", \"ticks\": \"\", \"title\": {\"standoff\": 15}, \"zerolinecolor\": \"white\", \"zerolinewidth\": 2}, \"yaxis\": {\"automargin\": true, \"gridcolor\": \"white\", \"linecolor\": \"white\", \"ticks\": \"\", \"title\": {\"standoff\": 15}, \"zerolinecolor\": \"white\", \"zerolinewidth\": 2}}}, \"updatemenus\": [{\"buttons\": [{\"args\": [null, {\"frame\": {\"duration\": 500, \"redraw\": true}, \"fromcurrent\": true, \"mode\": \"immediate\", \"transition\": {\"duration\": 500, \"easing\": \"linear\"}}], \"label\": \"&#9654;\", \"method\": \"animate\"}, {\"args\": [[null], {\"frame\": {\"duration\": 0, \"redraw\": true}, \"fromcurrent\": true, \"mode\": \"immediate\", \"transition\": {\"duration\": 0, \"easing\": \"linear\"}}], \"label\": \"&#9724;\", \"method\": \"animate\"}], \"direction\": \"left\", \"pad\": {\"r\": 10, \"t\": 70}, \"showactive\": false, \"type\": \"buttons\", \"x\": 0.1, \"xanchor\": \"right\", \"y\": 0, \"yanchor\": \"top\"}], \"xaxis\": {\"anchor\": \"y\", \"categoryarray\": [\"MARC\", \"DAVID\", \"DANIEL\", \"ALBERT\", \"VICTOR\", \"JORDI\", \"SERGI\", \"ALEJANDRO\", \"POL\", \"ALEX\", \"PAU\", \"ARNAU\", \"GERARD\", \"JOAN\", \"PABLO\", \"JAN\", \"MARTI\", \"ERIC\", \"HUGO\", \"BIEL\", \"NIL\", \"BRUNO\", \"LUCAS\", \"LEO\"], \"categoryorder\": \"array\", \"domain\": [0.0, 1.0], \"title\": {\"text\": \"Name\"}}, \"yaxis\": {\"anchor\": \"x\", \"domain\": [0.0, 1.0], \"title\": {\"text\": \"Number\"}}},                        {\"responsive\": true}                    ).then(function(){\n",
       "                            Plotly.addFrames('2a136694-7211-45ff-97a2-66a386ebdb65', [{\"data\": [{\"alignmentgroup\": \"True\", \"hovertemplate\": \"Name=%{x}<br>Year=1996<br>Number=%{y}<extra></extra>\", \"legendgroup\": \"MARC\", \"marker\": {\"color\": \"#636efa\"}, \"name\": \"MARC\", \"offsetgroup\": \"MARC\", \"orientation\": \"v\", \"showlegend\": true, \"textposition\": \"auto\", \"x\": [\"MARC\"], \"xaxis\": \"x\", \"y\": [295], \"yaxis\": \"y\", \"type\": \"bar\"}, {\"alignmentgroup\": \"True\", \"hovertemplate\": \"Name=%{x}<br>Year=1996<br>Number=%{y}<extra></extra>\", \"legendgroup\": \"DAVID\", \"marker\": {\"color\": \"#EF553B\"}, \"name\": \"DAVID\", \"offsetgroup\": \"DAVID\", \"orientation\": \"v\", \"showlegend\": true, \"textposition\": \"auto\", \"x\": [\"DAVID\"], \"xaxis\": \"x\", \"y\": [198], \"yaxis\": \"y\", \"type\": \"bar\"}, {\"alignmentgroup\": \"True\", \"hovertemplate\": \"Name=%{x}<br>Year=1996<br>Number=%{y}<extra></extra>\", \"legendgroup\": \"DANIEL\", \"marker\": {\"color\": \"#00cc96\"}, \"name\": \"DANIEL\", \"offsetgroup\": \"DANIEL\", \"orientation\": \"v\", \"showlegend\": true, \"textposition\": \"auto\", \"x\": [\"DANIEL\"], \"xaxis\": \"x\", \"y\": [174], \"yaxis\": \"y\", \"type\": \"bar\"}, {\"alignmentgroup\": \"True\", \"hovertemplate\": \"Name=%{x}<br>Year=1996<br>Number=%{y}<extra></extra>\", \"legendgroup\": \"ALBERT\", \"marker\": {\"color\": \"#ab63fa\"}, \"name\": \"ALBERT\", \"offsetgroup\": \"ALBERT\", \"orientation\": \"v\", \"showlegend\": true, \"textposition\": \"auto\", \"x\": [\"ALBERT\"], \"xaxis\": \"x\", \"y\": [151], \"yaxis\": \"y\", \"type\": \"bar\"}, {\"alignmentgroup\": \"True\", \"hovertemplate\": \"Name=%{x}<br>Year=1996<br>Number=%{y}<extra></extra>\", \"legendgroup\": \"VICTOR\", \"marker\": {\"color\": \"#FFA15A\"}, \"name\": \"VICTOR\", \"offsetgroup\": \"VICTOR\", \"orientation\": \"v\", \"showlegend\": true, \"textposition\": \"auto\", \"x\": [\"VICTOR\"], \"xaxis\": \"x\", \"y\": [145], \"yaxis\": \"y\", \"type\": \"bar\"}, {\"alignmentgroup\": \"True\", \"hovertemplate\": \"Name=%{x}<br>Year=1996<br>Number=%{y}<extra></extra>\", \"legendgroup\": \"JORDI\", \"marker\": {\"color\": \"#19d3f3\"}, \"name\": \"JORDI\", \"offsetgroup\": \"JORDI\", \"orientation\": \"v\", \"showlegend\": true, \"textposition\": \"auto\", \"x\": [\"JORDI\"], \"xaxis\": \"x\", \"y\": [143], \"yaxis\": \"y\", \"type\": \"bar\"}, {\"alignmentgroup\": \"True\", \"hovertemplate\": \"Name=%{x}<br>Year=1996<br>Number=%{y}<extra></extra>\", \"legendgroup\": \"SERGI\", \"marker\": {\"color\": \"#FF6692\"}, \"name\": \"SERGI\", \"offsetgroup\": \"SERGI\", \"orientation\": \"v\", \"showlegend\": true, \"textposition\": \"auto\", \"x\": [\"SERGI\"], \"xaxis\": \"x\", \"y\": [137], \"yaxis\": \"y\", \"type\": \"bar\"}, {\"alignmentgroup\": \"True\", \"hovertemplate\": \"Name=%{x}<br>Year=1996<br>Number=%{y}<extra></extra>\", \"legendgroup\": \"ALEJANDRO\", \"marker\": {\"color\": \"#B6E880\"}, \"name\": \"ALEJANDRO\", \"offsetgroup\": \"ALEJANDRO\", \"orientation\": \"v\", \"showlegend\": true, \"textposition\": \"auto\", \"x\": [\"ALEJANDRO\"], \"xaxis\": \"x\", \"y\": [132], \"yaxis\": \"y\", \"type\": \"bar\"}, {\"alignmentgroup\": \"True\", \"hovertemplate\": \"Name=%{x}<br>Year=1996<br>Number=%{y}<extra></extra>\", \"legendgroup\": \"POL\", \"marker\": {\"color\": \"#FF97FF\"}, \"name\": \"POL\", \"offsetgroup\": \"POL\", \"orientation\": \"v\", \"showlegend\": true, \"textposition\": \"auto\", \"x\": [\"POL\"], \"xaxis\": \"x\", \"y\": [123], \"yaxis\": \"y\", \"type\": \"bar\"}, {\"alignmentgroup\": \"True\", \"hovertemplate\": \"Name=%{x}<br>Year=1996<br>Number=%{y}<extra></extra>\", \"legendgroup\": \"ALEX\", \"marker\": {\"color\": \"#FECB52\"}, \"name\": \"ALEX\", \"offsetgroup\": \"ALEX\", \"orientation\": \"v\", \"showlegend\": true, \"textposition\": \"auto\", \"x\": [\"ALEX\"], \"xaxis\": \"x\", \"y\": [113], \"yaxis\": \"y\", \"type\": \"bar\"}], \"name\": \"1996\"}, {\"data\": [{\"alignmentgroup\": \"True\", \"hovertemplate\": \"Name=%{x}<br>Year=1997<br>Number=%{y}<extra></extra>\", \"legendgroup\": \"MARC\", \"marker\": {\"color\": \"#636efa\"}, \"name\": \"MARC\", \"offsetgroup\": \"MARC\", \"orientation\": \"v\", \"showlegend\": true, \"textposition\": \"auto\", \"x\": [\"MARC\"], \"xaxis\": \"x\", \"y\": [348], \"yaxis\": \"y\", \"type\": \"bar\"}, {\"alignmentgroup\": \"True\", \"hovertemplate\": \"Name=%{x}<br>Year=1997<br>Number=%{y}<extra></extra>\", \"legendgroup\": \"DAVID\", \"marker\": {\"color\": \"#EF553B\"}, \"name\": \"DAVID\", \"offsetgroup\": \"DAVID\", \"orientation\": \"v\", \"showlegend\": true, \"textposition\": \"auto\", \"x\": [\"DAVID\"], \"xaxis\": \"x\", \"y\": [183], \"yaxis\": \"y\", \"type\": \"bar\"}, {\"alignmentgroup\": \"True\", \"hovertemplate\": \"Name=%{x}<br>Year=1997<br>Number=%{y}<extra></extra>\", \"legendgroup\": \"DANIEL\", \"marker\": {\"color\": \"#00cc96\"}, \"name\": \"DANIEL\", \"offsetgroup\": \"DANIEL\", \"orientation\": \"v\", \"showlegend\": true, \"textposition\": \"auto\", \"x\": [\"DANIEL\"], \"xaxis\": \"x\", \"y\": [163], \"yaxis\": \"y\", \"type\": \"bar\"}, {\"alignmentgroup\": \"True\", \"hovertemplate\": \"Name=%{x}<br>Year=1997<br>Number=%{y}<extra></extra>\", \"legendgroup\": \"ALBERT\", \"marker\": {\"color\": \"#ab63fa\"}, \"name\": \"ALBERT\", \"offsetgroup\": \"ALBERT\", \"orientation\": \"v\", \"showlegend\": true, \"textposition\": \"auto\", \"x\": [\"ALBERT\"], \"xaxis\": \"x\", \"y\": [126], \"yaxis\": \"y\", \"type\": \"bar\"}, {\"alignmentgroup\": \"True\", \"hovertemplate\": \"Name=%{x}<br>Year=1997<br>Number=%{y}<extra></extra>\", \"legendgroup\": \"VICTOR\", \"marker\": {\"color\": \"#FFA15A\"}, \"name\": \"VICTOR\", \"offsetgroup\": \"VICTOR\", \"orientation\": \"v\", \"showlegend\": true, \"textposition\": \"auto\", \"x\": [\"VICTOR\"], \"xaxis\": \"x\", \"y\": [150], \"yaxis\": \"y\", \"type\": \"bar\"}, {\"alignmentgroup\": \"True\", \"hovertemplate\": \"Name=%{x}<br>Year=1997<br>Number=%{y}<extra></extra>\", \"legendgroup\": \"SERGI\", \"marker\": {\"color\": \"#FF6692\"}, \"name\": \"SERGI\", \"offsetgroup\": \"SERGI\", \"orientation\": \"v\", \"showlegend\": true, \"textposition\": \"auto\", \"x\": [\"SERGI\"], \"xaxis\": \"x\", \"y\": [120], \"yaxis\": \"y\", \"type\": \"bar\"}, {\"alignmentgroup\": \"True\", \"hovertemplate\": \"Name=%{x}<br>Year=1997<br>Number=%{y}<extra></extra>\", \"legendgroup\": \"ALEJANDRO\", \"marker\": {\"color\": \"#B6E880\"}, \"name\": \"ALEJANDRO\", \"offsetgroup\": \"ALEJANDRO\", \"orientation\": \"v\", \"showlegend\": true, \"textposition\": \"auto\", \"x\": [\"ALEJANDRO\"], \"xaxis\": \"x\", \"y\": [128], \"yaxis\": \"y\", \"type\": \"bar\"}, {\"alignmentgroup\": \"True\", \"hovertemplate\": \"Name=%{x}<br>Year=1997<br>Number=%{y}<extra></extra>\", \"legendgroup\": \"POL\", \"marker\": {\"color\": \"#FF97FF\"}, \"name\": \"POL\", \"offsetgroup\": \"POL\", \"orientation\": \"v\", \"showlegend\": true, \"textposition\": \"auto\", \"x\": [\"POL\"], \"xaxis\": \"x\", \"y\": [143], \"yaxis\": \"y\", \"type\": \"bar\"}, {\"alignmentgroup\": \"True\", \"hovertemplate\": \"Name=%{x}<br>Year=1997<br>Number=%{y}<extra></extra>\", \"legendgroup\": \"ALEX\", \"marker\": {\"color\": \"#FECB52\"}, \"name\": \"ALEX\", \"offsetgroup\": \"ALEX\", \"orientation\": \"v\", \"showlegend\": true, \"textposition\": \"auto\", \"x\": [\"ALEX\"], \"xaxis\": \"x\", \"y\": [148], \"yaxis\": \"y\", \"type\": \"bar\"}, {\"alignmentgroup\": \"True\", \"hovertemplate\": \"Name=%{x}<br>Year=1997<br>Number=%{y}<extra></extra>\", \"legendgroup\": \"PAU\", \"marker\": {\"color\": \"#636efa\"}, \"name\": \"PAU\", \"offsetgroup\": \"PAU\", \"orientation\": \"v\", \"showlegend\": true, \"textposition\": \"auto\", \"x\": [\"PAU\"], \"xaxis\": \"x\", \"y\": [125], \"yaxis\": \"y\", \"type\": \"bar\"}], \"name\": \"1997\"}, {\"data\": [{\"alignmentgroup\": \"True\", \"hovertemplate\": \"Name=%{x}<br>Year=1998<br>Number=%{y}<extra></extra>\", \"legendgroup\": \"MARC\", \"marker\": {\"color\": \"#636efa\"}, \"name\": \"MARC\", \"offsetgroup\": \"MARC\", \"orientation\": \"v\", \"showlegend\": true, \"textposition\": \"auto\", \"x\": [\"MARC\"], \"xaxis\": \"x\", \"y\": [330], \"yaxis\": \"y\", \"type\": \"bar\"}, {\"alignmentgroup\": \"True\", \"hovertemplate\": \"Name=%{x}<br>Year=1998<br>Number=%{y}<extra></extra>\", \"legendgroup\": \"DAVID\", \"marker\": {\"color\": \"#EF553B\"}, \"name\": \"DAVID\", \"offsetgroup\": \"DAVID\", \"orientation\": \"v\", \"showlegend\": true, \"textposition\": \"auto\", \"x\": [\"DAVID\"], \"xaxis\": \"x\", \"y\": [184], \"yaxis\": \"y\", \"type\": \"bar\"}, {\"alignmentgroup\": \"True\", \"hovertemplate\": \"Name=%{x}<br>Year=1998<br>Number=%{y}<extra></extra>\", \"legendgroup\": \"DANIEL\", \"marker\": {\"color\": \"#00cc96\"}, \"name\": \"DANIEL\", \"offsetgroup\": \"DANIEL\", \"orientation\": \"v\", \"showlegend\": true, \"textposition\": \"auto\", \"x\": [\"DANIEL\"], \"xaxis\": \"x\", \"y\": [159], \"yaxis\": \"y\", \"type\": \"bar\"}, {\"alignmentgroup\": \"True\", \"hovertemplate\": \"Name=%{x}<br>Year=1998<br>Number=%{y}<extra></extra>\", \"legendgroup\": \"ALBERT\", \"marker\": {\"color\": \"#ab63fa\"}, \"name\": \"ALBERT\", \"offsetgroup\": \"ALBERT\", \"orientation\": \"v\", \"showlegend\": true, \"textposition\": \"auto\", \"x\": [\"ALBERT\"], \"xaxis\": \"x\", \"y\": [135], \"yaxis\": \"y\", \"type\": \"bar\"}, {\"alignmentgroup\": \"True\", \"hovertemplate\": \"Name=%{x}<br>Year=1998<br>Number=%{y}<extra></extra>\", \"legendgroup\": \"VICTOR\", \"marker\": {\"color\": \"#FFA15A\"}, \"name\": \"VICTOR\", \"offsetgroup\": \"VICTOR\", \"orientation\": \"v\", \"showlegend\": true, \"textposition\": \"auto\", \"x\": [\"VICTOR\"], \"xaxis\": \"x\", \"y\": [139], \"yaxis\": \"y\", \"type\": \"bar\"}, {\"alignmentgroup\": \"True\", \"hovertemplate\": \"Name=%{x}<br>Year=1998<br>Number=%{y}<extra></extra>\", \"legendgroup\": \"SERGI\", \"marker\": {\"color\": \"#FF6692\"}, \"name\": \"SERGI\", \"offsetgroup\": \"SERGI\", \"orientation\": \"v\", \"showlegend\": true, \"textposition\": \"auto\", \"x\": [\"SERGI\"], \"xaxis\": \"x\", \"y\": [130], \"yaxis\": \"y\", \"type\": \"bar\"}, {\"alignmentgroup\": \"True\", \"hovertemplate\": \"Name=%{x}<br>Year=1998<br>Number=%{y}<extra></extra>\", \"legendgroup\": \"ALEJANDRO\", \"marker\": {\"color\": \"#B6E880\"}, \"name\": \"ALEJANDRO\", \"offsetgroup\": \"ALEJANDRO\", \"orientation\": \"v\", \"showlegend\": true, \"textposition\": \"auto\", \"x\": [\"ALEJANDRO\"], \"xaxis\": \"x\", \"y\": [117], \"yaxis\": \"y\", \"type\": \"bar\"}, {\"alignmentgroup\": \"True\", \"hovertemplate\": \"Name=%{x}<br>Year=1998<br>Number=%{y}<extra></extra>\", \"legendgroup\": \"POL\", \"marker\": {\"color\": \"#FF97FF\"}, \"name\": \"POL\", \"offsetgroup\": \"POL\", \"orientation\": \"v\", \"showlegend\": true, \"textposition\": \"auto\", \"x\": [\"POL\"], \"xaxis\": \"x\", \"y\": [144], \"yaxis\": \"y\", \"type\": \"bar\"}, {\"alignmentgroup\": \"True\", \"hovertemplate\": \"Name=%{x}<br>Year=1998<br>Number=%{y}<extra></extra>\", \"legendgroup\": \"ALEX\", \"marker\": {\"color\": \"#FECB52\"}, \"name\": \"ALEX\", \"offsetgroup\": \"ALEX\", \"orientation\": \"v\", \"showlegend\": true, \"textposition\": \"auto\", \"x\": [\"ALEX\"], \"xaxis\": \"x\", \"y\": [174], \"yaxis\": \"y\", \"type\": \"bar\"}, {\"alignmentgroup\": \"True\", \"hovertemplate\": \"Name=%{x}<br>Year=1998<br>Number=%{y}<extra></extra>\", \"legendgroup\": \"PAU\", \"marker\": {\"color\": \"#636efa\"}, \"name\": \"PAU\", \"offsetgroup\": \"PAU\", \"orientation\": \"v\", \"showlegend\": true, \"textposition\": \"auto\", \"x\": [\"PAU\"], \"xaxis\": \"x\", \"y\": [122], \"yaxis\": \"y\", \"type\": \"bar\"}], \"name\": \"1998\"}, {\"data\": [{\"alignmentgroup\": \"True\", \"hovertemplate\": \"Name=%{x}<br>Year=1999<br>Number=%{y}<extra></extra>\", \"legendgroup\": \"MARC\", \"marker\": {\"color\": \"#636efa\"}, \"name\": \"MARC\", \"offsetgroup\": \"MARC\", \"orientation\": \"v\", \"showlegend\": true, \"textposition\": \"auto\", \"x\": [\"MARC\"], \"xaxis\": \"x\", \"y\": [291], \"yaxis\": \"y\", \"type\": \"bar\"}, {\"alignmentgroup\": \"True\", \"hovertemplate\": \"Name=%{x}<br>Year=1999<br>Number=%{y}<extra></extra>\", \"legendgroup\": \"DAVID\", \"marker\": {\"color\": \"#EF553B\"}, \"name\": \"DAVID\", \"offsetgroup\": \"DAVID\", \"orientation\": \"v\", \"showlegend\": true, \"textposition\": \"auto\", \"x\": [\"DAVID\"], \"xaxis\": \"x\", \"y\": [159], \"yaxis\": \"y\", \"type\": \"bar\"}, {\"alignmentgroup\": \"True\", \"hovertemplate\": \"Name=%{x}<br>Year=1999<br>Number=%{y}<extra></extra>\", \"legendgroup\": \"DANIEL\", \"marker\": {\"color\": \"#00cc96\"}, \"name\": \"DANIEL\", \"offsetgroup\": \"DANIEL\", \"orientation\": \"v\", \"showlegend\": true, \"textposition\": \"auto\", \"x\": [\"DANIEL\"], \"xaxis\": \"x\", \"y\": [166], \"yaxis\": \"y\", \"type\": \"bar\"}, {\"alignmentgroup\": \"True\", \"hovertemplate\": \"Name=%{x}<br>Year=1999<br>Number=%{y}<extra></extra>\", \"legendgroup\": \"ALBERT\", \"marker\": {\"color\": \"#ab63fa\"}, \"name\": \"ALBERT\", \"offsetgroup\": \"ALBERT\", \"orientation\": \"v\", \"showlegend\": true, \"textposition\": \"auto\", \"x\": [\"ALBERT\"], \"xaxis\": \"x\", \"y\": [122], \"yaxis\": \"y\", \"type\": \"bar\"}, {\"alignmentgroup\": \"True\", \"hovertemplate\": \"Name=%{x}<br>Year=1999<br>Number=%{y}<extra></extra>\", \"legendgroup\": \"VICTOR\", \"marker\": {\"color\": \"#FFA15A\"}, \"name\": \"VICTOR\", \"offsetgroup\": \"VICTOR\", \"orientation\": \"v\", \"showlegend\": true, \"textposition\": \"auto\", \"x\": [\"VICTOR\"], \"xaxis\": \"x\", \"y\": [157], \"yaxis\": \"y\", \"type\": \"bar\"}, {\"alignmentgroup\": \"True\", \"hovertemplate\": \"Name=%{x}<br>Year=1999<br>Number=%{y}<extra></extra>\", \"legendgroup\": \"JORDI\", \"marker\": {\"color\": \"#19d3f3\"}, \"name\": \"JORDI\", \"offsetgroup\": \"JORDI\", \"orientation\": \"v\", \"showlegend\": true, \"textposition\": \"auto\", \"x\": [\"JORDI\"], \"xaxis\": \"x\", \"y\": [115], \"yaxis\": \"y\", \"type\": \"bar\"}, {\"alignmentgroup\": \"True\", \"hovertemplate\": \"Name=%{x}<br>Year=1999<br>Number=%{y}<extra></extra>\", \"legendgroup\": \"ALEJANDRO\", \"marker\": {\"color\": \"#B6E880\"}, \"name\": \"ALEJANDRO\", \"offsetgroup\": \"ALEJANDRO\", \"orientation\": \"v\", \"showlegend\": true, \"textposition\": \"auto\", \"x\": [\"ALEJANDRO\"], \"xaxis\": \"x\", \"y\": [118], \"yaxis\": \"y\", \"type\": \"bar\"}, {\"alignmentgroup\": \"True\", \"hovertemplate\": \"Name=%{x}<br>Year=1999<br>Number=%{y}<extra></extra>\", \"legendgroup\": \"POL\", \"marker\": {\"color\": \"#FF97FF\"}, \"name\": \"POL\", \"offsetgroup\": \"POL\", \"orientation\": \"v\", \"showlegend\": true, \"textposition\": \"auto\", \"x\": [\"POL\"], \"xaxis\": \"x\", \"y\": [155], \"yaxis\": \"y\", \"type\": \"bar\"}, {\"alignmentgroup\": \"True\", \"hovertemplate\": \"Name=%{x}<br>Year=1999<br>Number=%{y}<extra></extra>\", \"legendgroup\": \"ALEX\", \"marker\": {\"color\": \"#FECB52\"}, \"name\": \"ALEX\", \"offsetgroup\": \"ALEX\", \"orientation\": \"v\", \"showlegend\": true, \"textposition\": \"auto\", \"x\": [\"ALEX\"], \"xaxis\": \"x\", \"y\": [169], \"yaxis\": \"y\", \"type\": \"bar\"}, {\"alignmentgroup\": \"True\", \"hovertemplate\": \"Name=%{x}<br>Year=1999<br>Number=%{y}<extra></extra>\", \"legendgroup\": \"PAU\", \"marker\": {\"color\": \"#636efa\"}, \"name\": \"PAU\", \"offsetgroup\": \"PAU\", \"orientation\": \"v\", \"showlegend\": true, \"textposition\": \"auto\", \"x\": [\"PAU\"], \"xaxis\": \"x\", \"y\": [133], \"yaxis\": \"y\", \"type\": \"bar\"}], \"name\": \"1999\"}, {\"data\": [{\"alignmentgroup\": \"True\", \"hovertemplate\": \"Name=%{x}<br>Year=2000<br>Number=%{y}<extra></extra>\", \"legendgroup\": \"MARC\", \"marker\": {\"color\": \"#636efa\"}, \"name\": \"MARC\", \"offsetgroup\": \"MARC\", \"orientation\": \"v\", \"showlegend\": true, \"textposition\": \"auto\", \"x\": [\"MARC\"], \"xaxis\": \"x\", \"y\": [290], \"yaxis\": \"y\", \"type\": \"bar\"}, {\"alignmentgroup\": \"True\", \"hovertemplate\": \"Name=%{x}<br>Year=2000<br>Number=%{y}<extra></extra>\", \"legendgroup\": \"DAVID\", \"marker\": {\"color\": \"#EF553B\"}, \"name\": \"DAVID\", \"offsetgroup\": \"DAVID\", \"orientation\": \"v\", \"showlegend\": true, \"textposition\": \"auto\", \"x\": [\"DAVID\"], \"xaxis\": \"x\", \"y\": [187], \"yaxis\": \"y\", \"type\": \"bar\"}, {\"alignmentgroup\": \"True\", \"hovertemplate\": \"Name=%{x}<br>Year=2000<br>Number=%{y}<extra></extra>\", \"legendgroup\": \"DANIEL\", \"marker\": {\"color\": \"#00cc96\"}, \"name\": \"DANIEL\", \"offsetgroup\": \"DANIEL\", \"orientation\": \"v\", \"showlegend\": true, \"textposition\": \"auto\", \"x\": [\"DANIEL\"], \"xaxis\": \"x\", \"y\": [176], \"yaxis\": \"y\", \"type\": \"bar\"}, {\"alignmentgroup\": \"True\", \"hovertemplate\": \"Name=%{x}<br>Year=2000<br>Number=%{y}<extra></extra>\", \"legendgroup\": \"ALBERT\", \"marker\": {\"color\": \"#ab63fa\"}, \"name\": \"ALBERT\", \"offsetgroup\": \"ALBERT\", \"orientation\": \"v\", \"showlegend\": true, \"textposition\": \"auto\", \"x\": [\"ALBERT\"], \"xaxis\": \"x\", \"y\": [125], \"yaxis\": \"y\", \"type\": \"bar\"}, {\"alignmentgroup\": \"True\", \"hovertemplate\": \"Name=%{x}<br>Year=2000<br>Number=%{y}<extra></extra>\", \"legendgroup\": \"VICTOR\", \"marker\": {\"color\": \"#FFA15A\"}, \"name\": \"VICTOR\", \"offsetgroup\": \"VICTOR\", \"orientation\": \"v\", \"showlegend\": true, \"textposition\": \"auto\", \"x\": [\"VICTOR\"], \"xaxis\": \"x\", \"y\": [150], \"yaxis\": \"y\", \"type\": \"bar\"}, {\"alignmentgroup\": \"True\", \"hovertemplate\": \"Name=%{x}<br>Year=2000<br>Number=%{y}<extra></extra>\", \"legendgroup\": \"ALEJANDRO\", \"marker\": {\"color\": \"#B6E880\"}, \"name\": \"ALEJANDRO\", \"offsetgroup\": \"ALEJANDRO\", \"orientation\": \"v\", \"showlegend\": true, \"textposition\": \"auto\", \"x\": [\"ALEJANDRO\"], \"xaxis\": \"x\", \"y\": [117], \"yaxis\": \"y\", \"type\": \"bar\"}, {\"alignmentgroup\": \"True\", \"hovertemplate\": \"Name=%{x}<br>Year=2000<br>Number=%{y}<extra></extra>\", \"legendgroup\": \"POL\", \"marker\": {\"color\": \"#FF97FF\"}, \"name\": \"POL\", \"offsetgroup\": \"POL\", \"orientation\": \"v\", \"showlegend\": true, \"textposition\": \"auto\", \"x\": [\"POL\"], \"xaxis\": \"x\", \"y\": [189], \"yaxis\": \"y\", \"type\": \"bar\"}, {\"alignmentgroup\": \"True\", \"hovertemplate\": \"Name=%{x}<br>Year=2000<br>Number=%{y}<extra></extra>\", \"legendgroup\": \"ALEX\", \"marker\": {\"color\": \"#FECB52\"}, \"name\": \"ALEX\", \"offsetgroup\": \"ALEX\", \"orientation\": \"v\", \"showlegend\": true, \"textposition\": \"auto\", \"x\": [\"ALEX\"], \"xaxis\": \"x\", \"y\": [201], \"yaxis\": \"y\", \"type\": \"bar\"}, {\"alignmentgroup\": \"True\", \"hovertemplate\": \"Name=%{x}<br>Year=2000<br>Number=%{y}<extra></extra>\", \"legendgroup\": \"PAU\", \"marker\": {\"color\": \"#636efa\"}, \"name\": \"PAU\", \"offsetgroup\": \"PAU\", \"orientation\": \"v\", \"showlegend\": true, \"textposition\": \"auto\", \"x\": [\"PAU\"], \"xaxis\": \"x\", \"y\": [134], \"yaxis\": \"y\", \"type\": \"bar\"}, {\"alignmentgroup\": \"True\", \"hovertemplate\": \"Name=%{x}<br>Year=2000<br>Number=%{y}<extra></extra>\", \"legendgroup\": \"ARNAU\", \"marker\": {\"color\": \"#EF553B\"}, \"name\": \"ARNAU\", \"offsetgroup\": \"ARNAU\", \"orientation\": \"v\", \"showlegend\": true, \"textposition\": \"auto\", \"x\": [\"ARNAU\"], \"xaxis\": \"x\", \"y\": [120], \"yaxis\": \"y\", \"type\": \"bar\"}], \"name\": \"2000\"}, {\"data\": [{\"alignmentgroup\": \"True\", \"hovertemplate\": \"Name=%{x}<br>Year=2001<br>Number=%{y}<extra></extra>\", \"legendgroup\": \"MARC\", \"marker\": {\"color\": \"#636efa\"}, \"name\": \"MARC\", \"offsetgroup\": \"MARC\", \"orientation\": \"v\", \"showlegend\": true, \"textposition\": \"auto\", \"x\": [\"MARC\"], \"xaxis\": \"x\", \"y\": [234], \"yaxis\": \"y\", \"type\": \"bar\"}, {\"alignmentgroup\": \"True\", \"hovertemplate\": \"Name=%{x}<br>Year=2001<br>Number=%{y}<extra></extra>\", \"legendgroup\": \"DAVID\", \"marker\": {\"color\": \"#EF553B\"}, \"name\": \"DAVID\", \"offsetgroup\": \"DAVID\", \"orientation\": \"v\", \"showlegend\": true, \"textposition\": \"auto\", \"x\": [\"DAVID\"], \"xaxis\": \"x\", \"y\": [154], \"yaxis\": \"y\", \"type\": \"bar\"}, {\"alignmentgroup\": \"True\", \"hovertemplate\": \"Name=%{x}<br>Year=2001<br>Number=%{y}<extra></extra>\", \"legendgroup\": \"DANIEL\", \"marker\": {\"color\": \"#00cc96\"}, \"name\": \"DANIEL\", \"offsetgroup\": \"DANIEL\", \"orientation\": \"v\", \"showlegend\": true, \"textposition\": \"auto\", \"x\": [\"DANIEL\"], \"xaxis\": \"x\", \"y\": [143], \"yaxis\": \"y\", \"type\": \"bar\"}, {\"alignmentgroup\": \"True\", \"hovertemplate\": \"Name=%{x}<br>Year=2001<br>Number=%{y}<extra></extra>\", \"legendgroup\": \"VICTOR\", \"marker\": {\"color\": \"#FFA15A\"}, \"name\": \"VICTOR\", \"offsetgroup\": \"VICTOR\", \"orientation\": \"v\", \"showlegend\": true, \"textposition\": \"auto\", \"x\": [\"VICTOR\"], \"xaxis\": \"x\", \"y\": [126], \"yaxis\": \"y\", \"type\": \"bar\"}, {\"alignmentgroup\": \"True\", \"hovertemplate\": \"Name=%{x}<br>Year=2001<br>Number=%{y}<extra></extra>\", \"legendgroup\": \"ALEJANDRO\", \"marker\": {\"color\": \"#B6E880\"}, \"name\": \"ALEJANDRO\", \"offsetgroup\": \"ALEJANDRO\", \"orientation\": \"v\", \"showlegend\": true, \"textposition\": \"auto\", \"x\": [\"ALEJANDRO\"], \"xaxis\": \"x\", \"y\": [132], \"yaxis\": \"y\", \"type\": \"bar\"}, {\"alignmentgroup\": \"True\", \"hovertemplate\": \"Name=%{x}<br>Year=2001<br>Number=%{y}<extra></extra>\", \"legendgroup\": \"POL\", \"marker\": {\"color\": \"#FF97FF\"}, \"name\": \"POL\", \"offsetgroup\": \"POL\", \"orientation\": \"v\", \"showlegend\": true, \"textposition\": \"auto\", \"x\": [\"POL\"], \"xaxis\": \"x\", \"y\": [159], \"yaxis\": \"y\", \"type\": \"bar\"}, {\"alignmentgroup\": \"True\", \"hovertemplate\": \"Name=%{x}<br>Year=2001<br>Number=%{y}<extra></extra>\", \"legendgroup\": \"ALEX\", \"marker\": {\"color\": \"#FECB52\"}, \"name\": \"ALEX\", \"offsetgroup\": \"ALEX\", \"orientation\": \"v\", \"showlegend\": true, \"textposition\": \"auto\", \"x\": [\"ALEX\"], \"xaxis\": \"x\", \"y\": [164], \"yaxis\": \"y\", \"type\": \"bar\"}, {\"alignmentgroup\": \"True\", \"hovertemplate\": \"Name=%{x}<br>Year=2001<br>Number=%{y}<extra></extra>\", \"legendgroup\": \"PAU\", \"marker\": {\"color\": \"#636efa\"}, \"name\": \"PAU\", \"offsetgroup\": \"PAU\", \"orientation\": \"v\", \"showlegend\": true, \"textposition\": \"auto\", \"x\": [\"PAU\"], \"xaxis\": \"x\", \"y\": [151], \"yaxis\": \"y\", \"type\": \"bar\"}, {\"alignmentgroup\": \"True\", \"hovertemplate\": \"Name=%{x}<br>Year=2001<br>Number=%{y}<extra></extra>\", \"legendgroup\": \"ARNAU\", \"marker\": {\"color\": \"#EF553B\"}, \"name\": \"ARNAU\", \"offsetgroup\": \"ARNAU\", \"orientation\": \"v\", \"showlegend\": true, \"textposition\": \"auto\", \"x\": [\"ARNAU\"], \"xaxis\": \"x\", \"y\": [108], \"yaxis\": \"y\", \"type\": \"bar\"}, {\"alignmentgroup\": \"True\", \"hovertemplate\": \"Name=%{x}<br>Year=2001<br>Number=%{y}<extra></extra>\", \"legendgroup\": \"GERARD\", \"marker\": {\"color\": \"#00cc96\"}, \"name\": \"GERARD\", \"offsetgroup\": \"GERARD\", \"orientation\": \"v\", \"showlegend\": true, \"textposition\": \"auto\", \"x\": [\"GERARD\"], \"xaxis\": \"x\", \"y\": [125], \"yaxis\": \"y\", \"type\": \"bar\"}], \"name\": \"2001\"}, {\"data\": [{\"alignmentgroup\": \"True\", \"hovertemplate\": \"Name=%{x}<br>Year=2002<br>Number=%{y}<extra></extra>\", \"legendgroup\": \"MARC\", \"marker\": {\"color\": \"#636efa\"}, \"name\": \"MARC\", \"offsetgroup\": \"MARC\", \"orientation\": \"v\", \"showlegend\": true, \"textposition\": \"auto\", \"x\": [\"MARC\"], \"xaxis\": \"x\", \"y\": [267], \"yaxis\": \"y\", \"type\": \"bar\"}, {\"alignmentgroup\": \"True\", \"hovertemplate\": \"Name=%{x}<br>Year=2002<br>Number=%{y}<extra></extra>\", \"legendgroup\": \"DAVID\", \"marker\": {\"color\": \"#EF553B\"}, \"name\": \"DAVID\", \"offsetgroup\": \"DAVID\", \"orientation\": \"v\", \"showlegend\": true, \"textposition\": \"auto\", \"x\": [\"DAVID\"], \"xaxis\": \"x\", \"y\": [150], \"yaxis\": \"y\", \"type\": \"bar\"}, {\"alignmentgroup\": \"True\", \"hovertemplate\": \"Name=%{x}<br>Year=2002<br>Number=%{y}<extra></extra>\", \"legendgroup\": \"DANIEL\", \"marker\": {\"color\": \"#00cc96\"}, \"name\": \"DANIEL\", \"offsetgroup\": \"DANIEL\", \"orientation\": \"v\", \"showlegend\": true, \"textposition\": \"auto\", \"x\": [\"DANIEL\"], \"xaxis\": \"x\", \"y\": [128], \"yaxis\": \"y\", \"type\": \"bar\"}, {\"alignmentgroup\": \"True\", \"hovertemplate\": \"Name=%{x}<br>Year=2002<br>Number=%{y}<extra></extra>\", \"legendgroup\": \"VICTOR\", \"marker\": {\"color\": \"#FFA15A\"}, \"name\": \"VICTOR\", \"offsetgroup\": \"VICTOR\", \"orientation\": \"v\", \"showlegend\": true, \"textposition\": \"auto\", \"x\": [\"VICTOR\"], \"xaxis\": \"x\", \"y\": [120], \"yaxis\": \"y\", \"type\": \"bar\"}, {\"alignmentgroup\": \"True\", \"hovertemplate\": \"Name=%{x}<br>Year=2002<br>Number=%{y}<extra></extra>\", \"legendgroup\": \"ALEJANDRO\", \"marker\": {\"color\": \"#B6E880\"}, \"name\": \"ALEJANDRO\", \"offsetgroup\": \"ALEJANDRO\", \"orientation\": \"v\", \"showlegend\": true, \"textposition\": \"auto\", \"x\": [\"ALEJANDRO\"], \"xaxis\": \"x\", \"y\": [124], \"yaxis\": \"y\", \"type\": \"bar\"}, {\"alignmentgroup\": \"True\", \"hovertemplate\": \"Name=%{x}<br>Year=2002<br>Number=%{y}<extra></extra>\", \"legendgroup\": \"POL\", \"marker\": {\"color\": \"#FF97FF\"}, \"name\": \"POL\", \"offsetgroup\": \"POL\", \"orientation\": \"v\", \"showlegend\": true, \"textposition\": \"auto\", \"x\": [\"POL\"], \"xaxis\": \"x\", \"y\": [175], \"yaxis\": \"y\", \"type\": \"bar\"}, {\"alignmentgroup\": \"True\", \"hovertemplate\": \"Name=%{x}<br>Year=2002<br>Number=%{y}<extra></extra>\", \"legendgroup\": \"ALEX\", \"marker\": {\"color\": \"#FECB52\"}, \"name\": \"ALEX\", \"offsetgroup\": \"ALEX\", \"orientation\": \"v\", \"showlegend\": true, \"textposition\": \"auto\", \"x\": [\"ALEX\"], \"xaxis\": \"x\", \"y\": [148], \"yaxis\": \"y\", \"type\": \"bar\"}, {\"alignmentgroup\": \"True\", \"hovertemplate\": \"Name=%{x}<br>Year=2002<br>Number=%{y}<extra></extra>\", \"legendgroup\": \"PAU\", \"marker\": {\"color\": \"#636efa\"}, \"name\": \"PAU\", \"offsetgroup\": \"PAU\", \"orientation\": \"v\", \"showlegend\": true, \"textposition\": \"auto\", \"x\": [\"PAU\"], \"xaxis\": \"x\", \"y\": [149], \"yaxis\": \"y\", \"type\": \"bar\"}, {\"alignmentgroup\": \"True\", \"hovertemplate\": \"Name=%{x}<br>Year=2002<br>Number=%{y}<extra></extra>\", \"legendgroup\": \"ARNAU\", \"marker\": {\"color\": \"#EF553B\"}, \"name\": \"ARNAU\", \"offsetgroup\": \"ARNAU\", \"orientation\": \"v\", \"showlegend\": true, \"textposition\": \"auto\", \"x\": [\"ARNAU\"], \"xaxis\": \"x\", \"y\": [115], \"yaxis\": \"y\", \"type\": \"bar\"}, {\"alignmentgroup\": \"True\", \"hovertemplate\": \"Name=%{x}<br>Year=2002<br>Number=%{y}<extra></extra>\", \"legendgroup\": \"GERARD\", \"marker\": {\"color\": \"#00cc96\"}, \"name\": \"GERARD\", \"offsetgroup\": \"GERARD\", \"orientation\": \"v\", \"showlegend\": true, \"textposition\": \"auto\", \"x\": [\"GERARD\"], \"xaxis\": \"x\", \"y\": [106], \"yaxis\": \"y\", \"type\": \"bar\"}], \"name\": \"2002\"}, {\"data\": [{\"alignmentgroup\": \"True\", \"hovertemplate\": \"Name=%{x}<br>Year=2003<br>Number=%{y}<extra></extra>\", \"legendgroup\": \"MARC\", \"marker\": {\"color\": \"#636efa\"}, \"name\": \"MARC\", \"offsetgroup\": \"MARC\", \"orientation\": \"v\", \"showlegend\": true, \"textposition\": \"auto\", \"x\": [\"MARC\"], \"xaxis\": \"x\", \"y\": [287], \"yaxis\": \"y\", \"type\": \"bar\"}, {\"alignmentgroup\": \"True\", \"hovertemplate\": \"Name=%{x}<br>Year=2003<br>Number=%{y}<extra></extra>\", \"legendgroup\": \"DAVID\", \"marker\": {\"color\": \"#EF553B\"}, \"name\": \"DAVID\", \"offsetgroup\": \"DAVID\", \"orientation\": \"v\", \"showlegend\": true, \"textposition\": \"auto\", \"x\": [\"DAVID\"], \"xaxis\": \"x\", \"y\": [173], \"yaxis\": \"y\", \"type\": \"bar\"}, {\"alignmentgroup\": \"True\", \"hovertemplate\": \"Name=%{x}<br>Year=2003<br>Number=%{y}<extra></extra>\", \"legendgroup\": \"DANIEL\", \"marker\": {\"color\": \"#00cc96\"}, \"name\": \"DANIEL\", \"offsetgroup\": \"DANIEL\", \"orientation\": \"v\", \"showlegend\": true, \"textposition\": \"auto\", \"x\": [\"DANIEL\"], \"xaxis\": \"x\", \"y\": [156], \"yaxis\": \"y\", \"type\": \"bar\"}, {\"alignmentgroup\": \"True\", \"hovertemplate\": \"Name=%{x}<br>Year=2003<br>Number=%{y}<extra></extra>\", \"legendgroup\": \"VICTOR\", \"marker\": {\"color\": \"#FFA15A\"}, \"name\": \"VICTOR\", \"offsetgroup\": \"VICTOR\", \"orientation\": \"v\", \"showlegend\": true, \"textposition\": \"auto\", \"x\": [\"VICTOR\"], \"xaxis\": \"x\", \"y\": [107], \"yaxis\": \"y\", \"type\": \"bar\"}, {\"alignmentgroup\": \"True\", \"hovertemplate\": \"Name=%{x}<br>Year=2003<br>Number=%{y}<extra></extra>\", \"legendgroup\": \"ALEJANDRO\", \"marker\": {\"color\": \"#B6E880\"}, \"name\": \"ALEJANDRO\", \"offsetgroup\": \"ALEJANDRO\", \"orientation\": \"v\", \"showlegend\": true, \"textposition\": \"auto\", \"x\": [\"ALEJANDRO\"], \"xaxis\": \"x\", \"y\": [105], \"yaxis\": \"y\", \"type\": \"bar\"}, {\"alignmentgroup\": \"True\", \"hovertemplate\": \"Name=%{x}<br>Year=2003<br>Number=%{y}<extra></extra>\", \"legendgroup\": \"POL\", \"marker\": {\"color\": \"#FF97FF\"}, \"name\": \"POL\", \"offsetgroup\": \"POL\", \"orientation\": \"v\", \"showlegend\": true, \"textposition\": \"auto\", \"x\": [\"POL\"], \"xaxis\": \"x\", \"y\": [184], \"yaxis\": \"y\", \"type\": \"bar\"}, {\"alignmentgroup\": \"True\", \"hovertemplate\": \"Name=%{x}<br>Year=2003<br>Number=%{y}<extra></extra>\", \"legendgroup\": \"ALEX\", \"marker\": {\"color\": \"#FECB52\"}, \"name\": \"ALEX\", \"offsetgroup\": \"ALEX\", \"orientation\": \"v\", \"showlegend\": true, \"textposition\": \"auto\", \"x\": [\"ALEX\"], \"xaxis\": \"x\", \"y\": [205], \"yaxis\": \"y\", \"type\": \"bar\"}, {\"alignmentgroup\": \"True\", \"hovertemplate\": \"Name=%{x}<br>Year=2003<br>Number=%{y}<extra></extra>\", \"legendgroup\": \"PAU\", \"marker\": {\"color\": \"#636efa\"}, \"name\": \"PAU\", \"offsetgroup\": \"PAU\", \"orientation\": \"v\", \"showlegend\": true, \"textposition\": \"auto\", \"x\": [\"PAU\"], \"xaxis\": \"x\", \"y\": [202], \"yaxis\": \"y\", \"type\": \"bar\"}, {\"alignmentgroup\": \"True\", \"hovertemplate\": \"Name=%{x}<br>Year=2003<br>Number=%{y}<extra></extra>\", \"legendgroup\": \"ARNAU\", \"marker\": {\"color\": \"#EF553B\"}, \"name\": \"ARNAU\", \"offsetgroup\": \"ARNAU\", \"orientation\": \"v\", \"showlegend\": true, \"textposition\": \"auto\", \"x\": [\"ARNAU\"], \"xaxis\": \"x\", \"y\": [109], \"yaxis\": \"y\", \"type\": \"bar\"}, {\"alignmentgroup\": \"True\", \"hovertemplate\": \"Name=%{x}<br>Year=2003<br>Number=%{y}<extra></extra>\", \"legendgroup\": \"JOAN\", \"marker\": {\"color\": \"#ab63fa\"}, \"name\": \"JOAN\", \"offsetgroup\": \"JOAN\", \"orientation\": \"v\", \"showlegend\": true, \"textposition\": \"auto\", \"x\": [\"JOAN\"], \"xaxis\": \"x\", \"y\": [119], \"yaxis\": \"y\", \"type\": \"bar\"}], \"name\": \"2003\"}, {\"data\": [{\"alignmentgroup\": \"True\", \"hovertemplate\": \"Name=%{x}<br>Year=2004<br>Number=%{y}<extra></extra>\", \"legendgroup\": \"MARC\", \"marker\": {\"color\": \"#636efa\"}, \"name\": \"MARC\", \"offsetgroup\": \"MARC\", \"orientation\": \"v\", \"showlegend\": true, \"textposition\": \"auto\", \"x\": [\"MARC\"], \"xaxis\": \"x\", \"y\": [259], \"yaxis\": \"y\", \"type\": \"bar\"}, {\"alignmentgroup\": \"True\", \"hovertemplate\": \"Name=%{x}<br>Year=2004<br>Number=%{y}<extra></extra>\", \"legendgroup\": \"DAVID\", \"marker\": {\"color\": \"#EF553B\"}, \"name\": \"DAVID\", \"offsetgroup\": \"DAVID\", \"orientation\": \"v\", \"showlegend\": true, \"textposition\": \"auto\", \"x\": [\"DAVID\"], \"xaxis\": \"x\", \"y\": [129], \"yaxis\": \"y\", \"type\": \"bar\"}, {\"alignmentgroup\": \"True\", \"hovertemplate\": \"Name=%{x}<br>Year=2004<br>Number=%{y}<extra></extra>\", \"legendgroup\": \"DANIEL\", \"marker\": {\"color\": \"#00cc96\"}, \"name\": \"DANIEL\", \"offsetgroup\": \"DANIEL\", \"orientation\": \"v\", \"showlegend\": true, \"textposition\": \"auto\", \"x\": [\"DANIEL\"], \"xaxis\": \"x\", \"y\": [128], \"yaxis\": \"y\", \"type\": \"bar\"}, {\"alignmentgroup\": \"True\", \"hovertemplate\": \"Name=%{x}<br>Year=2004<br>Number=%{y}<extra></extra>\", \"legendgroup\": \"VICTOR\", \"marker\": {\"color\": \"#FFA15A\"}, \"name\": \"VICTOR\", \"offsetgroup\": \"VICTOR\", \"orientation\": \"v\", \"showlegend\": true, \"textposition\": \"auto\", \"x\": [\"VICTOR\"], \"xaxis\": \"x\", \"y\": [116], \"yaxis\": \"y\", \"type\": \"bar\"}, {\"alignmentgroup\": \"True\", \"hovertemplate\": \"Name=%{x}<br>Year=2004<br>Number=%{y}<extra></extra>\", \"legendgroup\": \"ALEJANDRO\", \"marker\": {\"color\": \"#B6E880\"}, \"name\": \"ALEJANDRO\", \"offsetgroup\": \"ALEJANDRO\", \"orientation\": \"v\", \"showlegend\": true, \"textposition\": \"auto\", \"x\": [\"ALEJANDRO\"], \"xaxis\": \"x\", \"y\": [107], \"yaxis\": \"y\", \"type\": \"bar\"}, {\"alignmentgroup\": \"True\", \"hovertemplate\": \"Name=%{x}<br>Year=2004<br>Number=%{y}<extra></extra>\", \"legendgroup\": \"POL\", \"marker\": {\"color\": \"#FF97FF\"}, \"name\": \"POL\", \"offsetgroup\": \"POL\", \"orientation\": \"v\", \"showlegend\": true, \"textposition\": \"auto\", \"x\": [\"POL\"], \"xaxis\": \"x\", \"y\": [181], \"yaxis\": \"y\", \"type\": \"bar\"}, {\"alignmentgroup\": \"True\", \"hovertemplate\": \"Name=%{x}<br>Year=2004<br>Number=%{y}<extra></extra>\", \"legendgroup\": \"ALEX\", \"marker\": {\"color\": \"#FECB52\"}, \"name\": \"ALEX\", \"offsetgroup\": \"ALEX\", \"orientation\": \"v\", \"showlegend\": true, \"textposition\": \"auto\", \"x\": [\"ALEX\"], \"xaxis\": \"x\", \"y\": [185], \"yaxis\": \"y\", \"type\": \"bar\"}, {\"alignmentgroup\": \"True\", \"hovertemplate\": \"Name=%{x}<br>Year=2004<br>Number=%{y}<extra></extra>\", \"legendgroup\": \"PAU\", \"marker\": {\"color\": \"#636efa\"}, \"name\": \"PAU\", \"offsetgroup\": \"PAU\", \"orientation\": \"v\", \"showlegend\": true, \"textposition\": \"auto\", \"x\": [\"PAU\"], \"xaxis\": \"x\", \"y\": [173], \"yaxis\": \"y\", \"type\": \"bar\"}, {\"alignmentgroup\": \"True\", \"hovertemplate\": \"Name=%{x}<br>Year=2004<br>Number=%{y}<extra></extra>\", \"legendgroup\": \"ARNAU\", \"marker\": {\"color\": \"#EF553B\"}, \"name\": \"ARNAU\", \"offsetgroup\": \"ARNAU\", \"orientation\": \"v\", \"showlegend\": true, \"textposition\": \"auto\", \"x\": [\"ARNAU\"], \"xaxis\": \"x\", \"y\": [125], \"yaxis\": \"y\", \"type\": \"bar\"}, {\"alignmentgroup\": \"True\", \"hovertemplate\": \"Name=%{x}<br>Year=2004<br>Number=%{y}<extra></extra>\", \"legendgroup\": \"PABLO\", \"marker\": {\"color\": \"#FFA15A\"}, \"name\": \"PABLO\", \"offsetgroup\": \"PABLO\", \"orientation\": \"v\", \"showlegend\": true, \"textposition\": \"auto\", \"x\": [\"PABLO\"], \"xaxis\": \"x\", \"y\": [107], \"yaxis\": \"y\", \"type\": \"bar\"}], \"name\": \"2004\"}, {\"data\": [{\"alignmentgroup\": \"True\", \"hovertemplate\": \"Name=%{x}<br>Year=2005<br>Number=%{y}<extra></extra>\", \"legendgroup\": \"MARC\", \"marker\": {\"color\": \"#636efa\"}, \"name\": \"MARC\", \"offsetgroup\": \"MARC\", \"orientation\": \"v\", \"showlegend\": true, \"textposition\": \"auto\", \"x\": [\"MARC\"], \"xaxis\": \"x\", \"y\": [277], \"yaxis\": \"y\", \"type\": \"bar\"}, {\"alignmentgroup\": \"True\", \"hovertemplate\": \"Name=%{x}<br>Year=2005<br>Number=%{y}<extra></extra>\", \"legendgroup\": \"DAVID\", \"marker\": {\"color\": \"#EF553B\"}, \"name\": \"DAVID\", \"offsetgroup\": \"DAVID\", \"orientation\": \"v\", \"showlegend\": true, \"textposition\": \"auto\", \"x\": [\"DAVID\"], \"xaxis\": \"x\", \"y\": [157], \"yaxis\": \"y\", \"type\": \"bar\"}, {\"alignmentgroup\": \"True\", \"hovertemplate\": \"Name=%{x}<br>Year=2005<br>Number=%{y}<extra></extra>\", \"legendgroup\": \"DANIEL\", \"marker\": {\"color\": \"#00cc96\"}, \"name\": \"DANIEL\", \"offsetgroup\": \"DANIEL\", \"orientation\": \"v\", \"showlegend\": true, \"textposition\": \"auto\", \"x\": [\"DANIEL\"], \"xaxis\": \"x\", \"y\": [151], \"yaxis\": \"y\", \"type\": \"bar\"}, {\"alignmentgroup\": \"True\", \"hovertemplate\": \"Name=%{x}<br>Year=2005<br>Number=%{y}<extra></extra>\", \"legendgroup\": \"POL\", \"marker\": {\"color\": \"#FF97FF\"}, \"name\": \"POL\", \"offsetgroup\": \"POL\", \"orientation\": \"v\", \"showlegend\": true, \"textposition\": \"auto\", \"x\": [\"POL\"], \"xaxis\": \"x\", \"y\": [176], \"yaxis\": \"y\", \"type\": \"bar\"}, {\"alignmentgroup\": \"True\", \"hovertemplate\": \"Name=%{x}<br>Year=2005<br>Number=%{y}<extra></extra>\", \"legendgroup\": \"ALEX\", \"marker\": {\"color\": \"#FECB52\"}, \"name\": \"ALEX\", \"offsetgroup\": \"ALEX\", \"orientation\": \"v\", \"showlegend\": true, \"textposition\": \"auto\", \"x\": [\"ALEX\"], \"xaxis\": \"x\", \"y\": [167], \"yaxis\": \"y\", \"type\": \"bar\"}, {\"alignmentgroup\": \"True\", \"hovertemplate\": \"Name=%{x}<br>Year=2005<br>Number=%{y}<extra></extra>\", \"legendgroup\": \"PAU\", \"marker\": {\"color\": \"#636efa\"}, \"name\": \"PAU\", \"offsetgroup\": \"PAU\", \"orientation\": \"v\", \"showlegend\": true, \"textposition\": \"auto\", \"x\": [\"PAU\"], \"xaxis\": \"x\", \"y\": [187], \"yaxis\": \"y\", \"type\": \"bar\"}, {\"alignmentgroup\": \"True\", \"hovertemplate\": \"Name=%{x}<br>Year=2005<br>Number=%{y}<extra></extra>\", \"legendgroup\": \"ARNAU\", \"marker\": {\"color\": \"#EF553B\"}, \"name\": \"ARNAU\", \"offsetgroup\": \"ARNAU\", \"orientation\": \"v\", \"showlegend\": true, \"textposition\": \"auto\", \"x\": [\"ARNAU\"], \"xaxis\": \"x\", \"y\": [115], \"yaxis\": \"y\", \"type\": \"bar\"}, {\"alignmentgroup\": \"True\", \"hovertemplate\": \"Name=%{x}<br>Year=2005<br>Number=%{y}<extra></extra>\", \"legendgroup\": \"PABLO\", \"marker\": {\"color\": \"#FFA15A\"}, \"name\": \"PABLO\", \"offsetgroup\": \"PABLO\", \"orientation\": \"v\", \"showlegend\": true, \"textposition\": \"auto\", \"x\": [\"PABLO\"], \"xaxis\": \"x\", \"y\": [106], \"yaxis\": \"y\", \"type\": \"bar\"}, {\"alignmentgroup\": \"True\", \"hovertemplate\": \"Name=%{x}<br>Year=2005<br>Number=%{y}<extra></extra>\", \"legendgroup\": \"JAN\", \"marker\": {\"color\": \"#19d3f3\"}, \"name\": \"JAN\", \"offsetgroup\": \"JAN\", \"orientation\": \"v\", \"showlegend\": true, \"textposition\": \"auto\", \"x\": [\"JAN\"], \"xaxis\": \"x\", \"y\": [122], \"yaxis\": \"y\", \"type\": \"bar\"}, {\"alignmentgroup\": \"True\", \"hovertemplate\": \"Name=%{x}<br>Year=2005<br>Number=%{y}<extra></extra>\", \"legendgroup\": \"MARTI\", \"marker\": {\"color\": \"#FF6692\"}, \"name\": \"MARTI\", \"offsetgroup\": \"MARTI\", \"orientation\": \"v\", \"showlegend\": true, \"textposition\": \"auto\", \"x\": [\"MARTI\"], \"xaxis\": \"x\", \"y\": [111], \"yaxis\": \"y\", \"type\": \"bar\"}], \"name\": \"2005\"}, {\"data\": [{\"alignmentgroup\": \"True\", \"hovertemplate\": \"Name=%{x}<br>Year=2006<br>Number=%{y}<extra></extra>\", \"legendgroup\": \"MARC\", \"marker\": {\"color\": \"#636efa\"}, \"name\": \"MARC\", \"offsetgroup\": \"MARC\", \"orientation\": \"v\", \"showlegend\": true, \"textposition\": \"auto\", \"x\": [\"MARC\"], \"xaxis\": \"x\", \"y\": [229], \"yaxis\": \"y\", \"type\": \"bar\"}, {\"alignmentgroup\": \"True\", \"hovertemplate\": \"Name=%{x}<br>Year=2006<br>Number=%{y}<extra></extra>\", \"legendgroup\": \"DAVID\", \"marker\": {\"color\": \"#EF553B\"}, \"name\": \"DAVID\", \"offsetgroup\": \"DAVID\", \"orientation\": \"v\", \"showlegend\": true, \"textposition\": \"auto\", \"x\": [\"DAVID\"], \"xaxis\": \"x\", \"y\": [116], \"yaxis\": \"y\", \"type\": \"bar\"}, {\"alignmentgroup\": \"True\", \"hovertemplate\": \"Name=%{x}<br>Year=2006<br>Number=%{y}<extra></extra>\", \"legendgroup\": \"DANIEL\", \"marker\": {\"color\": \"#00cc96\"}, \"name\": \"DANIEL\", \"offsetgroup\": \"DANIEL\", \"orientation\": \"v\", \"showlegend\": true, \"textposition\": \"auto\", \"x\": [\"DANIEL\"], \"xaxis\": \"x\", \"y\": [141], \"yaxis\": \"y\", \"type\": \"bar\"}, {\"alignmentgroup\": \"True\", \"hovertemplate\": \"Name=%{x}<br>Year=2006<br>Number=%{y}<extra></extra>\", \"legendgroup\": \"VICTOR\", \"marker\": {\"color\": \"#FFA15A\"}, \"name\": \"VICTOR\", \"offsetgroup\": \"VICTOR\", \"orientation\": \"v\", \"showlegend\": true, \"textposition\": \"auto\", \"x\": [\"VICTOR\"], \"xaxis\": \"x\", \"y\": [111], \"yaxis\": \"y\", \"type\": \"bar\"}, {\"alignmentgroup\": \"True\", \"hovertemplate\": \"Name=%{x}<br>Year=2006<br>Number=%{y}<extra></extra>\", \"legendgroup\": \"ALEJANDRO\", \"marker\": {\"color\": \"#B6E880\"}, \"name\": \"ALEJANDRO\", \"offsetgroup\": \"ALEJANDRO\", \"orientation\": \"v\", \"showlegend\": true, \"textposition\": \"auto\", \"x\": [\"ALEJANDRO\"], \"xaxis\": \"x\", \"y\": [95], \"yaxis\": \"y\", \"type\": \"bar\"}, {\"alignmentgroup\": \"True\", \"hovertemplate\": \"Name=%{x}<br>Year=2006<br>Number=%{y}<extra></extra>\", \"legendgroup\": \"POL\", \"marker\": {\"color\": \"#FF97FF\"}, \"name\": \"POL\", \"offsetgroup\": \"POL\", \"orientation\": \"v\", \"showlegend\": true, \"textposition\": \"auto\", \"x\": [\"POL\"], \"xaxis\": \"x\", \"y\": [173], \"yaxis\": \"y\", \"type\": \"bar\"}, {\"alignmentgroup\": \"True\", \"hovertemplate\": \"Name=%{x}<br>Year=2006<br>Number=%{y}<extra></extra>\", \"legendgroup\": \"ALEX\", \"marker\": {\"color\": \"#FECB52\"}, \"name\": \"ALEX\", \"offsetgroup\": \"ALEX\", \"orientation\": \"v\", \"showlegend\": true, \"textposition\": \"auto\", \"x\": [\"ALEX\"], \"xaxis\": \"x\", \"y\": [168], \"yaxis\": \"y\", \"type\": \"bar\"}, {\"alignmentgroup\": \"True\", \"hovertemplate\": \"Name=%{x}<br>Year=2006<br>Number=%{y}<extra></extra>\", \"legendgroup\": \"PAU\", \"marker\": {\"color\": \"#636efa\"}, \"name\": \"PAU\", \"offsetgroup\": \"PAU\", \"orientation\": \"v\", \"showlegend\": true, \"textposition\": \"auto\", \"x\": [\"PAU\"], \"xaxis\": \"x\", \"y\": [163], \"yaxis\": \"y\", \"type\": \"bar\"}, {\"alignmentgroup\": \"True\", \"hovertemplate\": \"Name=%{x}<br>Year=2006<br>Number=%{y}<extra></extra>\", \"legendgroup\": \"ARNAU\", \"marker\": {\"color\": \"#EF553B\"}, \"name\": \"ARNAU\", \"offsetgroup\": \"ARNAU\", \"orientation\": \"v\", \"showlegend\": true, \"textposition\": \"auto\", \"x\": [\"ARNAU\"], \"xaxis\": \"x\", \"y\": [117], \"yaxis\": \"y\", \"type\": \"bar\"}, {\"alignmentgroup\": \"True\", \"hovertemplate\": \"Name=%{x}<br>Year=2006<br>Number=%{y}<extra></extra>\", \"legendgroup\": \"MARTI\", \"marker\": {\"color\": \"#FF6692\"}, \"name\": \"MARTI\", \"offsetgroup\": \"MARTI\", \"orientation\": \"v\", \"showlegend\": true, \"textposition\": \"auto\", \"x\": [\"MARTI\"], \"xaxis\": \"x\", \"y\": [98], \"yaxis\": \"y\", \"type\": \"bar\"}], \"name\": \"2006\"}, {\"data\": [{\"alignmentgroup\": \"True\", \"hovertemplate\": \"Name=%{x}<br>Year=2007<br>Number=%{y}<extra></extra>\", \"legendgroup\": \"MARC\", \"marker\": {\"color\": \"#636efa\"}, \"name\": \"MARC\", \"offsetgroup\": \"MARC\", \"orientation\": \"v\", \"showlegend\": true, \"textposition\": \"auto\", \"x\": [\"MARC\"], \"xaxis\": \"x\", \"y\": [237], \"yaxis\": \"y\", \"type\": \"bar\"}, {\"alignmentgroup\": \"True\", \"hovertemplate\": \"Name=%{x}<br>Year=2007<br>Number=%{y}<extra></extra>\", \"legendgroup\": \"DAVID\", \"marker\": {\"color\": \"#EF553B\"}, \"name\": \"DAVID\", \"offsetgroup\": \"DAVID\", \"orientation\": \"v\", \"showlegend\": true, \"textposition\": \"auto\", \"x\": [\"DAVID\"], \"xaxis\": \"x\", \"y\": [127], \"yaxis\": \"y\", \"type\": \"bar\"}, {\"alignmentgroup\": \"True\", \"hovertemplate\": \"Name=%{x}<br>Year=2007<br>Number=%{y}<extra></extra>\", \"legendgroup\": \"DANIEL\", \"marker\": {\"color\": \"#00cc96\"}, \"name\": \"DANIEL\", \"offsetgroup\": \"DANIEL\", \"orientation\": \"v\", \"showlegend\": true, \"textposition\": \"auto\", \"x\": [\"DANIEL\"], \"xaxis\": \"x\", \"y\": [132], \"yaxis\": \"y\", \"type\": \"bar\"}, {\"alignmentgroup\": \"True\", \"hovertemplate\": \"Name=%{x}<br>Year=2007<br>Number=%{y}<extra></extra>\", \"legendgroup\": \"VICTOR\", \"marker\": {\"color\": \"#FFA15A\"}, \"name\": \"VICTOR\", \"offsetgroup\": \"VICTOR\", \"orientation\": \"v\", \"showlegend\": true, \"textposition\": \"auto\", \"x\": [\"VICTOR\"], \"xaxis\": \"x\", \"y\": [98], \"yaxis\": \"y\", \"type\": \"bar\"}, {\"alignmentgroup\": \"True\", \"hovertemplate\": \"Name=%{x}<br>Year=2007<br>Number=%{y}<extra></extra>\", \"legendgroup\": \"POL\", \"marker\": {\"color\": \"#FF97FF\"}, \"name\": \"POL\", \"offsetgroup\": \"POL\", \"orientation\": \"v\", \"showlegend\": true, \"textposition\": \"auto\", \"x\": [\"POL\"], \"xaxis\": \"x\", \"y\": [140], \"yaxis\": \"y\", \"type\": \"bar\"}, {\"alignmentgroup\": \"True\", \"hovertemplate\": \"Name=%{x}<br>Year=2007<br>Number=%{y}<extra></extra>\", \"legendgroup\": \"ALEX\", \"marker\": {\"color\": \"#FECB52\"}, \"name\": \"ALEX\", \"offsetgroup\": \"ALEX\", \"orientation\": \"v\", \"showlegend\": true, \"textposition\": \"auto\", \"x\": [\"ALEX\"], \"xaxis\": \"x\", \"y\": [163], \"yaxis\": \"y\", \"type\": \"bar\"}, {\"alignmentgroup\": \"True\", \"hovertemplate\": \"Name=%{x}<br>Year=2007<br>Number=%{y}<extra></extra>\", \"legendgroup\": \"PAU\", \"marker\": {\"color\": \"#636efa\"}, \"name\": \"PAU\", \"offsetgroup\": \"PAU\", \"orientation\": \"v\", \"showlegend\": true, \"textposition\": \"auto\", \"x\": [\"PAU\"], \"xaxis\": \"x\", \"y\": [148], \"yaxis\": \"y\", \"type\": \"bar\"}, {\"alignmentgroup\": \"True\", \"hovertemplate\": \"Name=%{x}<br>Year=2007<br>Number=%{y}<extra></extra>\", \"legendgroup\": \"ARNAU\", \"marker\": {\"color\": \"#EF553B\"}, \"name\": \"ARNAU\", \"offsetgroup\": \"ARNAU\", \"orientation\": \"v\", \"showlegend\": true, \"textposition\": \"auto\", \"x\": [\"ARNAU\"], \"xaxis\": \"x\", \"y\": [115], \"yaxis\": \"y\", \"type\": \"bar\"}, {\"alignmentgroup\": \"True\", \"hovertemplate\": \"Name=%{x}<br>Year=2007<br>Number=%{y}<extra></extra>\", \"legendgroup\": \"MARTI\", \"marker\": {\"color\": \"#FF6692\"}, \"name\": \"MARTI\", \"offsetgroup\": \"MARTI\", \"orientation\": \"v\", \"showlegend\": true, \"textposition\": \"auto\", \"x\": [\"MARTI\"], \"xaxis\": \"x\", \"y\": [126], \"yaxis\": \"y\", \"type\": \"bar\"}, {\"alignmentgroup\": \"True\", \"hovertemplate\": \"Name=%{x}<br>Year=2007<br>Number=%{y}<extra></extra>\", \"legendgroup\": \"ERIC\", \"marker\": {\"color\": \"#B6E880\"}, \"name\": \"ERIC\", \"offsetgroup\": \"ERIC\", \"orientation\": \"v\", \"showlegend\": true, \"textposition\": \"auto\", \"x\": [\"ERIC\"], \"xaxis\": \"x\", \"y\": [126], \"yaxis\": \"y\", \"type\": \"bar\"}], \"name\": \"2007\"}, {\"data\": [{\"alignmentgroup\": \"True\", \"hovertemplate\": \"Name=%{x}<br>Year=2008<br>Number=%{y}<extra></extra>\", \"legendgroup\": \"MARC\", \"marker\": {\"color\": \"#636efa\"}, \"name\": \"MARC\", \"offsetgroup\": \"MARC\", \"orientation\": \"v\", \"showlegend\": true, \"textposition\": \"auto\", \"x\": [\"MARC\"], \"xaxis\": \"x\", \"y\": [244], \"yaxis\": \"y\", \"type\": \"bar\"}, {\"alignmentgroup\": \"True\", \"hovertemplate\": \"Name=%{x}<br>Year=2008<br>Number=%{y}<extra></extra>\", \"legendgroup\": \"DAVID\", \"marker\": {\"color\": \"#EF553B\"}, \"name\": \"DAVID\", \"offsetgroup\": \"DAVID\", \"orientation\": \"v\", \"showlegend\": true, \"textposition\": \"auto\", \"x\": [\"DAVID\"], \"xaxis\": \"x\", \"y\": [109], \"yaxis\": \"y\", \"type\": \"bar\"}, {\"alignmentgroup\": \"True\", \"hovertemplate\": \"Name=%{x}<br>Year=2008<br>Number=%{y}<extra></extra>\", \"legendgroup\": \"DANIEL\", \"marker\": {\"color\": \"#00cc96\"}, \"name\": \"DANIEL\", \"offsetgroup\": \"DANIEL\", \"orientation\": \"v\", \"showlegend\": true, \"textposition\": \"auto\", \"x\": [\"DANIEL\"], \"xaxis\": \"x\", \"y\": [121], \"yaxis\": \"y\", \"type\": \"bar\"}, {\"alignmentgroup\": \"True\", \"hovertemplate\": \"Name=%{x}<br>Year=2008<br>Number=%{y}<extra></extra>\", \"legendgroup\": \"POL\", \"marker\": {\"color\": \"#FF97FF\"}, \"name\": \"POL\", \"offsetgroup\": \"POL\", \"orientation\": \"v\", \"showlegend\": true, \"textposition\": \"auto\", \"x\": [\"POL\"], \"xaxis\": \"x\", \"y\": [172], \"yaxis\": \"y\", \"type\": \"bar\"}, {\"alignmentgroup\": \"True\", \"hovertemplate\": \"Name=%{x}<br>Year=2008<br>Number=%{y}<extra></extra>\", \"legendgroup\": \"ALEX\", \"marker\": {\"color\": \"#FECB52\"}, \"name\": \"ALEX\", \"offsetgroup\": \"ALEX\", \"orientation\": \"v\", \"showlegend\": true, \"textposition\": \"auto\", \"x\": [\"ALEX\"], \"xaxis\": \"x\", \"y\": [156], \"yaxis\": \"y\", \"type\": \"bar\"}, {\"alignmentgroup\": \"True\", \"hovertemplate\": \"Name=%{x}<br>Year=2008<br>Number=%{y}<extra></extra>\", \"legendgroup\": \"PAU\", \"marker\": {\"color\": \"#636efa\"}, \"name\": \"PAU\", \"offsetgroup\": \"PAU\", \"orientation\": \"v\", \"showlegend\": true, \"textposition\": \"auto\", \"x\": [\"PAU\"], \"xaxis\": \"x\", \"y\": [144], \"yaxis\": \"y\", \"type\": \"bar\"}, {\"alignmentgroup\": \"True\", \"hovertemplate\": \"Name=%{x}<br>Year=2008<br>Number=%{y}<extra></extra>\", \"legendgroup\": \"ARNAU\", \"marker\": {\"color\": \"#EF553B\"}, \"name\": \"ARNAU\", \"offsetgroup\": \"ARNAU\", \"orientation\": \"v\", \"showlegend\": true, \"textposition\": \"auto\", \"x\": [\"ARNAU\"], \"xaxis\": \"x\", \"y\": [98], \"yaxis\": \"y\", \"type\": \"bar\"}, {\"alignmentgroup\": \"True\", \"hovertemplate\": \"Name=%{x}<br>Year=2008<br>Number=%{y}<extra></extra>\", \"legendgroup\": \"JAN\", \"marker\": {\"color\": \"#19d3f3\"}, \"name\": \"JAN\", \"offsetgroup\": \"JAN\", \"orientation\": \"v\", \"showlegend\": true, \"textposition\": \"auto\", \"x\": [\"JAN\"], \"xaxis\": \"x\", \"y\": [106], \"yaxis\": \"y\", \"type\": \"bar\"}, {\"alignmentgroup\": \"True\", \"hovertemplate\": \"Name=%{x}<br>Year=2008<br>Number=%{y}<extra></extra>\", \"legendgroup\": \"MARTI\", \"marker\": {\"color\": \"#FF6692\"}, \"name\": \"MARTI\", \"offsetgroup\": \"MARTI\", \"orientation\": \"v\", \"showlegend\": true, \"textposition\": \"auto\", \"x\": [\"MARTI\"], \"xaxis\": \"x\", \"y\": [98], \"yaxis\": \"y\", \"type\": \"bar\"}, {\"alignmentgroup\": \"True\", \"hovertemplate\": \"Name=%{x}<br>Year=2008<br>Number=%{y}<extra></extra>\", \"legendgroup\": \"ERIC\", \"marker\": {\"color\": \"#B6E880\"}, \"name\": \"ERIC\", \"offsetgroup\": \"ERIC\", \"orientation\": \"v\", \"showlegend\": true, \"textposition\": \"auto\", \"x\": [\"ERIC\"], \"xaxis\": \"x\", \"y\": [100], \"yaxis\": \"y\", \"type\": \"bar\"}], \"name\": \"2008\"}, {\"data\": [{\"alignmentgroup\": \"True\", \"hovertemplate\": \"Name=%{x}<br>Year=2009<br>Number=%{y}<extra></extra>\", \"legendgroup\": \"MARC\", \"marker\": {\"color\": \"#636efa\"}, \"name\": \"MARC\", \"offsetgroup\": \"MARC\", \"orientation\": \"v\", \"showlegend\": true, \"textposition\": \"auto\", \"x\": [\"MARC\"], \"xaxis\": \"x\", \"y\": [194], \"yaxis\": \"y\", \"type\": \"bar\"}, {\"alignmentgroup\": \"True\", \"hovertemplate\": \"Name=%{x}<br>Year=2009<br>Number=%{y}<extra></extra>\", \"legendgroup\": \"DANIEL\", \"marker\": {\"color\": \"#00cc96\"}, \"name\": \"DANIEL\", \"offsetgroup\": \"DANIEL\", \"orientation\": \"v\", \"showlegend\": true, \"textposition\": \"auto\", \"x\": [\"DANIEL\"], \"xaxis\": \"x\", \"y\": [98], \"yaxis\": \"y\", \"type\": \"bar\"}, {\"alignmentgroup\": \"True\", \"hovertemplate\": \"Name=%{x}<br>Year=2009<br>Number=%{y}<extra></extra>\", \"legendgroup\": \"POL\", \"marker\": {\"color\": \"#FF97FF\"}, \"name\": \"POL\", \"offsetgroup\": \"POL\", \"orientation\": \"v\", \"showlegend\": true, \"textposition\": \"auto\", \"x\": [\"POL\"], \"xaxis\": \"x\", \"y\": [146], \"yaxis\": \"y\", \"type\": \"bar\"}, {\"alignmentgroup\": \"True\", \"hovertemplate\": \"Name=%{x}<br>Year=2009<br>Number=%{y}<extra></extra>\", \"legendgroup\": \"ALEX\", \"marker\": {\"color\": \"#FECB52\"}, \"name\": \"ALEX\", \"offsetgroup\": \"ALEX\", \"orientation\": \"v\", \"showlegend\": true, \"textposition\": \"auto\", \"x\": [\"ALEX\"], \"xaxis\": \"x\", \"y\": [150], \"yaxis\": \"y\", \"type\": \"bar\"}, {\"alignmentgroup\": \"True\", \"hovertemplate\": \"Name=%{x}<br>Year=2009<br>Number=%{y}<extra></extra>\", \"legendgroup\": \"PAU\", \"marker\": {\"color\": \"#636efa\"}, \"name\": \"PAU\", \"offsetgroup\": \"PAU\", \"orientation\": \"v\", \"showlegend\": true, \"textposition\": \"auto\", \"x\": [\"PAU\"], \"xaxis\": \"x\", \"y\": [165], \"yaxis\": \"y\", \"type\": \"bar\"}, {\"alignmentgroup\": \"True\", \"hovertemplate\": \"Name=%{x}<br>Year=2009<br>Number=%{y}<extra></extra>\", \"legendgroup\": \"ARNAU\", \"marker\": {\"color\": \"#EF553B\"}, \"name\": \"ARNAU\", \"offsetgroup\": \"ARNAU\", \"orientation\": \"v\", \"showlegend\": true, \"textposition\": \"auto\", \"x\": [\"ARNAU\"], \"xaxis\": \"x\", \"y\": [106], \"yaxis\": \"y\", \"type\": \"bar\"}, {\"alignmentgroup\": \"True\", \"hovertemplate\": \"Name=%{x}<br>Year=2009<br>Number=%{y}<extra></extra>\", \"legendgroup\": \"JAN\", \"marker\": {\"color\": \"#19d3f3\"}, \"name\": \"JAN\", \"offsetgroup\": \"JAN\", \"orientation\": \"v\", \"showlegend\": true, \"textposition\": \"auto\", \"x\": [\"JAN\"], \"xaxis\": \"x\", \"y\": [100], \"yaxis\": \"y\", \"type\": \"bar\"}, {\"alignmentgroup\": \"True\", \"hovertemplate\": \"Name=%{x}<br>Year=2009<br>Number=%{y}<extra></extra>\", \"legendgroup\": \"MARTI\", \"marker\": {\"color\": \"#FF6692\"}, \"name\": \"MARTI\", \"offsetgroup\": \"MARTI\", \"orientation\": \"v\", \"showlegend\": true, \"textposition\": \"auto\", \"x\": [\"MARTI\"], \"xaxis\": \"x\", \"y\": [116], \"yaxis\": \"y\", \"type\": \"bar\"}, {\"alignmentgroup\": \"True\", \"hovertemplate\": \"Name=%{x}<br>Year=2009<br>Number=%{y}<extra></extra>\", \"legendgroup\": \"ERIC\", \"marker\": {\"color\": \"#B6E880\"}, \"name\": \"ERIC\", \"offsetgroup\": \"ERIC\", \"orientation\": \"v\", \"showlegend\": true, \"textposition\": \"auto\", \"x\": [\"ERIC\"], \"xaxis\": \"x\", \"y\": [130], \"yaxis\": \"y\", \"type\": \"bar\"}, {\"alignmentgroup\": \"True\", \"hovertemplate\": \"Name=%{x}<br>Year=2009<br>Number=%{y}<extra></extra>\", \"legendgroup\": \"HUGO\", \"marker\": {\"color\": \"#FF97FF\"}, \"name\": \"HUGO\", \"offsetgroup\": \"HUGO\", \"orientation\": \"v\", \"showlegend\": true, \"textposition\": \"auto\", \"x\": [\"HUGO\"], \"xaxis\": \"x\", \"y\": [89], \"yaxis\": \"y\", \"type\": \"bar\"}], \"name\": \"2009\"}, {\"data\": [{\"alignmentgroup\": \"True\", \"hovertemplate\": \"Name=%{x}<br>Year=2010<br>Number=%{y}<extra></extra>\", \"legendgroup\": \"MARC\", \"marker\": {\"color\": \"#636efa\"}, \"name\": \"MARC\", \"offsetgroup\": \"MARC\", \"orientation\": \"v\", \"showlegend\": true, \"textposition\": \"auto\", \"x\": [\"MARC\"], \"xaxis\": \"x\", \"y\": [195], \"yaxis\": \"y\", \"type\": \"bar\"}, {\"alignmentgroup\": \"True\", \"hovertemplate\": \"Name=%{x}<br>Year=2010<br>Number=%{y}<extra></extra>\", \"legendgroup\": \"DANIEL\", \"marker\": {\"color\": \"#00cc96\"}, \"name\": \"DANIEL\", \"offsetgroup\": \"DANIEL\", \"orientation\": \"v\", \"showlegend\": true, \"textposition\": \"auto\", \"x\": [\"DANIEL\"], \"xaxis\": \"x\", \"y\": [103], \"yaxis\": \"y\", \"type\": \"bar\"}, {\"alignmentgroup\": \"True\", \"hovertemplate\": \"Name=%{x}<br>Year=2010<br>Number=%{y}<extra></extra>\", \"legendgroup\": \"POL\", \"marker\": {\"color\": \"#FF97FF\"}, \"name\": \"POL\", \"offsetgroup\": \"POL\", \"orientation\": \"v\", \"showlegend\": true, \"textposition\": \"auto\", \"x\": [\"POL\"], \"xaxis\": \"x\", \"y\": [148], \"yaxis\": \"y\", \"type\": \"bar\"}, {\"alignmentgroup\": \"True\", \"hovertemplate\": \"Name=%{x}<br>Year=2010<br>Number=%{y}<extra></extra>\", \"legendgroup\": \"ALEX\", \"marker\": {\"color\": \"#FECB52\"}, \"name\": \"ALEX\", \"offsetgroup\": \"ALEX\", \"orientation\": \"v\", \"showlegend\": true, \"textposition\": \"auto\", \"x\": [\"ALEX\"], \"xaxis\": \"x\", \"y\": [143], \"yaxis\": \"y\", \"type\": \"bar\"}, {\"alignmentgroup\": \"True\", \"hovertemplate\": \"Name=%{x}<br>Year=2010<br>Number=%{y}<extra></extra>\", \"legendgroup\": \"PAU\", \"marker\": {\"color\": \"#636efa\"}, \"name\": \"PAU\", \"offsetgroup\": \"PAU\", \"orientation\": \"v\", \"showlegend\": true, \"textposition\": \"auto\", \"x\": [\"PAU\"], \"xaxis\": \"x\", \"y\": [134], \"yaxis\": \"y\", \"type\": \"bar\"}, {\"alignmentgroup\": \"True\", \"hovertemplate\": \"Name=%{x}<br>Year=2010<br>Number=%{y}<extra></extra>\", \"legendgroup\": \"ARNAU\", \"marker\": {\"color\": \"#EF553B\"}, \"name\": \"ARNAU\", \"offsetgroup\": \"ARNAU\", \"orientation\": \"v\", \"showlegend\": true, \"textposition\": \"auto\", \"x\": [\"ARNAU\"], \"xaxis\": \"x\", \"y\": [110], \"yaxis\": \"y\", \"type\": \"bar\"}, {\"alignmentgroup\": \"True\", \"hovertemplate\": \"Name=%{x}<br>Year=2010<br>Number=%{y}<extra></extra>\", \"legendgroup\": \"GERARD\", \"marker\": {\"color\": \"#00cc96\"}, \"name\": \"GERARD\", \"offsetgroup\": \"GERARD\", \"orientation\": \"v\", \"showlegend\": true, \"textposition\": \"auto\", \"x\": [\"GERARD\"], \"xaxis\": \"x\", \"y\": [100], \"yaxis\": \"y\", \"type\": \"bar\"}, {\"alignmentgroup\": \"True\", \"hovertemplate\": \"Name=%{x}<br>Year=2010<br>Number=%{y}<extra></extra>\", \"legendgroup\": \"JAN\", \"marker\": {\"color\": \"#19d3f3\"}, \"name\": \"JAN\", \"offsetgroup\": \"JAN\", \"orientation\": \"v\", \"showlegend\": true, \"textposition\": \"auto\", \"x\": [\"JAN\"], \"xaxis\": \"x\", \"y\": [98], \"yaxis\": \"y\", \"type\": \"bar\"}, {\"alignmentgroup\": \"True\", \"hovertemplate\": \"Name=%{x}<br>Year=2010<br>Number=%{y}<extra></extra>\", \"legendgroup\": \"MARTI\", \"marker\": {\"color\": \"#FF6692\"}, \"name\": \"MARTI\", \"offsetgroup\": \"MARTI\", \"orientation\": \"v\", \"showlegend\": true, \"textposition\": \"auto\", \"x\": [\"MARTI\"], \"xaxis\": \"x\", \"y\": [124], \"yaxis\": \"y\", \"type\": \"bar\"}, {\"alignmentgroup\": \"True\", \"hovertemplate\": \"Name=%{x}<br>Year=2010<br>Number=%{y}<extra></extra>\", \"legendgroup\": \"ERIC\", \"marker\": {\"color\": \"#B6E880\"}, \"name\": \"ERIC\", \"offsetgroup\": \"ERIC\", \"orientation\": \"v\", \"showlegend\": true, \"textposition\": \"auto\", \"x\": [\"ERIC\"], \"xaxis\": \"x\", \"y\": [117], \"yaxis\": \"y\", \"type\": \"bar\"}], \"name\": \"2010\"}, {\"data\": [{\"alignmentgroup\": \"True\", \"hovertemplate\": \"Name=%{x}<br>Year=2011<br>Number=%{y}<extra></extra>\", \"legendgroup\": \"MARC\", \"marker\": {\"color\": \"#636efa\"}, \"name\": \"MARC\", \"offsetgroup\": \"MARC\", \"orientation\": \"v\", \"showlegend\": true, \"textposition\": \"auto\", \"x\": [\"MARC\"], \"xaxis\": \"x\", \"y\": [209], \"yaxis\": \"y\", \"type\": \"bar\"}, {\"alignmentgroup\": \"True\", \"hovertemplate\": \"Name=%{x}<br>Year=2011<br>Number=%{y}<extra></extra>\", \"legendgroup\": \"DAVID\", \"marker\": {\"color\": \"#EF553B\"}, \"name\": \"DAVID\", \"offsetgroup\": \"DAVID\", \"orientation\": \"v\", \"showlegend\": true, \"textposition\": \"auto\", \"x\": [\"DAVID\"], \"xaxis\": \"x\", \"y\": [85], \"yaxis\": \"y\", \"type\": \"bar\"}, {\"alignmentgroup\": \"True\", \"hovertemplate\": \"Name=%{x}<br>Year=2011<br>Number=%{y}<extra></extra>\", \"legendgroup\": \"POL\", \"marker\": {\"color\": \"#FF97FF\"}, \"name\": \"POL\", \"offsetgroup\": \"POL\", \"orientation\": \"v\", \"showlegend\": true, \"textposition\": \"auto\", \"x\": [\"POL\"], \"xaxis\": \"x\", \"y\": [124], \"yaxis\": \"y\", \"type\": \"bar\"}, {\"alignmentgroup\": \"True\", \"hovertemplate\": \"Name=%{x}<br>Year=2011<br>Number=%{y}<extra></extra>\", \"legendgroup\": \"ALEX\", \"marker\": {\"color\": \"#FECB52\"}, \"name\": \"ALEX\", \"offsetgroup\": \"ALEX\", \"orientation\": \"v\", \"showlegend\": true, \"textposition\": \"auto\", \"x\": [\"ALEX\"], \"xaxis\": \"x\", \"y\": [142], \"yaxis\": \"y\", \"type\": \"bar\"}, {\"alignmentgroup\": \"True\", \"hovertemplate\": \"Name=%{x}<br>Year=2011<br>Number=%{y}<extra></extra>\", \"legendgroup\": \"PAU\", \"marker\": {\"color\": \"#636efa\"}, \"name\": \"PAU\", \"offsetgroup\": \"PAU\", \"orientation\": \"v\", \"showlegend\": true, \"textposition\": \"auto\", \"x\": [\"PAU\"], \"xaxis\": \"x\", \"y\": [118], \"yaxis\": \"y\", \"type\": \"bar\"}, {\"alignmentgroup\": \"True\", \"hovertemplate\": \"Name=%{x}<br>Year=2011<br>Number=%{y}<extra></extra>\", \"legendgroup\": \"ARNAU\", \"marker\": {\"color\": \"#EF553B\"}, \"name\": \"ARNAU\", \"offsetgroup\": \"ARNAU\", \"orientation\": \"v\", \"showlegend\": true, \"textposition\": \"auto\", \"x\": [\"ARNAU\"], \"xaxis\": \"x\", \"y\": [95], \"yaxis\": \"y\", \"type\": \"bar\"}, {\"alignmentgroup\": \"True\", \"hovertemplate\": \"Name=%{x}<br>Year=2011<br>Number=%{y}<extra></extra>\", \"legendgroup\": \"GERARD\", \"marker\": {\"color\": \"#00cc96\"}, \"name\": \"GERARD\", \"offsetgroup\": \"GERARD\", \"orientation\": \"v\", \"showlegend\": true, \"textposition\": \"auto\", \"x\": [\"GERARD\"], \"xaxis\": \"x\", \"y\": [99], \"yaxis\": \"y\", \"type\": \"bar\"}, {\"alignmentgroup\": \"True\", \"hovertemplate\": \"Name=%{x}<br>Year=2011<br>Number=%{y}<extra></extra>\", \"legendgroup\": \"MARTI\", \"marker\": {\"color\": \"#FF6692\"}, \"name\": \"MARTI\", \"offsetgroup\": \"MARTI\", \"orientation\": \"v\", \"showlegend\": true, \"textposition\": \"auto\", \"x\": [\"MARTI\"], \"xaxis\": \"x\", \"y\": [103], \"yaxis\": \"y\", \"type\": \"bar\"}, {\"alignmentgroup\": \"True\", \"hovertemplate\": \"Name=%{x}<br>Year=2011<br>Number=%{y}<extra></extra>\", \"legendgroup\": \"ERIC\", \"marker\": {\"color\": \"#B6E880\"}, \"name\": \"ERIC\", \"offsetgroup\": \"ERIC\", \"orientation\": \"v\", \"showlegend\": true, \"textposition\": \"auto\", \"x\": [\"ERIC\"], \"xaxis\": \"x\", \"y\": [113], \"yaxis\": \"y\", \"type\": \"bar\"}, {\"alignmentgroup\": \"True\", \"hovertemplate\": \"Name=%{x}<br>Year=2011<br>Number=%{y}<extra></extra>\", \"legendgroup\": \"BIEL\", \"marker\": {\"color\": \"#FECB52\"}, \"name\": \"BIEL\", \"offsetgroup\": \"BIEL\", \"orientation\": \"v\", \"showlegend\": true, \"textposition\": \"auto\", \"x\": [\"BIEL\"], \"xaxis\": \"x\", \"y\": [87], \"yaxis\": \"y\", \"type\": \"bar\"}], \"name\": \"2011\"}, {\"data\": [{\"alignmentgroup\": \"True\", \"hovertemplate\": \"Name=%{x}<br>Year=2012<br>Number=%{y}<extra></extra>\", \"legendgroup\": \"MARC\", \"marker\": {\"color\": \"#636efa\"}, \"name\": \"MARC\", \"offsetgroup\": \"MARC\", \"orientation\": \"v\", \"showlegend\": true, \"textposition\": \"auto\", \"x\": [\"MARC\"], \"xaxis\": \"x\", \"y\": [206], \"yaxis\": \"y\", \"type\": \"bar\"}, {\"alignmentgroup\": \"True\", \"hovertemplate\": \"Name=%{x}<br>Year=2012<br>Number=%{y}<extra></extra>\", \"legendgroup\": \"POL\", \"marker\": {\"color\": \"#FF97FF\"}, \"name\": \"POL\", \"offsetgroup\": \"POL\", \"orientation\": \"v\", \"showlegend\": true, \"textposition\": \"auto\", \"x\": [\"POL\"], \"xaxis\": \"x\", \"y\": [138], \"yaxis\": \"y\", \"type\": \"bar\"}, {\"alignmentgroup\": \"True\", \"hovertemplate\": \"Name=%{x}<br>Year=2012<br>Number=%{y}<extra></extra>\", \"legendgroup\": \"ALEX\", \"marker\": {\"color\": \"#FECB52\"}, \"name\": \"ALEX\", \"offsetgroup\": \"ALEX\", \"orientation\": \"v\", \"showlegend\": true, \"textposition\": \"auto\", \"x\": [\"ALEX\"], \"xaxis\": \"x\", \"y\": [120], \"yaxis\": \"y\", \"type\": \"bar\"}, {\"alignmentgroup\": \"True\", \"hovertemplate\": \"Name=%{x}<br>Year=2012<br>Number=%{y}<extra></extra>\", \"legendgroup\": \"PAU\", \"marker\": {\"color\": \"#636efa\"}, \"name\": \"PAU\", \"offsetgroup\": \"PAU\", \"orientation\": \"v\", \"showlegend\": true, \"textposition\": \"auto\", \"x\": [\"PAU\"], \"xaxis\": \"x\", \"y\": [110], \"yaxis\": \"y\", \"type\": \"bar\"}, {\"alignmentgroup\": \"True\", \"hovertemplate\": \"Name=%{x}<br>Year=2012<br>Number=%{y}<extra></extra>\", \"legendgroup\": \"ARNAU\", \"marker\": {\"color\": \"#EF553B\"}, \"name\": \"ARNAU\", \"offsetgroup\": \"ARNAU\", \"orientation\": \"v\", \"showlegend\": true, \"textposition\": \"auto\", \"x\": [\"ARNAU\"], \"xaxis\": \"x\", \"y\": [101], \"yaxis\": \"y\", \"type\": \"bar\"}, {\"alignmentgroup\": \"True\", \"hovertemplate\": \"Name=%{x}<br>Year=2012<br>Number=%{y}<extra></extra>\", \"legendgroup\": \"GERARD\", \"marker\": {\"color\": \"#00cc96\"}, \"name\": \"GERARD\", \"offsetgroup\": \"GERARD\", \"orientation\": \"v\", \"showlegend\": true, \"textposition\": \"auto\", \"x\": [\"GERARD\"], \"xaxis\": \"x\", \"y\": [98], \"yaxis\": \"y\", \"type\": \"bar\"}, {\"alignmentgroup\": \"True\", \"hovertemplate\": \"Name=%{x}<br>Year=2012<br>Number=%{y}<extra></extra>\", \"legendgroup\": \"JAN\", \"marker\": {\"color\": \"#19d3f3\"}, \"name\": \"JAN\", \"offsetgroup\": \"JAN\", \"orientation\": \"v\", \"showlegend\": true, \"textposition\": \"auto\", \"x\": [\"JAN\"], \"xaxis\": \"x\", \"y\": [98], \"yaxis\": \"y\", \"type\": \"bar\"}, {\"alignmentgroup\": \"True\", \"hovertemplate\": \"Name=%{x}<br>Year=2012<br>Number=%{y}<extra></extra>\", \"legendgroup\": \"MARTI\", \"marker\": {\"color\": \"#FF6692\"}, \"name\": \"MARTI\", \"offsetgroup\": \"MARTI\", \"orientation\": \"v\", \"showlegend\": true, \"textposition\": \"auto\", \"x\": [\"MARTI\"], \"xaxis\": \"x\", \"y\": [99], \"yaxis\": \"y\", \"type\": \"bar\"}, {\"alignmentgroup\": \"True\", \"hovertemplate\": \"Name=%{x}<br>Year=2012<br>Number=%{y}<extra></extra>\", \"legendgroup\": \"ERIC\", \"marker\": {\"color\": \"#B6E880\"}, \"name\": \"ERIC\", \"offsetgroup\": \"ERIC\", \"orientation\": \"v\", \"showlegend\": true, \"textposition\": \"auto\", \"x\": [\"ERIC\"], \"xaxis\": \"x\", \"y\": [125], \"yaxis\": \"y\", \"type\": \"bar\"}, {\"alignmentgroup\": \"True\", \"hovertemplate\": \"Name=%{x}<br>Year=2012<br>Number=%{y}<extra></extra>\", \"legendgroup\": \"BIEL\", \"marker\": {\"color\": \"#FECB52\"}, \"name\": \"BIEL\", \"offsetgroup\": \"BIEL\", \"orientation\": \"v\", \"showlegend\": true, \"textposition\": \"auto\", \"x\": [\"BIEL\"], \"xaxis\": \"x\", \"y\": [95], \"yaxis\": \"y\", \"type\": \"bar\"}], \"name\": \"2012\"}, {\"data\": [{\"alignmentgroup\": \"True\", \"hovertemplate\": \"Name=%{x}<br>Year=2013<br>Number=%{y}<extra></extra>\", \"legendgroup\": \"MARC\", \"marker\": {\"color\": \"#636efa\"}, \"name\": \"MARC\", \"offsetgroup\": \"MARC\", \"orientation\": \"v\", \"showlegend\": true, \"textposition\": \"auto\", \"x\": [\"MARC\"], \"xaxis\": \"x\", \"y\": [175], \"yaxis\": \"y\", \"type\": \"bar\"}, {\"alignmentgroup\": \"True\", \"hovertemplate\": \"Name=%{x}<br>Year=2013<br>Number=%{y}<extra></extra>\", \"legendgroup\": \"POL\", \"marker\": {\"color\": \"#FF97FF\"}, \"name\": \"POL\", \"offsetgroup\": \"POL\", \"orientation\": \"v\", \"showlegend\": true, \"textposition\": \"auto\", \"x\": [\"POL\"], \"xaxis\": \"x\", \"y\": [126], \"yaxis\": \"y\", \"type\": \"bar\"}, {\"alignmentgroup\": \"True\", \"hovertemplate\": \"Name=%{x}<br>Year=2013<br>Number=%{y}<extra></extra>\", \"legendgroup\": \"ALEX\", \"marker\": {\"color\": \"#FECB52\"}, \"name\": \"ALEX\", \"offsetgroup\": \"ALEX\", \"orientation\": \"v\", \"showlegend\": true, \"textposition\": \"auto\", \"x\": [\"ALEX\"], \"xaxis\": \"x\", \"y\": [122], \"yaxis\": \"y\", \"type\": \"bar\"}, {\"alignmentgroup\": \"True\", \"hovertemplate\": \"Name=%{x}<br>Year=2013<br>Number=%{y}<extra></extra>\", \"legendgroup\": \"PAU\", \"marker\": {\"color\": \"#636efa\"}, \"name\": \"PAU\", \"offsetgroup\": \"PAU\", \"orientation\": \"v\", \"showlegend\": true, \"textposition\": \"auto\", \"x\": [\"PAU\"], \"xaxis\": \"x\", \"y\": [129], \"yaxis\": \"y\", \"type\": \"bar\"}, {\"alignmentgroup\": \"True\", \"hovertemplate\": \"Name=%{x}<br>Year=2013<br>Number=%{y}<extra></extra>\", \"legendgroup\": \"ARNAU\", \"marker\": {\"color\": \"#EF553B\"}, \"name\": \"ARNAU\", \"offsetgroup\": \"ARNAU\", \"orientation\": \"v\", \"showlegend\": true, \"textposition\": \"auto\", \"x\": [\"ARNAU\"], \"xaxis\": \"x\", \"y\": [100], \"yaxis\": \"y\", \"type\": \"bar\"}, {\"alignmentgroup\": \"True\", \"hovertemplate\": \"Name=%{x}<br>Year=2013<br>Number=%{y}<extra></extra>\", \"legendgroup\": \"JAN\", \"marker\": {\"color\": \"#19d3f3\"}, \"name\": \"JAN\", \"offsetgroup\": \"JAN\", \"orientation\": \"v\", \"showlegend\": true, \"textposition\": \"auto\", \"x\": [\"JAN\"], \"xaxis\": \"x\", \"y\": [92], \"yaxis\": \"y\", \"type\": \"bar\"}, {\"alignmentgroup\": \"True\", \"hovertemplate\": \"Name=%{x}<br>Year=2013<br>Number=%{y}<extra></extra>\", \"legendgroup\": \"MARTI\", \"marker\": {\"color\": \"#FF6692\"}, \"name\": \"MARTI\", \"offsetgroup\": \"MARTI\", \"orientation\": \"v\", \"showlegend\": true, \"textposition\": \"auto\", \"x\": [\"MARTI\"], \"xaxis\": \"x\", \"y\": [95], \"yaxis\": \"y\", \"type\": \"bar\"}, {\"alignmentgroup\": \"True\", \"hovertemplate\": \"Name=%{x}<br>Year=2013<br>Number=%{y}<extra></extra>\", \"legendgroup\": \"ERIC\", \"marker\": {\"color\": \"#B6E880\"}, \"name\": \"ERIC\", \"offsetgroup\": \"ERIC\", \"orientation\": \"v\", \"showlegend\": true, \"textposition\": \"auto\", \"x\": [\"ERIC\"], \"xaxis\": \"x\", \"y\": [122], \"yaxis\": \"y\", \"type\": \"bar\"}, {\"alignmentgroup\": \"True\", \"hovertemplate\": \"Name=%{x}<br>Year=2013<br>Number=%{y}<extra></extra>\", \"legendgroup\": \"HUGO\", \"marker\": {\"color\": \"#FF97FF\"}, \"name\": \"HUGO\", \"offsetgroup\": \"HUGO\", \"orientation\": \"v\", \"showlegend\": true, \"textposition\": \"auto\", \"x\": [\"HUGO\"], \"xaxis\": \"x\", \"y\": [89], \"yaxis\": \"y\", \"type\": \"bar\"}, {\"alignmentgroup\": \"True\", \"hovertemplate\": \"Name=%{x}<br>Year=2013<br>Number=%{y}<extra></extra>\", \"legendgroup\": \"BIEL\", \"marker\": {\"color\": \"#FECB52\"}, \"name\": \"BIEL\", \"offsetgroup\": \"BIEL\", \"orientation\": \"v\", \"showlegend\": true, \"textposition\": \"auto\", \"x\": [\"BIEL\"], \"xaxis\": \"x\", \"y\": [95], \"yaxis\": \"y\", \"type\": \"bar\"}], \"name\": \"2013\"}, {\"data\": [{\"alignmentgroup\": \"True\", \"hovertemplate\": \"Name=%{x}<br>Year=2014<br>Number=%{y}<extra></extra>\", \"legendgroup\": \"MARC\", \"marker\": {\"color\": \"#636efa\"}, \"name\": \"MARC\", \"offsetgroup\": \"MARC\", \"orientation\": \"v\", \"showlegend\": true, \"textposition\": \"auto\", \"x\": [\"MARC\"], \"xaxis\": \"x\", \"y\": [192], \"yaxis\": \"y\", \"type\": \"bar\"}, {\"alignmentgroup\": \"True\", \"hovertemplate\": \"Name=%{x}<br>Year=2014<br>Number=%{y}<extra></extra>\", \"legendgroup\": \"DANIEL\", \"marker\": {\"color\": \"#00cc96\"}, \"name\": \"DANIEL\", \"offsetgroup\": \"DANIEL\", \"orientation\": \"v\", \"showlegend\": true, \"textposition\": \"auto\", \"x\": [\"DANIEL\"], \"xaxis\": \"x\", \"y\": [89], \"yaxis\": \"y\", \"type\": \"bar\"}, {\"alignmentgroup\": \"True\", \"hovertemplate\": \"Name=%{x}<br>Year=2014<br>Number=%{y}<extra></extra>\", \"legendgroup\": \"POL\", \"marker\": {\"color\": \"#FF97FF\"}, \"name\": \"POL\", \"offsetgroup\": \"POL\", \"orientation\": \"v\", \"showlegend\": true, \"textposition\": \"auto\", \"x\": [\"POL\"], \"xaxis\": \"x\", \"y\": [137], \"yaxis\": \"y\", \"type\": \"bar\"}, {\"alignmentgroup\": \"True\", \"hovertemplate\": \"Name=%{x}<br>Year=2014<br>Number=%{y}<extra></extra>\", \"legendgroup\": \"ALEX\", \"marker\": {\"color\": \"#FECB52\"}, \"name\": \"ALEX\", \"offsetgroup\": \"ALEX\", \"orientation\": \"v\", \"showlegend\": true, \"textposition\": \"auto\", \"x\": [\"ALEX\"], \"xaxis\": \"x\", \"y\": [135], \"yaxis\": \"y\", \"type\": \"bar\"}, {\"alignmentgroup\": \"True\", \"hovertemplate\": \"Name=%{x}<br>Year=2014<br>Number=%{y}<extra></extra>\", \"legendgroup\": \"PAU\", \"marker\": {\"color\": \"#636efa\"}, \"name\": \"PAU\", \"offsetgroup\": \"PAU\", \"orientation\": \"v\", \"showlegend\": true, \"textposition\": \"auto\", \"x\": [\"PAU\"], \"xaxis\": \"x\", \"y\": [104], \"yaxis\": \"y\", \"type\": \"bar\"}, {\"alignmentgroup\": \"True\", \"hovertemplate\": \"Name=%{x}<br>Year=2014<br>Number=%{y}<extra></extra>\", \"legendgroup\": \"JAN\", \"marker\": {\"color\": \"#19d3f3\"}, \"name\": \"JAN\", \"offsetgroup\": \"JAN\", \"orientation\": \"v\", \"showlegend\": true, \"textposition\": \"auto\", \"x\": [\"JAN\"], \"xaxis\": \"x\", \"y\": [89], \"yaxis\": \"y\", \"type\": \"bar\"}, {\"alignmentgroup\": \"True\", \"hovertemplate\": \"Name=%{x}<br>Year=2014<br>Number=%{y}<extra></extra>\", \"legendgroup\": \"MARTI\", \"marker\": {\"color\": \"#FF6692\"}, \"name\": \"MARTI\", \"offsetgroup\": \"MARTI\", \"orientation\": \"v\", \"showlegend\": true, \"textposition\": \"auto\", \"x\": [\"MARTI\"], \"xaxis\": \"x\", \"y\": [116], \"yaxis\": \"y\", \"type\": \"bar\"}, {\"alignmentgroup\": \"True\", \"hovertemplate\": \"Name=%{x}<br>Year=2014<br>Number=%{y}<extra></extra>\", \"legendgroup\": \"ERIC\", \"marker\": {\"color\": \"#B6E880\"}, \"name\": \"ERIC\", \"offsetgroup\": \"ERIC\", \"orientation\": \"v\", \"showlegend\": true, \"textposition\": \"auto\", \"x\": [\"ERIC\"], \"xaxis\": \"x\", \"y\": [123], \"yaxis\": \"y\", \"type\": \"bar\"}, {\"alignmentgroup\": \"True\", \"hovertemplate\": \"Name=%{x}<br>Year=2014<br>Number=%{y}<extra></extra>\", \"legendgroup\": \"HUGO\", \"marker\": {\"color\": \"#FF97FF\"}, \"name\": \"HUGO\", \"offsetgroup\": \"HUGO\", \"orientation\": \"v\", \"showlegend\": true, \"textposition\": \"auto\", \"x\": [\"HUGO\"], \"xaxis\": \"x\", \"y\": [82], \"yaxis\": \"y\", \"type\": \"bar\"}, {\"alignmentgroup\": \"True\", \"hovertemplate\": \"Name=%{x}<br>Year=2014<br>Number=%{y}<extra></extra>\", \"legendgroup\": \"BIEL\", \"marker\": {\"color\": \"#FECB52\"}, \"name\": \"BIEL\", \"offsetgroup\": \"BIEL\", \"orientation\": \"v\", \"showlegend\": true, \"textposition\": \"auto\", \"x\": [\"BIEL\"], \"xaxis\": \"x\", \"y\": [90], \"yaxis\": \"y\", \"type\": \"bar\"}], \"name\": \"2014\"}, {\"data\": [{\"alignmentgroup\": \"True\", \"hovertemplate\": \"Name=%{x}<br>Year=2015<br>Number=%{y}<extra></extra>\", \"legendgroup\": \"MARC\", \"marker\": {\"color\": \"#636efa\"}, \"name\": \"MARC\", \"offsetgroup\": \"MARC\", \"orientation\": \"v\", \"showlegend\": true, \"textposition\": \"auto\", \"x\": [\"MARC\"], \"xaxis\": \"x\", \"y\": [172], \"yaxis\": \"y\", \"type\": \"bar\"}, {\"alignmentgroup\": \"True\", \"hovertemplate\": \"Name=%{x}<br>Year=2015<br>Number=%{y}<extra></extra>\", \"legendgroup\": \"ALEX\", \"marker\": {\"color\": \"#FECB52\"}, \"name\": \"ALEX\", \"offsetgroup\": \"ALEX\", \"orientation\": \"v\", \"showlegend\": true, \"textposition\": \"auto\", \"x\": [\"ALEX\"], \"xaxis\": \"x\", \"y\": [110], \"yaxis\": \"y\", \"type\": \"bar\"}, {\"alignmentgroup\": \"True\", \"hovertemplate\": \"Name=%{x}<br>Year=2015<br>Number=%{y}<extra></extra>\", \"legendgroup\": \"PAU\", \"marker\": {\"color\": \"#636efa\"}, \"name\": \"PAU\", \"offsetgroup\": \"PAU\", \"orientation\": \"v\", \"showlegend\": true, \"textposition\": \"auto\", \"x\": [\"PAU\"], \"xaxis\": \"x\", \"y\": [108], \"yaxis\": \"y\", \"type\": \"bar\"}, {\"alignmentgroup\": \"True\", \"hovertemplate\": \"Name=%{x}<br>Year=2015<br>Number=%{y}<extra></extra>\", \"legendgroup\": \"ARNAU\", \"marker\": {\"color\": \"#EF553B\"}, \"name\": \"ARNAU\", \"offsetgroup\": \"ARNAU\", \"orientation\": \"v\", \"showlegend\": true, \"textposition\": \"auto\", \"x\": [\"ARNAU\"], \"xaxis\": \"x\", \"y\": [93], \"yaxis\": \"y\", \"type\": \"bar\"}, {\"alignmentgroup\": \"True\", \"hovertemplate\": \"Name=%{x}<br>Year=2015<br>Number=%{y}<extra></extra>\", \"legendgroup\": \"JAN\", \"marker\": {\"color\": \"#19d3f3\"}, \"name\": \"JAN\", \"offsetgroup\": \"JAN\", \"orientation\": \"v\", \"showlegend\": true, \"textposition\": \"auto\", \"x\": [\"JAN\"], \"xaxis\": \"x\", \"y\": [88], \"yaxis\": \"y\", \"type\": \"bar\"}, {\"alignmentgroup\": \"True\", \"hovertemplate\": \"Name=%{x}<br>Year=2015<br>Number=%{y}<extra></extra>\", \"legendgroup\": \"MARTI\", \"marker\": {\"color\": \"#FF6692\"}, \"name\": \"MARTI\", \"offsetgroup\": \"MARTI\", \"orientation\": \"v\", \"showlegend\": true, \"textposition\": \"auto\", \"x\": [\"MARTI\"], \"xaxis\": \"x\", \"y\": [133], \"yaxis\": \"y\", \"type\": \"bar\"}, {\"alignmentgroup\": \"True\", \"hovertemplate\": \"Name=%{x}<br>Year=2015<br>Number=%{y}<extra></extra>\", \"legendgroup\": \"ERIC\", \"marker\": {\"color\": \"#B6E880\"}, \"name\": \"ERIC\", \"offsetgroup\": \"ERIC\", \"orientation\": \"v\", \"showlegend\": true, \"textposition\": \"auto\", \"x\": [\"ERIC\"], \"xaxis\": \"x\", \"y\": [109], \"yaxis\": \"y\", \"type\": \"bar\"}, {\"alignmentgroup\": \"True\", \"hovertemplate\": \"Name=%{x}<br>Year=2015<br>Number=%{y}<extra></extra>\", \"legendgroup\": \"HUGO\", \"marker\": {\"color\": \"#FF97FF\"}, \"name\": \"HUGO\", \"offsetgroup\": \"HUGO\", \"orientation\": \"v\", \"showlegend\": true, \"textposition\": \"auto\", \"x\": [\"HUGO\"], \"xaxis\": \"x\", \"y\": [107], \"yaxis\": \"y\", \"type\": \"bar\"}, {\"alignmentgroup\": \"True\", \"hovertemplate\": \"Name=%{x}<br>Year=2015<br>Number=%{y}<extra></extra>\", \"legendgroup\": \"BIEL\", \"marker\": {\"color\": \"#FECB52\"}, \"name\": \"BIEL\", \"offsetgroup\": \"BIEL\", \"orientation\": \"v\", \"showlegend\": true, \"textposition\": \"auto\", \"x\": [\"BIEL\"], \"xaxis\": \"x\", \"y\": [99], \"yaxis\": \"y\", \"type\": \"bar\"}, {\"alignmentgroup\": \"True\", \"hovertemplate\": \"Name=%{x}<br>Year=2015<br>Number=%{y}<extra></extra>\", \"legendgroup\": \"NIL\", \"marker\": {\"color\": \"#636efa\"}, \"name\": \"NIL\", \"offsetgroup\": \"NIL\", \"orientation\": \"v\", \"showlegend\": true, \"textposition\": \"auto\", \"x\": [\"NIL\"], \"xaxis\": \"x\", \"y\": [88], \"yaxis\": \"y\", \"type\": \"bar\"}], \"name\": \"2015\"}, {\"data\": [{\"alignmentgroup\": \"True\", \"hovertemplate\": \"Name=%{x}<br>Year=2016<br>Number=%{y}<extra></extra>\", \"legendgroup\": \"MARC\", \"marker\": {\"color\": \"#636efa\"}, \"name\": \"MARC\", \"offsetgroup\": \"MARC\", \"orientation\": \"v\", \"showlegend\": true, \"textposition\": \"auto\", \"x\": [\"MARC\"], \"xaxis\": \"x\", \"y\": [148], \"yaxis\": \"y\", \"type\": \"bar\"}, {\"alignmentgroup\": \"True\", \"hovertemplate\": \"Name=%{x}<br>Year=2016<br>Number=%{y}<extra></extra>\", \"legendgroup\": \"POL\", \"marker\": {\"color\": \"#FF97FF\"}, \"name\": \"POL\", \"offsetgroup\": \"POL\", \"orientation\": \"v\", \"showlegend\": true, \"textposition\": \"auto\", \"x\": [\"POL\"], \"xaxis\": \"x\", \"y\": [110], \"yaxis\": \"y\", \"type\": \"bar\"}, {\"alignmentgroup\": \"True\", \"hovertemplate\": \"Name=%{x}<br>Year=2016<br>Number=%{y}<extra></extra>\", \"legendgroup\": \"ALEX\", \"marker\": {\"color\": \"#FECB52\"}, \"name\": \"ALEX\", \"offsetgroup\": \"ALEX\", \"orientation\": \"v\", \"showlegend\": true, \"textposition\": \"auto\", \"x\": [\"ALEX\"], \"xaxis\": \"x\", \"y\": [140], \"yaxis\": \"y\", \"type\": \"bar\"}, {\"alignmentgroup\": \"True\", \"hovertemplate\": \"Name=%{x}<br>Year=2016<br>Number=%{y}<extra></extra>\", \"legendgroup\": \"PAU\", \"marker\": {\"color\": \"#636efa\"}, \"name\": \"PAU\", \"offsetgroup\": \"PAU\", \"orientation\": \"v\", \"showlegend\": true, \"textposition\": \"auto\", \"x\": [\"PAU\"], \"xaxis\": \"x\", \"y\": [107], \"yaxis\": \"y\", \"type\": \"bar\"}, {\"alignmentgroup\": \"True\", \"hovertemplate\": \"Name=%{x}<br>Year=2016<br>Number=%{y}<extra></extra>\", \"legendgroup\": \"JAN\", \"marker\": {\"color\": \"#19d3f3\"}, \"name\": \"JAN\", \"offsetgroup\": \"JAN\", \"orientation\": \"v\", \"showlegend\": true, \"textposition\": \"auto\", \"x\": [\"JAN\"], \"xaxis\": \"x\", \"y\": [91], \"yaxis\": \"y\", \"type\": \"bar\"}, {\"alignmentgroup\": \"True\", \"hovertemplate\": \"Name=%{x}<br>Year=2016<br>Number=%{y}<extra></extra>\", \"legendgroup\": \"MARTI\", \"marker\": {\"color\": \"#FF6692\"}, \"name\": \"MARTI\", \"offsetgroup\": \"MARTI\", \"orientation\": \"v\", \"showlegend\": true, \"textposition\": \"auto\", \"x\": [\"MARTI\"], \"xaxis\": \"x\", \"y\": [104], \"yaxis\": \"y\", \"type\": \"bar\"}, {\"alignmentgroup\": \"True\", \"hovertemplate\": \"Name=%{x}<br>Year=2016<br>Number=%{y}<extra></extra>\", \"legendgroup\": \"ERIC\", \"marker\": {\"color\": \"#B6E880\"}, \"name\": \"ERIC\", \"offsetgroup\": \"ERIC\", \"orientation\": \"v\", \"showlegend\": true, \"textposition\": \"auto\", \"x\": [\"ERIC\"], \"xaxis\": \"x\", \"y\": [109], \"yaxis\": \"y\", \"type\": \"bar\"}, {\"alignmentgroup\": \"True\", \"hovertemplate\": \"Name=%{x}<br>Year=2016<br>Number=%{y}<extra></extra>\", \"legendgroup\": \"BIEL\", \"marker\": {\"color\": \"#FECB52\"}, \"name\": \"BIEL\", \"offsetgroup\": \"BIEL\", \"orientation\": \"v\", \"showlegend\": true, \"textposition\": \"auto\", \"x\": [\"BIEL\"], \"xaxis\": \"x\", \"y\": [99], \"yaxis\": \"y\", \"type\": \"bar\"}, {\"alignmentgroup\": \"True\", \"hovertemplate\": \"Name=%{x}<br>Year=2016<br>Number=%{y}<extra></extra>\", \"legendgroup\": \"BRUNO\", \"marker\": {\"color\": \"#EF553B\"}, \"name\": \"BRUNO\", \"offsetgroup\": \"BRUNO\", \"orientation\": \"v\", \"showlegend\": true, \"textposition\": \"auto\", \"x\": [\"BRUNO\"], \"xaxis\": \"x\", \"y\": [93], \"yaxis\": \"y\", \"type\": \"bar\"}, {\"alignmentgroup\": \"True\", \"hovertemplate\": \"Name=%{x}<br>Year=2016<br>Number=%{y}<extra></extra>\", \"legendgroup\": \"LUCAS\", \"marker\": {\"color\": \"#00cc96\"}, \"name\": \"LUCAS\", \"offsetgroup\": \"LUCAS\", \"orientation\": \"v\", \"showlegend\": true, \"textposition\": \"auto\", \"x\": [\"LUCAS\"], \"xaxis\": \"x\", \"y\": [93], \"yaxis\": \"y\", \"type\": \"bar\"}], \"name\": \"2016\"}, {\"data\": [{\"alignmentgroup\": \"True\", \"hovertemplate\": \"Name=%{x}<br>Year=2017<br>Number=%{y}<extra></extra>\", \"legendgroup\": \"MARC\", \"marker\": {\"color\": \"#636efa\"}, \"name\": \"MARC\", \"offsetgroup\": \"MARC\", \"orientation\": \"v\", \"showlegend\": true, \"textposition\": \"auto\", \"x\": [\"MARC\"], \"xaxis\": \"x\", \"y\": [133], \"yaxis\": \"y\", \"type\": \"bar\"}, {\"alignmentgroup\": \"True\", \"hovertemplate\": \"Name=%{x}<br>Year=2017<br>Number=%{y}<extra></extra>\", \"legendgroup\": \"POL\", \"marker\": {\"color\": \"#FF97FF\"}, \"name\": \"POL\", \"offsetgroup\": \"POL\", \"orientation\": \"v\", \"showlegend\": true, \"textposition\": \"auto\", \"x\": [\"POL\"], \"xaxis\": \"x\", \"y\": [139], \"yaxis\": \"y\", \"type\": \"bar\"}, {\"alignmentgroup\": \"True\", \"hovertemplate\": \"Name=%{x}<br>Year=2017<br>Number=%{y}<extra></extra>\", \"legendgroup\": \"ALEX\", \"marker\": {\"color\": \"#FECB52\"}, \"name\": \"ALEX\", \"offsetgroup\": \"ALEX\", \"orientation\": \"v\", \"showlegend\": true, \"textposition\": \"auto\", \"x\": [\"ALEX\"], \"xaxis\": \"x\", \"y\": [125], \"yaxis\": \"y\", \"type\": \"bar\"}, {\"alignmentgroup\": \"True\", \"hovertemplate\": \"Name=%{x}<br>Year=2017<br>Number=%{y}<extra></extra>\", \"legendgroup\": \"PAU\", \"marker\": {\"color\": \"#636efa\"}, \"name\": \"PAU\", \"offsetgroup\": \"PAU\", \"orientation\": \"v\", \"showlegend\": true, \"textposition\": \"auto\", \"x\": [\"PAU\"], \"xaxis\": \"x\", \"y\": [86], \"yaxis\": \"y\", \"type\": \"bar\"}, {\"alignmentgroup\": \"True\", \"hovertemplate\": \"Name=%{x}<br>Year=2017<br>Number=%{y}<extra></extra>\", \"legendgroup\": \"ARNAU\", \"marker\": {\"color\": \"#EF553B\"}, \"name\": \"ARNAU\", \"offsetgroup\": \"ARNAU\", \"orientation\": \"v\", \"showlegend\": true, \"textposition\": \"auto\", \"x\": [\"ARNAU\"], \"xaxis\": \"x\", \"y\": [79], \"yaxis\": \"y\", \"type\": \"bar\"}, {\"alignmentgroup\": \"True\", \"hovertemplate\": \"Name=%{x}<br>Year=2017<br>Number=%{y}<extra></extra>\", \"legendgroup\": \"JAN\", \"marker\": {\"color\": \"#19d3f3\"}, \"name\": \"JAN\", \"offsetgroup\": \"JAN\", \"orientation\": \"v\", \"showlegend\": true, \"textposition\": \"auto\", \"x\": [\"JAN\"], \"xaxis\": \"x\", \"y\": [85], \"yaxis\": \"y\", \"type\": \"bar\"}, {\"alignmentgroup\": \"True\", \"hovertemplate\": \"Name=%{x}<br>Year=2017<br>Number=%{y}<extra></extra>\", \"legendgroup\": \"ERIC\", \"marker\": {\"color\": \"#B6E880\"}, \"name\": \"ERIC\", \"offsetgroup\": \"ERIC\", \"orientation\": \"v\", \"showlegend\": true, \"textposition\": \"auto\", \"x\": [\"ERIC\"], \"xaxis\": \"x\", \"y\": [99], \"yaxis\": \"y\", \"type\": \"bar\"}, {\"alignmentgroup\": \"True\", \"hovertemplate\": \"Name=%{x}<br>Year=2017<br>Number=%{y}<extra></extra>\", \"legendgroup\": \"BRUNO\", \"marker\": {\"color\": \"#EF553B\"}, \"name\": \"BRUNO\", \"offsetgroup\": \"BRUNO\", \"orientation\": \"v\", \"showlegend\": true, \"textposition\": \"auto\", \"x\": [\"BRUNO\"], \"xaxis\": \"x\", \"y\": [85], \"yaxis\": \"y\", \"type\": \"bar\"}, {\"alignmentgroup\": \"True\", \"hovertemplate\": \"Name=%{x}<br>Year=2017<br>Number=%{y}<extra></extra>\", \"legendgroup\": \"LUCAS\", \"marker\": {\"color\": \"#00cc96\"}, \"name\": \"LUCAS\", \"offsetgroup\": \"LUCAS\", \"orientation\": \"v\", \"showlegend\": true, \"textposition\": \"auto\", \"x\": [\"LUCAS\"], \"xaxis\": \"x\", \"y\": [104], \"yaxis\": \"y\", \"type\": \"bar\"}, {\"alignmentgroup\": \"True\", \"hovertemplate\": \"Name=%{x}<br>Year=2017<br>Number=%{y}<extra></extra>\", \"legendgroup\": \"LEO\", \"marker\": {\"color\": \"#ab63fa\"}, \"name\": \"LEO\", \"offsetgroup\": \"LEO\", \"orientation\": \"v\", \"showlegend\": true, \"textposition\": \"auto\", \"x\": [\"LEO\"], \"xaxis\": \"x\", \"y\": [81], \"yaxis\": \"y\", \"type\": \"bar\"}], \"name\": \"2017\"}, {\"data\": [{\"alignmentgroup\": \"True\", \"hovertemplate\": \"Name=%{x}<br>Year=2018<br>Number=%{y}<extra></extra>\", \"legendgroup\": \"MARC\", \"marker\": {\"color\": \"#636efa\"}, \"name\": \"MARC\", \"offsetgroup\": \"MARC\", \"orientation\": \"v\", \"showlegend\": true, \"textposition\": \"auto\", \"x\": [\"MARC\"], \"xaxis\": \"x\", \"y\": [121], \"yaxis\": \"y\", \"type\": \"bar\"}, {\"alignmentgroup\": \"True\", \"hovertemplate\": \"Name=%{x}<br>Year=2018<br>Number=%{y}<extra></extra>\", \"legendgroup\": \"POL\", \"marker\": {\"color\": \"#FF97FF\"}, \"name\": \"POL\", \"offsetgroup\": \"POL\", \"orientation\": \"v\", \"showlegend\": true, \"textposition\": \"auto\", \"x\": [\"POL\"], \"xaxis\": \"x\", \"y\": [112], \"yaxis\": \"y\", \"type\": \"bar\"}, {\"alignmentgroup\": \"True\", \"hovertemplate\": \"Name=%{x}<br>Year=2018<br>Number=%{y}<extra></extra>\", \"legendgroup\": \"ALEX\", \"marker\": {\"color\": \"#FECB52\"}, \"name\": \"ALEX\", \"offsetgroup\": \"ALEX\", \"orientation\": \"v\", \"showlegend\": true, \"textposition\": \"auto\", \"x\": [\"ALEX\"], \"xaxis\": \"x\", \"y\": [100], \"yaxis\": \"y\", \"type\": \"bar\"}, {\"alignmentgroup\": \"True\", \"hovertemplate\": \"Name=%{x}<br>Year=2018<br>Number=%{y}<extra></extra>\", \"legendgroup\": \"PAU\", \"marker\": {\"color\": \"#636efa\"}, \"name\": \"PAU\", \"offsetgroup\": \"PAU\", \"orientation\": \"v\", \"showlegend\": true, \"textposition\": \"auto\", \"x\": [\"PAU\"], \"xaxis\": \"x\", \"y\": [91], \"yaxis\": \"y\", \"type\": \"bar\"}, {\"alignmentgroup\": \"True\", \"hovertemplate\": \"Name=%{x}<br>Year=2018<br>Number=%{y}<extra></extra>\", \"legendgroup\": \"JAN\", \"marker\": {\"color\": \"#19d3f3\"}, \"name\": \"JAN\", \"offsetgroup\": \"JAN\", \"orientation\": \"v\", \"showlegend\": true, \"textposition\": \"auto\", \"x\": [\"JAN\"], \"xaxis\": \"x\", \"y\": [79], \"yaxis\": \"y\", \"type\": \"bar\"}, {\"alignmentgroup\": \"True\", \"hovertemplate\": \"Name=%{x}<br>Year=2018<br>Number=%{y}<extra></extra>\", \"legendgroup\": \"MARTI\", \"marker\": {\"color\": \"#FF6692\"}, \"name\": \"MARTI\", \"offsetgroup\": \"MARTI\", \"orientation\": \"v\", \"showlegend\": true, \"textposition\": \"auto\", \"x\": [\"MARTI\"], \"xaxis\": \"x\", \"y\": [79], \"yaxis\": \"y\", \"type\": \"bar\"}, {\"alignmentgroup\": \"True\", \"hovertemplate\": \"Name=%{x}<br>Year=2018<br>Number=%{y}<extra></extra>\", \"legendgroup\": \"ERIC\", \"marker\": {\"color\": \"#B6E880\"}, \"name\": \"ERIC\", \"offsetgroup\": \"ERIC\", \"orientation\": \"v\", \"showlegend\": true, \"textposition\": \"auto\", \"x\": [\"ERIC\"], \"xaxis\": \"x\", \"y\": [89], \"yaxis\": \"y\", \"type\": \"bar\"}, {\"alignmentgroup\": \"True\", \"hovertemplate\": \"Name=%{x}<br>Year=2018<br>Number=%{y}<extra></extra>\", \"legendgroup\": \"BRUNO\", \"marker\": {\"color\": \"#EF553B\"}, \"name\": \"BRUNO\", \"offsetgroup\": \"BRUNO\", \"orientation\": \"v\", \"showlegend\": true, \"textposition\": \"auto\", \"x\": [\"BRUNO\"], \"xaxis\": \"x\", \"y\": [88], \"yaxis\": \"y\", \"type\": \"bar\"}, {\"alignmentgroup\": \"True\", \"hovertemplate\": \"Name=%{x}<br>Year=2018<br>Number=%{y}<extra></extra>\", \"legendgroup\": \"LUCAS\", \"marker\": {\"color\": \"#00cc96\"}, \"name\": \"LUCAS\", \"offsetgroup\": \"LUCAS\", \"orientation\": \"v\", \"showlegend\": true, \"textposition\": \"auto\", \"x\": [\"LUCAS\"], \"xaxis\": \"x\", \"y\": [99], \"yaxis\": \"y\", \"type\": \"bar\"}, {\"alignmentgroup\": \"True\", \"hovertemplate\": \"Name=%{x}<br>Year=2018<br>Number=%{y}<extra></extra>\", \"legendgroup\": \"LEO\", \"marker\": {\"color\": \"#ab63fa\"}, \"name\": \"LEO\", \"offsetgroup\": \"LEO\", \"orientation\": \"v\", \"showlegend\": true, \"textposition\": \"auto\", \"x\": [\"LEO\"], \"xaxis\": \"x\", \"y\": [86], \"yaxis\": \"y\", \"type\": \"bar\"}], \"name\": \"2018\"}, {\"data\": [{\"alignmentgroup\": \"True\", \"hovertemplate\": \"Name=%{x}<br>Year=2019<br>Number=%{y}<extra></extra>\", \"legendgroup\": \"MARC\", \"marker\": {\"color\": \"#636efa\"}, \"name\": \"MARC\", \"offsetgroup\": \"MARC\", \"orientation\": \"v\", \"showlegend\": true, \"textposition\": \"auto\", \"x\": [\"MARC\"], \"xaxis\": \"x\", \"y\": [127], \"yaxis\": \"y\", \"type\": \"bar\"}, {\"alignmentgroup\": \"True\", \"hovertemplate\": \"Name=%{x}<br>Year=2019<br>Number=%{y}<extra></extra>\", \"legendgroup\": \"POL\", \"marker\": {\"color\": \"#FF97FF\"}, \"name\": \"POL\", \"offsetgroup\": \"POL\", \"orientation\": \"v\", \"showlegend\": true, \"textposition\": \"auto\", \"x\": [\"POL\"], \"xaxis\": \"x\", \"y\": [81], \"yaxis\": \"y\", \"type\": \"bar\"}, {\"alignmentgroup\": \"True\", \"hovertemplate\": \"Name=%{x}<br>Year=2019<br>Number=%{y}<extra></extra>\", \"legendgroup\": \"ALEX\", \"marker\": {\"color\": \"#FECB52\"}, \"name\": \"ALEX\", \"offsetgroup\": \"ALEX\", \"orientation\": \"v\", \"showlegend\": true, \"textposition\": \"auto\", \"x\": [\"ALEX\"], \"xaxis\": \"x\", \"y\": [93], \"yaxis\": \"y\", \"type\": \"bar\"}, {\"alignmentgroup\": \"True\", \"hovertemplate\": \"Name=%{x}<br>Year=2019<br>Number=%{y}<extra></extra>\", \"legendgroup\": \"PAU\", \"marker\": {\"color\": \"#636efa\"}, \"name\": \"PAU\", \"offsetgroup\": \"PAU\", \"orientation\": \"v\", \"showlegend\": true, \"textposition\": \"auto\", \"x\": [\"PAU\"], \"xaxis\": \"x\", \"y\": [77], \"yaxis\": \"y\", \"type\": \"bar\"}, {\"alignmentgroup\": \"True\", \"hovertemplate\": \"Name=%{x}<br>Year=2019<br>Number=%{y}<extra></extra>\", \"legendgroup\": \"JAN\", \"marker\": {\"color\": \"#19d3f3\"}, \"name\": \"JAN\", \"offsetgroup\": \"JAN\", \"orientation\": \"v\", \"showlegend\": true, \"textposition\": \"auto\", \"x\": [\"JAN\"], \"xaxis\": \"x\", \"y\": [100], \"yaxis\": \"y\", \"type\": \"bar\"}, {\"alignmentgroup\": \"True\", \"hovertemplate\": \"Name=%{x}<br>Year=2019<br>Number=%{y}<extra></extra>\", \"legendgroup\": \"ERIC\", \"marker\": {\"color\": \"#B6E880\"}, \"name\": \"ERIC\", \"offsetgroup\": \"ERIC\", \"orientation\": \"v\", \"showlegend\": true, \"textposition\": \"auto\", \"x\": [\"ERIC\"], \"xaxis\": \"x\", \"y\": [79], \"yaxis\": \"y\", \"type\": \"bar\"}, {\"alignmentgroup\": \"True\", \"hovertemplate\": \"Name=%{x}<br>Year=2019<br>Number=%{y}<extra></extra>\", \"legendgroup\": \"NIL\", \"marker\": {\"color\": \"#636efa\"}, \"name\": \"NIL\", \"offsetgroup\": \"NIL\", \"orientation\": \"v\", \"showlegend\": true, \"textposition\": \"auto\", \"x\": [\"NIL\"], \"xaxis\": \"x\", \"y\": [77], \"yaxis\": \"y\", \"type\": \"bar\"}, {\"alignmentgroup\": \"True\", \"hovertemplate\": \"Name=%{x}<br>Year=2019<br>Number=%{y}<extra></extra>\", \"legendgroup\": \"BRUNO\", \"marker\": {\"color\": \"#EF553B\"}, \"name\": \"BRUNO\", \"offsetgroup\": \"BRUNO\", \"orientation\": \"v\", \"showlegend\": true, \"textposition\": \"auto\", \"x\": [\"BRUNO\"], \"xaxis\": \"x\", \"y\": [76], \"yaxis\": \"y\", \"type\": \"bar\"}, {\"alignmentgroup\": \"True\", \"hovertemplate\": \"Name=%{x}<br>Year=2019<br>Number=%{y}<extra></extra>\", \"legendgroup\": \"LUCAS\", \"marker\": {\"color\": \"#00cc96\"}, \"name\": \"LUCAS\", \"offsetgroup\": \"LUCAS\", \"orientation\": \"v\", \"showlegend\": true, \"textposition\": \"auto\", \"x\": [\"LUCAS\"], \"xaxis\": \"x\", \"y\": [82], \"yaxis\": \"y\", \"type\": \"bar\"}, {\"alignmentgroup\": \"True\", \"hovertemplate\": \"Name=%{x}<br>Year=2019<br>Number=%{y}<extra></extra>\", \"legendgroup\": \"LEO\", \"marker\": {\"color\": \"#ab63fa\"}, \"name\": \"LEO\", \"offsetgroup\": \"LEO\", \"orientation\": \"v\", \"showlegend\": true, \"textposition\": \"auto\", \"x\": [\"LEO\"], \"xaxis\": \"x\", \"y\": [93], \"yaxis\": \"y\", \"type\": \"bar\"}], \"name\": \"2019\"}]);\n",
       "                        }).then(function(){\n",
       "                            \n",
       "var gd = document.getElementById('2a136694-7211-45ff-97a2-66a386ebdb65');\n",
       "var x = new MutationObserver(function (mutations, observer) {{\n",
       "        var display = window.getComputedStyle(gd).display;\n",
       "        if (!display || display === 'none') {{\n",
       "            console.log([gd, 'removed!']);\n",
       "            Plotly.purge(gd);\n",
       "            observer.disconnect();\n",
       "        }}\n",
       "}});\n",
       "\n",
       "// Listen for the removal of the full notebook cells\n",
       "var notebookContainer = gd.closest('#notebook-container');\n",
       "if (notebookContainer) {{\n",
       "    x.observe(notebookContainer, {childList: true});\n",
       "}}\n",
       "\n",
       "// Listen for the clearing of the current output cell\n",
       "var outputEl = gd.closest('.output');\n",
       "if (outputEl) {{\n",
       "    x.observe(outputEl, {childList: true});\n",
       "}}\n",
       "\n",
       "                        })                };                });            </script>        </div>"
      ]
     },
     "metadata": {},
     "output_type": "display_data"
    }
   ],
   "source": [
    "px.bar(df_man, x=\"Name\", y=\"Number\", color=\"Name\",\n",
    " animation_frame=\"Year\" )"
   ]
  },
  {
   "cell_type": "code",
   "execution_count": null,
   "metadata": {},
   "outputs": [],
   "source": []
  }
 ],
 "metadata": {
  "kernelspec": {
   "display_name": "Python 3",
   "language": "python",
   "name": "python3"
  },
  "language_info": {
   "codemirror_mode": {
    "name": "ipython",
    "version": 3
   },
   "file_extension": ".py",
   "mimetype": "text/x-python",
   "name": "python",
   "nbconvert_exporter": "python",
   "pygments_lexer": "ipython3",
   "version": "3.7.9"
  }
 },
 "nbformat": 4,
 "nbformat_minor": 4
}

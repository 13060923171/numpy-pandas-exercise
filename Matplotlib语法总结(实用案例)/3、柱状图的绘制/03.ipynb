{
 "cells": [
  {
   "cell_type": "code",
   "execution_count": 1,
   "metadata": {},
   "outputs": [
    {
     "name": "stderr",
     "output_type": "stream",
     "text": [
      "C:\\Users\\eric\\Anaconda3\\lib\\importlib\\_bootstrap.py:219: RuntimeWarning: numpy.ufunc size changed, may indicate binary incompatibility. Expected 192 from C header, got 216 from PyObject\n",
      "  return f(*args, **kwds)\n"
     ]
    }
   ],
   "source": [
    "import pandas as pd\n",
    "import numpy as np\n",
    "import matplotlib.pyplot as plt"
   ]
  },
  {
   "cell_type": "code",
   "execution_count": 2,
   "metadata": {},
   "outputs": [],
   "source": [
    "plt.style.use('ggplot')"
   ]
  },
  {
   "cell_type": "code",
   "execution_count": 3,
   "metadata": {},
   "outputs": [],
   "source": [
    "data = pd.read_csv('data.csv')"
   ]
  },
  {
   "cell_type": "code",
   "execution_count": 4,
   "metadata": {},
   "outputs": [
    {
     "data": {
      "text/html": [
       "<div>\n",
       "<style scoped>\n",
       "    .dataframe tbody tr th:only-of-type {\n",
       "        vertical-align: middle;\n",
       "    }\n",
       "\n",
       "    .dataframe tbody tr th {\n",
       "        vertical-align: top;\n",
       "    }\n",
       "\n",
       "    .dataframe thead th {\n",
       "        text-align: right;\n",
       "    }\n",
       "</style>\n",
       "<table border=\"1\" class=\"dataframe\">\n",
       "  <thead>\n",
       "    <tr style=\"text-align: right;\">\n",
       "      <th></th>\n",
       "      <th>Responder_id</th>\n",
       "      <th>LanguagesWorkedWith</th>\n",
       "    </tr>\n",
       "  </thead>\n",
       "  <tbody>\n",
       "    <tr>\n",
       "      <th>0</th>\n",
       "      <td>1</td>\n",
       "      <td>HTML/CSS;Java;JavaScript;Python</td>\n",
       "    </tr>\n",
       "    <tr>\n",
       "      <th>1</th>\n",
       "      <td>2</td>\n",
       "      <td>C++;HTML/CSS;Python</td>\n",
       "    </tr>\n",
       "    <tr>\n",
       "      <th>2</th>\n",
       "      <td>3</td>\n",
       "      <td>HTML/CSS</td>\n",
       "    </tr>\n",
       "    <tr>\n",
       "      <th>3</th>\n",
       "      <td>4</td>\n",
       "      <td>C;C++;C#;Python;SQL</td>\n",
       "    </tr>\n",
       "    <tr>\n",
       "      <th>4</th>\n",
       "      <td>5</td>\n",
       "      <td>C++;HTML/CSS;Java;JavaScript;Python;SQL;VBA</td>\n",
       "    </tr>\n",
       "  </tbody>\n",
       "</table>\n",
       "</div>"
      ],
      "text/plain": [
       "   Responder_id                          LanguagesWorkedWith\n",
       "0             1              HTML/CSS;Java;JavaScript;Python\n",
       "1             2                          C++;HTML/CSS;Python\n",
       "2             3                                     HTML/CSS\n",
       "3             4                          C;C++;C#;Python;SQL\n",
       "4             5  C++;HTML/CSS;Java;JavaScript;Python;SQL;VBA"
      ]
     },
     "execution_count": 4,
     "metadata": {},
     "output_type": "execute_result"
    }
   ],
   "source": [
    "data.head()"
   ]
  },
  {
   "cell_type": "code",
   "execution_count": 5,
   "metadata": {},
   "outputs": [],
   "source": [
    "ids=data['Responder_id']"
   ]
  },
  {
   "cell_type": "code",
   "execution_count": 6,
   "metadata": {},
   "outputs": [
    {
     "data": {
      "text/plain": [
       "0            1\n",
       "1            2\n",
       "2            3\n",
       "3            4\n",
       "4            5\n",
       "5            6\n",
       "6            7\n",
       "7            8\n",
       "8            9\n",
       "9           10\n",
       "10          11\n",
       "11          12\n",
       "12          13\n",
       "13          14\n",
       "14          15\n",
       "15          16\n",
       "16          17\n",
       "17          18\n",
       "18          19\n",
       "19          20\n",
       "20          21\n",
       "21          22\n",
       "22          23\n",
       "23          24\n",
       "24          25\n",
       "25          26\n",
       "26          27\n",
       "27          28\n",
       "28          29\n",
       "29          31\n",
       "         ...  \n",
       "87539    81093\n",
       "87540    81922\n",
       "87541    81934\n",
       "87542    81994\n",
       "87543    82007\n",
       "87544    82134\n",
       "87545    82789\n",
       "87546    83000\n",
       "87547    83397\n",
       "87548    83709\n",
       "87549    83786\n",
       "87550    83862\n",
       "87551    84299\n",
       "87552    84539\n",
       "87553    85182\n",
       "87554    85396\n",
       "87555    85642\n",
       "87556    85738\n",
       "87557    85961\n",
       "87558    86012\n",
       "87559    86566\n",
       "87560    86638\n",
       "87561    87352\n",
       "87562    87386\n",
       "87563    87739\n",
       "87564    88182\n",
       "87565    88212\n",
       "87566    88282\n",
       "87567    88377\n",
       "87568    88863\n",
       "Name: Responder_id, Length: 87569, dtype: int64"
      ]
     },
     "execution_count": 6,
     "metadata": {},
     "output_type": "execute_result"
    }
   ],
   "source": [
    "ids"
   ]
  },
  {
   "cell_type": "code",
   "execution_count": 7,
   "metadata": {},
   "outputs": [
    {
     "data": {
      "text/plain": [
       "pandas.core.series.Series"
      ]
     },
     "execution_count": 7,
     "metadata": {},
     "output_type": "execute_result"
    }
   ],
   "source": [
    "type(ids)"
   ]
  },
  {
   "cell_type": "code",
   "execution_count": 8,
   "metadata": {},
   "outputs": [],
   "source": [
    "lang_responses = data['LanguagesWorkedWith']"
   ]
  },
  {
   "cell_type": "code",
   "execution_count": 9,
   "metadata": {},
   "outputs": [
    {
     "data": {
      "text/plain": [
       "0                HTML/CSS;Java;JavaScript;Python\n",
       "1                            C++;HTML/CSS;Python\n",
       "2                                       HTML/CSS\n",
       "3                            C;C++;C#;Python;SQL\n",
       "4    C++;HTML/CSS;Java;JavaScript;Python;SQL;VBA\n",
       "Name: LanguagesWorkedWith, dtype: object"
      ]
     },
     "execution_count": 9,
     "metadata": {},
     "output_type": "execute_result"
    }
   ],
   "source": [
    "lang_responses[:5]"
   ]
  },
  {
   "cell_type": "code",
   "execution_count": 10,
   "metadata": {},
   "outputs": [],
   "source": [
    "list1= [1,1,2,3,1,1,2]"
   ]
  },
  {
   "cell_type": "code",
   "execution_count": 11,
   "metadata": {},
   "outputs": [],
   "source": [
    "from collections import Counter"
   ]
  },
  {
   "cell_type": "code",
   "execution_count": 12,
   "metadata": {},
   "outputs": [],
   "source": [
    "cnt = Counter()"
   ]
  },
  {
   "cell_type": "code",
   "execution_count": 16,
   "metadata": {},
   "outputs": [],
   "source": [
    "for i in list1:\n",
    "    cnt.update(str(i))"
   ]
  },
  {
   "cell_type": "code",
   "execution_count": 18,
   "metadata": {},
   "outputs": [],
   "source": [
    "cnt= Counter()"
   ]
  },
  {
   "cell_type": "code",
   "execution_count": 19,
   "metadata": {},
   "outputs": [],
   "source": [
    "for i in lang_responses:\n",
    "    cnt.update(i.split(';'))"
   ]
  },
  {
   "cell_type": "code",
   "execution_count": 20,
   "metadata": {},
   "outputs": [
    {
     "data": {
      "text/plain": [
       "Counter({'HTML/CSS': 55466,\n",
       "         'Java': 35917,\n",
       "         'JavaScript': 59219,\n",
       "         'Python': 36443,\n",
       "         'C++': 20524,\n",
       "         'C': 18017,\n",
       "         'C#': 27097,\n",
       "         'SQL': 47544,\n",
       "         'VBA': 4781,\n",
       "         'R': 5048,\n",
       "         'Bash/Shell/PowerShell': 31991,\n",
       "         'Ruby': 7331,\n",
       "         'Rust': 2794,\n",
       "         'TypeScript': 18523,\n",
       "         'WebAssembly': 1015,\n",
       "         'Other(s):': 7920,\n",
       "         'Go': 7201,\n",
       "         'PHP': 23030,\n",
       "         'Assembly': 5833,\n",
       "         'Kotlin': 5620,\n",
       "         'Swift': 5744,\n",
       "         'Objective-C': 4191,\n",
       "         'Elixir': 1260,\n",
       "         'Erlang': 777,\n",
       "         'Clojure': 1254,\n",
       "         'F#': 973,\n",
       "         'Scala': 3309,\n",
       "         'Dart': 1683})"
      ]
     },
     "execution_count": 20,
     "metadata": {},
     "output_type": "execute_result"
    }
   ],
   "source": [
    "cnt"
   ]
  },
  {
   "cell_type": "code",
   "execution_count": 37,
   "metadata": {},
   "outputs": [],
   "source": [
    "lang =[]\n",
    "popularity = []\n",
    "for i in cnt.most_common(15):\n",
    "    lang.append(i[0])\n",
    "    popularity.append(i[1])\n",
    "    "
   ]
  },
  {
   "cell_type": "code",
   "execution_count": 25,
   "metadata": {},
   "outputs": [
    {
     "data": {
      "text/plain": [
       "['JavaScript',\n",
       " 'HTML/CSS',\n",
       " 'SQL',\n",
       " 'Python',\n",
       " 'Java',\n",
       " 'Bash/Shell/PowerShell',\n",
       " 'C#',\n",
       " 'PHP',\n",
       " 'C++',\n",
       " 'TypeScript',\n",
       " 'C',\n",
       " 'Other(s):',\n",
       " 'Ruby',\n",
       " 'Go',\n",
       " 'Assembly']"
      ]
     },
     "execution_count": 25,
     "metadata": {},
     "output_type": "execute_result"
    }
   ],
   "source": [
    "lang"
   ]
  },
  {
   "cell_type": "code",
   "execution_count": 26,
   "metadata": {},
   "outputs": [
    {
     "data": {
      "text/plain": [
       "[59219,\n",
       " 55466,\n",
       " 47544,\n",
       " 36443,\n",
       " 35917,\n",
       " 31991,\n",
       " 27097,\n",
       " 23030,\n",
       " 20524,\n",
       " 18523,\n",
       " 18017,\n",
       " 7920,\n",
       " 7331,\n",
       " 7201,\n",
       " 5833]"
      ]
     },
     "execution_count": 26,
     "metadata": {},
     "output_type": "execute_result"
    }
   ],
   "source": [
    "popularity"
   ]
  },
  {
   "cell_type": "code",
   "execution_count": 44,
   "metadata": {},
   "outputs": [
    {
     "data": {
      "text/plain": [
       "([0, 1, 2, 3, 4, 5, 6, 7, 8, 9, 10, 11, 12, 13, 14],\n",
       " <a list of 15 Text xticklabel objects>)"
      ]
     },
     "execution_count": 44,
     "metadata": {},
     "output_type": "execute_result"
    },
    {
     "data": {
      "image/png": "[encoded data removed]",
      "text/plain": [
       "<Figure size 648x432 with 1 Axes>"
      ]
     },
     "metadata": {},
     "output_type": "display_data"
    }
   ],
   "source": [
    "plt.figure(figsize=(9,6))\n",
    "plt.bar(lang,popularity)\n",
    "plt.rcParams['font.sans-serif'] = ['SimHei']\n",
    "plt.title(\"最受欢迎的语言\")\n",
    "plt.xlabel(\"最喜欢的编程语言\")\n",
    "plt.ylabel(\"人次\")\n",
    "plt.xticks(rotation=65)"
   ]
  },
  {
   "cell_type": "code",
   "execution_count": 34,
   "metadata": {},
   "outputs": [
    {
     "data": {
      "text/plain": [
       "Text(0, 0.5, '人次')"
      ]
     },
     "execution_count": 34,
     "metadata": {},
     "output_type": "execute_result"
    },
    {
     "data": {
      "image/png": "[encoded data removed]",
      "text/plain": [
       "<Figure size 864x648 with 1 Axes>"
      ]
     },
     "metadata": {},
     "output_type": "display_data"
    }
   ],
   "source": [
    "lang.reverse()\n",
    "popularity.reverse()\n",
    "plt.figure(figsize=(12,9))\n",
    "plt.barh(lang,popularity)\n",
    "plt.rcParams['font.sans-serif'] = ['SimHei']\n",
    "plt.title(\"最受欢迎的语言\")\n",
    "plt.xlabel(\"最喜欢的编程语言\")\n",
    "plt.ylabel(\"人次\")"
   ]
  },
  {
   "cell_type": "code",
   "execution_count": null,
   "metadata": {},
   "outputs": [],
   "source": []
  }
 ],
 "metadata": {
  "kernelspec": {
   "display_name": "Python 3",
   "language": "python",
   "name": "python3"
  },
  "language_info": {
   "codemirror_mode": {
    "name": "ipython",
    "version": 3
   },
   "file_extension": ".py",
   "mimetype": "text/x-python",
   "name": "python",
   "nbconvert_exporter": "python",
   "pygments_lexer": "ipython3",
   "version": "3.7.3"
  }
 },
 "nbformat": 4,
 "nbformat_minor": 2
}

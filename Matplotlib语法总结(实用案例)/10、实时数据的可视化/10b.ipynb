{
 "cells": [
  {
   "cell_type": "code",
   "execution_count": 1,
   "metadata": {},
   "outputs": [],
   "source": [
    "import csv\n",
    "import random\n",
    "import time"
   ]
  },
  {
   "cell_type": "code",
   "execution_count": 2,
   "metadata": {},
   "outputs": [],
   "source": [
    "x_value = 0\n",
    "y1 = 1000\n",
    "y2 = 1000\n"
   ]
  },
  {
   "cell_type": "code",
   "execution_count": 3,
   "metadata": {},
   "outputs": [],
   "source": [
    "fieldname=[\"x\",\"y1\",\"y2\"]"
   ]
  },
  {
   "cell_type": "code",
   "execution_count": 11,
   "metadata": {},
   "outputs": [],
   "source": [
    "with open('data.txt','w') as csvfile:\n",
    "    csv_w = csv.DictWriter(csvfile,fieldnames=fieldname)\n",
    "    csv_w.writeheader()"
   ]
  },
  {
   "cell_type": "code",
   "execution_count": null,
   "metadata": {},
   "outputs": [],
   "source": [
    "while True:\n",
    "    with open('data.txt','a') as csvfile:\n",
    "        csv_w = csv.DictWriter(csvfile,fieldnames=fieldname)\n",
    "        info = {\n",
    "            \"x\" : x_value,\n",
    "            \"y1\" : y1 ,\n",
    "            \"y2\" : y2 ,\n",
    "        }\n",
    "        x_value += 1\n",
    "        y1 = y1 + random.randint(-6,10)\n",
    "        y2 = y2 + random.randint(-4,5)\n",
    "        csv_w.writerow(info)\n",
    "    time.sleep(1)\n",
    "    \n",
    "    "
   ]
  },
  {
   "cell_type": "code",
   "execution_count": 7,
   "metadata": {},
   "outputs": [],
   "source": [
    "\n",
    "    \n",
    "    \n",
    "    \n",
    "    "
   ]
  },
  {
   "cell_type": "code",
   "execution_count": null,
   "metadata": {},
   "outputs": [],
   "source": []
  }
 ],
 "metadata": {
  "kernelspec": {
   "display_name": "Python 3",
   "language": "python",
   "name": "python3"
  },
  "language_info": {
   "codemirror_mode": {
    "name": "ipython",
    "version": 3
   },
   "file_extension": ".py",
   "mimetype": "text/x-python",
   "name": "python",
   "nbconvert_exporter": "python",
   "pygments_lexer": "ipython3",
   "version": "3.7.3"
  }
 },
 "nbformat": 4,
 "nbformat_minor": 2
}
